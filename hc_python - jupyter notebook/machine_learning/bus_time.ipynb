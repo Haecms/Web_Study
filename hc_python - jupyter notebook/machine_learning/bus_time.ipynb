{
 "cells": [
  {
   "cell_type": "code",
   "execution_count": 1,
   "id": "2f9e9374",
   "metadata": {},
   "outputs": [],
   "source": [
    "from selenium import webdriver\n",
    "from selenium.webdriver.common.by import By\n",
    "from selenium.webdriver.common.keys import Keys\n",
    "from bs4 import BeautifulSoup\n",
    "from selenium.webdriver import ActionChains\n",
    "import time\n",
    "import selenium\n",
    "import pyautogui"
   ]
  },
  {
   "cell_type": "code",
   "execution_count": 2,
   "id": "18bda118",
   "metadata": {},
   "outputs": [],
   "source": [
    "#파이썬 코드로 제어할 수 있는 네이버맵 창이 열림\n",
    "wd = webdriver.Chrome()\n",
    "url = \"https://map.naver.com/\"\n",
    "wd.get(url) "
   ]
  },
  {
   "cell_type": "code",
   "execution_count": 3,
   "id": "5cad51e3",
   "metadata": {},
   "outputs": [],
   "source": [
    "# 검색창에 버스번호를 치고 엔터 클릭됨\n",
    "searchbox=wd.find_element(By.XPATH,\"/html/body/app/layout/div[3]/div[2]/shrinkable-layout/div/app-base/search-input-box/div/div/div/input\")\n",
    "searchbox.send_keys(\"36\")\n",
    "searchbox.send_keys(Keys.ENTER)\n",
    "time.sleep(2)"
   ]
  },
  {
   "cell_type": "code",
   "execution_count": 4,
   "id": "c78037d0",
   "metadata": {},
   "outputs": [],
   "source": [
    "# 목록 중에서 특정 단어가 들어가면 바로 클릭하는 로직\n",
    "bus_list = []\n",
    "css_selector = \"\"\n",
    "html = wd.page_source\n",
    "soup = BeautifulSoup(html, \"html.parser\")\n",
    "bus_lists = soup.find_all(name=\"div\",attrs={\"class\":\"search_result_content_area\"}) # 페이지에 몇 개의 리스트가 있는지\n",
    "len(bus_lists)\n",
    "for i in range(len(bus_lists)):\n",
    "    #bus_list.append(soup.find(name=\"div\",attrs={\"class\":\"search_result_content_area\"}))\n",
    "    bus_list.append(soup.select(f\"#container > shrinkable-layout > div > app-base > search-layout > div.main.-top_space.ng-star-inserted > combined-search-list > fusion-search-list > fusion-bus-route-list > div > fusion-bus-route-item:nth-child({i+1})\"))\n",
    "    if '부산' in str(bus_list[i]):\n",
    "        css_selector = f\"#container > shrinkable-layout > div > app-base > search-layout > div.main.-top_space.ng-star-inserted > combined-search-list > fusion-search-list > fusion-bus-route-list > div > fusion-bus-route-item:nth-child({i+1})\"\n",
    "        break\n",
    "\n",
    "elem = wd.find_element(By.CSS_SELECTOR, css_selector)\n",
    "elem.click()\n",
    "#container > shrinkable-layout > div > app-base > search-layout > div.main.-top_space.ng-star-inserted > combined-search-list > fusion-search-list > fusion-bus-route-list > div > fusion-bus-route-item:nth-child(2)\n",
    "#container > shrinkable-layout > div > app-base > search-layout > div.main.-top_space.ng-star-inserted > combined-search-list > fusion-search-list > fusion-bus-route-list > div > fusion-bus-route-item:nth-child({i+1}) > div\n",
    "#container > shrinkable-layout > div > app-base > search-layout > div.main.-top_space.ng-star-inserted > combined-search-list > fusion-search-list > fusion-bus-route-list > div > fusion-bus-route-item:nth-child(3)\n",
    "#container > shrinkable-layout > div > app-base > search-layout > div.main.-top_space.ng-star-inserted > combined-search-list > fusion-search-list > fusion-bus-route-list > div > fusion-bus-route-item:nth-child(4)"
   ]
  },
  {
   "cell_type": "code",
   "execution_count": 5,
   "id": "b1a8f0dd",
   "metadata": {},
   "outputs": [],
   "source": [
    "from selenium.webdriver import ActionChains\n",
    "html = wd.page_source\n",
    "some_tag = wd.find_element(By.CLASS_NAME, 'suggest_area')\n",
    "\n",
    "# somthing element 까지 스크롤\n",
    "for i in range(5):\n",
    "    action = (ActionChains(wd).move_to_element(some_tag)).perform()\n",
    "    time.sleep(0.5)\n"
   ]
  },
  {
   "cell_type": "code",
   "execution_count": 6,
   "id": "00296272",
   "metadata": {},
   "outputs": [
    {
     "name": "stdout",
     "output_type": "stream",
     "text": [
      "완료\n"
     ]
    }
   ],
   "source": [
    "# 클릭해서 새로운 화면이 나와서 다시 주소를 받아야 함\n",
    "# 현재 클릭한 버스의 모든 정류장이 나옴\n",
    "element = {} # 정류장과 정류장번호\n",
    "memory = \"\"\n",
    "x_path = \"\"\n",
    "state = \"LAST\"\n",
    "html = wd.page_source\n",
    "soup = BeautifulSoup(html, \"html.parser\")\n",
    "bus_stop_ids = soup.find_all(name=\"span\",attrs={\"class\":\"route_id\"}) # 정류장 번호\n",
    "\n",
    "for i in range (len(bus_stop_ids)):\n",
    "    try:\n",
    "        element[(wd.find_element(By.XPATH,f\"/html/body/app/layout/div[3]/div[2]/shrinkable-layout/div/app-base/search-layout/div[2]/entry-layout/entry-bus-route/div[1]/div[3]/div/div[1]/div[2]/ul/li[{i+1}]/a/span[2]/strong\")).text]= bus_stop_ids[i].text\n",
    "        memory = f\"/html/body/app/layout/div[3]/div[2]/shrinkable-layout/div/app-base/search-layout/div[2]/entry-layout/entry-bus-route/div[1]/div[3]/div/div[1]/div[2]/ul/li[{i+1}]/a/span[2]/strong\"\n",
    "    except:\n",
    "        try:\n",
    "            element[(wd.find_element(By.XPATH,f\"/html/body/app/layout/div[3]/div[2]/shrinkable-layout/div/app-base/search-layout/div[2]/entry-layout/entry-bus-route/div[1]/div[2]/div/div[1]/div[2]/ul/li[{i+1}]/a/span[2]/strong\")).text]= bus_stop_ids[i].text\n",
    "            memory = f\"/html/body/app/layout/div[3]/div[2]/shrinkable-layout/div/app-base/search-layout/div[2]/entry-layout/entry-bus-route/div[1]/div[2]/div/div[1]/div[2]/ul/li[{i+1}]/a/span[2]/strong\"\n",
    "        except:\n",
    "            print(\"실패\")\n",
    "        \n",
    "    if (wd.find_element(By.XPATH, memory).text == \"안평.고촌\"):\n",
    "        if state == \"LAST\":\n",
    "            state = \"FIRST\"\n",
    "            continue\n",
    "        time.sleep(1)\n",
    "        button = wd.find_element(By.XPATH, memory)\n",
    "        ActionChains(wd).click(button).perform()\n",
    "        break;"
   ]
  },
  {
   "cell_type": "code",
   "execution_count": 8,
   "id": "19e703cd",
   "metadata": {},
   "outputs": [
    {
     "data": {
      "text/plain": [
       "['36',\n",
       " '17분 15정류장 / 45분 35정류장 / ',\n",
       " '73',\n",
       " '운행정보없음',\n",
       " '73(아침)',\n",
       " '55분 38정류장 / ',\n",
       " '183',\n",
       " '13분 9정류장 / 23분 18정류장 / ',\n",
       " '183(심야)',\n",
       " '운행정보없음']"
      ]
     },
     "execution_count": 8,
     "metadata": {},
     "output_type": "execute_result"
    }
   ],
   "source": [
    "html = wd.page_source\n",
    "soup = BeautifulSoup(html, \"html.parser\")\n",
    "bus_times = wd.find_element(By.XPATH, \"/html/body/div[1]/div[1]/div/div[2]/div/div[3]/div[3]/div/div/div[1]/div/div/div[2]/div\")\n",
    "bus_times = bus_times.text.replace(\"저장\",\"\").replace(\" \",\"\").replace(\"출발도착\", \"\").split()\n",
    "cur_bus_times = []\n",
    "for i in range(len(bus_times)):\n",
    "    cur_bus_times.append(bus_times[i].replace(\"착\", \"착 \").replace(\"장\",\"장 / \").replace(\"분\",\"분 \"))\n",
    "    \n",
    "cur_bus_times\n",
    "#(((bus_times.text.replace(\" \",\"\")).split()))\n",
    " #replace(\"저장\",\" \")).replace(\"출발도착\",\"\")).split())"
   ]
  },
  {
   "cell_type": "code",
   "execution_count": 6,
   "id": "ca361523",
   "metadata": {},
   "outputs": [],
   "source": [
    "pyautogui.moveTo(700, 550)"
   ]
  },
  {
   "cell_type": "code",
   "execution_count": 23,
   "id": "9df1f636",
   "metadata": {},
   "outputs": [
    {
     "name": "stdout",
     "output_type": "stream",
     "text": [
      "['36', '6분 5정류장 / 24분 19정류장 / ', '73', '46분 34정류장 / ', '73(아침)', '운행정보없음', '183', '10분 8정류장 / 31분 27정류장 / ', '183(심야)', '운행정보없음']\n",
      "['36', '6분 5정류장 / 23분 18정류장 / ', '73', '46분 34정류장 / ', '73(아침)', '운행정보없음', '183', '9분 8정류장 / 30분 27정류장 / ', '183(심야)', '운행정보없음']\n",
      "['36', '6분 5정류장 / 23분 18정류장 / ', '73', '46분 34정류장 / ', '73(아침)', '운행정보없음', '183', '9분 8정류장 / 30분 27정류장 / ', '183(심야)', '운행정보없음']\n",
      "['36', '6분 5정류장 / 23분 18정류장 / ', '73', '45분 33정류장 / ', '73(아침)', '운행정보없음', '183', '9분 7정류장 / 29분 25정류장 / ', '183(심야)', '운행정보없음']\n",
      "['36', '6분 5정류장 / 23분 18정류장 / ', '73', '45분 33정류장 / ', '73(아침)', '운행정보없음', '183', '9분 7정류장 / 29분 25정류장 / ', '183(심야)', '운행정보없음']\n",
      "['36', '6분 5정류장 / 23분 18정류장 / ', '73', '44분 33정류장 / ', '73(아침)', '운행정보없음', '183', '8분 7정류장 / 29분 25정류장 / ', '183(심야)', '운행정보없음']\n",
      "['36', '6분 5정류장 / 23분 18정류장 / ', '73', '44분 33정류장 / ', '73(아침)', '운행정보없음', '183', '8분 7정류장 / 29분 25정류장 / ', '183(심야)', '운행정보없음']\n",
      "['36', '5분 5정류장 / 23분 18정류장 / ', '73', '44분 33정류장 / ', '73(아침)', '운행정보없음', '183', '8분 6정류장 / 29분 25정류장 / ', '183(심야)', '운행정보없음']\n",
      "['36', '5분 5정류장 / 23분 17정류장 / ', '73', '44분 33정류장 / ', '73(아침)', '운행정보없음', '183', '8분 6정류장 / 29분 25정류장 / ', '183(심야)', '운행정보없음']\n",
      "['36', '4분 4정류장 / 23분 17정류장 / ', '73', '44분 33정류장 / ', '73(아침)', '운행정보없음', '183', '8분 6정류장 / 28분 24정류장 / ', '183(심야)', '운행정보없음']\n",
      "['36', '4분 4정류장 / 22분 17정류장 / ', '73', '44분 32정류장 / ', '73(아침)', '운행정보없음', '183', '7분 6정류장 / 28분 24정류장 / ', '183(심야)', '운행정보없음']\n",
      "['36', '4분 4정류장 / 22분 17정류장 / ', '73', '44분 32정류장 / ', '73(아침)', '운행정보없음', '183', '7분 6정류장 / 28분 24정류장 / ', '183(심야)', '운행정보없음']\n",
      "['36', '3분 3정류장 / 22분 17정류장 / ', '73', '44분 32정류장 / ', '73(아침)', '운행정보없음', '183', '7분 6정류장 / 28분 24정류장 / ', '183(심야)', '운행정보없음']\n",
      "['36', '3분 3정류장 / 22분 17정류장 / ', '73', '43분 31정류장 / ', '73(아침)', '운행정보없음', '183', '6분 5정류장 / 28분 24정류장 / ', '183(심야)', '운행정보없음']\n",
      "['36', '3분 3정류장 / 21분 16정류장 / ', '73', '43분 31정류장 / ', '73(아침)', '운행정보없음', '183', '6분 5정류장 / 28분 24정류장 / ', '183(심야)', '운행정보없음']\n",
      "['36', '3분 3정류장 / 21분 16정류장 / ', '73', '42분 30정류장 / ', '73(아침)', '운행정보없음', '183', '6분 5정류장 / 27분 23정류장 / ', '183(심야)', '운행정보없음']\n",
      "['36', '3분 3정류장 / 21분 15정류장 / ', '73', '42분 30정류장 / ', '73(아침)', '운행정보없음', '183', '6분 5정류장 / 26분 23정류장 / ', '183(심야)', '운행정보없음']\n",
      "['36', '3분 3정류장 / 21분 15정류장 / ', '73', '43분 30정류장 / ', '73(아침)', '운행정보없음', '183', '6분 5정류장 / 27분 23정류장 / ', '183(심야)', '운행정보없음']\n",
      "['36', '3분 3정류장 / 21분 15정류장 / ', '73', '42분 30정류장 / ', '73(아침)', '운행정보없음', '183', '6분 5정류장 / 26분 22정류장 / ', '183(심야)', '운행정보없음']\n",
      "['36', '3분 3정류장 / 21분 15정류장 / ', '73', '42분 30정류장 / ', '73(아침)', '운행정보없음', '183', '6분 5정류장 / 26분 22정류장 / ', '183(심야)', '운행정보없음']\n",
      "['36', '3분 3정류장 / 21분 15정류장 / ', '73', '42분 30정류장 / ', '73(아침)', '운행정보없음', '183', '6분 5정류장 / 26분 22정류장 / ', '183(심야)', '운행정보없음']\n",
      "['36', '3분 3정류장 / 21분 15정류장 / ', '73', '42분 30정류장 / ', '73(아침)', '운행정보없음', '183', '6분 5정류장 / 26분 22정류장 / ', '183(심야)', '운행정보없음']\n",
      "['36', '2분 2정류장 / 21분 15정류장 / ', '73', '41분 29정류장 / ', '73(아침)', '운행정보없음', '183', '5분 5정류장 / 26분 22정류장 / ', '183(심야)', '운행정보없음']\n",
      "['36', '2분 2정류장 / 20분 15정류장 / ', '73', '41분 29정류장 / ', '73(아침)', '운행정보없음', '183', '5분 5정류장 / 24분 22정류장 / ', '183(심야)', '운행정보없음']\n",
      "['36', '2분 2정류장 / 20분 14정류장 / ', '73', '40분 29정류장 / ', '73(아침)', '운행정보없음', '183', '5분 5정류장 / 24분 22정류장 / ', '183(심야)', '운행정보없음']\n",
      "['출발', '36', '곧도착 1정류장 / ', '73', '73(아침)', '운행정보없음', '183', '5분 5정류장 / ', '183(심야)', '운행정보없음']\n"
     ]
    },
    {
     "ename": "NoSuchElementException",
     "evalue": "Message: no such element: Unable to locate element: {\"method\":\"css selector\",\"selector\":\".suggest_area\"}\n  (Session info: chrome=114.0.5735.248); For documentation on this error, please visit: https://www.selenium.dev/documentation/webdriver/troubleshooting/errors#no-such-element-exception\nStacktrace:\nBacktrace:\n\tGetHandleVerifier [0x00B7A813+48355]\n\t(No symbol) [0x00B0C4B1]\n\t(No symbol) [0x00A15358]\n\t(No symbol) [0x00A409A5]\n\t(No symbol) [0x00A40B3B]\n\t(No symbol) [0x00A6E232]\n\t(No symbol) [0x00A5A784]\n\t(No symbol) [0x00A6C922]\n\t(No symbol) [0x00A5A536]\n\t(No symbol) [0x00A382DC]\n\t(No symbol) [0x00A393DD]\n\tGetHandleVerifier [0x00DDAABD+2539405]\n\tGetHandleVerifier [0x00E1A78F+2800735]\n\tGetHandleVerifier [0x00E1456C+2775612]\n\tGetHandleVerifier [0x00C051E0+616112]\n\t(No symbol) [0x00B15F8C]\n\t(No symbol) [0x00B12328]\n\t(No symbol) [0x00B1240B]\n\t(No symbol) [0x00B04FF7]\n\tBaseThreadInitThunk [0x768800C9+25]\n\tRtlGetAppContainerNamedObjectPath [0x77387B1E+286]\n\tRtlGetAppContainerNamedObjectPath [0x77387AEE+238]\n",
     "output_type": "error",
     "traceback": [
      "\u001b[1;31m---------------------------------------------------------------------------\u001b[0m",
      "\u001b[1;31mNoSuchElementException\u001b[0m                    Traceback (most recent call last)",
      "Cell \u001b[1;32mIn[23], line 41\u001b[0m\n\u001b[0;32m     39\u001b[0m \u001b[38;5;28;01mwhile\u001b[39;00m \u001b[38;5;28;01mTrue\u001b[39;00m:\n\u001b[0;32m     40\u001b[0m     time\u001b[38;5;241m.\u001b[39msleep(\u001b[38;5;241m1\u001b[39m)\n\u001b[1;32m---> 41\u001b[0m     some_tag \u001b[38;5;241m=\u001b[39m \u001b[43mwd\u001b[49m\u001b[38;5;241;43m.\u001b[39;49m\u001b[43mfind_element\u001b[49m\u001b[43m(\u001b[49m\u001b[43mBy\u001b[49m\u001b[38;5;241;43m.\u001b[39;49m\u001b[43mCLASS_NAME\u001b[49m\u001b[43m,\u001b[49m\u001b[43m \u001b[49m\u001b[38;5;124;43m'\u001b[39;49m\u001b[38;5;124;43msuggest_area\u001b[39;49m\u001b[38;5;124;43m'\u001b[39;49m\u001b[43m)\u001b[49m\n\u001b[0;32m     43\u001b[0m     \u001b[38;5;66;03m# somthing element 까지 스크롤\u001b[39;00m\n\u001b[0;32m     44\u001b[0m     \u001b[38;5;28;01mfor\u001b[39;00m i \u001b[38;5;129;01min\u001b[39;00m \u001b[38;5;28mrange\u001b[39m(\u001b[38;5;241m5\u001b[39m):\n",
      "File \u001b[1;32m~\\AppData\\Roaming\\Python\\Python38\\site-packages\\selenium\\webdriver\\remote\\webdriver.py:740\u001b[0m, in \u001b[0;36mWebDriver.find_element\u001b[1;34m(self, by, value)\u001b[0m\n\u001b[0;32m    737\u001b[0m     by \u001b[38;5;241m=\u001b[39m By\u001b[38;5;241m.\u001b[39mCSS_SELECTOR\n\u001b[0;32m    738\u001b[0m     value \u001b[38;5;241m=\u001b[39m \u001b[38;5;124mf\u001b[39m\u001b[38;5;124m'\u001b[39m\u001b[38;5;124m[name=\u001b[39m\u001b[38;5;124m\"\u001b[39m\u001b[38;5;132;01m{\u001b[39;00mvalue\u001b[38;5;132;01m}\u001b[39;00m\u001b[38;5;124m\"\u001b[39m\u001b[38;5;124m]\u001b[39m\u001b[38;5;124m'\u001b[39m\n\u001b[1;32m--> 740\u001b[0m \u001b[38;5;28;01mreturn\u001b[39;00m \u001b[38;5;28;43mself\u001b[39;49m\u001b[38;5;241;43m.\u001b[39;49m\u001b[43mexecute\u001b[49m\u001b[43m(\u001b[49m\u001b[43mCommand\u001b[49m\u001b[38;5;241;43m.\u001b[39;49m\u001b[43mFIND_ELEMENT\u001b[49m\u001b[43m,\u001b[49m\u001b[43m \u001b[49m\u001b[43m{\u001b[49m\u001b[38;5;124;43m\"\u001b[39;49m\u001b[38;5;124;43musing\u001b[39;49m\u001b[38;5;124;43m\"\u001b[39;49m\u001b[43m:\u001b[49m\u001b[43m \u001b[49m\u001b[43mby\u001b[49m\u001b[43m,\u001b[49m\u001b[43m \u001b[49m\u001b[38;5;124;43m\"\u001b[39;49m\u001b[38;5;124;43mvalue\u001b[39;49m\u001b[38;5;124;43m\"\u001b[39;49m\u001b[43m:\u001b[49m\u001b[43m \u001b[49m\u001b[43mvalue\u001b[49m\u001b[43m}\u001b[49m\u001b[43m)\u001b[49m[\u001b[38;5;124m\"\u001b[39m\u001b[38;5;124mvalue\u001b[39m\u001b[38;5;124m\"\u001b[39m]\n",
      "File \u001b[1;32m~\\AppData\\Roaming\\Python\\Python38\\site-packages\\selenium\\webdriver\\remote\\webdriver.py:346\u001b[0m, in \u001b[0;36mWebDriver.execute\u001b[1;34m(self, driver_command, params)\u001b[0m\n\u001b[0;32m    344\u001b[0m response \u001b[38;5;241m=\u001b[39m \u001b[38;5;28mself\u001b[39m\u001b[38;5;241m.\u001b[39mcommand_executor\u001b[38;5;241m.\u001b[39mexecute(driver_command, params)\n\u001b[0;32m    345\u001b[0m \u001b[38;5;28;01mif\u001b[39;00m response:\n\u001b[1;32m--> 346\u001b[0m     \u001b[38;5;28;43mself\u001b[39;49m\u001b[38;5;241;43m.\u001b[39;49m\u001b[43merror_handler\u001b[49m\u001b[38;5;241;43m.\u001b[39;49m\u001b[43mcheck_response\u001b[49m\u001b[43m(\u001b[49m\u001b[43mresponse\u001b[49m\u001b[43m)\u001b[49m\n\u001b[0;32m    347\u001b[0m     response[\u001b[38;5;124m\"\u001b[39m\u001b[38;5;124mvalue\u001b[39m\u001b[38;5;124m\"\u001b[39m] \u001b[38;5;241m=\u001b[39m \u001b[38;5;28mself\u001b[39m\u001b[38;5;241m.\u001b[39m_unwrap_value(response\u001b[38;5;241m.\u001b[39mget(\u001b[38;5;124m\"\u001b[39m\u001b[38;5;124mvalue\u001b[39m\u001b[38;5;124m\"\u001b[39m, \u001b[38;5;28;01mNone\u001b[39;00m))\n\u001b[0;32m    348\u001b[0m     \u001b[38;5;28;01mreturn\u001b[39;00m response\n",
      "File \u001b[1;32m~\\AppData\\Roaming\\Python\\Python38\\site-packages\\selenium\\webdriver\\remote\\errorhandler.py:245\u001b[0m, in \u001b[0;36mErrorHandler.check_response\u001b[1;34m(self, response)\u001b[0m\n\u001b[0;32m    243\u001b[0m         alert_text \u001b[38;5;241m=\u001b[39m value[\u001b[38;5;124m\"\u001b[39m\u001b[38;5;124malert\u001b[39m\u001b[38;5;124m\"\u001b[39m]\u001b[38;5;241m.\u001b[39mget(\u001b[38;5;124m\"\u001b[39m\u001b[38;5;124mtext\u001b[39m\u001b[38;5;124m\"\u001b[39m)\n\u001b[0;32m    244\u001b[0m     \u001b[38;5;28;01mraise\u001b[39;00m exception_class(message, screen, stacktrace, alert_text)  \u001b[38;5;66;03m# type: ignore[call-arg]  # mypy is not smart enough here\u001b[39;00m\n\u001b[1;32m--> 245\u001b[0m \u001b[38;5;28;01mraise\u001b[39;00m exception_class(message, screen, stacktrace)\n",
      "\u001b[1;31mNoSuchElementException\u001b[0m: Message: no such element: Unable to locate element: {\"method\":\"css selector\",\"selector\":\".suggest_area\"}\n  (Session info: chrome=114.0.5735.248); For documentation on this error, please visit: https://www.selenium.dev/documentation/webdriver/troubleshooting/errors#no-such-element-exception\nStacktrace:\nBacktrace:\n\tGetHandleVerifier [0x00B7A813+48355]\n\t(No symbol) [0x00B0C4B1]\n\t(No symbol) [0x00A15358]\n\t(No symbol) [0x00A409A5]\n\t(No symbol) [0x00A40B3B]\n\t(No symbol) [0x00A6E232]\n\t(No symbol) [0x00A5A784]\n\t(No symbol) [0x00A6C922]\n\t(No symbol) [0x00A5A536]\n\t(No symbol) [0x00A382DC]\n\t(No symbol) [0x00A393DD]\n\tGetHandleVerifier [0x00DDAABD+2539405]\n\tGetHandleVerifier [0x00E1A78F+2800735]\n\tGetHandleVerifier [0x00E1456C+2775612]\n\tGetHandleVerifier [0x00C051E0+616112]\n\t(No symbol) [0x00B15F8C]\n\t(No symbol) [0x00B12328]\n\t(No symbol) [0x00B1240B]\n\t(No symbol) [0x00B04FF7]\n\tBaseThreadInitThunk [0x768800C9+25]\n\tRtlGetAppContainerNamedObjectPath [0x77387B1E+286]\n\tRtlGetAppContainerNamedObjectPath [0x77387AEE+238]\n"
     ]
    }
   ],
   "source": [
    "from selenium import webdriver\n",
    "from selenium.webdriver.common.by import By\n",
    "from selenium.webdriver.common.keys import Keys\n",
    "from bs4 import BeautifulSoup\n",
    "from selenium.webdriver import ActionChains\n",
    "import time\n",
    "import selenium\n",
    "import pyautogui\n",
    "\n",
    "#파이썬 코드로 제어할 수 있는 네이버맵 창이 열림\n",
    "wd = webdriver.Chrome()\n",
    "url = \"https://map.naver.com/\"\n",
    "wd.get(url) \n",
    "time.sleep(5)\n",
    "\n",
    "# 검색창에 버스번호를 치고 엔터 클릭됨\n",
    "searchbox=wd.find_element(By.XPATH,\"/html/body/app/layout/div[3]/div[2]/shrinkable-layout/div/app-base/search-input-box/div/div/div/input\")\n",
    "searchbox.send_keys(\"36\")\n",
    "searchbox.send_keys(Keys.ENTER)\n",
    "time.sleep(2)\n",
    "\n",
    "# 목록 중에서 특정 단어가 들어가면 바로 클릭하는 로직\n",
    "bus_list = []\n",
    "css_selector = \"\"\n",
    "html = wd.page_source\n",
    "soup = BeautifulSoup(html, \"html.parser\")\n",
    "bus_lists = soup.find_all(name=\"div\",attrs={\"class\":\"search_result_content_area\"}) # 페이지에 몇 개의 리스트가 있는지\n",
    "len(bus_lists)\n",
    "for i in range(len(bus_lists)):\n",
    "    #bus_list.append(soup.find(name=\"div\",attrs={\"class\":\"search_result_content_area\"}))\n",
    "    bus_list.append(soup.select(f\"#container > shrinkable-layout > div > app-base > search-layout > div.main.-top_space.ng-star-inserted > combined-search-list > fusion-search-list > fusion-bus-route-list > div > fusion-bus-route-item:nth-child({i+1})\"))\n",
    "    if '부산' in str(bus_list[i]):\n",
    "        css_selector = f\"#container > shrinkable-layout > div > app-base > search-layout > div.main.-top_space.ng-star-inserted > combined-search-list > fusion-search-list > fusion-bus-route-list > div > fusion-bus-route-item:nth-child({i+1})\"\n",
    "        break\n",
    "elem = wd.find_element(By.CSS_SELECTOR, css_selector)\n",
    "elem.click()\n",
    "\n",
    "\n",
    "while True:\n",
    "    time.sleep(1)\n",
    "    some_tag = wd.find_element(By.CLASS_NAME, 'suggest_area')\n",
    "\n",
    "    # somthing element 까지 스크롤\n",
    "    for i in range(5):\n",
    "        action = (ActionChains(wd).move_to_element(some_tag)).perform()\n",
    "        time.sleep(0.5)\n",
    "    \n",
    "# 클릭해서 새로운 화면이 나와서 다시 주소를 받아야 함\n",
    "# 현재 클릭한 버스의 모든 정류장이 나옴\n",
    "    element = {} # 정류장과 정류장번호\n",
    "    memory = \"\"\n",
    "    x_path = \"\"\n",
    "    state = \"FIRST\"\n",
    "    html = wd.page_source\n",
    "    soup = BeautifulSoup(html, \"html.parser\")\n",
    "    bus_stop_ids = soup.find_all(name=\"span\",attrs={\"class\":\"route_id\"}) # 정류장 번호\n",
    "\n",
    "    for i in range (len(bus_stop_ids)):\n",
    "        try:\n",
    "            element[(wd.find_element(By.XPATH,f\"/html/body/app/layout/div[3]/div[2]/shrinkable-layout/div/app-base/search-layout/div[2]/entry-layout/entry-bus-route/div[1]/div[3]/div/div[1]/div[2]/ul/li[{i+1}]/a/span[2]/strong\")).text]= bus_stop_ids[i].text\n",
    "            memory = f\"/html/body/app/layout/div[3]/div[2]/shrinkable-layout/div/app-base/search-layout/div[2]/entry-layout/entry-bus-route/div[1]/div[3]/div/div[1]/div[2]/ul/li[{i+1}]/a/span[2]/strong\"\n",
    "        except:\n",
    "            try:\n",
    "                element[(wd.find_element(By.XPATH,f\"/html/body/app/layout/div[3]/div[2]/shrinkable-layout/div/app-base/search-layout/div[2]/entry-layout/entry-bus-route/div[1]/div[2]/div/div[1]/div[2]/ul/li[{i+1}]/a/span[2]/strong\")).text]= bus_stop_ids[i].text\n",
    "                memory = f\"/html/body/app/layout/div[3]/div[2]/shrinkable-layout/div/app-base/search-layout/div[2]/entry-layout/entry-bus-route/div[1]/div[2]/div/div[1]/div[2]/ul/li[{i+1}]/a/span[2]/strong\"\n",
    "            except:\n",
    "                print(\"실패\")\n",
    "        \n",
    "        if (wd.find_element(By.XPATH, memory).text == \"안평.고촌\"):\n",
    "            if state == \"LAST\":\n",
    "                state = \"FIRST\"\n",
    "                continue\n",
    "            time.sleep(1)\n",
    "            button = wd.find_element(By.XPATH, memory)\n",
    "            ActionChains(wd).click(button).perform()\n",
    "            break;\n",
    "\n",
    "    html = wd.page_source\n",
    "    soup = BeautifulSoup(html, \"html.parser\")\n",
    "    bus_times = wd.find_element(By.XPATH, \"/html/body/div[1]/div[1]/div/div[2]/div/div[3]/div[3]/div/div/div[1]/div/div/div[2]/div\")\n",
    "    bus_times = bus_times.text.replace(\"저장\",\"\").replace(\" \",\"\").replace(\"출발도착\", \"\").split()\n",
    "    cur_bus_times = []\n",
    "    for i in range(len(bus_times)):\n",
    "        cur_bus_times.append(bus_times[i].replace(\"착\", \"착 \").replace(\"장\",\"장 / \").replace(\"분\",\"분 \"))\n",
    "    print(cur_bus_times)\n",
    "    wd.refresh()\n",
    "    time.sleep(5)\n",
    "    "
   ]
  },
  {
   "cell_type": "code",
   "execution_count": null,
   "id": "a864e6a8",
   "metadata": {},
   "outputs": [],
   "source": []
  }
 ],
 "metadata": {
  "kernelspec": {
   "display_name": "Python 3 (ipykernel)",
   "language": "python",
   "name": "python3"
  },
  "language_info": {
   "codemirror_mode": {
    "name": "ipython",
    "version": 3
   },
   "file_extension": ".py",
   "mimetype": "text/x-python",
   "name": "python",
   "nbconvert_exporter": "python",
   "pygments_lexer": "ipython3",
   "version": "3.8.17"
  }
 },
 "nbformat": 4,
 "nbformat_minor": 5
}
