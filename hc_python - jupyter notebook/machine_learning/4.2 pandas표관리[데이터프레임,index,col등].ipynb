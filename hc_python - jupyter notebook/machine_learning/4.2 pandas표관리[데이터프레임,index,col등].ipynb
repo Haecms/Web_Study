{
 "cells": [
  {
   "cell_type": "code",
   "execution_count": 1,
   "id": "e011a297",
   "metadata": {},
   "outputs": [],
   "source": [
    "############# pands 사용 #####################################"
   ]
  },
  {
   "cell_type": "code",
   "execution_count": 62,
   "id": "c512c8f8",
   "metadata": {},
   "outputs": [],
   "source": [
    "import pandas as pd\n",
    "import numpy as np\n",
    "import matplotlib.pyplot as plt"
   ]
  },
  {
   "cell_type": "code",
   "execution_count": 2,
   "id": "b36604cf",
   "metadata": {},
   "outputs": [],
   "source": [
    "# Pandas 표 ( 컬럼의 모음 )\n",
    "# 편의점 매출표\n",
    "\n",
    "# id   item_name    개수    단가    총액   포인트사용액    현금\n",
    "# 1     새우탕       2      1500    3000      100          2900\n",
    "# 2     메로나       1      1000    1000      500           500\n",
    "\n",
    "# #개수만 보고싶어\n",
    "# id   item_name    개수  \n",
    "# 1     새우탕       2      \n",
    "# 2     메로나       1     \n",
    "\n",
    "# #총액이 얼마인가\n",
    "# id   item_name    개수       총액   포인트사용액    현금\n",
    "# 1     새우탕       2         3000      100          2900\n",
    "# 2     메로나       1         1000      500           500\n"
   ]
  },
  {
   "cell_type": "code",
   "execution_count": 3,
   "id": "ee4f6b61",
   "metadata": {},
   "outputs": [
    {
     "data": {
      "text/plain": [
       "0    10\n",
       "1    20\n",
       "2    30\n",
       "3    40\n",
       "dtype: int64"
      ]
     },
     "execution_count": 3,
     "metadata": {},
     "output_type": "execute_result"
    }
   ],
   "source": [
    "# 컬럼 표현 Series  (컬럼하나를 시리즈라고 한다.)\n",
    "a=[10,20,30,40]\n",
    "s1  = pd.Series(a)\n",
    "s1"
   ]
  },
  {
   "cell_type": "code",
   "execution_count": 4,
   "id": "dba2feb9",
   "metadata": {},
   "outputs": [
    {
     "data": {
      "text/plain": [
       "(list, pandas.core.series.Series, dtype('int64'))"
      ]
     },
     "execution_count": 4,
     "metadata": {},
     "output_type": "execute_result"
    }
   ],
   "source": [
    "type(a), type(s1), s1.dtype"
   ]
  },
  {
   "cell_type": "code",
   "execution_count": 5,
   "id": "14616378",
   "metadata": {},
   "outputs": [
    {
     "data": {
      "text/plain": [
       "1    10\n",
       "2    20\n",
       "3    30\n",
       "4    40\n",
       "dtype: int64"
      ]
     },
     "execution_count": 5,
     "metadata": {},
     "output_type": "execute_result"
    }
   ],
   "source": [
    "a=[10,20,30,40]\n",
    "s2  = pd.Series(a, index = [1,2,3,4]) #인덱스도 1부터 시작하게\n",
    "s2"
   ]
  },
  {
   "cell_type": "code",
   "execution_count": 6,
   "id": "59b79c51",
   "metadata": {},
   "outputs": [
    {
     "data": {
      "text/plain": [
       "30"
      ]
     },
     "execution_count": 6,
     "metadata": {},
     "output_type": "execute_result"
    }
   ],
   "source": [
    "s2[3]"
   ]
  },
  {
   "cell_type": "code",
   "execution_count": 7,
   "id": "bb130265",
   "metadata": {},
   "outputs": [
    {
     "data": {
      "text/plain": [
       "1    10\n",
       "2    20\n",
       "3    30\n",
       "4    40\n",
       "dtype: int64"
      ]
     },
     "execution_count": 7,
     "metadata": {},
     "output_type": "execute_result"
    }
   ],
   "source": [
    "a=[10,20,30,40]\n",
    "s3  = pd.Series(a, index = [\"1\",\"2\",\"3\",\"4\"]) #인덱스도 1부터 시작하게\n",
    "s3"
   ]
  },
  {
   "cell_type": "code",
   "execution_count": 8,
   "id": "19f393e5",
   "metadata": {},
   "outputs": [
    {
     "data": {
      "text/plain": [
       "(40, 30)"
      ]
     },
     "execution_count": 8,
     "metadata": {},
     "output_type": "execute_result"
    }
   ],
   "source": [
    "s3[3],  s3[\"3\"]   # \"\" 가 들어간 index는 조심해서 살펴봐야해// 정답은 후자"
   ]
  },
  {
   "cell_type": "code",
   "execution_count": 9,
   "id": "a7089b95",
   "metadata": {},
   "outputs": [
    {
     "data": {
      "text/plain": [
       "1    10\n",
       "2    20\n",
       "3    30\n",
       "4    40\n",
       "dtype: int64"
      ]
     },
     "execution_count": 9,
     "metadata": {},
     "output_type": "execute_result"
    }
   ],
   "source": [
    "d2 = {1:10, 2:20, 3:30, 4:40}   #dictionary 형태로 index 없이 한번에 넣기\n",
    "s4 = pd.Series(d2)\n",
    "s4"
   ]
  },
  {
   "cell_type": "code",
   "execution_count": 10,
   "id": "ae44dfc3",
   "metadata": {},
   "outputs": [],
   "source": [
    "# 아래와 같이 부분만 발췌하고 싶을 때\n",
    "# 1    10\n",
    "# 3    30\n",
    "# dtype: int64"
   ]
  },
  {
   "cell_type": "code",
   "execution_count": 11,
   "id": "e56cf958",
   "metadata": {},
   "outputs": [
    {
     "data": {
      "text/plain": [
       "(10, 30)"
      ]
     },
     "execution_count": 11,
     "metadata": {},
     "output_type": "execute_result"
    }
   ],
   "source": [
    "s4[1],s4[3] #이거는 튜플로 결과값이 나오고"
   ]
  },
  {
   "cell_type": "code",
   "execution_count": 12,
   "id": "688c5352",
   "metadata": {},
   "outputs": [
    {
     "data": {
      "text/plain": [
       "1    10\n",
       "3    30\n",
       "dtype: int64"
      ]
     },
     "execution_count": 12,
     "metadata": {},
     "output_type": "execute_result"
    }
   ],
   "source": [
    "s4[ [1,3] ]   #원하는 리스트 값을 집어 넣으니"
   ]
  },
  {
   "cell_type": "code",
   "execution_count": 13,
   "id": "ef68df53",
   "metadata": {},
   "outputs": [
    {
     "data": {
      "text/plain": [
       "손님1    5\n",
       "손님2    3\n",
       "손님3    2\n",
       "손님4    1\n",
       "손님5    4\n",
       "손님6    5\n",
       "dtype: int64"
      ]
     },
     "execution_count": 13,
     "metadata": {},
     "output_type": "execute_result"
    }
   ],
   "source": [
    "#딕셔너리 중괄호 {}\n",
    "menu = pd.Series({\"손님1\":5, \"손님2\" : 3, \"손님3\":2, \"손님4\":1, \"손님5\": 4, \"손님6\": 5})\n",
    "\n",
    "menu"
   ]
  },
  {
   "cell_type": "code",
   "execution_count": 14,
   "id": "ce3fb4d2",
   "metadata": {},
   "outputs": [
    {
     "data": {
      "text/plain": [
       "손님1    5\n",
       "손님3    2\n",
       "손님4    1\n",
       "손님6    5\n",
       "dtype: int64"
      ]
     },
     "execution_count": 14,
     "metadata": {},
     "output_type": "execute_result"
    }
   ],
   "source": [
    "# 2, 5번 손님은 빼고 1,3,4,6  메뉴\n",
    "menu[  [\"손님1\", \"손님3\", \"손님4\", \"손님6\"]   ]"
   ]
  },
  {
   "cell_type": "code",
   "execution_count": 15,
   "id": "d640652f",
   "metadata": {},
   "outputs": [
    {
     "data": {
      "text/plain": [
       "['배', '포도']"
      ]
     },
     "execution_count": 15,
     "metadata": {},
     "output_type": "execute_result"
    }
   ],
   "source": [
    "#파이썬 테크닉 : 슬라이싱 [1:] --> 1이후에 모든 \n",
    "list_1 =[\"사과\", \"배\", \"포도\"]\n",
    "list_1 [1:]"
   ]
  },
  {
   "cell_type": "code",
   "execution_count": 16,
   "id": "dec86fbe",
   "metadata": {},
   "outputs": [
    {
     "data": {
      "text/plain": [
       "손님4    1\n",
       "손님5    4\n",
       "손님6    5\n",
       "dtype: int64"
      ]
     },
     "execution_count": 16,
     "metadata": {},
     "output_type": "execute_result"
    }
   ],
   "source": [
    "#슬라이싱 사용하기\n",
    "menu[3:]"
   ]
  },
  {
   "cell_type": "code",
   "execution_count": 17,
   "id": "49bb4432",
   "metadata": {},
   "outputs": [
    {
     "data": {
      "text/plain": [
       "손님1    5\n",
       "손님5    4\n",
       "손님6    5\n",
       "dtype: int64"
      ]
     },
     "execution_count": 17,
     "metadata": {},
     "output_type": "execute_result"
    }
   ],
   "source": [
    "menu_긍정 = menu[menu >= 4]\n",
    "menu_긍정"
   ]
  },
  {
   "cell_type": "code",
   "execution_count": 18,
   "id": "cf1388da",
   "metadata": {},
   "outputs": [
    {
     "data": {
      "text/plain": [
       "손님3    2\n",
       "손님4    1\n",
       "dtype: int64"
      ]
     },
     "execution_count": 18,
     "metadata": {},
     "output_type": "execute_result"
    }
   ],
   "source": [
    "menu_부정 = menu[menu < 3]\n",
    "menu_부정"
   ]
  },
  {
   "cell_type": "code",
   "execution_count": 19,
   "id": "e32aee12",
   "metadata": {},
   "outputs": [
    {
     "data": {
      "text/plain": [
       "손님1    5\n",
       "손님2    3\n",
       "손님3    2\n",
       "손님4    1\n",
       "손님5    4\n",
       "손님6    5\n",
       "dtype: object"
      ]
     },
     "execution_count": 19,
     "metadata": {},
     "output_type": "execute_result"
    }
   ],
   "source": [
    "#타입변경\n",
    "메뉴1 = menu.astype(\"object\")\n",
    "메뉴1"
   ]
  },
  {
   "cell_type": "code",
   "execution_count": 20,
   "id": "e9cf6dc7",
   "metadata": {},
   "outputs": [
    {
     "data": {
      "text/plain": [
       "손님1    5\n",
       "손님2    3\n",
       "손님3    2\n",
       "손님4    1\n",
       "손님5    4\n",
       "손님6    5\n",
       "dtype: int32"
      ]
     },
     "execution_count": 20,
     "metadata": {},
     "output_type": "execute_result"
    }
   ],
   "source": [
    "메뉴1 = menu.astype(\"int\")\n",
    "메뉴1"
   ]
  },
  {
   "cell_type": "code",
   "execution_count": 21,
   "id": "31748070",
   "metadata": {},
   "outputs": [
    {
     "data": {
      "text/plain": [
       "Index(['손님1', '손님2', '손님3', '손님4', '손님5', '손님6'], dtype='object')"
      ]
     },
     "execution_count": 21,
     "metadata": {},
     "output_type": "execute_result"
    }
   ],
   "source": [
    "메뉴1.index  #인덱스값"
   ]
  },
  {
   "cell_type": "code",
   "execution_count": 22,
   "id": "15517f15",
   "metadata": {},
   "outputs": [
    {
     "data": {
      "text/plain": [
       "array([5, 3, 2, 1, 4, 5])"
      ]
     },
     "execution_count": 22,
     "metadata": {},
     "output_type": "execute_result"
    }
   ],
   "source": [
    "메뉴1.values #값"
   ]
  },
  {
   "cell_type": "code",
   "execution_count": 23,
   "id": "636b57dc",
   "metadata": {},
   "outputs": [
    {
     "data": {
      "text/plain": [
       "array([5, 3, 2, 1, 4, 5])"
      ]
     },
     "execution_count": 23,
     "metadata": {},
     "output_type": "execute_result"
    }
   ],
   "source": [
    "메뉴1.to_numpy()"
   ]
  },
  {
   "cell_type": "code",
   "execution_count": 24,
   "id": "fd398c0d",
   "metadata": {},
   "outputs": [
    {
     "data": {
      "text/plain": [
       "손님1    4\n",
       "손님2    3\n",
       "손님3    2\n",
       "손님4    1\n",
       "손님5    5\n",
       "손님6    5\n",
       "dtype: int64"
      ]
     },
     "execution_count": 24,
     "metadata": {},
     "output_type": "execute_result"
    }
   ],
   "source": [
    "메뉴2 = pd.Series([4,3,2,1,5,5],index = 메뉴1.index)\n",
    "메뉴2"
   ]
  },
  {
   "cell_type": "code",
   "execution_count": 25,
   "id": "1dc0e6d4",
   "metadata": {},
   "outputs": [
    {
     "data": {
      "text/plain": [
       "손님1     9\n",
       "손님2     6\n",
       "손님3     4\n",
       "손님4     2\n",
       "손님5     9\n",
       "손님6    10\n",
       "dtype: int64"
      ]
     },
     "execution_count": 25,
     "metadata": {},
     "output_type": "execute_result"
    }
   ],
   "source": [
    "# 시리즈 간의 연산\n",
    "메뉴1 + 메뉴2"
   ]
  },
  {
   "cell_type": "code",
   "execution_count": 26,
   "id": "8d2fa5fc",
   "metadata": {},
   "outputs": [
    {
     "data": {
      "text/html": [
       "<div>\n",
       "<style scoped>\n",
       "    .dataframe tbody tr th:only-of-type {\n",
       "        vertical-align: middle;\n",
       "    }\n",
       "\n",
       "    .dataframe tbody tr th {\n",
       "        vertical-align: top;\n",
       "    }\n",
       "\n",
       "    .dataframe thead th {\n",
       "        text-align: right;\n",
       "    }\n",
       "</style>\n",
       "<table border=\"1\" class=\"dataframe\">\n",
       "  <thead>\n",
       "    <tr style=\"text-align: right;\">\n",
       "      <th></th>\n",
       "      <th>메뉴1</th>\n",
       "      <th>메뉴2</th>\n",
       "    </tr>\n",
       "  </thead>\n",
       "  <tbody>\n",
       "    <tr>\n",
       "      <th>손님1</th>\n",
       "      <td>5</td>\n",
       "      <td>4</td>\n",
       "    </tr>\n",
       "    <tr>\n",
       "      <th>손님2</th>\n",
       "      <td>3</td>\n",
       "      <td>3</td>\n",
       "    </tr>\n",
       "    <tr>\n",
       "      <th>손님3</th>\n",
       "      <td>2</td>\n",
       "      <td>2</td>\n",
       "    </tr>\n",
       "    <tr>\n",
       "      <th>손님4</th>\n",
       "      <td>1</td>\n",
       "      <td>1</td>\n",
       "    </tr>\n",
       "    <tr>\n",
       "      <th>손님5</th>\n",
       "      <td>4</td>\n",
       "      <td>5</td>\n",
       "    </tr>\n",
       "    <tr>\n",
       "      <th>손님6</th>\n",
       "      <td>5</td>\n",
       "      <td>5</td>\n",
       "    </tr>\n",
       "  </tbody>\n",
       "</table>\n",
       "</div>"
      ],
      "text/plain": [
       "     메뉴1  메뉴2\n",
       "손님1    5    4\n",
       "손님2    3    3\n",
       "손님3    2    2\n",
       "손님4    1    1\n",
       "손님5    4    5\n",
       "손님6    5    5"
      ]
     },
     "execution_count": 26,
     "metadata": {},
     "output_type": "execute_result"
    }
   ],
   "source": [
    "# DB에서 가져온 데이터를 합치는데서 의미를 가진다.\n",
    "#메뉴 1, 메뉴 2 칼럼\n",
    "data = [[5,4],\n",
    "        [3,3],\n",
    "        [2,2],\n",
    "        [1,1],\n",
    "        [4,5],\n",
    "        [5,5],\n",
    "]\n",
    "df = pd.DataFrame(data, index=메뉴1.index, columns=[\"메뉴1\", \"메뉴2\"])\n",
    "df"
   ]
  },
  {
   "cell_type": "code",
   "execution_count": 27,
   "id": "1e25b4e8",
   "metadata": {},
   "outputs": [
    {
     "data": {
      "text/html": [
       "<div>\n",
       "<style scoped>\n",
       "    .dataframe tbody tr th:only-of-type {\n",
       "        vertical-align: middle;\n",
       "    }\n",
       "\n",
       "    .dataframe tbody tr th {\n",
       "        vertical-align: top;\n",
       "    }\n",
       "\n",
       "    .dataframe thead th {\n",
       "        text-align: right;\n",
       "    }\n",
       "</style>\n",
       "<table border=\"1\" class=\"dataframe\">\n",
       "  <thead>\n",
       "    <tr style=\"text-align: right;\">\n",
       "      <th></th>\n",
       "      <th>메뉴1</th>\n",
       "      <th>메뉴2</th>\n",
       "    </tr>\n",
       "  </thead>\n",
       "  <tbody>\n",
       "    <tr>\n",
       "      <th>손님1</th>\n",
       "      <td>5</td>\n",
       "      <td>4</td>\n",
       "    </tr>\n",
       "    <tr>\n",
       "      <th>손님2</th>\n",
       "      <td>3</td>\n",
       "      <td>3</td>\n",
       "    </tr>\n",
       "    <tr>\n",
       "      <th>손님3</th>\n",
       "      <td>2</td>\n",
       "      <td>2</td>\n",
       "    </tr>\n",
       "    <tr>\n",
       "      <th>손님4</th>\n",
       "      <td>1</td>\n",
       "      <td>1</td>\n",
       "    </tr>\n",
       "    <tr>\n",
       "      <th>손님5</th>\n",
       "      <td>4</td>\n",
       "      <td>5</td>\n",
       "    </tr>\n",
       "    <tr>\n",
       "      <th>손님6</th>\n",
       "      <td>5</td>\n",
       "      <td>5</td>\n",
       "    </tr>\n",
       "  </tbody>\n",
       "</table>\n",
       "</div>"
      ],
      "text/plain": [
       "     메뉴1  메뉴2\n",
       "손님1    5    4\n",
       "손님2    3    3\n",
       "손님3    2    2\n",
       "손님4    1    1\n",
       "손님5    4    5\n",
       "손님6    5    5"
      ]
     },
     "execution_count": 27,
     "metadata": {},
     "output_type": "execute_result"
    }
   ],
   "source": [
    "#다른 방식\n",
    "data = {\"메뉴1\":[5,3,2,1,4,5],\n",
    "        \"메뉴2\":[4,3,2,1,5,5]}\n",
    "df = pd.DataFrame(data, index= 메뉴1.index)\n",
    "df"
   ]
  },
  {
   "cell_type": "code",
   "execution_count": 28,
   "id": "fd556ba5",
   "metadata": {},
   "outputs": [
    {
     "data": {
      "text/html": [
       "<div>\n",
       "<style scoped>\n",
       "    .dataframe tbody tr th:only-of-type {\n",
       "        vertical-align: middle;\n",
       "    }\n",
       "\n",
       "    .dataframe tbody tr th {\n",
       "        vertical-align: top;\n",
       "    }\n",
       "\n",
       "    .dataframe thead th {\n",
       "        text-align: right;\n",
       "    }\n",
       "</style>\n",
       "<table border=\"1\" class=\"dataframe\">\n",
       "  <thead>\n",
       "    <tr style=\"text-align: right;\">\n",
       "      <th></th>\n",
       "      <th>메뉴1</th>\n",
       "      <th>메뉴2</th>\n",
       "    </tr>\n",
       "  </thead>\n",
       "  <tbody>\n",
       "    <tr>\n",
       "      <th>손님1</th>\n",
       "      <td>5</td>\n",
       "      <td>4</td>\n",
       "    </tr>\n",
       "    <tr>\n",
       "      <th>손님2</th>\n",
       "      <td>3</td>\n",
       "      <td>3</td>\n",
       "    </tr>\n",
       "    <tr>\n",
       "      <th>손님3</th>\n",
       "      <td>2</td>\n",
       "      <td>2</td>\n",
       "    </tr>\n",
       "    <tr>\n",
       "      <th>손님4</th>\n",
       "      <td>1</td>\n",
       "      <td>1</td>\n",
       "    </tr>\n",
       "    <tr>\n",
       "      <th>손님5</th>\n",
       "      <td>4</td>\n",
       "      <td>5</td>\n",
       "    </tr>\n",
       "    <tr>\n",
       "      <th>손님6</th>\n",
       "      <td>5</td>\n",
       "      <td>5</td>\n",
       "    </tr>\n",
       "  </tbody>\n",
       "</table>\n",
       "</div>"
      ],
      "text/plain": [
       "     메뉴1  메뉴2\n",
       "손님1    5    4\n",
       "손님2    3    3\n",
       "손님3    2    2\n",
       "손님4    1    1\n",
       "손님5    4    5\n",
       "손님6    5    5"
      ]
     },
     "execution_count": 28,
     "metadata": {},
     "output_type": "execute_result"
    }
   ],
   "source": [
    "#다른 방식2\n",
    "data = {\"메뉴1\":pd.Series([5,3,2,1,4,5], index=메뉴1.index),\n",
    "        \"메뉴2\":pd.Series([4,3,2,1,5,5], index=메뉴1.index)}\n",
    "df = pd.DataFrame(data)\n",
    "df"
   ]
  },
  {
   "cell_type": "code",
   "execution_count": 29,
   "id": "ccc2c239",
   "metadata": {},
   "outputs": [],
   "source": [
    "# 메모장 만든후 csv 확장자로 만들어서\n",
    "# 데이터를 복사해서 ,(쉼표) <-- 로 데이터 구분되게 만든다."
   ]
  },
  {
   "cell_type": "code",
   "execution_count": 30,
   "id": "1a04c1c9",
   "metadata": {},
   "outputs": [
    {
     "data": {
      "text/html": [
       "<div>\n",
       "<style scoped>\n",
       "    .dataframe tbody tr th:only-of-type {\n",
       "        vertical-align: middle;\n",
       "    }\n",
       "\n",
       "    .dataframe tbody tr th {\n",
       "        vertical-align: top;\n",
       "    }\n",
       "\n",
       "    .dataframe thead th {\n",
       "        text-align: right;\n",
       "    }\n",
       "</style>\n",
       "<table border=\"1\" class=\"dataframe\">\n",
       "  <thead>\n",
       "    <tr style=\"text-align: right;\">\n",
       "      <th></th>\n",
       "      <th>1</th>\n",
       "      <th>2</th>\n",
       "    </tr>\n",
       "    <tr>\n",
       "      <th>0</th>\n",
       "      <th></th>\n",
       "      <th></th>\n",
       "    </tr>\n",
       "  </thead>\n",
       "  <tbody>\n",
       "    <tr>\n",
       "      <th>손님1</th>\n",
       "      <td>5</td>\n",
       "      <td>4</td>\n",
       "    </tr>\n",
       "    <tr>\n",
       "      <th>손님2</th>\n",
       "      <td>3</td>\n",
       "      <td>3</td>\n",
       "    </tr>\n",
       "    <tr>\n",
       "      <th>손님3</th>\n",
       "      <td>2</td>\n",
       "      <td>2</td>\n",
       "    </tr>\n",
       "    <tr>\n",
       "      <th>손님4</th>\n",
       "      <td>1</td>\n",
       "      <td>1</td>\n",
       "    </tr>\n",
       "    <tr>\n",
       "      <th>손님5</th>\n",
       "      <td>4</td>\n",
       "      <td>5</td>\n",
       "    </tr>\n",
       "    <tr>\n",
       "      <th>손님6</th>\n",
       "      <td>5</td>\n",
       "      <td>5</td>\n",
       "    </tr>\n",
       "  </tbody>\n",
       "</table>\n",
       "</div>"
      ],
      "text/plain": [
       "     1  2\n",
       "0        \n",
       "손님1  5  4\n",
       "손님2  3  3\n",
       "손님3  2  2\n",
       "손님4  1  1\n",
       "손님5  4  5\n",
       "손님6  5  5"
      ]
     },
     "execution_count": 30,
     "metadata": {},
     "output_type": "execute_result"
    }
   ],
   "source": [
    "df = pd.read_csv(\"menus.csv\", header=None, index_col =0)\n",
    "df"
   ]
  },
  {
   "cell_type": "code",
   "execution_count": 31,
   "id": "a641105b",
   "metadata": {},
   "outputs": [
    {
     "data": {
      "text/html": [
       "<div>\n",
       "<style scoped>\n",
       "    .dataframe tbody tr th:only-of-type {\n",
       "        vertical-align: middle;\n",
       "    }\n",
       "\n",
       "    .dataframe tbody tr th {\n",
       "        vertical-align: top;\n",
       "    }\n",
       "\n",
       "    .dataframe thead th {\n",
       "        text-align: right;\n",
       "    }\n",
       "</style>\n",
       "<table border=\"1\" class=\"dataframe\">\n",
       "  <thead>\n",
       "    <tr style=\"text-align: right;\">\n",
       "      <th></th>\n",
       "      <th>메뉴1</th>\n",
       "      <th>메뉴2</th>\n",
       "    </tr>\n",
       "    <tr>\n",
       "      <th>0</th>\n",
       "      <th></th>\n",
       "      <th></th>\n",
       "    </tr>\n",
       "  </thead>\n",
       "  <tbody>\n",
       "    <tr>\n",
       "      <th>손님1</th>\n",
       "      <td>5</td>\n",
       "      <td>4</td>\n",
       "    </tr>\n",
       "    <tr>\n",
       "      <th>손님2</th>\n",
       "      <td>3</td>\n",
       "      <td>3</td>\n",
       "    </tr>\n",
       "    <tr>\n",
       "      <th>손님3</th>\n",
       "      <td>2</td>\n",
       "      <td>2</td>\n",
       "    </tr>\n",
       "    <tr>\n",
       "      <th>손님4</th>\n",
       "      <td>1</td>\n",
       "      <td>1</td>\n",
       "    </tr>\n",
       "    <tr>\n",
       "      <th>손님5</th>\n",
       "      <td>4</td>\n",
       "      <td>5</td>\n",
       "    </tr>\n",
       "    <tr>\n",
       "      <th>손님6</th>\n",
       "      <td>5</td>\n",
       "      <td>5</td>\n",
       "    </tr>\n",
       "  </tbody>\n",
       "</table>\n",
       "</div>"
      ],
      "text/plain": [
       "     메뉴1  메뉴2\n",
       "0            \n",
       "손님1    5    4\n",
       "손님2    3    3\n",
       "손님3    2    2\n",
       "손님4    1    1\n",
       "손님5    4    5\n",
       "손님6    5    5"
      ]
     },
     "execution_count": 31,
     "metadata": {},
     "output_type": "execute_result"
    }
   ],
   "source": [
    "#컬럼설정\n",
    "df.columns = [\"메뉴1\", \"메뉴2\"]\n",
    "df"
   ]
  },
  {
   "cell_type": "code",
   "execution_count": 32,
   "id": "85489083",
   "metadata": {},
   "outputs": [
    {
     "data": {
      "text/html": [
       "<div>\n",
       "<style scoped>\n",
       "    .dataframe tbody tr th:only-of-type {\n",
       "        vertical-align: middle;\n",
       "    }\n",
       "\n",
       "    .dataframe tbody tr th {\n",
       "        vertical-align: top;\n",
       "    }\n",
       "\n",
       "    .dataframe thead th {\n",
       "        text-align: right;\n",
       "    }\n",
       "</style>\n",
       "<table border=\"1\" class=\"dataframe\">\n",
       "  <thead>\n",
       "    <tr style=\"text-align: right;\">\n",
       "      <th></th>\n",
       "      <th>메뉴1</th>\n",
       "      <th>메뉴2</th>\n",
       "    </tr>\n",
       "    <tr>\n",
       "      <th>0</th>\n",
       "      <th></th>\n",
       "      <th></th>\n",
       "    </tr>\n",
       "  </thead>\n",
       "  <tbody>\n",
       "    <tr>\n",
       "      <th>손님1</th>\n",
       "      <td>5</td>\n",
       "      <td>4</td>\n",
       "    </tr>\n",
       "    <tr>\n",
       "      <th>손님2</th>\n",
       "      <td>3</td>\n",
       "      <td>3</td>\n",
       "    </tr>\n",
       "    <tr>\n",
       "      <th>손님3</th>\n",
       "      <td>2</td>\n",
       "      <td>2</td>\n",
       "    </tr>\n",
       "    <tr>\n",
       "      <th>손님4</th>\n",
       "      <td>1</td>\n",
       "      <td>1</td>\n",
       "    </tr>\n",
       "    <tr>\n",
       "      <th>손님5</th>\n",
       "      <td>4</td>\n",
       "      <td>5</td>\n",
       "    </tr>\n",
       "    <tr>\n",
       "      <th>손님6</th>\n",
       "      <td>5</td>\n",
       "      <td>5</td>\n",
       "    </tr>\n",
       "  </tbody>\n",
       "</table>\n",
       "</div>"
      ],
      "text/plain": [
       "     메뉴1  메뉴2\n",
       "0            \n",
       "손님1    5    4\n",
       "손님2    3    3\n",
       "손님3    2    2\n",
       "손님4    1    1\n",
       "손님5    4    5\n",
       "손님6    5    5"
      ]
     },
     "execution_count": 32,
     "metadata": {},
     "output_type": "execute_result"
    }
   ],
   "source": [
    "# menus2 테이블 만들기\n",
    "\n",
    "df2 = pd.read_csv(\"menus2.csv\", header=None, index_col =0)\n",
    "df2.columns = [\"메뉴1\", \"메뉴2\"]\n",
    "df2"
   ]
  },
  {
   "cell_type": "code",
   "execution_count": 33,
   "id": "e05769ff",
   "metadata": {},
   "outputs": [
    {
     "data": {
      "text/html": [
       "<div>\n",
       "<style scoped>\n",
       "    .dataframe tbody tr th:only-of-type {\n",
       "        vertical-align: middle;\n",
       "    }\n",
       "\n",
       "    .dataframe tbody tr th {\n",
       "        vertical-align: top;\n",
       "    }\n",
       "\n",
       "    .dataframe thead th {\n",
       "        text-align: right;\n",
       "    }\n",
       "</style>\n",
       "<table border=\"1\" class=\"dataframe\">\n",
       "  <thead>\n",
       "    <tr style=\"text-align: right;\">\n",
       "      <th></th>\n",
       "      <th>짜장면</th>\n",
       "      <th>짬뽕</th>\n",
       "    </tr>\n",
       "  </thead>\n",
       "  <tbody>\n",
       "    <tr>\n",
       "      <th>cus1</th>\n",
       "      <td>5</td>\n",
       "      <td>4</td>\n",
       "    </tr>\n",
       "    <tr>\n",
       "      <th>cus2</th>\n",
       "      <td>3</td>\n",
       "      <td>3</td>\n",
       "    </tr>\n",
       "    <tr>\n",
       "      <th>cus3</th>\n",
       "      <td>2</td>\n",
       "      <td>2</td>\n",
       "    </tr>\n",
       "    <tr>\n",
       "      <th>cus4</th>\n",
       "      <td>1</td>\n",
       "      <td>1</td>\n",
       "    </tr>\n",
       "    <tr>\n",
       "      <th>cus5</th>\n",
       "      <td>4</td>\n",
       "      <td>5</td>\n",
       "    </tr>\n",
       "    <tr>\n",
       "      <th>cus6</th>\n",
       "      <td>5</td>\n",
       "      <td>5</td>\n",
       "    </tr>\n",
       "  </tbody>\n",
       "</table>\n",
       "</div>"
      ],
      "text/plain": [
       "      짜장면  짬뽕\n",
       "cus1    5   4\n",
       "cus2    3   3\n",
       "cus3    2   2\n",
       "cus4    1   1\n",
       "cus5    4   5\n",
       "cus6    5   5"
      ]
     },
     "execution_count": 33,
     "metadata": {},
     "output_type": "execute_result"
    }
   ],
   "source": [
    "#index와 col 이름을 바꾸고 싶을 때\n",
    "\n",
    "df2.index = [\"cus1\", \"cus2\", \"cus3\",\"cus4\",\"cus5\",\"cus6\"]\n",
    "df2.columns = [\"짜장면\", \"짬뽕\"]\n",
    "df2"
   ]
  },
  {
   "cell_type": "code",
   "execution_count": 34,
   "id": "4afe79b9",
   "metadata": {},
   "outputs": [
    {
     "data": {
      "text/plain": [
       "cus1    5\n",
       "cus2    3\n",
       "cus3    2\n",
       "cus4    1\n",
       "cus5    4\n",
       "cus6    5\n",
       "Name: 짜장면, dtype: int64"
      ]
     },
     "execution_count": 34,
     "metadata": {},
     "output_type": "execute_result"
    }
   ],
   "source": [
    "#series만 추출\n",
    "s1 = df2[\"짜장면\"]\n",
    "s1"
   ]
  },
  {
   "cell_type": "code",
   "execution_count": 35,
   "id": "4374cd0b",
   "metadata": {},
   "outputs": [
    {
     "data": {
      "text/html": [
       "<div>\n",
       "<style scoped>\n",
       "    .dataframe tbody tr th:only-of-type {\n",
       "        vertical-align: middle;\n",
       "    }\n",
       "\n",
       "    .dataframe tbody tr th {\n",
       "        vertical-align: top;\n",
       "    }\n",
       "\n",
       "    .dataframe thead th {\n",
       "        text-align: right;\n",
       "    }\n",
       "</style>\n",
       "<table border=\"1\" class=\"dataframe\">\n",
       "  <thead>\n",
       "    <tr style=\"text-align: right;\">\n",
       "      <th></th>\n",
       "      <th>짜장면</th>\n",
       "    </tr>\n",
       "  </thead>\n",
       "  <tbody>\n",
       "    <tr>\n",
       "      <th>cus1</th>\n",
       "      <td>5</td>\n",
       "    </tr>\n",
       "    <tr>\n",
       "      <th>cus2</th>\n",
       "      <td>3</td>\n",
       "    </tr>\n",
       "    <tr>\n",
       "      <th>cus3</th>\n",
       "      <td>2</td>\n",
       "    </tr>\n",
       "    <tr>\n",
       "      <th>cus4</th>\n",
       "      <td>1</td>\n",
       "    </tr>\n",
       "    <tr>\n",
       "      <th>cus5</th>\n",
       "      <td>4</td>\n",
       "    </tr>\n",
       "    <tr>\n",
       "      <th>cus6</th>\n",
       "      <td>5</td>\n",
       "    </tr>\n",
       "  </tbody>\n",
       "</table>\n",
       "</div>"
      ],
      "text/plain": [
       "      짜장면\n",
       "cus1    5\n",
       "cus2    3\n",
       "cus3    2\n",
       "cus4    1\n",
       "cus5    4\n",
       "cus6    5"
      ]
     },
     "execution_count": 35,
     "metadata": {},
     "output_type": "execute_result"
    }
   ],
   "source": [
    "#데이터 프레임상태로 추출\n",
    "df2_menu1 = df2[[\"짜장면\"]]\n",
    "df2_menu1"
   ]
  },
  {
   "cell_type": "code",
   "execution_count": 36,
   "id": "f725532a",
   "metadata": {},
   "outputs": [
    {
     "data": {
      "text/html": [
       "<div>\n",
       "<style scoped>\n",
       "    .dataframe tbody tr th:only-of-type {\n",
       "        vertical-align: middle;\n",
       "    }\n",
       "\n",
       "    .dataframe tbody tr th {\n",
       "        vertical-align: top;\n",
       "    }\n",
       "\n",
       "    .dataframe thead th {\n",
       "        text-align: right;\n",
       "    }\n",
       "</style>\n",
       "<table border=\"1\" class=\"dataframe\">\n",
       "  <thead>\n",
       "    <tr style=\"text-align: right;\">\n",
       "      <th></th>\n",
       "      <th>짜장면</th>\n",
       "      <th>짬뽕</th>\n",
       "      <th>식사부</th>\n",
       "    </tr>\n",
       "  </thead>\n",
       "  <tbody>\n",
       "    <tr>\n",
       "      <th>cus1</th>\n",
       "      <td>5</td>\n",
       "      <td>4</td>\n",
       "      <td>9</td>\n",
       "    </tr>\n",
       "    <tr>\n",
       "      <th>cus2</th>\n",
       "      <td>3</td>\n",
       "      <td>3</td>\n",
       "      <td>6</td>\n",
       "    </tr>\n",
       "    <tr>\n",
       "      <th>cus3</th>\n",
       "      <td>2</td>\n",
       "      <td>2</td>\n",
       "      <td>4</td>\n",
       "    </tr>\n",
       "    <tr>\n",
       "      <th>cus4</th>\n",
       "      <td>1</td>\n",
       "      <td>1</td>\n",
       "      <td>2</td>\n",
       "    </tr>\n",
       "    <tr>\n",
       "      <th>cus5</th>\n",
       "      <td>4</td>\n",
       "      <td>5</td>\n",
       "      <td>9</td>\n",
       "    </tr>\n",
       "    <tr>\n",
       "      <th>cus6</th>\n",
       "      <td>5</td>\n",
       "      <td>5</td>\n",
       "      <td>10</td>\n",
       "    </tr>\n",
       "  </tbody>\n",
       "</table>\n",
       "</div>"
      ],
      "text/plain": [
       "      짜장면  짬뽕  식사부\n",
       "cus1    5   4    9\n",
       "cus2    3   3    6\n",
       "cus3    2   2    4\n",
       "cus4    1   1    2\n",
       "cus5    4   5    9\n",
       "cus6    5   5   10"
      ]
     },
     "execution_count": 36,
     "metadata": {},
     "output_type": "execute_result"
    }
   ],
   "source": [
    "# 새로운 컬럼 : 식사부  생성\n",
    "\n",
    "df2[\"식사부\"] = df2[\"짜장면\"] + df2[\"짬뽕\"]\n",
    "df2"
   ]
  },
  {
   "cell_type": "code",
   "execution_count": 37,
   "id": "c5ceb46d",
   "metadata": {},
   "outputs": [
    {
     "data": {
      "text/html": [
       "<div>\n",
       "<style scoped>\n",
       "    .dataframe tbody tr th:only-of-type {\n",
       "        vertical-align: middle;\n",
       "    }\n",
       "\n",
       "    .dataframe tbody tr th {\n",
       "        vertical-align: top;\n",
       "    }\n",
       "\n",
       "    .dataframe thead th {\n",
       "        text-align: right;\n",
       "    }\n",
       "</style>\n",
       "<table border=\"1\" class=\"dataframe\">\n",
       "  <thead>\n",
       "    <tr style=\"text-align: right;\">\n",
       "      <th></th>\n",
       "      <th>식사부</th>\n",
       "    </tr>\n",
       "  </thead>\n",
       "  <tbody>\n",
       "    <tr>\n",
       "      <th>cus1</th>\n",
       "      <td>9</td>\n",
       "    </tr>\n",
       "    <tr>\n",
       "      <th>cus2</th>\n",
       "      <td>6</td>\n",
       "    </tr>\n",
       "    <tr>\n",
       "      <th>cus3</th>\n",
       "      <td>4</td>\n",
       "    </tr>\n",
       "    <tr>\n",
       "      <th>cus4</th>\n",
       "      <td>2</td>\n",
       "    </tr>\n",
       "    <tr>\n",
       "      <th>cus5</th>\n",
       "      <td>9</td>\n",
       "    </tr>\n",
       "    <tr>\n",
       "      <th>cus6</th>\n",
       "      <td>10</td>\n",
       "    </tr>\n",
       "  </tbody>\n",
       "</table>\n",
       "</div>"
      ],
      "text/plain": [
       "      식사부\n",
       "cus1    9\n",
       "cus2    6\n",
       "cus3    4\n",
       "cus4    2\n",
       "cus5    9\n",
       "cus6   10"
      ]
     },
     "execution_count": 37,
     "metadata": {},
     "output_type": "execute_result"
    }
   ],
   "source": [
    "df2[[\"식사부\"]]"
   ]
  },
  {
   "cell_type": "code",
   "execution_count": 38,
   "id": "05aa255d",
   "metadata": {},
   "outputs": [
    {
     "data": {
      "text/html": [
       "<div>\n",
       "<style scoped>\n",
       "    .dataframe tbody tr th:only-of-type {\n",
       "        vertical-align: middle;\n",
       "    }\n",
       "\n",
       "    .dataframe tbody tr th {\n",
       "        vertical-align: top;\n",
       "    }\n",
       "\n",
       "    .dataframe thead th {\n",
       "        text-align: right;\n",
       "    }\n",
       "</style>\n",
       "<table border=\"1\" class=\"dataframe\">\n",
       "  <thead>\n",
       "    <tr style=\"text-align: right;\">\n",
       "      <th></th>\n",
       "      <th>짜장면</th>\n",
       "      <th>짬뽕</th>\n",
       "    </tr>\n",
       "  </thead>\n",
       "  <tbody>\n",
       "    <tr>\n",
       "      <th>cus1</th>\n",
       "      <td>5</td>\n",
       "      <td>4</td>\n",
       "    </tr>\n",
       "    <tr>\n",
       "      <th>cus2</th>\n",
       "      <td>3</td>\n",
       "      <td>3</td>\n",
       "    </tr>\n",
       "    <tr>\n",
       "      <th>cus3</th>\n",
       "      <td>2</td>\n",
       "      <td>2</td>\n",
       "    </tr>\n",
       "    <tr>\n",
       "      <th>cus4</th>\n",
       "      <td>1</td>\n",
       "      <td>1</td>\n",
       "    </tr>\n",
       "    <tr>\n",
       "      <th>cus5</th>\n",
       "      <td>4</td>\n",
       "      <td>5</td>\n",
       "    </tr>\n",
       "    <tr>\n",
       "      <th>cus6</th>\n",
       "      <td>5</td>\n",
       "      <td>5</td>\n",
       "    </tr>\n",
       "  </tbody>\n",
       "</table>\n",
       "</div>"
      ],
      "text/plain": [
       "      짜장면  짬뽕\n",
       "cus1    5   4\n",
       "cus2    3   3\n",
       "cus3    2   2\n",
       "cus4    1   1\n",
       "cus5    4   5\n",
       "cus6    5   5"
      ]
     },
     "execution_count": 38,
     "metadata": {},
     "output_type": "execute_result"
    }
   ],
   "source": [
    "# 데이터 프레임에서 원하지 않는 것을 지우고 싶을 떄\n",
    "del df2[\"식사부\"]\n",
    "df2"
   ]
  },
  {
   "cell_type": "code",
   "execution_count": 39,
   "id": "33f0cfa2",
   "metadata": {},
   "outputs": [
    {
     "data": {
      "text/html": [
       "<div>\n",
       "<style scoped>\n",
       "    .dataframe tbody tr th:only-of-type {\n",
       "        vertical-align: middle;\n",
       "    }\n",
       "\n",
       "    .dataframe tbody tr th {\n",
       "        vertical-align: top;\n",
       "    }\n",
       "\n",
       "    .dataframe thead th {\n",
       "        text-align: right;\n",
       "    }\n",
       "</style>\n",
       "<table border=\"1\" class=\"dataframe\">\n",
       "  <thead>\n",
       "    <tr style=\"text-align: right;\">\n",
       "      <th></th>\n",
       "      <th>자장</th>\n",
       "      <th>짬뽕</th>\n",
       "    </tr>\n",
       "  </thead>\n",
       "  <tbody>\n",
       "    <tr>\n",
       "      <th>cus1</th>\n",
       "      <td>5</td>\n",
       "      <td>4</td>\n",
       "    </tr>\n",
       "    <tr>\n",
       "      <th>cus2</th>\n",
       "      <td>3</td>\n",
       "      <td>3</td>\n",
       "    </tr>\n",
       "    <tr>\n",
       "      <th>손님3</th>\n",
       "      <td>2</td>\n",
       "      <td>2</td>\n",
       "    </tr>\n",
       "    <tr>\n",
       "      <th>cus4</th>\n",
       "      <td>1</td>\n",
       "      <td>1</td>\n",
       "    </tr>\n",
       "    <tr>\n",
       "      <th>cus5</th>\n",
       "      <td>4</td>\n",
       "      <td>5</td>\n",
       "    </tr>\n",
       "    <tr>\n",
       "      <th>cus6</th>\n",
       "      <td>5</td>\n",
       "      <td>5</td>\n",
       "    </tr>\n",
       "  </tbody>\n",
       "</table>\n",
       "</div>"
      ],
      "text/plain": [
       "      자장  짬뽕\n",
       "cus1   5   4\n",
       "cus2   3   3\n",
       "손님3    2   2\n",
       "cus4   1   1\n",
       "cus5   4   5\n",
       "cus6   5   5"
      ]
     },
     "execution_count": 39,
     "metadata": {},
     "output_type": "execute_result"
    }
   ],
   "source": [
    "#rename (columns, index) 컬럼 이름 바꾸기 --> 딕셔너리로 바꾼다.\n",
    "df2 = df2.rename(columns  = {\"짜장면\":\"자장\"})\n",
    "df2 = df2.rename(index  = {\"cus3\":\"손님3\"})\n",
    "df2"
   ]
  },
  {
   "cell_type": "code",
   "execution_count": 40,
   "id": "37125dff",
   "metadata": {},
   "outputs": [
    {
     "data": {
      "text/plain": [
       "2"
      ]
     },
     "execution_count": 40,
     "metadata": {},
     "output_type": "execute_result"
    }
   ],
   "source": [
    "# 특정한 하나의 값에 접근하는 방법\n",
    "df2.iloc[2,1]  # iloc  i --> 정수 형태로 접근 loc --> 그냥 나와있는 이름 그대로의 컬럼및 인덱스"
   ]
  },
  {
   "cell_type": "code",
   "execution_count": 41,
   "id": "49653abc",
   "metadata": {},
   "outputs": [
    {
     "data": {
      "text/html": [
       "<div>\n",
       "<style scoped>\n",
       "    .dataframe tbody tr th:only-of-type {\n",
       "        vertical-align: middle;\n",
       "    }\n",
       "\n",
       "    .dataframe tbody tr th {\n",
       "        vertical-align: top;\n",
       "    }\n",
       "\n",
       "    .dataframe thead th {\n",
       "        text-align: right;\n",
       "    }\n",
       "</style>\n",
       "<table border=\"1\" class=\"dataframe\">\n",
       "  <thead>\n",
       "    <tr style=\"text-align: right;\">\n",
       "      <th></th>\n",
       "      <th>자장</th>\n",
       "      <th>짬뽕</th>\n",
       "    </tr>\n",
       "  </thead>\n",
       "  <tbody>\n",
       "    <tr>\n",
       "      <th>cus1</th>\n",
       "      <td>5</td>\n",
       "      <td>4</td>\n",
       "    </tr>\n",
       "    <tr>\n",
       "      <th>cus2</th>\n",
       "      <td>3</td>\n",
       "      <td>3</td>\n",
       "    </tr>\n",
       "    <tr>\n",
       "      <th>손님3</th>\n",
       "      <td>2</td>\n",
       "      <td>40</td>\n",
       "    </tr>\n",
       "    <tr>\n",
       "      <th>cus4</th>\n",
       "      <td>1</td>\n",
       "      <td>1</td>\n",
       "    </tr>\n",
       "    <tr>\n",
       "      <th>cus5</th>\n",
       "      <td>4</td>\n",
       "      <td>5</td>\n",
       "    </tr>\n",
       "    <tr>\n",
       "      <th>cus6</th>\n",
       "      <td>5</td>\n",
       "      <td>5</td>\n",
       "    </tr>\n",
       "  </tbody>\n",
       "</table>\n",
       "</div>"
      ],
      "text/plain": [
       "      자장  짬뽕\n",
       "cus1   5   4\n",
       "cus2   3   3\n",
       "손님3    2  40\n",
       "cus4   1   1\n",
       "cus5   4   5\n",
       "cus6   5   5"
      ]
     },
     "execution_count": 41,
     "metadata": {},
     "output_type": "execute_result"
    }
   ],
   "source": [
    "# 특정한 하나의 값에 접근하는 방법 - 값바꾸기\n",
    "df2.iloc[2,1] = 40 \n",
    "df2"
   ]
  },
  {
   "cell_type": "code",
   "execution_count": 42,
   "id": "3db32350",
   "metadata": {},
   "outputs": [
    {
     "data": {
      "text/html": [
       "<div>\n",
       "<style scoped>\n",
       "    .dataframe tbody tr th:only-of-type {\n",
       "        vertical-align: middle;\n",
       "    }\n",
       "\n",
       "    .dataframe tbody tr th {\n",
       "        vertical-align: top;\n",
       "    }\n",
       "\n",
       "    .dataframe thead th {\n",
       "        text-align: right;\n",
       "    }\n",
       "</style>\n",
       "<table border=\"1\" class=\"dataframe\">\n",
       "  <thead>\n",
       "    <tr style=\"text-align: right;\">\n",
       "      <th></th>\n",
       "      <th>cus1</th>\n",
       "      <th>cus2</th>\n",
       "      <th>손님3</th>\n",
       "      <th>cus4</th>\n",
       "      <th>cus5</th>\n",
       "      <th>cus6</th>\n",
       "    </tr>\n",
       "  </thead>\n",
       "  <tbody>\n",
       "    <tr>\n",
       "      <th>자장</th>\n",
       "      <td>5</td>\n",
       "      <td>3</td>\n",
       "      <td>2</td>\n",
       "      <td>1</td>\n",
       "      <td>4</td>\n",
       "      <td>5</td>\n",
       "    </tr>\n",
       "    <tr>\n",
       "      <th>짬뽕</th>\n",
       "      <td>4</td>\n",
       "      <td>3</td>\n",
       "      <td>40</td>\n",
       "      <td>1</td>\n",
       "      <td>5</td>\n",
       "      <td>5</td>\n",
       "    </tr>\n",
       "  </tbody>\n",
       "</table>\n",
       "</div>"
      ],
      "text/plain": [
       "    cus1  cus2  손님3  cus4  cus5  cus6\n",
       "자장     5     3    2     1     4     5\n",
       "짬뽕     4     3   40     1     5     5"
      ]
     },
     "execution_count": 42,
     "metadata": {},
     "output_type": "execute_result"
    }
   ],
   "source": [
    "# transpose   전치\n",
    "df2.T"
   ]
  },
  {
   "cell_type": "code",
   "execution_count": 43,
   "id": "77613a15",
   "metadata": {},
   "outputs": [
    {
     "data": {
      "text/html": [
       "<div>\n",
       "<style scoped>\n",
       "    .dataframe tbody tr th:only-of-type {\n",
       "        vertical-align: middle;\n",
       "    }\n",
       "\n",
       "    .dataframe tbody tr th {\n",
       "        vertical-align: top;\n",
       "    }\n",
       "\n",
       "    .dataframe thead th {\n",
       "        text-align: right;\n",
       "    }\n",
       "</style>\n",
       "<table border=\"1\" class=\"dataframe\">\n",
       "  <thead>\n",
       "    <tr style=\"text-align: right;\">\n",
       "      <th></th>\n",
       "      <th>cus1</th>\n",
       "      <th>cus2</th>\n",
       "      <th>손님3</th>\n",
       "      <th>cus4</th>\n",
       "      <th>cus5</th>\n",
       "      <th>cus6</th>\n",
       "    </tr>\n",
       "  </thead>\n",
       "  <tbody>\n",
       "    <tr>\n",
       "      <th>자장</th>\n",
       "      <td>5</td>\n",
       "      <td>3</td>\n",
       "      <td>2</td>\n",
       "      <td>1</td>\n",
       "      <td>4</td>\n",
       "      <td>5</td>\n",
       "    </tr>\n",
       "    <tr>\n",
       "      <th>짬뽕</th>\n",
       "      <td>4</td>\n",
       "      <td>3</td>\n",
       "      <td>40</td>\n",
       "      <td>1</td>\n",
       "      <td>5</td>\n",
       "      <td>5</td>\n",
       "    </tr>\n",
       "  </tbody>\n",
       "</table>\n",
       "</div>"
      ],
      "text/plain": [
       "    cus1  cus2  손님3  cus4  cus5  cus6\n",
       "자장     5     3    2     1     4     5\n",
       "짬뽕     4     3   40     1     5     5"
      ]
     },
     "execution_count": 43,
     "metadata": {},
     "output_type": "execute_result"
    }
   ],
   "source": [
    "# 같은 표현\n",
    "df_T = df2.transpose()\n",
    "df_T"
   ]
  },
  {
   "cell_type": "code",
   "execution_count": 44,
   "id": "7c356cde",
   "metadata": {},
   "outputs": [
    {
     "data": {
      "text/plain": [
       "40"
      ]
     },
     "execution_count": 44,
     "metadata": {},
     "output_type": "execute_result"
    }
   ],
   "source": [
    "df_T.iloc[1,2]"
   ]
  },
  {
   "cell_type": "code",
   "execution_count": 46,
   "id": "3e89e8a9",
   "metadata": {},
   "outputs": [],
   "source": [
    "#####################################################################"
   ]
  },
  {
   "cell_type": "code",
   "execution_count": 45,
   "id": "31cc0d38",
   "metadata": {},
   "outputs": [],
   "source": [
    "data =[\n",
    "[\"해찬\",\"고기덮밥\"],\n",
    "[\"명서\",\"국수\"],\n",
    "[\"건희\",\"완당\"],\n",
    "[\"원영\",\"국밥\"],\n",
    "[\"문규\",\"돈까스\"],\n",
    "[\"진우\",\"낙지\"]]\n",
    "col = [\"이름\", \"희망메뉴\"]\n",
    "index = [\"학생1\",\"학생2\",\"학생3\",\"학생4\",\"학생5\",\"학생6\"]"
   ]
  },
  {
   "cell_type": "code",
   "execution_count": 46,
   "id": "d6c33fe4",
   "metadata": {},
   "outputs": [
    {
     "data": {
      "text/html": [
       "<div>\n",
       "<style scoped>\n",
       "    .dataframe tbody tr th:only-of-type {\n",
       "        vertical-align: middle;\n",
       "    }\n",
       "\n",
       "    .dataframe tbody tr th {\n",
       "        vertical-align: top;\n",
       "    }\n",
       "\n",
       "    .dataframe thead th {\n",
       "        text-align: right;\n",
       "    }\n",
       "</style>\n",
       "<table border=\"1\" class=\"dataframe\">\n",
       "  <thead>\n",
       "    <tr style=\"text-align: right;\">\n",
       "      <th></th>\n",
       "      <th>이름</th>\n",
       "      <th>희망메뉴</th>\n",
       "    </tr>\n",
       "  </thead>\n",
       "  <tbody>\n",
       "    <tr>\n",
       "      <th>학생1</th>\n",
       "      <td>해찬</td>\n",
       "      <td>고기덮밥</td>\n",
       "    </tr>\n",
       "    <tr>\n",
       "      <th>학생2</th>\n",
       "      <td>명서</td>\n",
       "      <td>국수</td>\n",
       "    </tr>\n",
       "    <tr>\n",
       "      <th>학생3</th>\n",
       "      <td>건희</td>\n",
       "      <td>완당</td>\n",
       "    </tr>\n",
       "    <tr>\n",
       "      <th>학생4</th>\n",
       "      <td>원영</td>\n",
       "      <td>국밥</td>\n",
       "    </tr>\n",
       "    <tr>\n",
       "      <th>학생5</th>\n",
       "      <td>문규</td>\n",
       "      <td>돈까스</td>\n",
       "    </tr>\n",
       "    <tr>\n",
       "      <th>학생6</th>\n",
       "      <td>진우</td>\n",
       "      <td>낙지</td>\n",
       "    </tr>\n",
       "  </tbody>\n",
       "</table>\n",
       "</div>"
      ],
      "text/plain": [
       "     이름  희망메뉴\n",
       "학생1  해찬  고기덮밥\n",
       "학생2  명서    국수\n",
       "학생3  건희    완당\n",
       "학생4  원영    국밥\n",
       "학생5  문규   돈까스\n",
       "학생6  진우    낙지"
      ]
     },
     "execution_count": 46,
     "metadata": {},
     "output_type": "execute_result"
    }
   ],
   "source": [
    "lunch = pd.DataFrame(data,columns=col, index = index)\n",
    "lunch"
   ]
  },
  {
   "cell_type": "code",
   "execution_count": 47,
   "id": "da56f90f",
   "metadata": {},
   "outputs": [
    {
     "data": {
      "text/html": [
       "<div>\n",
       "<style scoped>\n",
       "    .dataframe tbody tr th:only-of-type {\n",
       "        vertical-align: middle;\n",
       "    }\n",
       "\n",
       "    .dataframe tbody tr th {\n",
       "        vertical-align: top;\n",
       "    }\n",
       "\n",
       "    .dataframe thead th {\n",
       "        text-align: right;\n",
       "    }\n",
       "</style>\n",
       "<table border=\"1\" class=\"dataframe\">\n",
       "  <thead>\n",
       "    <tr style=\"text-align: right;\">\n",
       "      <th></th>\n",
       "      <th>희망메뉴</th>\n",
       "    </tr>\n",
       "    <tr>\n",
       "      <th>이름</th>\n",
       "      <th></th>\n",
       "    </tr>\n",
       "  </thead>\n",
       "  <tbody>\n",
       "    <tr>\n",
       "      <th>해찬</th>\n",
       "      <td>고기덮밥</td>\n",
       "    </tr>\n",
       "    <tr>\n",
       "      <th>명서</th>\n",
       "      <td>국수</td>\n",
       "    </tr>\n",
       "    <tr>\n",
       "      <th>건희</th>\n",
       "      <td>완당</td>\n",
       "    </tr>\n",
       "    <tr>\n",
       "      <th>원영</th>\n",
       "      <td>국밥</td>\n",
       "    </tr>\n",
       "    <tr>\n",
       "      <th>문규</th>\n",
       "      <td>돈까스</td>\n",
       "    </tr>\n",
       "    <tr>\n",
       "      <th>진우</th>\n",
       "      <td>낙지</td>\n",
       "    </tr>\n",
       "  </tbody>\n",
       "</table>\n",
       "</div>"
      ],
      "text/plain": [
       "    희망메뉴\n",
       "이름      \n",
       "해찬  고기덮밥\n",
       "명서    국수\n",
       "건희    완당\n",
       "원영    국밥\n",
       "문규   돈까스\n",
       "진우    낙지"
      ]
     },
     "execution_count": 47,
     "metadata": {},
     "output_type": "execute_result"
    }
   ],
   "source": [
    "lunch2 = lunch.set_index([\"이름\"])\n",
    "lunch2"
   ]
  },
  {
   "cell_type": "code",
   "execution_count": 48,
   "id": "25fea9b6",
   "metadata": {},
   "outputs": [
    {
     "data": {
      "text/plain": [
       "희망메뉴    낙지\n",
       "Name: 진우, dtype: object"
      ]
     },
     "execution_count": 48,
     "metadata": {},
     "output_type": "execute_result"
    }
   ],
   "source": [
    "lunch2.loc[\"진우\"]"
   ]
  },
  {
   "cell_type": "code",
   "execution_count": 49,
   "id": "1e34090a",
   "metadata": {},
   "outputs": [
    {
     "data": {
      "text/html": [
       "<div>\n",
       "<style scoped>\n",
       "    .dataframe tbody tr th:only-of-type {\n",
       "        vertical-align: middle;\n",
       "    }\n",
       "\n",
       "    .dataframe tbody tr th {\n",
       "        vertical-align: top;\n",
       "    }\n",
       "\n",
       "    .dataframe thead th {\n",
       "        text-align: right;\n",
       "    }\n",
       "</style>\n",
       "<table border=\"1\" class=\"dataframe\">\n",
       "  <thead>\n",
       "    <tr style=\"text-align: right;\">\n",
       "      <th></th>\n",
       "      <th>희망메뉴</th>\n",
       "      <th>이름</th>\n",
       "    </tr>\n",
       "    <tr>\n",
       "      <th>이름</th>\n",
       "      <th></th>\n",
       "      <th></th>\n",
       "    </tr>\n",
       "  </thead>\n",
       "  <tbody>\n",
       "    <tr>\n",
       "      <th>해찬</th>\n",
       "      <td>고기덮밥</td>\n",
       "      <td>해찬</td>\n",
       "    </tr>\n",
       "    <tr>\n",
       "      <th>명서</th>\n",
       "      <td>국수</td>\n",
       "      <td>명서</td>\n",
       "    </tr>\n",
       "    <tr>\n",
       "      <th>건희</th>\n",
       "      <td>완당</td>\n",
       "      <td>건희</td>\n",
       "    </tr>\n",
       "    <tr>\n",
       "      <th>원영</th>\n",
       "      <td>국밥</td>\n",
       "      <td>원영</td>\n",
       "    </tr>\n",
       "    <tr>\n",
       "      <th>문규</th>\n",
       "      <td>돈까스</td>\n",
       "      <td>문규</td>\n",
       "    </tr>\n",
       "    <tr>\n",
       "      <th>진우</th>\n",
       "      <td>낙지</td>\n",
       "      <td>진우</td>\n",
       "    </tr>\n",
       "  </tbody>\n",
       "</table>\n",
       "</div>"
      ],
      "text/plain": [
       "    희망메뉴  이름\n",
       "이름          \n",
       "해찬  고기덮밥  해찬\n",
       "명서    국수  명서\n",
       "건희    완당  건희\n",
       "원영    국밥  원영\n",
       "문규   돈까스  문규\n",
       "진우    낙지  진우"
      ]
     },
     "execution_count": 49,
     "metadata": {},
     "output_type": "execute_result"
    }
   ],
   "source": [
    "#컬럼에 있는 내용을 index에 추가 하고 싶을 때\n",
    "lunch2[\"이름\"] = lunch2.index\n",
    "lunch2"
   ]
  },
  {
   "cell_type": "code",
   "execution_count": 50,
   "id": "d1c29500",
   "metadata": {},
   "outputs": [
    {
     "data": {
      "text/html": [
       "<div>\n",
       "<style scoped>\n",
       "    .dataframe tbody tr th:only-of-type {\n",
       "        vertical-align: middle;\n",
       "    }\n",
       "\n",
       "    .dataframe tbody tr th {\n",
       "        vertical-align: top;\n",
       "    }\n",
       "\n",
       "    .dataframe thead th {\n",
       "        text-align: right;\n",
       "    }\n",
       "</style>\n",
       "<table border=\"1\" class=\"dataframe\">\n",
       "  <thead>\n",
       "    <tr style=\"text-align: right;\">\n",
       "      <th></th>\n",
       "      <th>희망메뉴</th>\n",
       "      <th>이름</th>\n",
       "      <th>가격</th>\n",
       "    </tr>\n",
       "    <tr>\n",
       "      <th>이름</th>\n",
       "      <th></th>\n",
       "      <th></th>\n",
       "      <th></th>\n",
       "    </tr>\n",
       "  </thead>\n",
       "  <tbody>\n",
       "    <tr>\n",
       "      <th>해찬</th>\n",
       "      <td>고기덮밥</td>\n",
       "      <td>해찬</td>\n",
       "      <td>10000</td>\n",
       "    </tr>\n",
       "    <tr>\n",
       "      <th>명서</th>\n",
       "      <td>국수</td>\n",
       "      <td>명서</td>\n",
       "      <td>8000</td>\n",
       "    </tr>\n",
       "    <tr>\n",
       "      <th>건희</th>\n",
       "      <td>완당</td>\n",
       "      <td>건희</td>\n",
       "      <td>12000</td>\n",
       "    </tr>\n",
       "    <tr>\n",
       "      <th>원영</th>\n",
       "      <td>국밥</td>\n",
       "      <td>원영</td>\n",
       "      <td>9000</td>\n",
       "    </tr>\n",
       "    <tr>\n",
       "      <th>문규</th>\n",
       "      <td>돈까스</td>\n",
       "      <td>문규</td>\n",
       "      <td>11000</td>\n",
       "    </tr>\n",
       "    <tr>\n",
       "      <th>진우</th>\n",
       "      <td>낙지</td>\n",
       "      <td>진우</td>\n",
       "      <td>12000</td>\n",
       "    </tr>\n",
       "  </tbody>\n",
       "</table>\n",
       "</div>"
      ],
      "text/plain": [
       "    희망메뉴  이름     가격\n",
       "이름                 \n",
       "해찬  고기덮밥  해찬  10000\n",
       "명서    국수  명서   8000\n",
       "건희    완당  건희  12000\n",
       "원영    국밥  원영   9000\n",
       "문규   돈까스  문규  11000\n",
       "진우    낙지  진우  12000"
      ]
     },
     "execution_count": 50,
     "metadata": {},
     "output_type": "execute_result"
    }
   ],
   "source": [
    "lunch2[\"가격\"] = [10000, 8000, 12000, 9000, 11000, 12000]\n",
    "lunch2"
   ]
  },
  {
   "cell_type": "code",
   "execution_count": 51,
   "id": "983184c3",
   "metadata": {},
   "outputs": [
    {
     "data": {
      "text/html": [
       "<div>\n",
       "<style scoped>\n",
       "    .dataframe tbody tr th:only-of-type {\n",
       "        vertical-align: middle;\n",
       "    }\n",
       "\n",
       "    .dataframe tbody tr th {\n",
       "        vertical-align: top;\n",
       "    }\n",
       "\n",
       "    .dataframe thead th {\n",
       "        text-align: right;\n",
       "    }\n",
       "</style>\n",
       "<table border=\"1\" class=\"dataframe\">\n",
       "  <thead>\n",
       "    <tr style=\"text-align: right;\">\n",
       "      <th></th>\n",
       "      <th>희망메뉴</th>\n",
       "      <th>이름</th>\n",
       "      <th>가격</th>\n",
       "    </tr>\n",
       "    <tr>\n",
       "      <th>이름</th>\n",
       "      <th></th>\n",
       "      <th></th>\n",
       "      <th></th>\n",
       "    </tr>\n",
       "  </thead>\n",
       "  <tbody>\n",
       "    <tr>\n",
       "      <th>건희</th>\n",
       "      <td>완당</td>\n",
       "      <td>건희</td>\n",
       "      <td>12000</td>\n",
       "    </tr>\n",
       "    <tr>\n",
       "      <th>진우</th>\n",
       "      <td>낙지</td>\n",
       "      <td>진우</td>\n",
       "      <td>12000</td>\n",
       "    </tr>\n",
       "    <tr>\n",
       "      <th>문규</th>\n",
       "      <td>돈까스</td>\n",
       "      <td>문규</td>\n",
       "      <td>11000</td>\n",
       "    </tr>\n",
       "    <tr>\n",
       "      <th>해찬</th>\n",
       "      <td>고기덮밥</td>\n",
       "      <td>해찬</td>\n",
       "      <td>10000</td>\n",
       "    </tr>\n",
       "    <tr>\n",
       "      <th>원영</th>\n",
       "      <td>국밥</td>\n",
       "      <td>원영</td>\n",
       "      <td>9000</td>\n",
       "    </tr>\n",
       "    <tr>\n",
       "      <th>명서</th>\n",
       "      <td>국수</td>\n",
       "      <td>명서</td>\n",
       "      <td>8000</td>\n",
       "    </tr>\n",
       "  </tbody>\n",
       "</table>\n",
       "</div>"
      ],
      "text/plain": [
       "    희망메뉴  이름     가격\n",
       "이름                 \n",
       "건희    완당  건희  12000\n",
       "진우    낙지  진우  12000\n",
       "문규   돈까스  문규  11000\n",
       "해찬  고기덮밥  해찬  10000\n",
       "원영    국밥  원영   9000\n",
       "명서    국수  명서   8000"
      ]
     },
     "execution_count": 51,
     "metadata": {},
     "output_type": "execute_result"
    }
   ],
   "source": [
    "#데이터프레임 정렬\n",
    "lunch2.sort_values(by=\"가격\",ascending = False)"
   ]
  },
  {
   "cell_type": "code",
   "execution_count": 52,
   "id": "1e5442b5",
   "metadata": {},
   "outputs": [],
   "source": [
    "#엑셀로 보내기 sheet이름은\n",
    "lunch2.to_excel(\"lunch2.xlsx\", sheet_name = \"MySheet1\")"
   ]
  },
  {
   "cell_type": "code",
   "execution_count": 53,
   "id": "7926dab8",
   "metadata": {},
   "outputs": [
    {
     "data": {
      "text/html": [
       "<div>\n",
       "<style scoped>\n",
       "    .dataframe tbody tr th:only-of-type {\n",
       "        vertical-align: middle;\n",
       "    }\n",
       "\n",
       "    .dataframe tbody tr th {\n",
       "        vertical-align: top;\n",
       "    }\n",
       "\n",
       "    .dataframe thead th {\n",
       "        text-align: right;\n",
       "    }\n",
       "</style>\n",
       "<table border=\"1\" class=\"dataframe\">\n",
       "  <thead>\n",
       "    <tr style=\"text-align: right;\">\n",
       "      <th></th>\n",
       "      <th>희망메뉴</th>\n",
       "    </tr>\n",
       "    <tr>\n",
       "      <th>이름</th>\n",
       "      <th></th>\n",
       "    </tr>\n",
       "  </thead>\n",
       "  <tbody>\n",
       "    <tr>\n",
       "      <th>해찬</th>\n",
       "      <td>고기덮밥</td>\n",
       "    </tr>\n",
       "    <tr>\n",
       "      <th>명서</th>\n",
       "      <td>국수</td>\n",
       "    </tr>\n",
       "    <tr>\n",
       "      <th>건희</th>\n",
       "      <td>완당</td>\n",
       "    </tr>\n",
       "    <tr>\n",
       "      <th>원영</th>\n",
       "      <td>국밥</td>\n",
       "    </tr>\n",
       "    <tr>\n",
       "      <th>문규</th>\n",
       "      <td>돈까스</td>\n",
       "    </tr>\n",
       "    <tr>\n",
       "      <th>진우</th>\n",
       "      <td>낙지</td>\n",
       "    </tr>\n",
       "  </tbody>\n",
       "</table>\n",
       "</div>"
      ],
      "text/plain": [
       "    희망메뉴\n",
       "이름      \n",
       "해찬  고기덮밥\n",
       "명서    국수\n",
       "건희    완당\n",
       "원영    국밥\n",
       "문규   돈까스\n",
       "진우    낙지"
      ]
     },
     "execution_count": 53,
     "metadata": {},
     "output_type": "execute_result"
    }
   ],
   "source": [
    "#카피해서 만들기\n",
    "lunch3 = lunch2.copy()\n",
    "lunch3 = lunch3[[\"희망메뉴\"]]\n",
    "lunch3"
   ]
  },
  {
   "cell_type": "code",
   "execution_count": 54,
   "id": "958f97ef",
   "metadata": {},
   "outputs": [],
   "source": [
    "#각각 시트에 이름지정하여 들어가게 하기\n",
    "writer = pd.ExcelWriter(\"lunch3.xlsx\")\n",
    "lunch2.to_excel(writer,sheet_name=\"lunch2\")\n",
    "lunch3.to_excel(writer,sheet_name=\"lunch3\")\n",
    "writer._save()\n",
    "writer.close()"
   ]
  },
  {
   "cell_type": "code",
   "execution_count": null,
   "id": "2ccc2d1f",
   "metadata": {},
   "outputs": [],
   "source": []
  },
  {
   "cell_type": "code",
   "execution_count": null,
   "id": "e0c09186",
   "metadata": {},
   "outputs": [],
   "source": [
    "#####################################################################################################################"
   ]
  },
  {
   "cell_type": "code",
   "execution_count": null,
   "id": "d79f055a",
   "metadata": {},
   "outputs": [],
   "source": []
  },
  {
   "cell_type": "code",
   "execution_count": 55,
   "id": "272fef5e",
   "metadata": {},
   "outputs": [
    {
     "data": {
      "text/html": [
       "<div>\n",
       "<style scoped>\n",
       "    .dataframe tbody tr th:only-of-type {\n",
       "        vertical-align: middle;\n",
       "    }\n",
       "\n",
       "    .dataframe tbody tr th {\n",
       "        vertical-align: top;\n",
       "    }\n",
       "\n",
       "    .dataframe thead th {\n",
       "        text-align: right;\n",
       "    }\n",
       "</style>\n",
       "<table border=\"1\" class=\"dataframe\">\n",
       "  <thead>\n",
       "    <tr style=\"text-align: right;\">\n",
       "      <th></th>\n",
       "      <th>버스</th>\n",
       "      <th>지하철</th>\n",
       "      <th>택시</th>\n",
       "    </tr>\n",
       "  </thead>\n",
       "  <tbody>\n",
       "    <tr>\n",
       "      <th>학생A</th>\n",
       "      <td>1000</td>\n",
       "      <td>1000</td>\n",
       "      <td>NaN</td>\n",
       "    </tr>\n",
       "    <tr>\n",
       "      <th>학생B</th>\n",
       "      <td>1500</td>\n",
       "      <td>2500</td>\n",
       "      <td>3500.0</td>\n",
       "    </tr>\n",
       "  </tbody>\n",
       "</table>\n",
       "</div>"
      ],
      "text/plain": [
       "       버스   지하철      택시\n",
       "학생A  1000  1000     NaN\n",
       "학생B  1500  2500  3500.0"
      ]
     },
     "execution_count": 55,
     "metadata": {},
     "output_type": "execute_result"
    }
   ],
   "source": [
    "#누락되는 데이터는 NaN으로 표기 \n",
    "# NaN :Not A Numer, Na, np.nan, None, Null\n",
    "data=[{\"버스\":1000, \"지하철\":1000},\n",
    "      {\"버스\":1500, \"지하철\":2500, \"택시\":3500}]\n",
    "idx = [\"학생A\", \"학생B\"]\n",
    "df = pd.DataFrame(data, index = idx)\n",
    "df"
   ]
  },
  {
   "cell_type": "code",
   "execution_count": 56,
   "id": "b4897722",
   "metadata": {},
   "outputs": [
    {
     "data": {
      "text/html": [
       "<div>\n",
       "<style scoped>\n",
       "    .dataframe tbody tr th:only-of-type {\n",
       "        vertical-align: middle;\n",
       "    }\n",
       "\n",
       "    .dataframe tbody tr th {\n",
       "        vertical-align: top;\n",
       "    }\n",
       "\n",
       "    .dataframe thead th {\n",
       "        text-align: right;\n",
       "    }\n",
       "</style>\n",
       "<table border=\"1\" class=\"dataframe\">\n",
       "  <thead>\n",
       "    <tr style=\"text-align: right;\">\n",
       "      <th></th>\n",
       "      <th>버스</th>\n",
       "      <th>지하철</th>\n",
       "      <th>택시</th>\n",
       "    </tr>\n",
       "  </thead>\n",
       "  <tbody>\n",
       "    <tr>\n",
       "      <th>학생B</th>\n",
       "      <td>1500</td>\n",
       "      <td>2500</td>\n",
       "      <td>3500.0</td>\n",
       "    </tr>\n",
       "  </tbody>\n",
       "</table>\n",
       "</div>"
      ],
      "text/plain": [
       "       버스   지하철      택시\n",
       "학생B  1500  2500  3500.0"
      ]
     },
     "execution_count": 56,
     "metadata": {},
     "output_type": "execute_result"
    }
   ],
   "source": [
    "#데이터는 비어있으면 안돼!!!!!!   NaN을 지운다 --> 컬럼과 행을 왜 지웠는지 설명할 수 있어야한다.\n",
    "\n",
    "#NaN  --> 방법1 : 불완전한 행을 없어지게 해야한다\n",
    "df.dropna()"
   ]
  },
  {
   "cell_type": "code",
   "execution_count": 57,
   "id": "ae2bd363",
   "metadata": {},
   "outputs": [
    {
     "data": {
      "text/html": [
       "<div>\n",
       "<style scoped>\n",
       "    .dataframe tbody tr th:only-of-type {\n",
       "        vertical-align: middle;\n",
       "    }\n",
       "\n",
       "    .dataframe tbody tr th {\n",
       "        vertical-align: top;\n",
       "    }\n",
       "\n",
       "    .dataframe thead th {\n",
       "        text-align: right;\n",
       "    }\n",
       "</style>\n",
       "<table border=\"1\" class=\"dataframe\">\n",
       "  <thead>\n",
       "    <tr style=\"text-align: right;\">\n",
       "      <th></th>\n",
       "      <th>버스</th>\n",
       "      <th>지하철</th>\n",
       "    </tr>\n",
       "  </thead>\n",
       "  <tbody>\n",
       "    <tr>\n",
       "      <th>학생A</th>\n",
       "      <td>1000</td>\n",
       "      <td>1000</td>\n",
       "    </tr>\n",
       "    <tr>\n",
       "      <th>학생B</th>\n",
       "      <td>1500</td>\n",
       "      <td>2500</td>\n",
       "    </tr>\n",
       "  </tbody>\n",
       "</table>\n",
       "</div>"
      ],
      "text/plain": [
       "       버스   지하철\n",
       "학생A  1000  1000\n",
       "학생B  1500  2500"
      ]
     },
     "execution_count": 57,
     "metadata": {},
     "output_type": "execute_result"
    }
   ],
   "source": [
    "# 방법2 : 특정 컬럼을 없앤다.\n",
    "df.dropna(axis=1)\n"
   ]
  },
  {
   "cell_type": "code",
   "execution_count": 58,
   "id": "178c0422",
   "metadata": {},
   "outputs": [
    {
     "data": {
      "text/html": [
       "<div>\n",
       "<style scoped>\n",
       "    .dataframe tbody tr th:only-of-type {\n",
       "        vertical-align: middle;\n",
       "    }\n",
       "\n",
       "    .dataframe tbody tr th {\n",
       "        vertical-align: top;\n",
       "    }\n",
       "\n",
       "    .dataframe thead th {\n",
       "        text-align: right;\n",
       "    }\n",
       "</style>\n",
       "<table border=\"1\" class=\"dataframe\">\n",
       "  <thead>\n",
       "    <tr style=\"text-align: right;\">\n",
       "      <th></th>\n",
       "      <th>버스</th>\n",
       "      <th>지하철</th>\n",
       "      <th>택시</th>\n",
       "    </tr>\n",
       "  </thead>\n",
       "  <tbody>\n",
       "    <tr>\n",
       "      <th>학생A</th>\n",
       "      <td>1000</td>\n",
       "      <td>1000</td>\n",
       "      <td>3500.0</td>\n",
       "    </tr>\n",
       "    <tr>\n",
       "      <th>학생B</th>\n",
       "      <td>1500</td>\n",
       "      <td>2500</td>\n",
       "      <td>3500.0</td>\n",
       "    </tr>\n",
       "  </tbody>\n",
       "</table>\n",
       "</div>"
      ],
      "text/plain": [
       "       버스   지하철      택시\n",
       "학생A  1000  1000  3500.0\n",
       "학생B  1500  2500  3500.0"
      ]
     },
     "execution_count": 58,
     "metadata": {},
     "output_type": "execute_result"
    }
   ],
   "source": [
    "#방법 3: 빈칸을 채우기\n",
    "df = df.fillna(3500)\n",
    "df"
   ]
  },
  {
   "cell_type": "code",
   "execution_count": 61,
   "id": "029edd25",
   "metadata": {},
   "outputs": [
    {
     "data": {
      "text/html": [
       "<div>\n",
       "<style scoped>\n",
       "    .dataframe tbody tr th:only-of-type {\n",
       "        vertical-align: middle;\n",
       "    }\n",
       "\n",
       "    .dataframe tbody tr th {\n",
       "        vertical-align: top;\n",
       "    }\n",
       "\n",
       "    .dataframe thead th {\n",
       "        text-align: right;\n",
       "    }\n",
       "</style>\n",
       "<table border=\"1\" class=\"dataframe\">\n",
       "  <thead>\n",
       "    <tr style=\"text-align: right;\">\n",
       "      <th></th>\n",
       "      <th>버스</th>\n",
       "      <th>지하철</th>\n",
       "      <th>택시</th>\n",
       "    </tr>\n",
       "  </thead>\n",
       "  <tbody>\n",
       "    <tr>\n",
       "      <th>학생A</th>\n",
       "      <td>1000</td>\n",
       "      <td>1000</td>\n",
       "      <td>3500.0</td>\n",
       "    </tr>\n",
       "    <tr>\n",
       "      <th>학생B</th>\n",
       "      <td>1500</td>\n",
       "      <td>2500</td>\n",
       "      <td>3500.0</td>\n",
       "    </tr>\n",
       "  </tbody>\n",
       "</table>\n",
       "</div>"
      ],
      "text/plain": [
       "       버스   지하철      택시\n",
       "학생A  1000  1000  3500.0\n",
       "학생B  1500  2500  3500.0"
      ]
     },
     "execution_count": 61,
     "metadata": {},
     "output_type": "execute_result"
    }
   ],
   "source": [
    "# 방법 3 : 빈값을 평균값으로 채우기\n",
    "df.iloc[0,2] = np.nan\n",
    "df = df.fillna(df.mean())\n",
    "df   "
   ]
  },
  {
   "cell_type": "code",
   "execution_count": 64,
   "id": "86d4b4d7",
   "metadata": {},
   "outputs": [
    {
     "data": {
      "text/plain": [
       "<Axes: >"
      ]
     },
     "execution_count": 64,
     "metadata": {},
     "output_type": "execute_result"
    },
    {
     "data": {
      "image/png": "[encoded data removed]",
      "text/plain": [
       "<Figure size 640x480 with 1 Axes>"
      ]
     },
     "metadata": {},
     "output_type": "display_data"
    }
   ],
   "source": [
    "# 방법 3:  평균값을 넣는 이유 :  plot에 빈칸이 생겼을 때 그래프를 채워주기 위해서\n",
    "s= pd.Series([46, 100, np.nan, np.nan, np.nan,\n",
    "              -465, -300, -777])\n",
    "s.plot()"
   ]
  },
  {
   "cell_type": "code",
   "execution_count": 66,
   "id": "607e7aa8",
   "metadata": {},
   "outputs": [
    {
     "data": {
      "text/plain": [
       "<Axes: >"
      ]
     },
     "execution_count": 66,
     "metadata": {},
     "output_type": "execute_result"
    },
    {
     "data": {
      "image/png": "[encoded data removed]",
      "text/plain": [
       "<Figure size 640x480 with 1 Axes>"
      ]
     },
     "metadata": {},
     "output_type": "display_data"
    }
   ],
   "source": [
    "# 방법 3:  평균값을 넣었지만 --> 그래프가 오히려 이상하게 나온다. --> 일자로 연결하자 \n",
    "s1 = s.fillna(s.mean())\n",
    "s1\n",
    "s1.plot()"
   ]
  },
  {
   "cell_type": "code",
   "execution_count": 67,
   "id": "7c309fc8",
   "metadata": {},
   "outputs": [
    {
     "data": {
      "text/plain": [
       "<Axes: >"
      ]
     },
     "execution_count": 67,
     "metadata": {},
     "output_type": "execute_result"
    },
    {
     "data": {
      "image/png": "[encoded data removed]",
      "text/plain": [
       "<Figure size 640x480 with 1 Axes>"
      ]
     },
     "metadata": {},
     "output_type": "display_data"
    }
   ],
   "source": [
    "#interpolation을 사용하여 그래프 채워주기\n",
    "s2= s.interpolate()\n",
    "s2.plot()"
   ]
  },
  {
   "cell_type": "code",
   "execution_count": null,
   "id": "5ac62304",
   "metadata": {},
   "outputs": [],
   "source": []
  },
  {
   "cell_type": "code",
   "execution_count": null,
   "id": "400967bd",
   "metadata": {},
   "outputs": [],
   "source": []
  },
  {
   "cell_type": "code",
   "execution_count": null,
   "id": "05f69235",
   "metadata": {},
   "outputs": [],
   "source": []
  },
  {
   "cell_type": "code",
   "execution_count": null,
   "id": "dffd378c",
   "metadata": {},
   "outputs": [],
   "source": []
  },
  {
   "cell_type": "code",
   "execution_count": null,
   "id": "b7458a60",
   "metadata": {},
   "outputs": [],
   "source": []
  },
  {
   "cell_type": "code",
   "execution_count": null,
   "id": "e4566174",
   "metadata": {},
   "outputs": [],
   "source": []
  },
  {
   "cell_type": "code",
   "execution_count": null,
   "id": "8525e3b5",
   "metadata": {},
   "outputs": [],
   "source": []
  },
  {
   "cell_type": "code",
   "execution_count": null,
   "id": "2c8c4057",
   "metadata": {},
   "outputs": [],
   "source": []
  }
 ],
 "metadata": {
  "kernelspec": {
   "display_name": "Python 3 (ipykernel)",
   "language": "python",
   "name": "python3"
  },
  "language_info": {
   "codemirror_mode": {
    "name": "ipython",
    "version": 3
   },
   "file_extension": ".py",
   "mimetype": "text/x-python",
   "name": "python",
   "nbconvert_exporter": "python",
   "pygments_lexer": "ipython3",
   "version": "3.8.17"
  }
 },
 "nbformat": 4,
 "nbformat_minor": 5
}
