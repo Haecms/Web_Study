{
 "cells": [
  {
   "cell_type": "code",
   "execution_count": 1,
   "id": "758aea84",
   "metadata": {},
   "outputs": [],
   "source": [
    "from selenium import webdriver\n",
    "from selenium.webdriver.common.by import By\n",
    "from bs4 import BeautifulSoup\n",
    "import time\n",
    "import selenium\n",
    "import pyautogui"
   ]
  },
  {
   "cell_type": "code",
   "execution_count": 4,
   "id": "9e19ab64",
   "metadata": {},
   "outputs": [],
   "source": [
    "wd = webdriver.Chrome() # chromedriver.exe를 괄호 안에 적었어야 함\n",
    "wd.maximize_window()\n",
    "url = \"https://map.kakao.com/\"\n",
    "wd.get(url) #파이썬 코드로 제어할 수 있는 커피빈 창이 열림\n",
    "searchbox=wd.find_element(By.ID,\"search.keyword.query\")\n",
    "searchbox.send_keys(\"부산대역\")\n",
    "searchbutton=wd.find_element(By.ID,\"search.keyword.submit\")\n",
    "wd.execute_script(\"arguments[0].click();\", searchbutton)\n",
    "time.sleep(2)\n",
    "radius_button=wd.find_element(By.CLASS_NAME,\"radius\")\n",
    "wd.execute_script(\"arguments[0].click();\", radius_button)\n",
    "time.sleep(1)\n",
    "\n",
    "# 이동하고 싶은 거리 / 0.8  = 좌표에 추가해야할 값\n",
    "pyautogui.moveTo(1200, 550)                 # 1200, 550 위치로 즉시 이동\n",
    "pyautogui.click()\n",
    "time.sleep(1)\n",
    "pyautogui.click()\n",
    "time.sleep(1)\n",
    "pyautogui.move(375, 0)\n",
    "pyautogui.click()\n",
    "time.sleep(1)\n",
    "pyautogui.press('esc')\n",
    "searchbox=wd.find_element(By.ID,\"search.keyword.query\")\n",
    "searchbox.send_keys(\" 맛집\")\n",
    "searchbutton=wd.find_element(By.ID,\"search.keyword.submit\")\n",
    "wd.execute_script(\"arguments[0].click();\", searchbutton)"
   ]
  },
  {
   "cell_type": "code",
   "execution_count": 2,
   "id": "e4e36d9c",
   "metadata": {},
   "outputs": [],
   "source": [
    "#!pip install pyautogui"
   ]
  },
  {
   "cell_type": "code",
   "execution_count": 50,
   "id": "ed38e1e6",
   "metadata": {},
   "outputs": [],
   "source": [
    "import pyautogui\n",
    "pyautogui.moveTo(910, 550)                 # 1200, 550 위치로 즉시 이동"
   ]
  },
  {
   "cell_type": "code",
   "execution_count": 57,
   "id": "49dafaac",
   "metadata": {},
   "outputs": [],
   "source": [
    "pyautogui.moveTo(910, 550)                 # 1200, 550 위치로 즉시 이동\n",
    "pyautogui.click()\n",
    "time.sleep(1)\n",
    "pyautogui.click()\n",
    "time.sleep(1)\n",
    "pyautogui.moveTo(910, 925)\n",
    "pyautogui.click()\n",
    "time.sleep(1)"
   ]
  },
  {
   "cell_type": "code",
   "execution_count": null,
   "id": "cfbdf698",
   "metadata": {},
   "outputs": [],
   "source": []
  }
 ],
 "metadata": {
  "kernelspec": {
   "display_name": "Python 3 (ipykernel)",
   "language": "python",
   "name": "python3"
  },
  "language_info": {
   "codemirror_mode": {
    "name": "ipython",
    "version": 3
   },
   "file_extension": ".py",
   "mimetype": "text/x-python",
   "name": "python",
   "nbconvert_exporter": "python",
   "pygments_lexer": "ipython3",
   "version": "3.8.17"
  }
 },
 "nbformat": 4,
 "nbformat_minor": 5
}
