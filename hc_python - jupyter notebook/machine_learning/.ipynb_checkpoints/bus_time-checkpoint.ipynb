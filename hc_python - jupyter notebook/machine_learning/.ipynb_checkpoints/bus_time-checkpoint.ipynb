{
 "cells": [
  {
   "cell_type": "code",
   "execution_count": 1,
   "id": "2f9e9374",
   "metadata": {},
   "outputs": [],
   "source": [
    "from selenium import webdriver\n",
    "from selenium.webdriver.common.by import By\n",
    "from selenium.webdriver.common.keys import Keys\n",
    "from bs4 import BeautifulSoup\n",
    "from selenium.webdriver import ActionChains\n",
    "import time\n",
    "import selenium\n",
    "import pyautogui"
   ]
  },
  {
   "cell_type": "code",
   "execution_count": 2,
   "id": "18bda118",
   "metadata": {},
   "outputs": [],
   "source": [
    "#파이썬 코드로 제어할 수 있는 네이버맵 창이 열림\n",
    "wd = webdriver.Chrome()\n",
    "url = \"https://map.naver.com/\"\n",
    "wd.get(url) "
   ]
  },
  {
   "cell_type": "code",
   "execution_count": 3,
   "id": "5cad51e3",
   "metadata": {},
   "outputs": [],
   "source": [
    "# 검색창에 버스번호를 치고 엔터 클릭됨\n",
    "searchbox=wd.find_element(By.XPATH,\"/html/body/app/layout/div[3]/div[2]/shrinkable-layout/div/app-base/search-input-box/div/div/div/input\")\n",
    "searchbox.send_keys(\"36\")\n",
    "searchbox.send_keys(Keys.ENTER)\n",
    "time.sleep(2)"
   ]
  },
  {
   "cell_type": "code",
   "execution_count": 4,
   "id": "c78037d0",
   "metadata": {},
   "outputs": [],
   "source": [
    "# 목록 중에서 특정 단어가 들어가면 바로 클릭하는 로직\n",
    "bus_list = []\n",
    "css_selector = \"\"\n",
    "html = wd.page_source\n",
    "soup = BeautifulSoup(html, \"html.parser\")\n",
    "bus_lists = soup.find_all(name=\"div\",attrs={\"class\":\"search_result_content_area\"}) # 페이지에 몇 개의 리스트가 있는지\n",
    "len(bus_lists)\n",
    "for i in range(len(bus_lists)):\n",
    "    #bus_list.append(soup.find(name=\"div\",attrs={\"class\":\"search_result_content_area\"}))\n",
    "    bus_list.append(soup.select(f\"#container > shrinkable-layout > div > app-base > search-layout > div.main.-top_space.ng-star-inserted > combined-search-list > fusion-search-list > fusion-bus-route-list > div > fusion-bus-route-item:nth-child({i+1})\"))\n",
    "    if '부산' in str(bus_list[i]):\n",
    "        css_selector = f\"#container > shrinkable-layout > div > app-base > search-layout > div.main.-top_space.ng-star-inserted > combined-search-list > fusion-search-list > fusion-bus-route-list > div > fusion-bus-route-item:nth-child({i+1})\"\n",
    "        break\n",
    "\n",
    "elem = wd.find_element(By.CSS_SELECTOR, css_selector)\n",
    "elem.click()\n",
    "#container > shrinkable-layout > div > app-base > search-layout > div.main.-top_space.ng-star-inserted > combined-search-list > fusion-search-list > fusion-bus-route-list > div > fusion-bus-route-item:nth-child(2)\n",
    "#container > shrinkable-layout > div > app-base > search-layout > div.main.-top_space.ng-star-inserted > combined-search-list > fusion-search-list > fusion-bus-route-list > div > fusion-bus-route-item:nth-child({i+1}) > div\n",
    "#container > shrinkable-layout > div > app-base > search-layout > div.main.-top_space.ng-star-inserted > combined-search-list > fusion-search-list > fusion-bus-route-list > div > fusion-bus-route-item:nth-child(3)\n",
    "#container > shrinkable-layout > div > app-base > search-layout > div.main.-top_space.ng-star-inserted > combined-search-list > fusion-search-list > fusion-bus-route-list > div > fusion-bus-route-item:nth-child(4)"
   ]
  },
  {
   "cell_type": "code",
   "execution_count": 5,
   "id": "f24ba326",
   "metadata": {},
   "outputs": [],
   "source": [
    "from selenium.webdriver import ActionChains\n",
    "html = wd.page_source\n",
    "some_tag = wd.find_element(By.CLASS_NAME, 'suggest_area')\n",
    "\n",
    "# somthing element 까지 스크롤\n",
    "for i in range(5):\n",
    "    action = (ActionChains(wd).move_to_element(some_tag)).perform()\n",
    "    time.sleep(0.5)\n"
   ]
  },
  {
   "cell_type": "code",
   "execution_count": 6,
   "id": "00296272",
   "metadata": {},
   "outputs": [
    {
     "name": "stdout",
     "output_type": "stream",
     "text": [
      "완료\n"
     ]
    }
   ],
   "source": [
    "# 클릭해서 새로운 화면이 나와서 다시 주소를 받아야 함\n",
    "# 현재 클릭한 버스의 모든 정류장이 나옴\n",
    "element = {} # 정류장과 정류장번호\n",
    "memory = \"\"\n",
    "x_path = \"\"\n",
    "state = \"LAST\"\n",
    "html = wd.page_source\n",
    "soup = BeautifulSoup(html, \"html.parser\")\n",
    "bus_stop_ids = soup.find_all(name=\"span\",attrs={\"class\":\"route_id\"}) # 정류장 번호\n",
    "\n",
    "for i in range (len(bus_stop_ids)):\n",
    "    try:\n",
    "        element[(wd.find_element(By.XPATH,f\"/html/body/app/layout/div[3]/div[2]/shrinkable-layout/div/app-base/search-layout/div[2]/entry-layout/entry-bus-route/div[1]/div[3]/div/div[1]/div[2]/ul/li[{i+1}]/a/span[2]/strong\")).text]= bus_stop_ids[i].text\n",
    "        memory = f\"/html/body/app/layout/div[3]/div[2]/shrinkable-layout/div/app-base/search-layout/div[2]/entry-layout/entry-bus-route/div[1]/div[3]/div/div[1]/div[2]/ul/li[{i+1}]/a/span[2]/strong\"\n",
    "    except:\n",
    "        try:\n",
    "            element[(wd.find_element(By.XPATH,f\"/html/body/app/layout/div[3]/div[2]/shrinkable-layout/div/app-base/search-layout/div[2]/entry-layout/entry-bus-route/div[1]/div[2]/div/div[1]/div[2]/ul/li[{i+1}]/a/span[2]/strong\")).text]= bus_stop_ids[i].text\n",
    "            memory = f\"/html/body/app/layout/div[3]/div[2]/shrinkable-layout/div/app-base/search-layout/div[2]/entry-layout/entry-bus-route/div[1]/div[2]/div/div[1]/div[2]/ul/li[{i+1}]/a/span[2]/strong\"\n",
    "        except:\n",
    "            print(\"실패\")\n",
    "        \n",
    "    if (wd.find_element(By.XPATH, memory).text == \"안평.고촌\"):\n",
    "        if state == \"LAST\":\n",
    "            state = \"FIRST\"\n",
    "            continue\n",
    "        time.sleep(1)\n",
    "        button = wd.find_element(By.XPATH, memory)\n",
    "        ActionChains(wd).click(button).perform()\n",
    "        break;"
   ]
  },
  {
   "cell_type": "code",
   "execution_count": 8,
   "id": "19e703cd",
   "metadata": {},
   "outputs": [
    {
     "data": {
      "text/plain": [
       "['36',\n",
       " '17분 15정류장 / 45분 35정류장 / ',\n",
       " '73',\n",
       " '운행정보없음',\n",
       " '73(아침)',\n",
       " '55분 38정류장 / ',\n",
       " '183',\n",
       " '13분 9정류장 / 23분 18정류장 / ',\n",
       " '183(심야)',\n",
       " '운행정보없음']"
      ]
     },
     "execution_count": 8,
     "metadata": {},
     "output_type": "execute_result"
    }
   ],
   "source": [
    "html = wd.page_source\n",
    "soup = BeautifulSoup(html, \"html.parser\")\n",
    "bus_times = wd.find_element(By.XPATH, \"/html/body/div[1]/div[1]/div/div[2]/div/div[3]/div[3]/div/div/div[1]/div/div/div[2]/div\")\n",
    "bus_times = bus_times.text.replace(\"저장\",\"\").replace(\" \",\"\").replace(\"출발도착\", \"\").split()\n",
    "cur_bus_times = []\n",
    "for i in range(len(bus_times)):\n",
    "    cur_bus_times.append(bus_times[i].replace(\"착\", \"착 \").replace(\"장\",\"장 / \").replace(\"분\",\"분 \"))\n",
    "    \n",
    "cur_bus_times\n",
    "#(((bus_times.text.replace(\" \",\"\")).split()))\n",
    " #replace(\"저장\",\" \")).replace(\"출발도착\",\"\")).split())"
   ]
  },
  {
   "cell_type": "code",
   "execution_count": 6,
   "id": "bded7462",
   "metadata": {},
   "outputs": [],
   "source": [
    "pyautogui.moveTo(700, 550)"
   ]
  },
  {
   "cell_type": "code",
   "execution_count": 8,
   "id": "b5cf8f3d",
   "metadata": {},
   "outputs": [
    {
     "data": {
      "text/plain": [
       "['36',\n",
       " '9분 6정류장 / 32분 26정류장 / ',\n",
       " '73',\n",
       " '1시간12분 53정류장 / ',\n",
       " '73(아침)',\n",
       " '30분 24정류장 / ',\n",
       " '183',\n",
       " '10분 6정류장 / 32분 27정류장 / ',\n",
       " '183(심야)',\n",
       " '운행정보없음']"
      ]
     },
     "execution_count": 8,
     "metadata": {},
     "output_type": "execute_result"
    }
   ],
   "source": [
    "from selenium import webdriver\n",
    "from selenium.webdriver.common.by import By\n",
    "from selenium.webdriver.common.keys import Keys\n",
    "from bs4 import BeautifulSoup\n",
    "from selenium.webdriver import ActionChains\n",
    "import time\n",
    "import selenium\n",
    "import pyautogui\n",
    "\n",
    "#파이썬 코드로 제어할 수 있는 네이버맵 창이 열림\n",
    "wd = webdriver.Chrome()\n",
    "url = \"https://map.naver.com/\"\n",
    "wd.get(url) \n",
    "time.sleep(5)\n",
    "\n",
    "# 검색창에 버스번호를 치고 엔터 클릭됨\n",
    "searchbox=wd.find_element(By.XPATH,\"/html/body/app/layout/div[3]/div[2]/shrinkable-layout/div/app-base/search-input-box/div/div/div/input\")\n",
    "searchbox.send_keys(\"36\")\n",
    "searchbox.send_keys(Keys.ENTER)\n",
    "time.sleep(2)\n",
    "\n",
    "# 목록 중에서 특정 단어가 들어가면 바로 클릭하는 로직\n",
    "bus_list = []\n",
    "css_selector = \"\"\n",
    "html = wd.page_source\n",
    "soup = BeautifulSoup(html, \"html.parser\")\n",
    "bus_lists = soup.find_all(name=\"div\",attrs={\"class\":\"search_result_content_area\"}) # 페이지에 몇 개의 리스트가 있는지\n",
    "len(bus_lists)\n",
    "for i in range(len(bus_lists)):\n",
    "    #bus_list.append(soup.find(name=\"div\",attrs={\"class\":\"search_result_content_area\"}))\n",
    "    bus_list.append(soup.select(f\"#container > shrinkable-layout > div > app-base > search-layout > div.main.-top_space.ng-star-inserted > combined-search-list > fusion-search-list > fusion-bus-route-list > div > fusion-bus-route-item:nth-child({i+1})\"))\n",
    "    if '부산' in str(bus_list[i]):\n",
    "        css_selector = f\"#container > shrinkable-layout > div > app-base > search-layout > div.main.-top_space.ng-star-inserted > combined-search-list > fusion-search-list > fusion-bus-route-list > div > fusion-bus-route-item:nth-child({i+1})\"\n",
    "        break\n",
    "elem = wd.find_element(By.CSS_SELECTOR, css_selector)\n",
    "elem.click()\n",
    "\n",
    "time.sleep(1)\n",
    "some_tag = wd.find_element(By.CLASS_NAME, 'suggest_area')\n",
    "\n",
    "# somthing element 까지 스크롤\n",
    "for i in range(5):\n",
    "    action = (ActionChains(wd).move_to_element(some_tag)).perform()\n",
    "    time.sleep(0.5)\n",
    "    \n",
    "# 클릭해서 새로운 화면이 나와서 다시 주소를 받아야 함\n",
    "# 현재 클릭한 버스의 모든 정류장이 나옴\n",
    "element = {} # 정류장과 정류장번호\n",
    "memory = \"\"\n",
    "x_path = \"\"\n",
    "state = \"LAST\"\n",
    "html = wd.page_source\n",
    "soup = BeautifulSoup(html, \"html.parser\")\n",
    "bus_stop_ids = soup.find_all(name=\"span\",attrs={\"class\":\"route_id\"}) # 정류장 번호\n",
    "\n",
    "for i in range (len(bus_stop_ids)):\n",
    "    try:\n",
    "        element[(wd.find_element(By.XPATH,f\"/html/body/app/layout/div[3]/div[2]/shrinkable-layout/div/app-base/search-layout/div[2]/entry-layout/entry-bus-route/div[1]/div[3]/div/div[1]/div[2]/ul/li[{i+1}]/a/span[2]/strong\")).text]= bus_stop_ids[i].text\n",
    "        memory = f\"/html/body/app/layout/div[3]/div[2]/shrinkable-layout/div/app-base/search-layout/div[2]/entry-layout/entry-bus-route/div[1]/div[3]/div/div[1]/div[2]/ul/li[{i+1}]/a/span[2]/strong\"\n",
    "    except:\n",
    "        try:\n",
    "            element[(wd.find_element(By.XPATH,f\"/html/body/app/layout/div[3]/div[2]/shrinkable-layout/div/app-base/search-layout/div[2]/entry-layout/entry-bus-route/div[1]/div[2]/div/div[1]/div[2]/ul/li[{i+1}]/a/span[2]/strong\")).text]= bus_stop_ids[i].text\n",
    "            memory = f\"/html/body/app/layout/div[3]/div[2]/shrinkable-layout/div/app-base/search-layout/div[2]/entry-layout/entry-bus-route/div[1]/div[2]/div/div[1]/div[2]/ul/li[{i+1}]/a/span[2]/strong\"\n",
    "        except:\n",
    "            print(\"실패\")\n",
    "        \n",
    "    if (wd.find_element(By.XPATH, memory).text == \"안평.고촌\"):\n",
    "        if state == \"LAST\":\n",
    "            state = \"FIRST\"\n",
    "            continue\n",
    "        time.sleep(1)\n",
    "        button = wd.find_element(By.XPATH, memory)\n",
    "        ActionChains(wd).click(button).perform()\n",
    "        break;\n",
    "        \n",
    "html = wd.page_source\n",
    "soup = BeautifulSoup(html, \"html.parser\")\n",
    "bus_times = wd.find_element(By.XPATH, \"/html/body/div[1]/div[1]/div/div[2]/div/div[3]/div[3]/div/div/div[1]/div/div/div[2]/div\")\n",
    "bus_times = bus_times.text.replace(\"저장\",\"\").replace(\" \",\"\").replace(\"출발도착\", \"\").split()\n",
    "cur_bus_times = []\n",
    "for i in range(len(bus_times)):\n",
    "    cur_bus_times.append(bus_times[i].replace(\"착\", \"착 \").replace(\"장\",\"장 / \").replace(\"분\",\"분 \"))\n",
    "    \n",
    "cur_bus_times"
   ]
  },
  {
   "cell_type": "code",
   "execution_count": null,
   "id": "eaf014a2",
   "metadata": {},
   "outputs": [],
   "source": []
  }
 ],
 "metadata": {
  "kernelspec": {
   "display_name": "Python 3 (ipykernel)",
   "language": "python",
   "name": "python3"
  },
  "language_info": {
   "codemirror_mode": {
    "name": "ipython",
    "version": 3
   },
   "file_extension": ".py",
   "mimetype": "text/x-python",
   "name": "python",
   "nbconvert_exporter": "python",
   "pygments_lexer": "ipython3",
   "version": "3.8.17"
  }
 },
 "nbformat": 4,
 "nbformat_minor": 5
}
