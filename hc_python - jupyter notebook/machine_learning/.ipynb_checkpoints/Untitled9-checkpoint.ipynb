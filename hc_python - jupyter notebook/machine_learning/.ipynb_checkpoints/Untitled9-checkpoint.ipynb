{
 "cells": [
  {
   "cell_type": "code",
   "execution_count": 1,
   "id": "0a2fcfae",
   "metadata": {},
   "outputs": [],
   "source": [
    "import pymssql\n",
    "import requests, xmltodict"
   ]
  },
  {
   "cell_type": "code",
   "execution_count": 4,
   "id": "c41dfd05",
   "metadata": {},
   "outputs": [],
   "source": [
    "url = f\"https://apis.data.go.kr/6260000/BusanBIMS/busInfoByRouteId?lineid=5200010000&serviceKey=\"\n",
    "key = \"eGd64%2BKKwReSBNO%2FuYgP91ORnHfKn5a8%2BbWxTQXQdqOrGeRVtf%2B%2BFZufsB1Tz6osqB5cnIOjuFycCi9qnp8iIA%3D%3D\"\n",
    "url_key = url + key\n",
    "content = requests.get(url_key).content\n",
    "dict=xmltodict.parse(content)\n",
    "dict_s = dict[\"response\"][\"body\"][\"items\"][\"item\"]"
   ]
  },
  {
   "cell_type": "code",
   "execution_count": 11,
   "id": "44041195",
   "metadata": {},
   "outputs": [
    {
     "ename": "TypeError",
     "evalue": "list indices must be integers or slices, not str",
     "output_type": "error",
     "traceback": [
      "\u001b[1;31m---------------------------------------------------------------------------\u001b[0m",
      "\u001b[1;31mTypeError\u001b[0m                                 Traceback (most recent call last)",
      "Cell \u001b[1;32mIn[11], line 1\u001b[0m\n\u001b[1;32m----> 1\u001b[0m \u001b[43mdict_s\u001b[49m\u001b[43m[\u001b[49m\u001b[38;5;124;43m\"\u001b[39;49m\u001b[38;5;124;43m교대역\u001b[39;49m\u001b[38;5;124;43m\"\u001b[39;49m\u001b[43m]\u001b[49m\n",
      "\u001b[1;31mTypeError\u001b[0m: list indices must be integers or slices, not str"
     ]
    }
   ],
   "source": [
    "for i in range(len(dict_s)):\n",
    "    if dict_s[i][bstopnm] == \"교대역\":\n",
    "        "
   ]
  },
  {
   "cell_type": "code",
   "execution_count": 41,
   "id": "b73d79aa",
   "metadata": {},
   "outputs": [
    {
     "data": {
      "text/plain": [
       "({'bstopidx': '34',\n",
       "  'bstopnm': '서면한전',\n",
       "  'nodeid': '505880000',\n",
       "  'lineno': '10',\n",
       "  'arsno': '05713',\n",
       "  'avgym': '67',\n",
       "  'rpoint': '0'},\n",
       " {'bstopidx': '34',\n",
       "  'bstopnm': '서면한전',\n",
       "  'nodeid': '505880000',\n",
       "  'lineno': '10',\n",
       "  'arsno': '05713',\n",
       "  'avgym': '67',\n",
       "  'rpoint': '0'})"
      ]
     },
     "execution_count": 41,
     "metadata": {},
     "output_type": "execute_result"
    }
   ],
   "source": [
    "name_to_dict = {d['bstopnm']: d for d in dict_s}\n",
    "\n",
    "# name이 'Alice'인 딕셔너리를 빠르게 찾기\n",
    "desired_name = '서면한전'\n",
    "desired_dict = name_to_dict.get(desired_name)\n",
    "desired_dict2 = name_to_dict.get(desired_name)\n",
    "dicti = {}\n",
    "dicti[desired_dict['arsno']]=desired_dict['bstopnm']\n",
    "desired_dict"
   ]
  },
  {
   "cell_type": "code",
   "execution_count": null,
   "id": "037bc3ad",
   "metadata": {},
   "outputs": [],
   "source": []
  },
  {
   "cell_type": "code",
   "execution_count": 35,
   "id": "c707b20a",
   "metadata": {},
   "outputs": [
    {
     "data": {
      "text/plain": [
       "119"
      ]
     },
     "execution_count": 35,
     "metadata": {},
     "output_type": "execute_result"
    }
   ],
   "source": [
    "len(dict_s)"
   ]
  },
  {
   "cell_type": "code",
   "execution_count": 30,
   "id": "797008ea",
   "metadata": {},
   "outputs": [
    {
     "data": {
      "text/plain": [
       "[{'05713': '범내골역'}]"
      ]
     },
     "execution_count": 30,
     "metadata": {},
     "output_type": "execute_result"
    }
   ],
   "source": [
    "arsno_nextname = []\n",
    "for i in range(len(dict_s)):\n",
    "    if \"서면한전\" == dict_s[i][\"bstopnm\"]:\n",
    "        dict_arsno_nextname = {}\n",
    "        dict_arsno_nextname[dict_s[i][\"arsno\"]] = dict_s[i+1][\"bstopnm\"]\n",
    "        arsno_nextname.append(dict_arsno_nextname) # 마지막 정류장일 경우도 있어서 수정 해야함 (인덱스 값을 받아서 해보기)\n",
    "arsno_nextname"
   ]
  },
  {
   "cell_type": "code",
   "execution_count": null,
   "id": "ce92b32f",
   "metadata": {},
   "outputs": [],
   "source": []
  },
  {
   "cell_type": "code",
   "execution_count": 23,
   "id": "3f507dda",
   "metadata": {},
   "outputs": [],
   "source": [
    "import pandas as pd"
   ]
  },
  {
   "cell_type": "code",
   "execution_count": 40,
   "id": "30a2ec28",
   "metadata": {},
   "outputs": [
    {
     "data": {
      "text/html": [
       "<div>\n",
       "<style scoped>\n",
       "    .dataframe tbody tr th:only-of-type {\n",
       "        vertical-align: middle;\n",
       "    }\n",
       "\n",
       "    .dataframe tbody tr th {\n",
       "        vertical-align: top;\n",
       "    }\n",
       "\n",
       "    .dataframe thead th {\n",
       "        text-align: right;\n",
       "    }\n",
       "</style>\n",
       "<table border=\"1\" class=\"dataframe\">\n",
       "  <thead>\n",
       "    <tr style=\"text-align: right;\">\n",
       "      <th></th>\n",
       "      <th>국</th>\n",
       "      <th>영</th>\n",
       "      <th>수</th>\n",
       "    </tr>\n",
       "  </thead>\n",
       "  <tbody>\n",
       "    <tr>\n",
       "      <th>0</th>\n",
       "      <td>80</td>\n",
       "      <td>90</td>\n",
       "      <td>100</td>\n",
       "    </tr>\n",
       "    <tr>\n",
       "      <th>1</th>\n",
       "      <td>100</td>\n",
       "      <td>80</td>\n",
       "      <td>90</td>\n",
       "    </tr>\n",
       "  </tbody>\n",
       "</table>\n",
       "</div>"
      ],
      "text/plain": [
       "     국   영    수\n",
       "0   80  90  100\n",
       "1  100  80   90"
      ]
     },
     "execution_count": 40,
     "metadata": {},
     "output_type": "execute_result"
    }
   ],
   "source": [
    "A = {\"국\":\"80\", \"영\":\"90\",\"수\":\"100\"}\n",
    "B = {\"국\":\"100\", \"영\":\"80\",\"수\":\"90\"}\n",
    "C = []\n",
    "C.append(A)\n",
    "C.append(B)\n",
    "D = pd.DataFrame(C)\n",
    "D"
   ]
  },
  {
   "cell_type": "code",
   "execution_count": 1,
   "id": "98642e21",
   "metadata": {},
   "outputs": [],
   "source": [
    "from datetime import datetime"
   ]
  },
  {
   "cell_type": "code",
   "execution_count": 7,
   "id": "96f51bd9",
   "metadata": {},
   "outputs": [
    {
     "data": {
      "text/plain": [
       "33"
      ]
     },
     "execution_count": 7,
     "metadata": {},
     "output_type": "execute_result"
    }
   ],
   "source": [
    "int(datetime.today().strftime(\"%S\"))"
   ]
  },
  {
   "cell_type": "code",
   "execution_count": null,
   "id": "bc073b08",
   "metadata": {},
   "outputs": [],
   "source": [
    "lineid_list = []\n",
    "lineid_list.append()\n",
    "bust_station_name = \"교대역\""
   ]
  },
  {
   "cell_type": "code",
   "execution_count": null,
   "id": "8b3b7511",
   "metadata": {},
   "outputs": [],
   "source": [
    "def get_bus_arsno(lineid_list, bus_station_name):\n",
    "    temp_list = []\n",
    "    temp_dict_a = {}\n",
    "    for index in range(len(lineid_list)):\n",
    "        temp_dict_a[f'{index}'] = lineid_list[index]\n",
    "    url = f\"https://apis.data.go.kr/6260000/BusanBIMS/busInfoByRouteId?\"\n",
    "    key = \"eGd64%2BKKwReSBNO%2FuYgP91ORnHfKn5a8%2BbWxTQXQdqOrGeRVtf%2B%2BFZufsB1Tz6osqB5cnIOjuFycCi9qnp8iIA%3D%3D\"\n",
    "    \n",
    "    for value in temp_dict_a.values():\n",
    "        temp_dict = {}\n",
    "        temp_lineid = f'lineid={value}&serviceKey='\n",
    "        url_key = url + temp_lineid + key\n",
    "\n",
    "        temp_dict['lineid'] = value\n",
    "        content = requests.get(url_key).content\n",
    "        dict=xmltodict.parse(content)\n",
    "        dict_s = dict[\"response\"][\"body\"][\"items\"][\"item\"]\n",
    "        temp_dict['data'] = dict_s\n",
    "\n",
    "        temp_list.append(temp_dict)\n",
    "    return temp_list\n",
    "\n",
    "a = get_bus_arsno(lineid_list, bus_station_name)\n",
    "a"
   ]
  }
 ],
 "metadata": {
  "kernelspec": {
   "display_name": "Python 3 (ipykernel)",
   "language": "python",
   "name": "python3"
  },
  "language_info": {
   "codemirror_mode": {
    "name": "ipython",
    "version": 3
   },
   "file_extension": ".py",
   "mimetype": "text/x-python",
   "name": "python",
   "nbconvert_exporter": "python",
   "pygments_lexer": "ipython3",
   "version": "3.8.17"
  }
 },
 "nbformat": 4,
 "nbformat_minor": 5
}
