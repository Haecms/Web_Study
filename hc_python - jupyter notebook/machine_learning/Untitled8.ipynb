{
 "cells": [
  {
   "cell_type": "code",
   "execution_count": 7,
   "id": "3a781e3c",
   "metadata": {},
   "outputs": [
    {
     "data": {
      "text/plain": [
       "dict_keys(['boy', 'school', 'book'])"
      ]
     },
     "execution_count": 7,
     "metadata": {},
     "output_type": "execute_result"
    }
   ],
   "source": [
    "dic = {'boy':'소년', 'school':'학교', 'book':'책'}\n",
    "keylist = dic.keys()\n",
    "keylist"
   ]
  },
  {
   "cell_type": "code",
   "execution_count": 11,
   "id": "3fec6868",
   "metadata": {},
   "outputs": [
    {
     "name": "stdout",
     "output_type": "stream",
     "text": [
      "1 1\n",
      "1 2\n",
      "1 3\n",
      "1 4\n",
      "1 5\n",
      "2 6\n",
      "2 7\n",
      "2 8\n",
      "2 9\n",
      "2 10\n",
      "3 11\n",
      "3 12\n",
      "3 13\n",
      "3 14\n",
      "3 15\n",
      "4 16\n",
      "4 17\n",
      "4 18\n",
      "4 19\n",
      "4 20\n",
      "5 21\n",
      "5 22\n",
      "5 23\n",
      "5 24\n",
      "5 25\n"
     ]
    }
   ],
   "source": [
    "num1 = 0\n",
    "num2 = 0\n",
    "\n",
    "for i in range (0,5):\n",
    "    num1 += 1\n",
    "    for j in range (0,5):\n",
    "        num2 += 1\n",
    "        print(num1, num2)\n"
   ]
  }
 ],
 "metadata": {
  "kernelspec": {
   "display_name": "Python 3 (ipykernel)",
   "language": "python",
   "name": "python3"
  },
  "language_info": {
   "codemirror_mode": {
    "name": "ipython",
    "version": 3
   },
   "file_extension": ".py",
   "mimetype": "text/x-python",
   "name": "python",
   "nbconvert_exporter": "python",
   "pygments_lexer": "ipython3",
   "version": "3.8.17"
  }
 },
 "nbformat": 4,
 "nbformat_minor": 5
}
