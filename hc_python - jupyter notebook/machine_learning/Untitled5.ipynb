{
 "cells": [
  {
   "cell_type": "code",
   "execution_count": 1,
   "id": "f45938cb",
   "metadata": {},
   "outputs": [],
   "source": [
    "# Emsemble 앙상블"
   ]
  },
  {
   "cell_type": "code",
   "execution_count": 2,
   "id": "c359ef82",
   "metadata": {},
   "outputs": [],
   "source": [
    "# random forest: 병렬적\n",
    "# boost 계열: 직렬적, 순차적 (점점 오류를 줄여나가는 느낌)"
   ]
  },
  {
   "cell_type": "code",
   "execution_count": 67,
   "id": "54a399ea",
   "metadata": {},
   "outputs": [],
   "source": [
    "from sklearn.ensemble import VotingClassifier\n",
    "from sklearn.linear_model import LogisticRegression\n",
    "from sklearn.neighbors import KNeighborsClassifier\n",
    "\n",
    "from sklearn.datasets import load_breast_cancer # 유방암 데이터\n",
    "\n",
    "from sklearn.model_selection import train_test_split\n",
    "from sklearn.metrics import accuracy_score\n",
    "\n",
    "import pandas as pd\n",
    "import numpy as np\n",
    "import matplotlib.pyplot as plt"
   ]
  },
  {
   "cell_type": "code",
   "execution_count": 68,
   "id": "69fad71a",
   "metadata": {},
   "outputs": [
    {
     "data": {
      "text/plain": [
       "dict_keys(['data', 'target', 'frame', 'target_names', 'DESCR', 'feature_names', 'filename', 'data_module'])"
      ]
     },
     "execution_count": 68,
     "metadata": {},
     "output_type": "execute_result"
    }
   ],
   "source": [
    "cancer = load_breast_cancer()\n",
    "cancer.keys() # key 데이터가 어떤 것인지 알려줌"
   ]
  },
  {
   "cell_type": "code",
   "execution_count": 69,
   "id": "b49a562c",
   "metadata": {},
   "outputs": [
    {
     "data": {
      "text/plain": [
       "array(['malignant', 'benign'], dtype='<U9')"
      ]
     },
     "execution_count": 69,
     "metadata": {},
     "output_type": "execute_result"
    }
   ],
   "source": [
    "cancer.target_names #0: malignant악성 종양, 1: benign 일반 종양"
   ]
  },
  {
   "cell_type": "code",
   "execution_count": 70,
   "id": "da8e3ca5",
   "metadata": {},
   "outputs": [
    {
     "data": {
      "text/plain": [
       "((30,),\n",
       " array(['mean radius', 'mean texture', 'mean perimeter', 'mean area',\n",
       "        'mean smoothness', 'mean compactness', 'mean concavity',\n",
       "        'mean concave points', 'mean symmetry', 'mean fractal dimension',\n",
       "        'radius error', 'texture error', 'perimeter error', 'area error',\n",
       "        'smoothness error', 'compactness error', 'concavity error',\n",
       "        'concave points error', 'symmetry error',\n",
       "        'fractal dimension error', 'worst radius', 'worst texture',\n",
       "        'worst perimeter', 'worst area', 'worst smoothness',\n",
       "        'worst compactness', 'worst concavity', 'worst concave points',\n",
       "        'worst symmetry', 'worst fractal dimension'], dtype='<U23'))"
      ]
     },
     "execution_count": 70,
     "metadata": {},
     "output_type": "execute_result"
    }
   ],
   "source": [
    "cancer.feature_names.shape, cancer.feature_names"
   ]
  },
  {
   "cell_type": "code",
   "execution_count": 71,
   "id": "3505fe3a",
   "metadata": {},
   "outputs": [
    {
     "data": {
      "text/html": [
       "<div>\n",
       "<style scoped>\n",
       "    .dataframe tbody tr th:only-of-type {\n",
       "        vertical-align: middle;\n",
       "    }\n",
       "\n",
       "    .dataframe tbody tr th {\n",
       "        vertical-align: top;\n",
       "    }\n",
       "\n",
       "    .dataframe thead th {\n",
       "        text-align: right;\n",
       "    }\n",
       "</style>\n",
       "<table border=\"1\" class=\"dataframe\">\n",
       "  <thead>\n",
       "    <tr style=\"text-align: right;\">\n",
       "      <th></th>\n",
       "      <th>mean radius</th>\n",
       "      <th>mean texture</th>\n",
       "      <th>mean perimeter</th>\n",
       "      <th>mean area</th>\n",
       "      <th>mean smoothness</th>\n",
       "      <th>mean compactness</th>\n",
       "      <th>mean concavity</th>\n",
       "      <th>mean concave points</th>\n",
       "      <th>mean symmetry</th>\n",
       "      <th>mean fractal dimension</th>\n",
       "      <th>...</th>\n",
       "      <th>worst radius</th>\n",
       "      <th>worst texture</th>\n",
       "      <th>worst perimeter</th>\n",
       "      <th>worst area</th>\n",
       "      <th>worst smoothness</th>\n",
       "      <th>worst compactness</th>\n",
       "      <th>worst concavity</th>\n",
       "      <th>worst concave points</th>\n",
       "      <th>worst symmetry</th>\n",
       "      <th>worst fractal dimension</th>\n",
       "    </tr>\n",
       "  </thead>\n",
       "  <tbody>\n",
       "    <tr>\n",
       "      <th>0</th>\n",
       "      <td>17.99</td>\n",
       "      <td>10.38</td>\n",
       "      <td>122.8</td>\n",
       "      <td>1001.0</td>\n",
       "      <td>0.11840</td>\n",
       "      <td>0.27760</td>\n",
       "      <td>0.3001</td>\n",
       "      <td>0.14710</td>\n",
       "      <td>0.2419</td>\n",
       "      <td>0.07871</td>\n",
       "      <td>...</td>\n",
       "      <td>25.38</td>\n",
       "      <td>17.33</td>\n",
       "      <td>184.6</td>\n",
       "      <td>2019.0</td>\n",
       "      <td>0.1622</td>\n",
       "      <td>0.6656</td>\n",
       "      <td>0.7119</td>\n",
       "      <td>0.2654</td>\n",
       "      <td>0.4601</td>\n",
       "      <td>0.11890</td>\n",
       "    </tr>\n",
       "    <tr>\n",
       "      <th>1</th>\n",
       "      <td>20.57</td>\n",
       "      <td>17.77</td>\n",
       "      <td>132.9</td>\n",
       "      <td>1326.0</td>\n",
       "      <td>0.08474</td>\n",
       "      <td>0.07864</td>\n",
       "      <td>0.0869</td>\n",
       "      <td>0.07017</td>\n",
       "      <td>0.1812</td>\n",
       "      <td>0.05667</td>\n",
       "      <td>...</td>\n",
       "      <td>24.99</td>\n",
       "      <td>23.41</td>\n",
       "      <td>158.8</td>\n",
       "      <td>1956.0</td>\n",
       "      <td>0.1238</td>\n",
       "      <td>0.1866</td>\n",
       "      <td>0.2416</td>\n",
       "      <td>0.1860</td>\n",
       "      <td>0.2750</td>\n",
       "      <td>0.08902</td>\n",
       "    </tr>\n",
       "  </tbody>\n",
       "</table>\n",
       "<p>2 rows × 30 columns</p>\n",
       "</div>"
      ],
      "text/plain": [
       "   mean radius  mean texture  mean perimeter  mean area  mean smoothness  \\\n",
       "0        17.99         10.38           122.8     1001.0          0.11840   \n",
       "1        20.57         17.77           132.9     1326.0          0.08474   \n",
       "\n",
       "   mean compactness  mean concavity  mean concave points  mean symmetry  \\\n",
       "0           0.27760          0.3001              0.14710         0.2419   \n",
       "1           0.07864          0.0869              0.07017         0.1812   \n",
       "\n",
       "   mean fractal dimension  ...  worst radius  worst texture  worst perimeter  \\\n",
       "0                 0.07871  ...         25.38          17.33            184.6   \n",
       "1                 0.05667  ...         24.99          23.41            158.8   \n",
       "\n",
       "   worst area  worst smoothness  worst compactness  worst concavity  \\\n",
       "0      2019.0            0.1622             0.6656           0.7119   \n",
       "1      1956.0            0.1238             0.1866           0.2416   \n",
       "\n",
       "   worst concave points  worst symmetry  worst fractal dimension  \n",
       "0                0.2654          0.4601                  0.11890  \n",
       "1                0.1860          0.2750                  0.08902  \n",
       "\n",
       "[2 rows x 30 columns]"
      ]
     },
     "execution_count": 71,
     "metadata": {},
     "output_type": "execute_result"
    }
   ],
   "source": [
    "data_df = pd.DataFrame(cancer.data, columns = cancer.feature_names)\n",
    "data_df[:2]"
   ]
  },
  {
   "cell_type": "code",
   "execution_count": 72,
   "id": "2910a587",
   "metadata": {},
   "outputs": [],
   "source": [
    "X_train, X_test, y_train, y_test = train_test_split(\n",
    "    cancer.data, cancer.target, test_size=0.2, random_state=156)"
   ]
  },
  {
   "cell_type": "code",
   "execution_count": 73,
   "id": "b9cf09ec",
   "metadata": {},
   "outputs": [
    {
     "name": "stdout",
     "output_type": "stream",
     "text": [
      "lr_model:  0.9473684210526315\n",
      "knn_model:  0.9385964912280702\n",
      "vot_model:  0.956140350877193\n"
     ]
    }
   ],
   "source": [
    "lr_model = LogisticRegression(solver=\"liblinear\", max_iter = 5000) # solver=\"liblinear\", \n",
    "knn_model = KNeighborsClassifier(n_neighbors=8)\n",
    "vot_model = VotingClassifier(estimators=[(\"LR\", lr_model ), (\"knn\", knn_model)], voting=\"soft\")\n",
    "# 이 둘을 서로 투표하게 해서 일하기를 원함\n",
    "\n",
    "lr_model.fit(X_train, y_train) #X_train, y_train 줄 테니 학습해라 \n",
    "y_pred = lr_model.predict(X_test) #X_test 주면 답을 알려달라\n",
    "print(\"lr_model: \", accuracy_score(y_test, y_pred))\n",
    "      \n",
    "knn_model.fit(X_train, y_train)  \n",
    "y_pred = knn_model.predict(X_test) #X_test 주면 답을 알려달라\n",
    "print(\"knn_model: \", accuracy_score(y_test, y_pred))\n",
    "      \n",
    "vot_model.fit(X_train, y_train)  \n",
    "y_pred = vot_model.predict(X_test) #X_test 주면 답을 알려달라\n",
    "print(\"vot_model: \", accuracy_score(y_test, y_pred))\n",
    "# voting이 더 유리한 경우"
   ]
  },
  {
   "cell_type": "code",
   "execution_count": 74,
   "id": "a8221311",
   "metadata": {},
   "outputs": [
    {
     "name": "stdout",
     "output_type": "stream",
     "text": [
      "lr_model:  0.9649122807017544\n",
      "knn_model:  0.9385964912280702\n",
      "vot_model:  0.9473684210526315\n"
     ]
    }
   ],
   "source": [
    "lr_model = LogisticRegression(max_iter = 5000) # solver=\"liblinear\" : 적은 데이터에 유리\n",
    "knn_model = KNeighborsClassifier(n_neighbors=8)\n",
    "vot_model = VotingClassifier(estimators=[(\"LR\", lr_model ), (\"knn\", knn_model)], voting=\"soft\")\n",
    "# 이 둘을 서로 투표하게 해서 일하기를 원함\n",
    "\n",
    "lr_model.fit(X_train, y_train) #X_train, y_train 줄 테니 학습해라 \n",
    "y_pred = lr_model.predict(X_test) #X_test 주면 답을 알려달라\n",
    "print(\"lr_model: \", accuracy_score(y_test, y_pred))\n",
    "      \n",
    "knn_model.fit(X_train, y_train)  \n",
    "y_pred = knn_model.predict(X_test) #X_test 주면 답을 알려달라\n",
    "print(\"knn_model: \", accuracy_score(y_test, y_pred))\n",
    "      \n",
    "vot_model.fit(X_train, y_train)  \n",
    "y_pred = vot_model.predict(X_test) #X_test 주면 답을 알려달라\n",
    "print(\"vot_model: \", accuracy_score(y_test, y_pred))\n",
    "# voting이 더 불리한 경우 - lr_model에 solver=\"liblinear\", 더하면 유리해짐"
   ]
  },
  {
   "cell_type": "code",
   "execution_count": 75,
   "id": "9acc9c5e",
   "metadata": {},
   "outputs": [],
   "source": [
    "# voting=\"hard\" or \"soft\" \n",
    "# hard 분류기1의 결과가 1 0 1 1\n",
    "#      분류기2의 결과가 1 0 0 1  -- 다름\n",
    "#      분류기3의 결과가 1 0 1 1 \n",
    "# voting 결과           1 0 1 1  (결과를 일반 다수결에 따름)\n",
    "\n",
    "# soft 분류기1의 결과가 0.9 0.1 0.4 0.8    1 0 0 1\n",
    "#      분류기2의 결과가 0.1 0.1 0.4 0.2    0 0 0 0\n",
    "#      위의 결과가      0.5 0.1 0.4 0.5    1 0 0 1 (확률을 종합)\n"
   ]
  },
  {
   "cell_type": "code",
   "execution_count": 76,
   "id": "cdf15c47",
   "metadata": {},
   "outputs": [
    {
     "name": "stdout",
     "output_type": "stream",
     "text": [
      "rf_model:  0.956140350877193\n"
     ]
    }
   ],
   "source": [
    "from sklearn.ensemble import RandomForestClassifier\n",
    "rf_model = RandomForestClassifier(n_estimators = 100, random_state=0) # n_estimator: 기본 값 100\n",
    "rf_model.fit(X_train, y_train) # 훈련해 봐라\n",
    "rf_model.predict(X_test) \n",
    "y_pred = rf_model.predict(X_test)\n",
    "print(\"rf_model: \", accuracy_score(y_test, y_pred))"
   ]
  },
  {
   "cell_type": "code",
   "execution_count": 77,
   "id": "53ccb962",
   "metadata": {},
   "outputs": [
    {
     "data": {
      "text/plain": [
       "<BarContainer object of 30 artists>"
      ]
     },
     "execution_count": 77,
     "metadata": {},
     "output_type": "execute_result"
    },
    {
     "data": {
      "image/png": "[encoded data removed]",
      "text/plain": [
       "<Figure size 640x480 with 1 Axes>"
      ]
     },
     "metadata": {},
     "output_type": "display_data"
    }
   ],
   "source": [
    "plt.barh(cancer.feature_names, rf_model.feature_importances_) # 중요하게 봤던 부분 높게 나옴"
   ]
  },
  {
   "cell_type": "code",
   "execution_count": 78,
   "id": "b52acf94",
   "metadata": {},
   "outputs": [
    {
     "name": "stdout",
     "output_type": "stream",
     "text": [
      "gb_model:  0.956140350877193\n"
     ]
    }
   ],
   "source": [
    "from sklearn.ensemble import GradientBoostingClassifier\n",
    "gb_model = GradientBoostingClassifier(random_state=0)\n",
    "gb_model.fit(X_train, y_train)\n",
    "y_pred = gb_model.predict(X_test)\n",
    "print(\"gb_model: \", accuracy_score(y_test, y_pred))"
   ]
  },
  {
   "cell_type": "code",
   "execution_count": 79,
   "id": "3bafc7d8",
   "metadata": {},
   "outputs": [
    {
     "data": {
      "text/plain": [
       "((455, 30), (455,), (114, 30), (114,))"
      ]
     },
     "execution_count": 79,
     "metadata": {},
     "output_type": "execute_result"
    }
   ],
   "source": [
    "X_train.shape, y_train.shape, X_test.shape, y_test.shape"
   ]
  },
  {
   "cell_type": "code",
   "execution_count": 108,
   "id": "d782c766",
   "metadata": {},
   "outputs": [
    {
     "data": {
      "text/plain": [
       "((297, 30), (34, 30), (297,), (34,), (114, 30), (114,))"
      ]
     },
     "execution_count": 108,
     "metadata": {},
     "output_type": "execute_result"
    }
   ],
   "source": [
    "X_train, X_val, y_train, y_val =train_test_split(X_train, y_train, test_size=0.1, random_state = 156)\n",
    "#X_train , y_train을 쪼개겠다. test_size인 10%로 쪼개겠다.\n",
    "X_train.shape, X_val.shape, y_train.shape, y_val.shape,X_test.shape, y_test.shape"
   ]
  },
  {
   "cell_type": "code",
   "execution_count": 109,
   "id": "dc44e831",
   "metadata": {},
   "outputs": [
    {
     "data": {
      "text/plain": [
       "(0.7036328871892925, 0.07839388145315487, 0.2179732313575526)"
      ]
     },
     "execution_count": 109,
     "metadata": {},
     "output_type": "execute_result"
    }
   ],
   "source": [
    "368/(368+41+114), 41/(368+41+114), 114/(368+41+114) # 맞을 확률? / 진짜 맞은 확률? / 진짜 틀린확률?"
   ]
  },
  {
   "cell_type": "code",
   "execution_count": 110,
   "id": "796d783b",
   "metadata": {},
   "outputs": [],
   "source": [
    "#!pip install xgboost\n",
    "import xgboost"
   ]
  },
  {
   "cell_type": "code",
   "execution_count": 111,
   "id": "3f65113a",
   "metadata": {},
   "outputs": [],
   "source": [
    "dtrain = xgboost.DMatrix(data=X_train , label=y_train ) # 훈련용 - 데이터 트레인\n",
    "dval = xgboost.DMatrix(data=X_val , label=y_val ) #  밸리데이션\n",
    "dtest = xgboost.DMatrix(data=X_test , label=y_test ) # test용 "
   ]
  },
  {
   "cell_type": "code",
   "execution_count": 112,
   "id": "7f13e859",
   "metadata": {},
   "outputs": [],
   "source": [
    "params = {'max_depth':3, 'eta': 0.05, 'objective':'binary:logistic','eval_metric':'logloss' }\n",
    "num_rounds = 400"
   ]
  },
  {
   "cell_type": "code",
   "execution_count": 113,
   "id": "12d83706",
   "metadata": {},
   "outputs": [],
   "source": [
    "eval_list = [(dtrain, 'train'), (dval,'eval')] # train과 eval은 꼭 적어줘야 알아들음"
   ]
  },
  {
   "cell_type": "code",
   "execution_count": 114,
   "id": "11399baa",
   "metadata": {
    "scrolled": false
   },
   "outputs": [
    {
     "name": "stdout",
     "output_type": "stream",
     "text": [
      "[0]\ttrain-logloss:0.65033\teval-logloss:0.65118\n",
      "[1]\ttrain-logloss:0.61162\teval-logloss:0.61229\n",
      "[2]\ttrain-logloss:0.57627\teval-logloss:0.57599\n",
      "[3]\ttrain-logloss:0.54401\teval-logloss:0.54720\n",
      "[4]\ttrain-logloss:0.51424\teval-logloss:0.51670\n",
      "[5]\ttrain-logloss:0.48685\teval-logloss:0.49273\n",
      "[6]\ttrain-logloss:0.46090\teval-logloss:0.47066\n",
      "[7]\ttrain-logloss:0.43720\teval-logloss:0.44784\n",
      "[8]\ttrain-logloss:0.41489\teval-logloss:0.42777\n",
      "[9]\ttrain-logloss:0.39455\teval-logloss:0.40998\n",
      "[10]\ttrain-logloss:0.37520\teval-logloss:0.39487\n",
      "[11]\ttrain-logloss:0.35729\teval-logloss:0.37858\n",
      "[12]\ttrain-logloss:0.34040\teval-logloss:0.36587\n",
      "[13]\ttrain-logloss:0.32435\teval-logloss:0.35056\n",
      "[14]\ttrain-logloss:0.30973\teval-logloss:0.33979\n",
      "[15]\ttrain-logloss:0.29559\teval-logloss:0.32644\n",
      "[16]\ttrain-logloss:0.28233\teval-logloss:0.31401\n",
      "[17]\ttrain-logloss:0.27022\teval-logloss:0.30564\n",
      "[18]\ttrain-logloss:0.25858\teval-logloss:0.29804\n",
      "[19]\ttrain-logloss:0.24744\teval-logloss:0.28910\n",
      "[20]\ttrain-logloss:0.23698\teval-logloss:0.28085\n",
      "[21]\ttrain-logloss:0.22738\teval-logloss:0.27371\n",
      "[22]\ttrain-logloss:0.21817\teval-logloss:0.26775\n",
      "[23]\ttrain-logloss:0.20918\teval-logloss:0.26082\n",
      "[24]\ttrain-logloss:0.20081\teval-logloss:0.25346\n",
      "[25]\ttrain-logloss:0.19301\teval-logloss:0.24763\n",
      "[26]\ttrain-logloss:0.18540\teval-logloss:0.24198\n",
      "[27]\ttrain-logloss:0.17829\teval-logloss:0.23586\n",
      "[28]\ttrain-logloss:0.17143\teval-logloss:0.23219\n",
      "[29]\ttrain-logloss:0.16494\teval-logloss:0.22566\n",
      "[30]\ttrain-logloss:0.15901\teval-logloss:0.22216\n",
      "[31]\ttrain-logloss:0.15325\teval-logloss:0.21732\n",
      "[32]\ttrain-logloss:0.14765\teval-logloss:0.21471\n",
      "[33]\ttrain-logloss:0.14241\teval-logloss:0.21041\n",
      "[34]\ttrain-logloss:0.13757\teval-logloss:0.20522\n",
      "[35]\ttrain-logloss:0.13287\teval-logloss:0.20143\n",
      "[36]\ttrain-logloss:0.12833\teval-logloss:0.19849\n",
      "[37]\ttrain-logloss:0.12407\teval-logloss:0.19511\n",
      "[38]\ttrain-logloss:0.12004\teval-logloss:0.19197\n",
      "[39]\ttrain-logloss:0.11602\teval-logloss:0.19062\n",
      "[40]\ttrain-logloss:0.11206\teval-logloss:0.18700\n",
      "[41]\ttrain-logloss:0.10832\teval-logloss:0.18359\n",
      "[42]\ttrain-logloss:0.10485\teval-logloss:0.18161\n",
      "[43]\ttrain-logloss:0.10175\teval-logloss:0.17929\n",
      "[44]\ttrain-logloss:0.09879\teval-logloss:0.17824\n",
      "[45]\ttrain-logloss:0.09582\teval-logloss:0.17652\n",
      "[46]\ttrain-logloss:0.09312\teval-logloss:0.17477\n",
      "[47]\ttrain-logloss:0.09030\teval-logloss:0.17223\n",
      "[48]\ttrain-logloss:0.08769\teval-logloss:0.17089\n",
      "[49]\ttrain-logloss:0.08529\teval-logloss:0.16972\n",
      "[50]\ttrain-logloss:0.08283\teval-logloss:0.16753\n",
      "[51]\ttrain-logloss:0.08067\teval-logloss:0.16498\n",
      "[52]\ttrain-logloss:0.07862\teval-logloss:0.16430\n",
      "[53]\ttrain-logloss:0.07665\teval-logloss:0.16196\n",
      "[54]\ttrain-logloss:0.07457\teval-logloss:0.15900\n",
      "[55]\ttrain-logloss:0.07260\teval-logloss:0.15826\n",
      "[56]\ttrain-logloss:0.07080\teval-logloss:0.15682\n",
      "[57]\ttrain-logloss:0.06900\teval-logloss:0.15523\n",
      "[58]\ttrain-logloss:0.06743\teval-logloss:0.15305\n",
      "[59]\ttrain-logloss:0.06576\teval-logloss:0.15258\n",
      "[60]\ttrain-logloss:0.06408\teval-logloss:0.15117\n",
      "[61]\ttrain-logloss:0.06264\teval-logloss:0.14912\n",
      "[62]\ttrain-logloss:0.06095\teval-logloss:0.14621\n",
      "[63]\ttrain-logloss:0.05915\teval-logloss:0.14522\n",
      "[64]\ttrain-logloss:0.05790\teval-logloss:0.14335\n",
      "[65]\ttrain-logloss:0.05669\teval-logloss:0.14361\n",
      "[66]\ttrain-logloss:0.05566\teval-logloss:0.14323\n",
      "[67]\ttrain-logloss:0.05409\teval-logloss:0.14246\n",
      "[68]\ttrain-logloss:0.05289\teval-logloss:0.13986\n",
      "[69]\ttrain-logloss:0.05144\teval-logloss:0.13919\n",
      "[70]\ttrain-logloss:0.05047\teval-logloss:0.13829\n",
      "[71]\ttrain-logloss:0.04952\teval-logloss:0.13840\n",
      "[72]\ttrain-logloss:0.04836\teval-logloss:0.13822\n",
      "[73]\ttrain-logloss:0.04712\teval-logloss:0.13772\n",
      "[74]\ttrain-logloss:0.04606\teval-logloss:0.13696\n",
      "[75]\ttrain-logloss:0.04507\teval-logloss:0.13487\n",
      "[76]\ttrain-logloss:0.04409\teval-logloss:0.13418\n",
      "[77]\ttrain-logloss:0.04316\teval-logloss:0.13352\n",
      "[78]\ttrain-logloss:0.04233\teval-logloss:0.13135\n",
      "[79]\ttrain-logloss:0.04146\teval-logloss:0.13086\n",
      "[80]\ttrain-logloss:0.04065\teval-logloss:0.13094\n",
      "[81]\ttrain-logloss:0.03986\teval-logloss:0.12912\n",
      "[82]\ttrain-logloss:0.03908\teval-logloss:0.12863\n",
      "[83]\ttrain-logloss:0.03834\teval-logloss:0.12827\n",
      "[84]\ttrain-logloss:0.03762\teval-logloss:0.12844\n",
      "[85]\ttrain-logloss:0.03693\teval-logloss:0.12620\n",
      "[86]\ttrain-logloss:0.03612\teval-logloss:0.12492\n",
      "[87]\ttrain-logloss:0.03547\teval-logloss:0.12454\n",
      "[88]\ttrain-logloss:0.03495\teval-logloss:0.12329\n",
      "[89]\ttrain-logloss:0.03434\teval-logloss:0.12304\n",
      "[90]\ttrain-logloss:0.03368\teval-logloss:0.12209\n",
      "[91]\ttrain-logloss:0.03312\teval-logloss:0.12177\n",
      "[92]\ttrain-logloss:0.03254\teval-logloss:0.12006\n",
      "[93]\ttrain-logloss:0.03194\teval-logloss:0.11919\n",
      "[94]\ttrain-logloss:0.03145\teval-logloss:0.11853\n",
      "[95]\ttrain-logloss:0.03091\teval-logloss:0.11693\n",
      "[96]\ttrain-logloss:0.03044\teval-logloss:0.11775\n",
      "[97]\ttrain-logloss:0.02994\teval-logloss:0.11770\n",
      "[98]\ttrain-logloss:0.02942\teval-logloss:0.11693\n",
      "[99]\ttrain-logloss:0.02899\teval-logloss:0.11678\n",
      "[100]\ttrain-logloss:0.02856\teval-logloss:0.11763\n",
      "[101]\ttrain-logloss:0.02814\teval-logloss:0.11705\n",
      "[102]\ttrain-logloss:0.02770\teval-logloss:0.11601\n",
      "[103]\ttrain-logloss:0.02721\teval-logloss:0.11516\n",
      "[104]\ttrain-logloss:0.02681\teval-logloss:0.11404\n",
      "[105]\ttrain-logloss:0.02644\teval-logloss:0.11490\n",
      "[106]\ttrain-logloss:0.02607\teval-logloss:0.11477\n",
      "[107]\ttrain-logloss:0.02571\teval-logloss:0.11425\n",
      "[108]\ttrain-logloss:0.02532\teval-logloss:0.11423\n",
      "[109]\ttrain-logloss:0.02495\teval-logloss:0.11349\n",
      "[110]\ttrain-logloss:0.02458\teval-logloss:0.11305\n",
      "[111]\ttrain-logloss:0.02426\teval-logloss:0.11256\n",
      "[112]\ttrain-logloss:0.02390\teval-logloss:0.11162\n",
      "[113]\ttrain-logloss:0.02359\teval-logloss:0.11248\n",
      "[114]\ttrain-logloss:0.02325\teval-logloss:0.11241\n",
      "[115]\ttrain-logloss:0.02294\teval-logloss:0.11146\n",
      "[116]\ttrain-logloss:0.02264\teval-logloss:0.11117\n",
      "[117]\ttrain-logloss:0.02236\teval-logloss:0.11073\n",
      "[118]\ttrain-logloss:0.02204\teval-logloss:0.11147\n",
      "[119]\ttrain-logloss:0.02173\teval-logloss:0.11133\n",
      "[120]\ttrain-logloss:0.02143\teval-logloss:0.11206\n",
      "[121]\ttrain-logloss:0.02118\teval-logloss:0.11165\n",
      "[122]\ttrain-logloss:0.02089\teval-logloss:0.11151\n",
      "[123]\ttrain-logloss:0.02061\teval-logloss:0.11223\n",
      "[124]\ttrain-logloss:0.02038\teval-logloss:0.11183\n",
      "[125]\ttrain-logloss:0.02012\teval-logloss:0.11256\n",
      "[126]\ttrain-logloss:0.01995\teval-logloss:0.11190\n",
      "[127]\ttrain-logloss:0.01969\teval-logloss:0.11177\n",
      "[128]\ttrain-logloss:0.01948\teval-logloss:0.11220\n",
      "[129]\ttrain-logloss:0.01924\teval-logloss:0.11291\n",
      "[130]\ttrain-logloss:0.01908\teval-logloss:0.11228\n",
      "[131]\ttrain-logloss:0.01889\teval-logloss:0.11271\n",
      "[132]\ttrain-logloss:0.01868\teval-logloss:0.11259\n",
      "[133]\ttrain-logloss:0.01854\teval-logloss:0.11199\n",
      "[134]\ttrain-logloss:0.01836\teval-logloss:0.11241\n",
      "[135]\ttrain-logloss:0.01816\teval-logloss:0.11230\n",
      "[136]\ttrain-logloss:0.01799\teval-logloss:0.11272\n",
      "[137]\ttrain-logloss:0.01779\teval-logloss:0.11232\n",
      "[138]\ttrain-logloss:0.01763\teval-logloss:0.11334\n",
      "[139]\ttrain-logloss:0.01747\teval-logloss:0.11368\n",
      "[140]\ttrain-logloss:0.01728\teval-logloss:0.11331\n",
      "[141]\ttrain-logloss:0.01717\teval-logloss:0.11343\n",
      "[142]\ttrain-logloss:0.01707\teval-logloss:0.11243\n",
      "[143]\ttrain-logloss:0.01692\teval-logloss:0.11276\n",
      "[144]\ttrain-logloss:0.01676\teval-logloss:0.11266\n",
      "[145]\ttrain-logloss:0.01660\teval-logloss:0.11344\n",
      "[146]\ttrain-logloss:0.01650\teval-logloss:0.11271\n",
      "[147]\ttrain-logloss:0.01636\teval-logloss:0.11198\n",
      "[148]\ttrain-logloss:0.01622\teval-logloss:0.11240\n",
      "[149]\ttrain-logloss:0.01608\teval-logloss:0.11332\n",
      "[150]\ttrain-logloss:0.01597\teval-logloss:0.11270\n",
      "[151]\ttrain-logloss:0.01587\teval-logloss:0.11174\n",
      "[152]\ttrain-logloss:0.01579\teval-logloss:0.11185\n",
      "[153]\ttrain-logloss:0.01566\teval-logloss:0.11279\n",
      "[154]\ttrain-logloss:0.01557\teval-logloss:0.11185\n",
      "[155]\ttrain-logloss:0.01548\teval-logloss:0.11145\n",
      "[156]\ttrain-logloss:0.01540\teval-logloss:0.11155\n",
      "[157]\ttrain-logloss:0.01534\teval-logloss:0.11086\n",
      "[158]\ttrain-logloss:0.01522\teval-logloss:0.11126\n",
      "[159]\ttrain-logloss:0.01512\teval-logloss:0.11142\n",
      "[160]\ttrain-logloss:0.01503\teval-logloss:0.11104\n",
      "[161]\ttrain-logloss:0.01498\teval-logloss:0.11081\n",
      "[162]\ttrain-logloss:0.01487\teval-logloss:0.11170\n",
      "[163]\ttrain-logloss:0.01476\teval-logloss:0.11209\n",
      "[164]\ttrain-logloss:0.01467\teval-logloss:0.11199\n",
      "[165]\ttrain-logloss:0.01459\teval-logloss:0.11135\n",
      "[166]\ttrain-logloss:0.01450\teval-logloss:0.11151\n"
     ]
    }
   ],
   "source": [
    "xgb_model = xgboost.train(params=params, dtrain=dtrain, num_boost_round=num_rounds,\n",
    "                          early_stopping_rounds=50,\n",
    "                          evals=eval_list)"
   ]
  },
  {
   "cell_type": "code",
   "execution_count": 122,
   "id": "6549523b",
   "metadata": {},
   "outputs": [
    {
     "name": "stdout",
     "output_type": "stream",
     "text": [
      "[0.9529979  0.0121447  0.2651208  0.20910451 0.97532815]\n",
      "[1, 0, 0, 0, 1]\n"
     ]
    }
   ],
   "source": [
    "y_pred_proba = xgb_model.predict(dtest) # 그레디언트는 기본적으로 확률로 나오기에 바꿔줘야 함\n",
    "print(y_pred_proba[:5])\n",
    "y_pred = [1 if x>=0.5 else 0 for x in y_pred_proba[:5]]\n",
    "print(y_pred)"
   ]
  },
  {
   "cell_type": "code",
   "execution_count": 123,
   "id": "0752260a",
   "metadata": {},
   "outputs": [
    {
     "data": {
      "text/plain": [
       "0.9298245614035088"
      ]
     },
     "execution_count": 123,
     "metadata": {},
     "output_type": "execute_result"
    }
   ],
   "source": [
    "y_pred = [1 if x>=0.5 else 0 for x in y_pred_proba]\n",
    "accuracy_score(y_test, y_pred)"
   ]
  },
  {
   "cell_type": "code",
   "execution_count": 124,
   "id": "06d16b94",
   "metadata": {},
   "outputs": [
    {
     "data": {
      "text/plain": [
       "0.9838539838539838"
      ]
     },
     "execution_count": 124,
     "metadata": {},
     "output_type": "execute_result"
    }
   ],
   "source": [
    "from sklearn.metrics import roc_auc_score\n",
    "roc_auc_score(y_test, y_pred_proba) # 면적을 얘기함 (1에 가까울 수록 좋음 true Positive가 많다.)"
   ]
  },
  {
   "cell_type": "code",
   "execution_count": null,
   "id": "78e947a6",
   "metadata": {},
   "outputs": [],
   "source": [
    "#!pip uninstall scikit-learn"
   ]
  },
  {
   "cell_type": "code",
   "execution_count": null,
   "id": "2a632b50",
   "metadata": {},
   "outputs": [],
   "source": [
    "# 분류: y(이산적, 카테코리컬) ~~~ Classifier\n",
    "# 회귀: y(연속적)"
   ]
  },
  {
   "cell_type": "code",
   "execution_count": 2,
   "id": "310b1ea6",
   "metadata": {},
   "outputs": [
    {
     "data": {
      "text/plain": [
       "dict_keys(['data', 'target', 'feature_names', 'DESCR', 'filename'])"
      ]
     },
     "execution_count": 2,
     "metadata": {},
     "output_type": "execute_result"
    }
   ],
   "source": [
    "from sklearn.ensemble import RandomForestRegressor\n",
    "from sklearn.datasets import load_boston # 보스턴 시티에 있는 집값을 조사\n",
    "boston = load_boston() # sklearn 1.2이하? 미만? 이였었을거임\n",
    "boston.keys()"
   ]
  },
  {
   "cell_type": "code",
   "execution_count": 3,
   "id": "590c67c2",
   "metadata": {},
   "outputs": [
    {
     "data": {
      "text/plain": [
       "'0.24.2'"
      ]
     },
     "execution_count": 3,
     "metadata": {},
     "output_type": "execute_result"
    }
   ],
   "source": [
    "import sklearn\n",
    "sklearn.__version__"
   ]
  },
  {
   "cell_type": "code",
   "execution_count": 5,
   "id": "e8cc2ef0",
   "metadata": {},
   "outputs": [
    {
     "data": {
      "text/plain": [
       "dict_keys(['data', 'target', 'feature_names', 'DESCR', 'filename'])"
      ]
     },
     "execution_count": 5,
     "metadata": {},
     "output_type": "execute_result"
    }
   ],
   "source": [
    "boston.keys()"
   ]
  },
  {
   "cell_type": "code",
   "execution_count": 6,
   "id": "8df66002",
   "metadata": {},
   "outputs": [
    {
     "data": {
      "text/plain": [
       "array([24. , 21.6, 34.7, 33.4, 36.2, 28.7, 22.9, 27.1, 16.5, 18.9, 15. ,\n",
       "       18.9, 21.7, 20.4, 18.2, 19.9, 23.1, 17.5, 20.2, 18.2, 13.6, 19.6,\n",
       "       15.2, 14.5, 15.6, 13.9, 16.6, 14.8, 18.4, 21. , 12.7, 14.5, 13.2,\n",
       "       13.1, 13.5, 18.9, 20. , 21. , 24.7, 30.8, 34.9, 26.6, 25.3, 24.7,\n",
       "       21.2, 19.3, 20. , 16.6, 14.4, 19.4, 19.7, 20.5, 25. , 23.4, 18.9,\n",
       "       35.4, 24.7, 31.6, 23.3, 19.6, 18.7, 16. , 22.2, 25. , 33. , 23.5,\n",
       "       19.4, 22. , 17.4, 20.9, 24.2, 21.7, 22.8, 23.4, 24.1, 21.4, 20. ,\n",
       "       20.8, 21.2, 20.3, 28. , 23.9, 24.8, 22.9, 23.9, 26.6, 22.5, 22.2,\n",
       "       23.6, 28.7, 22.6, 22. , 22.9, 25. , 20.6, 28.4, 21.4, 38.7, 43.8,\n",
       "       33.2, 27.5, 26.5, 18.6, 19.3, 20.1, 19.5, 19.5, 20.4, 19.8, 19.4,\n",
       "       21.7, 22.8, 18.8, 18.7, 18.5, 18.3, 21.2, 19.2, 20.4, 19.3, 22. ,\n",
       "       20.3, 20.5, 17.3, 18.8, 21.4, 15.7, 16.2, 18. , 14.3, 19.2, 19.6,\n",
       "       23. , 18.4, 15.6, 18.1, 17.4, 17.1, 13.3, 17.8, 14. , 14.4, 13.4,\n",
       "       15.6, 11.8, 13.8, 15.6, 14.6, 17.8, 15.4, 21.5, 19.6, 15.3, 19.4,\n",
       "       17. , 15.6, 13.1, 41.3, 24.3, 23.3, 27. , 50. , 50. , 50. , 22.7,\n",
       "       25. , 50. , 23.8, 23.8, 22.3, 17.4, 19.1, 23.1, 23.6, 22.6, 29.4,\n",
       "       23.2, 24.6, 29.9, 37.2, 39.8, 36.2, 37.9, 32.5, 26.4, 29.6, 50. ,\n",
       "       32. , 29.8, 34.9, 37. , 30.5, 36.4, 31.1, 29.1, 50. , 33.3, 30.3,\n",
       "       34.6, 34.9, 32.9, 24.1, 42.3, 48.5, 50. , 22.6, 24.4, 22.5, 24.4,\n",
       "       20. , 21.7, 19.3, 22.4, 28.1, 23.7, 25. , 23.3, 28.7, 21.5, 23. ,\n",
       "       26.7, 21.7, 27.5, 30.1, 44.8, 50. , 37.6, 31.6, 46.7, 31.5, 24.3,\n",
       "       31.7, 41.7, 48.3, 29. , 24. , 25.1, 31.5, 23.7, 23.3, 22. , 20.1,\n",
       "       22.2, 23.7, 17.6, 18.5, 24.3, 20.5, 24.5, 26.2, 24.4, 24.8, 29.6,\n",
       "       42.8, 21.9, 20.9, 44. , 50. , 36. , 30.1, 33.8, 43.1, 48.8, 31. ,\n",
       "       36.5, 22.8, 30.7, 50. , 43.5, 20.7, 21.1, 25.2, 24.4, 35.2, 32.4,\n",
       "       32. , 33.2, 33.1, 29.1, 35.1, 45.4, 35.4, 46. , 50. , 32.2, 22. ,\n",
       "       20.1, 23.2, 22.3, 24.8, 28.5, 37.3, 27.9, 23.9, 21.7, 28.6, 27.1,\n",
       "       20.3, 22.5, 29. , 24.8, 22. , 26.4, 33.1, 36.1, 28.4, 33.4, 28.2,\n",
       "       22.8, 20.3, 16.1, 22.1, 19.4, 21.6, 23.8, 16.2, 17.8, 19.8, 23.1,\n",
       "       21. , 23.8, 23.1, 20.4, 18.5, 25. , 24.6, 23. , 22.2, 19.3, 22.6,\n",
       "       19.8, 17.1, 19.4, 22.2, 20.7, 21.1, 19.5, 18.5, 20.6, 19. , 18.7,\n",
       "       32.7, 16.5, 23.9, 31.2, 17.5, 17.2, 23.1, 24.5, 26.6, 22.9, 24.1,\n",
       "       18.6, 30.1, 18.2, 20.6, 17.8, 21.7, 22.7, 22.6, 25. , 19.9, 20.8,\n",
       "       16.8, 21.9, 27.5, 21.9, 23.1, 50. , 50. , 50. , 50. , 50. , 13.8,\n",
       "       13.8, 15. , 13.9, 13.3, 13.1, 10.2, 10.4, 10.9, 11.3, 12.3,  8.8,\n",
       "        7.2, 10.5,  7.4, 10.2, 11.5, 15.1, 23.2,  9.7, 13.8, 12.7, 13.1,\n",
       "       12.5,  8.5,  5. ,  6.3,  5.6,  7.2, 12.1,  8.3,  8.5,  5. , 11.9,\n",
       "       27.9, 17.2, 27.5, 15. , 17.2, 17.9, 16.3,  7. ,  7.2,  7.5, 10.4,\n",
       "        8.8,  8.4, 16.7, 14.2, 20.8, 13.4, 11.7,  8.3, 10.2, 10.9, 11. ,\n",
       "        9.5, 14.5, 14.1, 16.1, 14.3, 11.7, 13.4,  9.6,  8.7,  8.4, 12.8,\n",
       "       10.5, 17.1, 18.4, 15.4, 10.8, 11.8, 14.9, 12.6, 14.1, 13. , 13.4,\n",
       "       15.2, 16.1, 17.8, 14.9, 14.1, 12.7, 13.5, 14.9, 20. , 16.4, 17.7,\n",
       "       19.5, 20.2, 21.4, 19.9, 19. , 19.1, 19.1, 20.1, 19.9, 19.6, 23.2,\n",
       "       29.8, 13.8, 13.3, 16.7, 12. , 14.6, 21.4, 23. , 23.7, 25. , 21.8,\n",
       "       20.6, 21.2, 19.1, 20.6, 15.2,  7. ,  8.1, 13.6, 20.1, 21.8, 24.5,\n",
       "       23.1, 19.7, 18.3, 21.2, 17.5, 16.8, 22.4, 20.6, 23.9, 22. , 11.9])"
      ]
     },
     "execution_count": 6,
     "metadata": {},
     "output_type": "execute_result"
    }
   ],
   "source": [
    "boston.target"
   ]
  },
  {
   "cell_type": "code",
   "execution_count": null,
   "id": "b927a68f",
   "metadata": {},
   "outputs": [],
   "source": []
  }
 ],
 "metadata": {
  "kernelspec": {
   "display_name": "Python 3 (ipykernel)",
   "language": "python",
   "name": "python3"
  },
  "language_info": {
   "codemirror_mode": {
    "name": "ipython",
    "version": 3
   },
   "file_extension": ".py",
   "mimetype": "text/x-python",
   "name": "python",
   "nbconvert_exporter": "python",
   "pygments_lexer": "ipython3",
   "version": "3.8.17"
  }
 },
 "nbformat": 4,
 "nbformat_minor": 5
}
