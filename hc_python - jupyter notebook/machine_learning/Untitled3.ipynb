{
 "cells": [
  {
   "cell_type": "code",
   "execution_count": 1,
   "id": "fe69196f",
   "metadata": {
    "scrolled": true
   },
   "outputs": [
    {
     "name": "stdout",
     "output_type": "stream",
     "text": [
      "Defaulting to user installation because normal site-packages is not writeable\n",
      "Collecting selenium\n",
      "  Downloading selenium-4.10.0-py3-none-any.whl (6.7 MB)\n",
      "                                              0.0/6.7 MB ? eta -:--:--\n",
      "                                              0.0/6.7 MB ? eta -:--:--\n",
      "                                              0.1/6.7 MB 656.4 kB/s eta 0:00:11\n",
      "     --                                       0.5/6.7 MB 4.1 MB/s eta 0:00:02\n",
      "     -------                                  1.3/6.7 MB 7.6 MB/s eta 0:00:01\n",
      "     -------------                            2.3/6.7 MB 11.2 MB/s eta 0:00:01\n",
      "     --------------------                     3.4/6.7 MB 12.7 MB/s eta 0:00:01\n",
      "     ----------------------------             4.8/6.7 MB 15.4 MB/s eta 0:00:01\n",
      "     -------------------------------------    6.3/6.7 MB 17.4 MB/s eta 0:00:01\n",
      "     ---------------------------------------  6.7/6.7 MB 17.0 MB/s eta 0:00:01\n",
      "     ---------------------------------------- 6.7/6.7 MB 16.4 MB/s eta 0:00:00\n",
      "Requirement already satisfied: urllib3[socks]<3,>=1.26 in c:\\users\\admin\\appdata\\roaming\\python\\python38\\site-packages (from selenium) (2.0.3)\n",
      "Collecting trio~=0.17 (from selenium)\n",
      "  Downloading trio-0.22.2-py3-none-any.whl (400 kB)\n",
      "                                              0.0/400.2 kB ? eta -:--:--\n",
      "     ------------------------------------- 400.2/400.2 kB 24.4 MB/s eta 0:00:00\n",
      "Collecting trio-websocket~=0.9 (from selenium)\n",
      "  Downloading trio_websocket-0.10.3-py3-none-any.whl (17 kB)\n",
      "Requirement already satisfied: certifi>=2021.10.8 in c:\\users\\admin\\appdata\\roaming\\python\\python38\\site-packages (from selenium) (2023.5.7)\n",
      "Requirement already satisfied: attrs>=20.1.0 in c:\\programdata\\miniconda3\\envs\\smart\\lib\\site-packages (from trio~=0.17->selenium) (23.1.0)\n",
      "Collecting sortedcontainers (from trio~=0.17->selenium)\n",
      "  Downloading sortedcontainers-2.4.0-py2.py3-none-any.whl (29 kB)\n",
      "Requirement already satisfied: idna in c:\\programdata\\miniconda3\\envs\\smart\\lib\\site-packages (from trio~=0.17->selenium) (3.4)\n",
      "Collecting outcome (from trio~=0.17->selenium)\n",
      "  Downloading outcome-1.2.0-py2.py3-none-any.whl (9.7 kB)\n",
      "Requirement already satisfied: sniffio in c:\\programdata\\miniconda3\\envs\\smart\\lib\\site-packages (from trio~=0.17->selenium) (1.3.0)\n",
      "Requirement already satisfied: cffi>=1.14 in c:\\programdata\\miniconda3\\envs\\smart\\lib\\site-packages (from trio~=0.17->selenium) (1.15.1)\n",
      "Requirement already satisfied: exceptiongroup>=1.0.0rc9 in c:\\programdata\\miniconda3\\envs\\smart\\lib\\site-packages (from trio~=0.17->selenium) (1.1.2)\n",
      "Collecting wsproto>=0.14 (from trio-websocket~=0.9->selenium)\n",
      "  Downloading wsproto-1.2.0-py3-none-any.whl (24 kB)\n",
      "Collecting pysocks!=1.5.7,<2.0,>=1.5.6 (from urllib3[socks]<3,>=1.26->selenium)\n",
      "  Downloading PySocks-1.7.1-py3-none-any.whl (16 kB)\n",
      "Requirement already satisfied: pycparser in c:\\programdata\\miniconda3\\envs\\smart\\lib\\site-packages (from cffi>=1.14->trio~=0.17->selenium) (2.21)\n",
      "Collecting h11<1,>=0.9.0 (from wsproto>=0.14->trio-websocket~=0.9->selenium)\n",
      "  Downloading h11-0.14.0-py3-none-any.whl (58 kB)\n",
      "                                              0.0/58.3 kB ? eta -:--:--\n",
      "     ---------------------------------------- 58.3/58.3 kB ? eta 0:00:00\n",
      "Installing collected packages: sortedcontainers, pysocks, outcome, h11, wsproto, trio, trio-websocket, selenium\n",
      "Successfully installed h11-0.14.0 outcome-1.2.0 pysocks-1.7.1 selenium-4.10.0 sortedcontainers-2.4.0 trio-0.22.2 trio-websocket-0.10.3 wsproto-1.2.0\n"
     ]
    }
   ],
   "source": [
    "#!pip install selenium"
   ]
  },
  {
   "cell_type": "code",
   "execution_count": 4,
   "id": "df6ace48",
   "metadata": {},
   "outputs": [],
   "source": [
    "from selenium import webdriver"
   ]
  },
  {
   "cell_type": "code",
   "execution_count": 16,
   "id": "daf9fd94",
   "metadata": {},
   "outputs": [],
   "source": [
    "wd = webdriver.Chrome() # chromedriver.exe를 괄호 안에 적었어야 함\n",
    "url = \"https://www.coffeebeankorea.com/store/store.asp\"\n",
    "wd.get(url) #파이썬 코드로 제어할 수 있는 커피빈 창이 열림"
   ]
  },
  {
   "cell_type": "code",
   "execution_count": 9,
   "id": "dde56b59",
   "metadata": {},
   "outputs": [],
   "source": [
    "wd.execute_script(\"storePop2('141')\") # 이건 그냥 제어하는 방법\n",
    "# 봉은 사거리점 :31\n",
    "# 코엑스 141"
   ]
  },
  {
   "cell_type": "code",
   "execution_count": 10,
   "id": "8d24fdec",
   "metadata": {},
   "outputs": [
    {
     "data": {
      "text/plain": [
       "'<html class=\" js canvas canvastext no-touch geolocation postmessage indexeddb hashchange history draganddrop websockets rgba hsla multiplebgs backgroundsize borderradius boxshadow textshadow opacity cssanimations cssgradients cssreflections csstransforms csstransforms3d csstransitions fontface generatedcontent video audio localstorage sessionstorage webworkers no-applicationcache svg inlinesvg\" lang=\"ko-KR\" style=\"\"><!--<![endif]--><head><script type=\"text/javascript\" async=\"\" src=\"https://www.googletagmanager.com/gtag/js?id=G-84W93E2CP2&amp;cx=c&amp;_slc=1\"></script><script type=\"text/javascript\" async=\"\" src=\"https://www.googletagmanager.com/gtag/js?id=G-EKXL62KETE&amp;cx=c&amp;_slc=1\"></script><script async=\"\" src=\"//www.google-analytics.com/analytics.js\"></script><script type=\"text/javascript\" async=\"\" src=\"https://www.google-analytics.com/plugins/ua/linkid.js\"></script>\\n\\n\\t<meta charset=\"UTF-8\">\\n\\t<meta http-equiv=\"X-UA-Compatible\" content=\"IE=edge, chrome=1\">\\n\\n<title>STORE | COFFEE BEAN KOREA</title><meta name=\"viewport\" content=\"width=device-width, initial-scale=1.0, maximum-scale=1.0, minimum-scale=1.0, user-scalable=no, target-densitydpi=medium-dpi\">\\n<link rel=\"shortcut icon\" type=\"image/x-icon\" href=\"/images/favicon-16x16.png\">\\n\\n\\t<link rel=\"stylesheet\" href=\"/css/pages/import.css?v=202205091532\">\\n\\t<script async=\"\" src=\"//www.google-analytics.com/analytics.js\"></script><script src=\"/js/common/libs/modernizr.custom.js\"></script>\\t\\n\\t<script src=\"/js/common/libs/greensock/TweenMax.min.js\"></script>\\n\\t<script src=\"/js/common/libs/jquery-1.9.1.min.js\"></script>\\n\\t<script src=\"/js/common/libs/slick.min.js\"></script>\\n\\n\\t<script src=\"/js/common/styleship/matizResizeMap.1.0.0.min.js\"></script>\\n\\t<script src=\"/js/common/styleship/mighty.base.1.5.8.min.js\"></script>\\n\\t<script src=\"/js/common/styleship/mighty.slide.4.2.2.min.js\"></script>\\n\\t<script src=\"/js/common/styleship/matizCoverLayer.3.1.0.min.js\"></script>\\n\\t\\n\\t<script src=\"/js/common/libs/jquery-barcode.js\"></script>\\t\\n\\t<script src=\"../js/pages/barcode.js\"></script>\\n\\t<script src=\"/js/common/default.js?v=20170406\"></script>\\n\\n    <script>\\n\\n    \\tvar suzzestGetArr = new Array();\\n    \\tvar suzzestSetArr = new Array();\\n        function suzzestGet(v1,v2,v3,v4,v5,v6){\\n\\t\\t\\tsuzzestGetArr.push({a:v1,b:v2,c:v3,d:v4,e:v5,f:v6});\\n        }\\n        function suzzestSet(v1,v2,v3,v4,v5,v6){\\n\\t\\t\\tsuzzestSetArr.push({a:v1,b:v2,c:v3,d:v4,e:v5,f:v6});\\n        }\\n\\n\\t\\t$(function() {\\n\\t\\t\\n\\t\\t\\t$.cachedScript = function( url, options ) {\\n\\t\\t\\t\\t\\toptions = $.extend( options || {}, {\\n\\t\\t\\t\\t\\tdataType: \"script\",\\n\\t\\t\\t\\t\\tcache: true,\\n\\t\\t\\t\\t\\turl: url,\\n\\t\\t\\t\\t\\tasync: false\\n\\t\\t\\t\\t});\\n\\t\\t\\t\\treturn $.ajax( options );\\n\\t\\t\\t};\\n\\t\\t\\t\\n\\t\\t\\tfunction async_call(js, cb){\\n\\t\\t\\t\\t$.cachedScript(js).done(function() {\\n\\t\\t\\t\\t\\tif(cb != undefined){\\n\\t\\t\\t\\t\\t\\treturn eval(cb)();\\n\\t\\t\\t\\t\\t}\\n\\t\\t\\t\\t})\\n\\t\\t\\t}\\n\\t\\t\\t\\n\\t\\t\\tswitch(location.protocol){\\n\\t\\t\\t\\tcase \\'http:\\' :\\n\\t\\t\\t\\t\\tasync_call(\\'http://service.stylecomment.com/common/js/social.js\\');\\n\\t\\t\\t\\t\\tasync_call(\\'http://collector.suzzest.com/js/suzzest.js\\');\\n\\t\\t\\t\\t\\tbreak;\\n\\t\\t\\t\\tcase \\'https:\\' :\\n\\t\\t\\t\\t\\tbreak;\\n\\t\\t\\t}\\n\\t\\t\\t\\n\\t\\t});\\n\\t\\t\\n\\t</script>\\n\\t\\n\\t<script>\\n  (function(i,s,o,g,r,a,m){i[\\'GoogleAnalyticsObject\\']=r;i[r]=i[r]||function(){\\n  (i[r].q=i[r].q||[]).push(arguments)},i[r].l=1*new Date();a=s.createElement(o),\\n  m=s.getElementsByTagName(o)[0];a.async=1;a.src=g;m.parentNode.insertBefore(a,m)\\n  })(window,document,\\'script\\',\\'//www.google-analytics.com/analytics.js\\',\\'ga\\');\\n\\n  ga(\\'create\\', \\'UA-15316437-100\\', \\'auto\\');\\n  ga(\\'require\\', \\'displayfeatures\\');\\n\\tga(\\'require\\', \\'linkid\\', \\'linkid.js\\');  \\n  ga(\\'send\\', \\'pageview\\');\\n</script>\\t\\n\\n\\n\\n\\t<meta name=\"title\" content=\"커피빈코리아 Coffee Bean Korea\">\\n\\t<meta name=\"description\" content=\"The Coffee Bean &amp; Tea Leaf 커피빈코리아\">\\n\\t<meta name=\"keywords\" content=\"Coffeebeankorea, 커피빈코리아, The Coffee Bean &amp; Tea Leaf\">\\n\\t<meta name=\"keyword\" content=\"Coffeebeankorea, 커피빈코리아, The Coffee Bean &amp; Tea Leaf\">\\t\\n\\t<meta name=\"image\" content=\"http://www.coffeebeankorea.com/images/common/Coffee_Bean_Tea_Leaf_logo_new.png\">\\n\\t<meta name=\"author\" content=\"Coffeebean\">\\n\\t\\n\\t<meta property=\"og:url\" content=\"http://www.coffeebeankorea.com/main/main.asp\">\\n\\t<meta property=\"og:type\" content=\"website\">\\n\\t<meta property=\"og:title\" content=\"커피빈코리아 Coffee Bean Korea\">\\n\\t<meta property=\"og:description\" content=\"The Coffee Bean &amp; Tea Leaf 커피빈코리아\">\\n\\t<meta property=\"og:image\" content=\"http://www.coffeebeankorea.com/images/common/logo_340_new.png\">\\t\\n\\t<meta property=\"og:site_name\" content=\"COFFEEBEANKOREA\">\\n\\t<meta property=\"og:locale\" content=\"ko_KR\">\\n\\n\\n\\t<script src=\"/js/pages/store.js?v=20220530\"></script>\\n\\n\\t<script type=\"text/javascript\" src=\"//dapi.kakao.com/v2/maps/sdk.js?appkey=c035d9375740fd691fb799cec4320492\"></script><script charset=\"UTF-8\" src=\"https://t1.daumcdn.net/mapjsapi/js/main/4.4.9/kakao.js\"></script>\\n<script>var selectLAT = \\'\\';var selectLNG = \\'\\';</script><script>var category = 1;</script><script>var sNo = \\'\\';</script><script>var urlScript = \\'http://www.coffeebeankorea.com/store/store.asp?sNo=\\';</script>\\t\\n\\t<script src=\"/js/pages/store_pc.js?v=202205301729\"></script>\\n\\n\\t<script>\\n\\t\\t$(function() {\\n\\t\\t\\tfunction async_call(js, cb){\\n\\t\\t\\t\\t$.getScript(js, function() {\\n\\t\\t\\t\\t\\tif(cb != undefined){\\n\\t\\t\\t\\t\\t\\treturn eval(cb)();\\n\\t\\t\\t\\t\\t}\\n\\t\\t\\t\\t})\\n\\t\\t\\t}\\t\\t\\n\\t\\t\\tasync_call(\\'//service.stylecomment.com/common/js/social.js\\');\\n\\t\\t});\\n\\t</script>\\n\\n\\t<style>\\n\\t .wrap {position: absolute;left: 0;bottom: 40px;width: 288px;height: 132px;margin-left: -144px;text-align: left;overflow: hidden;font-size: 12px;/*font-family: \\'Malgun Gothic\\', dotum, \\'돋움\\', sans-serif;*/line-height: 1.5;}\\n    .wrap * {padding: 0;margin: 0;}\\n    .wrap .info {width: 286px;height: 120px;border-radius: 5px;border-bottom: 2px solid #ccc;border-right: 1px solid #ccc;/*overflow: hidden;*/background: #fff;}\\n    .wrap .info:nth-child(1) {border: 0;box-shadow: 0px 1px 2px #888;}\\n    .info .title {padding: 5px 0 0 10px;height: 30px;background: #eee;border-bottom: 1px solid #ddd;font-size: 18px;font-weight: bold;}\\n    .info .close {position: absolute;top: 10px;right: 10px;color: #888;width: 17px;height: 17px;background: url(\\'//i1.daumcdn.net/localimg/localimages/07/mapapidoc/overlay_close.png\\');}\\n    .info .close:hover {cursor: pointer;}\\n    .info .body {position: relative;overflow: hidden;}\\n    .info .desc {position: relative;margin: 8px 0 0 10px;height: 75px;}\\n    .desc .ellipsis {/*overflow: hidden;text-overflow: ellipsis;*/white-space: normal;}\\n    .desc .jibun {font-size: 11px;color: #888;margin-top: 2px;}\\n    .info .img {position: absolute;top: 6px;left: 5px;width: 73px;height: 71px;border: 1px solid #ddd;color: #888;overflow: hidden;}\\n    .info:after {content: \\'\\';position: absolute;margin-left: -12px;left: 50%;bottom: 0;width: 22px;height: 12px;background: url(\\'//i1.daumcdn.net/localimg/localimages/07/mapapidoc/vertex_white.png\\')}\\n    .info .link {color: #5085BB;}\\n</style>\\n\\n\\t<meta name=\"title\" content=\"COFFEE BEAN   STORE\">\\n\\t<meta name=\"description\" content=\"COFFEE BEAN\">\\n\\t<meta name=\"keywords\" content=\"COFFEE BEAN, COFFEEBEAN, 커피빈, STORE\">\\n\\t<meta name=\"image\" content=\"//www.coffeebeankorea.com/images/common/logo.png\">\\n\\t<meta property=\"og:url\" content=\"//www.coffeebeankorea.com/store/store.asp\">\\n\\t<meta property=\"og:title\" content=\"COFFEE BEAN   STORE\">\\n\\t<meta property=\"og:description\" content=\"COFFEE BEAN\">\\n\\t<meta property=\"og:image\" content=\"//www.coffeebeankorea.com/images/common/logo.png\">\\t\\n\\t<meta property=\"og:type\" content=\"website\">\\n\\t<meta property=\"og:site_name\" content=\"COFFEE BEAN\">\\n\\t<meta property=\"og:locale\" content=\"ko_KR\">\\n\\n<meta http-equiv=\"origin-trial\" content=\"AymqwRC7u88Y4JPvfIF2F37QKylC04248hLCdJAsh8xgOfe/dVJPV3XS3wLFca1ZMVOtnBfVjaCMTVudWM//5g4AAAB7eyJvcmlnaW4iOiJodHRwczovL3d3dy5nb29nbGV0YWdtYW5hZ2VyLmNvbTo0NDMiLCJmZWF0dXJlIjoiUHJpdmFjeVNhbmRib3hBZHNBUElzIiwiZXhwaXJ5IjoxNjk1MTY3OTk5LCJpc1RoaXJkUGFydHkiOnRydWV9\"><link rel=\"stylesheet\" href=\"//service.stylecomment.com/sharing/sharing.css\"></head>\\n<body>\\n\\t<!--  start of : skipNavi -->\\n\\t<ul id=\"skipNavi\">\\n\\t\\t<li><a href=\"#contents\">본문내용 바로가기</a></li>\\n\\t\\t<li><a href=\"#footer\">하단메뉴 바로가기</a></li>\\n\\t</ul>\\n\\t<!-- //end of  skipNavi -->\\n\\t\\n\\t\\n<!--MOBILE GNB-->\\n\\t<div class=\"gnb_m\" style=\"left: -380px;\">\\n\\t\\t<form action=\"javascript:searchRun();\" name=\"searchForm\" method=\"get\" autocomplete=\"off\">\\n\\t\\t\\t<fieldset>\\n\\t\\t\\t\\t<legend class=\"hidden\">검색 폼</legend>\\n\\t\\t\\t\\t<input type=\"text\" class=\"inp_search\" name=\"searchItem\" id=\"searchItem\" onfocus=\"if(this.value==\\'\\' || this.value==\\'검색어를 입력하세요\\'){this.value=\\'\\';}\" value=\"검색어를 입력하세요\">\\n\\t\\t\\t\\t<button onclick=\"javascript:searchRun();void(0);\">SEARCH</button>\\n\\t\\t\\t</fieldset>\\n\\t\\t</form>\\n\\n\\t\\t<a href=\"/member/login.asp#loginArea\" class=\"btn_login\">로그인</a>\\n\\n\\t\\t<div class=\"select_style select_box no_over\">\\n\\t\\t\\t<a href=\"javascript:void(0);\" class=\"select_a\">고객서비스</a>\\n\\t\\t\\t<ul>\\n\\t\\t\\t\\t<li><a href=\"/store/store.asp\">매장찾기</a></li>\\t\\t\\t\\n\\t\\t\\t\\t<li><a href=\"/customer/heavybuying.asp\">단체 및 기업구매</a></li>\\t\\t\\t\\n\\t\\t\\t\\t<li><a href=\"/recruit/recruit.asp\">채용정보</a></li>\\t\\t\\t\\t\\t\\t\\n\\t\\t\\t\\t<li><a href=\"/customer/customer.asp\">고객서비스</a></li>\\t\\t\\t\\t\\t\\t\\n\\t\\t\\t</ul>\\n\\t\\t</div>\\n\\t\\t\\n\\t\\t<ul>\\n\\t\\t\\t<li class=\"depth1\">\\n\\t\\t\\t\\t<a href=\"javascript:void(0);\">BUY ONLINE</a>\\n\\t\\t\\t\\t<div class=\"depth2\" style=\"left: -380px;\">\\n\\t\\t\\t\\t\\t<div class=\"tit_box\">\\n\\t\\t\\t\\t\\t\\t<h2>BUY ONLINE</h2>\\n\\t\\t\\t\\t\\t\\t<a href=\"javascript:void(0);\" class=\"btn_close\">CLOSE</a>\\n\\t\\t\\t\\t\\t</div>\\n\\n\\t\\t\\t\\t\\t<ul>\\n\\t\\t\\t\\t\\t\\t<li><a href=\"/product/list.asp\">View All</a></li>\\n\\t\\t\\t\\t\\t\\t\\t\\t\\t\\t\\n\\t\\t\\t\\t\\t\\t<li>\\n\\t\\t\\t\\t\\t\\t\\t<a href=\"javascript:;\">스틱 커피\\n\\t\\t\\t\\t\\t\\t\\t\\t<div>\\n\\t\\t\\t\\t\\t\\t\\t\\t\\t<span class=\"first\"></span>\\n\\t\\t\\t\\t\\t\\t\\t\\t\\t<span class=\"last\"></span>\\n\\t\\t\\t\\t\\t\\t\\t\\t</div>\\n\\t\\t\\t\\t\\t\\t\\t</a>\\n\\n\\t\\t\\t\\t\\t\\t\\t<div class=\"depth3\">\\n\\t\\t\\t\\t\\t\\t\\t\\t<ul>\\n\\t\\t\\t\\t\\t\\t\\t\\t\\n\\t\\t\\t\\t\\t\\t\\t\\t<li><a href=\"/product/list.asp?no=63\">스틱 커피</a></li>\\n\\t\\t\\n\\t\\t\\t\\t\\t\\t\\t\\t</ul>\\t\\n\\t\\t\\t\\t\\t\\t\\t</div>\\n\\n\\t\\t\\t\\t\\t\\t</li>\\n\\t\\t\\t\\t\\t\\t\\n\\t\\t\\t\\t\\t\\t<li>\\n\\t\\t\\t\\t\\t\\t\\t<a href=\"javascript:;\">분쇄형 커피\\n\\t\\t\\t\\t\\t\\t\\t\\t<div>\\n\\t\\t\\t\\t\\t\\t\\t\\t\\t<span class=\"first\"></span>\\n\\t\\t\\t\\t\\t\\t\\t\\t\\t<span class=\"last\"></span>\\n\\t\\t\\t\\t\\t\\t\\t\\t</div>\\n\\t\\t\\t\\t\\t\\t\\t</a>\\n\\n\\t\\t\\t\\t\\t\\t\\t<div class=\"depth3\">\\n\\t\\t\\t\\t\\t\\t\\t\\t<ul>\\n\\t\\t\\t\\t\\t\\t\\t\\t\\n\\t\\t\\t\\t\\t\\t\\t\\t<li><a href=\"/product/list.asp?no=49\">드립백</a></li>\\n\\t\\t\\n\\t\\t\\t\\t\\t\\t\\t\\t</ul>\\t\\n\\t\\t\\t\\t\\t\\t\\t</div>\\n\\n\\t\\t\\t\\t\\t\\t</li>\\n\\t\\t\\t\\t\\t\\t\\n\\t\\t\\t\\t\\t\\t<li>\\n\\t\\t\\t\\t\\t\\t\\t<a href=\"javascript:;\">파우치 커피\\n\\t\\t\\t\\t\\t\\t\\t\\t<div>\\n\\t\\t\\t\\t\\t\\t\\t\\t\\t<span class=\"first\"></span>\\n\\t\\t\\t\\t\\t\\t\\t\\t\\t<span class=\"last\"></span>\\n\\t\\t\\t\\t\\t\\t\\t\\t</div>\\n\\t\\t\\t\\t\\t\\t\\t</a>\\n\\n\\t\\t\\t\\t\\t\\t\\t<div class=\"depth3\">\\n\\t\\t\\t\\t\\t\\t\\t\\t<ul>\\n\\t\\t\\t\\t\\t\\t\\t\\t\\n\\t\\t\\t\\t\\t\\t\\t\\t<li><a href=\"/product/list.asp?no=52\">파우치 커피</a></li>\\n\\t\\t\\n\\t\\t\\t\\t\\t\\t\\t\\t</ul>\\t\\n\\t\\t\\t\\t\\t\\t\\t</div>\\n\\n\\t\\t\\t\\t\\t\\t</li>\\n\\t\\t\\t\\t\\t\\t\\n\\t\\t\\t\\t\\t\\t<li>\\n\\t\\t\\t\\t\\t\\t\\t<a href=\"javascript:;\">캡슐 커피\\n\\t\\t\\t\\t\\t\\t\\t\\t<div>\\n\\t\\t\\t\\t\\t\\t\\t\\t\\t<span class=\"first\"></span>\\n\\t\\t\\t\\t\\t\\t\\t\\t\\t<span class=\"last\"></span>\\n\\t\\t\\t\\t\\t\\t\\t\\t</div>\\n\\t\\t\\t\\t\\t\\t\\t</a>\\n\\n\\t\\t\\t\\t\\t\\t\\t<div class=\"depth3\">\\n\\t\\t\\t\\t\\t\\t\\t\\t<ul>\\n\\t\\t\\t\\t\\t\\t\\t\\t\\n\\t\\t\\t\\t\\t\\t\\t\\t<li><a href=\"/product/list.asp?no=47\">네스프레소 호환용</a></li>\\n\\n\\t\\t\\t\\t\\t\\t\\t\\t<li><a href=\"/product/list.asp?no=55\">CBTL 호환용</a></li>\\n\\t\\t\\n\\t\\t\\t\\t\\t\\t\\t\\t</ul>\\t\\n\\t\\t\\t\\t\\t\\t\\t</div>\\n\\n\\t\\t\\t\\t\\t\\t</li>\\n\\t\\t\\t\\t\\t\\t\\n\\t\\t\\t\\t\\t\\t<li>\\n\\t\\t\\t\\t\\t\\t\\t<a href=\"javascript:;\">원두\\n\\t\\t\\t\\t\\t\\t\\t\\t<div>\\n\\t\\t\\t\\t\\t\\t\\t\\t\\t<span class=\"first\"></span>\\n\\t\\t\\t\\t\\t\\t\\t\\t\\t<span class=\"last\"></span>\\n\\t\\t\\t\\t\\t\\t\\t\\t</div>\\n\\t\\t\\t\\t\\t\\t\\t</a>\\n\\n\\t\\t\\t\\t\\t\\t\\t<div class=\"depth3\">\\n\\t\\t\\t\\t\\t\\t\\t\\t<ul>\\n\\t\\t\\t\\t\\t\\t\\t\\t\\n\\t\\t\\t\\t\\t\\t\\t\\t\\t<li><a href=\"/product/bean_guide.asp\">원두 가이드</a></li>\\n\\t\\t\\t\\t\\t\\t\\t\\t\\n\\t\\t\\t\\t\\t\\t\\t\\t<li><a href=\"/product/list.asp?no=9\">라이트 로스트</a></li>\\n\\n\\t\\t\\t\\t\\t\\t\\t\\t<li><a href=\"/product/list.asp?no=11\">미디엄 로스트</a></li>\\n\\n\\t\\t\\t\\t\\t\\t\\t\\t<li><a href=\"/product/list.asp?no=12\">다크 로스트</a></li>\\n\\t\\t\\n\\t\\t\\t\\t\\t\\t\\t\\t</ul>\\t\\n\\t\\t\\t\\t\\t\\t\\t</div>\\n\\n\\t\\t\\t\\t\\t\\t</li>\\n\\t\\t\\t\\t\\t\\t\\n\\t\\t\\t\\t\\t\\t<li>\\n\\t\\t\\t\\t\\t\\t\\t<a href=\"javascript:;\">티\\n\\t\\t\\t\\t\\t\\t\\t\\t<div>\\n\\t\\t\\t\\t\\t\\t\\t\\t\\t<span class=\"first\"></span>\\n\\t\\t\\t\\t\\t\\t\\t\\t\\t<span class=\"last\"></span>\\n\\t\\t\\t\\t\\t\\t\\t\\t</div>\\n\\t\\t\\t\\t\\t\\t\\t</a>\\n\\n\\t\\t\\t\\t\\t\\t\\t<div class=\"depth3\">\\n\\t\\t\\t\\t\\t\\t\\t\\t<ul>\\n\\t\\t\\t\\t\\t\\t\\t\\t\\n\\t\\t\\t\\t\\t\\t\\t\\t\\t<li><a href=\"/product/tea_guide.asp\">티 가이드</a></li>\\n\\t\\t\\t\\t\\t\\t\\t\\t\\n\\t\\t\\t\\t\\t\\t\\t\\t<li><a href=\"/product/list.asp?no=19\">클래식티</a></li>\\n\\n\\t\\t\\t\\t\\t\\t\\t\\t<li><a href=\"/product/list.asp?no=21\">허브티</a></li>\\n\\n\\t\\t\\t\\t\\t\\t\\t\\t<li><a href=\"/product/list.asp?no=22\">프룻티</a></li>\\n\\t\\t\\n\\t\\t\\t\\t\\t\\t\\t\\t</ul>\\t\\n\\t\\t\\t\\t\\t\\t\\t</div>\\n\\n\\t\\t\\t\\t\\t\\t</li>\\n\\t\\t\\t\\t\\t\\t\\n\\t\\t\\t\\t\\t\\t<li>\\n\\t\\t\\t\\t\\t\\t\\t<a href=\"javascript:;\">상품\\n\\t\\t\\t\\t\\t\\t\\t\\t<div>\\n\\t\\t\\t\\t\\t\\t\\t\\t\\t<span class=\"first\"></span>\\n\\t\\t\\t\\t\\t\\t\\t\\t\\t<span class=\"last\"></span>\\n\\t\\t\\t\\t\\t\\t\\t\\t</div>\\n\\t\\t\\t\\t\\t\\t\\t</a>\\n\\n\\t\\t\\t\\t\\t\\t\\t<div class=\"depth3\">\\n\\t\\t\\t\\t\\t\\t\\t\\t<ul>\\n\\t\\t\\t\\t\\t\\t\\t\\t\\n\\t\\t\\t\\t\\t\\t\\t\\t<li><a href=\"/product/list.asp?no=41\">아이스 텀블러</a></li>\\n\\n\\t\\t\\t\\t\\t\\t\\t\\t<li><a href=\"/product/list.asp?no=42\">보온 텀블러</a></li>\\n\\n\\t\\t\\t\\t\\t\\t\\t\\t<li><a href=\"/product/list.asp?no=43\">머그</a></li>\\n\\n\\t\\t\\t\\t\\t\\t\\t\\t<li><a href=\"/product/list.asp?no=38\">파우더</a></li>\\n\\n\\t\\t\\t\\t\\t\\t\\t\\t<li><a href=\"/product/list.asp?no=45\">푸드</a></li>\\n\\n\\t\\t\\t\\t\\t\\t\\t\\t<li><a href=\"/product/list.asp?no=32\">기타상품</a></li>\\n\\n\\t\\t\\t\\t\\t\\t\\t\\t<li><a href=\"/product/list.asp?no=30\">펫 MD</a></li>\\n\\t\\t\\n\\t\\t\\t\\t\\t\\t\\t\\t</ul>\\t\\n\\t\\t\\t\\t\\t\\t\\t</div>\\n\\n\\t\\t\\t\\t\\t\\t</li>\\n\\t\\t\\t\\t\\t\\t\\n\\t\\t\\t\\t\\t\\t<li>\\n\\t\\t\\t\\t\\t\\t\\t<a href=\"javascript:;\">CBTL시스템\\n\\t\\t\\t\\t\\t\\t\\t\\t<div>\\n\\t\\t\\t\\t\\t\\t\\t\\t\\t<span class=\"first\"></span>\\n\\t\\t\\t\\t\\t\\t\\t\\t\\t<span class=\"last\"></span>\\n\\t\\t\\t\\t\\t\\t\\t\\t</div>\\n\\t\\t\\t\\t\\t\\t\\t</a>\\n\\n\\t\\t\\t\\t\\t\\t\\t<div class=\"depth3\">\\n\\t\\t\\t\\t\\t\\t\\t\\t<ul>\\n\\t\\t\\t\\t\\t\\t\\t\\t\\n\\t\\t\\t\\t\\t\\t\\t\\t<li><a href=\"/product/list.asp?no=24\">CBTL 머신</a></li>\\n\\t\\t\\n\\t\\t\\t\\t\\t\\t\\t\\t</ul>\\t\\n\\t\\t\\t\\t\\t\\t\\t</div>\\n\\n\\t\\t\\t\\t\\t\\t</li>\\n\\t\\t\\n\\t\\t\\t\\t\\t</ul>\\t\\n\\t\\t\\t\\n\\t\\t\\t\\t</div>\\n\\t\\t\\t</li>\\n\\t\\t\\t<li class=\"depth1\">\\n\\t\\t\\t\\t<a href=\"javascript:void(0);\">MEMBER`S CLUB</a>\\n\\t\\t\\t\\t<div class=\"depth2\" style=\"left: -380px;\">\\t\\t\\t\\t\\t\\n\\t\\t\\t\\t\\t<div class=\"tit_box\">\\n\\t\\t\\t\\t\\t\\t<h2>MEMBER`S CLUB</h2>\\n\\t\\t\\t\\t\\t\\t<a href=\"javascript:void(0);\" class=\"btn_close\">CLOSE</a>\\n\\t\\t\\t\\t\\t</div>\\n\\t\\t\\t\\t\\t<ul>\\n\\t\\t\\t\\t\\t\\t<li>\\n\\t\\t\\t\\t\\t\\t\\t<a href=\"javascript:void(0);\">커피빈 멤버스 클럽\\n\\t\\t\\t\\t\\t\\t\\t\\t<div>\\n\\t\\t\\t\\t\\t\\t\\t\\t\\t<span class=\"first\"></span>\\n\\t\\t\\t\\t\\t\\t\\t\\t\\t<span class=\"last\"></span>\\n\\t\\t\\t\\t\\t\\t\\t\\t</div>\\n\\t\\t\\t\\t\\t\\t\\t</a>\\n\\t\\t\\t\\t\\t\\t\\t<div class=\"depth3\">\\n\\t\\t\\t\\t\\t\\t\\t\\t<ul>\\n\\t\\t\\t\\t\\t\\t\\t\\t\\t<li><a href=\"/card/membersclub.asp\">멤버스 클럽</a></li>\\n\\t\\t\\t\\t\\t\\t\\t\\t\\t<li><a href=\"/card/memberscard.asp\">커피빈 카드</a></li>\\n\\t\\t\\t\\t\\t\\t\\t\\t\\t<li><a href=\"/card/e_gift.asp\">커피빈 e-Gift</a></li>\\n\\t\\t\\t\\t\\t\\t\\t\\t</ul>\\n\\t\\t\\t\\t\\t\\t\\t</div>\\n\\t\\t\\t\\t\\t\\t</li>\\n\\t\\t\\t\\t\\t\\t<li>\\n\\t\\t\\t\\t\\t\\t\\t<a href=\"javascript:void(0);\">나의 커피빈\\n\\t\\t\\t\\t\\t\\t\\t\\t<div>\\n\\t\\t\\t\\t\\t\\t\\t\\t\\t<span class=\"first\"></span>\\n\\t\\t\\t\\t\\t\\t\\t\\t\\t<span class=\"last\"></span>\\n\\t\\t\\t\\t\\t\\t\\t\\t</div>\\n\\t\\t\\t\\t\\t\\t\\t</a>\\n\\t\\t\\t\\t\\t\\t\\t<div class=\"depth3\">\\n\\t\\t\\t\\t\\t\\t\\t\\t<ul>\\n\\t\\t\\t\\t\\t\\t\\t\\t\\t<li><a href=\"/mypage/my_club.asp\">나의 콩/e쿠폰보기</a></li>\\n\\t\\t\\t\\t\\t\\t\\t\\t\\t<li><a href=\"/mypage/my_card_srh.asp\">나의 커피빈 카드</a></li>\\n\\t\\t\\t\\t\\t\\t\\t\\t\\t<li><a href=\"/mypage/sign_up.asp\">커피빈 카드 등록</a></li>\\n\\t\\t\\t\\t\\t\\t\\t\\t\\t<li><a href=\"/mypage/application.asp\">분실신고/환불신청</a></li>\\n\\t\\t\\t\\t\\t\\t\\t\\t\\t<!--li><a href=\"/mypage/e_gift1.asp\">e-Gift 구매</a></li-->\\n\\t\\t\\t\\t\\t\\t\\t\\t</ul>\\n\\t\\t\\t\\t\\t\\t\\t</div>\\n\\t\\t\\t\\t\\t\\t</li>\\n\\t\\t\\t\\t\\t\\t<!-- 사용안함 2022-04-14 정의근 -->\\n\\t\\t\\t\\t\\t\\t<!--li>\\n\\t\\t\\t\\t\\t\\t\\t<a href=\"javascript:void(0);\">멤버스몰\\n\\t\\t\\t\\t\\t\\t\\t\\t<div>\\n\\t\\t\\t\\t\\t\\t\\t\\t\\t<span class=\"first\"></span>\\n\\t\\t\\t\\t\\t\\t\\t\\t\\t<span class=\"last\"></span>\\n\\t\\t\\t\\t\\t\\t\\t\\t</div>\\n\\t\\t\\t\\t\\t\\t\\t</a>\\n\\t\\t\\t\\t\\t\\t\\t<div class=\"depth3\">\\n\\t\\t\\t\\t\\t\\t\\t\\t<ul>\\n\\t\\t\\t\\t\\t\\t\\t\\t\\t<li><a href=\"/card/membersmall.asp\">멤버스몰 소개</a></li>\\n\\t\\t\\t\\t\\t\\t\\t\\t</ul>\\n\\t\\t\\t\\t\\t\\t\\t</div>\\n\\t\\t\\t\\t\\t\\t</li-->\\n\\t\\t\\t\\t\\t</ul>\\n\\t\\t\\t\\t</div>\\n\\t\\t\\t</li>\\n\\t\\t\\t<!-- <li class=\"depth1\">\\n\\t\\t\\t\\t<a href=\"javascript:void(0);\">PROMOTION</a>\\n\\t\\t\\t\\t<div class=\"depth2\">\\t\\t\\t\\t\\t\\n\\t\\t\\t\\t\\t<div class=\"tit_box\">\\n\\t\\t\\t\\t\\t\\t<h2>PROMOTION</h2>\\n\\t\\t\\t\\t\\t\\t<a href=\"javascript:void(0);\" class=\"btn_close\">CLOSE</a>\\n\\t\\t\\t\\t\\t</div>\\n\\t\\t\\t\\t\\t<ul>\\n\\t\\t\\t\\t\\t\\t<li><a href=\"/promotion/list.asp?category=1\">Promotion</a></li>\\n\\t\\t\\t\\t\\t\\t<li><a href=\"/promotion/list.asp?category=2\">Promotion Drinks</a></li>\\n\\t\\t\\t\\t\\t</ul>\\n\\t\\t\\t\\t</div>\\n\\t\\t\\t</li> -->\\n\\t\\t\\t<li class=\"depth1\">\\n\\t\\t\\t\\t<a href=\"javascript:void(0);\">MENU</a>\\n\\t\\t\\t\\t<div class=\"depth2\" style=\"left: -380px;\">\\t\\t\\t\\t\\t\\n\\t\\t\\t\\t\\t<div class=\"tit_box\">\\n\\t\\t\\t\\t\\t\\t<h2>MENU</h2>\\n\\t\\t\\t\\t\\t\\t<a href=\"javascript:void(0);\" class=\"btn_close\">CLOSE</a>\\n\\t\\t\\t\\t\\t</div>\\n\\t\\t\\t\\t\\t<ul>\\n\\t\\t\\t\\t\\t\\t<li>\\n\\t\\t\\t\\t\\t\\t\\t<a href=\"#\">음료\\n\\t\\t\\t\\t\\t\\t\\t\\t<div>\\n\\t\\t\\t\\t\\t\\t\\t\\t\\t<span class=\"first\"></span>\\n\\t\\t\\t\\t\\t\\t\\t\\t\\t<span class=\"last\"></span>\\n\\t\\t\\t\\t\\t\\t\\t\\t</div>\\n\\t\\t\\t\\t\\t\\t\\t</a>\\n\\t\\t\\t\\t\\t\\t\\t<div class=\"depth3\">\\n\\t\\t\\t\\t\\t\\t\\t\\t<ul>\\n\\n\\t\\t\\t<li><a href=\"/menu/list.asp?category=32\">신음료</a></li>\\n\\n\\t\\t\\t<li><a href=\"/menu/list.asp?category=13\">에스프레소 음료</a></li>\\n\\n\\t\\t\\t<li><a href=\"/menu/list.asp?category=14\">브루드 커피</a></li>\\n\\n\\t\\t\\t<li><a href=\"/menu/list.asp?category=18\">티</a></li>\\n\\n\\t\\t\\t<li><a href=\"/menu/list.asp?category=17\">티 라떼</a></li>\\n\\n\\t\\t\\t<li><a href=\"/menu/list.asp?category=12\">아이스 블렌디드 (Coffee)</a></li>\\n\\n\\t\\t\\t<li><a href=\"/menu/list.asp?category=11\">아이스 블렌디드 (Non-Coffee)</a></li>\\n\\n\\t\\t\\t<li><a href=\"/menu/list.asp?category=26\">커피빈 주스(병음료)</a></li>\\n\\n\\t\\t\\t<li><a href=\"/menu/list.asp?category=24\">기타 제조 음료</a></li>\\n\\n\\t\\t\\t<li><a href=\"/menu/list_extra.asp\">엑스트라</a></li>\\n\\n\\t\\t\\t\\t\\t\\t\\t\\t</ul>\\n\\t\\t\\t\\t\\t\\t\\t</div>\\n\\t\\t\\t\\t\\t\\t</li>\\n\\t\\t\\t\\t\\t\\t<li>\\n\\t\\t\\t\\t\\t\\t\\t<a href=\"#\">푸드\\n\\t\\t\\t\\t\\t\\t\\t\\t<div>\\n\\t\\t\\t\\t\\t\\t\\t\\t\\t<span class=\"first\"></span>\\n\\t\\t\\t\\t\\t\\t\\t\\t\\t<span class=\"last\"></span>\\n\\t\\t\\t\\t\\t\\t\\t\\t</div>\\n\\t\\t\\t\\t\\t\\t\\t</a>\\n\\t\\t\\t\\t\\t\\t\\t<div class=\"depth3\">\\n\\t\\t\\t\\t\\t\\t\\t\\t<ul>\\n\\n\\t\\t\\t<li><a href=\"/menu/list.asp?category=4\">베이커리</a></li>\\n\\n\\t\\t\\t<li><a href=\"/menu/list.asp?category=5\">케익</a></li>\\n\\n\\t\\t\\t<li><a href=\"/menu/list.asp?category=8\">홀케익</a></li>\\n\\n\\t\\t\\t<li><a href=\"/menu/list.asp?category=6\">샌드위치 &amp; 샐러드</a></li>\\n\\n\\t\\t\\t<li><a href=\"/menu/list.asp?category=7\">기타</a></li>\\n\\n\\t\\t\\t\\t\\t\\t\\t\\t</ul>\\n\\t\\t\\t\\t\\t\\t\\t</div>\\n\\t\\t\\t\\t\\t\\t</li>\\n\\t\\t\\t\\t\\t\\t<li>\\n\\t\\t\\t\\t\\t\\t\\t<a href=\"#\">상품\\n\\t\\t\\t\\t\\t\\t\\t\\t<div>\\n\\t\\t\\t\\t\\t\\t\\t\\t\\t<span class=\"first\"></span>\\n\\t\\t\\t\\t\\t\\t\\t\\t\\t<span class=\"last\"></span>\\n\\t\\t\\t\\t\\t\\t\\t\\t</div>\\n\\t\\t\\t\\t\\t\\t\\t</a>\\n\\t\\t\\t\\t\\t\\t\\t<div class=\"depth3\">\\n\\t\\t\\t\\t\\t\\t\\t\\t<ul>\\n\\t\\t\\t\\t\\t\\t\\t\\t\\t<li><a href=\"/product/list.asp?no=41\">아이스 텀블러</a></li>\\n\\t\\t\\t\\t\\t\\t\\t\\t\\t<li><a href=\"/product/list.asp?no=42\">보온 텀블러</a></li>\\n\\t\\t\\t\\t\\t\\t\\t\\t\\t<li><a href=\"/product/list.asp?no=43\">머그</a></li>\\n\\t\\t\\t\\t\\t\\t\\t\\t\\t<li><a href=\"/product/list.asp?no=39\">소풍커피</a></li>\\n\\t\\t\\t\\t\\t\\t\\t\\t\\t<li><a href=\"/product/list.asp?no=63\">스틱커피</a></li>\\n\\t\\t\\t\\t\\t\\t\\t\\t\\t<li><a href=\"/product/list.asp?no=38\">파우더</a></li>\\n\\t\\t\\t\\t\\t\\t\\t\\t\\t<li><a href=\"/product/list.asp?no=32\">기타상품</a></li>\\n\\t\\t\\t\\t\\t\\t\\t\\t</ul>\\n\\t\\t\\t\\t\\t\\t\\t</div>\\n\\t\\t\\t\\t\\t\\t</li>\\n\\t\\t\\t\\t\\t\\t<li>\\n\\t\\t\\t\\t\\t\\t\\t<a href=\"#\">카드\\n\\t\\t\\t\\t\\t\\t\\t\\t<div>\\n\\t\\t\\t\\t\\t\\t\\t\\t\\t<span class=\"first\"></span>\\n\\t\\t\\t\\t\\t\\t\\t\\t\\t<span class=\"last\"></span>\\n\\t\\t\\t\\t\\t\\t\\t\\t</div>\\n\\t\\t\\t\\t\\t\\t\\t</a>\\n\\t\\t\\t\\t\\t\\t\\t<div class=\"depth3\">\\n\\t\\t\\t\\t\\t\\t\\t\\t<ul>\\n\\t\\t\\t\\t\\t\\t\\t\\t\\t<!--<li><a href=\"/menu/messagecard.asp\">메시지 카드</a></li>-->\\n\\t\\t\\t\\t\\t\\t\\t\\t\\t<li><a href=\"/card/e_gift.asp\">e-Gift 카드</a></li>\\n\\t\\t\\t\\t\\t\\t\\t\\t\\t<li><a href=\"/card/memberscard.asp\">실물 카드</a></li>\\n\\t\\t\\t\\t\\t\\t\\t\\t</ul>\\n\\t\\t\\t\\t\\t\\t\\t</div>\\n\\t\\t\\t\\t\\t\\t</li>\\n\\t\\t\\t\\t\\t</ul>\\n\\t\\t\\t\\t</div>\\n\\t\\t\\t</li>\\n\\t\\t\\t<li class=\"depth1\">\\n\\t\\t\\t\\t<a href=\"javascript:void(0);\">STORE &amp; 서비스</a>\\n\\t\\t\\t\\t<div class=\"depth2\" style=\"left: -380px;\">\\n\\t\\t\\t\\t\\t<div class=\"tit_box\">\\n\\t\\t\\t\\t\\t\\t<h2>STORE</h2>\\n\\t\\t\\t\\t\\t\\t<a href=\"javascript:;\" class=\"btn_close\">CLOSE</a>\\n\\t\\t\\t\\t\\t</div>\\n\\t\\t\\t\\t\\t<ul>\\n\\t\\t\\t\\t\\t\\t<li><a href=\"/catering/catering.asp\">케이터링 서비스</a></li>\\n\\t\\t\\t\\t\\t\\t<li><a href=\"/store/store.asp\">매장 찾기</a></li>\\n\\t\\t\\t\\t\\t\\t<!-- <li><a href=\"/store/store.asp?category=2\">신규 매장</a></li> -->\\n\\t\\t\\t\\t\\t\\t<li><a href=\"/store/store.asp#newStore\">신규 매장</a></li>\\n\\t\\t\\t\\t\\t</ul>\\n\\t\\t\\t\\t</div>\\n\\t\\t\\t</li>\\n\\t\\t\\t<li class=\"depth1\">\\n\\t\\t\\t\\t<a href=\"javascript:void(0);\">THE COFFEE BEAN</a>\\n\\t\\t\\t\\t<div class=\"depth2\" style=\"left: -380px;\">\\n\\t\\t\\t\\t\\t<div class=\"tit_box\">\\n\\t\\t\\t\\t\\t\\t<h2>THE COFFEE BEAN</h2>\\n\\t\\t\\t\\t\\t\\t<a href=\"javascript:void(0);\" class=\"btn_close\">CLOSE</a>\\n\\t\\t\\t\\t\\t</div>\\n\\t\\t\\t\\t\\t<ul>\\n\\t\\t\\t\\t\\t\\t<li>\\n\\t\\t\\t\\t\\t\\t\\t<a href=\"javascript: void(0);\">커피빈 코리아\\n\\t\\t\\t\\t\\t\\t\\t\\t<div>\\n\\t\\t\\t\\t\\t\\t\\t\\t\\t<span class=\"first\"></span>\\n\\t\\t\\t\\t\\t\\t\\t\\t\\t<span class=\"last\"></span>\\n\\t\\t\\t\\t\\t\\t\\t\\t</div>\\n\\t\\t\\t\\t\\t\\t\\t</a>\\n\\t\\t\\t\\t\\t\\t\\t<div class=\"depth3\">\\n\\t\\t\\t\\t\\t\\t\\t\\t<ul>\\n\\t\\t\\t\\t\\t\\t\\t\\t\\t<li><a href=\"/about/coffeebean.asp\">Simply the Best</a></li>\\n\\t\\t\\t\\t\\t\\t\\t\\t\\t<li><a href=\"/about/coffeebean.asp#oct\">커피빈 커피와 티</a></li>\\n\\t\\t\\t\\t\\t\\t\\t\\t</ul>\\n\\t\\t\\t\\t\\t\\t\\t</div>\\n\\t\\t\\t\\t\\t\\t</li>\\n\\t\\t\\t\\t\\t\\t<li>\\n\\t\\t\\t\\t\\t\\t\\t<a href=\"javascript: void(0);\">커피빈 소식\\n\\t\\t\\t\\t\\t\\t\\t\\t<div>\\n\\t\\t\\t\\t\\t\\t\\t\\t\\t<span class=\"first\"></span>\\n\\t\\t\\t\\t\\t\\t\\t\\t\\t<span class=\"last\"></span>\\n\\t\\t\\t\\t\\t\\t\\t\\t</div>\\n\\t\\t\\t\\t\\t\\t\\t</a>\\n\\t\\t\\t\\t\\t\\t\\t<div class=\"depth3\">\\n\\t\\t\\t\\t\\t\\t\\t\\t<ul>\\n\\t\\t\\t\\t\\t\\t\\t\\t\\t\\t<li><a href=\"/news/list.asp\">새소식</a></li>\\n\\t\\t\\t\\t\\t\\t\\t\\t\\t\\t<li><a href=\"/promotion/list.asp?category=1\">프로모션</a></li>\\n\\t\\t\\t\\t\\t\\t\\t\\t\\t\\t<li><a href=\"/customer/list.asp\">공지사항</a></li>\\n\\t\\t\\t\\t\\t\\t\\t\\t\\t\\t<li><a href=\"/social/social.asp\">소셜미디어</a></li>\\n\\t\\t\\t\\t\\t\\t\\t\\t</ul>\\n\\t\\t\\t\\t\\t\\t\\t</div>\\n\\t\\t\\t\\t\\t\\t</li>\\n\\t\\t\\t\\t\\t\\t<li>\\n\\t\\t\\t\\t\\t\\t\\t<a href=\"javascript: void(0);\">사회공헌\\n\\t\\t\\t\\t\\t\\t\\t\\t<div>\\n\\t\\t\\t\\t\\t\\t\\t\\t\\t<span class=\"first\"></span>\\n\\t\\t\\t\\t\\t\\t\\t\\t\\t<span class=\"last\"></span>\\n\\t\\t\\t\\t\\t\\t\\t\\t</div>\\n\\t\\t\\t\\t\\t\\t\\t</a>\\n\\t\\t\\t\\t\\t\\t\\t<div class=\"depth3\">\\n\\t\\t\\t\\t\\t\\t\\t\\t<ul>\\n\\t\\t\\t\\t\\t\\t\\t\\t\\t<li><a href=\"/about/responsibility.asp\">국제 사회공헌</a></li>\\n\\t\\t\\t\\t\\t\\t\\t\\t\\t<li><a href=\"/about/responsibility.asp#part2\">필리핀 청소년 교육혜택 지원하기</a></li>\\n\\t\\t\\t\\t\\t\\t\\t\\t\\t<li><a href=\"/about/responsibility.asp#part3\">성경원, 나눔의 샘 후원 결연</a></li>\\n\\t\\t\\t\\t\\t\\t\\t\\t</ul>\\n\\t\\t\\t\\t\\t\\t\\t</div>\\n\\t\\t\\t\\t\\t\\t</li>\\n\\t\\t\\t\\t\\t\\t<li>\\n\\t\\t\\t\\t\\t\\t\\t<a href=\"javascript: void(0);\">채용안내\\n\\t\\t\\t\\t\\t\\t\\t\\t<div>\\n\\t\\t\\t\\t\\t\\t\\t\\t\\t<span class=\"first\"></span>\\n\\t\\t\\t\\t\\t\\t\\t\\t\\t<span class=\"last\"></span>\\n\\t\\t\\t\\t\\t\\t\\t\\t</div>\\n\\t\\t\\t\\t\\t\\t\\t</a>\\n\\t\\t\\t\\t\\t\\t\\t<div class=\"depth3\">\\n\\t\\t\\t\\t\\t\\t\\t\\t<ul>\\n\\t\\t\\t\\t\\t\\t\\t\\t\\t<li><a href=\"/recruit/recruit.asp\">채용안내 바로가기</a></li>\\n\\t\\t\\t\\t\\t\\t\\t\\t\\t<li><a href=\"/recruit/recruit.asp#category\">채용카테고리</a></li>\\n\\t\\t\\t\\t\\t\\t\\t\\t</ul>\\n\\t\\t\\t\\t\\t\\t\\t</div>\\n\\t\\t\\t\\t\\t\\t</li>\\n\\t\\t\\t\\t\\t\\t<li><a href=\"/about/standing_point.asp\">신규 입점 제의</a></li>\\n\\t\\t\\t\\t\\t\\t<li><a href=\"/about/finance.asp\">결산공고</a></li>\\n\\t\\t\\t\\t\\t</ul>\\n\\t\\t\\t\\t</div>\\n\\t\\t\\t</li>\\n\\t\\t\\t<!-- <li class=\"depth1\">\\n\\t\\t\\t\\t<a href=\"javascript:void(0);\">CUSTOMER RELATIONS</a>\\n\\t\\t\\t\\t<div class=\"depth2\">\\n\\t\\t\\t\\t\\t<div class=\"tit_box\">\\n\\t\\t\\t\\t\\t\\t<h2>CUSTOMER RELATIONS</h2>\\n\\t\\t\\t\\t\\t\\t<a href=\"javascript:void(0);\" class=\"btn_close\">CLOSE</a>\\n\\t\\t\\t\\t\\t</div>\\n\\t\\t\\t\\t\\t<ul>\\t\\t\\t\\t\\n\\t\\t\\t\\t\\t\\t<li><a href=\"/customer/faq_list.asp\">FAQ</a></li>\\n\\t\\t\\t\\t\\t\\t<li><a href=\"/customer/barcode.asp\">상품권 잔액 확인</a></li>\\n\\t\\t\\t\\t\\t\\t<li><a href=\"/customer/heavybuying.asp\">단체 및 기업구매</a></li>\\n\\t\\t\\t\\t\\t\\t<li><a href=\"/mypage/qna_write.asp\">문의하기</a></li>\\t\\n\\t\\t\\t\\t\\t</ul>\\n\\t\\t\\t\\t</div>\\n\\t\\t\\t</li> -->\\n\\t\\t\\t<li class=\"depth1\">\\n\\t\\t\\t\\t<a href=\"javascript:void(0);\">CBTL</a>\\n\\t\\t\\t\\t<div class=\"depth2\" style=\"left: -380px;\">\\n\\t\\t\\t\\t\\t<div class=\"tit_box\">\\n\\t\\t\\t\\t\\t\\t<h2>CBTL</h2>\\n\\t\\t\\t\\t\\t\\t<a href=\"javascript:void(0);\" class=\"btn_close\">CLOSE</a>\\n\\t\\t\\t\\t\\t</div>\\n\\t\\t\\t\\t\\t<ul>\\n\\t\\t\\t\\t\\t\\t<li><a href=\"/cbtl/cbtl.asp\">CBTL 가이드</a></li>\\n\\t\\t\\t\\t\\t\\t<li><a href=\"/cbtl/overview.asp\">CBTL 서비스</a></li>\\n\\t\\t\\t\\t\\t\\t<li><a href=\"/cbtl/as_service.asp\">AS 안내</a></li>\\n\\t\\t\\t\\t\\t\\t<li><a href=\"/cbtl/as_self.asp\">AS 신청</a></li>\\n\\t\\t\\t\\t\\t\\t<li><a href=\"/cbtl/faq_list.asp\">CBTL FAQ</a></li>\\n\\t\\t\\t\\t\\t\\t<li><a href=\"/cbtl/manual.asp\">제품설명서</a></li>\\n\\t\\t\\t\\t\\t\\t<!--li><a href=\"/cbtl/machine.asp\">기업용 머신</a></li-->\\n\\t\\t\\t\\t\\t</ul>\\n\\t\\t\\t\\t</div>\\n\\t\\t\\t</li>\\n\\t\\t\\t<!-- <li class=\"social\"><a href=\"/social/social.asp\">SOCIAL MEDIA</a></li> -->\\n\\t\\t</ul>\\n\\t</div>\\n\\t<div class=\"bg_wrap\"></div>\\t\\n\\t<!--//MOBILE GNB-->\\n\\n\\t<!-- start of :: wrap -->\\n\\t<div id=\"wrap\">\\n\\t\\t<!-- start of :: heaer  -->\\n\\t\\t<div id=\"header\">\\n\\t\\t\\t<div class=\"header_member\" style=\"\">\\n\\t\\t\\t\\t<!-- 로그인 전 -->\\n\\n\\t\\t\\t\\t<div class=\"h_mbr_inner h_mbr_no\">\\n\\t\\t\\t\\t\\t<p class=\"h_mbr_no_txt\">\\n\\t\\t\\t\\t\\t\\t<strong class=\"pcolor4\">로그인</strong>을 하시면 커피빈 멤버스 클럽의 <br class=\"d_hidden t_hidden\"><strong class=\"pcolor4\">다양한혜택</strong>을 받으실 수 있습니다. \\n\\t\\t\\t\\t\\t</p>\\n\\t\\t\\t\\t\\t<div class=\"btn_box\">\\n\\t\\t\\t\\t\\t\\t<a href=\"/member/login.asp#loginArea\" class=\"btn1\">로그인</a>\\n\\t\\t\\t\\t\\t\\t<a href=\"/member/join1.asp\" class=\"btn2\">회원가입</a>\\n\\t\\t\\t\\t\\t</div>\\n\\t\\t\\t\\t</div>\\n\\t\\t\\t\\t<!-- // 로그인 전 -->\\n\\t\\t\\t\\t\\n\\t\\t\\t</div>\\n\\t\\t\\t<!-- // header_member -->\\n\\t\\t\\t<div class=\"util_menu\">\\n\\t\\t\\t\\t<div class=\"inner_util\">\\n\\t\\t\\t\\t\\t<ul>\\n\\n\\n\\t\\t\\t\\t\\t\\t<li><a href=\"/member/login.asp#loginArea\" class=\"btn_login\">로그인</a></li>\\n\\n\\n\\t\\t\\t\\t\\t\\t<li><a href=\"/store/store.asp\">매장찾기</a></li>\\n\\t\\t\\t\\t\\t\\t<li><a href=\"/recruit/recruit.asp\">채용정보</a></li>\\n\\t\\t\\t\\t\\t\\t<li><a href=\"/customer/heavybuying.asp\">단체 및 기업구매</a></li>\\n\\t\\t\\t\\t\\t\\t<li><a href=\"/customer/customer.asp\">고객서비스</a></li>\\n\\t\\t\\t\\t\\t\\t<li id=\"btnHeaderMember\" class=\"btn_h_mbr\"><a href=\"#\">회원 정보 안내</a></li>\\n\\t\\t\\t\\t\\t\\t<li class=\"mybag\">\\n\\t\\t\\t\\t\\t\\t\\t<a href=\"/order/cart.asp\">\\n\\t\\t\\t\\t\\t\\t\\t\\tMy bag<span class=\"num\">0</span>\\n\\t\\t\\t\\t\\t\\t\\t</a>\\n\\t\\t\\t\\t\\t\\t</li>\\n\\t\\t\\t\\t\\t</ul>\\n\\t\\t\\t\\t</div>\\n\\t\\t\\t</div>\\n\\t\\t\\t\\n\\t\\t\\t<div class=\"inner_header\">\\n\\t\\t\\t\\t<a href=\"javascript:;\" class=\"btn_menu\">MENU</a>\\n\\n\\t\\t\\t\\t<h1 class=\"logo\"><a href=\"/main/main.asp\">COFFEE BEAN</a></h1>\\n\\n\\t\\t\\t\\t<div id=\"gnb\" class=\"gnb\">\\n\\t\\t\\t\\t\\t<ul>\\n\\t\\t\\t\\t\\t\\t<li class=\"buy\">\\n\\t\\t\\t\\t\\t\\t\\t<a href=\"/product/list.asp\">BUY ONLINE</a>\\n\\t\\t\\t\\t\\t\\t\\t<div class=\"depth2\">\\n\\t\\t\\t\\t\\t\\t\\t\\t<div class=\"first\">\\n\\t\\t\\t\\t\\t\\t\\t\\t    <a href=\"/product/list.asp\">View All</a>\\n\\t\\t\\t\\t\\t\\t\\t\\t\\t\\n\\t\\t\\t\\t\\t\\t\\t\\t</div>\\n\\t\\t\\t\\t\\n\\t\\t\\t\\t\\t\\t\\t  <div class=\"depth2_list \">\\n\\n\\t\\t\\t\\t\\t\\t\\t\\t<h2 class=\"depth_title\"><a href=\"/catering/catering.asp\">스틱 커피</a></h2>\\n\\n\\t\\t\\t\\t\\t\\t\\t\\t<ul>\\n\\t\\t\\t\\t\\t\\t\\t\\t\\t\\n\\t\\t\\t\\t\\t\\t\\t\\t<li><a href=\"/product/list.asp?no=63\">스틱 커피</a></li>\\n\\t\\t\\n\\t\\t\\t\\t\\t\\t\\t\\t</ul>\\t\\n\\n\\t\\t\\t\\t\\t\\t\\t\\t</div>\\n\\t\\t\\t\\t\\t\\t\\n\\t\\t\\t\\t\\t\\t\\t  <div class=\"depth2_list \">\\n\\n\\t\\t\\t\\t\\t\\t\\t\\t<h2 class=\"depth_title\"><a href=\"/product/list.asp?no=48\">분쇄형 커피</a></h2>\\n\\n\\t\\t\\t\\t\\t\\t\\t\\t<ul>\\n\\t\\t\\t\\t\\t\\t\\t\\t\\t\\n\\t\\t\\t\\t\\t\\t\\t\\t<li><a href=\"/product/list.asp?no=49\">드립백</a></li>\\n\\t\\t\\n\\t\\t\\t\\t\\t\\t\\t\\t</ul>\\t\\n\\n\\t\\t\\t\\t\\t\\t\\t\\t</div>\\n\\t\\t\\t\\t\\t\\t\\n\\t\\t\\t\\t\\t\\t\\t  <div class=\"depth2_list \">\\n\\n\\t\\t\\t\\t\\t\\t\\t\\t<h2 class=\"depth_title\"><a href=\"/product/list.asp?no=50\">파우치 커피</a></h2>\\n\\n\\t\\t\\t\\t\\t\\t\\t\\t<ul>\\n\\t\\t\\t\\t\\t\\t\\t\\t\\t\\n\\t\\t\\t\\t\\t\\t\\t\\t<li><a href=\"/product/list.asp?no=52\">파우치 커피</a></li>\\n\\t\\t\\n\\t\\t\\t\\t\\t\\t\\t\\t</ul>\\t\\n\\n\\t\\t\\t\\t\\t\\t\\t\\t</div>\\n\\t\\t\\t\\t\\t\\t\\n\\t\\t\\t\\t\\t\\t\\t  <div class=\"depth2_list \">\\n\\n\\t\\t\\t\\t\\t\\t\\t\\t<h2 class=\"depth_title\"><a href=\"/product/list.asp?no=46\">캡슐 커피</a></h2>\\n\\n\\t\\t\\t\\t\\t\\t\\t\\t<ul>\\n\\t\\t\\t\\t\\t\\t\\t\\t\\t\\n\\t\\t\\t\\t\\t\\t\\t\\t<li><a href=\"/product/list.asp?no=47\">네스프레소 호환용</a></li>\\n\\n\\t\\t\\t\\t\\t\\t\\t\\t<li><a href=\"/product/list.asp?no=55\">CBTL 호환용</a></li>\\n\\t\\t\\n\\t\\t\\t\\t\\t\\t\\t\\t</ul>\\t\\n\\n\\t\\t\\t\\t\\t\\t\\t\\t</div>\\n\\t\\t\\t\\t\\t\\t\\n\\t\\t\\t\\t\\t\\t\\t  <div class=\"depth2_list \">\\n\\n\\t\\t\\t\\t\\t\\t\\t\\t<h2 class=\"depth_title\"><a href=\"/product/list.asp?no=4\">원두</a></h2>\\n\\n\\t\\t\\t\\t\\t\\t\\t\\t<ul>\\n\\t\\t\\t\\t\\t\\t\\t\\t\\t\\n\\t\\t\\t\\t\\t\\t\\t\\t\\t\\t<li class=\"pcolor1\"><a href=\"/product/bean_guide.asp\">원두 가이드</a></li>\\n\\t\\t\\t\\t\\t\\t\\t\\t\\t\\n\\t\\t\\t\\t\\t\\t\\t\\t<li><a href=\"/product/list.asp?no=9\">라이트 로스트</a></li>\\n\\n\\t\\t\\t\\t\\t\\t\\t\\t<li><a href=\"/product/list.asp?no=11\">미디엄 로스트</a></li>\\n\\n\\t\\t\\t\\t\\t\\t\\t\\t<li><a href=\"/product/list.asp?no=12\">다크 로스트</a></li>\\n\\t\\t\\n\\t\\t\\t\\t\\t\\t\\t\\t</ul>\\t\\n\\n\\t\\t\\t\\t\\t\\t\\t\\t</div>\\n\\t\\t\\t\\t\\t\\t\\n\\t\\t\\t\\t\\t\\t\\t  <div class=\"depth2_list \">\\n\\n\\t\\t\\t\\t\\t\\t\\t\\t<h2 class=\"depth_title\"><a href=\"/product/list.asp?no=3\">티</a></h2>\\n\\n\\t\\t\\t\\t\\t\\t\\t\\t<ul>\\n\\t\\t\\t\\t\\t\\t\\t\\t\\t\\n\\t\\t\\t\\t\\t\\t\\t\\t\\t\\t<li class=\"pcolor1\"><a href=\"/product/tea_guide.asp\">티 가이드</a></li>\\n\\t\\t\\t\\t\\t\\t\\t\\t\\t\\n\\t\\t\\t\\t\\t\\t\\t\\t<li><a href=\"/product/list.asp?no=19\">클래식티</a></li>\\n\\n\\t\\t\\t\\t\\t\\t\\t\\t<li><a href=\"/product/list.asp?no=21\">허브티</a></li>\\n\\n\\t\\t\\t\\t\\t\\t\\t\\t<li><a href=\"/product/list.asp?no=22\">프룻티</a></li>\\n\\t\\t\\n\\t\\t\\t\\t\\t\\t\\t\\t</ul>\\t\\n\\n\\t\\t\\t\\t\\t\\t\\t\\t</div>\\n\\t\\t\\t\\t\\t\\t\\n\\t\\t\\t\\t\\t\\t\\t  <div class=\"depth2_list \">\\n\\n\\t\\t\\t\\t\\t\\t\\t\\t<h2 class=\"depth_title\"><a href=\"/product/list.asp?no=5\">상품</a></h2>\\n\\n\\t\\t\\t\\t\\t\\t\\t\\t<ul>\\n\\t\\t\\t\\t\\t\\t\\t\\t\\t\\n\\t\\t\\t\\t\\t\\t\\t\\t<li><a href=\"/product/list.asp?no=41\">아이스 텀블러</a></li>\\n\\n\\t\\t\\t\\t\\t\\t\\t\\t<li><a href=\"/product/list.asp?no=42\">보온 텀블러</a></li>\\n\\n\\t\\t\\t\\t\\t\\t\\t\\t<li><a href=\"/product/list.asp?no=43\">머그</a></li>\\n\\n\\t\\t\\t\\t\\t\\t\\t\\t<li><a href=\"/product/list.asp?no=38\">파우더</a></li>\\n\\n\\t\\t\\t\\t\\t\\t\\t\\t<li><a href=\"/product/list.asp?no=45\">푸드</a></li>\\n\\n\\t\\t\\t\\t\\t\\t\\t\\t<li><a href=\"/product/list.asp?no=32\">기타상품</a></li>\\n\\n\\t\\t\\t\\t\\t\\t\\t\\t<li><a href=\"/product/list.asp?no=30\">펫 MD</a></li>\\n\\t\\t\\n\\t\\t\\t\\t\\t\\t\\t\\t</ul>\\t\\n\\n\\t\\t\\t\\t\\t\\t\\t\\t</div>\\n\\t\\t\\t\\t\\t\\t\\n\\t\\t\\t\\t\\t\\t\\t  <div class=\"depth2_list w160\">\\n\\n\\t\\t\\t\\t\\t\\t\\t\\t<h2 class=\"depth_title\"><a href=\"/product/list.asp?no=2\">CBTL시스템</a></h2>\\n\\n\\t\\t\\t\\t\\t\\t\\t\\t<ul>\\n\\t\\t\\t\\t\\t\\t\\t\\t\\t\\n\\t\\t\\t\\t\\t\\t\\t\\t<li><a href=\"/product/list.asp?no=24\">CBTL 머신</a></li>\\n\\t\\t\\n\\t\\t\\t\\t\\t\\t\\t\\t</ul>\\t\\n\\n\\t\\t\\t\\t\\t\\t\\t\\t</div>\\n\\t\\t\\t\\t\\n\\t\\t\\t\\t\\t\\t\\t</div>\\n\\n\\t\\t\\t\\t\\t\\t</li>\\n\\t\\t\\t\\t\\t\\t<li class=\"members_club\">\\n\\t\\t\\t\\t\\t\\t\\t<a href=\"/card/membersclub.asp\">MEMBER`S CLUB</a>\\n\\t\\t\\t\\t\\t\\t\\t<div class=\"depth2\">\\n\\t\\t\\t\\t\\t\\t\\t\\t<div class=\"depth2_list\">\\n\\t\\t\\t\\t\\t\\t\\t\\t\\t<h2 class=\"depth_title\"><a href=\"/card/membersclub.asp\">커피빈 멤버스 클럽</a></h2>\\n\\t\\t\\t\\t\\t\\t\\t\\t\\t<ul>\\n\\t\\t\\t\\t\\t\\t\\t\\t\\t\\t<li><a href=\"/card/membersclub.asp\">멤버스 클럽</a></li>\\n\\t\\t\\t\\t\\t\\t\\t\\t\\t\\t<li><a href=\"/card/memberscard.asp\">커피빈 카드</a></li>\\n\\t\\t\\t\\t\\t\\t\\t\\t\\t\\t<li><a href=\"/card/e_gift.asp\">커피빈 e-Gift</a></li>\\n\\t\\t\\t\\t\\t\\t\\t\\t\\t</ul>\\n\\t\\t\\t\\t\\t\\t\\t\\t</div>\\n\\t\\t\\t\\t\\t\\t\\t\\t<div class=\"depth2_list\">\\n\\t\\t\\t\\t\\t\\t\\t\\t\\t<h2 class=\"depth_title\"><a href=\"/mypage/my_club.asp\">나의 커피빈</a></h2>\\n\\t\\t\\t\\t\\t\\t\\t\\t\\t<ul>\\n\\t\\t\\t\\t\\t\\t\\t\\t\\t\\t<li><a href=\"/mypage/my_club.asp\">나의 콩/e쿠폰보기</a></li>\\n\\t\\t\\t\\t\\t\\t\\t\\t\\t\\t<li><a href=\"/mypage/my_card_srh.asp\">나의 커피빈 카드</a></li>\\n\\t\\t\\t\\t\\t\\t\\t\\t\\t\\t<li><a href=\"/mypage/sign_up.asp\">커피빈 카드 등록</a></li>\\n\\t\\t\\t\\t\\t\\t\\t\\t\\t\\t<li><a href=\"/mypage/application.asp\">분실신고/환불신청</a></li>\\n\\t\\t\\t\\t\\t\\t\\t\\t\\t\\t<!--li><a href=\"/mypage/e_gift1.asp\">e-Gift 구매</a></li-->\\n\\t\\t\\t\\t\\t\\t\\t\\t\\t</ul>\\n\\t\\t\\t\\t\\t\\t\\t\\t</div>\\n\\t\\t\\t\\t\\t\\t\\t\\t\\n\\t\\t\\t\\t\\t\\t\\t</div>\\n\\t\\t\\t\\t\\t\\t</li>\\n\\t\\t\\t\\t\\t\\t<!-- <li class=\"promotion\">\\n\\t\\t\\t\\t\\t\\t\\t<a href=\"/promotion/list.asp\">PROMOTION</a>\\n\\t\\t\\t\\t\\t\\t\\t<div class=\"depth2\">\\n\\t\\t\\t\\t\\t\\t\\t\\t<ul>\\n\\t\\t\\t\\t\\t\\t\\t\\t\\t<li><a href=\"/promotion/list.asp?category=1\">Promotion</a></li>\\n\\t\\t\\t\\t\\t\\t\\t\\t\\t<li><a href=\"/promotion/list.asp?category=2\">Promotion Drinks</a></li>\\n\\t\\t\\t\\t\\t\\t\\t\\t</ul>\\n\\t\\t\\t\\t\\t\\t\\t</div>\\n\\t\\t\\t\\t\\t\\t</li> -->\\n\\t\\t\\t\\t\\t\\t<li class=\"menu\">\\n\\t\\t\\t\\t\\t\\t\\t<a href=\"/menu/list.asp\">MENU</a>\\n\\t\\t\\t\\t\\t\\t\\t<div class=\"depth2\">\\n\\t\\t\\t\\t\\t\\t\\t\\t<div class=\"depth2_list w250\">\\n\\t\\t\\t\\t\\t\\t\\t\\t\\t<h2 class=\"depth_title\"><a href=\"/menu/list.asp\">음료</a></h2>\\n\\t\\t\\t\\t\\t\\t\\t\\t\\t<ul>\\n\\n\\t\\t\\t<li><a href=\"/menu/list.asp?category=32\">신음료</a></li>\\n\\n\\t\\t\\t<li><a href=\"/menu/list.asp?category=13\">에스프레소 음료</a></li>\\n\\n\\t\\t\\t<li><a href=\"/menu/list.asp?category=14\">브루드 커피</a></li>\\n\\n\\t\\t\\t<li><a href=\"/menu/list.asp?category=18\">티</a></li>\\n\\n\\t\\t\\t<li><a href=\"/menu/list.asp?category=17\">티 라떼</a></li>\\n\\n\\t\\t\\t<li><a href=\"/menu/list.asp?category=12\">아이스 블렌디드 (Coffee)</a></li>\\n\\n\\t\\t\\t<li><a href=\"/menu/list.asp?category=11\">아이스 블렌디드 (Non-Coffee)</a></li>\\n\\n\\t\\t\\t<li><a href=\"/menu/list.asp?category=26\">커피빈 주스(병음료)</a></li>\\n\\n\\t\\t\\t<li><a href=\"/menu/list.asp?category=24\">기타 제조 음료</a></li>\\n\\n\\t\\t\\t<li><a href=\"/menu/list_extra.asp\">엑스트라</a></li>\\n\\n\\t\\t\\t\\t\\t\\t\\t\\t\\t</ul>\\n\\t\\t\\t\\t\\t\\t\\t\\t</div>\\n\\t\\t\\t\\t\\t\\t\\t\\t<div class=\"depth2_list w160\">\\n\\t\\t\\t\\t\\t\\t\\t\\t\\t<h2 class=\"depth_title\"><a href=\"/menu/list.asp?category=4\">푸드</a></h2>\\n\\t\\t\\t\\t\\t\\t\\t\\t\\t<ul>\\n\\n\\t\\t\\t<li><a href=\"/menu/list.asp?category=4\">베이커리</a></li>\\n\\n\\t\\t\\t<li><a href=\"/menu/list.asp?category=5\">케익</a></li>\\n\\n\\t\\t\\t<li><a href=\"/menu/list.asp?category=8\">홀케익</a></li>\\n\\n\\t\\t\\t<li><a href=\"/menu/list.asp?category=6\">샌드위치 &amp; 샐러드</a></li>\\n\\n\\t\\t\\t<li><a href=\"/menu/list.asp?category=7\">기타</a></li>\\n\\n\\t\\t\\t\\t\\t\\t\\t\\t\\t\\t<!--li><a href=\"/menu/list.asp?category=7\">기타\\t</a></li-->\\n\\t\\t\\t\\t\\t\\t\\t\\t\\t</ul>\\n\\t\\t\\t\\t\\t\\t\\t\\t</div>\\n\\t\\t\\t\\t\\t\\t\\t\\t<div class=\"depth2_list\">\\n\\t\\t\\t\\t\\t\\t\\t\\t\\t<h2 class=\"depth_title\"><a href=\"/product/list.asp?no=5\">상품</a></h2>\\n\\t\\t\\t\\t\\t\\t\\t\\t\\t<ul>\\n\\t\\t\\t\\t\\t\\t\\t\\t\\t\\t<li><a href=\"/product/list.asp?no=41\">아이스 텀블러</a></li>\\n\\t\\t\\t\\t\\t\\t\\t\\t\\t\\t<li><a href=\"/product/list.asp?no=42\">보온 텀블러</a></li>\\n\\t\\t\\t\\t\\t\\t\\t\\t\\t\\t<li><a href=\"/product/list.asp?no=43\">머그</a></li>\\n\\t\\t\\t\\t\\t\\t\\t\\t\\t\\t<li><a href=\"/product/list.asp?no=39\">소풍커피</a></li>\\n\\t\\t\\t\\t\\t\\t\\t\\t\\t\\t<li><a href=\"/product/list.asp?no=63\">스틱커피</a></li>\\n\\t\\t\\t\\t\\t\\t\\t\\t\\t\\t<li><a href=\"/product/list.asp?no=38\">파우더</a></li>\\n\\t\\t\\t\\t\\t\\t\\t\\t\\t\\t<li><a href=\"/product/list.asp?no=32\">기타상품</a></li>\\n\\t\\t\\t\\t\\t\\t\\t\\t\\t</ul>\\n\\t\\t\\t\\t\\t\\t\\t\\t</div>\\n\\t\\t\\t\\t\\t\\t\\t\\t<div class=\"depth2_list w120\">\\n\\t\\t\\t\\t\\t\\t\\t\\t\\t<h2 class=\"depth_title\"><a href=\"/card/e_gift.asp\">카드</a></h2>\\n\\t\\t\\t\\t\\t\\t\\t\\t\\t<ul>\\n\\t\\t\\t\\t\\t\\t\\t\\t\\t\\t<!--<li><a href=\"/menu/messagecard.asp\">메시지 카드</a></li>-->\\n\\t\\t\\t\\t\\t\\t\\t\\t\\t\\t<li><a href=\"/card/e_gift.asp\">e-Gift 카드</a></li>\\n\\t\\t\\t\\t\\t\\t\\t\\t\\t\\t<li><a href=\"/card/memberscard.asp\">실물 카드</a></li>\\n\\t\\t\\t\\t\\t\\t\\t\\t\\t</ul>\\n\\t\\t\\t\\t\\t\\t\\t\\t</div>\\n\\t\\t\\t\\t\\t\\t\\t</div>\\n\\t\\t\\t\\t\\t\\t</li>\\n\\t\\t\\t\\t\\t\\t<li class=\"store\">\\n\\t\\t\\t\\t\\t\\t\\t<a href=\"/store/store.asp\">STORE &amp; 서비스</a>\\n\\t\\t\\t\\t\\t\\t\\t<div class=\"depth2\">\\n\\t\\t\\t\\t\\t\\t\\t\\t<ul>\\n\\t\\t\\t\\t\\t\\t\\t\\t\\t<li><a href=\"/catering/catering.asp\">케이터링 서비스</a></li>\\n\\t\\t\\t\\t\\t\\t\\t\\t\\t<li><a href=\"/store/store.asp\">매장 찾기</a></li>\\n\\t\\t\\t\\t\\t\\t\\t\\t\\t<li><a href=\"/store/store.asp#newStore\">신규 매장</a></li>\\n\\t\\t\\t\\t\\t\\t\\t\\t</ul>\\n\\t\\t\\t\\t\\t\\t\\t</div>\\n\\t\\t\\t\\t\\t\\t</li>\\n\\t\\t\\t\\t\\t\\t<li class=\"coffeebean\">\\n\\t\\t\\t\\t\\t\\t\\t<a href=\"/about/coffeebean.asp\">THE COFFEE BEAN</a>\\n\\t\\t\\t\\t\\t\\t\\t<div class=\"depth2\">\\n\\t\\t\\t\\t\\t\\t\\t\\t<div class=\"depth2_list\">\\n\\t\\t\\t\\t\\t\\t\\t\\t\\t<h2 class=\"depth_title\"><a href=\"/about/coffeebean.asp\">커피빈 코리아</a></h2>\\n\\t\\t\\t\\t\\t\\t\\t\\t\\t<ul>\\n\\t\\t\\t\\t\\t\\t\\t\\t\\t\\t<li><a href=\"/about/coffeebean.asp\">Simply the Best</a></li>\\n\\t\\t\\t\\t\\t\\t\\t\\t\\t\\t<li><a href=\"/about/coffeebean.asp#oct\">커피빈 커피와 티</a></li>\\n\\t\\t\\t\\t\\t\\t\\t\\t\\t</ul>\\n\\t\\t\\t\\t\\t\\t\\t\\t</div>\\n\\t\\t\\t\\t\\t\\t\\t\\t<div class=\"depth2_list w160\">\\n\\t\\t\\t\\t\\t\\t\\t\\t\\t<h2 class=\"depth_title\"><a href=\"/news/list.asp\">커피빈 소식</a></h2>\\n\\t\\t\\t\\t\\t\\t\\t\\t\\t<ul>\\n\\t\\t\\t\\t\\t\\t\\t\\t\\t\\t<li><a href=\"/news/list.asp\">새소식</a></li>\\n\\t\\t\\t\\t\\t\\t\\t\\t\\t\\t<li><a href=\"/promotion/list.asp?category=1\">프로모션</a></li>\\n\\t\\t\\t\\t\\t\\t\\t\\t\\t\\t<li><a href=\"/customer/list.asp\">공지사항</a></li>\\n\\t\\t\\t\\t\\t\\t\\t\\t\\t\\t<li><a href=\"/social/social.asp\">소셜미디어</a></li>\\n\\t\\t\\t\\t\\t\\t\\t\\t\\t</ul>\\n\\t\\t\\t\\t\\t\\t\\t\\t</div>\\n\\n\\t\\t\\t\\t\\t\\t\\t\\t<div class=\"depth2_list w240\">\\n\\t\\t\\t\\t\\t\\t\\t\\t\\t<h2 class=\"depth_title\"><a href=\"/about/responsibility.asp\">사회공헌</a></h2>\\n\\t\\t\\t\\t\\t\\t\\t\\t\\t<ul>\\n\\t\\t\\t\\t\\t\\t\\t\\t\\t\\t<li><a href=\"/about/responsibility.asp\">국제 사회공헌</a></li>\\n\\t\\t\\t\\t\\t\\t\\t\\t\\t\\t<li><a href=\"/about/responsibility.asp#part2\">필리핀 청소년 교육혜택 지원하기</a></li>\\n\\t\\t\\t\\t\\t\\t\\t\\t\\t\\t<li><a href=\"/about/responsibility.asp#part3\">성경원, 나눔의 샘 후원 결연</a></li>\\n\\t\\t\\t\\t\\t\\t\\t\\t\\t</ul>\\n\\t\\t\\t\\t\\t\\t\\t\\t</div>\\n\\n\\t\\t\\t\\t\\t\\t\\t\\t<div class=\"depth2_list\">\\n\\t\\t\\t\\t\\t\\t\\t\\t\\t<h2 class=\"depth_title\"><a href=\"/recruit/recruit.asp\">채용안내</a></h2>\\n\\t\\t\\t\\t\\t\\t\\t\\t\\t<ul>\\n\\t\\t\\t\\t\\t\\t\\t\\t\\t\\t<li><a href=\"/recruit/recruit.asp\">채용안내 바로가기</a></li>\\n\\t\\t\\t\\t\\t\\t\\t\\t\\t\\t<li><a href=\"/recruit/recruit.asp#category\">채용카테고리</a></li>\\n\\t\\t\\t\\t\\t\\t\\t\\t\\t</ul>\\n\\t\\t\\t\\t\\t\\t\\t\\t</div>\\n\\n\\t\\t\\t\\t\\t\\t\\t\\t<ul>\\n\\t\\t\\t\\t\\t\\t\\t\\t\\t<li><a href=\"/about/standing_point.asp\"><strong>신규 입점 제의</strong></a></li>\\n\\t\\t\\t\\t\\t\\t\\t\\t\\t<li><a href=\"/about/finance.asp\"><strong>결산공고</strong></a></li>\\n\\t\\t\\t\\t\\t\\t\\t\\t</ul>\\n\\t\\t\\t\\t\\t\\t\\t</div>\\n\\t\\t\\t\\t\\t\\t</li>\\n\\t\\t\\t\\t\\t\\t<!-- <li class=\"customer\">\\n\\t\\t\\t\\t\\t\\t\\t<a href=\"/customer/customer.asp\">CUSTOMER RELATIONS</a>\\n\\t\\t\\t\\t\\t\\t\\t<div class=\"depth2\">\\n\\t\\t\\t\\t\\t\\t\\t\\t<ul>\\n\\t\\t\\t\\t\\t\\t\\t\\t\\t<li><a href=\"/customer/faq_list.asp\">FAQ</a></li>\\n\\t\\t\\t\\t\\t\\t\\t\\t\\t<li><a href=\"/customer/barcode.asp\">상품권 잔액 확인</a></li>\\n\\t\\t\\t\\t\\t\\t\\t\\t\\t<li><a href=\"/customer/heavybuying.asp\">단체 및 기업구매</a></li>\\n\\t\\t\\t\\t\\t\\t\\t\\t\\t<li><a href=\"/mypage/qna_write.asp\">문의하기</a></li>\\t\\t\\t\\t\\t\\t\\t\\t\\t\\n\\t\\t\\t\\t\\t\\t\\t\\t</ul>\\n\\t\\t\\t\\t\\t\\t\\t</div>\\n\\t\\t\\t\\t\\t\\t</li> -->\\n\\t\\t\\t\\t\\t\\t<li class=\"customer\">\\n\\t\\t\\t\\t\\t\\t\\t<a href=\"/cbtl/cbtl.asp\">CBTL</a>\\n\\t\\t\\t\\t\\t\\t\\t<div class=\"depth2\">\\n\\t\\t\\t\\t\\t\\t\\t\\t<ul>\\n\\t\\t\\t\\t\\t\\t\\t\\t\\t<li><a href=\"/cbtl/cbtl.asp\">CBTL 가이드</a></li>\\n\\t\\t\\t\\t\\t\\t\\t\\t\\t<li><a href=\"/cbtl/overview.asp\">CBTL 서비스</a></li>\\n\\t\\t\\t\\t\\t\\t\\t\\t\\t<li><a href=\"/cbtl/as_service.asp\">AS 안내</a></li>\\n\\t\\t\\t\\t\\t\\t\\t\\t\\t<li><a href=\"/cbtl/as_self.asp\">AS 신청</a></li>\\n\\t\\t\\t\\t\\t\\t\\t\\t\\t<li><a href=\"/cbtl/faq_list.asp\">CBTL FAQ</a></li>\\n\\t\\t\\t\\t\\t\\t\\t\\t\\t<li><a href=\"/cbtl/manual.asp\">제품설명서</a></li>\\n\\t\\t\\t\\t\\t\\t\\t\\t\\t<!--li><a href=\"/cbtl/machine.asp\">기업용 머신</a></li-->\\n\\t\\t\\t\\t\\t\\t\\t\\t</ul>\\n\\t\\t\\t\\t\\t\\t\\t</div>\\n\\t\\t\\t\\t\\t\\t</li>\\n\\t\\t\\t\\t\\t\\t<!-- <li>\\n\\t\\t\\t\\t\\t\\t\\t<a href=\"/social/social.asp\">SOCIAL MEDIA</a>\\n\\t\\t\\t\\t\\t\\t</li> -->\\t\\n\\t\\t\\t\\t\\t</ul>\\n\\t\\t\\t\\t</div>\\n\\n\\t\\t\\t\\t<div id=\"btnSearch\">\\n\\t\\t\\t\\t\\t<button>검색창 열기</button>\\n\\t\\t\\t\\t</div>\\n\\t\\t\\t\\t<div class=\"search_box\">\\n\\t\\t\\t\\t\\t<form action=\"javascript:searchRun2();\" name=\"searchForm2\" method=\"get\" autocomplete=\"off\">\\n\\t\\t\\t\\t\\t\\t<fieldset>\\n\\t\\t\\t\\t\\t\\t\\t<legend class=\"hidden\">검색 폼</legend>\\n\\t\\t\\t\\t\\t\\t\\t<input type=\"text\" class=\"search_input\" name=\"searchItem\" id=\"searchItem2\" value=\"검색어를 입력하세요\" onfocus=\"if(this.value==\\'검색어를 입력하세요\\'){this.value=\\'\\';}\">\\n\\t\\t\\t\\t\\t\\t\\t<button onclick=\"javascript:searchRun2();void(0);\" class=\"btn_search\">SEARCH</button>\\n\\t\\t\\t\\t\\t\\t</fieldset>\\n\\t\\t\\t\\t\\t</form>\\n\\t\\t\\t\\t</div>\\n\\t\\t\\t</div>\\n\\t\\t\\n\\t\\t</div>\\n\\t\\t<!-- <div class=\"bg_h_mbr\"></div> -->\\n\\n\\t\\t<!-- // end of :: header  -->\\n\\n\\t\\t<!-- <a href=\"javascript:;\" class=\"btn_gnb\">GNB BUTTON</a> -->\\n\\n\\t\\t<form name=\"searchFormReal\" method=\"get\" autocomplete=\"off\" action=\"/search/search_result.asp\" class=\"acc-hidden\">\\n\\t\\t\\t<input type=\"hidden\" name=\"sWord\" value=\"\">\\n\\t\\t</form>\\t\\t\\t\\t\\t\\t\\t\\t\\t\\n\\n\\t\\t<!--LOCATION-->\\n\\t\\t\\t\\t<div class=\"location\">\\n\\t\\t\\t<ul>\\n<li><a href=\"/main/main.asp\">홈</a></li><li><a href=\"/store/store.asp\">Store</a></li><li><a href=\"/store/store.asp\">매장찾기</a></li>\\n\\t\\t\\t</ul>\\n\\t\\t</div>\\n\\t\\t<!--//LOCATION-->\\n\\n\\t\\t<!-- start of :: contents -->\\n\\t\\t<div id=\"contents2\">\\n\\n\\t\\t\\t<div class=\"store_map\">\\n\\t\\t\\t\\t<div id=\"storeMap\" style=\"width: 100%; height: 100%; position: relative; overflow: hidden; background: url(&quot;https://t1.daumcdn.net/mapjsapi/images/2x/bg_tile.png&quot;);\"><div style=\"position: absolute; left: 0px; top: 0px; width: 100%; height: 100%; touch-action: none; cursor: url(&quot;https://t1.daumcdn.net/mapjsapi/images/2x/cursor/openhand.cur.ico&quot;) 7 5, url(&quot;https://t1.daumcdn.net/mapjsapi/images/2x/cursor/openhand.cur.ico&quot;), default;\"><div style=\"position: absolute;\"><div style=\"position: absolute; z-index: 0;\"></div><div style=\"position: absolute; z-index: 1; left: 0px; top: 0px;\"><img src=\"https://map1.daumcdn.net/map_2d_hd/2306uwn/L4/987/457.png\" alt=\"\" role=\"presentation\" draggable=\"false\" style=\"position: absolute; user-select: none; -webkit-user-drag: none; min-width: 0px; min-height: 0px; max-width: none; max-height: none; left: -113px; top: 514px; opacity: 1; transition-property: opacity; transition-duration: 0.2s; transition-timing-function: ease; width: 256px; height: 256px;\"><img src=\"https://map2.daumcdn.net/map_2d_hd/2306uwn/L4/987/458.png\" alt=\"\" role=\"presentation\" draggable=\"false\" style=\"position: absolute; user-select: none; -webkit-user-drag: none; min-width: 0px; min-height: 0px; max-width: none; max-height: none; left: 143px; top: 514px; opacity: 1; transition-property: opacity; transition-duration: 0.2s; transition-timing-function: ease; width: 256px; height: 256px;\"><img src=\"https://map3.daumcdn.net/map_2d_hd/2306uwn/L4/987/459.png\" alt=\"\" role=\"presentation\" draggable=\"false\" style=\"position: absolute; user-select: none; -webkit-user-drag: none; min-width: 0px; min-height: 0px; max-width: none; max-height: none; left: 399px; top: 514px; opacity: 1; transition-property: opacity; transition-duration: 0.2s; transition-timing-function: ease; width: 256px; height: 256px;\"><img src=\"https://map0.daumcdn.net/map_2d_hd/2306uwn/L4/987/460.png\" alt=\"\" role=\"presentation\" draggable=\"false\" style=\"position: absolute; user-select: none; -webkit-user-drag: none; min-width: 0px; min-height: 0px; max-width: none; max-height: none; left: 655px; top: 514px; opacity: 1; transition-property: opacity; transition-duration: 0.2s; transition-timing-function: ease; width: 256px; height: 256px;\"><img src=\"https://map1.daumcdn.net/map_2d_hd/2306uwn/L4/987/461.png\" alt=\"\" role=\"presentation\" draggable=\"false\" style=\"position: absolute; user-select: none; -webkit-user-drag: none; min-width: 0px; min-height: 0px; max-width: none; max-height: none; left: 911px; top: 514px; opacity: 1; transition-property: opacity; transition-duration: 0.2s; transition-timing-function: ease; width: 256px; height: 256px;\"><img src=\"https://map1.daumcdn.net/map_2d_hd/2306uwn/L4/988/457.png\" alt=\"\" role=\"presentation\" draggable=\"false\" style=\"position: absolute; user-select: none; -webkit-user-drag: none; min-width: 0px; min-height: 0px; max-width: none; max-height: none; left: -113px; top: 258px; opacity: 1; transition-property: opacity; transition-duration: 0.2s; transition-timing-function: ease; width: 256px; height: 256px;\"><img src=\"https://map2.daumcdn.net/map_2d_hd/2306uwn/L4/988/458.png\" alt=\"\" role=\"presentation\" draggable=\"false\" style=\"position: absolute; user-select: none; -webkit-user-drag: none; min-width: 0px; min-height: 0px; max-width: none; max-height: none; left: 143px; top: 258px; opacity: 1; transition-property: opacity; transition-duration: 0.2s; transition-timing-function: ease; width: 256px; height: 256px;\"><img src=\"https://map3.daumcdn.net/map_2d_hd/2306uwn/L4/988/459.png\" alt=\"\" role=\"presentation\" draggable=\"false\" style=\"position: absolute; user-select: none; -webkit-user-drag: none; min-width: 0px; min-height: 0px; max-width: none; max-height: none; left: 399px; top: 258px; opacity: 1; transition-property: opacity; transition-duration: 0.2s; transition-timing-function: ease; width: 256px; height: 256px;\"><img src=\"https://map0.daumcdn.net/map_2d_hd/2306uwn/L4/988/460.png\" alt=\"\" role=\"presentation\" draggable=\"false\" style=\"position: absolute; user-select: none; -webkit-user-drag: none; min-width: 0px; min-height: 0px; max-width: none; max-height: none; left: 655px; top: 258px; opacity: 1; transition-property: opacity; transition-duration: 0.2s; transition-timing-function: ease; width: 256px; height: 256px;\"><img src=\"https://map1.daumcdn.net/map_2d_hd/2306uwn/L4/988/461.png\" alt=\"\" role=\"presentation\" draggable=\"false\" style=\"position: absolute; user-select: none; -webkit-user-drag: none; min-width: 0px; min-height: 0px; max-width: none; max-height: none; left: 911px; top: 258px; opacity: 1; transition-property: opacity; transition-duration: 0.2s; transition-timing-function: ease; width: 256px; height: 256px;\"><img src=\"https://map1.daumcdn.net/map_2d_hd/2306uwn/L4/989/457.png\" alt=\"\" role=\"presentation\" draggable=\"false\" style=\"position: absolute; user-select: none; -webkit-user-drag: none; min-width: 0px; min-height: 0px; max-width: none; max-height: none; left: -113px; top: 2px; opacity: 1; transition-property: opacity; transition-duration: 0.2s; transition-timing-function: ease; width: 256px; height: 256px;\"><img src=\"https://map2.daumcdn.net/map_2d_hd/2306uwn/L4/989/458.png\" alt=\"\" role=\"presentation\" draggable=\"false\" style=\"position: absolute; user-select: none; -webkit-user-drag: none; min-width: 0px; min-height: 0px; max-width: none; max-height: none; left: 143px; top: 2px; opacity: 1; transition-property: opacity; transition-duration: 0.2s; transition-timing-function: ease; width: 256px; height: 256px;\"><img src=\"https://map3.daumcdn.net/map_2d_hd/2306uwn/L4/989/459.png\" alt=\"\" role=\"presentation\" draggable=\"false\" style=\"position: absolute; user-select: none; -webkit-user-drag: none; min-width: 0px; min-height: 0px; max-width: none; max-height: none; left: 399px; top: 2px; opacity: 1; transition-property: opacity; transition-duration: 0.2s; transition-timing-function: ease; width: 256px; height: 256px;\"><img src=\"https://map0.daumcdn.net/map_2d_hd/2306uwn/L4/989/460.png\" alt=\"\" role=\"presentation\" draggable=\"false\" style=\"position: absolute; user-select: none; -webkit-user-drag: none; min-width: 0px; min-height: 0px; max-width: none; max-height: none; left: 655px; top: 2px; opacity: 1; transition-property: opacity; transition-duration: 0.2s; transition-timing-function: ease; width: 256px; height: 256px;\"><img src=\"https://map1.daumcdn.net/map_2d_hd/2306uwn/L4/989/461.png\" alt=\"\" role=\"presentation\" draggable=\"false\" style=\"position: absolute; user-select: none; -webkit-user-drag: none; min-width: 0px; min-height: 0px; max-width: none; max-height: none; left: 911px; top: 2px; opacity: 1; transition-property: opacity; transition-duration: 0.2s; transition-timing-function: ease; width: 256px; height: 256px;\"><img src=\"https://map1.daumcdn.net/map_2d_hd/2306uwn/L4/990/457.png\" alt=\"\" role=\"presentation\" draggable=\"false\" style=\"position: absolute; user-select: none; -webkit-user-drag: none; min-width: 0px; min-height: 0px; max-width: none; max-height: none; left: -113px; top: -254px; opacity: 1; transition-property: opacity; transition-duration: 0.2s; transition-timing-function: ease; width: 256px; height: 256px;\"><img src=\"https://map2.daumcdn.net/map_2d_hd/2306uwn/L4/990/458.png\" alt=\"\" role=\"presentation\" draggable=\"false\" style=\"position: absolute; user-select: none; -webkit-user-drag: none; min-width: 0px; min-height: 0px; max-width: none; max-height: none; left: 143px; top: -254px; opacity: 1; transition-property: opacity; transition-duration: 0.2s; transition-timing-function: ease; width: 256px; height: 256px;\"><img src=\"https://map3.daumcdn.net/map_2d_hd/2306uwn/L4/990/459.png\" alt=\"\" role=\"presentation\" draggable=\"false\" style=\"position: absolute; user-select: none; -webkit-user-drag: none; min-width: 0px; min-height: 0px; max-width: none; max-height: none; left: 399px; top: -254px; opacity: 1; transition-property: opacity; transition-duration: 0.2s; transition-timing-function: ease; width: 256px; height: 256px;\"><img src=\"https://map0.daumcdn.net/map_2d_hd/2306uwn/L4/990/460.png\" alt=\"\" role=\"presentation\" draggable=\"false\" style=\"position: absolute; user-select: none; -webkit-user-drag: none; min-width: 0px; min-height: 0px; max-width: none; max-height: none; left: 655px; top: -254px; opacity: 1; transition-property: opacity; transition-duration: 0.2s; transition-timing-function: ease; width: 256px; height: 256px;\"><img src=\"https://map1.daumcdn.net/map_2d_hd/2306uwn/L4/990/461.png\" alt=\"\" role=\"presentation\" draggable=\"false\" style=\"position: absolute; user-select: none; -webkit-user-drag: none; min-width: 0px; min-height: 0px; max-width: none; max-height: none; left: 911px; top: -254px; opacity: 1; transition-property: opacity; transition-duration: 0.2s; transition-timing-function: ease; width: 256px; height: 256px;\"></div><div style=\"position: absolute; z-index: 1;\"></div><div style=\"width: 1019px; height: 750px; position: absolute; z-index: 1;\"></div><div style=\"position: absolute; z-index: 1;\"><svg version=\"1.1\" style=\"stroke: none; stroke-dashoffset: 0.5; stroke-linejoin: round; fill: none; transform: translateZ(0px); position: absolute; width: 5095px; height: 3750px; left: -2038px; top: -1500px;\" viewBox=\"0 0 5095 3750\"><defs></defs></svg></div><div style=\"position: absolute; z-index: 1; width: 100%; height: 0px; transform: translateZ(0px);\"><div style=\"position: absolute; margin: -46px 0px 0px -19px; z-index: 0; left: 524px; top: 384px;\"><img draggable=\"false\" src=\"/images/store/store_icon_1.png\" alt=\"\" role=\"presentation\" title=\"삼성봉은사거리점\" style=\"min-width: 0px; min-height: 0px; max-width: 99999px; max-height: none; border: 0px; display: block; position: absolute; user-select: none; -webkit-user-drag: none; clip: rect(0px, 40px, 47px, 0px); top: 0px; left: 0px; width: 40px; height: 47px;\"></div><div style=\"position: absolute; margin: -46px 0px 0px -19px; z-index: 0; left: 419px; top: 471px;\"><img draggable=\"false\" src=\"/images/store/store_icon_2.png\" alt=\"\" role=\"presentation\" title=\"코엑스인터점\" style=\"min-width: 0px; min-height: 0px; max-width: 99999px; max-height: none; border: 0px; display: block; position: absolute; user-select: none; -webkit-user-drag: none; clip: rect(0px, 40px, 47px, 0px); top: 0px; left: 0px; width: 40px; height: 47px;\"></div><div style=\"position: absolute; margin: -46px 0px 0px -19px; z-index: 0; left: 468px; top: 580px;\"><img draggable=\"false\" src=\"/images/store/store_icon_3.png\" alt=\"\" role=\"presentation\" title=\"삼성오크우드점\" style=\"min-width: 0px; min-height: 0px; max-width: 99999px; max-height: none; border: 0px; display: block; position: absolute; user-select: none; -webkit-user-drag: none; clip: rect(0px, 40px, 47px, 0px); top: 0px; left: 0px; width: 40px; height: 47px;\"></div><div style=\"position: absolute; margin: -46px 0px 0px -19px; z-index: 0; left: 730px; top: 378px;\"><img draggable=\"false\" src=\"/images/store/store_icon_4.png\" alt=\"\" role=\"presentation\" title=\"삼성봉은사로점\" style=\"min-width: 0px; min-height: 0px; max-width: 99999px; max-height: none; border: 0px; display: block; position: absolute; user-select: none; -webkit-user-drag: none; clip: rect(0px, 40px, 47px, 0px); top: 0px; left: 0px; width: 40px; height: 47px;\"></div><div style=\"position: absolute; margin: -46px 0px 0px -19px; z-index: 0; left: 485px; top: 622px;\"><img draggable=\"false\" src=\"/images/store/store_icon_5.png\" alt=\"\" role=\"presentation\" title=\"도심공항타워점\" style=\"min-width: 0px; min-height: 0px; max-width: 99999px; max-height: none; border: 0px; display: block; position: absolute; user-select: none; -webkit-user-drag: none; clip: rect(0px, 40px, 47px, 0px); top: 0px; left: 0px; width: 40px; height: 47px;\"></div><div style=\"position: absolute; margin: -46px 0px 0px -19px; z-index: 0; left: 592px; top: 615px;\"><img draggable=\"false\" src=\"/images/store/store_icon_6.png\" alt=\"\" role=\"presentation\" title=\"트레이드타워점\" style=\"min-width: 0px; min-height: 0px; max-width: 99999px; max-height: none; border: 0px; display: block; position: absolute; user-select: none; -webkit-user-drag: none; clip: rect(0px, 40px, 47px, 0px); top: 0px; left: 0px; width: 40px; height: 47px;\"></div><div style=\"position: absolute; margin: -46px 0px 0px -19px; z-index: 0; left: 522px; top: 655px;\"><img draggable=\"false\" src=\"/images/store/store_icon_7.png\" alt=\"\" role=\"presentation\" title=\"도심공항점\" style=\"min-width: 0px; min-height: 0px; max-width: 99999px; max-height: none; border: 0px; display: block; position: absolute; user-select: none; -webkit-user-drag: none; clip: rect(0px, 40px, 47px, 0px); top: 0px; left: 0px; width: 40px; height: 47px;\"></div><div style=\"position: absolute; margin: -46px 0px 0px -19px; z-index: 0; left: 583px; top: 680px;\"><img draggable=\"false\" src=\"/images/store/store_icon_8.png\" alt=\"\" role=\"presentation\" title=\"파르나스몰점\" style=\"min-width: 0px; min-height: 0px; max-width: 99999px; max-height: none; border: 0px; display: block; position: absolute; user-select: none; -webkit-user-drag: none; clip: rect(0px, 40px, 47px, 0px); top: 0px; left: 0px; width: 40px; height: 47px;\"></div><div style=\"position: absolute; margin: -46px 0px 0px -19px; z-index: 0; left: 284px; top: 598px;\"><img draggable=\"false\" src=\"/images/store/store_icon_9.png\" alt=\"\" role=\"presentation\" title=\"삼성로점\" style=\"min-width: 0px; min-height: 0px; max-width: 99999px; max-height: none; border: 0px; display: block; position: absolute; user-select: none; -webkit-user-drag: none; clip: rect(0px, 40px, 47px, 0px); top: 0px; left: 0px; width: 40px; height: 47px;\"></div><div style=\"position: absolute; margin: -46px 0px 0px -19px; z-index: 0; left: 493px; top: 798px; display: none;\"><img draggable=\"false\" src=\"/images/store/store_icon_10.png\" alt=\"\" role=\"presentation\" title=\"삼성루첸타워점\" style=\"min-width: 0px; min-height: 0px; max-width: 99999px; max-height: none; border: 0px; display: block; position: absolute; user-select: none; -webkit-user-drag: none; clip: rect(0px, 40px, 47px, 0px); top: 0px; left: 0px; width: 40px; height: 47px;\"></div></div></div></div><div style=\"position: absolute; cursor: default; z-index: 1; margin: 0px 6px; height: 19px; line-height: 14px; left: 0px; bottom: 0px; color: rgb(0, 0, 0);\"><div style=\"color: rgb(0, 0, 0); text-align: center; font-size: 10px; float: left;\"><div style=\"float: left; margin: 2px 3px 0px 4px; height: 6px; transition: width 0.1s ease 0s; border-top: none rgb(0, 0, 0); border-right: 2px solid rgb(0, 0, 0); border-bottom: 2px solid rgb(0, 0, 0); border-left: 2px solid rgb(0, 0, 0); border-image: initial; width: 46px;\"></div><div style=\"float: left; margin: 0px 4px 0px 0px; font-family: AppleSDGothicNeo-Regular, 돋움, dotum, sans-serif; font-weight: bold; color: rgb(0, 0, 0);\">100m</div></div><div style=\"margin: 0px 4px; float: left;\"><a target=\"_blank\" href=\"http://map.kakao.com/\" title=\"Kakao 지도로 보시려면 클릭하세요.\" style=\"float: left; width: 32px; height: 10px;\"><img src=\"https://t1.daumcdn.net/mapjsapi/images/2x/m_bi_b.png\" alt=\"Kakao 지도로 이동\" style=\"float: left; width: 32px; height: 10px; border: none;\"></a><div style=\"font: 11px / 11px Arial, Tahoma, Dotum, sans-serif; float: left;\"></div></div></div><div style=\"cursor: auto; position: absolute; z-index: 2; left: 0px; top: 0px;\"><div style=\"width: 32px; border-radius: 3px; box-shadow: rgba(0, 0, 0, 0.15) 0px 2px 2px 0px; position: absolute; left: 984px; top: 3px;\"><button draggable=\"false\" title=\"확대\" type=\"button\" style=\"float: left; cursor: pointer; width: 32px; height: 32px; user-select: none; -webkit-user-drag: none; border-top: none; border-right: none; border-bottom: 1px solid rgb(226, 226, 226); border-left: none; border-image: initial; background: url(&quot;https://t1.daumcdn.net/mapjsapi/images/2x/control.png&quot;) -40px 0px / 116px 264px no-repeat rgb(255, 255, 255); border-radius: 3px 3px 0px 0px;\"></button><div style=\"float: left; background: url(&quot;https://t1.daumcdn.net/mapjsapi/images/2x/bg_zoom_control.png&quot;) repeat; padding: 7px 0px; transition: height 0s ease 0s, margin 0.1s ease 0s;\"><div style=\"cursor: pointer; position: relative; background-size: 116px 264px; transition: height 0.1s ease 0s; margin: 2px 0px; display: block; width: 32px; height: 104px;\"><div style=\"position: absolute; width: 4px; height: 100%; background-color: rgb(51, 150, 255); left: 50%; margin: 0px 0px 0px -2px;\"><div style=\"width: 4px; height: 2px; margin-bottom: -2px; bottom: 0px; position: absolute; background: url(&quot;https://t1.daumcdn.net/mapjsapi/images/2x/control.png&quot;) -50px -127px / 116px 264px;\"></div><div style=\"width: 4px; height: 2px; margin-top: -2px; top: 0px; position: absolute; background: url(&quot;https://t1.daumcdn.net/mapjsapi/images/2x/control.png&quot;) -40px -100px / 116px 264px;\"></div></div><div style=\"position: absolute; background-color: rgb(204, 204, 204); transition: height 0.1s ease 0s; left: 50%; margin: 0px 0px 0px -2px; width: 4px; height: 24px;\"></div><div style=\"cursor: row-resize; position: absolute; width: 20px; height: 10px; margin: -4px 0px 0px -10px; background: url(&quot;https://t1.daumcdn.net/mapjsapi/images/2x/control.png&quot;) -40px -80px / 116px 264px; left: 50%; transition: top 0.1s ease 0s; top: 24px;\"></div></div></div><button draggable=\"false\" title=\"축소\" type=\"button\" style=\"float: left; cursor: pointer; width: 32px; height: 32px; user-select: none; -webkit-user-drag: none; border-top: 1px solid rgb(226, 226, 226); border-right: none; border-bottom: none; border-left: none; border-image: initial; background: url(&quot;https://t1.daumcdn.net/mapjsapi/images/2x/control.png&quot;) -40px -32px / 116px 264px no-repeat rgb(255, 255, 255); border-radius: 0px 0px 3px 3px; margin: 0px;\"></button><div style=\"display: none; position: absolute; margin: 41px 0px 0px -30px; background-size: 116px 264px; width: 30px; height: 104px;\"><div style=\"position: absolute; width: 29px; height: 15px; margin: -6px 0px 0px; background: url(&quot;https://t1.daumcdn.net/mapjsapi/images/2x/control.png&quot;) 0px -80px / 116px 264px; left: 0px; top: 8px;\"></div><div style=\"position: absolute; width: 29px; height: 15px; margin: -6px 0px 0px; background: url(&quot;https://t1.daumcdn.net/mapjsapi/images/2x/control.png&quot;) 0px -100px / 116px 264px; left: 0px; top: 32px;\"></div><div style=\"position: absolute; width: 29px; height: 15px; margin: -6px 0px 0px; background: url(&quot;https://t1.daumcdn.net/mapjsapi/images/2x/control.png&quot;) 0px -120px / 116px 264px; left: 0px; top: 64px;\"></div><div style=\"position: absolute; width: 29px; height: 15px; margin: -6px 0px 0px; background: url(&quot;https://t1.daumcdn.net/mapjsapi/images/2x/control.png&quot;) 0px -140px / 116px 264px; left: 0px; top: 80px;\"></div><div style=\"position: absolute; width: 29px; height: 15px; margin: -6px 0px 0px; background: url(&quot;https://t1.daumcdn.net/mapjsapi/images/2x/control.png&quot;) 0px -160px / 116px 264px; left: 0px; top: 96px;\"></div></div></div></div></div>\\n\\t\\t\\t\\t<!--img src=\"/images/_temp/img_store.jpg\" alt=\"임시이미지\"-->\\n\\t\\t\\t\\t<!-- store_box -->\\n\\t\\t\\t\\t<div class=\"store_box\">\\n\\t\\t\\t\\t\\t<div class=\"title_area\">\\n\\t\\t\\t\\t\\t\\t<h2>매장찾기</h2>\\n\\t\\t\\t\\t\\t\\t<div class=\"btn_box\">\\n\\t\\t\\t\\t\\t\\t\\t<a href=\"#\" class=\"btn_condition\">조건 설정</a>\\n\\t\\t\\t\\t\\t\\t\\t<a href=\"#\" class=\"btn_here\" id=\"location\">현재 위치</a>\\n\\t\\t\\t\\t\\t\\t</div>\\n\\t\\t\\t\\t\\t</div>\\n\\t\\t\\t\\t\\t<!-- 조건설정 -->\\n\\t\\t\\t\\t\\t<div class=\"condition_box\">\\t\\t\\t\\t\\t\\n\\t\\t\\t\\t\\t\\t<ul>\\n\\t\\t\\t\\t\\t\\t\\t<li>\\n\\t\\t\\t\\t\\t\\t\\t\\t<input type=\"checkbox\" id=\"chkall\" name=\"chkall\" class=\"check_style\" value=\"1\">\\n\\t\\t\\t\\t\\t\\t\\t\\t<label for=\"chkall\" class=\"label_style2\"><img src=\"/images/store/ico_tag_check_on.png\" alt=\"all\">모두선택</label>\\n\\t\\t\\t\\t\\t\\t\\t</li>\\n\\t\\t\\t\\t\\t\\t\\t<li>\\n\\t\\t\\t\\t\\t\\t\\t\\t<input type=\"checkbox\" id=\"chk1\" name=\"chk1\" class=\"check_style\" value=\"1\">\\n\\t\\t\\t\\t\\t\\t\\t\\t<label for=\"chk1\" class=\"label_style2\"><img src=\"/images/store/ico_tag_decaf_on.png\" alt=\"decaf\">디카페인</label>\\n\\t\\t\\t\\t\\t\\t\\t</li>\\n\\t\\t\\t\\t\\t\\t\\t<li>\\n\\t\\t\\t\\t\\t\\t\\t\\t<input type=\"checkbox\" id=\"chk2\" name=\"chk2\" class=\"check_style\" value=\"1\">\\n\\t\\t\\t\\t\\t\\t\\t\\t<label for=\"chk2\" class=\"label_style2\"><img src=\"/images/store/ico_tag_soy_on.png\" alt=\"soy\">두유</label>\\n\\t\\t\\t\\t\\t\\t\\t</li>\\n\\t\\t\\t\\t\\t\\t\\t<li>\\n\\t\\t\\t\\t\\t\\t\\t\\t<input type=\"checkbox\" id=\"chk4\" name=\"chk4\" class=\"check_style\" value=\"1\">\\n\\t\\t\\t\\t\\t\\t\\t\\t<label for=\"chk4\" class=\"label_style2\"><img src=\"/images/store/ico_tag_parking_on.png\" alt=\"parking\">주차</label>\\n\\t\\t\\t\\t\\t\\t\\t</li>\\n\\t\\t\\t\\t\\t\\t\\t<li>\\n\\t\\t\\t\\t\\t\\t\\t\\t<input type=\"checkbox\" id=\"chk3\" name=\"chk3\" class=\"check_style\" value=\"1\">\\n\\t\\t\\t\\t\\t\\t\\t\\t<label for=\"chk3\" class=\"label_style2\"><img src=\"/images/store/ico_tag_wifi_on.png\" alt=\"wifi\">와이파이</label>\\n\\t\\t\\t\\t\\t\\t\\t</li>\\t\\t\\t\\t\\t\\t\\n\\t\\t\\t\\t\\t\\t\\t<li>\\n\\t\\t\\t\\t\\t\\t\\t\\t<input type=\"checkbox\" id=\"chk5\" name=\"chk5\" class=\"check_style\" value=\"1\">\\n\\t\\t\\t\\t\\t\\t\\t\\t<label for=\"chk5\" class=\"label_style2\"><img src=\"/images/store/ico_tag_smoking_on.png\" alt=\"smoking\">흡연가능</label>\\n\\t\\t\\t\\t\\t\\t\\t</li>\\n\\t\\t\\t\\t\\t\\t\\t<li>\\n\\t\\t\\t\\t\\t\\t\\t\\t<input type=\"checkbox\" id=\"chk6\" name=\"chk6\" class=\"check_style\" value=\"1\">\\n\\t\\t\\t\\t\\t\\t\\t\\t<label for=\"chk6\" class=\"label_style2\"><img src=\"/images/store/ico_tag_machine_on.png\" alt=\"machine\">머신판매</label>\\n\\t\\t\\t\\t\\t\\t\\t</li>\\n\\t\\t\\t\\t\\t\\t\\t<li>\\n\\t\\t\\t\\t\\t\\t\\t\\t<input type=\"checkbox\" id=\"chk7\" name=\"chk7\" class=\"check_style\" value=\"1\">\\n\\t\\t\\t\\t\\t\\t\\t\\t<label for=\"chk7\" class=\"label_style2\"><img src=\"/images/store/ico_tag_capsule_on.png\" alt=\"capsule\">캡슐판매</label>\\n\\t\\t\\t\\t\\t\\t\\t</li>\\n\\t\\t\\t\\t\\t\\t\\t<!--li>\\n\\t\\t\\t\\t\\t\\t\\t\\t<input type=\"checkbox\" id=\"chk8\" name=\"chk8\" class=\"check_style\" value=\"1\">\\n\\t\\t\\t\\t\\t\\t\\t\\t<label for=\"chk8\" class=\"label_style2\"><img src=\"/images/store/ico_store_check09.gif\" alt=\"cake\">케익수령</label>\\n\\t\\t\\t\\t\\t\\t\\t</li-->\\n\\t\\t\\t\\t\\t\\t\\t<li>\\n\\t\\t\\t\\t\\t\\t\\t\\t<input type=\"checkbox\" id=\"chk9\" name=\"chk9\" class=\"check_style\" value=\"1\">\\n\\t\\t\\t\\t\\t\\t\\t\\t<label for=\"chk9\" class=\"label_style2\"><img src=\"/images/store/ico_tag_dt_on.png\" alt=\"드라이브 스루\">드라이브 스루</label>\\n\\t\\t\\t\\t\\t\\t\\t</li>\\n\\t\\t\\t\\t\\t\\t\\t<li>\\n\\t\\t\\t\\t\\t\\t\\t\\t<input type=\"checkbox\" id=\"chk10\" name=\"chk10\" class=\"check_style\" value=\"1\">\\n\\t\\t\\t\\t\\t\\t\\t\\t<label for=\"chk10\" class=\"label_style2\"><img src=\"/images/store/ico_tag_motorcycle_on.png\" alt=\"드라이브 스루\">딜리버리</label>\\n\\t\\t\\t\\t\\t\\t\\t</li>\\n\\t\\t\\t\\t\\t\\t\\t<li>\\n\\t\\t\\t\\t\\t\\t\\t\\t<input type=\"checkbox\" id=\"chk11\" name=\"chk11\" class=\"check_style\" value=\"1\">\\n\\t\\t\\t\\t\\t\\t\\t\\t<label for=\"chk11\" class=\"label_style2\"><img src=\"/images/store/ico_tag_pet.png\" alt=\"반려동물\">반려동물</label>\\n\\t\\t\\t\\t\\t\\t\\t</li>\\n\\t\\t\\t\\t\\t\\t\\t<li>\\n\\t\\t\\t\\t\\t\\t\\t\\t<input type=\"checkbox\" id=\"chk12\" name=\"chk12\" class=\"check_style\" value=\"1\">\\n\\t\\t\\t\\t\\t\\t\\t\\t<label for=\"chk12\" class=\"label_style2\"><img src=\"/images/store/ico_tag_cake_on.png\" alt=\"홀케익\">홀케익</label>\\n\\t\\t\\t\\t\\t\\t\\t</li>\\n\\t\\t\\t\\t\\t\\t</ul>\\n\\t\\t\\t\\t\\t\\t<a href=\"javascript:void(0);\" class=\"btn_srh\" id=\"btnChkSearch\">검색하기</a>\\t\\n\\t\\t\\t\\t\\t\\t<button class=\"btn_close\"><img src=\"/images/btn/btn_close2.gif\" alt=\"닫기 버튼\"></button>\\n\\t\\t\\t\\t\\t</div>\\n\\t\\t\\t\\t\\t<!-- //조건설정 -->\\n\\t\\t\\t\\t\\t<div class=\"search_tab\">\\n\\t\\t\\t\\t\\t\\t<!-- 빠른검색 -->\\n\\t\\t\\t\\t\\t\\t<h3 class=\"quick_srh on\"><a href=\"#\" id=\"quick_srh\">빠른 검색</a></h3>\\n\\t\\t\\t\\t\\t\\t<div class=\"cont\">\\n\\t\\t\\t\\t\\t\\t\\t<div class=\"srh_box\">\\n\\t\\t\\t\\t\\t\\t\\t\\t<input type=\"text\" id=\"keyword\" name=\"keyword\" data-val=\"매장명 또는 주소를 입력하세요.\" value=\"\" onkeydown=\"if (event.keyCode==13) searchStore();\">\\n\\t\\t\\t\\t\\t\\t\\t\\t<button onclick=\"searchStore();void(0);\"><img src=\"/images/sub/btn_quick_srh.gif\" alt=\"조회하기\"></button>\\n\\t\\t\\t\\t\\t\\t\\t</div>\\n\\t\\t\\t\\t\\t\\t</div>\\n\\t\\t\\t\\t\\t\\t<!-- 지역검색 -->\\n\\t\\t\\t\\t\\t\\t<h3 class=\"region_srh\"><a href=\"#\" id=\"region_srh\">지역 검색</a></h3>\\n\\t\\t\\t\\t\\t\\t<div class=\"cont\" style=\"display: none;\">\\n\\t\\t\\t\\t\\t\\t\\t<div class=\"select_box no_over\">\\n\\t\\t\\t\\t\\t\\t\\t\\t<a href=\"#\" id=\"localTitle\" data-default=\"시 / 도를 선택해주세요.\">시 / 도를 선택해주세요.</a>\\n\\t\\t\\t\\t\\t\\t\\t\\t<ul id=\"storeLocal\"><li><a href=\"javascript:storeLocal2(\\'서울\\');void(0);\">서울</a></li><li><a href=\"javascript:storeLocal2(\\'경기\\');void(0);\">경기</a></li><li><a href=\"javascript:storeLocal2(\\'인천\\');void(0);\">인천</a></li><li><a href=\"javascript:storeLocal2(\\'강원\\');void(0);\">강원</a></li><li><a href=\"javascript:storeLocal2(\\'경남\\');void(0);\">경남</a></li><li><a href=\"javascript:storeLocal2(\\'광주\\');void(0);\">광주</a></li><li><a href=\"javascript:storeLocal2(\\'대구\\');void(0);\">대구</a></li><li><a href=\"javascript:storeLocal2(\\'대전\\');void(0);\">대전</a></li><li><a href=\"javascript:storeLocal2(\\'부산\\');void(0);\">부산</a></li><li><a href=\"javascript:storeLocal2(\\'제주\\');void(0);\">제주</a></li><li><a href=\"javascript:storeLocal2(\\'충남\\');void(0);\">충남</a></li><li><a href=\"javascript:storeLocal2(\\'충북\\');void(0);\">충북</a></li></ul>\\n\\t\\t\\t\\t\\t\\t\\t</div>\\n\\t\\t\\t\\t\\t\\t\\t<div class=\"select_box no_over\">\\n\\t\\t\\t\\t\\t\\t\\t\\t<a href=\"#\" id=\"localTitle2\" data-default=\"구 / 군을 선택해주세요.\">구 / 군을 선택해주세요.</a>\\n\\t\\t\\t\\t\\t\\t\\t\\t<ul id=\"storeLocal2\">\\n\\t\\t\\t\\t\\t\\t\\t\\t\\t<!-- 구/군 리스트 -->\\n\\t\\t\\t\\t\\t\\t\\t\\t</ul>\\n\\t\\t\\t\\t\\t\\t\\t</div>\\n\\t\\t\\t\\t\\t\\t</div>\\n\\t\\t\\t\\t\\t\\t<!-- 펫매장 -->\\n\\t\\t\\t\\t\\t\\t<h3 class=\"pet_srh\"><a href=\"#\" id=\"pet_srh\">펫 동반 매장</a></h3>\\n\\t\\t\\t\\t\\t\\t<div class=\"cont\" style=\"display: none;\">\\n\\t\\t\\t\\t\\t\\t\\t<div class=\"srh_box\">\\n\\t\\t\\t\\t\\t\\t\\t\\t<input type=\"text\" id=\"petkeyword\" name=\"petkeyword\" data-val=\"매장명 또는 주소를 입력하세요.\" value=\"\" onkeydown=\"if (event.keyCode==13) searchPetStore();\">\\n\\t\\t\\t\\t\\t\\t\\t\\t<button onclick=\"searchPetStore();void(0);\"><img src=\"/images/sub/btn_quick_srh.gif\" alt=\"조회하기\"></button>\\n\\t\\t\\t\\t\\t\\t\\t</div>\\n\\t\\t\\t\\t\\t\\t</div>\\n\\t\\t\\t\\t\\t</div>\\n\\t\\t\\t\\t\\t<!-- store_tab -->\\n\\t\\t\\t\\t\\t<div class=\"store_tab\">\\n\\t\\t\\t\\t\\t\\t<!-- STORE LOCATOR -->\\n\\t\\t\\t\\t\\t\\t<h3 class=\"store_locator  on\"><a href=\"#\" id=\"store_local\">STORE LOCATOR</a></h3>\\n\\t\\t\\t\\t\\t\\t<div class=\"cont\">\\n\\t\\t\\t\\t\\t\\t\\t<ul id=\"storeListUL\"><li data-lng=\"127.059475\" data-lat=\"37.514524\" data-no=\"31\"> \\t\\t<div class=\"num\">1</div> \\t\\t<div class=\"store_txt\"> \\t\\t\\t<p class=\"name\"> \\t\\t\\t\\t<span>삼성봉은사거리점<strong class=\"distance\">33m</strong></span> \\t\\t\\t\\t<a href=\"javascript:storePop2(\\'31\\');void(0);\" class=\"btn_style6\">자세히보기</a> \\t\\t\\t</p> \\t\\t\\t<p class=\"tag\"> \\t\\t\\t\\t<span class=\"decaf\" title=\"디카페인\">디카페인</span><span class=\"soy\" title=\"두유\">두유</span><span class=\"parking\" title=\"주차가능\">주차가능</span><span class=\"wifi\" title=\"와이파이\">와이파이</span><span class=\"smoking\" title=\"흡연가능\">흡연가능</span><span class=\"capsule\" title=\"캡슐판매\">캡슐판매</span><!--span class=\\'cake\\' title=\\'케익수령\\'>케익수령</span--><span class=\"delivery\" title=\"딜리버리\">딜리버리</span><span class=\"hallcake\" title=\"홀케익\">홀케익</span> \\t\\t\\t</p> \\t\\t\\t<p class=\"address\"> \\t\\t\\t\\t<span>서울시 강남구 영동대로 607 1,2층</span><!--span class=\"lot\"><#StoreAddress2#></span--> \\t\\t\\t</p> \\t\\t\\t<p class=\"tel\"><a href=\"tel:02-3443-5618\">02-3443-5618</a></p> \\t\\t</div> \\t</li> <li data-lng=\"127.0571155943\" data-lat=\"37.5129451363\" data-no=\"142\"> \\t\\t<div class=\"num\">2</div> \\t\\t<div class=\"store_txt\"> \\t\\t\\t<p class=\"name\"> \\t\\t\\t\\t<span>코엑스인터점<strong class=\"distance\">262m</strong></span> \\t\\t\\t\\t<a href=\"javascript:storePop2(\\'142\\');void(0);\" class=\"btn_style6\">자세히보기</a> \\t\\t\\t</p> \\t\\t\\t<p class=\"tag\"> \\t\\t\\t\\t<span class=\"decaf\" title=\"디카페인\">디카페인</span><span class=\"soy\" title=\"두유\">두유</span><span class=\"wifi\" title=\"와이파이\">와이파이</span><!--span class=\\'cake\\' title=\\'케익수령\\'>케익수령</span--> \\t\\t\\t</p> \\t\\t\\t<p class=\"address\"> \\t\\t\\t\\t<span>서울시 강남구 봉은사로 524 코엑스 인터컨티넨탈아케이드</span><!--span class=\"lot\"><#StoreAddress2#></span--> \\t\\t\\t</p> \\t\\t\\t<p class=\"tel\"><a href=\"tel:02-569-3103\">02-569-3103</a></p> \\t\\t</div> \\t</li> <li data-lng=\"127.058205573267\" data-lat=\"37.5109823973192\" data-no=\"29\"> \\t\\t<div class=\"num\">3</div> \\t\\t<div class=\"store_txt\"> \\t\\t\\t<p class=\"name\"> \\t\\t\\t\\t<span>삼성오크우드점<strong class=\"distance\">418m</strong></span> \\t\\t\\t\\t<a href=\"javascript:storePop2(\\'29\\');void(0);\" class=\"btn_style6\">자세히보기</a> \\t\\t\\t</p> \\t\\t\\t<p class=\"tag\"> \\t\\t\\t\\t<span class=\"decaf\" title=\"디카페인\">디카페인</span><span class=\"parking\" title=\"주차가능\">주차가능</span><span class=\"wifi\" title=\"와이파이\">와이파이</span><!--span class=\\'cake\\' title=\\'케익수령\\'>케익수령</span--> \\t\\t\\t</p> \\t\\t\\t<p class=\"address\"> \\t\\t\\t\\t<span>서울 강남구 테헤란로87길 46 지하 2층</span><!--span class=\"lot\"><#StoreAddress2#></span--> \\t\\t\\t</p> \\t\\t\\t<p class=\"tel\"><a href=\"tel:02-3466-8507\">02-3466-8507</a></p> \\t\\t</div> \\t</li> <li data-lng=\"127.064150\" data-lat=\"37.514631\" data-no=\"49\"> \\t\\t<div class=\"num\">4</div> \\t\\t<div class=\"store_txt\"> \\t\\t\\t<p class=\"name\"> \\t\\t\\t\\t<span>삼성봉은사로점<strong class=\"distance\">442m</strong></span> \\t\\t\\t\\t<a href=\"javascript:storePop2(\\'49\\');void(0);\" class=\"btn_style6\">자세히보기</a> \\t\\t\\t</p> \\t\\t\\t<p class=\"tag\"> \\t\\t\\t\\t<span class=\"decaf\" title=\"디카페인\">디카페인</span><span class=\"soy\" title=\"두유\">두유</span><span class=\"parking\" title=\"주차가능\">주차가능</span><span class=\"wifi\" title=\"와이파이\">와이파이</span><span class=\"smoking\" title=\"흡연가능\">흡연가능</span><!--span class=\\'cake\\' title=\\'케익수령\\'>케익수령</span--><span class=\"delivery\" title=\"딜리버리\">딜리버리</span> \\t\\t\\t</p> \\t\\t\\t<p class=\"address\"> \\t\\t\\t\\t<span>서울시 강남구 봉은사로 628 엘슨빌딩1층</span><!--span class=\"lot\"><#StoreAddress2#></span--> \\t\\t\\t</p> \\t\\t\\t<p class=\"tel\"><a href=\"tel:02-538-4523\">02-538-4523</a></p> \\t\\t</div> \\t</li> <li data-lng=\"127.0585974668\" data-lat=\"37.5102341897\" data-no=\"55\"> \\t\\t<div class=\"num\">5</div> \\t\\t<div class=\"store_txt\"> \\t\\t\\t<p class=\"name\"> \\t\\t\\t\\t<span>도심공항타워점<strong class=\"distance\">495m</strong></span> \\t\\t\\t\\t<a href=\"javascript:storePop2(\\'55\\');void(0);\" class=\"btn_style6\">자세히보기</a> \\t\\t\\t</p> \\t\\t\\t<p class=\"tag\"> \\t\\t\\t\\t<span class=\"decaf\" title=\"디카페인\">디카페인</span><span class=\"soy\" title=\"두유\">두유</span><span class=\"parking\" title=\"주차가능\">주차가능</span><span class=\"wifi\" title=\"와이파이\">와이파이</span><span class=\"smoking\" title=\"흡연가능\">흡연가능</span><span class=\"capsule\" title=\"캡슐판매\">캡슐판매</span><!--span class=\\'cake\\' title=\\'케익수령\\'>케익수령</span--> \\t\\t\\t</p> \\t\\t\\t<p class=\"address\"> \\t\\t\\t\\t<span>서울시 강남구 테헤란로87길 36 공항타워 1층</span><!--span class=\"lot\"><#StoreAddress2#></span--> \\t\\t\\t</p> \\t\\t\\t<p class=\"tel\"><a href=\"tel:02-2016-5330\">02-2016-5330</a></p> \\t\\t</div> \\t</li> <li data-lng=\"127.0610225377\" data-lat=\"37.5103554984\" data-no=\"30\"> \\t\\t<div class=\"num\">6</div> \\t\\t<div class=\"store_txt\"> \\t\\t\\t<p class=\"name\"> \\t\\t\\t\\t<span>트레이드타워점<strong class=\"distance\">507m</strong></span> \\t\\t\\t\\t<a href=\"javascript:storePop2(\\'30\\');void(0);\" class=\"btn_style6\">자세히보기</a> \\t\\t\\t</p> \\t\\t\\t<p class=\"tag\"> \\t\\t\\t\\t<span class=\"decaf\" title=\"디카페인\">디카페인</span><span class=\"soy\" title=\"두유\">두유</span><span class=\"parking\" title=\"주차가능\">주차가능</span><span class=\"wifi\" title=\"와이파이\">와이파이</span><span class=\"capsule\" title=\"캡슐판매\">캡슐판매</span><!--span class=\\'cake\\' title=\\'케익수령\\'>케익수령</span--> \\t\\t\\t</p> \\t\\t\\t<p class=\"address\"> \\t\\t\\t\\t<span>서울시 강남구 영동대로 511 트레이드타워 지하1층</span><!--span class=\"lot\"><#StoreAddress2#></span--> \\t\\t\\t</p> \\t\\t\\t<p class=\"tel\"><a href=\"tel:02-6002-6470\">02-6002-6470</a></p> \\t\\t</div> \\t</li> <li data-lng=\"127.0594430149\" data-lat=\"37.5096318963\" data-no=\"203\"> \\t\\t<div class=\"num\">7</div> \\t\\t<div class=\"store_txt\"> \\t\\t\\t<p class=\"name\"> \\t\\t\\t\\t<span>도심공항점<strong class=\"distance\">560m</strong></span> \\t\\t\\t\\t<a href=\"javascript:storePop2(\\'203\\');void(0);\" class=\"btn_style6\">자세히보기</a> \\t\\t\\t</p> \\t\\t\\t<p class=\"tag\"> \\t\\t\\t\\t<span class=\"decaf\" title=\"디카페인\">디카페인</span><span class=\"parking\" title=\"주차가능\">주차가능</span><span class=\"wifi\" title=\"와이파이\">와이파이</span><span class=\"capsule\" title=\"캡슐판매\">캡슐판매</span><!--span class=\\'cake\\' title=\\'케익수령\\'>케익수령</span--> \\t\\t\\t</p> \\t\\t\\t<p class=\"address\"> \\t\\t\\t\\t<span>서울시 강남구 테헤란로87길22 도심공항터미널 지하1층</span><!--span class=\"lot\"><#StoreAddress2#></span--> \\t\\t\\t</p> \\t\\t\\t<p class=\"tel\"><a href=\"tel:02-551-6456 \">02-551-6456 </a></p> \\t\\t</div> \\t</li> <li data-lng=\"127.0608089556\" data-lat=\"37.5091915107\" data-no=\"209\"> \\t\\t<div class=\"num\">8</div> \\t\\t<div class=\"store_txt\"> \\t\\t\\t<p class=\"name\"> \\t\\t\\t\\t<span>파르나스몰점<strong class=\"distance\">626m</strong></span> \\t\\t\\t\\t<a href=\"javascript:storePop2(\\'209\\');void(0);\" class=\"btn_style6\">자세히보기</a> \\t\\t\\t</p> \\t\\t\\t<p class=\"tag\"> \\t\\t\\t\\t<span class=\"decaf\" title=\"디카페인\">디카페인</span><span class=\"parking\" title=\"주차가능\">주차가능</span><span class=\"wifi\" title=\"와이파이\">와이파이</span><span class=\"capsule\" title=\"캡슐판매\">캡슐판매</span> \\t\\t\\t</p> \\t\\t\\t<p class=\"address\"> \\t\\t\\t\\t<span>서울시 강남구 테헤란로521 파르나스몰 지하1층</span><!--span class=\"lot\"><#StoreAddress2#></span--> \\t\\t\\t</p> \\t\\t\\t<p class=\"tel\"><a href=\"tel:02-538-2008 \">02-538-2008 </a></p> \\t\\t</div> \\t</li> <li data-lng=\"127.054054\" data-lat=\"37.510666\" data-no=\"155\"> \\t\\t<div class=\"num\">9</div> \\t\\t<div class=\"store_txt\"> \\t\\t\\t<p class=\"name\"> \\t\\t\\t\\t<span>삼성로점<strong class=\"distance\">632m</strong></span> \\t\\t\\t\\t<a href=\"javascript:storePop2(\\'155\\');void(0);\" class=\"btn_style6\">자세히보기</a> \\t\\t\\t</p> \\t\\t\\t<p class=\"tag\"> \\t\\t\\t\\t<span class=\"decaf\" title=\"디카페인\">디카페인</span><span class=\"parking\" title=\"주차가능\">주차가능</span><span class=\"wifi\" title=\"와이파이\">와이파이</span><span class=\"smoking\" title=\"흡연가능\">흡연가능</span><span class=\"capsule\" title=\"캡슐판매\">캡슐판매</span><!--span class=\\'cake\\' title=\\'케익수령\\'>케익수령</span--><span class=\"delivery\" title=\"딜리버리\">딜리버리</span><span class=\"hallcake\" title=\"홀케익\">홀케익</span> \\t\\t\\t</p> \\t\\t\\t<p class=\"address\"> \\t\\t\\t\\t<span>서울시 강남구 삼성로 551 1층,2층</span><!--span class=\"lot\"><#StoreAddress2#></span--> \\t\\t\\t</p> \\t\\t\\t<p class=\"tel\"><a href=\"tel:02-552-9311 \">02-552-9311 </a></p> \\t\\t</div> \\t</li> <li data-lng=\"127.0587759480173\" data-lat=\"37.50706256458109\" data-no=\"351\"> \\t\\t<div class=\"num\">10</div> \\t\\t<div class=\"store_txt\"> \\t\\t\\t<p class=\"name\"> \\t\\t\\t\\t<span>삼성루첸타워점<strong class=\"distance\">845m</strong></span> \\t\\t\\t\\t<a href=\"javascript:storePop2(\\'351\\');void(0);\" class=\"btn_style6\">자세히보기</a> \\t\\t\\t</p> \\t\\t\\t<p class=\"tag\"> \\t\\t\\t\\t<span class=\"decaf\" title=\"디카페인\">디카페인</span><span class=\"soy\" title=\"두유\">두유</span><span class=\"parking\" title=\"주차가능\">주차가능</span><span class=\"wifi\" title=\"와이파이\">와이파이</span><span class=\"capsule\" title=\"캡슐판매\">캡슐판매</span><!--span class=\\'cake\\' title=\\'케익수령\\'>케익수령</span--><span class=\"delivery\" title=\"딜리버리\">딜리버리</span> \\t\\t\\t</p> \\t\\t\\t<p class=\"address\"> \\t\\t\\t\\t<span>서울 강남구 대치동 943-2 루첸타워 1층 로비</span><!--span class=\"lot\"><#StoreAddress2#></span--> \\t\\t\\t</p> \\t\\t\\t<p class=\"tel\"><a href=\"tel:02-994-8879\">02-994-8879</a></p> \\t\\t</div> \\t</li> </ul>\\n\\t\\t\\t\\t\\t\\t</div>\\n\\t\\t\\t\\t\\t\\t<!-- NEW STORE-->\\n\\t\\t\\t\\t\\t\\t<h3 class=\"store_new\"><a href=\"#\" id=\"store_new\">NEW STORE</a></h3>\\n\\t\\t\\t\\t\\t\\t<div class=\"cont\" style=\"display: none;\">\\n\\t\\t\\t\\t\\t\\t\\t<ul id=\"newStoreListUL\">\\n\\n\\t\\t\\t\\t\\t\\t\\t\\t<li data-name=\"고대안암병원신관점\" data-addr=\"서울특별시 성북구 고려대로 73\" data-sort=\"1\" data-lat=\"37.5871109699535\" data-lng=\"127.026357234716\" data-no=\"388\" data-tel=\"02-544-6823\">\\n\\n\\t\\t\\t\\t\\t\\t\\t\\t\\t<div class=\"num\">1</div>\\n\\t\\t\\t\\t\\t\\t\\t\\t\\t<div class=\"store_txt\">\\n\\t\\t\\t\\t\\t\\t\\t\\t\\t\\t<p class=\"name\">\\n\\t\\t\\t\\t\\t\\t\\t\\t\\t\\t\\t<span>고대안암병원신관점 <!--strong class=\"distance\">999m</strong--></span><!-- 2016-04-11 거리 추가 -->\\n\\t\\t\\t\\t\\t\\t\\t\\t\\t\\t\\t<a href=\"javascript:storePop2(\\'388\\');\" class=\"btn_style6\">자세히보기</a>\\n\\t\\t\\t\\t\\t\\t\\t\\t\\t\\t</p>\\n\\t\\t\\t\\t\\t\\t\\t\\t\\t\\t<p class=\"tag\">\\n\\n\\t\\t\\t\\t\\t\\t\\t\\t\\t\\t</p>\\n\\t\\t\\t\\t\\t\\t\\t\\t\\t\\t<p class=\"address\">\\n\\t\\t\\t\\t\\t\\t\\t\\t\\t\\t\\t<span>서울특별시 성북구 고려대로 73</span>\\n\\t\\t\\t\\t\\t\\t\\t\\t\\t\\t\\t<!--span class=\"lot\">서울특별시 강남구 신사동 633-4</span-->\\n\\t\\t\\t\\t\\t\\t\\t\\t\\t\\t</p>\\n\\t\\t\\t\\t\\t\\t\\t\\t\\t\\t<p class=\"tel\"><a href=\"tel:02-544-6823\">02-544-6823</a></p>\\n\\t\\t\\t\\t\\t\\t\\t\\t\\t</div>\\n\\t\\t\\t\\t\\t\\t\\t\\t</li>\\n\\n\\t\\t\\t\\t\\t\\t\\t\\t<li data-name=\"압구정로데오2호점\" data-addr=\"서울특별시 강남구 선릉로 157길 22 2층\" data-sort=\"2\" data-lat=\"37.5263370842465\" data-lng=\"127.038182970834\" data-no=\"387\" data-tel=\"02-3444-9973\">\\n\\n\\t\\t\\t\\t\\t\\t\\t\\t\\t<div class=\"num\">2</div>\\n\\t\\t\\t\\t\\t\\t\\t\\t\\t<div class=\"store_txt\">\\n\\t\\t\\t\\t\\t\\t\\t\\t\\t\\t<p class=\"name\">\\n\\t\\t\\t\\t\\t\\t\\t\\t\\t\\t\\t<span>압구정로데오2호점 <!--strong class=\"distance\">999m</strong--></span><!-- 2016-04-11 거리 추가 -->\\n\\t\\t\\t\\t\\t\\t\\t\\t\\t\\t\\t<a href=\"javascript:storePop2(\\'387\\');\" class=\"btn_style6\">자세히보기</a>\\n\\t\\t\\t\\t\\t\\t\\t\\t\\t\\t</p>\\n\\t\\t\\t\\t\\t\\t\\t\\t\\t\\t<p class=\"tag\">\\n<span class=\"decaf\" title=\"디카페인\">디카페인</span><span class=\"soy\" title=\"두유\">두유</span><span class=\"wifi\" title=\"와이파이\">와이파이</span><span class=\"capsule\" title=\"캡슐판매\">캡슐판매</span><span class=\"cake\" title=\"케익수령\">케익수령</span>\\n\\t\\t\\t\\t\\t\\t\\t\\t\\t\\t</p>\\n\\t\\t\\t\\t\\t\\t\\t\\t\\t\\t<p class=\"address\">\\n\\t\\t\\t\\t\\t\\t\\t\\t\\t\\t\\t<span>서울특별시 강남구 선릉로 157길 22 2층</span>\\n\\t\\t\\t\\t\\t\\t\\t\\t\\t\\t\\t<!--span class=\"lot\">서울특별시 강남구 신사동 633-4</span-->\\n\\t\\t\\t\\t\\t\\t\\t\\t\\t\\t</p>\\n\\t\\t\\t\\t\\t\\t\\t\\t\\t\\t<p class=\"tel\"><a href=\"tel:02-3444-9973\">02-3444-9973</a></p>\\n\\t\\t\\t\\t\\t\\t\\t\\t\\t</div>\\n\\t\\t\\t\\t\\t\\t\\t\\t</li>\\n\\n\\t\\t\\t\\t\\t\\t\\t\\t<li data-name=\"종로YBM별관점\" data-addr=\"서울시 종로구 종로 98 1층\" data-sort=\"3\" data-lat=\"37.5698794886241\" data-lng=\"126.988409831075\" data-no=\"386\" data-tel=\"02-402-3571\">\\n\\n\\t\\t\\t\\t\\t\\t\\t\\t\\t<div class=\"num\">3</div>\\n\\t\\t\\t\\t\\t\\t\\t\\t\\t<div class=\"store_txt\">\\n\\t\\t\\t\\t\\t\\t\\t\\t\\t\\t<p class=\"name\">\\n\\t\\t\\t\\t\\t\\t\\t\\t\\t\\t\\t<span>종로YBM별관점 <!--strong class=\"distance\">999m</strong--></span><!-- 2016-04-11 거리 추가 -->\\n\\t\\t\\t\\t\\t\\t\\t\\t\\t\\t\\t<a href=\"javascript:storePop2(\\'386\\');\" class=\"btn_style6\">자세히보기</a>\\n\\t\\t\\t\\t\\t\\t\\t\\t\\t\\t</p>\\n\\t\\t\\t\\t\\t\\t\\t\\t\\t\\t<p class=\"tag\">\\n\\n\\t\\t\\t\\t\\t\\t\\t\\t\\t\\t</p>\\n\\t\\t\\t\\t\\t\\t\\t\\t\\t\\t<p class=\"address\">\\n\\t\\t\\t\\t\\t\\t\\t\\t\\t\\t\\t<span>서울시 종로구 종로 98 1층</span>\\n\\t\\t\\t\\t\\t\\t\\t\\t\\t\\t\\t<!--span class=\"lot\">서울특별시 강남구 신사동 633-4</span-->\\n\\t\\t\\t\\t\\t\\t\\t\\t\\t\\t</p>\\n\\t\\t\\t\\t\\t\\t\\t\\t\\t\\t<p class=\"tel\"><a href=\"tel:02-402-3571\">02-402-3571</a></p>\\n\\t\\t\\t\\t\\t\\t\\t\\t\\t</div>\\n\\t\\t\\t\\t\\t\\t\\t\\t</li>\\n\\n\\t\\t\\t\\t\\t\\t\\t\\t<li data-name=\"서울시청점\" data-addr=\"서울특별시 중구 무교로 12(무교동) 정오빌딩 1층\" data-sort=\"4\" data-lat=\"37.5670466069498\" data-lng=\"126.979375711608\" data-no=\"385\" data-tel=\"02-420-0386\">\\n\\n\\t\\t\\t\\t\\t\\t\\t\\t\\t<div class=\"num\">4</div>\\n\\t\\t\\t\\t\\t\\t\\t\\t\\t<div class=\"store_txt\">\\n\\t\\t\\t\\t\\t\\t\\t\\t\\t\\t<p class=\"name\">\\n\\t\\t\\t\\t\\t\\t\\t\\t\\t\\t\\t<span>서울시청점 <!--strong class=\"distance\">999m</strong--></span><!-- 2016-04-11 거리 추가 -->\\n\\t\\t\\t\\t\\t\\t\\t\\t\\t\\t\\t<a href=\"javascript:storePop2(\\'385\\');\" class=\"btn_style6\">자세히보기</a>\\n\\t\\t\\t\\t\\t\\t\\t\\t\\t\\t</p>\\n\\t\\t\\t\\t\\t\\t\\t\\t\\t\\t<p class=\"tag\">\\n<span class=\"decaf\" title=\"디카페인\">디카페인</span><span class=\"soy\" title=\"두유\">두유</span><span class=\"cake\" title=\"케익수령\">케익수령</span>\\n\\t\\t\\t\\t\\t\\t\\t\\t\\t\\t</p>\\n\\t\\t\\t\\t\\t\\t\\t\\t\\t\\t<p class=\"address\">\\n\\t\\t\\t\\t\\t\\t\\t\\t\\t\\t\\t<span>서울특별시 중구 무교로 12(무교동) 정오빌딩 1층</span>\\n\\t\\t\\t\\t\\t\\t\\t\\t\\t\\t\\t<!--span class=\"lot\">서울특별시 강남구 신사동 633-4</span-->\\n\\t\\t\\t\\t\\t\\t\\t\\t\\t\\t</p>\\n\\t\\t\\t\\t\\t\\t\\t\\t\\t\\t<p class=\"tel\"><a href=\"tel:02-420-0386\">02-420-0386</a></p>\\n\\t\\t\\t\\t\\t\\t\\t\\t\\t</div>\\n\\t\\t\\t\\t\\t\\t\\t\\t</li>\\n\\n\\t\\t\\t\\t\\t\\t\\t\\t<li data-name=\"동탄타임테라스점\" data-addr=\"경기도 화성시 동탄중앙로220 타임테라스A 블록 1층 110호-1호\" data-sort=\"5\" data-lat=\"37.2048573925088\" data-lng=\"127.069311476941\" data-no=\"383\" data-tel=\"031-613-7684\">\\n\\n\\t\\t\\t\\t\\t\\t\\t\\t\\t<div class=\"num\">5</div>\\n\\t\\t\\t\\t\\t\\t\\t\\t\\t<div class=\"store_txt\">\\n\\t\\t\\t\\t\\t\\t\\t\\t\\t\\t<p class=\"name\">\\n\\t\\t\\t\\t\\t\\t\\t\\t\\t\\t\\t<span>동탄타임테라스점 <!--strong class=\"distance\">999m</strong--></span><!-- 2016-04-11 거리 추가 -->\\n\\t\\t\\t\\t\\t\\t\\t\\t\\t\\t\\t<a href=\"javascript:storePop2(\\'383\\');\" class=\"btn_style6\">자세히보기</a>\\n\\t\\t\\t\\t\\t\\t\\t\\t\\t\\t</p>\\n\\t\\t\\t\\t\\t\\t\\t\\t\\t\\t<p class=\"tag\">\\n<span class=\"decaf\" title=\"디카페인\">디카페인</span><span class=\"soy\" title=\"두유\">두유</span><span class=\"parking\" title=\"주차가능\">주차가능</span><span class=\"cake\" title=\"케익수령\">케익수령</span>\\n\\t\\t\\t\\t\\t\\t\\t\\t\\t\\t</p>\\n\\t\\t\\t\\t\\t\\t\\t\\t\\t\\t<p class=\"address\">\\n\\t\\t\\t\\t\\t\\t\\t\\t\\t\\t\\t<span>경기도 화성시 동탄중앙로220 타임테라스A 블록 1층 110호-1호</span>\\n\\t\\t\\t\\t\\t\\t\\t\\t\\t\\t\\t<!--span class=\"lot\">서울특별시 강남구 신사동 633-4</span-->\\n\\t\\t\\t\\t\\t\\t\\t\\t\\t\\t</p>\\n\\t\\t\\t\\t\\t\\t\\t\\t\\t\\t<p class=\"tel\"><a href=\"tel:031-613-7684\">031-613-7684</a></p>\\n\\t\\t\\t\\t\\t\\t\\t\\t\\t</div>\\n\\t\\t\\t\\t\\t\\t\\t\\t</li>\\n\\n\\t\\t\\t\\t\\t\\t\\t\\t<li data-name=\"성균관대법학관점\" data-addr=\"서울시 종로구 성균관로 25-2 성균관대학교 법학관 B2\" data-sort=\"6\" data-lat=\"37.5872284082508\" data-lng=\"126.993115116294\" data-no=\"382\" data-tel=\"02-740-1958\">\\n\\n\\t\\t\\t\\t\\t\\t\\t\\t\\t<div class=\"num\">6</div>\\n\\t\\t\\t\\t\\t\\t\\t\\t\\t<div class=\"store_txt\">\\n\\t\\t\\t\\t\\t\\t\\t\\t\\t\\t<p class=\"name\">\\n\\t\\t\\t\\t\\t\\t\\t\\t\\t\\t\\t<span>성균관대법학관점 <!--strong class=\"distance\">999m</strong--></span><!-- 2016-04-11 거리 추가 -->\\n\\t\\t\\t\\t\\t\\t\\t\\t\\t\\t\\t<a href=\"javascript:storePop2(\\'382\\');\" class=\"btn_style6\">자세히보기</a>\\n\\t\\t\\t\\t\\t\\t\\t\\t\\t\\t</p>\\n\\t\\t\\t\\t\\t\\t\\t\\t\\t\\t<p class=\"tag\">\\n<span class=\"decaf\" title=\"디카페인\">디카페인</span><span class=\"soy\" title=\"두유\">두유</span><span class=\"cake\" title=\"케익수령\">케익수령</span>\\n\\t\\t\\t\\t\\t\\t\\t\\t\\t\\t</p>\\n\\t\\t\\t\\t\\t\\t\\t\\t\\t\\t<p class=\"address\">\\n\\t\\t\\t\\t\\t\\t\\t\\t\\t\\t\\t<span>서울시 종로구 성균관로 25-2 성균관대학교 법학관 B2</span>\\n\\t\\t\\t\\t\\t\\t\\t\\t\\t\\t\\t<!--span class=\"lot\">서울특별시 강남구 신사동 633-4</span-->\\n\\t\\t\\t\\t\\t\\t\\t\\t\\t\\t</p>\\n\\t\\t\\t\\t\\t\\t\\t\\t\\t\\t<p class=\"tel\"><a href=\"tel:02-740-1958\">02-740-1958</a></p>\\n\\t\\t\\t\\t\\t\\t\\t\\t\\t</div>\\n\\t\\t\\t\\t\\t\\t\\t\\t</li>\\n\\n\\t\\t\\t\\t\\t\\t\\t\\t<li data-name=\"제주애월DT점\" data-addr=\"제주도 제주시 애월읍 애월해안로 560\" data-sort=\"7\" data-lat=\"33.4780607099459\" data-lng=\"126.363581175351\" data-no=\"381\" data-tel=\"064-799-3670\">\\n\\n\\t\\t\\t\\t\\t\\t\\t\\t\\t<div class=\"num\">7</div>\\n\\t\\t\\t\\t\\t\\t\\t\\t\\t<div class=\"store_txt\">\\n\\t\\t\\t\\t\\t\\t\\t\\t\\t\\t<p class=\"name\">\\n\\t\\t\\t\\t\\t\\t\\t\\t\\t\\t\\t<span>제주애월DT점 <!--strong class=\"distance\">999m</strong--></span><!-- 2016-04-11 거리 추가 -->\\n\\t\\t\\t\\t\\t\\t\\t\\t\\t\\t\\t<a href=\"javascript:storePop2(\\'381\\');\" class=\"btn_style6\">자세히보기</a>\\n\\t\\t\\t\\t\\t\\t\\t\\t\\t\\t</p>\\n\\t\\t\\t\\t\\t\\t\\t\\t\\t\\t<p class=\"tag\">\\n<span class=\"decaf\" title=\"디카페인\">디카페인</span><span class=\"soy\" title=\"두유\">두유</span><span class=\"parking\" title=\"주차가능\">주차가능</span><span class=\"drive\" title=\"드라이브 스루\">드라이브 스루</span><span class=\"pet\" title=\"반려동물\">반려동물</span><span class=\"hallcake\" title=\"홀케익\">홀케익</span>\\n\\t\\t\\t\\t\\t\\t\\t\\t\\t\\t</p>\\n\\t\\t\\t\\t\\t\\t\\t\\t\\t\\t<p class=\"address\">\\n\\t\\t\\t\\t\\t\\t\\t\\t\\t\\t\\t<span>제주도 제주시 애월읍 애월해안로 560</span>\\n\\t\\t\\t\\t\\t\\t\\t\\t\\t\\t\\t<!--span class=\"lot\">서울특별시 강남구 신사동 633-4</span-->\\n\\t\\t\\t\\t\\t\\t\\t\\t\\t\\t</p>\\n\\t\\t\\t\\t\\t\\t\\t\\t\\t\\t<p class=\"tel\"><a href=\"tel:064-799-3670\">064-799-3670</a></p>\\n\\t\\t\\t\\t\\t\\t\\t\\t\\t</div>\\n\\t\\t\\t\\t\\t\\t\\t\\t</li>\\n\\n\\t\\t\\t\\t\\t\\t\\t\\t<li data-name=\"하나금융명동사옥점\" data-addr=\"서울시 중구 을지로 66 하나은행 명동사옥 1층\" data-sort=\"8\" data-lat=\"37.5651546444578\" data-lng=\"126.985010733916\" data-no=\"380\" data-tel=\"02-539-5174\">\\n\\n\\t\\t\\t\\t\\t\\t\\t\\t\\t<div class=\"num\">8</div>\\n\\t\\t\\t\\t\\t\\t\\t\\t\\t<div class=\"store_txt\">\\n\\t\\t\\t\\t\\t\\t\\t\\t\\t\\t<p class=\"name\">\\n\\t\\t\\t\\t\\t\\t\\t\\t\\t\\t\\t<span>하나금융명동사옥점 <!--strong class=\"distance\">999m</strong--></span><!-- 2016-04-11 거리 추가 -->\\n\\t\\t\\t\\t\\t\\t\\t\\t\\t\\t\\t<a href=\"javascript:storePop2(\\'380\\');\" class=\"btn_style6\">자세히보기</a>\\n\\t\\t\\t\\t\\t\\t\\t\\t\\t\\t</p>\\n\\t\\t\\t\\t\\t\\t\\t\\t\\t\\t<p class=\"tag\">\\n<span class=\"decaf\" title=\"디카페인\">디카페인</span><span class=\"soy\" title=\"두유\">두유</span><span class=\"wifi\" title=\"와이파이\">와이파이</span><span class=\"capsule\" title=\"캡슐판매\">캡슐판매</span><span class=\"cake\" title=\"케익수령\">케익수령</span>\\n\\t\\t\\t\\t\\t\\t\\t\\t\\t\\t</p>\\n\\t\\t\\t\\t\\t\\t\\t\\t\\t\\t<p class=\"address\">\\n\\t\\t\\t\\t\\t\\t\\t\\t\\t\\t\\t<span>서울시 중구 을지로 66 하나은행 명동사옥 1층</span>\\n\\t\\t\\t\\t\\t\\t\\t\\t\\t\\t\\t<!--span class=\"lot\">서울특별시 강남구 신사동 633-4</span-->\\n\\t\\t\\t\\t\\t\\t\\t\\t\\t\\t</p>\\n\\t\\t\\t\\t\\t\\t\\t\\t\\t\\t<p class=\"tel\"><a href=\"tel:02-539-5174\">02-539-5174</a></p>\\n\\t\\t\\t\\t\\t\\t\\t\\t\\t</div>\\n\\t\\t\\t\\t\\t\\t\\t\\t</li>\\n\\n\\t\\t\\t\\t\\t\\t\\t\\t<li data-name=\"진주LH본사점\" data-addr=\"경남 진주시 충의로 19 LH진주사옥 공감동 1층\" data-sort=\"9\" data-lat=\"35.1782456833347\" data-lng=\"128.146167038366\" data-no=\"377\" data-tel=\"055-763-3520\">\\n\\n\\t\\t\\t\\t\\t\\t\\t\\t\\t<div class=\"num\">9</div>\\n\\t\\t\\t\\t\\t\\t\\t\\t\\t<div class=\"store_txt\">\\n\\t\\t\\t\\t\\t\\t\\t\\t\\t\\t<p class=\"name\">\\n\\t\\t\\t\\t\\t\\t\\t\\t\\t\\t\\t<span>진주LH본사점 <!--strong class=\"distance\">999m</strong--></span><!-- 2016-04-11 거리 추가 -->\\n\\t\\t\\t\\t\\t\\t\\t\\t\\t\\t\\t<a href=\"javascript:storePop2(\\'377\\');\" class=\"btn_style6\">자세히보기</a>\\n\\t\\t\\t\\t\\t\\t\\t\\t\\t\\t</p>\\n\\t\\t\\t\\t\\t\\t\\t\\t\\t\\t<p class=\"tag\">\\n<span class=\"decaf\" title=\"디카페인\">디카페인</span><span class=\"cake\" title=\"케익수령\">케익수령</span>\\n\\t\\t\\t\\t\\t\\t\\t\\t\\t\\t</p>\\n\\t\\t\\t\\t\\t\\t\\t\\t\\t\\t<p class=\"address\">\\n\\t\\t\\t\\t\\t\\t\\t\\t\\t\\t\\t<span>경남 진주시 충의로 19 LH진주사옥 공감동 1층</span>\\n\\t\\t\\t\\t\\t\\t\\t\\t\\t\\t\\t<!--span class=\"lot\">서울특별시 강남구 신사동 633-4</span-->\\n\\t\\t\\t\\t\\t\\t\\t\\t\\t\\t</p>\\n\\t\\t\\t\\t\\t\\t\\t\\t\\t\\t<p class=\"tel\"><a href=\"tel:055-763-3520\">055-763-3520</a></p>\\n\\t\\t\\t\\t\\t\\t\\t\\t\\t</div>\\n\\t\\t\\t\\t\\t\\t\\t\\t</li>\\n\\n\\t\\t\\t\\t\\t\\t\\t\\t<li data-name=\"용산아이파크몰점\" data-addr=\"서울시 용산구 한강대로 23길 55, 아이파크몰 테이스트파크 7층\" data-sort=\"10\" data-lat=\"37.5297718014452\" data-lng=\"126.964741503485\" data-no=\"375\" data-tel=\"02-2012-0731\">\\n\\n\\t\\t\\t\\t\\t\\t\\t\\t\\t<div class=\"num\">10</div>\\n\\t\\t\\t\\t\\t\\t\\t\\t\\t<div class=\"store_txt\">\\n\\t\\t\\t\\t\\t\\t\\t\\t\\t\\t<p class=\"name\">\\n\\t\\t\\t\\t\\t\\t\\t\\t\\t\\t\\t<span>용산아이파크몰점 <!--strong class=\"distance\">999m</strong--></span><!-- 2016-04-11 거리 추가 -->\\n\\t\\t\\t\\t\\t\\t\\t\\t\\t\\t\\t<a href=\"javascript:storePop2(\\'375\\');\" class=\"btn_style6\">자세히보기</a>\\n\\t\\t\\t\\t\\t\\t\\t\\t\\t\\t</p>\\n\\t\\t\\t\\t\\t\\t\\t\\t\\t\\t<p class=\"tag\">\\n<span class=\"decaf\" title=\"디카페인\">디카페인</span><span class=\"parking\" title=\"주차가능\">주차가능</span><span class=\"cake\" title=\"케익수령\">케익수령</span><span class=\"hallcake\" title=\"홀케익\">홀케익</span>\\n\\t\\t\\t\\t\\t\\t\\t\\t\\t\\t</p>\\n\\t\\t\\t\\t\\t\\t\\t\\t\\t\\t<p class=\"address\">\\n\\t\\t\\t\\t\\t\\t\\t\\t\\t\\t\\t<span>서울시 용산구 한강대로 23길 55, 아이파크몰 테이스트파크 7층</span>\\n\\t\\t\\t\\t\\t\\t\\t\\t\\t\\t\\t<!--span class=\"lot\">서울특별시 강남구 신사동 633-4</span-->\\n\\t\\t\\t\\t\\t\\t\\t\\t\\t\\t</p>\\n\\t\\t\\t\\t\\t\\t\\t\\t\\t\\t<p class=\"tel\"><a href=\"tel:02-2012-0731\">02-2012-0731</a></p>\\n\\t\\t\\t\\t\\t\\t\\t\\t\\t</div>\\n\\t\\t\\t\\t\\t\\t\\t\\t</li>\\n\\n\\t\\t\\t\\t\\t\\t\\t\\t<li data-name=\"상암SBS프리즘타워점\" data-addr=\"서울 마포구 상암산로 82 SBS 프리즘 타워 1층 로비\" data-sort=\"11\" data-lat=\"37.5797159011058\" data-lng=\"126.892773992481\" data-no=\"374\" data-tel=\"02-562-9605\">\\n\\n\\t\\t\\t\\t\\t\\t\\t\\t\\t<div class=\"num\">11</div>\\n\\t\\t\\t\\t\\t\\t\\t\\t\\t<div class=\"store_txt\">\\n\\t\\t\\t\\t\\t\\t\\t\\t\\t\\t<p class=\"name\">\\n\\t\\t\\t\\t\\t\\t\\t\\t\\t\\t\\t<span>상암SBS프리즘타워점 <!--strong class=\"distance\">999m</strong--></span><!-- 2016-04-11 거리 추가 -->\\n\\t\\t\\t\\t\\t\\t\\t\\t\\t\\t\\t<a href=\"javascript:storePop2(\\'374\\');\" class=\"btn_style6\">자세히보기</a>\\n\\t\\t\\t\\t\\t\\t\\t\\t\\t\\t</p>\\n\\t\\t\\t\\t\\t\\t\\t\\t\\t\\t<p class=\"tag\">\\n<span class=\"decaf\" title=\"디카페인\">디카페인</span><span class=\"soy\" title=\"두유\">두유</span><span class=\"wifi\" title=\"와이파이\">와이파이</span><span class=\"capsule\" title=\"캡슐판매\">캡슐판매</span><span class=\"cake\" title=\"케익수령\">케익수령</span>\\n\\t\\t\\t\\t\\t\\t\\t\\t\\t\\t</p>\\n\\t\\t\\t\\t\\t\\t\\t\\t\\t\\t<p class=\"address\">\\n\\t\\t\\t\\t\\t\\t\\t\\t\\t\\t\\t<span>서울 마포구 상암산로 82 SBS 프리즘 타워 1층 로비</span>\\n\\t\\t\\t\\t\\t\\t\\t\\t\\t\\t\\t<!--span class=\"lot\">서울특별시 강남구 신사동 633-4</span-->\\n\\t\\t\\t\\t\\t\\t\\t\\t\\t\\t</p>\\n\\t\\t\\t\\t\\t\\t\\t\\t\\t\\t<p class=\"tel\"><a href=\"tel:02-562-9605\">02-562-9605</a></p>\\n\\t\\t\\t\\t\\t\\t\\t\\t\\t</div>\\n\\t\\t\\t\\t\\t\\t\\t\\t</li>\\n\\n\\t\\t\\t\\t\\t\\t\\t\\t<li data-name=\"안양LS타워점\" data-addr=\"경기도 안양시 동안구 엘에스로 127 1층\" data-sort=\"12\" data-lat=\"37.3724051471608\" data-lng=\"126.947202895332\" data-no=\"373\" data-tel=\"031-429-9650\">\\n\\n\\t\\t\\t\\t\\t\\t\\t\\t\\t<div class=\"num\">12</div>\\n\\t\\t\\t\\t\\t\\t\\t\\t\\t<div class=\"store_txt\">\\n\\t\\t\\t\\t\\t\\t\\t\\t\\t\\t<p class=\"name\">\\n\\t\\t\\t\\t\\t\\t\\t\\t\\t\\t\\t<span>안양LS타워점 <!--strong class=\"distance\">999m</strong--></span><!-- 2016-04-11 거리 추가 -->\\n\\t\\t\\t\\t\\t\\t\\t\\t\\t\\t\\t<a href=\"javascript:storePop2(\\'373\\');\" class=\"btn_style6\">자세히보기</a>\\n\\t\\t\\t\\t\\t\\t\\t\\t\\t\\t</p>\\n\\t\\t\\t\\t\\t\\t\\t\\t\\t\\t<p class=\"tag\">\\n<span class=\"decaf\" title=\"디카페인\">디카페인</span><span class=\"soy\" title=\"두유\">두유</span><span class=\"parking\" title=\"주차가능\">주차가능</span><span class=\"wifi\" title=\"와이파이\">와이파이</span><span class=\"capsule\" title=\"캡슐판매\">캡슐판매</span><span class=\"hallcake\" title=\"홀케익\">홀케익</span>\\n\\t\\t\\t\\t\\t\\t\\t\\t\\t\\t</p>\\n\\t\\t\\t\\t\\t\\t\\t\\t\\t\\t<p class=\"address\">\\n\\t\\t\\t\\t\\t\\t\\t\\t\\t\\t\\t<span>경기도 안양시 동안구 엘에스로 127 1층</span>\\n\\t\\t\\t\\t\\t\\t\\t\\t\\t\\t\\t<!--span class=\"lot\">서울특별시 강남구 신사동 633-4</span-->\\n\\t\\t\\t\\t\\t\\t\\t\\t\\t\\t</p>\\n\\t\\t\\t\\t\\t\\t\\t\\t\\t\\t<p class=\"tel\"><a href=\"tel:031-429-9650\">031-429-9650</a></p>\\n\\t\\t\\t\\t\\t\\t\\t\\t\\t</div>\\n\\t\\t\\t\\t\\t\\t\\t\\t</li>\\n\\n\\t\\t\\t\\t\\t\\t\\t\\t<li data-name=\"명동거리점\" data-addr=\"서울시 중구 명동 10길 52 명동역 신한은행 사옥 1층\" data-sort=\"13\" data-lat=\"37.5614599246316\" data-lng=\"126.985707093498\" data-no=\"372\" data-tel=\"02-522-7158\">\\n\\n\\t\\t\\t\\t\\t\\t\\t\\t\\t<div class=\"num\">13</div>\\n\\t\\t\\t\\t\\t\\t\\t\\t\\t<div class=\"store_txt\">\\n\\t\\t\\t\\t\\t\\t\\t\\t\\t\\t<p class=\"name\">\\n\\t\\t\\t\\t\\t\\t\\t\\t\\t\\t\\t<span>명동거리점 <!--strong class=\"distance\">999m</strong--></span><!-- 2016-04-11 거리 추가 -->\\n\\t\\t\\t\\t\\t\\t\\t\\t\\t\\t\\t<a href=\"javascript:storePop2(\\'372\\');\" class=\"btn_style6\">자세히보기</a>\\n\\t\\t\\t\\t\\t\\t\\t\\t\\t\\t</p>\\n\\t\\t\\t\\t\\t\\t\\t\\t\\t\\t<p class=\"tag\">\\n<span class=\"decaf\" title=\"디카페인\">디카페인</span><span class=\"soy\" title=\"두유\">두유</span><span class=\"wifi\" title=\"와이파이\">와이파이</span><span class=\"capsule\" title=\"캡슐판매\">캡슐판매</span><span class=\"cake\" title=\"케익수령\">케익수령</span><span class=\"hallcake\" title=\"홀케익\">홀케익</span>\\n\\t\\t\\t\\t\\t\\t\\t\\t\\t\\t</p>\\n\\t\\t\\t\\t\\t\\t\\t\\t\\t\\t<p class=\"address\">\\n\\t\\t\\t\\t\\t\\t\\t\\t\\t\\t\\t<span>서울시 중구 명동 10길 52 명동역 신한은행 사옥 1층</span>\\n\\t\\t\\t\\t\\t\\t\\t\\t\\t\\t\\t<!--span class=\"lot\">서울특별시 강남구 신사동 633-4</span-->\\n\\t\\t\\t\\t\\t\\t\\t\\t\\t\\t</p>\\n\\t\\t\\t\\t\\t\\t\\t\\t\\t\\t<p class=\"tel\"><a href=\"tel:02-522-7158\">02-522-7158</a></p>\\n\\t\\t\\t\\t\\t\\t\\t\\t\\t</div>\\n\\t\\t\\t\\t\\t\\t\\t\\t</li>\\n\\n\\t\\t\\t\\t\\t\\t\\t\\t<li data-name=\"용인에버랜드점\" data-addr=\"경기도 용인시 처인구 포곡읍 가실리 156-1 (파크내 홀랜드빌리지 옆 암스테르담)\" data-sort=\"14\" data-lat=\"37.2903638439839\" data-lng=\"127.200511081391\" data-no=\"371\" data-tel=\"031-334-0556\">\\n\\n\\t\\t\\t\\t\\t\\t\\t\\t\\t<div class=\"num\">14</div>\\n\\t\\t\\t\\t\\t\\t\\t\\t\\t<div class=\"store_txt\">\\n\\t\\t\\t\\t\\t\\t\\t\\t\\t\\t<p class=\"name\">\\n\\t\\t\\t\\t\\t\\t\\t\\t\\t\\t\\t<span>용인에버랜드점 <!--strong class=\"distance\">999m</strong--></span><!-- 2016-04-11 거리 추가 -->\\n\\t\\t\\t\\t\\t\\t\\t\\t\\t\\t\\t<a href=\"javascript:storePop2(\\'371\\');\" class=\"btn_style6\">자세히보기</a>\\n\\t\\t\\t\\t\\t\\t\\t\\t\\t\\t</p>\\n\\t\\t\\t\\t\\t\\t\\t\\t\\t\\t<p class=\"tag\">\\n<span class=\"decaf\" title=\"디카페인\">디카페인</span><span class=\"soy\" title=\"두유\">두유</span><span class=\"wifi\" title=\"와이파이\">와이파이</span>\\n\\t\\t\\t\\t\\t\\t\\t\\t\\t\\t</p>\\n\\t\\t\\t\\t\\t\\t\\t\\t\\t\\t<p class=\"address\">\\n\\t\\t\\t\\t\\t\\t\\t\\t\\t\\t\\t<span>경기도 용인시 처인구 포곡읍 가실리 156-1 (파크내 홀랜드빌리지 옆 암스테르담)</span>\\n\\t\\t\\t\\t\\t\\t\\t\\t\\t\\t\\t<!--span class=\"lot\">서울특별시 강남구 신사동 633-4</span-->\\n\\t\\t\\t\\t\\t\\t\\t\\t\\t\\t</p>\\n\\t\\t\\t\\t\\t\\t\\t\\t\\t\\t<p class=\"tel\"><a href=\"tel:031-334-0556\">031-334-0556</a></p>\\n\\t\\t\\t\\t\\t\\t\\t\\t\\t</div>\\n\\t\\t\\t\\t\\t\\t\\t\\t</li>\\n\\n\\t\\t\\t\\t\\t\\t\\t\\t<li data-name=\"혜화역점\" data-addr=\"서울시 종로구 대명길 5\" data-sort=\"15\" data-lat=\"37.5835220981147\" data-lng=\"127.001154914843\" data-no=\"370\" data-tel=\"02-745-9471\">\\n\\n\\t\\t\\t\\t\\t\\t\\t\\t\\t<div class=\"num\">15</div>\\n\\t\\t\\t\\t\\t\\t\\t\\t\\t<div class=\"store_txt\">\\n\\t\\t\\t\\t\\t\\t\\t\\t\\t\\t<p class=\"name\">\\n\\t\\t\\t\\t\\t\\t\\t\\t\\t\\t\\t<span>혜화역점 <!--strong class=\"distance\">999m</strong--></span><!-- 2016-04-11 거리 추가 -->\\n\\t\\t\\t\\t\\t\\t\\t\\t\\t\\t\\t<a href=\"javascript:storePop2(\\'370\\');\" class=\"btn_style6\">자세히보기</a>\\n\\t\\t\\t\\t\\t\\t\\t\\t\\t\\t</p>\\n\\t\\t\\t\\t\\t\\t\\t\\t\\t\\t<p class=\"tag\">\\n<span class=\"decaf\" title=\"디카페인\">디카페인</span><span class=\"wifi\" title=\"와이파이\">와이파이</span><span class=\"cake\" title=\"케익수령\">케익수령</span>\\n\\t\\t\\t\\t\\t\\t\\t\\t\\t\\t</p>\\n\\t\\t\\t\\t\\t\\t\\t\\t\\t\\t<p class=\"address\">\\n\\t\\t\\t\\t\\t\\t\\t\\t\\t\\t\\t<span>서울시 종로구 대명길 5</span>\\n\\t\\t\\t\\t\\t\\t\\t\\t\\t\\t\\t<!--span class=\"lot\">서울특별시 강남구 신사동 633-4</span-->\\n\\t\\t\\t\\t\\t\\t\\t\\t\\t\\t</p>\\n\\t\\t\\t\\t\\t\\t\\t\\t\\t\\t<p class=\"tel\"><a href=\"tel:02-745-9471\">02-745-9471</a></p>\\n\\t\\t\\t\\t\\t\\t\\t\\t\\t</div>\\n\\t\\t\\t\\t\\t\\t\\t\\t</li>\\n\\n\\t\\t\\t\\t\\t\\t\\t\\t<li data-name=\"제주아라점\" data-addr=\"제주도 제주시 연북로 511\" data-sort=\"16\" data-lat=\"33.4844445262988\" data-lng=\"126.534540530554\" data-no=\"369\" data-tel=\"064-758-1194\">\\n\\n\\t\\t\\t\\t\\t\\t\\t\\t\\t<div class=\"num\">16</div>\\n\\t\\t\\t\\t\\t\\t\\t\\t\\t<div class=\"store_txt\">\\n\\t\\t\\t\\t\\t\\t\\t\\t\\t\\t<p class=\"name\">\\n\\t\\t\\t\\t\\t\\t\\t\\t\\t\\t\\t<span>제주아라점 <!--strong class=\"distance\">999m</strong--></span><!-- 2016-04-11 거리 추가 -->\\n\\t\\t\\t\\t\\t\\t\\t\\t\\t\\t\\t<a href=\"javascript:storePop2(\\'369\\');\" class=\"btn_style6\">자세히보기</a>\\n\\t\\t\\t\\t\\t\\t\\t\\t\\t\\t</p>\\n\\t\\t\\t\\t\\t\\t\\t\\t\\t\\t<p class=\"tag\">\\n<span class=\"decaf\" title=\"디카페인\">디카페인</span><span class=\"soy\" title=\"두유\">두유</span><span class=\"parking\" title=\"주차가능\">주차가능</span><span class=\"wifi\" title=\"와이파이\">와이파이</span>\\n\\t\\t\\t\\t\\t\\t\\t\\t\\t\\t</p>\\n\\t\\t\\t\\t\\t\\t\\t\\t\\t\\t<p class=\"address\">\\n\\t\\t\\t\\t\\t\\t\\t\\t\\t\\t\\t<span>제주도 제주시 연북로 511</span>\\n\\t\\t\\t\\t\\t\\t\\t\\t\\t\\t\\t<!--span class=\"lot\">서울특별시 강남구 신사동 633-4</span-->\\n\\t\\t\\t\\t\\t\\t\\t\\t\\t\\t</p>\\n\\t\\t\\t\\t\\t\\t\\t\\t\\t\\t<p class=\"tel\"><a href=\"tel:064-758-1194\">064-758-1194</a></p>\\n\\t\\t\\t\\t\\t\\t\\t\\t\\t</div>\\n\\t\\t\\t\\t\\t\\t\\t\\t</li>\\n\\n\\t\\t\\t\\t\\t\\t\\t\\t<li data-name=\"천안신부동점\" data-addr=\"충남 천안시 동남구 만남로 48\" data-sort=\"17\" data-lat=\"36.8186072282216\" data-lng=\"127.157387077254\" data-no=\"368\" data-tel=\"041-566-0718\">\\n\\n\\t\\t\\t\\t\\t\\t\\t\\t\\t<div class=\"num\">17</div>\\n\\t\\t\\t\\t\\t\\t\\t\\t\\t<div class=\"store_txt\">\\n\\t\\t\\t\\t\\t\\t\\t\\t\\t\\t<p class=\"name\">\\n\\t\\t\\t\\t\\t\\t\\t\\t\\t\\t\\t<span>천안신부동점 <!--strong class=\"distance\">999m</strong--></span><!-- 2016-04-11 거리 추가 -->\\n\\t\\t\\t\\t\\t\\t\\t\\t\\t\\t\\t<a href=\"javascript:storePop2(\\'368\\');\" class=\"btn_style6\">자세히보기</a>\\n\\t\\t\\t\\t\\t\\t\\t\\t\\t\\t</p>\\n\\t\\t\\t\\t\\t\\t\\t\\t\\t\\t<p class=\"tag\">\\n<span class=\"decaf\" title=\"디카페인\">디카페인</span><span class=\"soy\" title=\"두유\">두유</span><span class=\"wifi\" title=\"와이파이\">와이파이</span><span class=\"cake\" title=\"케익수령\">케익수령</span><span class=\"hallcake\" title=\"홀케익\">홀케익</span>\\n\\t\\t\\t\\t\\t\\t\\t\\t\\t\\t</p>\\n\\t\\t\\t\\t\\t\\t\\t\\t\\t\\t<p class=\"address\">\\n\\t\\t\\t\\t\\t\\t\\t\\t\\t\\t\\t<span>충남 천안시 동남구 만남로 48</span>\\n\\t\\t\\t\\t\\t\\t\\t\\t\\t\\t\\t<!--span class=\"lot\">서울특별시 강남구 신사동 633-4</span-->\\n\\t\\t\\t\\t\\t\\t\\t\\t\\t\\t</p>\\n\\t\\t\\t\\t\\t\\t\\t\\t\\t\\t<p class=\"tel\"><a href=\"tel:041-566-0718\">041-566-0718</a></p>\\n\\t\\t\\t\\t\\t\\t\\t\\t\\t</div>\\n\\t\\t\\t\\t\\t\\t\\t\\t</li>\\n\\n\\t\\t\\t\\t\\t\\t\\t\\t<li data-name=\"부산중앙역점\" data-addr=\"부산광역시 중구 중앙대로 102 팬오션빌딩 1F\" data-sort=\"18\" data-lat=\"35.1067181869781\" data-lng=\"129.036529466282\" data-no=\"367\" data-tel=\"051-466-8856\">\\n\\n\\t\\t\\t\\t\\t\\t\\t\\t\\t<div class=\"num\">18</div>\\n\\t\\t\\t\\t\\t\\t\\t\\t\\t<div class=\"store_txt\">\\n\\t\\t\\t\\t\\t\\t\\t\\t\\t\\t<p class=\"name\">\\n\\t\\t\\t\\t\\t\\t\\t\\t\\t\\t\\t<span>부산중앙역점 <!--strong class=\"distance\">999m</strong--></span><!-- 2016-04-11 거리 추가 -->\\n\\t\\t\\t\\t\\t\\t\\t\\t\\t\\t\\t<a href=\"javascript:storePop2(\\'367\\');\" class=\"btn_style6\">자세히보기</a>\\n\\t\\t\\t\\t\\t\\t\\t\\t\\t\\t</p>\\n\\t\\t\\t\\t\\t\\t\\t\\t\\t\\t<p class=\"tag\">\\n<span class=\"decaf\" title=\"디카페인\">디카페인</span><span class=\"soy\" title=\"두유\">두유</span><span class=\"parking\" title=\"주차가능\">주차가능</span><span class=\"wifi\" title=\"와이파이\">와이파이</span><span class=\"smoking\" title=\"흡연가능\">흡연가능</span><span class=\"cake\" title=\"케익수령\">케익수령</span><span class=\"hallcake\" title=\"홀케익\">홀케익</span>\\n\\t\\t\\t\\t\\t\\t\\t\\t\\t\\t</p>\\n\\t\\t\\t\\t\\t\\t\\t\\t\\t\\t<p class=\"address\">\\n\\t\\t\\t\\t\\t\\t\\t\\t\\t\\t\\t<span>부산광역시 중구 중앙대로 102 팬오션빌딩 1F</span>\\n\\t\\t\\t\\t\\t\\t\\t\\t\\t\\t\\t<!--span class=\"lot\">서울특별시 강남구 신사동 633-4</span-->\\n\\t\\t\\t\\t\\t\\t\\t\\t\\t\\t</p>\\n\\t\\t\\t\\t\\t\\t\\t\\t\\t\\t<p class=\"tel\"><a href=\"tel:051-466-8856\">051-466-8856</a></p>\\n\\t\\t\\t\\t\\t\\t\\t\\t\\t</div>\\n\\t\\t\\t\\t\\t\\t\\t\\t</li>\\n\\n\\t\\t\\t\\t\\t\\t\\t\\t<li data-name=\"용인역북점\" data-addr=\"경기도 용인시 처인구 역북동 598-7 \" data-sort=\"19\" data-lat=\"37.2296433007508\" data-lng=\"127.188439781762\" data-no=\"366\" data-tel=\"031-323-6886\">\\n\\n\\t\\t\\t\\t\\t\\t\\t\\t\\t<div class=\"num\">19</div>\\n\\t\\t\\t\\t\\t\\t\\t\\t\\t<div class=\"store_txt\">\\n\\t\\t\\t\\t\\t\\t\\t\\t\\t\\t<p class=\"name\">\\n\\t\\t\\t\\t\\t\\t\\t\\t\\t\\t\\t<span>용인역북점 <!--strong class=\"distance\">999m</strong--></span><!-- 2016-04-11 거리 추가 -->\\n\\t\\t\\t\\t\\t\\t\\t\\t\\t\\t\\t<a href=\"javascript:storePop2(\\'366\\');\" class=\"btn_style6\">자세히보기</a>\\n\\t\\t\\t\\t\\t\\t\\t\\t\\t\\t</p>\\n\\t\\t\\t\\t\\t\\t\\t\\t\\t\\t<p class=\"tag\">\\n<span class=\"decaf\" title=\"디카페인\">디카페인</span><span class=\"soy\" title=\"두유\">두유</span><span class=\"parking\" title=\"주차가능\">주차가능</span><span class=\"wifi\" title=\"와이파이\">와이파이</span><span class=\"cake\" title=\"케익수령\">케익수령</span><span class=\"hallcake\" title=\"홀케익\">홀케익</span>\\n\\t\\t\\t\\t\\t\\t\\t\\t\\t\\t</p>\\n\\t\\t\\t\\t\\t\\t\\t\\t\\t\\t<p class=\"address\">\\n\\t\\t\\t\\t\\t\\t\\t\\t\\t\\t\\t<span>경기도 용인시 처인구 역북동 598-7 </span>\\n\\t\\t\\t\\t\\t\\t\\t\\t\\t\\t\\t<!--span class=\"lot\">서울특별시 강남구 신사동 633-4</span-->\\n\\t\\t\\t\\t\\t\\t\\t\\t\\t\\t</p>\\n\\t\\t\\t\\t\\t\\t\\t\\t\\t\\t<p class=\"tel\"><a href=\"tel:031-323-6886\">031-323-6886</a></p>\\n\\t\\t\\t\\t\\t\\t\\t\\t\\t</div>\\n\\t\\t\\t\\t\\t\\t\\t\\t</li>\\n\\n\\t\\t\\t\\t\\t\\t\\t\\t<li data-name=\"부산화명수정역점\" data-addr=\"부산광역시 북구 학사로 8  (화명동 2312), 크리스탈타워 2층 201~202호\" data-sort=\"20\" data-lat=\"35.2240810071698\" data-lng=\"129.008755219018\" data-no=\"365\" data-tel=\"051-361-3370\">\\n\\n\\t\\t\\t\\t\\t\\t\\t\\t\\t<div class=\"num\">20</div>\\n\\t\\t\\t\\t\\t\\t\\t\\t\\t<div class=\"store_txt\">\\n\\t\\t\\t\\t\\t\\t\\t\\t\\t\\t<p class=\"name\">\\n\\t\\t\\t\\t\\t\\t\\t\\t\\t\\t\\t<span>부산화명수정역점 <!--strong class=\"distance\">999m</strong--></span><!-- 2016-04-11 거리 추가 -->\\n\\t\\t\\t\\t\\t\\t\\t\\t\\t\\t\\t<a href=\"javascript:storePop2(\\'365\\');\" class=\"btn_style6\">자세히보기</a>\\n\\t\\t\\t\\t\\t\\t\\t\\t\\t\\t</p>\\n\\t\\t\\t\\t\\t\\t\\t\\t\\t\\t<p class=\"tag\">\\n<span class=\"decaf\" title=\"디카페인\">디카페인</span><span class=\"soy\" title=\"두유\">두유</span><span class=\"parking\" title=\"주차가능\">주차가능</span><span class=\"wifi\" title=\"와이파이\">와이파이</span><span class=\"cake\" title=\"케익수령\">케익수령</span><span class=\"pet\" title=\"반려동물\">반려동물</span><span class=\"hallcake\" title=\"홀케익\">홀케익</span>\\n\\t\\t\\t\\t\\t\\t\\t\\t\\t\\t</p>\\n\\t\\t\\t\\t\\t\\t\\t\\t\\t\\t<p class=\"address\">\\n\\t\\t\\t\\t\\t\\t\\t\\t\\t\\t\\t<span>부산광역시 북구 학사로 8  (화명동 2312), 크리스탈타워 2층 201~202호</span>\\n\\t\\t\\t\\t\\t\\t\\t\\t\\t\\t\\t<!--span class=\"lot\">서울특별시 강남구 신사동 633-4</span-->\\n\\t\\t\\t\\t\\t\\t\\t\\t\\t\\t</p>\\n\\t\\t\\t\\t\\t\\t\\t\\t\\t\\t<p class=\"tel\"><a href=\"tel:051-361-3370\">051-361-3370</a></p>\\n\\t\\t\\t\\t\\t\\t\\t\\t\\t</div>\\n\\t\\t\\t\\t\\t\\t\\t\\t</li>\\n\\n\\t\\t\\t\\t\\t\\t\\t\\t<li data-name=\"일산동구청점\" data-addr=\"경기도 고양시 일산동구 정발산로 38\" data-sort=\"21\" data-lat=\"37.6567152545134\" data-lng=\"126.773131388502\" data-no=\"364\" data-tel=\"031-903-3989\">\\n\\n\\t\\t\\t\\t\\t\\t\\t\\t\\t<div class=\"num\">21</div>\\n\\t\\t\\t\\t\\t\\t\\t\\t\\t<div class=\"store_txt\">\\n\\t\\t\\t\\t\\t\\t\\t\\t\\t\\t<p class=\"name\">\\n\\t\\t\\t\\t\\t\\t\\t\\t\\t\\t\\t<span>일산동구청점 <!--strong class=\"distance\">999m</strong--></span><!-- 2016-04-11 거리 추가 -->\\n\\t\\t\\t\\t\\t\\t\\t\\t\\t\\t\\t<a href=\"javascript:storePop2(\\'364\\');\" class=\"btn_style6\">자세히보기</a>\\n\\t\\t\\t\\t\\t\\t\\t\\t\\t\\t</p>\\n\\t\\t\\t\\t\\t\\t\\t\\t\\t\\t<p class=\"tag\">\\n<span class=\"decaf\" title=\"디카페인\">디카페인</span><span class=\"soy\" title=\"두유\">두유</span><span class=\"parking\" title=\"주차가능\">주차가능</span><span class=\"wifi\" title=\"와이파이\">와이파이</span><span class=\"cake\" title=\"케익수령\">케익수령</span><span class=\"hallcake\" title=\"홀케익\">홀케익</span>\\n\\t\\t\\t\\t\\t\\t\\t\\t\\t\\t</p>\\n\\t\\t\\t\\t\\t\\t\\t\\t\\t\\t<p class=\"address\">\\n\\t\\t\\t\\t\\t\\t\\t\\t\\t\\t\\t<span>경기도 고양시 일산동구 정발산로 38</span>\\n\\t\\t\\t\\t\\t\\t\\t\\t\\t\\t\\t<!--span class=\"lot\">서울특별시 강남구 신사동 633-4</span-->\\n\\t\\t\\t\\t\\t\\t\\t\\t\\t\\t</p>\\n\\t\\t\\t\\t\\t\\t\\t\\t\\t\\t<p class=\"tel\"><a href=\"tel:031-903-3989\">031-903-3989</a></p>\\n\\t\\t\\t\\t\\t\\t\\t\\t\\t</div>\\n\\t\\t\\t\\t\\t\\t\\t\\t</li>\\n\\n\\t\\t\\t\\t\\t\\t\\t\\t<li data-name=\"서초중앙로점\" data-addr=\"서울시 서초구 서초중앙로 209, 해성빌딩 1층\" data-sort=\"22\" data-lat=\"37.5003183328671\" data-lng=\"127.011825492621\" data-no=\"363\" data-tel=\"02-537-2992\">\\n\\n\\t\\t\\t\\t\\t\\t\\t\\t\\t<div class=\"num\">22</div>\\n\\t\\t\\t\\t\\t\\t\\t\\t\\t<div class=\"store_txt\">\\n\\t\\t\\t\\t\\t\\t\\t\\t\\t\\t<p class=\"name\">\\n\\t\\t\\t\\t\\t\\t\\t\\t\\t\\t\\t<span>서초중앙로점 <!--strong class=\"distance\">999m</strong--></span><!-- 2016-04-11 거리 추가 -->\\n\\t\\t\\t\\t\\t\\t\\t\\t\\t\\t\\t<a href=\"javascript:storePop2(\\'363\\');\" class=\"btn_style6\">자세히보기</a>\\n\\t\\t\\t\\t\\t\\t\\t\\t\\t\\t</p>\\n\\t\\t\\t\\t\\t\\t\\t\\t\\t\\t<p class=\"tag\">\\n<span class=\"decaf\" title=\"디카페인\">디카페인</span><span class=\"wifi\" title=\"와이파이\">와이파이</span><span class=\"cake\" title=\"케익수령\">케익수령</span>\\n\\t\\t\\t\\t\\t\\t\\t\\t\\t\\t</p>\\n\\t\\t\\t\\t\\t\\t\\t\\t\\t\\t<p class=\"address\">\\n\\t\\t\\t\\t\\t\\t\\t\\t\\t\\t\\t<span>서울시 서초구 서초중앙로 209, 해성빌딩 1층</span>\\n\\t\\t\\t\\t\\t\\t\\t\\t\\t\\t\\t<!--span class=\"lot\">서울특별시 강남구 신사동 633-4</span-->\\n\\t\\t\\t\\t\\t\\t\\t\\t\\t\\t</p>\\n\\t\\t\\t\\t\\t\\t\\t\\t\\t\\t<p class=\"tel\"><a href=\"tel:02-537-2992\">02-537-2992</a></p>\\n\\t\\t\\t\\t\\t\\t\\t\\t\\t</div>\\n\\t\\t\\t\\t\\t\\t\\t\\t</li>\\n\\n\\t\\t\\t\\t\\t\\t\\t\\t<li data-name=\"청계천을지로점\" data-addr=\"서울 중구 남대문로10길 33 1F\" data-sort=\"23\" data-lat=\"37.5678035976862\" data-lng=\"126.984507517226\" data-no=\"362\" data-tel=\"02-723-1771\">\\n\\n\\t\\t\\t\\t\\t\\t\\t\\t\\t<div class=\"num\">23</div>\\n\\t\\t\\t\\t\\t\\t\\t\\t\\t<div class=\"store_txt\">\\n\\t\\t\\t\\t\\t\\t\\t\\t\\t\\t<p class=\"name\">\\n\\t\\t\\t\\t\\t\\t\\t\\t\\t\\t\\t<span>청계천을지로점 <!--strong class=\"distance\">999m</strong--></span><!-- 2016-04-11 거리 추가 -->\\n\\t\\t\\t\\t\\t\\t\\t\\t\\t\\t\\t<a href=\"javascript:storePop2(\\'362\\');\" class=\"btn_style6\">자세히보기</a>\\n\\t\\t\\t\\t\\t\\t\\t\\t\\t\\t</p>\\n\\t\\t\\t\\t\\t\\t\\t\\t\\t\\t<p class=\"tag\">\\n<span class=\"decaf\" title=\"디카페인\">디카페인</span><span class=\"soy\" title=\"두유\">두유</span><span class=\"wifi\" title=\"와이파이\">와이파이</span><span class=\"cake\" title=\"케익수령\">케익수령</span><span class=\"hallcake\" title=\"홀케익\">홀케익</span>\\n\\t\\t\\t\\t\\t\\t\\t\\t\\t\\t</p>\\n\\t\\t\\t\\t\\t\\t\\t\\t\\t\\t<p class=\"address\">\\n\\t\\t\\t\\t\\t\\t\\t\\t\\t\\t\\t<span>서울 중구 남대문로10길 33 1F</span>\\n\\t\\t\\t\\t\\t\\t\\t\\t\\t\\t\\t<!--span class=\"lot\">서울특별시 강남구 신사동 633-4</span-->\\n\\t\\t\\t\\t\\t\\t\\t\\t\\t\\t</p>\\n\\t\\t\\t\\t\\t\\t\\t\\t\\t\\t<p class=\"tel\"><a href=\"tel:02-723-1771\">02-723-1771</a></p>\\n\\t\\t\\t\\t\\t\\t\\t\\t\\t</div>\\n\\t\\t\\t\\t\\t\\t\\t\\t</li>\\n\\n\\t\\t\\t\\t\\t\\t\\t\\t<li data-name=\"송파헬리오시티점\" data-addr=\"서울시 송파구 송파대로 345 ( 헬리오시티상가 3블럭 A동 B1층 22호 )\" data-sort=\"24\" data-lat=\"37.4976145695004\" data-lng=\"127.102531804188\" data-no=\"361\" data-tel=\"02-777-3363\">\\n\\n\\t\\t\\t\\t\\t\\t\\t\\t\\t<div class=\"num\">24</div>\\n\\t\\t\\t\\t\\t\\t\\t\\t\\t<div class=\"store_txt\">\\n\\t\\t\\t\\t\\t\\t\\t\\t\\t\\t<p class=\"name\">\\n\\t\\t\\t\\t\\t\\t\\t\\t\\t\\t\\t<span>송파헬리오시티점 <!--strong class=\"distance\">999m</strong--></span><!-- 2016-04-11 거리 추가 -->\\n\\t\\t\\t\\t\\t\\t\\t\\t\\t\\t\\t<a href=\"javascript:storePop2(\\'361\\');\" class=\"btn_style6\">자세히보기</a>\\n\\t\\t\\t\\t\\t\\t\\t\\t\\t\\t</p>\\n\\t\\t\\t\\t\\t\\t\\t\\t\\t\\t<p class=\"tag\">\\n<span class=\"decaf\" title=\"디카페인\">디카페인</span><span class=\"soy\" title=\"두유\">두유</span><span class=\"wifi\" title=\"와이파이\">와이파이</span><span class=\"cake\" title=\"케익수령\">케익수령</span><span class=\"pet\" title=\"반려동물\">반려동물</span><span class=\"hallcake\" title=\"홀케익\">홀케익</span>\\n\\t\\t\\t\\t\\t\\t\\t\\t\\t\\t</p>\\n\\t\\t\\t\\t\\t\\t\\t\\t\\t\\t<p class=\"address\">\\n\\t\\t\\t\\t\\t\\t\\t\\t\\t\\t\\t<span>서울시 송파구 송파대로 345 ( 헬리오시티상가 3블럭 A동 B1층 22호 )</span>\\n\\t\\t\\t\\t\\t\\t\\t\\t\\t\\t\\t<!--span class=\"lot\">서울특별시 강남구 신사동 633-4</span-->\\n\\t\\t\\t\\t\\t\\t\\t\\t\\t\\t</p>\\n\\t\\t\\t\\t\\t\\t\\t\\t\\t\\t<p class=\"tel\"><a href=\"tel:02-777-3363\">02-777-3363</a></p>\\n\\t\\t\\t\\t\\t\\t\\t\\t\\t</div>\\n\\t\\t\\t\\t\\t\\t\\t\\t</li>\\n\\n\\t\\t\\t\\t\\t\\t\\t\\t<li data-name=\"수서역원방빌딩점\" data-addr=\"서울 강남구 광평로 51길 6-23 원방테크사옥 1층\" data-sort=\"25\" data-lat=\"37.4887766507842\" data-lng=\"127.104115178497\" data-no=\"360\" data-tel=\"02-3473-3830\">\\n\\n\\t\\t\\t\\t\\t\\t\\t\\t\\t<div class=\"num\">25</div>\\n\\t\\t\\t\\t\\t\\t\\t\\t\\t<div class=\"store_txt\">\\n\\t\\t\\t\\t\\t\\t\\t\\t\\t\\t<p class=\"name\">\\n\\t\\t\\t\\t\\t\\t\\t\\t\\t\\t\\t<span>수서역원방빌딩점 <!--strong class=\"distance\">999m</strong--></span><!-- 2016-04-11 거리 추가 -->\\n\\t\\t\\t\\t\\t\\t\\t\\t\\t\\t\\t<a href=\"javascript:storePop2(\\'360\\');\" class=\"btn_style6\">자세히보기</a>\\n\\t\\t\\t\\t\\t\\t\\t\\t\\t\\t</p>\\n\\t\\t\\t\\t\\t\\t\\t\\t\\t\\t<p class=\"tag\">\\n<span class=\"decaf\" title=\"디카페인\">디카페인</span><span class=\"soy\" title=\"두유\">두유</span><span class=\"wifi\" title=\"와이파이\">와이파이</span><span class=\"capsule\" title=\"캡슐판매\">캡슐판매</span><span class=\"cake\" title=\"케익수령\">케익수령</span><span class=\"delevery\" title=\"딜리버리\">딜리버리</span>\\n\\t\\t\\t\\t\\t\\t\\t\\t\\t\\t</p>\\n\\t\\t\\t\\t\\t\\t\\t\\t\\t\\t<p class=\"address\">\\n\\t\\t\\t\\t\\t\\t\\t\\t\\t\\t\\t<span>서울 강남구 광평로 51길 6-23 원방테크사옥 1층</span>\\n\\t\\t\\t\\t\\t\\t\\t\\t\\t\\t\\t<!--span class=\"lot\">서울특별시 강남구 신사동 633-4</span-->\\n\\t\\t\\t\\t\\t\\t\\t\\t\\t\\t</p>\\n\\t\\t\\t\\t\\t\\t\\t\\t\\t\\t<p class=\"tel\"><a href=\"tel:02-3473-3830\">02-3473-3830</a></p>\\n\\t\\t\\t\\t\\t\\t\\t\\t\\t</div>\\n\\t\\t\\t\\t\\t\\t\\t\\t</li>\\n\\n\\t\\t\\t\\t\\t\\t\\t\\t<li data-name=\"KB국민은행노원역점\" data-addr=\"서울시 노원구 동일로 1405, 1층 일부\" data-sort=\"26\" data-lat=\"37.6538310278932\" data-lng=\"127.06017787506\" data-no=\"359\" data-tel=\"02-930-9486\">\\n\\n\\t\\t\\t\\t\\t\\t\\t\\t\\t<div class=\"num\">26</div>\\n\\t\\t\\t\\t\\t\\t\\t\\t\\t<div class=\"store_txt\">\\n\\t\\t\\t\\t\\t\\t\\t\\t\\t\\t<p class=\"name\">\\n\\t\\t\\t\\t\\t\\t\\t\\t\\t\\t\\t<span>KB국민은행노원역점 <!--strong class=\"distance\">999m</strong--></span><!-- 2016-04-11 거리 추가 -->\\n\\t\\t\\t\\t\\t\\t\\t\\t\\t\\t\\t<a href=\"javascript:storePop2(\\'359\\');\" class=\"btn_style6\">자세히보기</a>\\n\\t\\t\\t\\t\\t\\t\\t\\t\\t\\t</p>\\n\\t\\t\\t\\t\\t\\t\\t\\t\\t\\t<p class=\"tag\">\\n<span class=\"decaf\" title=\"디카페인\">디카페인</span><span class=\"soy\" title=\"두유\">두유</span><span class=\"wifi\" title=\"와이파이\">와이파이</span><span class=\"cake\" title=\"케익수령\">케익수령</span>\\n\\t\\t\\t\\t\\t\\t\\t\\t\\t\\t</p>\\n\\t\\t\\t\\t\\t\\t\\t\\t\\t\\t<p class=\"address\">\\n\\t\\t\\t\\t\\t\\t\\t\\t\\t\\t\\t<span>서울시 노원구 동일로 1405, 1층 일부</span>\\n\\t\\t\\t\\t\\t\\t\\t\\t\\t\\t\\t<!--span class=\"lot\">서울특별시 강남구 신사동 633-4</span-->\\n\\t\\t\\t\\t\\t\\t\\t\\t\\t\\t</p>\\n\\t\\t\\t\\t\\t\\t\\t\\t\\t\\t<p class=\"tel\"><a href=\"tel:02-930-9486\">02-930-9486</a></p>\\n\\t\\t\\t\\t\\t\\t\\t\\t\\t</div>\\n\\t\\t\\t\\t\\t\\t\\t\\t</li>\\n\\n\\t\\t\\t\\t\\t\\t\\t\\t<li data-name=\"광주봉선점\" data-addr=\"광주광역시 남구 봉선로 168\" data-sort=\"27\" data-lat=\"35.1228180748073\" data-lng=\"126.913660839041\" data-no=\"358\" data-tel=\"062-671-3371\">\\n\\n\\t\\t\\t\\t\\t\\t\\t\\t\\t<div class=\"num\">27</div>\\n\\t\\t\\t\\t\\t\\t\\t\\t\\t<div class=\"store_txt\">\\n\\t\\t\\t\\t\\t\\t\\t\\t\\t\\t<p class=\"name\">\\n\\t\\t\\t\\t\\t\\t\\t\\t\\t\\t\\t<span>광주봉선점 <!--strong class=\"distance\">999m</strong--></span><!-- 2016-04-11 거리 추가 -->\\n\\t\\t\\t\\t\\t\\t\\t\\t\\t\\t\\t<a href=\"javascript:storePop2(\\'358\\');\" class=\"btn_style6\">자세히보기</a>\\n\\t\\t\\t\\t\\t\\t\\t\\t\\t\\t</p>\\n\\t\\t\\t\\t\\t\\t\\t\\t\\t\\t<p class=\"tag\">\\n<span class=\"decaf\" title=\"디카페인\">디카페인</span><span class=\"soy\" title=\"두유\">두유</span><span class=\"parking\" title=\"주차가능\">주차가능</span><span class=\"wifi\" title=\"와이파이\">와이파이</span><span class=\"cake\" title=\"케익수령\">케익수령</span><span class=\"hallcake\" title=\"홀케익\">홀케익</span>\\n\\t\\t\\t\\t\\t\\t\\t\\t\\t\\t</p>\\n\\t\\t\\t\\t\\t\\t\\t\\t\\t\\t<p class=\"address\">\\n\\t\\t\\t\\t\\t\\t\\t\\t\\t\\t\\t<span>광주광역시 남구 봉선로 168</span>\\n\\t\\t\\t\\t\\t\\t\\t\\t\\t\\t\\t<!--span class=\"lot\">서울특별시 강남구 신사동 633-4</span-->\\n\\t\\t\\t\\t\\t\\t\\t\\t\\t\\t</p>\\n\\t\\t\\t\\t\\t\\t\\t\\t\\t\\t<p class=\"tel\"><a href=\"tel:062-671-3371\">062-671-3371</a></p>\\n\\t\\t\\t\\t\\t\\t\\t\\t\\t</div>\\n\\t\\t\\t\\t\\t\\t\\t\\t</li>\\n\\n\\t\\t\\t\\t\\t\\t\\t\\t<li data-name=\"이태원몬드리안호텔점\" data-addr=\"서울시 용산구 장문로 23 몬드리안 서울 이태원호텔 101호\" data-sort=\"28\" data-lat=\"37.5285655568387\" data-lng=\"126.993107501389\" data-no=\"357\" data-tel=\"02-3775-0548\">\\n\\n\\t\\t\\t\\t\\t\\t\\t\\t\\t<div class=\"num\">28</div>\\n\\t\\t\\t\\t\\t\\t\\t\\t\\t<div class=\"store_txt\">\\n\\t\\t\\t\\t\\t\\t\\t\\t\\t\\t<p class=\"name\">\\n\\t\\t\\t\\t\\t\\t\\t\\t\\t\\t\\t<span>이태원몬드리안호텔점 <!--strong class=\"distance\">999m</strong--></span><!-- 2016-04-11 거리 추가 -->\\n\\t\\t\\t\\t\\t\\t\\t\\t\\t\\t\\t<a href=\"javascript:storePop2(\\'357\\');\" class=\"btn_style6\">자세히보기</a>\\n\\t\\t\\t\\t\\t\\t\\t\\t\\t\\t</p>\\n\\t\\t\\t\\t\\t\\t\\t\\t\\t\\t<p class=\"tag\">\\n<span class=\"decaf\" title=\"디카페인\">디카페인</span><span class=\"soy\" title=\"두유\">두유</span><span class=\"parking\" title=\"주차가능\">주차가능</span><span class=\"wifi\" title=\"와이파이\">와이파이</span><span class=\"cake\" title=\"케익수령\">케익수령</span><span class=\"delevery\" title=\"딜리버리\">딜리버리</span><span class=\"hallcake\" title=\"홀케익\">홀케익</span>\\n\\t\\t\\t\\t\\t\\t\\t\\t\\t\\t</p>\\n\\t\\t\\t\\t\\t\\t\\t\\t\\t\\t<p class=\"address\">\\n\\t\\t\\t\\t\\t\\t\\t\\t\\t\\t\\t<span>서울시 용산구 장문로 23 몬드리안 서울 이태원호텔 101호</span>\\n\\t\\t\\t\\t\\t\\t\\t\\t\\t\\t\\t<!--span class=\"lot\">서울특별시 강남구 신사동 633-4</span-->\\n\\t\\t\\t\\t\\t\\t\\t\\t\\t\\t</p>\\n\\t\\t\\t\\t\\t\\t\\t\\t\\t\\t<p class=\"tel\"><a href=\"tel:02-3775-0548\">02-3775-0548</a></p>\\n\\t\\t\\t\\t\\t\\t\\t\\t\\t</div>\\n\\t\\t\\t\\t\\t\\t\\t\\t</li>\\n\\n\\t\\t\\t\\t\\t\\t\\t</ul>\\n\\t\\t\\t\\t\\t\\t</div>\\n\\t\\t\\t\\t\\t</div>\\n\\t\\t\\t\\t\\t<!-- //store_tab -->\\n\\t\\t\\t\\t</div>\\n\\t\\t\\t\\t<!-- //store_box -->\\n\\t\\t\\t</div>\\n\\n\\t\\t\\t<!-- //store_map -->\\n\\t\\t\\t<div class=\"store_wrap\" id=\"newStore\">\\n\\n\\t\\t\\t\\t<h2 class=\"title_style1\"><span>신규 오픈 매장</span></h2>\\n\\t\\t\\t\\t<div class=\"store_slide\">\\n\\t\\t\\t\\t\\t<div class=\"slide_box slick-initialized slick-slider slick-dotted\" role=\"toolbar\">\\n\\n\\t\\t\\t\\t\\t\\t\\t\\n\\n\\t\\t\\t\\t\\t\\t\\t\\n\\n\\t\\t\\t\\t\\t\\t\\t\\n\\n\\t\\t\\t\\t\\t\\t\\t\\n\\n\\t\\t\\t\\t\\t\\t\\t\\n\\n\\t\\t\\t\\t\\t\\t\\t\\n\\n\\t\\t\\t\\t\\t\\t\\t\\n\\n\\t\\t\\t\\t\\t\\t\\t\\n\\n\\t\\t\\t\\t\\t\\t\\t\\n\\n\\t\\t\\t\\t\\t\\t\\t\\n\\n\\t\\t\\t\\t\\t\\t\\t\\n\\n\\t\\t\\t\\t\\t\\t\\t\\n\\n\\t\\t\\t\\t\\t\\t\\t\\n\\n\\t\\t\\t\\t\\t\\t\\t\\n\\n\\t\\t\\t\\t\\t\\t\\t\\n\\n\\t\\t\\t\\t\\t\\t\\t\\n\\n\\t\\t\\t\\t\\t\\t\\t\\n\\n\\t\\t\\t\\t\\t\\t\\t\\n\\n\\t\\t\\t\\t\\t\\t\\t\\n\\n\\t\\t\\t\\t\\t\\t\\t\\n\\n\\t\\t\\t\\t\\t\\t\\t\\n\\n\\t\\t\\t\\t\\t\\t\\t\\n\\n\\t\\t\\t\\t\\t\\t\\t\\n\\n\\t\\t\\t\\t\\t\\t\\t\\n\\n\\t\\t\\t\\t\\t\\t\\t\\n\\n\\t\\t\\t\\t\\t\\t\\t\\n\\n\\t\\t\\t\\t\\t\\t\\t\\n\\n\\t\\t\\t\\t\\t\\t\\t\\n\\n\\t\\t\\t\\t\\t<div aria-live=\"polite\" class=\"slick-list draggable\"><div class=\"slick-track\" role=\"listbox\" style=\"opacity: 1; width: 19200px; transform: translate3d(-9600px, 0px, 0px);\"><div class=\"slick-slide slick-cloned\" style=\"width: 570px;\" data-slick-index=\"-2\" aria-hidden=\"true\" tabindex=\"-1\">\\n\\t\\t\\t\\t\\t\\t\\t<a href=\"javascript:storePop2(358);void(0);\" tabindex=\"-1\">\\n\\t\\t\\t\\t\\t\\t\\t\\t<div class=\"photo\">\\n\\n\\t\\t\\t\\t\\t\\t\\t\\t\\t<img src=\"/data/store/00.jpg\" alt=\"광주봉선점\">\\n\\n\\t\\t\\t\\t\\t\\t\\t\\t</div>\\n\\t\\t\\t\\t\\t\\t\\t\\t<div class=\"txt_box\">\\n\\t\\t\\t\\t\\t\\t\\t\\t\\t<p class=\"name\">광주봉선점</p>\\n\\t\\t\\t\\t\\t\\t\\t\\t\\t<p class=\"addr\">\\n\\t\\t\\t\\t\\t\\t\\t\\t\\t\\t<span>광주광역시 남구 봉선로 168</span>\\n\\t\\t\\t\\t\\t\\t\\t\\t\\t\\t<!--span class=\"lot\">서울특별시 강남구 신사동 648-12</span-->\\n\\t\\t\\t\\t\\t\\t\\t\\t\\t\\t<span>062-671-3371</span>\\n\\t\\t\\t\\t\\t\\t\\t\\t\\t</p>\\n\\t\\t\\t\\t\\t\\t\\t\\t</div>\\n\\t\\t\\t\\t\\t\\t\\t</a>\\n\\t\\t\\t\\t\\t\\t</div><div class=\"slick-slide slick-cloned\" style=\"width: 570px;\" data-slick-index=\"-1\" aria-hidden=\"true\" tabindex=\"-1\">\\n\\t\\t\\t\\t\\t\\t\\t<a href=\"javascript:storePop2(357);void(0);\" tabindex=\"-1\">\\n\\t\\t\\t\\t\\t\\t\\t\\t<div class=\"photo\">\\n\\n\\t\\t\\t\\t\\t\\t\\t\\t\\t<img src=\"/data/store/15.jpg\" alt=\"이태원몬드리안호텔점\">\\n\\n\\t\\t\\t\\t\\t\\t\\t\\t</div>\\n\\t\\t\\t\\t\\t\\t\\t\\t<div class=\"txt_box\">\\n\\t\\t\\t\\t\\t\\t\\t\\t\\t<p class=\"name\">이태원몬드리안호텔점</p>\\n\\t\\t\\t\\t\\t\\t\\t\\t\\t<p class=\"addr\">\\n\\t\\t\\t\\t\\t\\t\\t\\t\\t\\t<span>서울시 용산구 장문로 23 몬드리안 서울 이태원호텔 101호</span>\\n\\t\\t\\t\\t\\t\\t\\t\\t\\t\\t<!--span class=\"lot\">서울특별시 강남구 신사동 648-12</span-->\\n\\t\\t\\t\\t\\t\\t\\t\\t\\t\\t<span>02-3775-0548</span>\\n\\t\\t\\t\\t\\t\\t\\t\\t\\t</p>\\n\\t\\t\\t\\t\\t\\t\\t\\t</div>\\n\\t\\t\\t\\t\\t\\t\\t</a>\\n\\t\\t\\t\\t\\t\\t</div><div class=\"slick-slide\" style=\"width: 570px;\" data-slick-index=\"0\" aria-hidden=\"true\" tabindex=\"-1\" role=\"option\" aria-describedby=\"slick-slide00\">\\n\\t\\t\\t\\t\\t\\t\\t<a href=\"javascript:storePop2(388);void(0);\" tabindex=\"-1\">\\n\\t\\t\\t\\t\\t\\t\\t\\t<div class=\"photo\">\\n\\n\\t\\t\\t\\t\\t\\t\\t\\t\\t<img src=\"/data/store/11_2.jpg\" alt=\"고대안암병원신관점\">\\n\\n\\t\\t\\t\\t\\t\\t\\t\\t</div>\\n\\t\\t\\t\\t\\t\\t\\t\\t<div class=\"txt_box\">\\n\\t\\t\\t\\t\\t\\t\\t\\t\\t<p class=\"name\">고대안암병원신관점</p>\\n\\t\\t\\t\\t\\t\\t\\t\\t\\t<p class=\"addr\">\\n\\t\\t\\t\\t\\t\\t\\t\\t\\t\\t<span>서울특별시 성북구 고려대로 73</span>\\n\\t\\t\\t\\t\\t\\t\\t\\t\\t\\t<!--span class=\"lot\">서울특별시 강남구 신사동 648-12</span-->\\n\\t\\t\\t\\t\\t\\t\\t\\t\\t\\t<span>02-544-6823</span>\\n\\t\\t\\t\\t\\t\\t\\t\\t\\t</p>\\n\\t\\t\\t\\t\\t\\t\\t\\t</div>\\n\\t\\t\\t\\t\\t\\t\\t</a>\\n\\t\\t\\t\\t\\t\\t</div><div class=\"slick-slide\" style=\"width: 570px;\" data-slick-index=\"1\" aria-hidden=\"true\" tabindex=\"-1\" role=\"option\" aria-describedby=\"slick-slide01\">\\n\\t\\t\\t\\t\\t\\t\\t<a href=\"javascript:storePop2(387);void(0);\" tabindex=\"-1\">\\n\\t\\t\\t\\t\\t\\t\\t\\t<div class=\"photo\">\\n\\n\\t\\t\\t\\t\\t\\t\\t\\t\\t<img src=\"/data/store/어드민1_4.jpg\" alt=\"압구정로데오2호점\">\\n\\n\\t\\t\\t\\t\\t\\t\\t\\t</div>\\n\\t\\t\\t\\t\\t\\t\\t\\t<div class=\"txt_box\">\\n\\t\\t\\t\\t\\t\\t\\t\\t\\t<p class=\"name\">압구정로데오2호점</p>\\n\\t\\t\\t\\t\\t\\t\\t\\t\\t<p class=\"addr\">\\n\\t\\t\\t\\t\\t\\t\\t\\t\\t\\t<span>서울특별시 강남구 선릉로 157길 22 2층</span>\\n\\t\\t\\t\\t\\t\\t\\t\\t\\t\\t<!--span class=\"lot\">서울특별시 강남구 신사동 648-12</span-->\\n\\t\\t\\t\\t\\t\\t\\t\\t\\t\\t<span>02-3444-9973</span>\\n\\t\\t\\t\\t\\t\\t\\t\\t\\t</p>\\n\\t\\t\\t\\t\\t\\t\\t\\t</div>\\n\\t\\t\\t\\t\\t\\t\\t</a>\\n\\t\\t\\t\\t\\t\\t</div><div class=\"slick-slide\" style=\"width: 570px;\" data-slick-index=\"2\" aria-hidden=\"true\" tabindex=\"-1\" role=\"option\" aria-describedby=\"slick-slide02\">\\n\\t\\t\\t\\t\\t\\t\\t<a href=\"javascript:storePop2(386);void(0);\" tabindex=\"-1\">\\n\\t\\t\\t\\t\\t\\t\\t\\t<div class=\"photo\">\\n\\n\\t\\t\\t\\t\\t\\t\\t\\t\\t<img src=\"/data/store/어드민1_3.jpg\" alt=\"종로YBM별관점\">\\n\\n\\t\\t\\t\\t\\t\\t\\t\\t</div>\\n\\t\\t\\t\\t\\t\\t\\t\\t<div class=\"txt_box\">\\n\\t\\t\\t\\t\\t\\t\\t\\t\\t<p class=\"name\">종로YBM별관점</p>\\n\\t\\t\\t\\t\\t\\t\\t\\t\\t<p class=\"addr\">\\n\\t\\t\\t\\t\\t\\t\\t\\t\\t\\t<span>서울시 종로구 종로 98 1층</span>\\n\\t\\t\\t\\t\\t\\t\\t\\t\\t\\t<!--span class=\"lot\">서울특별시 강남구 신사동 648-12</span-->\\n\\t\\t\\t\\t\\t\\t\\t\\t\\t\\t<span>02-402-3571</span>\\n\\t\\t\\t\\t\\t\\t\\t\\t\\t</p>\\n\\t\\t\\t\\t\\t\\t\\t\\t</div>\\n\\t\\t\\t\\t\\t\\t\\t</a>\\n\\t\\t\\t\\t\\t\\t</div><div class=\"slick-slide\" style=\"width: 570px;\" data-slick-index=\"3\" aria-hidden=\"true\" tabindex=\"-1\" role=\"option\" aria-describedby=\"slick-slide03\">\\n\\t\\t\\t\\t\\t\\t\\t<a href=\"javascript:storePop2(385);void(0);\" tabindex=\"-1\">\\n\\t\\t\\t\\t\\t\\t\\t\\t<div class=\"photo\">\\n\\n\\t\\t\\t\\t\\t\\t\\t\\t\\t<img src=\"/data/store/어드민1_2.jpg\" alt=\"서울시청점\">\\n\\n\\t\\t\\t\\t\\t\\t\\t\\t</div>\\n\\t\\t\\t\\t\\t\\t\\t\\t<div class=\"txt_box\">\\n\\t\\t\\t\\t\\t\\t\\t\\t\\t<p class=\"name\">서울시청점</p>\\n\\t\\t\\t\\t\\t\\t\\t\\t\\t<p class=\"addr\">\\n\\t\\t\\t\\t\\t\\t\\t\\t\\t\\t<span>서울특별시 중구 무교로 12(무교동) 정오빌딩 1층</span>\\n\\t\\t\\t\\t\\t\\t\\t\\t\\t\\t<!--span class=\"lot\">서울특별시 강남구 신사동 648-12</span-->\\n\\t\\t\\t\\t\\t\\t\\t\\t\\t\\t<span>02-420-0386</span>\\n\\t\\t\\t\\t\\t\\t\\t\\t\\t</p>\\n\\t\\t\\t\\t\\t\\t\\t\\t</div>\\n\\t\\t\\t\\t\\t\\t\\t</a>\\n\\t\\t\\t\\t\\t\\t</div><div class=\"slick-slide\" style=\"width: 570px;\" data-slick-index=\"4\" aria-hidden=\"true\" tabindex=\"-1\" role=\"option\" aria-describedby=\"slick-slide04\">\\n\\t\\t\\t\\t\\t\\t\\t<a href=\"javascript:storePop2(383);void(0);\" tabindex=\"-1\">\\n\\t\\t\\t\\t\\t\\t\\t\\t<div class=\"photo\">\\n\\n\\t\\t\\t\\t\\t\\t\\t\\t\\t<img src=\"/data/store/어드민1_1.jpg\" alt=\"동탄타임테라스점\">\\n\\n\\t\\t\\t\\t\\t\\t\\t\\t</div>\\n\\t\\t\\t\\t\\t\\t\\t\\t<div class=\"txt_box\">\\n\\t\\t\\t\\t\\t\\t\\t\\t\\t<p class=\"name\">동탄타임테라스점</p>\\n\\t\\t\\t\\t\\t\\t\\t\\t\\t<p class=\"addr\">\\n\\t\\t\\t\\t\\t\\t\\t\\t\\t\\t<span>경기도 화성시 동탄중앙로220 타임테라스A 블록 1층 110호-1호</span>\\n\\t\\t\\t\\t\\t\\t\\t\\t\\t\\t<!--span class=\"lot\">서울특별시 강남구 신사동 648-12</span-->\\n\\t\\t\\t\\t\\t\\t\\t\\t\\t\\t<span>031-613-7684</span>\\n\\t\\t\\t\\t\\t\\t\\t\\t\\t</p>\\n\\t\\t\\t\\t\\t\\t\\t\\t</div>\\n\\t\\t\\t\\t\\t\\t\\t</a>\\n\\t\\t\\t\\t\\t\\t</div><div class=\"slick-slide\" style=\"width: 570px;\" data-slick-index=\"5\" aria-hidden=\"true\" tabindex=\"-1\" role=\"option\" aria-describedby=\"slick-slide05\">\\n\\t\\t\\t\\t\\t\\t\\t<a href=\"javascript:storePop2(382);void(0);\" tabindex=\"-1\">\\n\\t\\t\\t\\t\\t\\t\\t\\t<div class=\"photo\">\\n\\n\\t\\t\\t\\t\\t\\t\\t\\t\\t<img src=\"/data/store/1_83.jpg\" alt=\"성균관대법학관점\">\\n\\n\\t\\t\\t\\t\\t\\t\\t\\t</div>\\n\\t\\t\\t\\t\\t\\t\\t\\t<div class=\"txt_box\">\\n\\t\\t\\t\\t\\t\\t\\t\\t\\t<p class=\"name\">성균관대법학관점</p>\\n\\t\\t\\t\\t\\t\\t\\t\\t\\t<p class=\"addr\">\\n\\t\\t\\t\\t\\t\\t\\t\\t\\t\\t<span>서울시 종로구 성균관로 25-2 성균관대학교 법학관 B2</span>\\n\\t\\t\\t\\t\\t\\t\\t\\t\\t\\t<!--span class=\"lot\">서울특별시 강남구 신사동 648-12</span-->\\n\\t\\t\\t\\t\\t\\t\\t\\t\\t\\t<span>02-740-1958</span>\\n\\t\\t\\t\\t\\t\\t\\t\\t\\t</p>\\n\\t\\t\\t\\t\\t\\t\\t\\t</div>\\n\\t\\t\\t\\t\\t\\t\\t</a>\\n\\t\\t\\t\\t\\t\\t</div><div class=\"slick-slide\" style=\"width: 570px;\" data-slick-index=\"6\" aria-hidden=\"true\" tabindex=\"-1\" role=\"option\" aria-describedby=\"slick-slide06\">\\n\\t\\t\\t\\t\\t\\t\\t<a href=\"javascript:storePop2(381);void(0);\" tabindex=\"-1\">\\n\\t\\t\\t\\t\\t\\t\\t\\t<div class=\"photo\">\\n\\n\\t\\t\\t\\t\\t\\t\\t\\t\\t<img src=\"/data/store/11.jpg\" alt=\"제주애월DT점\">\\n\\n\\t\\t\\t\\t\\t\\t\\t\\t</div>\\n\\t\\t\\t\\t\\t\\t\\t\\t<div class=\"txt_box\">\\n\\t\\t\\t\\t\\t\\t\\t\\t\\t<p class=\"name\">제주애월DT점</p>\\n\\t\\t\\t\\t\\t\\t\\t\\t\\t<p class=\"addr\">\\n\\t\\t\\t\\t\\t\\t\\t\\t\\t\\t<span>제주도 제주시 애월읍 애월해안로 560</span>\\n\\t\\t\\t\\t\\t\\t\\t\\t\\t\\t<!--span class=\"lot\">서울특별시 강남구 신사동 648-12</span-->\\n\\t\\t\\t\\t\\t\\t\\t\\t\\t\\t<span>064-799-3670</span>\\n\\t\\t\\t\\t\\t\\t\\t\\t\\t</p>\\n\\t\\t\\t\\t\\t\\t\\t\\t</div>\\n\\t\\t\\t\\t\\t\\t\\t</a>\\n\\t\\t\\t\\t\\t\\t</div><div class=\"slick-slide\" style=\"width: 570px;\" data-slick-index=\"7\" aria-hidden=\"true\" tabindex=\"-1\" role=\"option\" aria-describedby=\"slick-slide07\">\\n\\t\\t\\t\\t\\t\\t\\t<a href=\"javascript:storePop2(380);void(0);\" tabindex=\"-1\">\\n\\t\\t\\t\\t\\t\\t\\t\\t<div class=\"photo\">\\n\\n\\t\\t\\t\\t\\t\\t\\t\\t\\t<img src=\"/data/store/1_130.jpg\" alt=\"하나금융명동사옥점\">\\n\\n\\t\\t\\t\\t\\t\\t\\t\\t</div>\\n\\t\\t\\t\\t\\t\\t\\t\\t<div class=\"txt_box\">\\n\\t\\t\\t\\t\\t\\t\\t\\t\\t<p class=\"name\">하나금융명동사옥점</p>\\n\\t\\t\\t\\t\\t\\t\\t\\t\\t<p class=\"addr\">\\n\\t\\t\\t\\t\\t\\t\\t\\t\\t\\t<span>서울시 중구 을지로 66 하나은행 명동사옥 1층</span>\\n\\t\\t\\t\\t\\t\\t\\t\\t\\t\\t<!--span class=\"lot\">서울특별시 강남구 신사동 648-12</span-->\\n\\t\\t\\t\\t\\t\\t\\t\\t\\t\\t<span>02-539-5174</span>\\n\\t\\t\\t\\t\\t\\t\\t\\t\\t</p>\\n\\t\\t\\t\\t\\t\\t\\t\\t</div>\\n\\t\\t\\t\\t\\t\\t\\t</a>\\n\\t\\t\\t\\t\\t\\t</div><div class=\"slick-slide\" style=\"width: 570px;\" data-slick-index=\"8\" aria-hidden=\"true\" tabindex=\"-1\" role=\"option\" aria-describedby=\"slick-slide08\">\\n\\t\\t\\t\\t\\t\\t\\t<a href=\"javascript:storePop2(377);void(0);\" tabindex=\"-1\">\\n\\t\\t\\t\\t\\t\\t\\t\\t<div class=\"photo\">\\n\\n\\t\\t\\t\\t\\t\\t\\t\\t\\t<img src=\"/data/store/1_129.jpg\" alt=\"진주LH본사점\">\\n\\n\\t\\t\\t\\t\\t\\t\\t\\t</div>\\n\\t\\t\\t\\t\\t\\t\\t\\t<div class=\"txt_box\">\\n\\t\\t\\t\\t\\t\\t\\t\\t\\t<p class=\"name\">진주LH본사점</p>\\n\\t\\t\\t\\t\\t\\t\\t\\t\\t<p class=\"addr\">\\n\\t\\t\\t\\t\\t\\t\\t\\t\\t\\t<span>경남 진주시 충의로 19 LH진주사옥 공감동 1층</span>\\n\\t\\t\\t\\t\\t\\t\\t\\t\\t\\t<!--span class=\"lot\">서울특별시 강남구 신사동 648-12</span-->\\n\\t\\t\\t\\t\\t\\t\\t\\t\\t\\t<span>055-763-3520</span>\\n\\t\\t\\t\\t\\t\\t\\t\\t\\t</p>\\n\\t\\t\\t\\t\\t\\t\\t\\t</div>\\n\\t\\t\\t\\t\\t\\t\\t</a>\\n\\t\\t\\t\\t\\t\\t</div><div class=\"slick-slide\" style=\"width: 570px;\" data-slick-index=\"9\" aria-hidden=\"true\" tabindex=\"-1\" role=\"option\" aria-describedby=\"slick-slide09\">\\n\\t\\t\\t\\t\\t\\t\\t<a href=\"javascript:storePop2(375);void(0);\" tabindex=\"-1\">\\n\\t\\t\\t\\t\\t\\t\\t\\t<div class=\"photo\">\\n\\n\\t\\t\\t\\t\\t\\t\\t\\t\\t<img src=\"/data/store/1_128.jpg\" alt=\"용산아이파크몰점\">\\n\\n\\t\\t\\t\\t\\t\\t\\t\\t</div>\\n\\t\\t\\t\\t\\t\\t\\t\\t<div class=\"txt_box\">\\n\\t\\t\\t\\t\\t\\t\\t\\t\\t<p class=\"name\">용산아이파크몰점</p>\\n\\t\\t\\t\\t\\t\\t\\t\\t\\t<p class=\"addr\">\\n\\t\\t\\t\\t\\t\\t\\t\\t\\t\\t<span>서울시 용산구 한강대로 23길 55, 아이파크몰 테이스트파크 7층</span>\\n\\t\\t\\t\\t\\t\\t\\t\\t\\t\\t<!--span class=\"lot\">서울특별시 강남구 신사동 648-12</span-->\\n\\t\\t\\t\\t\\t\\t\\t\\t\\t\\t<span>02-2012-0731</span>\\n\\t\\t\\t\\t\\t\\t\\t\\t\\t</p>\\n\\t\\t\\t\\t\\t\\t\\t\\t</div>\\n\\t\\t\\t\\t\\t\\t\\t</a>\\n\\t\\t\\t\\t\\t\\t</div><div class=\"slick-slide\" style=\"width: 570px;\" data-slick-index=\"10\" aria-hidden=\"true\" tabindex=\"-1\" role=\"option\" aria-describedby=\"slick-slide010\">\\n\\t\\t\\t\\t\\t\\t\\t<a href=\"javascript:storePop2(374);void(0);\" tabindex=\"-1\">\\n\\t\\t\\t\\t\\t\\t\\t\\t<div class=\"photo\">\\n\\n\\t\\t\\t\\t\\t\\t\\t\\t\\t<img src=\"/data/store/3_124.jpg\" alt=\"상암SBS프리즘타워점\">\\n\\n\\t\\t\\t\\t\\t\\t\\t\\t</div>\\n\\t\\t\\t\\t\\t\\t\\t\\t<div class=\"txt_box\">\\n\\t\\t\\t\\t\\t\\t\\t\\t\\t<p class=\"name\">상암SBS프리즘타워점</p>\\n\\t\\t\\t\\t\\t\\t\\t\\t\\t<p class=\"addr\">\\n\\t\\t\\t\\t\\t\\t\\t\\t\\t\\t<span>서울 마포구 상암산로 82 SBS 프리즘 타워 1층 로비</span>\\n\\t\\t\\t\\t\\t\\t\\t\\t\\t\\t<!--span class=\"lot\">서울특별시 강남구 신사동 648-12</span-->\\n\\t\\t\\t\\t\\t\\t\\t\\t\\t\\t<span>02-562-9605</span>\\n\\t\\t\\t\\t\\t\\t\\t\\t\\t</p>\\n\\t\\t\\t\\t\\t\\t\\t\\t</div>\\n\\t\\t\\t\\t\\t\\t\\t</a>\\n\\t\\t\\t\\t\\t\\t</div><div class=\"slick-slide\" style=\"width: 570px;\" data-slick-index=\"11\" aria-hidden=\"true\" tabindex=\"-1\" role=\"option\" aria-describedby=\"slick-slide011\">\\n\\t\\t\\t\\t\\t\\t\\t<a href=\"javascript:storePop2(373);void(0);\" tabindex=\"-1\">\\n\\t\\t\\t\\t\\t\\t\\t\\t<div class=\"photo\">\\n\\n\\t\\t\\t\\t\\t\\t\\t\\t\\t<img src=\"/data/store/1_122.jpg\" alt=\"안양LS타워점\">\\n\\n\\t\\t\\t\\t\\t\\t\\t\\t</div>\\n\\t\\t\\t\\t\\t\\t\\t\\t<div class=\"txt_box\">\\n\\t\\t\\t\\t\\t\\t\\t\\t\\t<p class=\"name\">안양LS타워점</p>\\n\\t\\t\\t\\t\\t\\t\\t\\t\\t<p class=\"addr\">\\n\\t\\t\\t\\t\\t\\t\\t\\t\\t\\t<span>경기도 안양시 동안구 엘에스로 127 1층</span>\\n\\t\\t\\t\\t\\t\\t\\t\\t\\t\\t<!--span class=\"lot\">서울특별시 강남구 신사동 648-12</span-->\\n\\t\\t\\t\\t\\t\\t\\t\\t\\t\\t<span>031-429-9650</span>\\n\\t\\t\\t\\t\\t\\t\\t\\t\\t</p>\\n\\t\\t\\t\\t\\t\\t\\t\\t</div>\\n\\t\\t\\t\\t\\t\\t\\t</a>\\n\\t\\t\\t\\t\\t\\t</div><div class=\"slick-slide\" style=\"width: 570px;\" data-slick-index=\"12\" aria-hidden=\"true\" tabindex=\"-1\" role=\"option\" aria-describedby=\"slick-slide012\">\\n\\t\\t\\t\\t\\t\\t\\t<a href=\"javascript:storePop2(372);void(0);\" tabindex=\"-1\">\\n\\t\\t\\t\\t\\t\\t\\t\\t<div class=\"photo\">\\n\\n\\t\\t\\t\\t\\t\\t\\t\\t\\t<img src=\"/data/store/0_4.jpg\" alt=\"명동거리점\">\\n\\n\\t\\t\\t\\t\\t\\t\\t\\t</div>\\n\\t\\t\\t\\t\\t\\t\\t\\t<div class=\"txt_box\">\\n\\t\\t\\t\\t\\t\\t\\t\\t\\t<p class=\"name\">명동거리점</p>\\n\\t\\t\\t\\t\\t\\t\\t\\t\\t<p class=\"addr\">\\n\\t\\t\\t\\t\\t\\t\\t\\t\\t\\t<span>서울시 중구 명동 10길 52 명동역 신한은행 사옥 1층</span>\\n\\t\\t\\t\\t\\t\\t\\t\\t\\t\\t<!--span class=\"lot\">서울특별시 강남구 신사동 648-12</span-->\\n\\t\\t\\t\\t\\t\\t\\t\\t\\t\\t<span>02-522-7158</span>\\n\\t\\t\\t\\t\\t\\t\\t\\t\\t</p>\\n\\t\\t\\t\\t\\t\\t\\t\\t</div>\\n\\t\\t\\t\\t\\t\\t\\t</a>\\n\\t\\t\\t\\t\\t\\t</div><div class=\"slick-slide\" style=\"width: 570px;\" data-slick-index=\"13\" aria-hidden=\"true\" tabindex=\"-1\" role=\"option\" aria-describedby=\"slick-slide013\">\\n\\t\\t\\t\\t\\t\\t\\t<a href=\"javascript:storePop2(371);void(0);\" tabindex=\"-1\">\\n\\t\\t\\t\\t\\t\\t\\t\\t<div class=\"photo\">\\n\\n\\t\\t\\t\\t\\t\\t\\t\\t\\t<img src=\"/data/store/0_5.jpg\" alt=\"용인에버랜드점\">\\n\\n\\t\\t\\t\\t\\t\\t\\t\\t</div>\\n\\t\\t\\t\\t\\t\\t\\t\\t<div class=\"txt_box\">\\n\\t\\t\\t\\t\\t\\t\\t\\t\\t<p class=\"name\">용인에버랜드점</p>\\n\\t\\t\\t\\t\\t\\t\\t\\t\\t<p class=\"addr\">\\n\\t\\t\\t\\t\\t\\t\\t\\t\\t\\t<span>경기도 용인시 처인구 포곡읍 가실리 156-1 (파크내 홀랜드빌리지 옆 암스테르담)</span>\\n\\t\\t\\t\\t\\t\\t\\t\\t\\t\\t<!--span class=\"lot\">서울특별시 강남구 신사동 648-12</span-->\\n\\t\\t\\t\\t\\t\\t\\t\\t\\t\\t<span>031-334-0556</span>\\n\\t\\t\\t\\t\\t\\t\\t\\t\\t</p>\\n\\t\\t\\t\\t\\t\\t\\t\\t</div>\\n\\t\\t\\t\\t\\t\\t\\t</a>\\n\\t\\t\\t\\t\\t\\t</div><div class=\"slick-slide slick-current slick-active\" style=\"width: 570px;\" data-slick-index=\"14\" aria-hidden=\"false\" tabindex=\"-1\" role=\"option\" aria-describedby=\"slick-slide014\">\\n\\t\\t\\t\\t\\t\\t\\t<a href=\"javascript:storePop2(370);void(0);\" tabindex=\"0\">\\n\\t\\t\\t\\t\\t\\t\\t\\t<div class=\"photo\">\\n\\n\\t\\t\\t\\t\\t\\t\\t\\t\\t<img src=\"/data/store/1_120.jpg\" alt=\"혜화역점\">\\n\\n\\t\\t\\t\\t\\t\\t\\t\\t</div>\\n\\t\\t\\t\\t\\t\\t\\t\\t<div class=\"txt_box\">\\n\\t\\t\\t\\t\\t\\t\\t\\t\\t<p class=\"name\">혜화역점</p>\\n\\t\\t\\t\\t\\t\\t\\t\\t\\t<p class=\"addr\">\\n\\t\\t\\t\\t\\t\\t\\t\\t\\t\\t<span>서울시 종로구 대명길 5</span>\\n\\t\\t\\t\\t\\t\\t\\t\\t\\t\\t<!--span class=\"lot\">서울특별시 강남구 신사동 648-12</span-->\\n\\t\\t\\t\\t\\t\\t\\t\\t\\t\\t<span>02-745-9471</span>\\n\\t\\t\\t\\t\\t\\t\\t\\t\\t</p>\\n\\t\\t\\t\\t\\t\\t\\t\\t</div>\\n\\t\\t\\t\\t\\t\\t\\t</a>\\n\\t\\t\\t\\t\\t\\t</div><div class=\"slick-slide slick-active\" style=\"width: 570px;\" data-slick-index=\"15\" aria-hidden=\"false\" tabindex=\"-1\" role=\"option\" aria-describedby=\"slick-slide015\">\\n\\t\\t\\t\\t\\t\\t\\t<a href=\"javascript:storePop2(369);void(0);\" tabindex=\"0\">\\n\\t\\t\\t\\t\\t\\t\\t\\t<div class=\"photo\">\\n\\n\\t\\t\\t\\t\\t\\t\\t\\t\\t<img src=\"/data/store/1_119.jpg\" alt=\"제주아라점\">\\n\\n\\t\\t\\t\\t\\t\\t\\t\\t</div>\\n\\t\\t\\t\\t\\t\\t\\t\\t<div class=\"txt_box\">\\n\\t\\t\\t\\t\\t\\t\\t\\t\\t<p class=\"name\">제주아라점</p>\\n\\t\\t\\t\\t\\t\\t\\t\\t\\t<p class=\"addr\">\\n\\t\\t\\t\\t\\t\\t\\t\\t\\t\\t<span>제주도 제주시 연북로 511</span>\\n\\t\\t\\t\\t\\t\\t\\t\\t\\t\\t<!--span class=\"lot\">서울특별시 강남구 신사동 648-12</span-->\\n\\t\\t\\t\\t\\t\\t\\t\\t\\t\\t<span>064-758-1194</span>\\n\\t\\t\\t\\t\\t\\t\\t\\t\\t</p>\\n\\t\\t\\t\\t\\t\\t\\t\\t</div>\\n\\t\\t\\t\\t\\t\\t\\t</a>\\n\\t\\t\\t\\t\\t\\t</div><div class=\"slick-slide\" style=\"width: 570px;\" data-slick-index=\"16\" aria-hidden=\"true\" tabindex=\"-1\" role=\"option\" aria-describedby=\"slick-slide016\">\\n\\t\\t\\t\\t\\t\\t\\t<a href=\"javascript:storePop2(368);void(0);\" tabindex=\"-1\">\\n\\t\\t\\t\\t\\t\\t\\t\\t<div class=\"photo\">\\n\\n\\t\\t\\t\\t\\t\\t\\t\\t\\t<img src=\"/data/store/1_117.jpg\" alt=\"천안신부동점\">\\n\\n\\t\\t\\t\\t\\t\\t\\t\\t</div>\\n\\t\\t\\t\\t\\t\\t\\t\\t<div class=\"txt_box\">\\n\\t\\t\\t\\t\\t\\t\\t\\t\\t<p class=\"name\">천안신부동점</p>\\n\\t\\t\\t\\t\\t\\t\\t\\t\\t<p class=\"addr\">\\n\\t\\t\\t\\t\\t\\t\\t\\t\\t\\t<span>충남 천안시 동남구 만남로 48</span>\\n\\t\\t\\t\\t\\t\\t\\t\\t\\t\\t<!--span class=\"lot\">서울특별시 강남구 신사동 648-12</span-->\\n\\t\\t\\t\\t\\t\\t\\t\\t\\t\\t<span>041-566-0718</span>\\n\\t\\t\\t\\t\\t\\t\\t\\t\\t</p>\\n\\t\\t\\t\\t\\t\\t\\t\\t</div>\\n\\t\\t\\t\\t\\t\\t\\t</a>\\n\\t\\t\\t\\t\\t\\t</div><div class=\"slick-slide\" style=\"width: 570px;\" data-slick-index=\"17\" aria-hidden=\"true\" tabindex=\"-1\" role=\"option\" aria-describedby=\"slick-slide017\">\\n\\t\\t\\t\\t\\t\\t\\t<a href=\"javascript:storePop2(367);void(0);\" tabindex=\"-1\">\\n\\t\\t\\t\\t\\t\\t\\t\\t<div class=\"photo\">\\n\\n\\t\\t\\t\\t\\t\\t\\t\\t\\t<img src=\"/data/store/1_116_2.jpg\" alt=\"부산중앙역점\">\\n\\n\\t\\t\\t\\t\\t\\t\\t\\t</div>\\n\\t\\t\\t\\t\\t\\t\\t\\t<div class=\"txt_box\">\\n\\t\\t\\t\\t\\t\\t\\t\\t\\t<p class=\"name\">부산중앙역점</p>\\n\\t\\t\\t\\t\\t\\t\\t\\t\\t<p class=\"addr\">\\n\\t\\t\\t\\t\\t\\t\\t\\t\\t\\t<span>부산광역시 중구 중앙대로 102 팬오션빌딩 1F</span>\\n\\t\\t\\t\\t\\t\\t\\t\\t\\t\\t<!--span class=\"lot\">서울특별시 강남구 신사동 648-12</span-->\\n\\t\\t\\t\\t\\t\\t\\t\\t\\t\\t<span>051-466-8856</span>\\n\\t\\t\\t\\t\\t\\t\\t\\t\\t</p>\\n\\t\\t\\t\\t\\t\\t\\t\\t</div>\\n\\t\\t\\t\\t\\t\\t\\t</a>\\n\\t\\t\\t\\t\\t\\t</div><div class=\"slick-slide\" style=\"width: 570px;\" data-slick-index=\"18\" aria-hidden=\"true\" tabindex=\"-1\" role=\"option\" aria-describedby=\"slick-slide018\">\\n\\t\\t\\t\\t\\t\\t\\t<a href=\"javascript:storePop2(366);void(0);\" tabindex=\"-1\">\\n\\t\\t\\t\\t\\t\\t\\t\\t<div class=\"photo\">\\n\\n\\t\\t\\t\\t\\t\\t\\t\\t\\t<img src=\"/data/store/홈세로형.jpg\" alt=\"용인역북점\">\\n\\n\\t\\t\\t\\t\\t\\t\\t\\t</div>\\n\\t\\t\\t\\t\\t\\t\\t\\t<div class=\"txt_box\">\\n\\t\\t\\t\\t\\t\\t\\t\\t\\t<p class=\"name\">용인역북점</p>\\n\\t\\t\\t\\t\\t\\t\\t\\t\\t<p class=\"addr\">\\n\\t\\t\\t\\t\\t\\t\\t\\t\\t\\t<span>경기도 용인시 처인구 역북동 598-7 </span>\\n\\t\\t\\t\\t\\t\\t\\t\\t\\t\\t<!--span class=\"lot\">서울특별시 강남구 신사동 648-12</span-->\\n\\t\\t\\t\\t\\t\\t\\t\\t\\t\\t<span>031-323-6886</span>\\n\\t\\t\\t\\t\\t\\t\\t\\t\\t</p>\\n\\t\\t\\t\\t\\t\\t\\t\\t</div>\\n\\t\\t\\t\\t\\t\\t\\t</a>\\n\\t\\t\\t\\t\\t\\t</div><div class=\"slick-slide\" style=\"width: 570px;\" data-slick-index=\"19\" aria-hidden=\"true\" tabindex=\"-1\" role=\"option\" aria-describedby=\"slick-slide019\">\\n\\t\\t\\t\\t\\t\\t\\t<a href=\"javascript:storePop2(365);void(0);\" tabindex=\"-1\">\\n\\t\\t\\t\\t\\t\\t\\t\\t<div class=\"photo\">\\n\\n\\t\\t\\t\\t\\t\\t\\t\\t\\t<img src=\"/data/store/1_116.jpg\" alt=\"부산화명수정역점\">\\n\\n\\t\\t\\t\\t\\t\\t\\t\\t</div>\\n\\t\\t\\t\\t\\t\\t\\t\\t<div class=\"txt_box\">\\n\\t\\t\\t\\t\\t\\t\\t\\t\\t<p class=\"name\">부산화명수정역점</p>\\n\\t\\t\\t\\t\\t\\t\\t\\t\\t<p class=\"addr\">\\n\\t\\t\\t\\t\\t\\t\\t\\t\\t\\t<span>부산광역시 북구 학사로 8  (화명동 2312), 크리스탈타워 2층 201~202호</span>\\n\\t\\t\\t\\t\\t\\t\\t\\t\\t\\t<!--span class=\"lot\">서울특별시 강남구 신사동 648-12</span-->\\n\\t\\t\\t\\t\\t\\t\\t\\t\\t\\t<span>051-361-3370</span>\\n\\t\\t\\t\\t\\t\\t\\t\\t\\t</p>\\n\\t\\t\\t\\t\\t\\t\\t\\t</div>\\n\\t\\t\\t\\t\\t\\t\\t</a>\\n\\t\\t\\t\\t\\t\\t</div><div class=\"slick-slide\" style=\"width: 570px;\" data-slick-index=\"20\" aria-hidden=\"true\" tabindex=\"-1\" role=\"option\" aria-describedby=\"slick-slide020\">\\n\\t\\t\\t\\t\\t\\t\\t<a href=\"javascript:storePop2(364);void(0);\" tabindex=\"-1\">\\n\\t\\t\\t\\t\\t\\t\\t\\t<div class=\"photo\">\\n\\n\\t\\t\\t\\t\\t\\t\\t\\t\\t<img src=\"/data/store/1_115.jpg\" alt=\"일산동구청점\">\\n\\n\\t\\t\\t\\t\\t\\t\\t\\t</div>\\n\\t\\t\\t\\t\\t\\t\\t\\t<div class=\"txt_box\">\\n\\t\\t\\t\\t\\t\\t\\t\\t\\t<p class=\"name\">일산동구청점</p>\\n\\t\\t\\t\\t\\t\\t\\t\\t\\t<p class=\"addr\">\\n\\t\\t\\t\\t\\t\\t\\t\\t\\t\\t<span>경기도 고양시 일산동구 정발산로 38</span>\\n\\t\\t\\t\\t\\t\\t\\t\\t\\t\\t<!--span class=\"lot\">서울특별시 강남구 신사동 648-12</span-->\\n\\t\\t\\t\\t\\t\\t\\t\\t\\t\\t<span>031-903-3989</span>\\n\\t\\t\\t\\t\\t\\t\\t\\t\\t</p>\\n\\t\\t\\t\\t\\t\\t\\t\\t</div>\\n\\t\\t\\t\\t\\t\\t\\t</a>\\n\\t\\t\\t\\t\\t\\t</div><div class=\"slick-slide\" style=\"width: 570px;\" data-slick-index=\"21\" aria-hidden=\"true\" tabindex=\"-1\" role=\"option\" aria-describedby=\"slick-slide021\">\\n\\t\\t\\t\\t\\t\\t\\t<a href=\"javascript:storePop2(363);void(0);\" tabindex=\"-1\">\\n\\t\\t\\t\\t\\t\\t\\t\\t<div class=\"photo\">\\n\\n\\t\\t\\t\\t\\t\\t\\t\\t\\t<img src=\"/data/store/1_114.jpg\" alt=\"서초중앙로점\">\\n\\n\\t\\t\\t\\t\\t\\t\\t\\t</div>\\n\\t\\t\\t\\t\\t\\t\\t\\t<div class=\"txt_box\">\\n\\t\\t\\t\\t\\t\\t\\t\\t\\t<p class=\"name\">서초중앙로점</p>\\n\\t\\t\\t\\t\\t\\t\\t\\t\\t<p class=\"addr\">\\n\\t\\t\\t\\t\\t\\t\\t\\t\\t\\t<span>서울시 서초구 서초중앙로 209, 해성빌딩 1층</span>\\n\\t\\t\\t\\t\\t\\t\\t\\t\\t\\t<!--span class=\"lot\">서울특별시 강남구 신사동 648-12</span-->\\n\\t\\t\\t\\t\\t\\t\\t\\t\\t\\t<span>02-537-2992</span>\\n\\t\\t\\t\\t\\t\\t\\t\\t\\t</p>\\n\\t\\t\\t\\t\\t\\t\\t\\t</div>\\n\\t\\t\\t\\t\\t\\t\\t</a>\\n\\t\\t\\t\\t\\t\\t</div><div class=\"slick-slide\" style=\"width: 570px;\" data-slick-index=\"22\" aria-hidden=\"true\" tabindex=\"-1\" role=\"option\" aria-describedby=\"slick-slide022\">\\n\\t\\t\\t\\t\\t\\t\\t<a href=\"javascript:storePop2(362);void(0);\" tabindex=\"-1\">\\n\\t\\t\\t\\t\\t\\t\\t\\t<div class=\"photo\">\\n\\n\\t\\t\\t\\t\\t\\t\\t\\t\\t<img src=\"/data/store/1_113.jpg\" alt=\"청계천을지로점\">\\n\\n\\t\\t\\t\\t\\t\\t\\t\\t</div>\\n\\t\\t\\t\\t\\t\\t\\t\\t<div class=\"txt_box\">\\n\\t\\t\\t\\t\\t\\t\\t\\t\\t<p class=\"name\">청계천을지로점</p>\\n\\t\\t\\t\\t\\t\\t\\t\\t\\t<p class=\"addr\">\\n\\t\\t\\t\\t\\t\\t\\t\\t\\t\\t<span>서울 중구 남대문로10길 33 1F</span>\\n\\t\\t\\t\\t\\t\\t\\t\\t\\t\\t<!--span class=\"lot\">서울특별시 강남구 신사동 648-12</span-->\\n\\t\\t\\t\\t\\t\\t\\t\\t\\t\\t<span>02-723-1771</span>\\n\\t\\t\\t\\t\\t\\t\\t\\t\\t</p>\\n\\t\\t\\t\\t\\t\\t\\t\\t</div>\\n\\t\\t\\t\\t\\t\\t\\t</a>\\n\\t\\t\\t\\t\\t\\t</div><div class=\"slick-slide\" style=\"width: 570px;\" data-slick-index=\"23\" aria-hidden=\"true\" tabindex=\"-1\" role=\"option\" aria-describedby=\"slick-slide023\">\\n\\t\\t\\t\\t\\t\\t\\t<a href=\"javascript:storePop2(361);void(0);\" tabindex=\"-1\">\\n\\t\\t\\t\\t\\t\\t\\t\\t<div class=\"photo\">\\n\\n\\t\\t\\t\\t\\t\\t\\t\\t\\t<img src=\"/data/store/1_111.jpg\" alt=\"송파헬리오시티점\">\\n\\n\\t\\t\\t\\t\\t\\t\\t\\t</div>\\n\\t\\t\\t\\t\\t\\t\\t\\t<div class=\"txt_box\">\\n\\t\\t\\t\\t\\t\\t\\t\\t\\t<p class=\"name\">송파헬리오시티점</p>\\n\\t\\t\\t\\t\\t\\t\\t\\t\\t<p class=\"addr\">\\n\\t\\t\\t\\t\\t\\t\\t\\t\\t\\t<span>서울시 송파구 송파대로 345 ( 헬리오시티상가 3블럭 A동 B1층 22호 )</span>\\n\\t\\t\\t\\t\\t\\t\\t\\t\\t\\t<!--span class=\"lot\">서울특별시 강남구 신사동 648-12</span-->\\n\\t\\t\\t\\t\\t\\t\\t\\t\\t\\t<span>02-777-3363</span>\\n\\t\\t\\t\\t\\t\\t\\t\\t\\t</p>\\n\\t\\t\\t\\t\\t\\t\\t\\t</div>\\n\\t\\t\\t\\t\\t\\t\\t</a>\\n\\t\\t\\t\\t\\t\\t</div><div class=\"slick-slide\" style=\"width: 570px;\" data-slick-index=\"24\" aria-hidden=\"true\" tabindex=\"-1\" role=\"option\" aria-describedby=\"slick-slide024\">\\n\\t\\t\\t\\t\\t\\t\\t<a href=\"javascript:storePop2(360);void(0);\" tabindex=\"-1\">\\n\\t\\t\\t\\t\\t\\t\\t\\t<div class=\"photo\">\\n\\n\\t\\t\\t\\t\\t\\t\\t\\t\\t<img src=\"/data/store/1_110.jpg\" alt=\"수서역원방빌딩점\">\\n\\n\\t\\t\\t\\t\\t\\t\\t\\t</div>\\n\\t\\t\\t\\t\\t\\t\\t\\t<div class=\"txt_box\">\\n\\t\\t\\t\\t\\t\\t\\t\\t\\t<p class=\"name\">수서역원방빌딩점</p>\\n\\t\\t\\t\\t\\t\\t\\t\\t\\t<p class=\"addr\">\\n\\t\\t\\t\\t\\t\\t\\t\\t\\t\\t<span>서울 강남구 광평로 51길 6-23 원방테크사옥 1층</span>\\n\\t\\t\\t\\t\\t\\t\\t\\t\\t\\t<!--span class=\"lot\">서울특별시 강남구 신사동 648-12</span-->\\n\\t\\t\\t\\t\\t\\t\\t\\t\\t\\t<span>02-3473-3830</span>\\n\\t\\t\\t\\t\\t\\t\\t\\t\\t</p>\\n\\t\\t\\t\\t\\t\\t\\t\\t</div>\\n\\t\\t\\t\\t\\t\\t\\t</a>\\n\\t\\t\\t\\t\\t\\t</div><div class=\"slick-slide\" style=\"width: 570px;\" data-slick-index=\"25\" aria-hidden=\"true\" tabindex=\"-1\" role=\"option\" aria-describedby=\"slick-slide025\">\\n\\t\\t\\t\\t\\t\\t\\t<a href=\"javascript:storePop2(359);void(0);\" tabindex=\"-1\">\\n\\t\\t\\t\\t\\t\\t\\t\\t<div class=\"photo\">\\n\\n\\t\\t\\t\\t\\t\\t\\t\\t\\t<img src=\"/data/store/0_3.jpg\" alt=\"KB국민은행노원역점\">\\n\\n\\t\\t\\t\\t\\t\\t\\t\\t</div>\\n\\t\\t\\t\\t\\t\\t\\t\\t<div class=\"txt_box\">\\n\\t\\t\\t\\t\\t\\t\\t\\t\\t<p class=\"name\">KB국민은행노원역점</p>\\n\\t\\t\\t\\t\\t\\t\\t\\t\\t<p class=\"addr\">\\n\\t\\t\\t\\t\\t\\t\\t\\t\\t\\t<span>서울시 노원구 동일로 1405, 1층 일부</span>\\n\\t\\t\\t\\t\\t\\t\\t\\t\\t\\t<!--span class=\"lot\">서울특별시 강남구 신사동 648-12</span-->\\n\\t\\t\\t\\t\\t\\t\\t\\t\\t\\t<span>02-930-9486</span>\\n\\t\\t\\t\\t\\t\\t\\t\\t\\t</p>\\n\\t\\t\\t\\t\\t\\t\\t\\t</div>\\n\\t\\t\\t\\t\\t\\t\\t</a>\\n\\t\\t\\t\\t\\t\\t</div><div class=\"slick-slide\" style=\"width: 570px;\" data-slick-index=\"26\" aria-hidden=\"true\" tabindex=\"-1\" role=\"option\" aria-describedby=\"slick-slide026\">\\n\\t\\t\\t\\t\\t\\t\\t<a href=\"javascript:storePop2(358);void(0);\" tabindex=\"-1\">\\n\\t\\t\\t\\t\\t\\t\\t\\t<div class=\"photo\">\\n\\n\\t\\t\\t\\t\\t\\t\\t\\t\\t<img src=\"/data/store/00.jpg\" alt=\"광주봉선점\">\\n\\n\\t\\t\\t\\t\\t\\t\\t\\t</div>\\n\\t\\t\\t\\t\\t\\t\\t\\t<div class=\"txt_box\">\\n\\t\\t\\t\\t\\t\\t\\t\\t\\t<p class=\"name\">광주봉선점</p>\\n\\t\\t\\t\\t\\t\\t\\t\\t\\t<p class=\"addr\">\\n\\t\\t\\t\\t\\t\\t\\t\\t\\t\\t<span>광주광역시 남구 봉선로 168</span>\\n\\t\\t\\t\\t\\t\\t\\t\\t\\t\\t<!--span class=\"lot\">서울특별시 강남구 신사동 648-12</span-->\\n\\t\\t\\t\\t\\t\\t\\t\\t\\t\\t<span>062-671-3371</span>\\n\\t\\t\\t\\t\\t\\t\\t\\t\\t</p>\\n\\t\\t\\t\\t\\t\\t\\t\\t</div>\\n\\t\\t\\t\\t\\t\\t\\t</a>\\n\\t\\t\\t\\t\\t\\t</div><div class=\"slick-slide\" style=\"width: 570px;\" data-slick-index=\"27\" aria-hidden=\"true\" tabindex=\"-1\" role=\"option\" aria-describedby=\"slick-slide027\">\\n\\t\\t\\t\\t\\t\\t\\t<a href=\"javascript:storePop2(357);void(0);\" tabindex=\"-1\">\\n\\t\\t\\t\\t\\t\\t\\t\\t<div class=\"photo\">\\n\\n\\t\\t\\t\\t\\t\\t\\t\\t\\t<img src=\"/data/store/15.jpg\" alt=\"이태원몬드리안호텔점\">\\n\\n\\t\\t\\t\\t\\t\\t\\t\\t</div>\\n\\t\\t\\t\\t\\t\\t\\t\\t<div class=\"txt_box\">\\n\\t\\t\\t\\t\\t\\t\\t\\t\\t<p class=\"name\">이태원몬드리안호텔점</p>\\n\\t\\t\\t\\t\\t\\t\\t\\t\\t<p class=\"addr\">\\n\\t\\t\\t\\t\\t\\t\\t\\t\\t\\t<span>서울시 용산구 장문로 23 몬드리안 서울 이태원호텔 101호</span>\\n\\t\\t\\t\\t\\t\\t\\t\\t\\t\\t<!--span class=\"lot\">서울특별시 강남구 신사동 648-12</span-->\\n\\t\\t\\t\\t\\t\\t\\t\\t\\t\\t<span>02-3775-0548</span>\\n\\t\\t\\t\\t\\t\\t\\t\\t\\t</p>\\n\\t\\t\\t\\t\\t\\t\\t\\t</div>\\n\\t\\t\\t\\t\\t\\t\\t</a>\\n\\t\\t\\t\\t\\t\\t</div><div class=\"slick-slide slick-cloned\" style=\"width: 570px;\" data-slick-index=\"28\" aria-hidden=\"true\" tabindex=\"-1\">\\n\\t\\t\\t\\t\\t\\t\\t<a href=\"javascript:storePop2(388);void(0);\" tabindex=\"-1\">\\n\\t\\t\\t\\t\\t\\t\\t\\t<div class=\"photo\">\\n\\n\\t\\t\\t\\t\\t\\t\\t\\t\\t<img src=\"/data/store/11_2.jpg\" alt=\"고대안암병원신관점\">\\n\\n\\t\\t\\t\\t\\t\\t\\t\\t</div>\\n\\t\\t\\t\\t\\t\\t\\t\\t<div class=\"txt_box\">\\n\\t\\t\\t\\t\\t\\t\\t\\t\\t<p class=\"name\">고대안암병원신관점</p>\\n\\t\\t\\t\\t\\t\\t\\t\\t\\t<p class=\"addr\">\\n\\t\\t\\t\\t\\t\\t\\t\\t\\t\\t<span>서울특별시 성북구 고려대로 73</span>\\n\\t\\t\\t\\t\\t\\t\\t\\t\\t\\t<!--span class=\"lot\">서울특별시 강남구 신사동 648-12</span-->\\n\\t\\t\\t\\t\\t\\t\\t\\t\\t\\t<span>02-544-6823</span>\\n\\t\\t\\t\\t\\t\\t\\t\\t\\t</p>\\n\\t\\t\\t\\t\\t\\t\\t\\t</div>\\n\\t\\t\\t\\t\\t\\t\\t</a>\\n\\t\\t\\t\\t\\t\\t</div><div class=\"slick-slide slick-cloned\" style=\"width: 570px;\" data-slick-index=\"29\" aria-hidden=\"true\" tabindex=\"-1\">\\n\\t\\t\\t\\t\\t\\t\\t<a href=\"javascript:storePop2(387);void(0);\" tabindex=\"-1\">\\n\\t\\t\\t\\t\\t\\t\\t\\t<div class=\"photo\">\\n\\n\\t\\t\\t\\t\\t\\t\\t\\t\\t<img src=\"/data/store/어드민1_4.jpg\" alt=\"압구정로데오2호점\">\\n\\n\\t\\t\\t\\t\\t\\t\\t\\t</div>\\n\\t\\t\\t\\t\\t\\t\\t\\t<div class=\"txt_box\">\\n\\t\\t\\t\\t\\t\\t\\t\\t\\t<p class=\"name\">압구정로데오2호점</p>\\n\\t\\t\\t\\t\\t\\t\\t\\t\\t<p class=\"addr\">\\n\\t\\t\\t\\t\\t\\t\\t\\t\\t\\t<span>서울특별시 강남구 선릉로 157길 22 2층</span>\\n\\t\\t\\t\\t\\t\\t\\t\\t\\t\\t<!--span class=\"lot\">서울특별시 강남구 신사동 648-12</span-->\\n\\t\\t\\t\\t\\t\\t\\t\\t\\t\\t<span>02-3444-9973</span>\\n\\t\\t\\t\\t\\t\\t\\t\\t\\t</p>\\n\\t\\t\\t\\t\\t\\t\\t\\t</div>\\n\\t\\t\\t\\t\\t\\t\\t</a>\\n\\t\\t\\t\\t\\t\\t</div></div></div><ul class=\"slick-dots\" style=\"display: block;\" role=\"tablist\"><li class=\"\" aria-hidden=\"true\" role=\"presentation\" aria-selected=\"true\" aria-controls=\"navigation00\" id=\"slick-slide00\"><button type=\"button\" data-role=\"none\" role=\"button\" tabindex=\"0\">1</button></li><li aria-hidden=\"true\" role=\"presentation\" aria-selected=\"false\" aria-controls=\"navigation01\" id=\"slick-slide01\" class=\"\"><button type=\"button\" data-role=\"none\" role=\"button\" tabindex=\"0\">2</button></li><li aria-hidden=\"true\" role=\"presentation\" aria-selected=\"false\" aria-controls=\"navigation02\" id=\"slick-slide02\" class=\"\"><button type=\"button\" data-role=\"none\" role=\"button\" tabindex=\"0\">3</button></li><li aria-hidden=\"true\" role=\"presentation\" aria-selected=\"false\" aria-controls=\"navigation03\" id=\"slick-slide03\" class=\"\"><button type=\"button\" data-role=\"none\" role=\"button\" tabindex=\"0\">4</button></li><li aria-hidden=\"true\" role=\"presentation\" aria-selected=\"false\" aria-controls=\"navigation04\" id=\"slick-slide04\" class=\"\"><button type=\"button\" data-role=\"none\" role=\"button\" tabindex=\"0\">5</button></li><li aria-hidden=\"true\" role=\"presentation\" aria-selected=\"false\" aria-controls=\"navigation05\" id=\"slick-slide05\" class=\"\"><button type=\"button\" data-role=\"none\" role=\"button\" tabindex=\"0\">6</button></li><li aria-hidden=\"true\" role=\"presentation\" aria-selected=\"false\" aria-controls=\"navigation06\" id=\"slick-slide06\" class=\"\"><button type=\"button\" data-role=\"none\" role=\"button\" tabindex=\"0\">7</button></li><li aria-hidden=\"false\" role=\"presentation\" aria-selected=\"false\" aria-controls=\"navigation07\" id=\"slick-slide07\" class=\"slick-active\"><button type=\"button\" data-role=\"none\" role=\"button\" tabindex=\"0\">8</button></li><li aria-hidden=\"true\" role=\"presentation\" aria-selected=\"false\" aria-controls=\"navigation08\" id=\"slick-slide08\"><button type=\"button\" data-role=\"none\" role=\"button\" tabindex=\"0\">9</button></li><li aria-hidden=\"true\" role=\"presentation\" aria-selected=\"false\" aria-controls=\"navigation09\" id=\"slick-slide09\"><button type=\"button\" data-role=\"none\" role=\"button\" tabindex=\"0\">10</button></li><li aria-hidden=\"true\" role=\"presentation\" aria-selected=\"false\" aria-controls=\"navigation010\" id=\"slick-slide010\"><button type=\"button\" data-role=\"none\" role=\"button\" tabindex=\"0\">11</button></li><li aria-hidden=\"true\" role=\"presentation\" aria-selected=\"false\" aria-controls=\"navigation011\" id=\"slick-slide011\"><button type=\"button\" data-role=\"none\" role=\"button\" tabindex=\"0\">12</button></li><li aria-hidden=\"true\" role=\"presentation\" aria-selected=\"false\" aria-controls=\"navigation012\" id=\"slick-slide012\"><button type=\"button\" data-role=\"none\" role=\"button\" tabindex=\"0\">13</button></li><li aria-hidden=\"true\" role=\"presentation\" aria-selected=\"false\" aria-controls=\"navigation013\" id=\"slick-slide013\"><button type=\"button\" data-role=\"none\" role=\"button\" tabindex=\"0\">14</button></li></ul></div>\\n\\t\\t\\t\\t\\t<button id=\"btnControls1\" class=\"btn_controls play\" style=\"display: inline;\">pause/play</button>\\n\\t\\t\\t\\t</div>\\n\\t\\t\\t\\t<!-- //store_slide -->\\n\\n\\t\\t\\t</div>\\n\\t\\t\\t<!-- //store_wrap -->\\n\\n\\t\\t\\t<div id=\"hiddenSNS\" style=\"display:none;\">\\n\\t\\t\\t\\t<div class=\"ssSocial-Sharing loaded\" data-requesturl=\"//www.coffeebeankorea.com/store/store.asp\" data-btnimage=\"/images/_temp/ico_twitter.png,/images/_temp/ico_facebook.png,/images/_temp/ico_kakaostory.png\" data-requestsns=\"T,F,KS\">\\n\\t\\t\\t\\t\\t\\t\\t\\t<div id=\"ssSocial-Sharing\">\\t\\t\\t\\t\\t<ul>\\t\\t\\t\\t<li class=\"twitter\"><a href=\"#\" title=\"트위터 공유하기 새창열기\"><img src=\"/images/_temp/ico_twitter.png\" alt=\"트위터 공유하기\"></a></li>\\t\\t\\t\\t<li class=\"facebook\"><a href=\"#\" title=\"페이스북 공유하기 새창열기\"><img src=\"/images/_temp/ico_facebook.png\" alt=\"페이스북 공유하기\"></a></li>\\t\\t\\t\\t<li class=\"kakaostory\"><a href=\"#\" title=\"카카오스토리 공유하기 새창열기\"><img src=\"/images/_temp/ico_kakaostory.png\" alt=\"카카오스토리 공유하기\"></a></li>\\t\\t\\t\\t\\t</ul>\\t\\t\\t\\t</div></div>\\n\\t\\t\\t</div>\\n\\n\\t\\t</div>\\n\\t\\t<script>\\t\\t\\t\\n\\t\\t\\t\\tvar headerH = jQuery(\\'#header\\').innerHeight();\\n\\t\\t\\t\\t// 페이지 이동 시\\n\\t\\t\\t\\t$(window).load(function(){\\n\\t\\t\\t\\t\\tvar memberH = jQuery(\\'.header_member\\').height();\\n\\t\\t\\t\\t\\t// Remove the # from the hash, as different browsers may or may not include it\\n\\t\\t\\t\\t\\tvar hash = location.hash.replace(\\'#\\',\\'\\');\\n\\t\\t\\t\\t\\t//console.log(hash);\\n\\t\\t\\t\\t\\tif(hash != \\'\\'){\\n\\t\\t\\t\\t\\t\\t//console.log($(\\'[id=\"\\' + hash + \\'\"]\\'));\\n\\t\\t\\t\\t\\t\\tvar hashOffset = $(\\'[id=\"\\' + hash + \\'\"]\\').offset();\\n\\t\\t\\t\\t\\t   // Clear the hash in the URL\\n\\t\\t\\t\\t\\t   // location.hash = \\'\\';   // delete front \"//\" if you want to change the address bar\\n\\t\\t\\t\\t\\t\\t$(\\'html, body\\').animate({ \\n\\t\\t\\t\\t\\t\\t\\tscrollTop: hashOffset.top - (headerH + memberH + 20)\\n\\t\\t\\t\\t\\t\\t}, 300);\\n\\n\\t\\t\\t\\t\\t}\\n\\t\\t\\t\\t});\\n\\t\\t\\t\\tjQuery(function() {\\n\\t\\t\\t\\t\\t// 링크 클릭시\\n\\t\\t\\t\\t\\tjQuery(\\'a[href*=\"/store/store.asp#\"]:not([href=\"#\"])\\').click(function() {\\n\\t\\t\\t\\t\\t\\tvar memberH = jQuery(\\'.header_member\\').height();\\n\\t\\t\\t\\t\\t\\tvar targetOffset = $(\\'[id=\"\\' + $.attr(this, \\'href\\').substr(17) + \\'\"]\\').offset();\\n\\t\\t\\t\\t\\t\\tvar moveNum = jQuery(\\'.gnb_m\\').css(\\'width\\');\\n\\t\\t\\t\\t\\t\\t//console.log($(\\'[id=\"\\' + $.attr(this, \\'href\\').substr(26) + \\'\"]\\'));\\n\\t\\t\\t\\t\\t\\t//console.log(targetOffset);\\n\\t\\t\\t\\t\\t\\tjQuery(\\'#wrap\\').animate({left:0},200,function(e){\\n\\t\\t\\t\\t\\t\\t\\tjQuery(\\'#wrap\\').removeClass(\\'on\\');\\n\\t\\t\\t\\t\\t\\t\\tjQuery(\\'body\\').removeClass(\\'gnb_on\\');\\n\\t\\t\\t\\t\\t\\t});\\n\\t\\t\\t\\t\\t\\tjQuery(\\'.gnb_m .depth2:not(:animated)\\').animate({left:\\'-\\'+moveNum},200);\\n\\t\\t\\t\\t\\t\\tjQuery(\\'.gnb_m:not(:animated)\\').animate({left:\\'-\\'+moveNum},200);\\n\\t\\t\\t\\t\\t\\tjQuery(\\'.gnb_m\\').css(\\'overflow-y\\', \\'scroll\\');\\n\\t\\t\\t\\t\\t\\tjQuery(\\'.gnb_m .depth2 > ul > li > a\\').removeClass(\\'on\\').children(\\'span\\').removeClass(\\'on\\');\\n\\t\\t\\t\\t\\t\\tjQuery(\\'.gnb_m .depth3\\').slideUp();\\n\\t\\t\\t\\t\\t\\tjQuery(\\'.bg_wrap\\').hide();\\n\\t\\t\\t\\t\\t\\tjQuery(\\'html, body\\').animate({\\n\\t\\t\\t\\t\\t\\t\\tscrollTop: targetOffset.top - (headerH + memberH + 20)\\n\\t\\t\\t\\t\\t\\t}, 300);\\n\\t\\t\\t\\t\\t\\treturn false;\\t\\n\\t\\t\\t\\t\\t});\\n\\t\\t\\t\\t});\\n\\t\\t</script>\\n\\t\\t<!-- end of :: contents -->\\n\\t\\t\\n\\t\\t<!-- start of :: footer -->\\n\\t\\t<div id=\"footer\">\\n\\t\\t\\t<div class=\"inner_footer\">\\n\\t\\t\\t\\t\\n\\t\\t\\t\\t<div class=\"sitemap\">\\n\\t\\t\\t\\t\\t<div>\\n\\t\\t\\t\\t\\t\\t<div style=\"width: 205px\">\\n\\t\\t\\t\\t\\t\\t\\t<h2>Buy Online</h2>\\n\\t\\t\\t\\t\\t\\t\\t<ul>\\n\\t\\t\\t\\t\\t\\t\\t\\t<li><a href=\"/product/list.asp\">VIEW ALL</a></li>\\n\\t\\t\\t\\t\\t\\t\\t\\t<li><a href=\"/product/list.asp?no=4\">커피</a></li>\\n\\t\\t\\t\\t\\t\\t\\t\\t<li><a href=\"/product/list.asp?no=3\">티</a></li>\\n\\t\\t\\t\\t\\t\\t\\t\\t<li><a href=\"/product/list.asp?no=2\">CBTL 시스템</a></li>\\n\\t\\t\\t\\t\\t\\t\\t\\t<li><a href=\"/product/list.asp?no=5\">상품</a></li>\\n\\t\\t\\t\\t\\t\\t\\t\\t\\n\\t\\t\\t\\t\\t\\t\\t</ul>\\n\\t\\t\\t\\t\\t\\t</div>\\n\\n\\t\\t\\t\\t\\t\\t<div style=\"width: 240px\">\\n\\t\\t\\t\\t\\t\\t\\t<h2>Member`s Club</h2>\\n\\t\\t\\t\\t\\t\\t\\t<ul>\\n\\t\\t\\t\\t\\t\\t\\t\\t<li><a href=\"/card/about.asp\">커피빈 멤버스 클럽</a></li>\\n\\t\\t\\t\\t\\t\\t\\t\\t<li><a href=\"/mypage/my_club.asp\">나의 커피빈</a></li>\\n\\t\\t\\t\\t\\t\\t\\t\\t\\n\\t\\t\\t\\t\\t\\t\\t</ul>\\n\\t\\t\\t\\t\\t\\t</div>\\n\\n\\t\\t\\t\\t\\t\\t<!-- <div>\\n\\t\\t\\t\\t\\t\\t\\t<h2>Promotion</h2>\\n\\t\\t\\t\\t\\t\\t\\t<ul>\\n\\t\\t\\t\\t\\t\\t\\t\\t<li><a href=\"/promotion/list.asp\">PROMOTION</a></li>\\n\\t\\t\\t\\t\\t\\t\\t\\t<li><a href=\"/promotion/list.asp\">PROMOTION DRINKS</a></li>\\n\\t\\t\\t\\t\\t\\t\\t</ul>\\n\\t\\t\\t\\t\\t\\t</div> -->\\n\\n\\t\\t\\t\\t\\t\\t<div style=\"width: 165px\">\\n\\t\\t\\t\\t\\t\\t\\t<h2>Menu</h2>\\n\\t\\t\\t\\t\\t\\t\\t<ul>\\n\\t\\t\\t\\t\\t\\t\\t\\t<li><a href=\"/menu/list.asp\">음료</a></li>\\n\\t\\t\\t\\t\\t\\t\\t\\t<li><a href=\"/menu/list.asp?category2=2\">푸드</a></li>\\n\\t\\t\\t\\t\\t\\t\\t\\t<li><a href=\"/menu/list.asp?category2=2\">상품</a></li>\\n\\t\\t\\t\\t\\t\\t\\t\\t<li><a href=\"/card/e_gift.asp\">카드</a></li>\\n\\t\\t\\t\\t\\t\\t\\t</ul>\\n\\t\\t\\t\\t\\t\\t</div>\\n\\n\\t\\t\\t\\t\\t\\t<div style=\"width: 160px\">\\n\\t\\t\\t\\t\\t\\t\\t<h2>Store &amp; 서비스</h2>\\n\\t\\t\\t\\t\\t\\t\\t<ul>\\n\\t\\t\\t\\t\\t\\t\\t\\t<li><a href=\"/catering/catering.asp\">케이터링 서비스</a></li>\\n\\t\\t\\t\\t\\t\\t\\t\\t<li><a href=\"/store/store.asp\">매장 찾기</a></li>\\n\\t\\t\\t\\t\\t\\t\\t\\t<li><a href=\"/store/store.asp?category=2\">신규 매장</a></li>\\n\\t\\t\\t\\t\\t\\t\\t</ul>\\n\\t\\t\\t\\t\\t\\t</div>\\n<!-- \\t\\t\\t\\t\\t</div>\\n\\t\\t\\t\\t\\t\\n\\t\\t\\t\\t\\t<div class=\"sitemap_bottom\"> -->\\n\\t\\t\\t\\t\\t\\t<div style=\"width: 250px\">\\n\\t\\t\\t\\t\\t\\t\\t<h2>The Coffee Bean</h2>\\n\\t\\t\\t\\t\\t\\t\\t<ul>\\n\\t\\t\\t\\t\\t\\t\\t\\t<li><a href=\"/about/coffeebean.asp\">커피빈 코리아</a></li>\\n\\t\\t\\t\\t\\t\\t\\t\\t<li><a href=\"/news/list.asp\">커피빈 소식</a></li>\\n\\t\\t\\t\\t\\t\\t\\t\\t<li><a href=\"/about/responsibility.asp\">사회공헌</a></li>\\n\\t\\t\\t\\t\\t\\t\\t\\t<li><a href=\"/customer/marketing.asp\"><b>제휴 마케팅 제안</b></a></li>\\n\\t\\t\\t\\t\\t\\t\\t\\t<li><a href=\"/recruit/recruit.asp\">채용안내</a></li>\\n\\t\\t\\t\\t\\t\\t\\t\\t<li><a href=\"/about/standing_point.asp\">신규 입점 제의</a></li>\\n\\t\\t\\t\\t\\t\\t\\t\\t<li><a href=\"/about/finance.asp\">결산공고</a></li>\\n\\t\\t\\t\\t\\t\\t\\t</ul>\\n\\t\\t\\t\\t\\t\\t</div>\\n\\n\\t\\t\\t\\t\\t<!-- \\t<div>\\n\\t\\t\\t\\t\\t\\t\\t<h2>Customer Relations</h2>\\n\\t\\t\\t\\t\\t\\t\\t<ul>\\n\\t\\t\\t\\t\\t\\t\\t\\t<li><a href=\"/customer/faq_list.asp\">FAQ</a></li>\\n\\t\\t\\t\\t\\t\\t\\t\\t<li><a href=\"/mypage/qna_write.asp\">고객의 소리</a></li>\\n\\t\\t\\t\\t\\t\\t\\t\\t<li><a href=\"/mypage/qna_write.asp\">CBTL SERVICE</a></li>\\n\\t\\t\\t\\t\\t\\t\\t\\t<li><a href=\"/customer/barcode.asp\">상품권 잔액확인</a></li>\\n\\t\\t\\t\\t\\t\\t\\t\\t<li><a href=\"/customer/heavybuying.asp\">기업 및 단체구매</a></li>\\n\\t\\t\\t\\t\\t\\t\\t</ul>\\n\\t\\t\\t\\t\\t\\t</div> -->\\n\\n\\t\\t\\t\\t\\t\\t<div style=\"width: 180px\">\\n\\t\\t\\t\\t\\t\\t\\t<h2>CBTL</h2>\\n\\t\\t\\t\\t\\t\\t\\t<ul>\\n\\t\\t\\t\\t\\t\\t\\t\\t<li><a href=\"/cbtl/cbtl.asp\">CBTL 가이드</a></li>\\n\\t\\t\\t\\t\\t\\t\\t\\t<li><a href=\"/cbtl/overview.asp\">CBTL 서비스</a></li>\\n\\t\\t\\t\\t\\t\\t\\t\\t<li><a href=\"/cbtl/as_service.asp\">AS 안내</a></li>\\n\\t\\t\\t\\t\\t\\t\\t\\t<li><a href=\"/cbtl/as_self.asp\">AS 신청</a></li>\\n\\t\\t\\t\\t\\t\\t\\t\\t<li><a href=\"/cbtl/faq_list.asp\">CBTL FAQ</a></li>\\n\\t\\t\\t\\t\\t\\t\\t\\t<li><a href=\"/cbtl/manual.asp\">제품설명서</a></li>\\n\\t\\t\\t\\t\\t\\t\\t\\t<!--li><a href=\"/cbtl/machine.asp\">기업용 머신</a></li-->\\n\\t\\t\\t\\t\\t\\t\\t</ul>\\n\\t\\t\\t\\t\\t\\t</div>\\n\\n\\t\\t\\t\\t\\t\\t<!-- <div>\\n\\t\\t\\t\\t\\t\\t\\t<h2>Social Media</h2>\\n\\t\\t\\t\\t\\t\\t\\t<ul>\\n\\t\\t\\t\\t\\t\\t\\t\\t<li><a href=\"https://www.facebook.com/thecoffeebeankorea/\" target=\"_blank\">FACEBOOK</a></li>\\n\\t\\t\\t\\t\\t\\t\\t\\t<li><a href=\"https://www.instagram.com/coffeebeankorea/\" target=\"_blank\">INSTAGRAM</a></li>\\n\\t\\t\\t\\t\\t\\t\\t\\t<li><a href=\"http://blog.naver.com/coffeebeankorea\" target=\"_blank\">BLOG</a></li>\\n\\t\\t\\t\\t\\t\\t\\t\\t<li><a href=\"https://twitter.com/coffeebean_kr\" target=\"_blank\">TWITTER</a></li>\\n\\t\\t\\t\\t\\t\\t\\t</ul>\\n\\t\\t\\t\\t\\t\\t</div> -->\\n\\n\\t\\t\\t\\t\\t\\t<!-- <div>\\n\\t\\t\\t\\t\\t\\t\\t<h2>Site Terms</h2>\\n\\t\\t\\t\\t\\t\\t\\t<ul>\\n\\t\\t\\t\\t\\t\\t\\t\\t<li><a href=\"/member/agree.asp\">이용약관</a></li>\\n\\t\\t\\t\\t\\t\\t\\t\\t<li><a href=\"/member/privacy.asp\" class=\"fc03\">개인정보취급방침</a></li>\\n\\t\\t\\t\\t\\t\\t\\t\\t<li><a href=\"/etc/policy.asp\">영상정보처리기기운영방침</a></li>\\n\\t\\t\\t\\t\\t\\t\\t\\t<li><a href=\"/member/memberscard_agree.asp\">멤버스카드이용약관</a></li>\\n\\t\\t\\t\\t\\t\\t\\t</ul>\\n\\t\\t\\t\\t\\t\\t</div> -->\\n\\t\\t\\t\\t\\t</div>\\n\\t\\t\\t\\t</div>\\n\\t\\t\\t\\t\\n\\t\\t\\t\\t<div class=\"sns_box sns_style\">\\n\\t\\t\\t\\t\\t<a href=\"https://www.facebook.com/thecoffeebeankorea/\" class=\"ico_facebook\" target=\"_blank\">FACEBOOK</a>\\n\\t\\t\\t\\t\\t<a href=\"https://www.instagram.com/coffeebean_kr/\" class=\"ico_instagram\" target=\"_blank\">INSTAGRAM</a>\\n\\t\\t\\t\\t\\t<a href=\"http://blog.naver.com/coffeebeankorea\" class=\"ico_blog\" target=\"_blank\">BLOG</a>\\n\\t\\t\\t\\t\\t<a href=\"https://twitter.com/coffeebean_kr\" class=\"ico_twitter\" target=\"_blank\">TWITTER</a>\\n\\t\\t\\t\\t\\t\\n\\t\\t\\t\\t\\t<!-- <a href=\"javascript:;\" class=\"btn_top\">TOP</a> -->\\n\\t\\t\\t\\t</div>\\n\\t\\t\\t\\t\\n\\n\\t\\t\\t\\t<div class=\"txt_box\">\\n\\t\\t\\t\\t\\t<div class=\"link\">\\n\\t\\t\\t\\t\\t\\t<!--a href=\"/member/agree.asp\">이용약관</a>ㅣ<a href=\"/member/privacy.asp\" class=\"fc01\">개인정보처리방침</a>ㅣ<a href=\"/etc/policy.asp\">영상정보처리기기운영방침</a>ㅣ<a href=\"/member/memberscard_agree.asp\">멤버스카드이용약관</a-->\\n\\n\\t\\t\\t\\t\\t\\t<!--19-12-30 위치기반 서비스 추가&변경-->\\n\\t\\t\\t\\t\\t\\t<a href=\"/member/agree.asp\">홈페이지 이용약관</a>ㅣ<a href=\"/member/privacy.asp\" class=\"fc01\">개인정보처리방침</a>ㅣ<a href=\"/etc/policy.asp\">영상정보처리기기운영방침</a>ㅣ<a href=\"/member/memberscard_agree.asp\">멤버스카드이용약관</a>ㅣ<a href=\"/member/location.asp\">위치기반서비스 이용약관</a>\\n\\t\\t\\t\\t\\t\\t<!--//19-12-30 위치기반 서비스 추가-->\\n\\n\\t\\t\\t\\t\\t</div>\\n\\n\\t\\t\\t\\t<!--2018-07-02 패밀리사이트 추가-->\\t\\t\\t\\n\\t\\t\\t\\t\\t<div class=\"f-familysite\"> <!--패밀리사이트 오픈시 클래스 open-->\\n\\t\\t\\t\\t\\t\\t<div class=\"inner\">\\n\\t\\t\\t\\t\\t\\t\\t<div>\\n\\t\\t\\t\\t\\t\\t\\t\\t<a href=\"#\" class=\"btn-family\">Family Site</a>\\n\\t\\t\\t\\t\\t\\t\\t\\t\\n\\t\\t\\t\\t\\t\\t\\t\\t<div class=\"family-box\">\\n\\t\\t\\t\\t\\t\\t\\t\\t\\t<div class=\"family-box--top\">\\n\\t\\t\\t\\t\\t\\t\\t\\t\\t\\t<p class=\"tit\">FAMILY SITE</p>\\n\\t\\t\\t\\t\\t\\t\\t\\t\\t\\t<a href=\"#\">CLOSE</a>\\n\\t\\t\\t\\t\\t\\t\\t\\t\\t</div>\\n\\n\\t\\t\\t\\t\\t\\t\\t\\t\\t<div class=\"fashion-box\">\\n\\t\\t\\t\\t\\t\\t\\t\\t\\t\\t<p><span>---FASHION---</span></p>\\n\\t\\t\\t\\t\\t\\t\\t\\t\\t\\t<ul>\\n\\t\\t\\t\\t\\t\\t\\t\\t\\t\\t\\t<li><a href=\"http://www.cathkidstonkorea.co.kr/\" target=\"_blank\">캐스키드슨</a></li>\\n\\t\\t\\t\\t\\t\\t\\t\\t\\t\\t\\t<li><a href=\"http://www.nealsyardkorea.com/\" target=\"_blank\">닐스야드 레머디스</a></li>\\n\\t\\t\\t\\t\\t\\t\\t\\t\\t\\t\\t<li><a href=\"http://www.aldoshoeskorea.com/\" target=\"_blank\">알도</a></li>\\n\\t\\t\\t\\t\\t\\t\\t\\t\\t\\t\\t<li><a href=\"http://www.lesportsackorea.com/\" target=\"_blank\">레스포색</a></li>\\n\\t\\t\\t\\t\\t\\t\\t\\t\\t\\t\\t<li><a href=\"https://www.etamkorea.com/\" target=\"_blank\">에탐</a></li>\\n\\t\\t\\t\\t\\t\\t\\t\\t\\t\\t\\t<li><a href=\"http://www.kinkirobot.com/\" target=\"_blank\">킨키로봇</a></li>\\n\\t\\t\\t\\t\\t\\t\\t\\t\\t\\t\\t<li><a href=\"http://www.monicavinader.co.kr/\" target=\"_blank\">모니카비니더</a></li>\\n\\t\\t\\t\\t\\t\\t\\t\\t\\t\\t\\t<li><a href=\"https://www.repetto.kr/\" target=\"_blank\">레페토</a></li>\\n\\t\\t\\t\\t\\t\\t\\t\\t\\t\\t\\t<li><a href=\"http://www.lancasterkorea.com/\" target=\"_blank\">랑카스터</a></li>\\n\\t\\t\\t\\t\\t\\t\\t\\t\\t\\t\\t<li><a href=\"http://www.agathakorea.com/\" target=\"_blank\">아가타</a></li>\\n\\t\\t\\t\\t\\t\\t\\t\\t\\t\\t\\t<li><a href=\"http://www.fauxpaspariskorea.com/\" target=\"_blank\">뽀빠파리</a></li>\\n\\t\\t\\t\\t\\t\\t\\t\\t\\t\\t\\t<li><a href=\"http://www.bricskorea.co.kr/\" target=\"_blank\">브릭스</a></li>\\n\\t\\t\\t\\t\\t\\t\\t\\t\\t\\t\\t<li><a href=\"#\" target=\"_blank\">판도라</a></li>\\n\\t\\t\\t\\t\\t\\t\\t\\t\\t\\t</ul>\\n\\t\\t\\t\\t\\t\\t\\t\\t\\t</div>\\n\\n\\t\\t\\t\\t\\t\\t\\t\\t\\t<div class=\"beauty-box\">\\n\\t\\t\\t\\t\\t\\t\\t\\t\\t\\t<p><span>---BEAUTY---</span></p>\\n\\t\\t\\t\\t\\t\\t\\t\\t\\t\\t<ul>\\n\\t\\t\\t\\t\\t\\t\\t\\t\\t\\t\\t<li><a href=\"http://www.aippo.co.kr/\" target=\"_blank\">아이뽀</a></li>\\n\\t\\t\\t\\t\\t\\t\\t\\t\\t\\t</ul>\\n\\t\\t\\t\\t\\t\\t\\t\\t\\t</div>\\n\\n\\t\\t\\t\\t\\t\\t\\t\\t\\t<div class=\"fnb-box\">\\n\\t\\t\\t\\t\\t\\t\\t\\t\\t\\t<p><span>----F&amp;b----</span></p>\\n\\t\\t\\t\\t\\t\\t\\t\\t\\t\\t<ul>\\n\\t\\t\\t\\t\\t\\t\\t\\t\\t\\t\\t<li><a href=\"http://www.kyotokatsugyu.com/\" target=\"_blank\">교토가츠규</a></li>\\n\\t\\t\\t\\t\\t\\t\\t\\t\\t\\t\\t<li><a href=\"http://www.kusmiteakorea.com/\" target=\"_blank\">쿠스미</a></li>\\n\\t\\t\\t\\t\\t\\t\\t\\t\\t\\t</ul>\\n\\t\\t\\t\\t\\t\\t\\t\\t\\t</div>\\n\\n<!-- \\t\\t\\t\\t\\t\\t\\t\\t\\t<div class=\"etc-box\">\\n\\t\\t\\t\\t\\t\\t\\t\\t\\t\\t<p><span>---자매회사---</span></p>\\n\\t\\t\\t\\t\\t\\t\\t\\t\\t\\t<ul>\\n\\t\\t\\t\\t\\t\\t\\t\\t\\t\\t\\t<li><a href=\"http://www.coffeebeankorea.com/main/main.asp\" target=\"_blank\">커피빈</a></li>\\n\\t\\t\\t\\t\\t\\t\\t\\t\\t\\t</ul>\\n\\t\\t\\t\\t\\t\\t\\t\\t\\t</div> -->\\n\\t\\t\\t\\t\\t\\t\\t\\t</div>\\n\\t\\t\\t\\t\\t\\t\\t</div>\\n\\t\\t\\t\\t\\t\\t</div>\\n\\t\\t\\t\\t\\t</div>\\t\\t\\n\\t\\t\\t\\t<!--//2018-07-02 패밀리사이트 추가-->\\t\\t\\t\\t\\n\\t\\t\\t\\t\\t<div class=\"address\">\\n\\t\\t\\t\\t\\t\\t(주)커피빈코리아 대표이사 감종철  <span class=\"m_hidden\">ㅣ</span><br class=\"d_hidden t_hidden\">  사업자등록번호 120-86-07029  <span class=\"m_hidden\">ㅣ</span><br class=\"d_hidden t_hidden\">  통신판매업신고 제 2010-서울강남-00560<br>\\n\\t\\t\\t\\t\\t\\t서울시 강남구 봉은사로 99길 7  <span class=\"m_hidden\">ㅣ</span><br class=\"d_hidden t_hidden\">  고객센터 02-1577-4708 (09:00  - 18:00) <span class=\"m_hidden\">ㅣ</span><br class=\"d_hidden t_hidden\">E-mail : cbk@coffeebeankorea.com<br>\\n\\t\\t\\t\\t\\t\\t<!--호스팅사업자 : SK브로드밴드<br/>-->\\n\\t\\t\\t\\t\\t\\tⓒ 2021. The Coffee Bean. All rights reserved. \\n\\t\\t\\t\\t\\t\\t\\t\\n\\t\\t\\t\\t\\t</div>\\n\\t\\t\\t\\t</div>\\n\\t\\t\\t\\t\\n\\t\\t\\t</div>\\n\\t\\t</div>\\n\\t\\t<!-- end of :: footer -->\\n\\t\\t<p id=\"backTop2\" style=\"display: none;\">\\n\\t\\t\\t<a href=\"#top\"><span>TOP</span></a>\\n\\t\\t</p>\\n\\n<iframe name=\"dataFrame\" id=\"dataFrame\" style=\"display:none;\"></iframe>\\n\\n\\t</div>\\n\\t<!-- end of :: wrap -->\\n\\n\\n<div id=\"matizCoverLayer0\" class=\"matizCoverLayer\" style=\"position: fixed; z-index: 99999; left: 0px; top: 0px; width: 1019px; height: 657px; display: block;\"><div id=\"matizCoverLayer0Bg\" class=\"matizCoverLayerBg\" style=\"position: fixed; background: rgb(0, 0, 0); opacity: 0.75; z-index: 99999; left: 0px; top: 0px; width: 100%; height: 100%;\"></div><div id=\"matizCoverLayer0Content\" class=\"matizCoverLayerContent\" style=\"position: fixed; z-index: 99999; left: 29.5px; top: 53.5px;\"><div class=\"store_popup\">\\t<div class=\"popup_inner\">\\t\\t<div class=\"store_pop_slide\">\\t\\t\\t<div class=\"slide_box slick-initialized slick-slider slick-dotted\" role=\"toolbar\"><div aria-live=\"polite\" class=\"slick-list draggable\"><div class=\"slick-track\" role=\"listbox\" style=\"opacity: 1; width: 2750px;\"><div class=\"slick-slide\" data-slick-index=\"0\" aria-hidden=\"true\" tabindex=\"-1\" role=\"option\" aria-describedby=\"slick-slide10\" style=\"width: 550px; position: relative; left: 0px; top: 0px; z-index: 998; opacity: 0; transition: opacity 500ms ease 0s;\"><img src=\"/data/store/05.jpg\" alt=\"\"></div><div class=\"slick-slide slick-current slick-active\" data-slick-index=\"1\" aria-hidden=\"false\" tabindex=\"-1\" role=\"option\" aria-describedby=\"slick-slide11\" style=\"width: 550px; position: relative; left: -550px; top: 0px; z-index: 999; opacity: 1;\"><img src=\"/data/store/04.jpg\" alt=\"\"></div><div class=\"slick-slide\" data-slick-index=\"2\" aria-hidden=\"true\" tabindex=\"-1\" role=\"option\" aria-describedby=\"slick-slide12\" style=\"width: 550px; position: relative; left: -1100px; top: 0px; z-index: 998; opacity: 0;\"><img src=\"/data/store/서울대입구역_펫.jpg\" alt=\"\"></div><div class=\"slick-slide\" data-slick-index=\"3\" aria-hidden=\"true\" tabindex=\"-1\" role=\"option\" aria-describedby=\"slick-slide13\" style=\"width: 550px; position: relative; left: -1650px; top: 0px; z-index: 998; opacity: 0;\"><img src=\"/data/store/03.jpg\" alt=\"\"></div><div class=\"slick-slide\" data-slick-index=\"4\" aria-hidden=\"true\" tabindex=\"-1\" role=\"option\" aria-describedby=\"slick-slide14\" style=\"width: 550px; position: relative; left: -2200px; top: 0px; z-index: 998; opacity: 0;\"><img src=\"/data/store/서울대입구역_펫1.jpg\" alt=\"\"></div></div></div>\\t\\t\\t<ul class=\"slick-dots\" style=\"display: block;\" role=\"tablist\"><li class=\"\" aria-hidden=\"true\" role=\"presentation\" aria-selected=\"true\" aria-controls=\"navigation10\" id=\"slick-slide10\"><button type=\"button\" data-role=\"none\" role=\"button\" tabindex=\"0\">1</button></li><li aria-hidden=\"false\" role=\"presentation\" aria-selected=\"false\" aria-controls=\"navigation11\" id=\"slick-slide11\" class=\"slick-active\"><button type=\"button\" data-role=\"none\" role=\"button\" tabindex=\"0\">2</button></li><li aria-hidden=\"true\" role=\"presentation\" aria-selected=\"false\" aria-controls=\"navigation12\" id=\"slick-slide12\"><button type=\"button\" data-role=\"none\" role=\"button\" tabindex=\"0\">3</button></li><li aria-hidden=\"true\" role=\"presentation\" aria-selected=\"false\" aria-controls=\"navigation13\" id=\"slick-slide13\"><button type=\"button\" data-role=\"none\" role=\"button\" tabindex=\"0\">4</button></li><li aria-hidden=\"true\" role=\"presentation\" aria-selected=\"false\" aria-controls=\"navigation14\" id=\"slick-slide14\"><button type=\"button\" data-role=\"none\" role=\"button\" tabindex=\"0\">5</button></li></ul></div>\\t\\t\\t<button id=\"btnControls2\" class=\"btn_controls play\">pause/play</button>\\t\\t</div>\\t\\t<div class=\"store_txt\">\\t\\t\\t<h2>서울대입구역점</h2>\\t\\t\\t<p class=\"tag\"><span class=\"decaf\" title=\"디카페인\">디카페인</span><span class=\"soy\" title=\"두유\">두유</span><span class=\"wifi\" title=\"와이파이\">와이파이</span><span class=\"smoking\" title=\"흡연가능\">흡연가능</span><span class=\"capsule\" title=\"캡슐판매\">캡슐판매</span><span class=\"delivery\" title=\"딜리버리\">딜리버리</span>\\t\\t\\t</p>\\t\\t\\t<table class=\"store_table\">\\t\\t\\t\\t<tbody>\\t\\t\\t\\t\\t<tr>\\t\\t\\t\\t\\t\\t<th>영업시간</th>\\t\\t\\t\\t\\t\\t<td> I 평일 07:00~24:00 I 주말,공휴일 08:00~24:00 I </td>\\t\\t\\t\\t\\t</tr>\\t\\t\\t\\t\\t<tr>\\t\\t\\t\\t\\t\\t<th>주차</th>\\t\\t\\t\\t\\t\\t<td>&lt;와이파이이용가능&gt; / 주차불가 &lt;옥상테라스 이용 시에만 반려동물 동반 입점이 가능합니다.&gt;<br><br></td>\\t\\t\\t\\t\\t</tr>\\t\\t\\t\\t\\t<tr>\\t\\t\\t\\t\\t\\t<th>주소</th>\\t\\t\\t\\t\\t\\t<td>서울시 관악구 관악로 161 층일부 2,3층  <!--span class=\"lot\">(서울시 관악구 관악로 161 층일부 2,3층)</span--></td>\\t\\t\\t\\t\\t</tr>\\t\\t\\t\\t\\t<tr>\\t\\t\\t\\t\\t\\t<th>전화번호</th>\\t\\t\\t\\t\\t\\t<td>02-882-3101</td>\\t\\t\\t\\t\\t</tr>\\t\\t\\t\\t</tbody><tbody>\\t\\t\\t</tbody></table>\\t\\t</div>\\t\\t<div class=\"share_box\">\\t\\t\\t<a href=\"javascript:share_pc(\\'twitter\\', \\'141\\');void(0);\"><img alt=\"\" src=\"../../images/_temp/ico_twitter.png\"></a>\\t\\t\\t<a href=\"javascript:share_pc(\\'facebook\\', \\'141\\');void(0);\"><img alt=\"\" src=\"../../images/_temp/ico_facebook.png\"></a>\\t\\t\\t<a href=\"javascript:share_pc(\\'kakaostory\\', \\'141\\');void(0);\"><img alt=\"\" src=\"../../images/_temp/ico_kakaostory.png\"></a>\\t\\t</div>\\t\\t<button class=\"close\" id=\"closeBtn1ActiveBtn\" style=\"cursor: pointer;\"><img alt=\"닫기\" src=\"/images/btn/btn_close4.png\"></button>\\t</div></div></div></div></body></html>'"
      ]
     },
     "execution_count": 10,
     "metadata": {},
     "output_type": "execute_result"
    }
   ],
   "source": [
    "html = wd.page_source\n",
    "html"
   ]
  },
  {
   "cell_type": "code",
   "execution_count": 11,
   "id": "6cfcec64",
   "metadata": {},
   "outputs": [],
   "source": [
    "from bs4 import BeautifulSoup"
   ]
  },
  {
   "cell_type": "code",
   "execution_count": 15,
   "id": "4038d747",
   "metadata": {},
   "outputs": [
    {
     "data": {
      "text/plain": [
       "'서울대입구역점'"
      ]
     },
     "execution_count": 15,
     "metadata": {},
     "output_type": "execute_result"
    }
   ],
   "source": [
    "soup = BeautifulSoup(html, \"html.parser\")\n",
    "store_title = soup.select(\"div.store_txt>h2\")[0].text\n",
    "store_title"
   ]
  },
  {
   "cell_type": "code",
   "execution_count": 61,
   "id": "148c3a48",
   "metadata": {},
   "outputs": [],
   "source": [
    "#sotre 세부정보\n",
    "store_txt = soup.find('table',{'class':\"store_table\"})\n",
    "trs = store_txt.find_all(\"tr\")"
   ]
  },
  {
   "cell_type": "code",
   "execution_count": 63,
   "id": "aa175716",
   "metadata": {},
   "outputs": [
    {
     "data": {
      "text/plain": [
       "' I 평일 07:00~24:00 I 주말,공휴일 08:00~24:00 I'"
      ]
     },
     "execution_count": 63,
     "metadata": {},
     "output_type": "execute_result"
    }
   ],
   "source": [
    "trs[0].text.strip()[5:] #영업시간"
   ]
  },
  {
   "cell_type": "code",
   "execution_count": 62,
   "id": "9e67a262",
   "metadata": {},
   "outputs": [
    {
     "data": {
      "text/plain": [
       "'서울시 관악구 관악로 161 층일부 2,3층'"
      ]
     },
     "execution_count": 62,
     "metadata": {},
     "output_type": "execute_result"
    }
   ],
   "source": [
    "trs[2].text.strip()[3:] #주소 #제일 오른쪽은 슬라이스 사용함"
   ]
  },
  {
   "cell_type": "code",
   "execution_count": 59,
   "id": "533e1058",
   "metadata": {},
   "outputs": [
    {
     "data": {
      "text/plain": [
       "'02-882-3101'"
      ]
     },
     "execution_count": 59,
     "metadata": {},
     "output_type": "execute_result"
    }
   ],
   "source": [
    "trs[3].text.strip()[5:]  #전번"
   ]
  },
  {
   "cell_type": "code",
   "execution_count": 18,
   "id": "3956725f",
   "metadata": {},
   "outputs": [
    {
     "name": "stdout",
     "output_type": "stream",
     "text": [
      "1없다2없다3/4없다5없다6/7없다8없다9없다10없다11없다12/13/14없다15/16/17/18/19/20/21없다22없다23없다24없다25/26/27/28/29/30/31/32없다33없다34없다35/36/37없다38/39없다"
     ]
    }
   ],
   "source": [
    "import time\n",
    "from selenium import webdriver\n",
    "from bs4 import BeautifulSoup\n",
    "\n",
    "wd = webdriver.Chrome() # chromedriver.exe를 괄호 안에 적었어야 함\n",
    "\n",
    "list_store = []\n",
    "for page in range(1,40):\n",
    "    url = \"https://www.coffeebeankorea.com/store/store.asp\"\n",
    "    wd.get(url) #파이썬 코드로 제어할 수 있는 커피빈 창이 열림\n",
    "    time.sleep(1)\n",
    "    print(page, end=\"\")\n",
    "    try:\n",
    "        wd.execute_script(f\"storePop2('{page}')\")\n",
    "        time.sleep(1)\n",
    "        html = wd.page_source\n",
    "        soup = BeautifulSoup(html, \"html.parser\")\n",
    "        store_title = soup.select(\"div.store_txt>h2\")[0].text\n",
    "        store_txt = soup.find('table',{'class':\"store_table\"})\n",
    "        trs = store_txt.find_all(\"tr\")\n",
    "        list_store.append([page, store_title, trs[0].text.strip()[5:], trs[2].text.strip()[3:], trs[3].text.strip()[5:]])\n",
    "        print(\"/\",end=\"\")\n",
    "    except:\n",
    "        print(\"없다\",end=\"\")"
   ]
  },
  {
   "cell_type": "code",
   "execution_count": 20,
   "id": "e773e9e2",
   "metadata": {},
   "outputs": [
    {
     "data": {
      "text/plain": [
       "[[3,\n",
       "  '차병원점',\n",
       "  '평일 07:00~18:00 | 토요일 07:00~15:00 | 일.공휴일 휴무',\n",
       "  '서울시 강남구 논현로 566 강남차병원1층',\n",
       "  '02-538-7615'],\n",
       " [6,\n",
       "  '강남대로점',\n",
       "  '월-금 06:30-22:00 | 토-일,공휴일 08:00-22:00',\n",
       "  '서울시 서초구 강남대로 369 1층',\n",
       "  '02-588-5778'],\n",
       " [12,\n",
       "  '청담에스점',\n",
       "  '월-금 07:00~22:00 | 토 07:30~22:00 | 일/공휴일 07:30~21:00',\n",
       "  '서울시 강남구 압구정로 461 네이처포엠빌딩B108,109호',\n",
       "  '02-548-6052'],\n",
       " [13,\n",
       "  '신사점',\n",
       "  '월-목 07:00~22:00 | 금 07:00~23:00 | 토 08:00~23:00 | 일/공휴일 08:00~22:00',\n",
       "  '서울시 강남구 도산대로 126',\n",
       "  '02-548-2741'],\n",
       " [15,\n",
       "  '역삼점',\n",
       "  '월-목 07:00~22:00 | 금 07:00~22:30 | 토-일요일 08:00~22:00',\n",
       "  '서울시 강남구 논현로 512  지상1,2층',\n",
       "  '02-569-8051'],\n",
       " [16,\n",
       "  '양재스포타임점',\n",
       "  '월-금 06:30~22:00 | 토 7:00~ 22:00  | 일, 공휴일 08:00~21:00',\n",
       "  '서울시 서초구 강남대로 213 24호 지하1층',\n",
       "  '02-578-6833'],\n",
       " [17,\n",
       "  '청담성당점',\n",
       "  '월-금 07:00~21:00 | 토 07:30~21:00 | 일/공휴일 07:30~21:00',\n",
       "  '서울시 강남구 삼성로 716 LEE76빌딩2층',\n",
       "  '02-542-2053'],\n",
       " [18,\n",
       "  '영동점',\n",
       "  '월-목 07:00~23:00 | 금 07:00~24:00 | 토 08:00~24:00 | 일/공휴일 09:00~22:00',\n",
       "  '서울 서초구 반포동 736-17 P빌딩 2층',\n",
       "  '02-3443-2096'],\n",
       " [19,\n",
       "  '도곡점',\n",
       "  '월~금 06:30~22:00 |토,일, 공휴일 06:30~22:00',\n",
       "  '서울시 강남구 언주로 30길 10,112 현대비젼21 112호',\n",
       "  '02-572-2781'],\n",
       " [20,\n",
       "  '영동고앞점',\n",
       "  '월-금 07:00~22:00 | 토 07:30~22:00 | 일/공휴일 07:30~22:00',\n",
       "  '서울시 강남구 선릉로 749 1,2층',\n",
       "  '02-544-3794'],\n",
       " [25,\n",
       "  '압구정시티점',\n",
       "  '월-목 08:00~23:00 | 금-토 08:00~23:00 | 일/공휴일 08:00~22:00',\n",
       "  '서울시 강남구 도산대로49길 13 1층 17,18호',\n",
       "  '02-543-5922'],\n",
       " [26,\n",
       "  '압구정로데오점',\n",
       "  '월-목 08:00~23:00 | 금-토 08:00~24:00 | 일/공휴일 08:00~22:00',\n",
       "  '서울시 강남구 선릉로 157길 12 석전빌딩 1~4층',\n",
       "  '02-3445-5093'],\n",
       " [27,\n",
       "  '서초우성점',\n",
       "  '평일 07:00~22:30ㅣ토 07:00~22:30 I 일/공휴일 08:00~22:00',\n",
       "  '서울시 서초구 강남대로 51길 1 511 TOWER  1층',\n",
       "  '02-582-0158'],\n",
       " [28,\n",
       "  '논현팍스타워점',\n",
       "  ' 월-금 07:00~21:00 | 토 09:00~17:00 | 일,공휴일 09:00-17:00I',\n",
       "  '서울시 강남구 논현 231-13호 팍스타워지하1층',\n",
       "  '02-513-3870'],\n",
       " [29,\n",
       "  '삼성오크우드점',\n",
       "  '평일 07:00~21:00 | 주말/공휴일 08:00~21:00',\n",
       "  '서울 강남구 테헤란로87길 46 지하 2층',\n",
       "  '02-3466-8507'],\n",
       " [30,\n",
       "  '트레이드타워점',\n",
       "  '평일 07:00~21:00  | 주말/공휴일 10:00~19:00',\n",
       "  '서울시 강남구 영동대로 511 트레이드타워 지하1층',\n",
       "  '02-6002-6470'],\n",
       " [31,\n",
       "  '삼성봉은사거리점',\n",
       "  '평일 07:00-22:00 | 주말/공휴일 08:00-22:00',\n",
       "  '서울시 강남구 영동대로 607 1,2층',\n",
       "  '02-3443-5618'],\n",
       " [35,\n",
       "  '잠실신천점',\n",
       "  '월-금 07:00~22:00 | 주말&공휴일 07:00~21:00',\n",
       "  '서울시 송파구 석촌호수로 118 1층',\n",
       "  '02-416-9520'],\n",
       " [36,\n",
       "  '서초지파이브점',\n",
       "  '월-토 07:00~22:00 I 일 08:00~22:00',\n",
       "  '서울시 서초구 서초동 1685-8호 101~2호,113~4호,121호',\n",
       "  '02-3477-5580'],\n",
       " [38,\n",
       "  '논현동수면센터점',\n",
       "  '월-금 07:00~21:00 | 토 08:00~20:00 | 일/공휴일 08:00~20:00',\n",
       "  '서울시 강남구 논현로 717 1층',\n",
       "  '02-3443-5575']]"
      ]
     },
     "execution_count": 20,
     "metadata": {},
     "output_type": "execute_result"
    }
   ],
   "source": [
    "list_store"
   ]
  },
  {
   "cell_type": "code",
   "execution_count": 7,
   "id": "92da495e",
   "metadata": {},
   "outputs": [],
   "source": [
    "wd = webdriver.Chrome() # chromedriver.exe를 괄호 안에 적었어야 함\n",
    "url = \"https://www.coffeebeankorea.com/store/store.asp\"\n",
    "wd.get(url) #파이썬 코드로 제어할 수 있는 커피빈 창이 열림\n",
    "\n",
    "page = 4\n",
    "wd.execute_script(f\"storePop2('{page}')\")"
   ]
  },
  {
   "cell_type": "code",
   "execution_count": 21,
   "id": "02bf5fa6",
   "metadata": {},
   "outputs": [],
   "source": [
    "import pandas as pd"
   ]
  },
  {
   "cell_type": "code",
   "execution_count": 23,
   "id": "7a819294",
   "metadata": {},
   "outputs": [
    {
     "data": {
      "text/plain": [
       "20"
      ]
     },
     "execution_count": 23,
     "metadata": {},
     "output_type": "execute_result"
    }
   ],
   "source": [
    "len(list_store)"
   ]
  },
  {
   "cell_type": "code",
   "execution_count": 29,
   "id": "f63b2845",
   "metadata": {},
   "outputs": [
    {
     "data": {
      "text/plain": [
       "[1, 2, 3, 4, 5, 6, 7, 8, 9, 10, 11, 12, 13, 14, 15, 16, 17, 18, 19, 20]"
      ]
     },
     "execution_count": 29,
     "metadata": {},
     "output_type": "execute_result"
    }
   ],
   "source": [
    "list(map(lambda x: x+1, range(len(list_store))))"
   ]
  },
  {
   "cell_type": "code",
   "execution_count": 30,
   "id": "5bde9d89",
   "metadata": {
    "scrolled": true
   },
   "outputs": [
    {
     "data": {
      "text/html": [
       "<div>\n",
       "<style scoped>\n",
       "    .dataframe tbody tr th:only-of-type {\n",
       "        vertical-align: middle;\n",
       "    }\n",
       "\n",
       "    .dataframe tbody tr th {\n",
       "        vertical-align: top;\n",
       "    }\n",
       "\n",
       "    .dataframe thead th {\n",
       "        text-align: right;\n",
       "    }\n",
       "</style>\n",
       "<table border=\"1\" class=\"dataframe\">\n",
       "  <thead>\n",
       "    <tr style=\"text-align: right;\">\n",
       "      <th></th>\n",
       "      <th>페이지</th>\n",
       "      <th>위치</th>\n",
       "      <th>영업시간</th>\n",
       "      <th>주소</th>\n",
       "      <th>전화번호</th>\n",
       "    </tr>\n",
       "  </thead>\n",
       "  <tbody>\n",
       "    <tr>\n",
       "      <th>1</th>\n",
       "      <td>3</td>\n",
       "      <td>차병원점</td>\n",
       "      <td>평일 07:00~18:00 | 토요일 07:00~15:00 | 일.공휴일 휴무</td>\n",
       "      <td>서울시 강남구 논현로 566 강남차병원1층</td>\n",
       "      <td>02-538-7615</td>\n",
       "    </tr>\n",
       "    <tr>\n",
       "      <th>2</th>\n",
       "      <td>6</td>\n",
       "      <td>강남대로점</td>\n",
       "      <td>월-금 06:30-22:00 | 토-일,공휴일 08:00-22:00</td>\n",
       "      <td>서울시 서초구 강남대로 369 1층</td>\n",
       "      <td>02-588-5778</td>\n",
       "    </tr>\n",
       "    <tr>\n",
       "      <th>3</th>\n",
       "      <td>12</td>\n",
       "      <td>청담에스점</td>\n",
       "      <td>월-금 07:00~22:00 | 토 07:30~22:00 | 일/공휴일 07:30~...</td>\n",
       "      <td>서울시 강남구 압구정로 461 네이처포엠빌딩B108,109호</td>\n",
       "      <td>02-548-6052</td>\n",
       "    </tr>\n",
       "    <tr>\n",
       "      <th>4</th>\n",
       "      <td>13</td>\n",
       "      <td>신사점</td>\n",
       "      <td>월-목 07:00~22:00 | 금 07:00~23:00 | 토 08:00~23:0...</td>\n",
       "      <td>서울시 강남구 도산대로 126</td>\n",
       "      <td>02-548-2741</td>\n",
       "    </tr>\n",
       "    <tr>\n",
       "      <th>5</th>\n",
       "      <td>15</td>\n",
       "      <td>역삼점</td>\n",
       "      <td>월-목 07:00~22:00 | 금 07:00~22:30 | 토-일요일 08:00~...</td>\n",
       "      <td>서울시 강남구 논현로 512  지상1,2층</td>\n",
       "      <td>02-569-8051</td>\n",
       "    </tr>\n",
       "    <tr>\n",
       "      <th>6</th>\n",
       "      <td>16</td>\n",
       "      <td>양재스포타임점</td>\n",
       "      <td>월-금 06:30~22:00 | 토 7:00~ 22:00  | 일, 공휴일 08:0...</td>\n",
       "      <td>서울시 서초구 강남대로 213 24호 지하1층</td>\n",
       "      <td>02-578-6833</td>\n",
       "    </tr>\n",
       "    <tr>\n",
       "      <th>7</th>\n",
       "      <td>17</td>\n",
       "      <td>청담성당점</td>\n",
       "      <td>월-금 07:00~21:00 | 토 07:30~21:00 | 일/공휴일 07:30~...</td>\n",
       "      <td>서울시 강남구 삼성로 716 LEE76빌딩2층</td>\n",
       "      <td>02-542-2053</td>\n",
       "    </tr>\n",
       "    <tr>\n",
       "      <th>8</th>\n",
       "      <td>18</td>\n",
       "      <td>영동점</td>\n",
       "      <td>월-목 07:00~23:00 | 금 07:00~24:00 | 토 08:00~24:0...</td>\n",
       "      <td>서울 서초구 반포동 736-17 P빌딩 2층</td>\n",
       "      <td>02-3443-2096</td>\n",
       "    </tr>\n",
       "    <tr>\n",
       "      <th>9</th>\n",
       "      <td>19</td>\n",
       "      <td>도곡점</td>\n",
       "      <td>월~금 06:30~22:00 |토,일, 공휴일 06:30~22:00</td>\n",
       "      <td>서울시 강남구 언주로 30길 10,112 현대비젼21 112호</td>\n",
       "      <td>02-572-2781</td>\n",
       "    </tr>\n",
       "    <tr>\n",
       "      <th>10</th>\n",
       "      <td>20</td>\n",
       "      <td>영동고앞점</td>\n",
       "      <td>월-금 07:00~22:00 | 토 07:30~22:00 | 일/공휴일 07:30~...</td>\n",
       "      <td>서울시 강남구 선릉로 749 1,2층</td>\n",
       "      <td>02-544-3794</td>\n",
       "    </tr>\n",
       "    <tr>\n",
       "      <th>11</th>\n",
       "      <td>25</td>\n",
       "      <td>압구정시티점</td>\n",
       "      <td>월-목 08:00~23:00 | 금-토 08:00~23:00 | 일/공휴일 08:0...</td>\n",
       "      <td>서울시 강남구 도산대로49길 13 1층 17,18호</td>\n",
       "      <td>02-543-5922</td>\n",
       "    </tr>\n",
       "    <tr>\n",
       "      <th>12</th>\n",
       "      <td>26</td>\n",
       "      <td>압구정로데오점</td>\n",
       "      <td>월-목 08:00~23:00 | 금-토 08:00~24:00 | 일/공휴일 08:0...</td>\n",
       "      <td>서울시 강남구 선릉로 157길 12 석전빌딩 1~4층</td>\n",
       "      <td>02-3445-5093</td>\n",
       "    </tr>\n",
       "    <tr>\n",
       "      <th>13</th>\n",
       "      <td>27</td>\n",
       "      <td>서초우성점</td>\n",
       "      <td>평일 07:00~22:30ㅣ토 07:00~22:30 I 일/공휴일 08:00~22:00</td>\n",
       "      <td>서울시 서초구 강남대로 51길 1 511 TOWER  1층</td>\n",
       "      <td>02-582-0158</td>\n",
       "    </tr>\n",
       "    <tr>\n",
       "      <th>14</th>\n",
       "      <td>28</td>\n",
       "      <td>논현팍스타워점</td>\n",
       "      <td>월-금 07:00~21:00 | 토 09:00~17:00 | 일,공휴일 09:00...</td>\n",
       "      <td>서울시 강남구 논현 231-13호 팍스타워지하1층</td>\n",
       "      <td>02-513-3870</td>\n",
       "    </tr>\n",
       "    <tr>\n",
       "      <th>15</th>\n",
       "      <td>29</td>\n",
       "      <td>삼성오크우드점</td>\n",
       "      <td>평일 07:00~21:00 | 주말/공휴일 08:00~21:00</td>\n",
       "      <td>서울 강남구 테헤란로87길 46 지하 2층</td>\n",
       "      <td>02-3466-8507</td>\n",
       "    </tr>\n",
       "    <tr>\n",
       "      <th>16</th>\n",
       "      <td>30</td>\n",
       "      <td>트레이드타워점</td>\n",
       "      <td>평일 07:00~21:00  | 주말/공휴일 10:00~19:00</td>\n",
       "      <td>서울시 강남구 영동대로 511 트레이드타워 지하1층</td>\n",
       "      <td>02-6002-6470</td>\n",
       "    </tr>\n",
       "    <tr>\n",
       "      <th>17</th>\n",
       "      <td>31</td>\n",
       "      <td>삼성봉은사거리점</td>\n",
       "      <td>평일 07:00-22:00 | 주말/공휴일 08:00-22:00</td>\n",
       "      <td>서울시 강남구 영동대로 607 1,2층</td>\n",
       "      <td>02-3443-5618</td>\n",
       "    </tr>\n",
       "    <tr>\n",
       "      <th>18</th>\n",
       "      <td>35</td>\n",
       "      <td>잠실신천점</td>\n",
       "      <td>월-금 07:00~22:00 | 주말&amp;공휴일 07:00~21:00</td>\n",
       "      <td>서울시 송파구 석촌호수로 118 1층</td>\n",
       "      <td>02-416-9520</td>\n",
       "    </tr>\n",
       "    <tr>\n",
       "      <th>19</th>\n",
       "      <td>36</td>\n",
       "      <td>서초지파이브점</td>\n",
       "      <td>월-토 07:00~22:00 I 일 08:00~22:00</td>\n",
       "      <td>서울시 서초구 서초동 1685-8호 101~2호,113~4호,121호</td>\n",
       "      <td>02-3477-5580</td>\n",
       "    </tr>\n",
       "    <tr>\n",
       "      <th>20</th>\n",
       "      <td>38</td>\n",
       "      <td>논현동수면센터점</td>\n",
       "      <td>월-금 07:00~21:00 | 토 08:00~20:00 | 일/공휴일 08:00~...</td>\n",
       "      <td>서울시 강남구 논현로 717 1층</td>\n",
       "      <td>02-3443-5575</td>\n",
       "    </tr>\n",
       "  </tbody>\n",
       "</table>\n",
       "</div>"
      ],
      "text/plain": [
       "    페이지        위치                                               영업시간  \\\n",
       "1     3      차병원점        평일 07:00~18:00 | 토요일 07:00~15:00 | 일.공휴일 휴무   \n",
       "2     6     강남대로점              월-금 06:30-22:00 | 토-일,공휴일 08:00-22:00   \n",
       "3    12     청담에스점  월-금 07:00~22:00 | 토 07:30~22:00 | 일/공휴일 07:30~...   \n",
       "4    13       신사점  월-목 07:00~22:00 | 금 07:00~23:00 | 토 08:00~23:0...   \n",
       "5    15       역삼점  월-목 07:00~22:00 | 금 07:00~22:30 | 토-일요일 08:00~...   \n",
       "6    16   양재스포타임점  월-금 06:30~22:00 | 토 7:00~ 22:00  | 일, 공휴일 08:0...   \n",
       "7    17     청담성당점  월-금 07:00~21:00 | 토 07:30~21:00 | 일/공휴일 07:30~...   \n",
       "8    18       영동점  월-목 07:00~23:00 | 금 07:00~24:00 | 토 08:00~24:0...   \n",
       "9    19       도곡점              월~금 06:30~22:00 |토,일, 공휴일 06:30~22:00   \n",
       "10   20     영동고앞점  월-금 07:00~22:00 | 토 07:30~22:00 | 일/공휴일 07:30~...   \n",
       "11   25    압구정시티점  월-목 08:00~23:00 | 금-토 08:00~23:00 | 일/공휴일 08:0...   \n",
       "12   26   압구정로데오점  월-목 08:00~23:00 | 금-토 08:00~24:00 | 일/공휴일 08:0...   \n",
       "13   27     서초우성점   평일 07:00~22:30ㅣ토 07:00~22:30 I 일/공휴일 08:00~22:00   \n",
       "14   28   논현팍스타워점   월-금 07:00~21:00 | 토 09:00~17:00 | 일,공휴일 09:00...   \n",
       "15   29   삼성오크우드점                평일 07:00~21:00 | 주말/공휴일 08:00~21:00   \n",
       "16   30   트레이드타워점               평일 07:00~21:00  | 주말/공휴일 10:00~19:00   \n",
       "17   31  삼성봉은사거리점                평일 07:00-22:00 | 주말/공휴일 08:00-22:00   \n",
       "18   35     잠실신천점               월-금 07:00~22:00 | 주말&공휴일 07:00~21:00   \n",
       "19   36   서초지파이브점                    월-토 07:00~22:00 I 일 08:00~22:00   \n",
       "20   38  논현동수면센터점  월-금 07:00~21:00 | 토 08:00~20:00 | 일/공휴일 08:00~...   \n",
       "\n",
       "                                        주소          전화번호  \n",
       "1                  서울시 강남구 논현로 566 강남차병원1층   02-538-7615  \n",
       "2                      서울시 서초구 강남대로 369 1층   02-588-5778  \n",
       "3        서울시 강남구 압구정로 461 네이처포엠빌딩B108,109호   02-548-6052  \n",
       "4                         서울시 강남구 도산대로 126   02-548-2741  \n",
       "5                  서울시 강남구 논현로 512  지상1,2층   02-569-8051  \n",
       "6                서울시 서초구 강남대로 213 24호 지하1층   02-578-6833  \n",
       "7                서울시 강남구 삼성로 716 LEE76빌딩2층   02-542-2053  \n",
       "8                 서울 서초구 반포동 736-17 P빌딩 2층  02-3443-2096  \n",
       "9       서울시 강남구 언주로 30길 10,112 현대비젼21 112호   02-572-2781  \n",
       "10                    서울시 강남구 선릉로 749 1,2층   02-544-3794  \n",
       "11            서울시 강남구 도산대로49길 13 1층 17,18호   02-543-5922  \n",
       "12           서울시 강남구 선릉로 157길 12 석전빌딩 1~4층  02-3445-5093  \n",
       "13        서울시 서초구 강남대로 51길 1 511 TOWER  1층   02-582-0158  \n",
       "14             서울시 강남구 논현 231-13호 팍스타워지하1층   02-513-3870  \n",
       "15                 서울 강남구 테헤란로87길 46 지하 2층  02-3466-8507  \n",
       "16            서울시 강남구 영동대로 511 트레이드타워 지하1층  02-6002-6470  \n",
       "17                   서울시 강남구 영동대로 607 1,2층  02-3443-5618  \n",
       "18                    서울시 송파구 석촌호수로 118 1층   02-416-9520  \n",
       "19  서울시 서초구 서초동 1685-8호 101~2호,113~4호,121호  02-3477-5580  \n",
       "20                      서울시 강남구 논현로 717 1층  02-3443-5575  "
      ]
     },
     "execution_count": 30,
     "metadata": {},
     "output_type": "execute_result"
    }
   ],
   "source": [
    "df_CB = pd.DataFrame(list_store, columns=[\"페이지\", \"위치\", \"영업시간\", \"주소\", \"전화번호\"], index = list(map(lambda x: x+1, range(len(list_store)))))\n",
    "df_CB"
   ]
  },
  {
   "cell_type": "code",
   "execution_count": 13,
   "id": "f6ea512a",
   "metadata": {},
   "outputs": [
    {
     "name": "stdout",
     "output_type": "stream",
     "text": [
      "Defaulting to user installation because normal site-packages is not writeable\n",
      "Collecting openpyxl\n",
      "  Downloading openpyxl-3.1.2-py2.py3-none-any.whl (249 kB)\n",
      "                                              0.0/250.0 kB ? eta -:--:--\n",
      "     -                                        10.2/250.0 kB ? eta -:--:--\n",
      "     ----------                            71.7/250.0 kB 660.6 kB/s eta 0:00:01\n",
      "     -------------------------------------- 250.0/250.0 kB 2.2 MB/s eta 0:00:00\n",
      "Collecting et-xmlfile (from openpyxl)\n",
      "  Downloading et_xmlfile-1.1.0-py3-none-any.whl (4.7 kB)\n",
      "Installing collected packages: et-xmlfile, openpyxl\n",
      "Successfully installed et-xmlfile-1.1.0 openpyxl-3.1.2\n"
     ]
    }
   ],
   "source": [
    "#!pip install openpyxl"
   ]
  },
  {
   "cell_type": "code",
   "execution_count": 14,
   "id": "93c15633",
   "metadata": {},
   "outputs": [],
   "source": [
    "df_CB.to_excel(\"coffeebean.xlsx\")"
   ]
  },
  {
   "cell_type": "code",
   "execution_count": null,
   "id": "a305c200",
   "metadata": {},
   "outputs": [],
   "source": []
  },
  {
   "cell_type": "code",
   "execution_count": 15,
   "id": "5885a9b8",
   "metadata": {},
   "outputs": [],
   "source": [
    "# Python\n",
    "\n",
    "## 라이브러리\n",
    "# Pandas      : 표 관리(Excel) - sql과 연관\n",
    "# Numpy       : 수학 공식, AI 라이브러리의 기본 자료형(속도) (Number Python)\n",
    "# Matplotlib  : 그림, 그래프 시각화, visualization\n",
    "\n",
    "# Scikit learn        : Machine Learning(수학적)\n",
    "# Tensorflow/pytorch  : Deep learning (비수학적, 뉴럴 네티워크)"
   ]
  },
  {
   "cell_type": "code",
   "execution_count": 16,
   "id": "5e23fe54",
   "metadata": {},
   "outputs": [],
   "source": [
    "# !pip install matplotlib\n",
    "import matplotlib.pyplot as plt"
   ]
  },
  {
   "cell_type": "code",
   "execution_count": 17,
   "id": "f2d86965",
   "metadata": {},
   "outputs": [
    {
     "data": {
      "text/plain": [
       "[<matplotlib.lines.Line2D at 0x171564457f0>]"
      ]
     },
     "execution_count": 17,
     "metadata": {},
     "output_type": "execute_result"
    },
    {
     "data": {
      "image/png": "[encoded data removed]",
      "text/plain": [
       "<Figure size 640x480 with 1 Axes>"
      ]
     },
     "metadata": {},
     "output_type": "display_data"
    }
   ],
   "source": [
    "X = [1,2,3,4,5]\n",
    "Y = [2,1,4,3,1]\n",
    "plt.plot(X,Y, \"-o\")"
   ]
  },
  {
   "cell_type": "code",
   "execution_count": 18,
   "id": "69d69ba8",
   "metadata": {},
   "outputs": [
    {
     "data": {
      "text/plain": [
       "<BarContainer object of 5 artists>"
      ]
     },
     "execution_count": 18,
     "metadata": {},
     "output_type": "execute_result"
    },
    {
     "data": {
      "image/png": "[encoded data removed]",
      "text/plain": [
       "<Figure size 640x480 with 1 Axes>"
      ]
     },
     "metadata": {},
     "output_type": "display_data"
    }
   ],
   "source": [
    "plt.bar(X, Y)"
   ]
  },
  {
   "cell_type": "code",
   "execution_count": 21,
   "id": "cde67c9b",
   "metadata": {},
   "outputs": [],
   "source": [
    "import numpy as np\n",
    "import time\n",
    "\n",
    "t1 = time.time()"
   ]
  },
  {
   "cell_type": "code",
   "execution_count": 22,
   "id": "44bbf9a8",
   "metadata": {},
   "outputs": [],
   "source": [
    "t2 = time.time()"
   ]
  },
  {
   "cell_type": "code",
   "execution_count": 24,
   "id": "001f6cc7",
   "metadata": {},
   "outputs": [
    {
     "data": {
      "text/plain": [
       "1689658999.4909363"
      ]
     },
     "execution_count": 24,
     "metadata": {},
     "output_type": "execute_result"
    }
   ],
   "source": [
    "t1"
   ]
  },
  {
   "cell_type": "code",
   "execution_count": 25,
   "id": "a20ef80e",
   "metadata": {},
   "outputs": [
    {
     "data": {
      "text/plain": [
       "1689659004.9438539"
      ]
     },
     "execution_count": 25,
     "metadata": {},
     "output_type": "execute_result"
    }
   ],
   "source": [
    "t2"
   ]
  },
  {
   "cell_type": "code",
   "execution_count": 34,
   "id": "c8dc61d3",
   "metadata": {},
   "outputs": [],
   "source": [
    "n = 1000\n",
    "m = 10000\n",
    "X = np.random.rand(n,m)\n",
    "W = np.random.rand(n,1)\n",
    "Z = np.zeros((1,m))\n",
    "\n",
    "#행렬연산을 파이썬으로 제어\n",
    "t1 = time.time()\n",
    "for i in range(X.shape[1]):\n",
    "    for j in range(X.shape[0]):\n",
    "        Z[0][i] += W[j]*X[j][i]\n",
    "\n",
    "t2 = time.time()\n",
    "time_python = t2-t1"
   ]
  },
  {
   "cell_type": "code",
   "execution_count": 31,
   "id": "41f47ee6",
   "metadata": {},
   "outputs": [
    {
     "data": {
      "text/plain": [
       "0.004418134689331055"
      ]
     },
     "execution_count": 31,
     "metadata": {},
     "output_type": "execute_result"
    }
   ],
   "source": [
    "#같은 행렬 연산을 numpy로 수행\n",
    "t1 = time.time()\n",
    "Z = np.dot(W.T, X)\n",
    "t2 = time.time()\n",
    "time_numpy = t2-t1\n",
    "time_numpy"
   ]
  },
  {
   "cell_type": "code",
   "execution_count": 35,
   "id": "5a80e020",
   "metadata": {},
   "outputs": [
    {
     "data": {
      "text/plain": [
       "(30.3179988861084, 0.004418134689331055)"
      ]
     },
     "execution_count": 35,
     "metadata": {},
     "output_type": "execute_result"
    }
   ],
   "source": [
    "time_python, time_numpy"
   ]
  },
  {
   "cell_type": "code",
   "execution_count": 36,
   "id": "5c7b25a0",
   "metadata": {},
   "outputs": [
    {
     "data": {
      "text/plain": [
       "6862.171712265933"
      ]
     },
     "execution_count": 36,
     "metadata": {},
     "output_type": "execute_result"
    }
   ],
   "source": [
    "ratio = time_python / time_numpy\n",
    "ratio"
   ]
  },
  {
   "cell_type": "code",
   "execution_count": 38,
   "id": "49bb3cc4",
   "metadata": {},
   "outputs": [
    {
     "data": {
      "text/plain": [
       "114.36952853776555"
      ]
     },
     "execution_count": 38,
     "metadata": {},
     "output_type": "execute_result"
    }
   ],
   "source": [
    "ratio/60"
   ]
  },
  {
   "cell_type": "code",
   "execution_count": null,
   "id": "0f5a06e6",
   "metadata": {},
   "outputs": [],
   "source": []
  },
  {
   "cell_type": "code",
   "execution_count": 40,
   "id": "3f07f0c5",
   "metadata": {},
   "outputs": [],
   "source": [
    "# Pandas 표 DataFrame(컬럼의 모음)\n",
    "# 편의점 매출표\n",
    "# id     상품명    개수   단가    총액   포인트사용액   현금\n",
    "# 1      새우탕     2     1500    3000       100        2900\n",
    "# 2      메로나     1     1000    1000       500         500\n",
    "\n",
    "# id     상품명    개수   \n",
    "# 1      새우탕       2    \n",
    "# 2      메로나       1   \n",
    "\n",
    "# id     상품명    총액   포인트사용액   현금\n",
    "# 1      새우탕    3000       100        2900\n",
    "# 2      메로나    1000       500         500"
   ]
  },
  {
   "cell_type": "code",
   "execution_count": 31,
   "id": "d8b845e4",
   "metadata": {},
   "outputs": [
    {
     "data": {
      "text/plain": [
       "0    1\n",
       "1    2\n",
       "2    3\n",
       "3    4\n",
       "dtype: int64"
      ]
     },
     "execution_count": 31,
     "metadata": {},
     "output_type": "execute_result"
    }
   ],
   "source": [
    "# 컬럼 표현 Series\n",
    "a = [1,2,3,4]\n",
    "s1 = pd.Series(a)\n",
    "s1"
   ]
  },
  {
   "cell_type": "code",
   "execution_count": 32,
   "id": "8f1aa456",
   "metadata": {},
   "outputs": [
    {
     "data": {
      "text/plain": [
       "(list, pandas.core.series.Series, dtype('int64'))"
      ]
     },
     "execution_count": 32,
     "metadata": {},
     "output_type": "execute_result"
    }
   ],
   "source": [
    "type(a), type(s1), s1.dtype"
   ]
  },
  {
   "cell_type": "code",
   "execution_count": 33,
   "id": "3f8e6102",
   "metadata": {},
   "outputs": [
    {
     "data": {
      "text/plain": [
       "1    10\n",
       "2    20\n",
       "3    30\n",
       "4    40\n",
       "dtype: int64"
      ]
     },
     "execution_count": 33,
     "metadata": {},
     "output_type": "execute_result"
    }
   ],
   "source": [
    "a = [10,20,30,40]\n",
    "s2 = pd.Series(a, index=[1,2,3,4])\n",
    "s2"
   ]
  },
  {
   "cell_type": "code",
   "execution_count": 34,
   "id": "8d2c2670",
   "metadata": {},
   "outputs": [
    {
     "data": {
      "text/plain": [
       "30"
      ]
     },
     "execution_count": 34,
     "metadata": {},
     "output_type": "execute_result"
    }
   ],
   "source": [
    "s2[3]"
   ]
  },
  {
   "cell_type": "code",
   "execution_count": 35,
   "id": "a6aa1e09",
   "metadata": {},
   "outputs": [
    {
     "data": {
      "text/plain": [
       "1    10\n",
       "2    20\n",
       "3    30\n",
       "4    40\n",
       "dtype: int64"
      ]
     },
     "execution_count": 35,
     "metadata": {},
     "output_type": "execute_result"
    }
   ],
   "source": [
    "a = [10,20,30,40]\n",
    "s3 = pd.Series(a, index=[\"1\",\"2\",\"3\",\"4\"])\n",
    "s3"
   ]
  },
  {
   "cell_type": "code",
   "execution_count": 36,
   "id": "5e1695b8",
   "metadata": {},
   "outputs": [
    {
     "data": {
      "text/plain": [
       "(40, 30)"
      ]
     },
     "execution_count": 36,
     "metadata": {},
     "output_type": "execute_result"
    }
   ],
   "source": [
    "s3[3], s3[\"3\"]"
   ]
  },
  {
   "cell_type": "code",
   "execution_count": 37,
   "id": "ae3131c3",
   "metadata": {},
   "outputs": [
    {
     "data": {
      "text/plain": [
       "1    10\n",
       "2    20\n",
       "3    30\n",
       "4    40\n",
       "dtype: int64"
      ]
     },
     "execution_count": 37,
     "metadata": {},
     "output_type": "execute_result"
    }
   ],
   "source": [
    "d2 = {1:10, 2:20, 3:30, 4:40} # 딕셔너리 사용하면 한 번에 넣기 가능(인덱스 키 값 따로 안 만듦)\n",
    "s4 = pd.Series(d2)\n",
    "s4"
   ]
  },
  {
   "cell_type": "code",
   "execution_count": 38,
   "id": "9c17c12a",
   "metadata": {},
   "outputs": [],
   "source": [
    "# 1    10\n",
    "# 3    30\n",
    "# dtype: int64"
   ]
  },
  {
   "cell_type": "code",
   "execution_count": 39,
   "id": "c57c578e",
   "metadata": {},
   "outputs": [
    {
     "data": {
      "text/plain": [
       "1    10\n",
       "3    30\n",
       "dtype: int64"
      ]
     },
     "execution_count": 39,
     "metadata": {},
     "output_type": "execute_result"
    }
   ],
   "source": [
    "s4[ [1,3] ]"
   ]
  },
  {
   "cell_type": "code",
   "execution_count": 40,
   "id": "47ef6e9a",
   "metadata": {},
   "outputs": [
    {
     "data": {
      "text/plain": [
       "손님1    5\n",
       "손님2    3\n",
       "손님3    2\n",
       "손님4    1\n",
       "손님5    4\n",
       "손님6    5\n",
       "dtype: int64"
      ]
     },
     "execution_count": 40,
     "metadata": {},
     "output_type": "execute_result"
    }
   ],
   "source": [
    "메뉴1 = pd.Series(\n",
    "{\"손님1\":5, \"손님2\":3, \"손님3\":2, \"손님4\":1, \"손님5\":4, \"손님6\":5})\n",
    "메뉴1"
   ]
  },
  {
   "cell_type": "code",
   "execution_count": 41,
   "id": "f85d7a7b",
   "metadata": {},
   "outputs": [
    {
     "data": {
      "text/plain": [
       "['배', '포도']"
      ]
     },
     "execution_count": 41,
     "metadata": {},
     "output_type": "execute_result"
    }
   ],
   "source": [
    "list_1 = [\"사과\", \"배\", \"포도\"]\n",
    "list_1[1:]"
   ]
  },
  {
   "cell_type": "code",
   "execution_count": 42,
   "id": "03578379",
   "metadata": {},
   "outputs": [
    {
     "data": {
      "text/plain": [
       "손님4    1\n",
       "손님5    4\n",
       "손님6    5\n",
       "dtype: int64"
      ]
     },
     "execution_count": 42,
     "metadata": {},
     "output_type": "execute_result"
    }
   ],
   "source": [
    "메뉴1[3:]"
   ]
  },
  {
   "cell_type": "code",
   "execution_count": 43,
   "id": "68669c12",
   "metadata": {},
   "outputs": [
    {
     "data": {
      "text/plain": [
       "손님1    5\n",
       "손님5    4\n",
       "손님6    5\n",
       "dtype: int64"
      ]
     },
     "execution_count": 43,
     "metadata": {},
     "output_type": "execute_result"
    }
   ],
   "source": [
    "메뉴1_긍정 = 메뉴1[메뉴1>=4]\n",
    "메뉴1_긍정"
   ]
  },
  {
   "cell_type": "code",
   "execution_count": 44,
   "id": "0aa915e5",
   "metadata": {},
   "outputs": [
    {
     "data": {
      "text/plain": [
       "손님2    3\n",
       "손님3    2\n",
       "손님4    1\n",
       "dtype: int64"
      ]
     },
     "execution_count": 44,
     "metadata": {},
     "output_type": "execute_result"
    }
   ],
   "source": [
    "메뉴1_부정 = 메뉴1[메뉴1<4]\n",
    "메뉴1_부정"
   ]
  },
  {
   "cell_type": "code",
   "execution_count": 45,
   "id": "50f4e958",
   "metadata": {},
   "outputs": [
    {
     "data": {
      "text/plain": [
       "손님1    5\n",
       "손님2    3\n",
       "손님3    2\n",
       "손님4    1\n",
       "손님5    4\n",
       "손님6    5\n",
       "dtype: object"
      ]
     },
     "execution_count": 45,
     "metadata": {},
     "output_type": "execute_result"
    }
   ],
   "source": [
    "메뉴1 = 메뉴1.astype(\"object\")\n",
    "메뉴1"
   ]
  },
  {
   "cell_type": "code",
   "execution_count": 46,
   "id": "714e56ca",
   "metadata": {},
   "outputs": [
    {
     "data": {
      "text/plain": [
       "8"
      ]
     },
     "execution_count": 46,
     "metadata": {},
     "output_type": "execute_result"
    }
   ],
   "source": [
    "메뉴1[\"손님1\"]+메뉴1[\"손님2\"]"
   ]
  },
  {
   "cell_type": "code",
   "execution_count": 47,
   "id": "566aae4f",
   "metadata": {},
   "outputs": [
    {
     "data": {
      "text/plain": [
       "손님1    5\n",
       "손님2    3\n",
       "손님3    2\n",
       "손님4    1\n",
       "손님5    4\n",
       "손님6    5\n",
       "dtype: int32"
      ]
     },
     "execution_count": 47,
     "metadata": {},
     "output_type": "execute_result"
    }
   ],
   "source": [
    "메뉴1 = 메뉴1.astype(\"int32\")\n",
    "메뉴1"
   ]
  },
  {
   "cell_type": "code",
   "execution_count": 48,
   "id": "89f7de28",
   "metadata": {},
   "outputs": [
    {
     "data": {
      "text/plain": [
       "Index(['손님1', '손님2', '손님3', '손님4', '손님5', '손님6'], dtype='object')"
      ]
     },
     "execution_count": 48,
     "metadata": {},
     "output_type": "execute_result"
    }
   ],
   "source": [
    "메뉴1.index"
   ]
  },
  {
   "cell_type": "code",
   "execution_count": 49,
   "id": "ea682241",
   "metadata": {},
   "outputs": [
    {
     "data": {
      "text/plain": [
       "array([5, 3, 2, 1, 4, 5])"
      ]
     },
     "execution_count": 49,
     "metadata": {},
     "output_type": "execute_result"
    }
   ],
   "source": [
    "메뉴1.values # 밸류 선택 방법"
   ]
  },
  {
   "cell_type": "code",
   "execution_count": 50,
   "id": "4ed195de",
   "metadata": {},
   "outputs": [
    {
     "data": {
      "text/plain": [
       "array([5, 3, 2, 1, 4, 5])"
      ]
     },
     "execution_count": 50,
     "metadata": {},
     "output_type": "execute_result"
    }
   ],
   "source": [
    "메뉴1.to_numpy() # 밸류 선택 방법"
   ]
  },
  {
   "cell_type": "code",
   "execution_count": 54,
   "id": "8d376e55",
   "metadata": {},
   "outputs": [
    {
     "data": {
      "text/plain": [
       "손님1    4\n",
       "손님2    3\n",
       "손님3    2\n",
       "손님4    1\n",
       "손님5    5\n",
       "손님6    5\n",
       "dtype: int64"
      ]
     },
     "execution_count": 54,
     "metadata": {},
     "output_type": "execute_result"
    }
   ],
   "source": [
    "메뉴3 = pd.Series([4, 3, 2, 1, 5, 5], index = 메뉴1.index)\n",
    "메뉴3"
   ]
  },
  {
   "cell_type": "code",
   "execution_count": 113,
   "id": "f29c8534",
   "metadata": {},
   "outputs": [
    {
     "data": {
      "text/html": [
       "<div>\n",
       "<style scoped>\n",
       "    .dataframe tbody tr th:only-of-type {\n",
       "        vertical-align: middle;\n",
       "    }\n",
       "\n",
       "    .dataframe tbody tr th {\n",
       "        vertical-align: top;\n",
       "    }\n",
       "\n",
       "    .dataframe thead th {\n",
       "        text-align: right;\n",
       "    }\n",
       "</style>\n",
       "<table border=\"1\" class=\"dataframe\">\n",
       "  <thead>\n",
       "    <tr style=\"text-align: right;\">\n",
       "      <th></th>\n",
       "      <th>메뉴1</th>\n",
       "      <th>메뉴2</th>\n",
       "    </tr>\n",
       "  </thead>\n",
       "  <tbody>\n",
       "    <tr>\n",
       "      <th>손님1</th>\n",
       "      <td>5</td>\n",
       "      <td>4</td>\n",
       "    </tr>\n",
       "    <tr>\n",
       "      <th>손님2</th>\n",
       "      <td>3</td>\n",
       "      <td>3</td>\n",
       "    </tr>\n",
       "    <tr>\n",
       "      <th>손님3</th>\n",
       "      <td>2</td>\n",
       "      <td>2</td>\n",
       "    </tr>\n",
       "    <tr>\n",
       "      <th>손님4</th>\n",
       "      <td>1</td>\n",
       "      <td>1</td>\n",
       "    </tr>\n",
       "    <tr>\n",
       "      <th>손님5</th>\n",
       "      <td>4</td>\n",
       "      <td>5</td>\n",
       "    </tr>\n",
       "    <tr>\n",
       "      <th>손님6</th>\n",
       "      <td>5</td>\n",
       "      <td>5</td>\n",
       "    </tr>\n",
       "  </tbody>\n",
       "</table>\n",
       "</div>"
      ],
      "text/plain": [
       "     메뉴1  메뉴2\n",
       "손님1    5    4\n",
       "손님2    3    3\n",
       "손님3    2    2\n",
       "손님4    1    1\n",
       "손님5    4    5\n",
       "손님6    5    5"
      ]
     },
     "execution_count": 113,
     "metadata": {},
     "output_type": "execute_result"
    }
   ],
   "source": [
    "data = [[5,4],\n",
    "        [3,3],\n",
    "        [2,2],\n",
    "        [1,1],\n",
    "        [4,5],\n",
    "        [5,5]]\n",
    "df = pd.DataFrame(data, index=메뉴1.index, columns=[\"메뉴1\", \"메뉴2\"])\n",
    "df"
   ]
  },
  {
   "cell_type": "code",
   "execution_count": 114,
   "id": "c28b5736",
   "metadata": {},
   "outputs": [
    {
     "data": {
      "text/html": [
       "<div>\n",
       "<style scoped>\n",
       "    .dataframe tbody tr th:only-of-type {\n",
       "        vertical-align: middle;\n",
       "    }\n",
       "\n",
       "    .dataframe tbody tr th {\n",
       "        vertical-align: top;\n",
       "    }\n",
       "\n",
       "    .dataframe thead th {\n",
       "        text-align: right;\n",
       "    }\n",
       "</style>\n",
       "<table border=\"1\" class=\"dataframe\">\n",
       "  <thead>\n",
       "    <tr style=\"text-align: right;\">\n",
       "      <th></th>\n",
       "      <th>메뉴1</th>\n",
       "      <th>메뉴2</th>\n",
       "    </tr>\n",
       "  </thead>\n",
       "  <tbody>\n",
       "    <tr>\n",
       "      <th>손님1</th>\n",
       "      <td>5</td>\n",
       "      <td>4</td>\n",
       "    </tr>\n",
       "    <tr>\n",
       "      <th>손님2</th>\n",
       "      <td>3</td>\n",
       "      <td>3</td>\n",
       "    </tr>\n",
       "    <tr>\n",
       "      <th>손님3</th>\n",
       "      <td>2</td>\n",
       "      <td>2</td>\n",
       "    </tr>\n",
       "    <tr>\n",
       "      <th>손님4</th>\n",
       "      <td>1</td>\n",
       "      <td>1</td>\n",
       "    </tr>\n",
       "    <tr>\n",
       "      <th>손님5</th>\n",
       "      <td>4</td>\n",
       "      <td>5</td>\n",
       "    </tr>\n",
       "    <tr>\n",
       "      <th>손님6</th>\n",
       "      <td>5</td>\n",
       "      <td>5</td>\n",
       "    </tr>\n",
       "  </tbody>\n",
       "</table>\n",
       "</div>"
      ],
      "text/plain": [
       "     메뉴1  메뉴2\n",
       "손님1    5    4\n",
       "손님2    3    3\n",
       "손님3    2    2\n",
       "손님4    1    1\n",
       "손님5    4    5\n",
       "손님6    5    5"
      ]
     },
     "execution_count": 114,
     "metadata": {},
     "output_type": "execute_result"
    }
   ],
   "source": [
    "data = {\"메뉴1\": [5,3,2,1,4,5],\n",
    "        \"메뉴2\": [4,3,2,1,5,5]}\n",
    "df = pd.DataFrame(data, index=메뉴1.index)\n",
    "df"
   ]
  },
  {
   "cell_type": "code",
   "execution_count": 115,
   "id": "44b43095",
   "metadata": {},
   "outputs": [
    {
     "data": {
      "text/html": [
       "<div>\n",
       "<style scoped>\n",
       "    .dataframe tbody tr th:only-of-type {\n",
       "        vertical-align: middle;\n",
       "    }\n",
       "\n",
       "    .dataframe tbody tr th {\n",
       "        vertical-align: top;\n",
       "    }\n",
       "\n",
       "    .dataframe thead th {\n",
       "        text-align: right;\n",
       "    }\n",
       "</style>\n",
       "<table border=\"1\" class=\"dataframe\">\n",
       "  <thead>\n",
       "    <tr style=\"text-align: right;\">\n",
       "      <th></th>\n",
       "      <th>메뉴1</th>\n",
       "      <th>메뉴2</th>\n",
       "    </tr>\n",
       "  </thead>\n",
       "  <tbody>\n",
       "    <tr>\n",
       "      <th>손님1</th>\n",
       "      <td>5</td>\n",
       "      <td>4</td>\n",
       "    </tr>\n",
       "    <tr>\n",
       "      <th>손님2</th>\n",
       "      <td>3</td>\n",
       "      <td>3</td>\n",
       "    </tr>\n",
       "    <tr>\n",
       "      <th>손님3</th>\n",
       "      <td>2</td>\n",
       "      <td>2</td>\n",
       "    </tr>\n",
       "    <tr>\n",
       "      <th>손님4</th>\n",
       "      <td>1</td>\n",
       "      <td>1</td>\n",
       "    </tr>\n",
       "    <tr>\n",
       "      <th>손님5</th>\n",
       "      <td>4</td>\n",
       "      <td>5</td>\n",
       "    </tr>\n",
       "    <tr>\n",
       "      <th>손님6</th>\n",
       "      <td>5</td>\n",
       "      <td>5</td>\n",
       "    </tr>\n",
       "  </tbody>\n",
       "</table>\n",
       "</div>"
      ],
      "text/plain": [
       "     메뉴1  메뉴2\n",
       "손님1    5    4\n",
       "손님2    3    3\n",
       "손님3    2    2\n",
       "손님4    1    1\n",
       "손님5    4    5\n",
       "손님6    5    5"
      ]
     },
     "execution_count": 115,
     "metadata": {},
     "output_type": "execute_result"
    }
   ],
   "source": [
    "data = {\"메뉴1\": pd.Series([5,3,2,1,4,5], index=메뉴1.index),\n",
    "        \"메뉴2\": pd.Series([4,3,2,1,5,5], index=메뉴1.index)}\n",
    "df = pd.DataFrame(data)\n",
    "df"
   ]
  },
  {
   "cell_type": "code",
   "execution_count": 1,
   "id": "174053ef",
   "metadata": {},
   "outputs": [
    {
     "data": {
      "text/html": [
       "<div>\n",
       "<style scoped>\n",
       "    .dataframe tbody tr th:only-of-type {\n",
       "        vertical-align: middle;\n",
       "    }\n",
       "\n",
       "    .dataframe tbody tr th {\n",
       "        vertical-align: top;\n",
       "    }\n",
       "\n",
       "    .dataframe thead th {\n",
       "        text-align: right;\n",
       "    }\n",
       "</style>\n",
       "<table border=\"1\" class=\"dataframe\">\n",
       "  <thead>\n",
       "    <tr style=\"text-align: right;\">\n",
       "      <th></th>\n",
       "      <th>1</th>\n",
       "      <th>2</th>\n",
       "    </tr>\n",
       "    <tr>\n",
       "      <th>0</th>\n",
       "      <th></th>\n",
       "      <th></th>\n",
       "    </tr>\n",
       "  </thead>\n",
       "  <tbody>\n",
       "    <tr>\n",
       "      <th>손님1</th>\n",
       "      <td>5</td>\n",
       "      <td>4</td>\n",
       "    </tr>\n",
       "    <tr>\n",
       "      <th>손님2</th>\n",
       "      <td>3</td>\n",
       "      <td>3</td>\n",
       "    </tr>\n",
       "    <tr>\n",
       "      <th>손님3</th>\n",
       "      <td>2</td>\n",
       "      <td>2</td>\n",
       "    </tr>\n",
       "    <tr>\n",
       "      <th>손님4</th>\n",
       "      <td>1</td>\n",
       "      <td>1</td>\n",
       "    </tr>\n",
       "    <tr>\n",
       "      <th>손님5</th>\n",
       "      <td>4</td>\n",
       "      <td>5</td>\n",
       "    </tr>\n",
       "    <tr>\n",
       "      <th>손님6</th>\n",
       "      <td>5</td>\n",
       "      <td>5</td>\n",
       "    </tr>\n",
       "  </tbody>\n",
       "</table>\n",
       "</div>"
      ],
      "text/plain": [
       "     1  2\n",
       "0        \n",
       "손님1  5  4\n",
       "손님2  3  3\n",
       "손님3  2  2\n",
       "손님4  1  1\n",
       "손님5  4  5\n",
       "손님6  5  5"
      ]
     },
     "execution_count": 1,
     "metadata": {},
     "output_type": "execute_result"
    }
   ],
   "source": [
    "import pandas as pd\n",
    "df = pd.read_csv(\"menus.csv\", header=None, index_col=0) # 엑셀 파일 읽는 것\n",
    "df"
   ]
  },
  {
   "cell_type": "code",
   "execution_count": 3,
   "id": "8539131c",
   "metadata": {},
   "outputs": [
    {
     "data": {
      "text/html": [
       "<div>\n",
       "<style scoped>\n",
       "    .dataframe tbody tr th:only-of-type {\n",
       "        vertical-align: middle;\n",
       "    }\n",
       "\n",
       "    .dataframe tbody tr th {\n",
       "        vertical-align: top;\n",
       "    }\n",
       "\n",
       "    .dataframe thead th {\n",
       "        text-align: right;\n",
       "    }\n",
       "</style>\n",
       "<table border=\"1\" class=\"dataframe\">\n",
       "  <thead>\n",
       "    <tr style=\"text-align: right;\">\n",
       "      <th></th>\n",
       "      <th>메뉴1</th>\n",
       "      <th>메뉴2</th>\n",
       "    </tr>\n",
       "    <tr>\n",
       "      <th>0</th>\n",
       "      <th></th>\n",
       "      <th></th>\n",
       "    </tr>\n",
       "  </thead>\n",
       "  <tbody>\n",
       "    <tr>\n",
       "      <th>손님1</th>\n",
       "      <td>5</td>\n",
       "      <td>4</td>\n",
       "    </tr>\n",
       "    <tr>\n",
       "      <th>손님2</th>\n",
       "      <td>3</td>\n",
       "      <td>3</td>\n",
       "    </tr>\n",
       "    <tr>\n",
       "      <th>손님3</th>\n",
       "      <td>2</td>\n",
       "      <td>2</td>\n",
       "    </tr>\n",
       "    <tr>\n",
       "      <th>손님4</th>\n",
       "      <td>1</td>\n",
       "      <td>1</td>\n",
       "    </tr>\n",
       "    <tr>\n",
       "      <th>손님5</th>\n",
       "      <td>4</td>\n",
       "      <td>5</td>\n",
       "    </tr>\n",
       "    <tr>\n",
       "      <th>손님6</th>\n",
       "      <td>5</td>\n",
       "      <td>5</td>\n",
       "    </tr>\n",
       "  </tbody>\n",
       "</table>\n",
       "</div>"
      ],
      "text/plain": [
       "     메뉴1  메뉴2\n",
       "0            \n",
       "손님1    5    4\n",
       "손님2    3    3\n",
       "손님3    2    2\n",
       "손님4    1    1\n",
       "손님5    4    5\n",
       "손님6    5    5"
      ]
     },
     "execution_count": 3,
     "metadata": {},
     "output_type": "execute_result"
    }
   ],
   "source": [
    "df.columns= [\"메뉴1\", \"메뉴2\"]\n",
    "df"
   ]
  },
  {
   "cell_type": "code",
   "execution_count": 16,
   "id": "e67de741",
   "metadata": {},
   "outputs": [
    {
     "data": {
      "text/html": [
       "<div>\n",
       "<style scoped>\n",
       "    .dataframe tbody tr th:only-of-type {\n",
       "        vertical-align: middle;\n",
       "    }\n",
       "\n",
       "    .dataframe tbody tr th {\n",
       "        vertical-align: top;\n",
       "    }\n",
       "\n",
       "    .dataframe thead th {\n",
       "        text-align: right;\n",
       "    }\n",
       "</style>\n",
       "<table border=\"1\" class=\"dataframe\">\n",
       "  <thead>\n",
       "    <tr style=\"text-align: right;\">\n",
       "      <th></th>\n",
       "      <th>메뉴1</th>\n",
       "      <th>메뉴2</th>\n",
       "    </tr>\n",
       "    <tr>\n",
       "      <th>손님</th>\n",
       "      <th></th>\n",
       "      <th></th>\n",
       "    </tr>\n",
       "  </thead>\n",
       "  <tbody>\n",
       "    <tr>\n",
       "      <th>손님1</th>\n",
       "      <td>5</td>\n",
       "      <td>4</td>\n",
       "    </tr>\n",
       "    <tr>\n",
       "      <th>손님2</th>\n",
       "      <td>3</td>\n",
       "      <td>3</td>\n",
       "    </tr>\n",
       "    <tr>\n",
       "      <th>손님3</th>\n",
       "      <td>2</td>\n",
       "      <td>2</td>\n",
       "    </tr>\n",
       "    <tr>\n",
       "      <th>손님4</th>\n",
       "      <td>1</td>\n",
       "      <td>1</td>\n",
       "    </tr>\n",
       "    <tr>\n",
       "      <th>손님5</th>\n",
       "      <td>4</td>\n",
       "      <td>5</td>\n",
       "    </tr>\n",
       "    <tr>\n",
       "      <th>손님6</th>\n",
       "      <td>5</td>\n",
       "      <td>5</td>\n",
       "    </tr>\n",
       "  </tbody>\n",
       "</table>\n",
       "</div>"
      ],
      "text/plain": [
       "     메뉴1  메뉴2\n",
       "손님           \n",
       "손님1    5    4\n",
       "손님2    3    3\n",
       "손님3    2    2\n",
       "손님4    1    1\n",
       "손님5    4    5\n",
       "손님6    5    5"
      ]
     },
     "execution_count": 16,
     "metadata": {},
     "output_type": "execute_result"
    }
   ],
   "source": [
    "df2 = pd.read_csv(\"menus2.csv\", index_col=0) \n",
    "df2"
   ]
  },
  {
   "cell_type": "code",
   "execution_count": 17,
   "id": "5b68deb6",
   "metadata": {},
   "outputs": [
    {
     "data": {
      "text/html": [
       "<div>\n",
       "<style scoped>\n",
       "    .dataframe tbody tr th:only-of-type {\n",
       "        vertical-align: middle;\n",
       "    }\n",
       "\n",
       "    .dataframe tbody tr th {\n",
       "        vertical-align: top;\n",
       "    }\n",
       "\n",
       "    .dataframe thead th {\n",
       "        text-align: right;\n",
       "    }\n",
       "</style>\n",
       "<table border=\"1\" class=\"dataframe\">\n",
       "  <thead>\n",
       "    <tr style=\"text-align: right;\">\n",
       "      <th></th>\n",
       "      <th>짜장</th>\n",
       "      <th>짬뽕</th>\n",
       "    </tr>\n",
       "  </thead>\n",
       "  <tbody>\n",
       "    <tr>\n",
       "      <th>cus1</th>\n",
       "      <td>5</td>\n",
       "      <td>4</td>\n",
       "    </tr>\n",
       "    <tr>\n",
       "      <th>cus2</th>\n",
       "      <td>3</td>\n",
       "      <td>3</td>\n",
       "    </tr>\n",
       "    <tr>\n",
       "      <th>cus3</th>\n",
       "      <td>2</td>\n",
       "      <td>2</td>\n",
       "    </tr>\n",
       "    <tr>\n",
       "      <th>cus4</th>\n",
       "      <td>1</td>\n",
       "      <td>1</td>\n",
       "    </tr>\n",
       "    <tr>\n",
       "      <th>cus5</th>\n",
       "      <td>4</td>\n",
       "      <td>5</td>\n",
       "    </tr>\n",
       "    <tr>\n",
       "      <th>cus6</th>\n",
       "      <td>5</td>\n",
       "      <td>5</td>\n",
       "    </tr>\n",
       "  </tbody>\n",
       "</table>\n",
       "</div>"
      ],
      "text/plain": [
       "      짜장  짬뽕\n",
       "cus1   5   4\n",
       "cus2   3   3\n",
       "cus3   2   2\n",
       "cus4   1   1\n",
       "cus5   4   5\n",
       "cus6   5   5"
      ]
     },
     "execution_count": 17,
     "metadata": {},
     "output_type": "execute_result"
    }
   ],
   "source": [
    "df2.index = [\"cus1\",\"cus2\",\"cus3\",\"cus4\",\"cus5\",\"cus6\"]\n",
    "df2.columns = [\"짜장\", \"짬뽕\"]\n",
    "df2"
   ]
  },
  {
   "cell_type": "code",
   "execution_count": 18,
   "id": "8dd5bbea",
   "metadata": {},
   "outputs": [
    {
     "data": {
      "text/plain": [
       "cus1    5\n",
       "cus2    3\n",
       "cus3    2\n",
       "cus4    1\n",
       "cus5    4\n",
       "cus6    5\n",
       "Name: 짜장, dtype: int64"
      ]
     },
     "execution_count": 18,
     "metadata": {},
     "output_type": "execute_result"
    }
   ],
   "source": [
    "s1 = df2[\"짜장\"] # 시리즈 형식으로 뽑아옴 []를 한번 더 하면 데이터 프레임형식\n",
    "s1"
   ]
  },
  {
   "cell_type": "code",
   "execution_count": 19,
   "id": "60a0278f",
   "metadata": {},
   "outputs": [
    {
     "data": {
      "text/html": [
       "<div>\n",
       "<style scoped>\n",
       "    .dataframe tbody tr th:only-of-type {\n",
       "        vertical-align: middle;\n",
       "    }\n",
       "\n",
       "    .dataframe tbody tr th {\n",
       "        vertical-align: top;\n",
       "    }\n",
       "\n",
       "    .dataframe thead th {\n",
       "        text-align: right;\n",
       "    }\n",
       "</style>\n",
       "<table border=\"1\" class=\"dataframe\">\n",
       "  <thead>\n",
       "    <tr style=\"text-align: right;\">\n",
       "      <th></th>\n",
       "      <th>짜장</th>\n",
       "    </tr>\n",
       "  </thead>\n",
       "  <tbody>\n",
       "    <tr>\n",
       "      <th>cus1</th>\n",
       "      <td>5</td>\n",
       "    </tr>\n",
       "    <tr>\n",
       "      <th>cus2</th>\n",
       "      <td>3</td>\n",
       "    </tr>\n",
       "    <tr>\n",
       "      <th>cus3</th>\n",
       "      <td>2</td>\n",
       "    </tr>\n",
       "    <tr>\n",
       "      <th>cus4</th>\n",
       "      <td>1</td>\n",
       "    </tr>\n",
       "    <tr>\n",
       "      <th>cus5</th>\n",
       "      <td>4</td>\n",
       "    </tr>\n",
       "    <tr>\n",
       "      <th>cus6</th>\n",
       "      <td>5</td>\n",
       "    </tr>\n",
       "  </tbody>\n",
       "</table>\n",
       "</div>"
      ],
      "text/plain": [
       "      짜장\n",
       "cus1   5\n",
       "cus2   3\n",
       "cus3   2\n",
       "cus4   1\n",
       "cus5   4\n",
       "cus6   5"
      ]
     },
     "execution_count": 19,
     "metadata": {},
     "output_type": "execute_result"
    }
   ],
   "source": [
    "df_menu1 = df2[[\"짜장\"]] # 데이터 프레임 menu1을 뽑아옴\n",
    "df_menu1"
   ]
  },
  {
   "cell_type": "code",
   "execution_count": 20,
   "id": "6b664ab2",
   "metadata": {},
   "outputs": [
    {
     "data": {
      "text/html": [
       "<div>\n",
       "<style scoped>\n",
       "    .dataframe tbody tr th:only-of-type {\n",
       "        vertical-align: middle;\n",
       "    }\n",
       "\n",
       "    .dataframe tbody tr th {\n",
       "        vertical-align: top;\n",
       "    }\n",
       "\n",
       "    .dataframe thead th {\n",
       "        text-align: right;\n",
       "    }\n",
       "</style>\n",
       "<table border=\"1\" class=\"dataframe\">\n",
       "  <thead>\n",
       "    <tr style=\"text-align: right;\">\n",
       "      <th></th>\n",
       "      <th>짜장</th>\n",
       "      <th>짬뽕</th>\n",
       "      <th>식사부</th>\n",
       "    </tr>\n",
       "  </thead>\n",
       "  <tbody>\n",
       "    <tr>\n",
       "      <th>cus1</th>\n",
       "      <td>5</td>\n",
       "      <td>4</td>\n",
       "      <td>9</td>\n",
       "    </tr>\n",
       "    <tr>\n",
       "      <th>cus2</th>\n",
       "      <td>3</td>\n",
       "      <td>3</td>\n",
       "      <td>6</td>\n",
       "    </tr>\n",
       "    <tr>\n",
       "      <th>cus3</th>\n",
       "      <td>2</td>\n",
       "      <td>2</td>\n",
       "      <td>4</td>\n",
       "    </tr>\n",
       "    <tr>\n",
       "      <th>cus4</th>\n",
       "      <td>1</td>\n",
       "      <td>1</td>\n",
       "      <td>2</td>\n",
       "    </tr>\n",
       "    <tr>\n",
       "      <th>cus5</th>\n",
       "      <td>4</td>\n",
       "      <td>5</td>\n",
       "      <td>9</td>\n",
       "    </tr>\n",
       "    <tr>\n",
       "      <th>cus6</th>\n",
       "      <td>5</td>\n",
       "      <td>5</td>\n",
       "      <td>10</td>\n",
       "    </tr>\n",
       "  </tbody>\n",
       "</table>\n",
       "</div>"
      ],
      "text/plain": [
       "      짜장  짬뽕  식사부\n",
       "cus1   5   4    9\n",
       "cus2   3   3    6\n",
       "cus3   2   2    4\n",
       "cus4   1   1    2\n",
       "cus5   4   5    9\n",
       "cus6   5   5   10"
      ]
     },
     "execution_count": 20,
     "metadata": {},
     "output_type": "execute_result"
    }
   ],
   "source": [
    "df2[\"식사부\"] = df2[\"짜장\"] + df2[\"짬뽕\"] #새로운 컬럼 추가\n",
    "df2"
   ]
  },
  {
   "cell_type": "code",
   "execution_count": 21,
   "id": "63487c3f",
   "metadata": {},
   "outputs": [
    {
     "data": {
      "text/html": [
       "<div>\n",
       "<style scoped>\n",
       "    .dataframe tbody tr th:only-of-type {\n",
       "        vertical-align: middle;\n",
       "    }\n",
       "\n",
       "    .dataframe tbody tr th {\n",
       "        vertical-align: top;\n",
       "    }\n",
       "\n",
       "    .dataframe thead th {\n",
       "        text-align: right;\n",
       "    }\n",
       "</style>\n",
       "<table border=\"1\" class=\"dataframe\">\n",
       "  <thead>\n",
       "    <tr style=\"text-align: right;\">\n",
       "      <th></th>\n",
       "      <th>식사부</th>\n",
       "    </tr>\n",
       "  </thead>\n",
       "  <tbody>\n",
       "    <tr>\n",
       "      <th>cus1</th>\n",
       "      <td>9</td>\n",
       "    </tr>\n",
       "    <tr>\n",
       "      <th>cus2</th>\n",
       "      <td>6</td>\n",
       "    </tr>\n",
       "    <tr>\n",
       "      <th>cus3</th>\n",
       "      <td>4</td>\n",
       "    </tr>\n",
       "    <tr>\n",
       "      <th>cus4</th>\n",
       "      <td>2</td>\n",
       "    </tr>\n",
       "    <tr>\n",
       "      <th>cus5</th>\n",
       "      <td>9</td>\n",
       "    </tr>\n",
       "    <tr>\n",
       "      <th>cus6</th>\n",
       "      <td>10</td>\n",
       "    </tr>\n",
       "  </tbody>\n",
       "</table>\n",
       "</div>"
      ],
      "text/plain": [
       "      식사부\n",
       "cus1    9\n",
       "cus2    6\n",
       "cus3    4\n",
       "cus4    2\n",
       "cus5    9\n",
       "cus6   10"
      ]
     },
     "execution_count": 21,
     "metadata": {},
     "output_type": "execute_result"
    }
   ],
   "source": [
    "df2[[\"식사부\"]]"
   ]
  },
  {
   "cell_type": "code",
   "execution_count": 22,
   "id": "ae41112c",
   "metadata": {},
   "outputs": [
    {
     "data": {
      "text/html": [
       "<div>\n",
       "<style scoped>\n",
       "    .dataframe tbody tr th:only-of-type {\n",
       "        vertical-align: middle;\n",
       "    }\n",
       "\n",
       "    .dataframe tbody tr th {\n",
       "        vertical-align: top;\n",
       "    }\n",
       "\n",
       "    .dataframe thead th {\n",
       "        text-align: right;\n",
       "    }\n",
       "</style>\n",
       "<table border=\"1\" class=\"dataframe\">\n",
       "  <thead>\n",
       "    <tr style=\"text-align: right;\">\n",
       "      <th></th>\n",
       "      <th>짜장</th>\n",
       "      <th>짬뽕</th>\n",
       "    </tr>\n",
       "  </thead>\n",
       "  <tbody>\n",
       "    <tr>\n",
       "      <th>cus1</th>\n",
       "      <td>5</td>\n",
       "      <td>4</td>\n",
       "    </tr>\n",
       "    <tr>\n",
       "      <th>cus2</th>\n",
       "      <td>3</td>\n",
       "      <td>3</td>\n",
       "    </tr>\n",
       "    <tr>\n",
       "      <th>cus3</th>\n",
       "      <td>2</td>\n",
       "      <td>2</td>\n",
       "    </tr>\n",
       "    <tr>\n",
       "      <th>cus4</th>\n",
       "      <td>1</td>\n",
       "      <td>1</td>\n",
       "    </tr>\n",
       "    <tr>\n",
       "      <th>cus5</th>\n",
       "      <td>4</td>\n",
       "      <td>5</td>\n",
       "    </tr>\n",
       "    <tr>\n",
       "      <th>cus6</th>\n",
       "      <td>5</td>\n",
       "      <td>5</td>\n",
       "    </tr>\n",
       "  </tbody>\n",
       "</table>\n",
       "</div>"
      ],
      "text/plain": [
       "      짜장  짬뽕\n",
       "cus1   5   4\n",
       "cus2   3   3\n",
       "cus3   2   2\n",
       "cus4   1   1\n",
       "cus5   4   5\n",
       "cus6   5   5"
      ]
     },
     "execution_count": 22,
     "metadata": {},
     "output_type": "execute_result"
    }
   ],
   "source": [
    "del df2[\"식사부\"] #컬럼 삭제\n",
    "df2"
   ]
  },
  {
   "cell_type": "code",
   "execution_count": 23,
   "id": "b0d84d5c",
   "metadata": {},
   "outputs": [
    {
     "data": {
      "text/html": [
       "<div>\n",
       "<style scoped>\n",
       "    .dataframe tbody tr th:only-of-type {\n",
       "        vertical-align: middle;\n",
       "    }\n",
       "\n",
       "    .dataframe tbody tr th {\n",
       "        vertical-align: top;\n",
       "    }\n",
       "\n",
       "    .dataframe thead th {\n",
       "        text-align: right;\n",
       "    }\n",
       "</style>\n",
       "<table border=\"1\" class=\"dataframe\">\n",
       "  <thead>\n",
       "    <tr style=\"text-align: right;\">\n",
       "      <th></th>\n",
       "      <th>자장</th>\n",
       "      <th>짬뽕</th>\n",
       "    </tr>\n",
       "  </thead>\n",
       "  <tbody>\n",
       "    <tr>\n",
       "      <th>cus1</th>\n",
       "      <td>5</td>\n",
       "      <td>4</td>\n",
       "    </tr>\n",
       "    <tr>\n",
       "      <th>cus2</th>\n",
       "      <td>3</td>\n",
       "      <td>3</td>\n",
       "    </tr>\n",
       "    <tr>\n",
       "      <th>cus3</th>\n",
       "      <td>2</td>\n",
       "      <td>2</td>\n",
       "    </tr>\n",
       "    <tr>\n",
       "      <th>cus4</th>\n",
       "      <td>1</td>\n",
       "      <td>1</td>\n",
       "    </tr>\n",
       "    <tr>\n",
       "      <th>cus5</th>\n",
       "      <td>4</td>\n",
       "      <td>5</td>\n",
       "    </tr>\n",
       "    <tr>\n",
       "      <th>cus6</th>\n",
       "      <td>5</td>\n",
       "      <td>5</td>\n",
       "    </tr>\n",
       "  </tbody>\n",
       "</table>\n",
       "</div>"
      ],
      "text/plain": [
       "      자장  짬뽕\n",
       "cus1   5   4\n",
       "cus2   3   3\n",
       "cus3   2   2\n",
       "cus4   1   1\n",
       "cus5   4   5\n",
       "cus6   5   5"
      ]
     },
     "execution_count": 23,
     "metadata": {},
     "output_type": "execute_result"
    }
   ],
   "source": [
    "#rename (columns, index)\n",
    "df2 = df2.rename(columns={\"짜장\":\"자장\"})\n",
    "df2"
   ]
  },
  {
   "cell_type": "code",
   "execution_count": 24,
   "id": "40af6bdf",
   "metadata": {},
   "outputs": [
    {
     "data": {
      "text/html": [
       "<div>\n",
       "<style scoped>\n",
       "    .dataframe tbody tr th:only-of-type {\n",
       "        vertical-align: middle;\n",
       "    }\n",
       "\n",
       "    .dataframe tbody tr th {\n",
       "        vertical-align: top;\n",
       "    }\n",
       "\n",
       "    .dataframe thead th {\n",
       "        text-align: right;\n",
       "    }\n",
       "</style>\n",
       "<table border=\"1\" class=\"dataframe\">\n",
       "  <thead>\n",
       "    <tr style=\"text-align: right;\">\n",
       "      <th></th>\n",
       "      <th>자장</th>\n",
       "      <th>짬뽕</th>\n",
       "    </tr>\n",
       "  </thead>\n",
       "  <tbody>\n",
       "    <tr>\n",
       "      <th>cus1</th>\n",
       "      <td>5</td>\n",
       "      <td>4</td>\n",
       "    </tr>\n",
       "    <tr>\n",
       "      <th>cus2</th>\n",
       "      <td>3</td>\n",
       "      <td>3</td>\n",
       "    </tr>\n",
       "    <tr>\n",
       "      <th>손님3</th>\n",
       "      <td>2</td>\n",
       "      <td>2</td>\n",
       "    </tr>\n",
       "    <tr>\n",
       "      <th>cus4</th>\n",
       "      <td>1</td>\n",
       "      <td>1</td>\n",
       "    </tr>\n",
       "    <tr>\n",
       "      <th>cus5</th>\n",
       "      <td>4</td>\n",
       "      <td>5</td>\n",
       "    </tr>\n",
       "    <tr>\n",
       "      <th>cus6</th>\n",
       "      <td>5</td>\n",
       "      <td>5</td>\n",
       "    </tr>\n",
       "  </tbody>\n",
       "</table>\n",
       "</div>"
      ],
      "text/plain": [
       "      자장  짬뽕\n",
       "cus1   5   4\n",
       "cus2   3   3\n",
       "손님3    2   2\n",
       "cus4   1   1\n",
       "cus5   4   5\n",
       "cus6   5   5"
      ]
     },
     "execution_count": 24,
     "metadata": {},
     "output_type": "execute_result"
    }
   ],
   "source": [
    "df2 = df2.rename(index={\"cus3\":\"손님3\"})\n",
    "df2"
   ]
  },
  {
   "cell_type": "code",
   "execution_count": 26,
   "id": "b6794ca8",
   "metadata": {},
   "outputs": [
    {
     "data": {
      "text/plain": [
       "2"
      ]
     },
     "execution_count": 26,
     "metadata": {},
     "output_type": "execute_result"
    }
   ],
   "source": [
    "df2.iloc[2,1] #손님3의 짬뽕 값이 나옴 / iloc는 인덱스로 접근이 가능하고 값을 고칠 수 있음"
   ]
  },
  {
   "cell_type": "code",
   "execution_count": 28,
   "id": "24cc3fe2",
   "metadata": {},
   "outputs": [
    {
     "data": {
      "text/html": [
       "<div>\n",
       "<style scoped>\n",
       "    .dataframe tbody tr th:only-of-type {\n",
       "        vertical-align: middle;\n",
       "    }\n",
       "\n",
       "    .dataframe tbody tr th {\n",
       "        vertical-align: top;\n",
       "    }\n",
       "\n",
       "    .dataframe thead th {\n",
       "        text-align: right;\n",
       "    }\n",
       "</style>\n",
       "<table border=\"1\" class=\"dataframe\">\n",
       "  <thead>\n",
       "    <tr style=\"text-align: right;\">\n",
       "      <th></th>\n",
       "      <th>자장</th>\n",
       "      <th>짬뽕</th>\n",
       "    </tr>\n",
       "  </thead>\n",
       "  <tbody>\n",
       "    <tr>\n",
       "      <th>cus1</th>\n",
       "      <td>5</td>\n",
       "      <td>4</td>\n",
       "    </tr>\n",
       "    <tr>\n",
       "      <th>cus2</th>\n",
       "      <td>3</td>\n",
       "      <td>3</td>\n",
       "    </tr>\n",
       "    <tr>\n",
       "      <th>손님3</th>\n",
       "      <td>2</td>\n",
       "      <td>20</td>\n",
       "    </tr>\n",
       "    <tr>\n",
       "      <th>cus4</th>\n",
       "      <td>1</td>\n",
       "      <td>1</td>\n",
       "    </tr>\n",
       "    <tr>\n",
       "      <th>cus5</th>\n",
       "      <td>4</td>\n",
       "      <td>5</td>\n",
       "    </tr>\n",
       "    <tr>\n",
       "      <th>cus6</th>\n",
       "      <td>5</td>\n",
       "      <td>5</td>\n",
       "    </tr>\n",
       "  </tbody>\n",
       "</table>\n",
       "</div>"
      ],
      "text/plain": [
       "      자장  짬뽕\n",
       "cus1   5   4\n",
       "cus2   3   3\n",
       "손님3    2  20\n",
       "cus4   1   1\n",
       "cus5   4   5\n",
       "cus6   5   5"
      ]
     },
     "execution_count": 28,
     "metadata": {},
     "output_type": "execute_result"
    }
   ],
   "source": [
    "df2.iloc[2,1] = 20\n",
    "df2"
   ]
  },
  {
   "cell_type": "code",
   "execution_count": 30,
   "id": "064796a9",
   "metadata": {},
   "outputs": [
    {
     "data": {
      "text/plain": [
       "20"
      ]
     },
     "execution_count": 30,
     "metadata": {},
     "output_type": "execute_result"
    }
   ],
   "source": [
    "df2.loc[\"손님3\"][\"짬뽕\"] # 그냥 loc 하면 정수인 인덱스가 아니라 그냥 이름 그대로 적으면 됨"
   ]
  },
  {
   "cell_type": "code",
   "execution_count": 31,
   "id": "df85d1b6",
   "metadata": {},
   "outputs": [
    {
     "data": {
      "text/plain": [
       "20"
      ]
     },
     "execution_count": 31,
     "metadata": {},
     "output_type": "execute_result"
    }
   ],
   "source": [
    "df2[\"짬뽕\"][\"손님3\"] # 컬럼을 먼저 쓰면 굳이 loc 안 써도 됨"
   ]
  },
  {
   "cell_type": "code",
   "execution_count": 32,
   "id": "ce1bfd40",
   "metadata": {},
   "outputs": [
    {
     "data": {
      "text/html": [
       "<div>\n",
       "<style scoped>\n",
       "    .dataframe tbody tr th:only-of-type {\n",
       "        vertical-align: middle;\n",
       "    }\n",
       "\n",
       "    .dataframe tbody tr th {\n",
       "        vertical-align: top;\n",
       "    }\n",
       "\n",
       "    .dataframe thead th {\n",
       "        text-align: right;\n",
       "    }\n",
       "</style>\n",
       "<table border=\"1\" class=\"dataframe\">\n",
       "  <thead>\n",
       "    <tr style=\"text-align: right;\">\n",
       "      <th></th>\n",
       "      <th>cus1</th>\n",
       "      <th>cus2</th>\n",
       "      <th>손님3</th>\n",
       "      <th>cus4</th>\n",
       "      <th>cus5</th>\n",
       "      <th>cus6</th>\n",
       "    </tr>\n",
       "  </thead>\n",
       "  <tbody>\n",
       "    <tr>\n",
       "      <th>자장</th>\n",
       "      <td>5</td>\n",
       "      <td>3</td>\n",
       "      <td>2</td>\n",
       "      <td>1</td>\n",
       "      <td>4</td>\n",
       "      <td>5</td>\n",
       "    </tr>\n",
       "    <tr>\n",
       "      <th>짬뽕</th>\n",
       "      <td>4</td>\n",
       "      <td>3</td>\n",
       "      <td>20</td>\n",
       "      <td>1</td>\n",
       "      <td>5</td>\n",
       "      <td>5</td>\n",
       "    </tr>\n",
       "  </tbody>\n",
       "</table>\n",
       "</div>"
      ],
      "text/plain": [
       "    cus1  cus2  손님3  cus4  cus5  cus6\n",
       "자장     5     3    2     1     4     5\n",
       "짬뽕     4     3   20     1     5     5"
      ]
     },
     "execution_count": 32,
     "metadata": {},
     "output_type": "execute_result"
    }
   ],
   "source": [
    "df2.T # transpose 컬럼과 인덱스의 위치를 바꿈"
   ]
  },
  {
   "cell_type": "code",
   "execution_count": 35,
   "id": "d81a2597",
   "metadata": {},
   "outputs": [
    {
     "data": {
      "text/html": [
       "<div>\n",
       "<style scoped>\n",
       "    .dataframe tbody tr th:only-of-type {\n",
       "        vertical-align: middle;\n",
       "    }\n",
       "\n",
       "    .dataframe tbody tr th {\n",
       "        vertical-align: top;\n",
       "    }\n",
       "\n",
       "    .dataframe thead th {\n",
       "        text-align: right;\n",
       "    }\n",
       "</style>\n",
       "<table border=\"1\" class=\"dataframe\">\n",
       "  <thead>\n",
       "    <tr style=\"text-align: right;\">\n",
       "      <th></th>\n",
       "      <th>cus1</th>\n",
       "      <th>cus2</th>\n",
       "      <th>손님3</th>\n",
       "      <th>cus4</th>\n",
       "      <th>cus5</th>\n",
       "      <th>cus6</th>\n",
       "    </tr>\n",
       "  </thead>\n",
       "  <tbody>\n",
       "    <tr>\n",
       "      <th>자장</th>\n",
       "      <td>5</td>\n",
       "      <td>3</td>\n",
       "      <td>2</td>\n",
       "      <td>1</td>\n",
       "      <td>4</td>\n",
       "      <td>5</td>\n",
       "    </tr>\n",
       "    <tr>\n",
       "      <th>짬뽕</th>\n",
       "      <td>4</td>\n",
       "      <td>3</td>\n",
       "      <td>20</td>\n",
       "      <td>1</td>\n",
       "      <td>5</td>\n",
       "      <td>5</td>\n",
       "    </tr>\n",
       "  </tbody>\n",
       "</table>\n",
       "</div>"
      ],
      "text/plain": [
       "    cus1  cus2  손님3  cus4  cus5  cus6\n",
       "자장     5     3    2     1     4     5\n",
       "짬뽕     4     3   20     1     5     5"
      ]
     },
     "execution_count": 35,
     "metadata": {},
     "output_type": "execute_result"
    }
   ],
   "source": [
    "df_T = df2.transpose()\n",
    "df_T"
   ]
  },
  {
   "cell_type": "code",
   "execution_count": 36,
   "id": "194c7a0d",
   "metadata": {},
   "outputs": [
    {
     "data": {
      "text/plain": [
       "20"
      ]
     },
     "execution_count": 36,
     "metadata": {},
     "output_type": "execute_result"
    }
   ],
   "source": [
    "df_T.iloc[1,2]"
   ]
  },
  {
   "cell_type": "code",
   "execution_count": 37,
   "id": "0477d338",
   "metadata": {},
   "outputs": [
    {
     "data": {
      "text/plain": [
       "20"
      ]
     },
     "execution_count": 37,
     "metadata": {},
     "output_type": "execute_result"
    }
   ],
   "source": [
    "df_T[\"손님3\"][\"짬뽕\"]"
   ]
  },
  {
   "cell_type": "code",
   "execution_count": null,
   "id": "1ed277cd",
   "metadata": {},
   "outputs": [],
   "source": []
  },
  {
   "cell_type": "code",
   "execution_count": 38,
   "id": "0044dbd0",
   "metadata": {},
   "outputs": [],
   "source": [
    "data = [[\"해찬\",\"고기덮밥\"],\n",
    "[\"건희\",\"완당\"],\n",
    "[\"원영\",\"국밥\"],\n",
    "[\"문규\",\"돈까스\"],\n",
    "[\"진우\",\"낙지\"],\n",
    "[\"명서\",\"국수\"]]\n",
    "col = [\"이름\", \"희망메뉴\"]\n",
    "index=[\"학생1\",\"학생2\",\"학생3\",\"학생4\",\"학생5\",\"학생6\"]"
   ]
  },
  {
   "cell_type": "code",
   "execution_count": 39,
   "id": "72779e15",
   "metadata": {},
   "outputs": [
    {
     "data": {
      "text/html": [
       "<div>\n",
       "<style scoped>\n",
       "    .dataframe tbody tr th:only-of-type {\n",
       "        vertical-align: middle;\n",
       "    }\n",
       "\n",
       "    .dataframe tbody tr th {\n",
       "        vertical-align: top;\n",
       "    }\n",
       "\n",
       "    .dataframe thead th {\n",
       "        text-align: right;\n",
       "    }\n",
       "</style>\n",
       "<table border=\"1\" class=\"dataframe\">\n",
       "  <thead>\n",
       "    <tr style=\"text-align: right;\">\n",
       "      <th></th>\n",
       "      <th>이름</th>\n",
       "      <th>희망메뉴</th>\n",
       "    </tr>\n",
       "  </thead>\n",
       "  <tbody>\n",
       "    <tr>\n",
       "      <th>학생1</th>\n",
       "      <td>해찬</td>\n",
       "      <td>고기덮밥</td>\n",
       "    </tr>\n",
       "    <tr>\n",
       "      <th>학생2</th>\n",
       "      <td>건희</td>\n",
       "      <td>완당</td>\n",
       "    </tr>\n",
       "    <tr>\n",
       "      <th>학생3</th>\n",
       "      <td>원영</td>\n",
       "      <td>국밥</td>\n",
       "    </tr>\n",
       "    <tr>\n",
       "      <th>학생4</th>\n",
       "      <td>문규</td>\n",
       "      <td>돈까스</td>\n",
       "    </tr>\n",
       "    <tr>\n",
       "      <th>학생5</th>\n",
       "      <td>진우</td>\n",
       "      <td>낙지</td>\n",
       "    </tr>\n",
       "    <tr>\n",
       "      <th>학생6</th>\n",
       "      <td>명서</td>\n",
       "      <td>국수</td>\n",
       "    </tr>\n",
       "  </tbody>\n",
       "</table>\n",
       "</div>"
      ],
      "text/plain": [
       "     이름  희망메뉴\n",
       "학생1  해찬  고기덮밥\n",
       "학생2  건희    완당\n",
       "학생3  원영    국밥\n",
       "학생4  문규   돈까스\n",
       "학생5  진우    낙지\n",
       "학생6  명서    국수"
      ]
     },
     "execution_count": 39,
     "metadata": {},
     "output_type": "execute_result"
    }
   ],
   "source": [
    "lunch = pd.DataFrame(data, columns=col, index = index)\n",
    "lunch"
   ]
  },
  {
   "cell_type": "code",
   "execution_count": 40,
   "id": "4d7b3218",
   "metadata": {},
   "outputs": [
    {
     "data": {
      "text/html": [
       "<div>\n",
       "<style scoped>\n",
       "    .dataframe tbody tr th:only-of-type {\n",
       "        vertical-align: middle;\n",
       "    }\n",
       "\n",
       "    .dataframe tbody tr th {\n",
       "        vertical-align: top;\n",
       "    }\n",
       "\n",
       "    .dataframe thead th {\n",
       "        text-align: right;\n",
       "    }\n",
       "</style>\n",
       "<table border=\"1\" class=\"dataframe\">\n",
       "  <thead>\n",
       "    <tr style=\"text-align: right;\">\n",
       "      <th></th>\n",
       "      <th>희망메뉴</th>\n",
       "    </tr>\n",
       "    <tr>\n",
       "      <th>이름</th>\n",
       "      <th></th>\n",
       "    </tr>\n",
       "  </thead>\n",
       "  <tbody>\n",
       "    <tr>\n",
       "      <th>해찬</th>\n",
       "      <td>고기덮밥</td>\n",
       "    </tr>\n",
       "    <tr>\n",
       "      <th>건희</th>\n",
       "      <td>완당</td>\n",
       "    </tr>\n",
       "    <tr>\n",
       "      <th>원영</th>\n",
       "      <td>국밥</td>\n",
       "    </tr>\n",
       "    <tr>\n",
       "      <th>문규</th>\n",
       "      <td>돈까스</td>\n",
       "    </tr>\n",
       "    <tr>\n",
       "      <th>진우</th>\n",
       "      <td>낙지</td>\n",
       "    </tr>\n",
       "    <tr>\n",
       "      <th>명서</th>\n",
       "      <td>국수</td>\n",
       "    </tr>\n",
       "  </tbody>\n",
       "</table>\n",
       "</div>"
      ],
      "text/plain": [
       "    희망메뉴\n",
       "이름      \n",
       "해찬  고기덮밥\n",
       "건희    완당\n",
       "원영    국밥\n",
       "문규   돈까스\n",
       "진우    낙지\n",
       "명서    국수"
      ]
     },
     "execution_count": 40,
     "metadata": {},
     "output_type": "execute_result"
    }
   ],
   "source": [
    "lunch2 = lunch.set_index([\"이름\"])\n",
    "lunch2"
   ]
  },
  {
   "cell_type": "code",
   "execution_count": 42,
   "id": "9968879c",
   "metadata": {},
   "outputs": [
    {
     "data": {
      "text/plain": [
       "희망메뉴    낙지\n",
       "Name: 진우, dtype: object"
      ]
     },
     "execution_count": 42,
     "metadata": {},
     "output_type": "execute_result"
    }
   ],
   "source": [
    "lunch2.loc[\"진우\"]"
   ]
  },
  {
   "cell_type": "code",
   "execution_count": 43,
   "id": "0fb156f9",
   "metadata": {
    "scrolled": true
   },
   "outputs": [
    {
     "data": {
      "text/html": [
       "<div>\n",
       "<style scoped>\n",
       "    .dataframe tbody tr th:only-of-type {\n",
       "        vertical-align: middle;\n",
       "    }\n",
       "\n",
       "    .dataframe tbody tr th {\n",
       "        vertical-align: top;\n",
       "    }\n",
       "\n",
       "    .dataframe thead th {\n",
       "        text-align: right;\n",
       "    }\n",
       "</style>\n",
       "<table border=\"1\" class=\"dataframe\">\n",
       "  <thead>\n",
       "    <tr style=\"text-align: right;\">\n",
       "      <th></th>\n",
       "      <th>희망메뉴</th>\n",
       "      <th>이름</th>\n",
       "    </tr>\n",
       "    <tr>\n",
       "      <th>이름</th>\n",
       "      <th></th>\n",
       "      <th></th>\n",
       "    </tr>\n",
       "  </thead>\n",
       "  <tbody>\n",
       "    <tr>\n",
       "      <th>해찬</th>\n",
       "      <td>고기덮밥</td>\n",
       "      <td>학생1</td>\n",
       "    </tr>\n",
       "    <tr>\n",
       "      <th>건희</th>\n",
       "      <td>완당</td>\n",
       "      <td>학생2</td>\n",
       "    </tr>\n",
       "    <tr>\n",
       "      <th>원영</th>\n",
       "      <td>국밥</td>\n",
       "      <td>학생3</td>\n",
       "    </tr>\n",
       "    <tr>\n",
       "      <th>문규</th>\n",
       "      <td>돈까스</td>\n",
       "      <td>학생4</td>\n",
       "    </tr>\n",
       "    <tr>\n",
       "      <th>진우</th>\n",
       "      <td>낙지</td>\n",
       "      <td>학생5</td>\n",
       "    </tr>\n",
       "    <tr>\n",
       "      <th>명서</th>\n",
       "      <td>국수</td>\n",
       "      <td>학생6</td>\n",
       "    </tr>\n",
       "  </tbody>\n",
       "</table>\n",
       "</div>"
      ],
      "text/plain": [
       "    희망메뉴   이름\n",
       "이름           \n",
       "해찬  고기덮밥  학생1\n",
       "건희    완당  학생2\n",
       "원영    국밥  학생3\n",
       "문규   돈까스  학생4\n",
       "진우    낙지  학생5\n",
       "명서    국수  학생6"
      ]
     },
     "execution_count": 43,
     "metadata": {},
     "output_type": "execute_result"
    }
   ],
   "source": [
    "lunch2[\"이름\"] = lunch.index\n",
    "lunch2"
   ]
  },
  {
   "cell_type": "code",
   "execution_count": 44,
   "id": "358a9eb0",
   "metadata": {},
   "outputs": [
    {
     "data": {
      "text/html": [
       "<div>\n",
       "<style scoped>\n",
       "    .dataframe tbody tr th:only-of-type {\n",
       "        vertical-align: middle;\n",
       "    }\n",
       "\n",
       "    .dataframe tbody tr th {\n",
       "        vertical-align: top;\n",
       "    }\n",
       "\n",
       "    .dataframe thead th {\n",
       "        text-align: right;\n",
       "    }\n",
       "</style>\n",
       "<table border=\"1\" class=\"dataframe\">\n",
       "  <thead>\n",
       "    <tr style=\"text-align: right;\">\n",
       "      <th></th>\n",
       "      <th>희망메뉴</th>\n",
       "      <th>이름</th>\n",
       "      <th>가격</th>\n",
       "    </tr>\n",
       "    <tr>\n",
       "      <th>이름</th>\n",
       "      <th></th>\n",
       "      <th></th>\n",
       "      <th></th>\n",
       "    </tr>\n",
       "  </thead>\n",
       "  <tbody>\n",
       "    <tr>\n",
       "      <th>해찬</th>\n",
       "      <td>고기덮밥</td>\n",
       "      <td>학생1</td>\n",
       "      <td>10000</td>\n",
       "    </tr>\n",
       "    <tr>\n",
       "      <th>건희</th>\n",
       "      <td>완당</td>\n",
       "      <td>학생2</td>\n",
       "      <td>12000</td>\n",
       "    </tr>\n",
       "    <tr>\n",
       "      <th>원영</th>\n",
       "      <td>국밥</td>\n",
       "      <td>학생3</td>\n",
       "      <td>9000</td>\n",
       "    </tr>\n",
       "    <tr>\n",
       "      <th>문규</th>\n",
       "      <td>돈까스</td>\n",
       "      <td>학생4</td>\n",
       "      <td>11000</td>\n",
       "    </tr>\n",
       "    <tr>\n",
       "      <th>진우</th>\n",
       "      <td>낙지</td>\n",
       "      <td>학생5</td>\n",
       "      <td>12000</td>\n",
       "    </tr>\n",
       "    <tr>\n",
       "      <th>명서</th>\n",
       "      <td>국수</td>\n",
       "      <td>학생6</td>\n",
       "      <td>8000</td>\n",
       "    </tr>\n",
       "  </tbody>\n",
       "</table>\n",
       "</div>"
      ],
      "text/plain": [
       "    희망메뉴   이름     가격\n",
       "이름                  \n",
       "해찬  고기덮밥  학생1  10000\n",
       "건희    완당  학생2  12000\n",
       "원영    국밥  학생3   9000\n",
       "문규   돈까스  학생4  11000\n",
       "진우    낙지  학생5  12000\n",
       "명서    국수  학생6   8000"
      ]
     },
     "execution_count": 44,
     "metadata": {},
     "output_type": "execute_result"
    }
   ],
   "source": [
    "lunch2[\"가격\"] = [10000, 12000, 9000, 11000, 12000, 8000] # 컬럼 추가 및 값 추가\n",
    "lunch2"
   ]
  },
  {
   "cell_type": "code",
   "execution_count": 45,
   "id": "557dd6dc",
   "metadata": {},
   "outputs": [
    {
     "data": {
      "text/html": [
       "<div>\n",
       "<style scoped>\n",
       "    .dataframe tbody tr th:only-of-type {\n",
       "        vertical-align: middle;\n",
       "    }\n",
       "\n",
       "    .dataframe tbody tr th {\n",
       "        vertical-align: top;\n",
       "    }\n",
       "\n",
       "    .dataframe thead th {\n",
       "        text-align: right;\n",
       "    }\n",
       "</style>\n",
       "<table border=\"1\" class=\"dataframe\">\n",
       "  <thead>\n",
       "    <tr style=\"text-align: right;\">\n",
       "      <th></th>\n",
       "      <th>희망메뉴</th>\n",
       "      <th>이름</th>\n",
       "      <th>가격</th>\n",
       "    </tr>\n",
       "    <tr>\n",
       "      <th>이름</th>\n",
       "      <th></th>\n",
       "      <th></th>\n",
       "      <th></th>\n",
       "    </tr>\n",
       "  </thead>\n",
       "  <tbody>\n",
       "    <tr>\n",
       "      <th>명서</th>\n",
       "      <td>국수</td>\n",
       "      <td>학생6</td>\n",
       "      <td>8000</td>\n",
       "    </tr>\n",
       "    <tr>\n",
       "      <th>원영</th>\n",
       "      <td>국밥</td>\n",
       "      <td>학생3</td>\n",
       "      <td>9000</td>\n",
       "    </tr>\n",
       "    <tr>\n",
       "      <th>해찬</th>\n",
       "      <td>고기덮밥</td>\n",
       "      <td>학생1</td>\n",
       "      <td>10000</td>\n",
       "    </tr>\n",
       "    <tr>\n",
       "      <th>문규</th>\n",
       "      <td>돈까스</td>\n",
       "      <td>학생4</td>\n",
       "      <td>11000</td>\n",
       "    </tr>\n",
       "    <tr>\n",
       "      <th>건희</th>\n",
       "      <td>완당</td>\n",
       "      <td>학생2</td>\n",
       "      <td>12000</td>\n",
       "    </tr>\n",
       "    <tr>\n",
       "      <th>진우</th>\n",
       "      <td>낙지</td>\n",
       "      <td>학생5</td>\n",
       "      <td>12000</td>\n",
       "    </tr>\n",
       "  </tbody>\n",
       "</table>\n",
       "</div>"
      ],
      "text/plain": [
       "    희망메뉴   이름     가격\n",
       "이름                  \n",
       "명서    국수  학생6   8000\n",
       "원영    국밥  학생3   9000\n",
       "해찬  고기덮밥  학생1  10000\n",
       "문규   돈까스  학생4  11000\n",
       "건희    완당  학생2  12000\n",
       "진우    낙지  학생5  12000"
      ]
     },
     "execution_count": 45,
     "metadata": {},
     "output_type": "execute_result"
    }
   ],
   "source": [
    "lunch2.sort_values(by=\"가격\") # 가격을 오름차순으로 새로 정렬함"
   ]
  },
  {
   "cell_type": "code",
   "execution_count": 46,
   "id": "7f7a16f2",
   "metadata": {},
   "outputs": [
    {
     "data": {
      "text/html": [
       "<div>\n",
       "<style scoped>\n",
       "    .dataframe tbody tr th:only-of-type {\n",
       "        vertical-align: middle;\n",
       "    }\n",
       "\n",
       "    .dataframe tbody tr th {\n",
       "        vertical-align: top;\n",
       "    }\n",
       "\n",
       "    .dataframe thead th {\n",
       "        text-align: right;\n",
       "    }\n",
       "</style>\n",
       "<table border=\"1\" class=\"dataframe\">\n",
       "  <thead>\n",
       "    <tr style=\"text-align: right;\">\n",
       "      <th></th>\n",
       "      <th>희망메뉴</th>\n",
       "      <th>이름</th>\n",
       "      <th>가격</th>\n",
       "    </tr>\n",
       "    <tr>\n",
       "      <th>이름</th>\n",
       "      <th></th>\n",
       "      <th></th>\n",
       "      <th></th>\n",
       "    </tr>\n",
       "  </thead>\n",
       "  <tbody>\n",
       "    <tr>\n",
       "      <th>건희</th>\n",
       "      <td>완당</td>\n",
       "      <td>학생2</td>\n",
       "      <td>12000</td>\n",
       "    </tr>\n",
       "    <tr>\n",
       "      <th>진우</th>\n",
       "      <td>낙지</td>\n",
       "      <td>학생5</td>\n",
       "      <td>12000</td>\n",
       "    </tr>\n",
       "    <tr>\n",
       "      <th>문규</th>\n",
       "      <td>돈까스</td>\n",
       "      <td>학생4</td>\n",
       "      <td>11000</td>\n",
       "    </tr>\n",
       "    <tr>\n",
       "      <th>해찬</th>\n",
       "      <td>고기덮밥</td>\n",
       "      <td>학생1</td>\n",
       "      <td>10000</td>\n",
       "    </tr>\n",
       "    <tr>\n",
       "      <th>원영</th>\n",
       "      <td>국밥</td>\n",
       "      <td>학생3</td>\n",
       "      <td>9000</td>\n",
       "    </tr>\n",
       "    <tr>\n",
       "      <th>명서</th>\n",
       "      <td>국수</td>\n",
       "      <td>학생6</td>\n",
       "      <td>8000</td>\n",
       "    </tr>\n",
       "  </tbody>\n",
       "</table>\n",
       "</div>"
      ],
      "text/plain": [
       "    희망메뉴   이름     가격\n",
       "이름                  \n",
       "건희    완당  학생2  12000\n",
       "진우    낙지  학생5  12000\n",
       "문규   돈까스  학생4  11000\n",
       "해찬  고기덮밥  학생1  10000\n",
       "원영    국밥  학생3   9000\n",
       "명서    국수  학생6   8000"
      ]
     },
     "execution_count": 46,
     "metadata": {},
     "output_type": "execute_result"
    }
   ],
   "source": [
    "lunch2.sort_values(by=\"가격\", ascending=False) # 가격을 내림차순으로 새로 정렬함"
   ]
  },
  {
   "cell_type": "code",
   "execution_count": 47,
   "id": "a24ece48",
   "metadata": {},
   "outputs": [],
   "source": [
    "lunch2.to_excel(\"lunch2.xlsx\")"
   ]
  },
  {
   "cell_type": "code",
   "execution_count": 49,
   "id": "ebf11b44",
   "metadata": {},
   "outputs": [],
   "source": [
    "lunch2.to_excel(\"lunch2.xlsx\", sheet_name=\"MySheet1\")"
   ]
  },
  {
   "cell_type": "code",
   "execution_count": 50,
   "id": "5821c631",
   "metadata": {},
   "outputs": [
    {
     "data": {
      "text/html": [
       "<div>\n",
       "<style scoped>\n",
       "    .dataframe tbody tr th:only-of-type {\n",
       "        vertical-align: middle;\n",
       "    }\n",
       "\n",
       "    .dataframe tbody tr th {\n",
       "        vertical-align: top;\n",
       "    }\n",
       "\n",
       "    .dataframe thead th {\n",
       "        text-align: right;\n",
       "    }\n",
       "</style>\n",
       "<table border=\"1\" class=\"dataframe\">\n",
       "  <thead>\n",
       "    <tr style=\"text-align: right;\">\n",
       "      <th></th>\n",
       "      <th>희망메뉴</th>\n",
       "    </tr>\n",
       "    <tr>\n",
       "      <th>이름</th>\n",
       "      <th></th>\n",
       "    </tr>\n",
       "  </thead>\n",
       "  <tbody>\n",
       "    <tr>\n",
       "      <th>해찬</th>\n",
       "      <td>고기덮밥</td>\n",
       "    </tr>\n",
       "    <tr>\n",
       "      <th>건희</th>\n",
       "      <td>완당</td>\n",
       "    </tr>\n",
       "    <tr>\n",
       "      <th>원영</th>\n",
       "      <td>국밥</td>\n",
       "    </tr>\n",
       "    <tr>\n",
       "      <th>문규</th>\n",
       "      <td>돈까스</td>\n",
       "    </tr>\n",
       "    <tr>\n",
       "      <th>진우</th>\n",
       "      <td>낙지</td>\n",
       "    </tr>\n",
       "    <tr>\n",
       "      <th>명서</th>\n",
       "      <td>국수</td>\n",
       "    </tr>\n",
       "  </tbody>\n",
       "</table>\n",
       "</div>"
      ],
      "text/plain": [
       "    희망메뉴\n",
       "이름      \n",
       "해찬  고기덮밥\n",
       "건희    완당\n",
       "원영    국밥\n",
       "문규   돈까스\n",
       "진우    낙지\n",
       "명서    국수"
      ]
     },
     "execution_count": 50,
     "metadata": {},
     "output_type": "execute_result"
    }
   ],
   "source": [
    "lunch3 = lunch2.copy()\n",
    "lunch3 = lunch3[[\"희망메뉴\"]]\n",
    "lunch3"
   ]
  },
  {
   "cell_type": "code",
   "execution_count": 52,
   "id": "8b80a56c",
   "metadata": {},
   "outputs": [],
   "source": [
    "writer = pd.ExcelWriter(\"lunch3.xlsx\") # 새로운 파일을 만들고 데이터를 넣음\n",
    "lunch2.to_excel(writer, sheet_name=\"lunch2\")\n",
    "lunch3.to_excel(writer, sheet_name=\"lunch3\")\n",
    "writer._save() # writer.save() 둘 중 하나 쓰면 됨\n",
    "writer.close()"
   ]
  },
  {
   "cell_type": "code",
   "execution_count": 55,
   "id": "c29bd1f4",
   "metadata": {},
   "outputs": [
    {
     "data": {
      "text/html": [
       "<div>\n",
       "<style scoped>\n",
       "    .dataframe tbody tr th:only-of-type {\n",
       "        vertical-align: middle;\n",
       "    }\n",
       "\n",
       "    .dataframe tbody tr th {\n",
       "        vertical-align: top;\n",
       "    }\n",
       "\n",
       "    .dataframe thead th {\n",
       "        text-align: right;\n",
       "    }\n",
       "</style>\n",
       "<table border=\"1\" class=\"dataframe\">\n",
       "  <thead>\n",
       "    <tr style=\"text-align: right;\">\n",
       "      <th></th>\n",
       "      <th>버스</th>\n",
       "      <th>지하철</th>\n",
       "      <th>택시</th>\n",
       "    </tr>\n",
       "  </thead>\n",
       "  <tbody>\n",
       "    <tr>\n",
       "      <th>학생A</th>\n",
       "      <td>1000</td>\n",
       "      <td>2000</td>\n",
       "      <td>NaN</td>\n",
       "    </tr>\n",
       "    <tr>\n",
       "      <th>학생B</th>\n",
       "      <td>1500</td>\n",
       "      <td>2500</td>\n",
       "      <td>3500.0</td>\n",
       "    </tr>\n",
       "  </tbody>\n",
       "</table>\n",
       "</div>"
      ],
      "text/plain": [
       "       버스   지하철      택시\n",
       "학생A  1000  2000     NaN\n",
       "학생B  1500  2500  3500.0"
      ]
     },
     "execution_count": 55,
     "metadata": {},
     "output_type": "execute_result"
    }
   ],
   "source": [
    "data = [{\"버스\":1000, \"지하철\":2000},\n",
    "        {\"버스\":1500, \"지하철\":2500, \"택시\":3500}]\n",
    "idx = [\"학생A\", \"학생B\"]\n",
    "df = pd.DataFrame(data, index = idx)\n",
    "df # NaN: Not A Number, 유사한 말로는 Na/ Numpy에서는 np.nan / Python에서는 None / 일반 언어에서는 Null"
   ]
  },
  {
   "cell_type": "code",
   "execution_count": 63,
   "id": "a2bd498e",
   "metadata": {},
   "outputs": [
    {
     "data": {
      "text/html": [
       "<div>\n",
       "<style scoped>\n",
       "    .dataframe tbody tr th:only-of-type {\n",
       "        vertical-align: middle;\n",
       "    }\n",
       "\n",
       "    .dataframe tbody tr th {\n",
       "        vertical-align: top;\n",
       "    }\n",
       "\n",
       "    .dataframe thead th {\n",
       "        text-align: right;\n",
       "    }\n",
       "</style>\n",
       "<table border=\"1\" class=\"dataframe\">\n",
       "  <thead>\n",
       "    <tr style=\"text-align: right;\">\n",
       "      <th></th>\n",
       "      <th>버스</th>\n",
       "      <th>지하철</th>\n",
       "      <th>택시</th>\n",
       "    </tr>\n",
       "  </thead>\n",
       "  <tbody>\n",
       "    <tr>\n",
       "      <th>학생B</th>\n",
       "      <td>1500</td>\n",
       "      <td>2500</td>\n",
       "      <td>3500.0</td>\n",
       "    </tr>\n",
       "  </tbody>\n",
       "</table>\n",
       "</div>"
      ],
      "text/plain": [
       "       버스   지하철      택시\n",
       "학생B  1500  2500  3500.0"
      ]
     },
     "execution_count": 63,
     "metadata": {},
     "output_type": "execute_result"
    }
   ],
   "source": [
    "df.dropna() # 행 자체를 날림 / default axis=0"
   ]
  },
  {
   "cell_type": "code",
   "execution_count": 64,
   "id": "8937ad13",
   "metadata": {},
   "outputs": [
    {
     "data": {
      "text/html": [
       "<div>\n",
       "<style scoped>\n",
       "    .dataframe tbody tr th:only-of-type {\n",
       "        vertical-align: middle;\n",
       "    }\n",
       "\n",
       "    .dataframe tbody tr th {\n",
       "        vertical-align: top;\n",
       "    }\n",
       "\n",
       "    .dataframe thead th {\n",
       "        text-align: right;\n",
       "    }\n",
       "</style>\n",
       "<table border=\"1\" class=\"dataframe\">\n",
       "  <thead>\n",
       "    <tr style=\"text-align: right;\">\n",
       "      <th></th>\n",
       "      <th>버스</th>\n",
       "      <th>지하철</th>\n",
       "    </tr>\n",
       "  </thead>\n",
       "  <tbody>\n",
       "    <tr>\n",
       "      <th>학생A</th>\n",
       "      <td>1000</td>\n",
       "      <td>2000</td>\n",
       "    </tr>\n",
       "    <tr>\n",
       "      <th>학생B</th>\n",
       "      <td>1500</td>\n",
       "      <td>2500</td>\n",
       "    </tr>\n",
       "  </tbody>\n",
       "</table>\n",
       "</div>"
      ],
      "text/plain": [
       "       버스   지하철\n",
       "학생A  1000  2000\n",
       "학생B  1500  2500"
      ]
     },
     "execution_count": 64,
     "metadata": {},
     "output_type": "execute_result"
    }
   ],
   "source": [
    "df.dropna(axis=1) # 열 자체를 날림 / axis = 0 은 행을 나타냄"
   ]
  },
  {
   "cell_type": "code",
   "execution_count": 65,
   "id": "8b1c3439",
   "metadata": {},
   "outputs": [
    {
     "data": {
      "text/html": [
       "<div>\n",
       "<style scoped>\n",
       "    .dataframe tbody tr th:only-of-type {\n",
       "        vertical-align: middle;\n",
       "    }\n",
       "\n",
       "    .dataframe tbody tr th {\n",
       "        vertical-align: top;\n",
       "    }\n",
       "\n",
       "    .dataframe thead th {\n",
       "        text-align: right;\n",
       "    }\n",
       "</style>\n",
       "<table border=\"1\" class=\"dataframe\">\n",
       "  <thead>\n",
       "    <tr style=\"text-align: right;\">\n",
       "      <th></th>\n",
       "      <th>버스</th>\n",
       "      <th>지하철</th>\n",
       "      <th>택시</th>\n",
       "    </tr>\n",
       "  </thead>\n",
       "  <tbody>\n",
       "    <tr>\n",
       "      <th>학생A</th>\n",
       "      <td>1000</td>\n",
       "      <td>2000</td>\n",
       "      <td>3500.0</td>\n",
       "    </tr>\n",
       "    <tr>\n",
       "      <th>학생B</th>\n",
       "      <td>1500</td>\n",
       "      <td>2500</td>\n",
       "      <td>3500.0</td>\n",
       "    </tr>\n",
       "  </tbody>\n",
       "</table>\n",
       "</div>"
      ],
      "text/plain": [
       "       버스   지하철      택시\n",
       "학생A  1000  2000  3500.0\n",
       "학생B  1500  2500  3500.0"
      ]
     },
     "execution_count": 65,
     "metadata": {},
     "output_type": "execute_result"
    }
   ],
   "source": [
    "df = df.fillna(3500)\n",
    "df"
   ]
  },
  {
   "cell_type": "code",
   "execution_count": 66,
   "id": "e93ffb63",
   "metadata": {},
   "outputs": [
    {
     "data": {
      "text/html": [
       "<div>\n",
       "<style scoped>\n",
       "    .dataframe tbody tr th:only-of-type {\n",
       "        vertical-align: middle;\n",
       "    }\n",
       "\n",
       "    .dataframe tbody tr th {\n",
       "        vertical-align: top;\n",
       "    }\n",
       "\n",
       "    .dataframe thead th {\n",
       "        text-align: right;\n",
       "    }\n",
       "</style>\n",
       "<table border=\"1\" class=\"dataframe\">\n",
       "  <thead>\n",
       "    <tr style=\"text-align: right;\">\n",
       "      <th></th>\n",
       "      <th>버스</th>\n",
       "      <th>지하철</th>\n",
       "      <th>택시</th>\n",
       "    </tr>\n",
       "  </thead>\n",
       "  <tbody>\n",
       "    <tr>\n",
       "      <th>학생A</th>\n",
       "      <td>1000</td>\n",
       "      <td>2000</td>\n",
       "      <td>NaN</td>\n",
       "    </tr>\n",
       "    <tr>\n",
       "      <th>학생B</th>\n",
       "      <td>1500</td>\n",
       "      <td>2500</td>\n",
       "      <td>3500.0</td>\n",
       "    </tr>\n",
       "  </tbody>\n",
       "</table>\n",
       "</div>"
      ],
      "text/plain": [
       "       버스   지하철      택시\n",
       "학생A  1000  2000     NaN\n",
       "학생B  1500  2500  3500.0"
      ]
     },
     "execution_count": 66,
     "metadata": {},
     "output_type": "execute_result"
    }
   ],
   "source": [
    "import numpy as np\n",
    "df.iloc[0,2] = np.nan\n",
    "df"
   ]
  },
  {
   "cell_type": "code",
   "execution_count": 67,
   "id": "b1aa6d9f",
   "metadata": {},
   "outputs": [
    {
     "data": {
      "text/html": [
       "<div>\n",
       "<style scoped>\n",
       "    .dataframe tbody tr th:only-of-type {\n",
       "        vertical-align: middle;\n",
       "    }\n",
       "\n",
       "    .dataframe tbody tr th {\n",
       "        vertical-align: top;\n",
       "    }\n",
       "\n",
       "    .dataframe thead th {\n",
       "        text-align: right;\n",
       "    }\n",
       "</style>\n",
       "<table border=\"1\" class=\"dataframe\">\n",
       "  <thead>\n",
       "    <tr style=\"text-align: right;\">\n",
       "      <th></th>\n",
       "      <th>버스</th>\n",
       "      <th>지하철</th>\n",
       "      <th>택시</th>\n",
       "    </tr>\n",
       "  </thead>\n",
       "  <tbody>\n",
       "    <tr>\n",
       "      <th>학생A</th>\n",
       "      <td>1000</td>\n",
       "      <td>2000</td>\n",
       "      <td>3500.0</td>\n",
       "    </tr>\n",
       "    <tr>\n",
       "      <th>학생B</th>\n",
       "      <td>1500</td>\n",
       "      <td>2500</td>\n",
       "      <td>3500.0</td>\n",
       "    </tr>\n",
       "  </tbody>\n",
       "</table>\n",
       "</div>"
      ],
      "text/plain": [
       "       버스   지하철      택시\n",
       "학생A  1000  2000  3500.0\n",
       "학생B  1500  2500  3500.0"
      ]
     },
     "execution_count": 67,
     "metadata": {},
     "output_type": "execute_result"
    }
   ],
   "source": [
    "df = df.fillna(df.mean()) # 평균값\n",
    "df"
   ]
  },
  {
   "cell_type": "code",
   "execution_count": 68,
   "id": "d2c49343",
   "metadata": {},
   "outputs": [],
   "source": [
    "import matplotlib.pyplot as plt"
   ]
  },
  {
   "cell_type": "code",
   "execution_count": 70,
   "id": "55a2d35f",
   "metadata": {},
   "outputs": [
    {
     "data": {
      "text/plain": [
       "<Axes: >"
      ]
     },
     "execution_count": 70,
     "metadata": {},
     "output_type": "execute_result"
    },
    {
     "data": {
      "image/png": "[encoded data removed]",
      "text/plain": [
       "<Figure size 640x480 with 1 Axes>"
      ]
     },
     "metadata": {},
     "output_type": "display_data"
    }
   ],
   "source": [
    "s = pd.Series([46, 100, np.nan, np.nan, np.nan,\n",
    "              -695, -790, -644, -818, -901])\n",
    "s.plot()"
   ]
  },
  {
   "cell_type": "code",
   "execution_count": 71,
   "id": "2724d058",
   "metadata": {},
   "outputs": [
    {
     "data": {
      "text/plain": [
       "<Axes: >"
      ]
     },
     "execution_count": 71,
     "metadata": {},
     "output_type": "execute_result"
    },
    {
     "data": {
      "image/png": "[encoded data removed]",
      "text/plain": [
       "<Figure size 640x480 with 1 Axes>"
      ]
     },
     "metadata": {},
     "output_type": "display_data"
    }
   ],
   "source": [
    "s1 = s.fillna(s.mean()) # 별로 좋지는 않음 / 데이터 양이 많았으면 수직으로 떨어지는 모습이 됨\n",
    "s1.plot()"
   ]
  },
  {
   "cell_type": "code",
   "execution_count": 72,
   "id": "af6dcdf9",
   "metadata": {},
   "outputs": [
    {
     "data": {
      "text/plain": [
       "<Axes: >"
      ]
     },
     "execution_count": 72,
     "metadata": {},
     "output_type": "execute_result"
    },
    {
     "data": {
      "image/png": "[encoded data removed]",
      "text/plain": [
       "<Figure size 640x480 with 1 Axes>"
      ]
     },
     "metadata": {},
     "output_type": "display_data"
    }
   ],
   "source": [
    "s2 = s.interpolate() # 보기에 평균보다는 괜찮음 / 억지로 fill보다는 이게 나을 듯?\n",
    "s2.plot()"
   ]
  },
  {
   "cell_type": "code",
   "execution_count": 1,
   "id": "f36c5d40",
   "metadata": {},
   "outputs": [],
   "source": [
    "#!pip install seaborn\n",
    "import seaborn as sns"
   ]
  },
  {
   "cell_type": "code",
   "execution_count": 2,
   "id": "11bcb0a2",
   "metadata": {},
   "outputs": [
    {
     "data": {
      "text/html": [
       "<div>\n",
       "<style scoped>\n",
       "    .dataframe tbody tr th:only-of-type {\n",
       "        vertical-align: middle;\n",
       "    }\n",
       "\n",
       "    .dataframe tbody tr th {\n",
       "        vertical-align: top;\n",
       "    }\n",
       "\n",
       "    .dataframe thead th {\n",
       "        text-align: right;\n",
       "    }\n",
       "</style>\n",
       "<table border=\"1\" class=\"dataframe\">\n",
       "  <thead>\n",
       "    <tr style=\"text-align: right;\">\n",
       "      <th></th>\n",
       "      <th>survived</th>\n",
       "      <th>pclass</th>\n",
       "      <th>sex</th>\n",
       "      <th>age</th>\n",
       "      <th>sibsp</th>\n",
       "      <th>parch</th>\n",
       "      <th>fare</th>\n",
       "      <th>embarked</th>\n",
       "      <th>class</th>\n",
       "      <th>who</th>\n",
       "      <th>adult_male</th>\n",
       "      <th>deck</th>\n",
       "      <th>embark_town</th>\n",
       "      <th>alive</th>\n",
       "      <th>alone</th>\n",
       "    </tr>\n",
       "  </thead>\n",
       "  <tbody>\n",
       "    <tr>\n",
       "      <th>0</th>\n",
       "      <td>0</td>\n",
       "      <td>3</td>\n",
       "      <td>male</td>\n",
       "      <td>22.0</td>\n",
       "      <td>1</td>\n",
       "      <td>0</td>\n",
       "      <td>7.2500</td>\n",
       "      <td>S</td>\n",
       "      <td>Third</td>\n",
       "      <td>man</td>\n",
       "      <td>True</td>\n",
       "      <td>NaN</td>\n",
       "      <td>Southampton</td>\n",
       "      <td>no</td>\n",
       "      <td>False</td>\n",
       "    </tr>\n",
       "    <tr>\n",
       "      <th>1</th>\n",
       "      <td>1</td>\n",
       "      <td>1</td>\n",
       "      <td>female</td>\n",
       "      <td>38.0</td>\n",
       "      <td>1</td>\n",
       "      <td>0</td>\n",
       "      <td>71.2833</td>\n",
       "      <td>C</td>\n",
       "      <td>First</td>\n",
       "      <td>woman</td>\n",
       "      <td>False</td>\n",
       "      <td>C</td>\n",
       "      <td>Cherbourg</td>\n",
       "      <td>yes</td>\n",
       "      <td>False</td>\n",
       "    </tr>\n",
       "    <tr>\n",
       "      <th>2</th>\n",
       "      <td>1</td>\n",
       "      <td>3</td>\n",
       "      <td>female</td>\n",
       "      <td>26.0</td>\n",
       "      <td>0</td>\n",
       "      <td>0</td>\n",
       "      <td>7.9250</td>\n",
       "      <td>S</td>\n",
       "      <td>Third</td>\n",
       "      <td>woman</td>\n",
       "      <td>False</td>\n",
       "      <td>NaN</td>\n",
       "      <td>Southampton</td>\n",
       "      <td>yes</td>\n",
       "      <td>True</td>\n",
       "    </tr>\n",
       "    <tr>\n",
       "      <th>3</th>\n",
       "      <td>1</td>\n",
       "      <td>1</td>\n",
       "      <td>female</td>\n",
       "      <td>35.0</td>\n",
       "      <td>1</td>\n",
       "      <td>0</td>\n",
       "      <td>53.1000</td>\n",
       "      <td>S</td>\n",
       "      <td>First</td>\n",
       "      <td>woman</td>\n",
       "      <td>False</td>\n",
       "      <td>C</td>\n",
       "      <td>Southampton</td>\n",
       "      <td>yes</td>\n",
       "      <td>False</td>\n",
       "    </tr>\n",
       "    <tr>\n",
       "      <th>4</th>\n",
       "      <td>0</td>\n",
       "      <td>3</td>\n",
       "      <td>male</td>\n",
       "      <td>35.0</td>\n",
       "      <td>0</td>\n",
       "      <td>0</td>\n",
       "      <td>8.0500</td>\n",
       "      <td>S</td>\n",
       "      <td>Third</td>\n",
       "      <td>man</td>\n",
       "      <td>True</td>\n",
       "      <td>NaN</td>\n",
       "      <td>Southampton</td>\n",
       "      <td>no</td>\n",
       "      <td>True</td>\n",
       "    </tr>\n",
       "    <tr>\n",
       "      <th>...</th>\n",
       "      <td>...</td>\n",
       "      <td>...</td>\n",
       "      <td>...</td>\n",
       "      <td>...</td>\n",
       "      <td>...</td>\n",
       "      <td>...</td>\n",
       "      <td>...</td>\n",
       "      <td>...</td>\n",
       "      <td>...</td>\n",
       "      <td>...</td>\n",
       "      <td>...</td>\n",
       "      <td>...</td>\n",
       "      <td>...</td>\n",
       "      <td>...</td>\n",
       "      <td>...</td>\n",
       "    </tr>\n",
       "    <tr>\n",
       "      <th>886</th>\n",
       "      <td>0</td>\n",
       "      <td>2</td>\n",
       "      <td>male</td>\n",
       "      <td>27.0</td>\n",
       "      <td>0</td>\n",
       "      <td>0</td>\n",
       "      <td>13.0000</td>\n",
       "      <td>S</td>\n",
       "      <td>Second</td>\n",
       "      <td>man</td>\n",
       "      <td>True</td>\n",
       "      <td>NaN</td>\n",
       "      <td>Southampton</td>\n",
       "      <td>no</td>\n",
       "      <td>True</td>\n",
       "    </tr>\n",
       "    <tr>\n",
       "      <th>887</th>\n",
       "      <td>1</td>\n",
       "      <td>1</td>\n",
       "      <td>female</td>\n",
       "      <td>19.0</td>\n",
       "      <td>0</td>\n",
       "      <td>0</td>\n",
       "      <td>30.0000</td>\n",
       "      <td>S</td>\n",
       "      <td>First</td>\n",
       "      <td>woman</td>\n",
       "      <td>False</td>\n",
       "      <td>B</td>\n",
       "      <td>Southampton</td>\n",
       "      <td>yes</td>\n",
       "      <td>True</td>\n",
       "    </tr>\n",
       "    <tr>\n",
       "      <th>888</th>\n",
       "      <td>0</td>\n",
       "      <td>3</td>\n",
       "      <td>female</td>\n",
       "      <td>NaN</td>\n",
       "      <td>1</td>\n",
       "      <td>2</td>\n",
       "      <td>23.4500</td>\n",
       "      <td>S</td>\n",
       "      <td>Third</td>\n",
       "      <td>woman</td>\n",
       "      <td>False</td>\n",
       "      <td>NaN</td>\n",
       "      <td>Southampton</td>\n",
       "      <td>no</td>\n",
       "      <td>False</td>\n",
       "    </tr>\n",
       "    <tr>\n",
       "      <th>889</th>\n",
       "      <td>1</td>\n",
       "      <td>1</td>\n",
       "      <td>male</td>\n",
       "      <td>26.0</td>\n",
       "      <td>0</td>\n",
       "      <td>0</td>\n",
       "      <td>30.0000</td>\n",
       "      <td>C</td>\n",
       "      <td>First</td>\n",
       "      <td>man</td>\n",
       "      <td>True</td>\n",
       "      <td>C</td>\n",
       "      <td>Cherbourg</td>\n",
       "      <td>yes</td>\n",
       "      <td>True</td>\n",
       "    </tr>\n",
       "    <tr>\n",
       "      <th>890</th>\n",
       "      <td>0</td>\n",
       "      <td>3</td>\n",
       "      <td>male</td>\n",
       "      <td>32.0</td>\n",
       "      <td>0</td>\n",
       "      <td>0</td>\n",
       "      <td>7.7500</td>\n",
       "      <td>Q</td>\n",
       "      <td>Third</td>\n",
       "      <td>man</td>\n",
       "      <td>True</td>\n",
       "      <td>NaN</td>\n",
       "      <td>Queenstown</td>\n",
       "      <td>no</td>\n",
       "      <td>True</td>\n",
       "    </tr>\n",
       "  </tbody>\n",
       "</table>\n",
       "<p>891 rows × 15 columns</p>\n",
       "</div>"
      ],
      "text/plain": [
       "     survived  pclass     sex   age  sibsp  parch     fare embarked   class  \\\n",
       "0           0       3    male  22.0      1      0   7.2500        S   Third   \n",
       "1           1       1  female  38.0      1      0  71.2833        C   First   \n",
       "2           1       3  female  26.0      0      0   7.9250        S   Third   \n",
       "3           1       1  female  35.0      1      0  53.1000        S   First   \n",
       "4           0       3    male  35.0      0      0   8.0500        S   Third   \n",
       "..        ...     ...     ...   ...    ...    ...      ...      ...     ...   \n",
       "886         0       2    male  27.0      0      0  13.0000        S  Second   \n",
       "887         1       1  female  19.0      0      0  30.0000        S   First   \n",
       "888         0       3  female   NaN      1      2  23.4500        S   Third   \n",
       "889         1       1    male  26.0      0      0  30.0000        C   First   \n",
       "890         0       3    male  32.0      0      0   7.7500        Q   Third   \n",
       "\n",
       "       who  adult_male deck  embark_town alive  alone  \n",
       "0      man        True  NaN  Southampton    no  False  \n",
       "1    woman       False    C    Cherbourg   yes  False  \n",
       "2    woman       False  NaN  Southampton   yes   True  \n",
       "3    woman       False    C  Southampton   yes  False  \n",
       "4      man        True  NaN  Southampton    no   True  \n",
       "..     ...         ...  ...          ...   ...    ...  \n",
       "886    man        True  NaN  Southampton    no   True  \n",
       "887  woman       False    B  Southampton   yes   True  \n",
       "888  woman       False  NaN  Southampton    no  False  \n",
       "889    man        True    C    Cherbourg   yes   True  \n",
       "890    man        True  NaN   Queenstown    no   True  \n",
       "\n",
       "[891 rows x 15 columns]"
      ]
     },
     "execution_count": 2,
     "metadata": {},
     "output_type": "execute_result"
    }
   ],
   "source": [
    "df = sns.load_dataset(\"titanic\")\n",
    "df"
   ]
  },
  {
   "cell_type": "code",
   "execution_count": 3,
   "id": "8585f732",
   "metadata": {},
   "outputs": [
    {
     "name": "stdout",
     "output_type": "stream",
     "text": [
      "<class 'pandas.core.frame.DataFrame'>\n",
      "RangeIndex: 891 entries, 0 to 890\n",
      "Data columns (total 15 columns):\n",
      " #   Column       Non-Null Count  Dtype   \n",
      "---  ------       --------------  -----   \n",
      " 0   survived     891 non-null    int64   \n",
      " 1   pclass       891 non-null    int64   \n",
      " 2   sex          891 non-null    object  \n",
      " 3   age          714 non-null    float64 \n",
      " 4   sibsp        891 non-null    int64   \n",
      " 5   parch        891 non-null    int64   \n",
      " 6   fare         891 non-null    float64 \n",
      " 7   embarked     889 non-null    object  \n",
      " 8   class        891 non-null    category\n",
      " 9   who          891 non-null    object  \n",
      " 10  adult_male   891 non-null    bool    \n",
      " 11  deck         203 non-null    category\n",
      " 12  embark_town  889 non-null    object  \n",
      " 13  alive        891 non-null    object  \n",
      " 14  alone        891 non-null    bool    \n",
      "dtypes: bool(2), category(2), float64(2), int64(4), object(5)\n",
      "memory usage: 80.7+ KB\n"
     ]
    }
   ],
   "source": [
    "df.info()"
   ]
  },
  {
   "cell_type": "code",
   "execution_count": 4,
   "id": "8e0472a2",
   "metadata": {},
   "outputs": [
    {
     "data": {
      "text/plain": [
       "pclass\n",
       "3    491\n",
       "1    216\n",
       "2    184\n",
       "Name: count, dtype: int64"
      ]
     },
     "execution_count": 4,
     "metadata": {},
     "output_type": "execute_result"
    }
   ],
   "source": [
    "df[\"pclass\"].value_counts()"
   ]
  },
  {
   "cell_type": "code",
   "execution_count": 5,
   "id": "c54dfd62",
   "metadata": {},
   "outputs": [
    {
     "data": {
      "text/plain": [
       "sex\n",
       "male      577\n",
       "female    314\n",
       "Name: count, dtype: int64"
      ]
     },
     "execution_count": 5,
     "metadata": {},
     "output_type": "execute_result"
    }
   ],
   "source": [
    "df[\"sex\"].value_counts()"
   ]
  },
  {
   "cell_type": "code",
   "execution_count": 6,
   "id": "aaa84ea9",
   "metadata": {},
   "outputs": [],
   "source": [
    "# 데이터 분석 직무(일반 사무직) - domain 지식으로 Machine Learning용 데이터 셋 구성 및 결론 유도\n",
    "# 데이터 사이언티스트 - Machine Learning 알고리즘 튜닝/새로운 알고리즘으로 ML분석 효율 향상\n",
    "# 데이터 엔지니어 - 일반 IT 엔지니어"
   ]
  },
  {
   "cell_type": "code",
   "execution_count": 7,
   "id": "550ef997",
   "metadata": {},
   "outputs": [
    {
     "name": "stdout",
     "output_type": "stream",
     "text": [
      "<class 'pandas.core.frame.DataFrame'>\n",
      "Index: 182 entries, 1 to 889\n",
      "Data columns (total 15 columns):\n",
      " #   Column       Non-Null Count  Dtype   \n",
      "---  ------       --------------  -----   \n",
      " 0   survived     182 non-null    int64   \n",
      " 1   pclass       182 non-null    int64   \n",
      " 2   sex          182 non-null    object  \n",
      " 3   age          182 non-null    float64 \n",
      " 4   sibsp        182 non-null    int64   \n",
      " 5   parch        182 non-null    int64   \n",
      " 6   fare         182 non-null    float64 \n",
      " 7   embarked     182 non-null    object  \n",
      " 8   class        182 non-null    category\n",
      " 9   who          182 non-null    object  \n",
      " 10  adult_male   182 non-null    bool    \n",
      " 11  deck         182 non-null    category\n",
      " 12  embark_town  182 non-null    object  \n",
      " 13  alive        182 non-null    object  \n",
      " 14  alone        182 non-null    bool    \n",
      "dtypes: bool(2), category(2), float64(2), int64(4), object(5)\n",
      "memory usage: 18.2+ KB\n"
     ]
    }
   ],
   "source": [
    "df2 = df.dropna()\n",
    "df2.info()"
   ]
  },
  {
   "cell_type": "code",
   "execution_count": 8,
   "id": "c44373e8",
   "metadata": {},
   "outputs": [
    {
     "name": "stdout",
     "output_type": "stream",
     "text": [
      "<class 'pandas.core.frame.DataFrame'>\n",
      "RangeIndex: 891 entries, 0 to 890\n",
      "Data columns (total 7 columns):\n",
      " #   Column    Non-Null Count  Dtype  \n",
      "---  ------    --------------  -----  \n",
      " 0   survived  891 non-null    int64  \n",
      " 1   pclass    891 non-null    int64  \n",
      " 2   sex       891 non-null    object \n",
      " 3   age       714 non-null    float64\n",
      " 4   sibsp     891 non-null    int64  \n",
      " 5   parch     891 non-null    int64  \n",
      " 6   fare      891 non-null    float64\n",
      "dtypes: float64(2), int64(4), object(1)\n",
      "memory usage: 48.9+ KB\n"
     ]
    }
   ],
   "source": [
    "df3 = df[[\"survived\", \"pclass\", \"sex\", \"age\", \"sibsp\",  \"parch\", \"fare\"]]\n",
    "df3.info()"
   ]
  },
  {
   "cell_type": "code",
   "execution_count": 9,
   "id": "71e995c0",
   "metadata": {},
   "outputs": [
    {
     "data": {
      "text/plain": [
       "0.19865319865319866"
      ]
     },
     "execution_count": 9,
     "metadata": {},
     "output_type": "execute_result"
    }
   ],
   "source": [
    "(891-714)/891"
   ]
  },
  {
   "cell_type": "code",
   "execution_count": 10,
   "id": "dbb4217c",
   "metadata": {},
   "outputs": [
    {
     "name": "stdout",
     "output_type": "stream",
     "text": [
      "<class 'pandas.core.frame.DataFrame'>\n",
      "Index: 714 entries, 0 to 890\n",
      "Data columns (total 7 columns):\n",
      " #   Column    Non-Null Count  Dtype  \n",
      "---  ------    --------------  -----  \n",
      " 0   survived  714 non-null    int64  \n",
      " 1   pclass    714 non-null    int64  \n",
      " 2   sex       714 non-null    object \n",
      " 3   age       714 non-null    float64\n",
      " 4   sibsp     714 non-null    int64  \n",
      " 5   parch     714 non-null    int64  \n",
      " 6   fare      714 non-null    float64\n",
      "dtypes: float64(2), int64(4), object(1)\n",
      "memory usage: 44.6+ KB\n"
     ]
    }
   ],
   "source": [
    "df3 = df3.dropna()\n",
    "df3.info()"
   ]
  },
  {
   "cell_type": "code",
   "execution_count": 13,
   "id": "3cd4cafa",
   "metadata": {},
   "outputs": [],
   "source": [
    "from sklearn.preprocessing import LabelEncoder\n",
    "import pandas as pd"
   ]
  },
  {
   "cell_type": "code",
   "execution_count": 14,
   "id": "ad39d80f",
   "metadata": {},
   "outputs": [
    {
     "data": {
      "text/html": [
       "<div>\n",
       "<style scoped>\n",
       "    .dataframe tbody tr th:only-of-type {\n",
       "        vertical-align: middle;\n",
       "    }\n",
       "\n",
       "    .dataframe tbody tr th {\n",
       "        vertical-align: top;\n",
       "    }\n",
       "\n",
       "    .dataframe thead th {\n",
       "        text-align: right;\n",
       "    }\n",
       "</style>\n",
       "<table border=\"1\" class=\"dataframe\">\n",
       "  <thead>\n",
       "    <tr style=\"text-align: right;\">\n",
       "      <th></th>\n",
       "      <th>name</th>\n",
       "      <th>color</th>\n",
       "    </tr>\n",
       "  </thead>\n",
       "  <tbody>\n",
       "    <tr>\n",
       "      <th>1</th>\n",
       "      <td>사과</td>\n",
       "      <td>red</td>\n",
       "    </tr>\n",
       "    <tr>\n",
       "      <th>2</th>\n",
       "      <td>바나나</td>\n",
       "      <td>yellow</td>\n",
       "    </tr>\n",
       "    <tr>\n",
       "      <th>3</th>\n",
       "      <td>체리</td>\n",
       "      <td>red</td>\n",
       "    </tr>\n",
       "    <tr>\n",
       "      <th>4</th>\n",
       "      <td>두리안</td>\n",
       "      <td>yellow</td>\n",
       "    </tr>\n",
       "    <tr>\n",
       "      <th>5</th>\n",
       "      <td>바나나</td>\n",
       "      <td>yellow</td>\n",
       "    </tr>\n",
       "  </tbody>\n",
       "</table>\n",
       "</div>"
      ],
      "text/plain": [
       "  name   color\n",
       "1   사과     red\n",
       "2  바나나  yellow\n",
       "3   체리     red\n",
       "4  두리안  yellow\n",
       "5  바나나  yellow"
      ]
     },
     "execution_count": 14,
     "metadata": {},
     "output_type": "execute_result"
    }
   ],
   "source": [
    "d = {\"name\":[\"사과\", \"바나나\", \"체리\", \"두리안\", \"바나나\"],\n",
    "     \"color\":[\"red\", \"yellow\", \"red\", \"yellow\", \"yellow\"]}\n",
    "fruit_df = pd.DataFrame(d, index = [1, 2, 3, 4, 5])\n",
    "fruit_df"
   ]
  },
  {
   "cell_type": "code",
   "execution_count": 15,
   "id": "889fe5a9",
   "metadata": {},
   "outputs": [
    {
     "data": {
      "text/plain": [
       "1     사과\n",
       "2    바나나\n",
       "3     체리\n",
       "4    두리안\n",
       "5    바나나\n",
       "Name: name, dtype: object"
      ]
     },
     "execution_count": 15,
     "metadata": {},
     "output_type": "execute_result"
    }
   ],
   "source": [
    "fruit_df[\"name\"]"
   ]
  },
  {
   "cell_type": "code",
   "execution_count": 16,
   "id": "7f1c7962",
   "metadata": {},
   "outputs": [
    {
     "data": {
      "text/plain": [
       "array([2, 1, 3, 0, 1])"
      ]
     },
     "execution_count": 16,
     "metadata": {},
     "output_type": "execute_result"
    }
   ],
   "source": [
    "LE = LabelEncoder() # 같은 밸류가 있을 때 같은 숫자로 묶어줌 / 하지만 우선순위로 착각할 수 있기에 별로 좋지 않음\n",
    "LE.fit_transform(fruit_df[\"name\"])\n",
    "# [\"사과\", \"바나나\", \"체리\", \"두리안\", \"바나나\"]\n",
    "#([   2,        1,      3,        0,        1])"
   ]
  },
  {
   "cell_type": "code",
   "execution_count": 17,
   "id": "ab2ba6ee",
   "metadata": {},
   "outputs": [
    {
     "data": {
      "text/html": [
       "<div>\n",
       "<style scoped>\n",
       "    .dataframe tbody tr th:only-of-type {\n",
       "        vertical-align: middle;\n",
       "    }\n",
       "\n",
       "    .dataframe tbody tr th {\n",
       "        vertical-align: top;\n",
       "    }\n",
       "\n",
       "    .dataframe thead th {\n",
       "        text-align: right;\n",
       "    }\n",
       "</style>\n",
       "<table border=\"1\" class=\"dataframe\">\n",
       "  <thead>\n",
       "    <tr style=\"text-align: right;\">\n",
       "      <th></th>\n",
       "      <th>두리안</th>\n",
       "      <th>바나나</th>\n",
       "      <th>사과</th>\n",
       "      <th>체리</th>\n",
       "    </tr>\n",
       "  </thead>\n",
       "  <tbody>\n",
       "    <tr>\n",
       "      <th>1</th>\n",
       "      <td>False</td>\n",
       "      <td>False</td>\n",
       "      <td>True</td>\n",
       "      <td>False</td>\n",
       "    </tr>\n",
       "    <tr>\n",
       "      <th>2</th>\n",
       "      <td>False</td>\n",
       "      <td>True</td>\n",
       "      <td>False</td>\n",
       "      <td>False</td>\n",
       "    </tr>\n",
       "    <tr>\n",
       "      <th>3</th>\n",
       "      <td>False</td>\n",
       "      <td>False</td>\n",
       "      <td>False</td>\n",
       "      <td>True</td>\n",
       "    </tr>\n",
       "    <tr>\n",
       "      <th>4</th>\n",
       "      <td>True</td>\n",
       "      <td>False</td>\n",
       "      <td>False</td>\n",
       "      <td>False</td>\n",
       "    </tr>\n",
       "    <tr>\n",
       "      <th>5</th>\n",
       "      <td>False</td>\n",
       "      <td>True</td>\n",
       "      <td>False</td>\n",
       "      <td>False</td>\n",
       "    </tr>\n",
       "  </tbody>\n",
       "</table>\n",
       "</div>"
      ],
      "text/plain": [
       "     두리안    바나나     사과     체리\n",
       "1  False  False   True  False\n",
       "2  False   True  False  False\n",
       "3  False  False  False   True\n",
       "4   True  False  False  False\n",
       "5  False   True  False  False"
      ]
     },
     "execution_count": 17,
     "metadata": {},
     "output_type": "execute_result"
    }
   ],
   "source": [
    "names_df = pd.get_dummies(fruit_df[\"name\"]) # One hot Encoding \n",
    "names_df"
   ]
  },
  {
   "cell_type": "code",
   "execution_count": 18,
   "id": "cc20206b",
   "metadata": {},
   "outputs": [
    {
     "data": {
      "text/html": [
       "<div>\n",
       "<style scoped>\n",
       "    .dataframe tbody tr th:only-of-type {\n",
       "        vertical-align: middle;\n",
       "    }\n",
       "\n",
       "    .dataframe tbody tr th {\n",
       "        vertical-align: top;\n",
       "    }\n",
       "\n",
       "    .dataframe thead th {\n",
       "        text-align: right;\n",
       "    }\n",
       "</style>\n",
       "<table border=\"1\" class=\"dataframe\">\n",
       "  <thead>\n",
       "    <tr style=\"text-align: right;\">\n",
       "      <th></th>\n",
       "      <th>두리안</th>\n",
       "      <th>바나나</th>\n",
       "      <th>사과</th>\n",
       "      <th>체리</th>\n",
       "      <th>color</th>\n",
       "    </tr>\n",
       "  </thead>\n",
       "  <tbody>\n",
       "    <tr>\n",
       "      <th>1</th>\n",
       "      <td>False</td>\n",
       "      <td>False</td>\n",
       "      <td>True</td>\n",
       "      <td>False</td>\n",
       "      <td>red</td>\n",
       "    </tr>\n",
       "    <tr>\n",
       "      <th>2</th>\n",
       "      <td>False</td>\n",
       "      <td>True</td>\n",
       "      <td>False</td>\n",
       "      <td>False</td>\n",
       "      <td>yellow</td>\n",
       "    </tr>\n",
       "    <tr>\n",
       "      <th>3</th>\n",
       "      <td>False</td>\n",
       "      <td>False</td>\n",
       "      <td>False</td>\n",
       "      <td>True</td>\n",
       "      <td>red</td>\n",
       "    </tr>\n",
       "    <tr>\n",
       "      <th>4</th>\n",
       "      <td>True</td>\n",
       "      <td>False</td>\n",
       "      <td>False</td>\n",
       "      <td>False</td>\n",
       "      <td>yellow</td>\n",
       "    </tr>\n",
       "    <tr>\n",
       "      <th>5</th>\n",
       "      <td>False</td>\n",
       "      <td>True</td>\n",
       "      <td>False</td>\n",
       "      <td>False</td>\n",
       "      <td>yellow</td>\n",
       "    </tr>\n",
       "  </tbody>\n",
       "</table>\n",
       "</div>"
      ],
      "text/plain": [
       "     두리안    바나나     사과     체리   color\n",
       "1  False  False   True  False     red\n",
       "2  False   True  False  False  yellow\n",
       "3  False  False  False   True     red\n",
       "4   True  False  False  False  yellow\n",
       "5  False   True  False  False  yellow"
      ]
     },
     "execution_count": 18,
     "metadata": {},
     "output_type": "execute_result"
    }
   ],
   "source": [
    "fruit_df_ohe = pd.concat([names_df,fruit_df[\"color\"]], axis = 1)\n",
    "fruit_df_ohe"
   ]
  },
  {
   "cell_type": "code",
   "execution_count": 19,
   "id": "ef5ec4a5",
   "metadata": {},
   "outputs": [
    {
     "data": {
      "text/plain": [
       "array(['사과', '바나나', '체리', '두리안', '바나나'], dtype=object)"
      ]
     },
     "execution_count": 19,
     "metadata": {},
     "output_type": "execute_result"
    }
   ],
   "source": [
    "from sklearn.preprocessing import OneHotEncoder\n",
    "name_np = fruit_df[\"name\"].to_numpy() # 넘파이 형태로 바꿈\n",
    "name_np"
   ]
  },
  {
   "cell_type": "code",
   "execution_count": 20,
   "id": "0871765e",
   "metadata": {},
   "outputs": [
    {
     "data": {
      "text/plain": [
       "array([['사과'],\n",
       "       ['바나나'],\n",
       "       ['체리'],\n",
       "       ['두리안'],\n",
       "       ['바나나']], dtype=object)"
      ]
     },
     "execution_count": 20,
     "metadata": {},
     "output_type": "execute_result"
    }
   ],
   "source": [
    "name_np = name_np.reshape(-1,1) # ML 할 때 숙어처럼 알아두면 좋음\n",
    "name_np"
   ]
  },
  {
   "cell_type": "code",
   "execution_count": 21,
   "id": "7f94d7bb",
   "metadata": {},
   "outputs": [
    {
     "data": {
      "text/plain": [
       "array([[0., 0., 1., 0.],\n",
       "       [0., 1., 0., 0.],\n",
       "       [0., 0., 0., 1.],\n",
       "       [1., 0., 0., 0.],\n",
       "       [0., 1., 0., 0.]])"
      ]
     },
     "execution_count": 21,
     "metadata": {},
     "output_type": "execute_result"
    }
   ],
   "source": [
    "OneHotEncoder().fit_transform(name_np).toarray()"
   ]
  },
  {
   "cell_type": "code",
   "execution_count": 22,
   "id": "07f2fa55",
   "metadata": {},
   "outputs": [
    {
     "data": {
      "text/html": [
       "<div>\n",
       "<style scoped>\n",
       "    .dataframe tbody tr th:only-of-type {\n",
       "        vertical-align: middle;\n",
       "    }\n",
       "\n",
       "    .dataframe tbody tr th {\n",
       "        vertical-align: top;\n",
       "    }\n",
       "\n",
       "    .dataframe thead th {\n",
       "        text-align: right;\n",
       "    }\n",
       "</style>\n",
       "<table border=\"1\" class=\"dataframe\">\n",
       "  <thead>\n",
       "    <tr style=\"text-align: right;\">\n",
       "      <th></th>\n",
       "      <th>female</th>\n",
       "      <th>male</th>\n",
       "    </tr>\n",
       "  </thead>\n",
       "  <tbody>\n",
       "    <tr>\n",
       "      <th>0</th>\n",
       "      <td>False</td>\n",
       "      <td>True</td>\n",
       "    </tr>\n",
       "    <tr>\n",
       "      <th>1</th>\n",
       "      <td>True</td>\n",
       "      <td>False</td>\n",
       "    </tr>\n",
       "    <tr>\n",
       "      <th>2</th>\n",
       "      <td>True</td>\n",
       "      <td>False</td>\n",
       "    </tr>\n",
       "    <tr>\n",
       "      <th>3</th>\n",
       "      <td>True</td>\n",
       "      <td>False</td>\n",
       "    </tr>\n",
       "    <tr>\n",
       "      <th>4</th>\n",
       "      <td>False</td>\n",
       "      <td>True</td>\n",
       "    </tr>\n",
       "    <tr>\n",
       "      <th>...</th>\n",
       "      <td>...</td>\n",
       "      <td>...</td>\n",
       "    </tr>\n",
       "    <tr>\n",
       "      <th>885</th>\n",
       "      <td>True</td>\n",
       "      <td>False</td>\n",
       "    </tr>\n",
       "    <tr>\n",
       "      <th>886</th>\n",
       "      <td>False</td>\n",
       "      <td>True</td>\n",
       "    </tr>\n",
       "    <tr>\n",
       "      <th>887</th>\n",
       "      <td>True</td>\n",
       "      <td>False</td>\n",
       "    </tr>\n",
       "    <tr>\n",
       "      <th>889</th>\n",
       "      <td>False</td>\n",
       "      <td>True</td>\n",
       "    </tr>\n",
       "    <tr>\n",
       "      <th>890</th>\n",
       "      <td>False</td>\n",
       "      <td>True</td>\n",
       "    </tr>\n",
       "  </tbody>\n",
       "</table>\n",
       "<p>714 rows × 2 columns</p>\n",
       "</div>"
      ],
      "text/plain": [
       "     female   male\n",
       "0     False   True\n",
       "1      True  False\n",
       "2      True  False\n",
       "3      True  False\n",
       "4     False   True\n",
       "..      ...    ...\n",
       "885    True  False\n",
       "886   False   True\n",
       "887    True  False\n",
       "889   False   True\n",
       "890   False   True\n",
       "\n",
       "[714 rows x 2 columns]"
      ]
     },
     "execution_count": 22,
     "metadata": {},
     "output_type": "execute_result"
    }
   ],
   "source": [
    "sex_df = pd.get_dummies(df3[\"sex\"]) # One hot Encoding\n",
    "sex_df"
   ]
  },
  {
   "cell_type": "code",
   "execution_count": 23,
   "id": "1f0a249d",
   "metadata": {},
   "outputs": [
    {
     "data": {
      "text/html": [
       "<div>\n",
       "<style scoped>\n",
       "    .dataframe tbody tr th:only-of-type {\n",
       "        vertical-align: middle;\n",
       "    }\n",
       "\n",
       "    .dataframe tbody tr th {\n",
       "        vertical-align: top;\n",
       "    }\n",
       "\n",
       "    .dataframe thead th {\n",
       "        text-align: right;\n",
       "    }\n",
       "</style>\n",
       "<table border=\"1\" class=\"dataframe\">\n",
       "  <thead>\n",
       "    <tr style=\"text-align: right;\">\n",
       "      <th></th>\n",
       "      <th>survived</th>\n",
       "      <th>pclass</th>\n",
       "      <th>sex</th>\n",
       "      <th>age</th>\n",
       "      <th>sibsp</th>\n",
       "      <th>parch</th>\n",
       "      <th>fare</th>\n",
       "      <th>female</th>\n",
       "      <th>male</th>\n",
       "    </tr>\n",
       "  </thead>\n",
       "  <tbody>\n",
       "    <tr>\n",
       "      <th>0</th>\n",
       "      <td>0</td>\n",
       "      <td>3</td>\n",
       "      <td>male</td>\n",
       "      <td>22.0</td>\n",
       "      <td>1</td>\n",
       "      <td>0</td>\n",
       "      <td>7.2500</td>\n",
       "      <td>False</td>\n",
       "      <td>True</td>\n",
       "    </tr>\n",
       "    <tr>\n",
       "      <th>1</th>\n",
       "      <td>1</td>\n",
       "      <td>1</td>\n",
       "      <td>female</td>\n",
       "      <td>38.0</td>\n",
       "      <td>1</td>\n",
       "      <td>0</td>\n",
       "      <td>71.2833</td>\n",
       "      <td>True</td>\n",
       "      <td>False</td>\n",
       "    </tr>\n",
       "  </tbody>\n",
       "</table>\n",
       "</div>"
      ],
      "text/plain": [
       "   survived  pclass     sex   age  sibsp  parch     fare  female   male\n",
       "0         0       3    male  22.0      1      0   7.2500   False   True\n",
       "1         1       1  female  38.0      1      0  71.2833    True  False"
      ]
     },
     "execution_count": 23,
     "metadata": {},
     "output_type": "execute_result"
    }
   ],
   "source": [
    "titanic = pd.concat([df3, sex_df], axis=1)\n",
    "titanic[:2]"
   ]
  },
  {
   "cell_type": "code",
   "execution_count": 24,
   "id": "3fac2e3c",
   "metadata": {},
   "outputs": [],
   "source": [
    "del titanic[\"sex\"]"
   ]
  },
  {
   "cell_type": "code",
   "execution_count": 25,
   "id": "52dc6abd",
   "metadata": {},
   "outputs": [
    {
     "data": {
      "text/html": [
       "<div>\n",
       "<style scoped>\n",
       "    .dataframe tbody tr th:only-of-type {\n",
       "        vertical-align: middle;\n",
       "    }\n",
       "\n",
       "    .dataframe tbody tr th {\n",
       "        vertical-align: top;\n",
       "    }\n",
       "\n",
       "    .dataframe thead th {\n",
       "        text-align: right;\n",
       "    }\n",
       "</style>\n",
       "<table border=\"1\" class=\"dataframe\">\n",
       "  <thead>\n",
       "    <tr style=\"text-align: right;\">\n",
       "      <th></th>\n",
       "      <th>survived</th>\n",
       "      <th>pclass</th>\n",
       "      <th>age</th>\n",
       "      <th>sibsp</th>\n",
       "      <th>parch</th>\n",
       "      <th>fare</th>\n",
       "      <th>female</th>\n",
       "      <th>male</th>\n",
       "    </tr>\n",
       "  </thead>\n",
       "  <tbody>\n",
       "    <tr>\n",
       "      <th>0</th>\n",
       "      <td>0</td>\n",
       "      <td>3</td>\n",
       "      <td>22.0</td>\n",
       "      <td>1</td>\n",
       "      <td>0</td>\n",
       "      <td>7.2500</td>\n",
       "      <td>False</td>\n",
       "      <td>True</td>\n",
       "    </tr>\n",
       "    <tr>\n",
       "      <th>1</th>\n",
       "      <td>1</td>\n",
       "      <td>1</td>\n",
       "      <td>38.0</td>\n",
       "      <td>1</td>\n",
       "      <td>0</td>\n",
       "      <td>71.2833</td>\n",
       "      <td>True</td>\n",
       "      <td>False</td>\n",
       "    </tr>\n",
       "  </tbody>\n",
       "</table>\n",
       "</div>"
      ],
      "text/plain": [
       "   survived  pclass   age  sibsp  parch     fare  female   male\n",
       "0         0       3  22.0      1      0   7.2500   False   True\n",
       "1         1       1  38.0      1      0  71.2833    True  False"
      ]
     },
     "execution_count": 25,
     "metadata": {},
     "output_type": "execute_result"
    }
   ],
   "source": [
    "titanic[:2]"
   ]
  },
  {
   "cell_type": "code",
   "execution_count": 26,
   "id": "af63042c",
   "metadata": {},
   "outputs": [],
   "source": [
    "# y = f(x)\n",
    "y = titanic[\"survived\"]\n",
    "del titanic[\"survived\"]\n",
    "x = titanic"
   ]
  },
  {
   "cell_type": "code",
   "execution_count": 27,
   "id": "a7b85ff6",
   "metadata": {},
   "outputs": [],
   "source": [
    "from sklearn.tree import DecisionTreeClassifier"
   ]
  },
  {
   "cell_type": "code",
   "execution_count": 28,
   "id": "a8cd68d5",
   "metadata": {},
   "outputs": [
    {
     "data": {
      "text/plain": [
       "DecisionTreeClassifier()"
      ]
     },
     "execution_count": 28,
     "metadata": {},
     "output_type": "execute_result"
    }
   ],
   "source": [
    "dt = DecisionTreeClassifier()\n",
    "dt.fit(x,y)"
   ]
  },
  {
   "cell_type": "code",
   "execution_count": 29,
   "id": "a553b401",
   "metadata": {},
   "outputs": [
    {
     "data": {
      "text/plain": [
       "array([0], dtype=int64)"
      ]
     },
     "execution_count": 29,
     "metadata": {},
     "output_type": "execute_result"
    }
   ],
   "source": [
    "dt.predict([[3, 22.0, 1, 0, 7.2500, False, True]])"
   ]
  },
  {
   "cell_type": "code",
   "execution_count": null,
   "id": "09514d09",
   "metadata": {},
   "outputs": [],
   "source": []
  },
  {
   "cell_type": "code",
   "execution_count": null,
   "id": "0f68864f",
   "metadata": {},
   "outputs": [],
   "source": []
  },
  {
   "cell_type": "code",
   "execution_count": 30,
   "id": "52d73e25",
   "metadata": {},
   "outputs": [
    {
     "data": {
      "text/plain": [
       "0      0\n",
       "1      1\n",
       "2      1\n",
       "3      1\n",
       "4      0\n",
       "      ..\n",
       "885    0\n",
       "886    0\n",
       "887    1\n",
       "889    1\n",
       "890    0\n",
       "Name: survived, Length: 714, dtype: int64"
      ]
     },
     "execution_count": 30,
     "metadata": {},
     "output_type": "execute_result"
    }
   ],
   "source": [
    "y # 생존을 한 결과"
   ]
  },
  {
   "cell_type": "code",
   "execution_count": 118,
   "id": "9173c6ec",
   "metadata": {},
   "outputs": [
    {
     "data": {
      "text/html": [
       "<div>\n",
       "<style scoped>\n",
       "    .dataframe tbody tr th:only-of-type {\n",
       "        vertical-align: middle;\n",
       "    }\n",
       "\n",
       "    .dataframe tbody tr th {\n",
       "        vertical-align: top;\n",
       "    }\n",
       "\n",
       "    .dataframe thead th {\n",
       "        text-align: right;\n",
       "    }\n",
       "</style>\n",
       "<table border=\"1\" class=\"dataframe\">\n",
       "  <thead>\n",
       "    <tr style=\"text-align: right;\">\n",
       "      <th></th>\n",
       "      <th>pclass</th>\n",
       "      <th>age</th>\n",
       "      <th>sibsp</th>\n",
       "      <th>parch</th>\n",
       "      <th>fare</th>\n",
       "      <th>female</th>\n",
       "      <th>male</th>\n",
       "    </tr>\n",
       "  </thead>\n",
       "  <tbody>\n",
       "    <tr>\n",
       "      <th>0</th>\n",
       "      <td>3</td>\n",
       "      <td>22.0</td>\n",
       "      <td>1</td>\n",
       "      <td>0</td>\n",
       "      <td>7.2500</td>\n",
       "      <td>False</td>\n",
       "      <td>True</td>\n",
       "    </tr>\n",
       "    <tr>\n",
       "      <th>1</th>\n",
       "      <td>1</td>\n",
       "      <td>38.0</td>\n",
       "      <td>1</td>\n",
       "      <td>0</td>\n",
       "      <td>71.2833</td>\n",
       "      <td>True</td>\n",
       "      <td>False</td>\n",
       "    </tr>\n",
       "    <tr>\n",
       "      <th>2</th>\n",
       "      <td>3</td>\n",
       "      <td>26.0</td>\n",
       "      <td>0</td>\n",
       "      <td>0</td>\n",
       "      <td>7.9250</td>\n",
       "      <td>True</td>\n",
       "      <td>False</td>\n",
       "    </tr>\n",
       "    <tr>\n",
       "      <th>3</th>\n",
       "      <td>1</td>\n",
       "      <td>35.0</td>\n",
       "      <td>1</td>\n",
       "      <td>0</td>\n",
       "      <td>53.1000</td>\n",
       "      <td>True</td>\n",
       "      <td>False</td>\n",
       "    </tr>\n",
       "    <tr>\n",
       "      <th>4</th>\n",
       "      <td>3</td>\n",
       "      <td>35.0</td>\n",
       "      <td>0</td>\n",
       "      <td>0</td>\n",
       "      <td>8.0500</td>\n",
       "      <td>False</td>\n",
       "      <td>True</td>\n",
       "    </tr>\n",
       "    <tr>\n",
       "      <th>...</th>\n",
       "      <td>...</td>\n",
       "      <td>...</td>\n",
       "      <td>...</td>\n",
       "      <td>...</td>\n",
       "      <td>...</td>\n",
       "      <td>...</td>\n",
       "      <td>...</td>\n",
       "    </tr>\n",
       "    <tr>\n",
       "      <th>885</th>\n",
       "      <td>3</td>\n",
       "      <td>39.0</td>\n",
       "      <td>0</td>\n",
       "      <td>5</td>\n",
       "      <td>29.1250</td>\n",
       "      <td>True</td>\n",
       "      <td>False</td>\n",
       "    </tr>\n",
       "    <tr>\n",
       "      <th>886</th>\n",
       "      <td>2</td>\n",
       "      <td>27.0</td>\n",
       "      <td>0</td>\n",
       "      <td>0</td>\n",
       "      <td>13.0000</td>\n",
       "      <td>False</td>\n",
       "      <td>True</td>\n",
       "    </tr>\n",
       "    <tr>\n",
       "      <th>887</th>\n",
       "      <td>1</td>\n",
       "      <td>19.0</td>\n",
       "      <td>0</td>\n",
       "      <td>0</td>\n",
       "      <td>30.0000</td>\n",
       "      <td>True</td>\n",
       "      <td>False</td>\n",
       "    </tr>\n",
       "    <tr>\n",
       "      <th>889</th>\n",
       "      <td>1</td>\n",
       "      <td>26.0</td>\n",
       "      <td>0</td>\n",
       "      <td>0</td>\n",
       "      <td>30.0000</td>\n",
       "      <td>False</td>\n",
       "      <td>True</td>\n",
       "    </tr>\n",
       "    <tr>\n",
       "      <th>890</th>\n",
       "      <td>3</td>\n",
       "      <td>32.0</td>\n",
       "      <td>0</td>\n",
       "      <td>0</td>\n",
       "      <td>7.7500</td>\n",
       "      <td>False</td>\n",
       "      <td>True</td>\n",
       "    </tr>\n",
       "  </tbody>\n",
       "</table>\n",
       "<p>714 rows × 7 columns</p>\n",
       "</div>"
      ],
      "text/plain": [
       "     pclass   age  sibsp  parch     fare  female   male\n",
       "0         3  22.0      1      0   7.2500   False   True\n",
       "1         1  38.0      1      0  71.2833    True  False\n",
       "2         3  26.0      0      0   7.9250    True  False\n",
       "3         1  35.0      1      0  53.1000    True  False\n",
       "4         3  35.0      0      0   8.0500   False   True\n",
       "..      ...   ...    ...    ...      ...     ...    ...\n",
       "885       3  39.0      0      5  29.1250    True  False\n",
       "886       2  27.0      0      0  13.0000   False   True\n",
       "887       1  19.0      0      0  30.0000    True  False\n",
       "889       1  26.0      0      0  30.0000   False   True\n",
       "890       3  32.0      0      0   7.7500   False   True\n",
       "\n",
       "[714 rows x 7 columns]"
      ]
     },
     "execution_count": 118,
     "metadata": {},
     "output_type": "execute_result"
    }
   ],
   "source": [
    "x# 생존을 한 원인"
   ]
  },
  {
   "cell_type": "code",
   "execution_count": null,
   "id": "15796da0",
   "metadata": {},
   "outputs": [],
   "source": []
  },
  {
   "cell_type": "code",
   "execution_count": 80,
   "id": "5d064586",
   "metadata": {},
   "outputs": [],
   "source": [
    "#df[\"age\"].value_counts() #숫자 분포가 다양해서 별 의미 없음"
   ]
  },
  {
   "cell_type": "code",
   "execution_count": null,
   "id": "2348eefe",
   "metadata": {},
   "outputs": [],
   "source": []
  },
  {
   "cell_type": "code",
   "execution_count": null,
   "id": "3a417753",
   "metadata": {},
   "outputs": [],
   "source": []
  },
  {
   "cell_type": "code",
   "execution_count": null,
   "id": "b0b223e7",
   "metadata": {},
   "outputs": [],
   "source": []
  },
  {
   "cell_type": "code",
   "execution_count": null,
   "id": "224c5809",
   "metadata": {},
   "outputs": [],
   "source": []
  },
  {
   "cell_type": "code",
   "execution_count": 56,
   "id": "49d58e88",
   "metadata": {},
   "outputs": [
    {
     "name": "stdout",
     "output_type": "stream",
     "text": [
      "Defaulting to user installation because normal site-packages is not writeable\n",
      "Collecting scikit-learn\n",
      "  Downloading scikit_learn-1.3.0-cp38-cp38-win_amd64.whl (9.2 MB)\n",
      "                                              0.0/9.2 MB ? eta -:--:--\n",
      "                                              0.0/9.2 MB ? eta -:--:--\n",
      "                                              0.0/9.2 MB 393.8 kB/s eta 0:00:24\n",
      "     -                                        0.3/9.2 MB 2.6 MB/s eta 0:00:04\n",
      "     ----                                     1.0/9.2 MB 6.6 MB/s eta 0:00:02\n",
      "     ----                                     1.0/9.2 MB 6.6 MB/s eta 0:00:02\n",
      "     ----                                     1.0/9.2 MB 6.6 MB/s eta 0:00:02\n",
      "     --------                                 2.0/9.2 MB 6.2 MB/s eta 0:00:02\n",
      "     -------------------                      4.5/9.2 MB 12.6 MB/s eta 0:00:01\n",
      "     -----------------------------            6.8/9.2 MB 16.1 MB/s eta 0:00:01\n",
      "     ---------------------------------------  9.2/9.2 MB 20.3 MB/s eta 0:00:01\n",
      "     ---------------------------------------- 9.2/9.2 MB 18.5 MB/s eta 0:00:00\n",
      "Requirement already satisfied: numpy>=1.17.3 in c:\\users\\admin\\appdata\\roaming\\python\\python38\\site-packages (from scikit-learn) (1.24.4)\n",
      "Collecting scipy>=1.5.0 (from scikit-learn)\n",
      "  Downloading scipy-1.10.1-cp38-cp38-win_amd64.whl (42.2 MB)\n",
      "                                              0.0/42.2 MB ? eta -:--:--\n",
      "     --                                       2.6/42.2 MB 83.2 MB/s eta 0:00:01\n",
      "     ----                                     5.0/42.2 MB 64.6 MB/s eta 0:00:01\n",
      "     ------                                   7.2/42.2 MB 57.2 MB/s eta 0:00:01\n",
      "     ------                                   7.3/42.2 MB 46.9 MB/s eta 0:00:01\n",
      "     ---------                               10.1/42.2 MB 43.3 MB/s eta 0:00:01\n",
      "     -----------                             12.5/42.2 MB 43.7 MB/s eta 0:00:01\n",
      "     -------------                           14.4/42.2 MB 40.9 MB/s eta 0:00:01\n",
      "     ---------------                         16.8/42.2 MB 40.9 MB/s eta 0:00:01\n",
      "     -----------------                       19.1/42.2 MB 46.7 MB/s eta 0:00:01\n",
      "     -------------------                     21.6/42.2 MB 50.4 MB/s eta 0:00:01\n",
      "     ----------------------                  24.1/42.2 MB 54.4 MB/s eta 0:00:01\n",
      "     -----------------------                 25.2/42.2 MB 54.4 MB/s eta 0:00:01\n",
      "     -----------------------                 25.2/42.2 MB 54.4 MB/s eta 0:00:01\n",
      "     -----------------------                 25.2/42.2 MB 54.4 MB/s eta 0:00:01\n",
      "     -----------------------                 25.2/42.2 MB 54.4 MB/s eta 0:00:01\n",
      "     ------------------------                26.8/42.2 MB 27.3 MB/s eta 0:00:01\n",
      "     ---------------------------             29.6/42.2 MB 28.5 MB/s eta 0:00:01\n",
      "     -----------------------------           32.2/42.2 MB 28.4 MB/s eta 0:00:01\n",
      "     --------------------------------        35.3/42.2 MB 29.7 MB/s eta 0:00:01\n",
      "     -----------------------------------     38.2/42.2 MB 65.2 MB/s eta 0:00:01\n",
      "     -------------------------------------   40.9/42.2 MB 59.5 MB/s eta 0:00:01\n",
      "     --------------------------------------  42.2/42.2 MB 59.5 MB/s eta 0:00:01\n",
      "     --------------------------------------  42.2/42.2 MB 59.5 MB/s eta 0:00:01\n",
      "     --------------------------------------- 42.2/42.2 MB 36.4 MB/s eta 0:00:00\n",
      "Collecting joblib>=1.1.1 (from scikit-learn)\n",
      "  Downloading joblib-1.3.1-py3-none-any.whl (301 kB)\n",
      "                                              0.0/302.0 kB ? eta -:--:--\n",
      "     ---------------------------------------- 302.0/302.0 kB ? eta 0:00:00\n",
      "Collecting threadpoolctl>=2.0.0 (from scikit-learn)\n",
      "  Downloading threadpoolctl-3.2.0-py3-none-any.whl (15 kB)\n",
      "Installing collected packages: threadpoolctl, scipy, joblib, scikit-learn\n",
      "Successfully installed joblib-1.3.1 scikit-learn-1.3.0 scipy-1.10.1 threadpoolctl-3.2.0\n"
     ]
    }
   ],
   "source": [
    "#!pip install scikit-learn"
   ]
  },
  {
   "cell_type": "code",
   "execution_count": 49,
   "id": "95321513",
   "metadata": {},
   "outputs": [
    {
     "data": {
      "text/plain": [
       "array([[5.1, 3.5, 1.4, 0.2],\n",
       "       [4.9, 3. , 1.4, 0.2],\n",
       "       [4.7, 3.2, 1.3, 0.2],\n",
       "       [4.6, 3.1, 1.5, 0.2],\n",
       "       [5. , 3.6, 1.4, 0.2],\n",
       "       [5.4, 3.9, 1.7, 0.4],\n",
       "       [4.6, 3.4, 1.4, 0.3],\n",
       "       [5. , 3.4, 1.5, 0.2],\n",
       "       [4.4, 2.9, 1.4, 0.2],\n",
       "       [4.9, 3.1, 1.5, 0.1],\n",
       "       [5.4, 3.7, 1.5, 0.2],\n",
       "       [4.8, 3.4, 1.6, 0.2],\n",
       "       [4.8, 3. , 1.4, 0.1],\n",
       "       [4.3, 3. , 1.1, 0.1],\n",
       "       [5.8, 4. , 1.2, 0.2],\n",
       "       [5.7, 4.4, 1.5, 0.4],\n",
       "       [5.4, 3.9, 1.3, 0.4],\n",
       "       [5.1, 3.5, 1.4, 0.3],\n",
       "       [5.7, 3.8, 1.7, 0.3],\n",
       "       [5.1, 3.8, 1.5, 0.3],\n",
       "       [5.4, 3.4, 1.7, 0.2],\n",
       "       [5.1, 3.7, 1.5, 0.4],\n",
       "       [4.6, 3.6, 1. , 0.2],\n",
       "       [5.1, 3.3, 1.7, 0.5],\n",
       "       [4.8, 3.4, 1.9, 0.2],\n",
       "       [5. , 3. , 1.6, 0.2],\n",
       "       [5. , 3.4, 1.6, 0.4],\n",
       "       [5.2, 3.5, 1.5, 0.2],\n",
       "       [5.2, 3.4, 1.4, 0.2],\n",
       "       [4.7, 3.2, 1.6, 0.2],\n",
       "       [4.8, 3.1, 1.6, 0.2],\n",
       "       [5.4, 3.4, 1.5, 0.4],\n",
       "       [5.2, 4.1, 1.5, 0.1],\n",
       "       [5.5, 4.2, 1.4, 0.2],\n",
       "       [4.9, 3.1, 1.5, 0.2],\n",
       "       [5. , 3.2, 1.2, 0.2],\n",
       "       [5.5, 3.5, 1.3, 0.2],\n",
       "       [4.9, 3.6, 1.4, 0.1],\n",
       "       [4.4, 3. , 1.3, 0.2],\n",
       "       [5.1, 3.4, 1.5, 0.2],\n",
       "       [5. , 3.5, 1.3, 0.3],\n",
       "       [4.5, 2.3, 1.3, 0.3],\n",
       "       [4.4, 3.2, 1.3, 0.2],\n",
       "       [5. , 3.5, 1.6, 0.6],\n",
       "       [5.1, 3.8, 1.9, 0.4],\n",
       "       [4.8, 3. , 1.4, 0.3],\n",
       "       [5.1, 3.8, 1.6, 0.2],\n",
       "       [4.6, 3.2, 1.4, 0.2],\n",
       "       [5.3, 3.7, 1.5, 0.2],\n",
       "       [5. , 3.3, 1.4, 0.2],\n",
       "       [7. , 3.2, 4.7, 1.4],\n",
       "       [6.4, 3.2, 4.5, 1.5],\n",
       "       [6.9, 3.1, 4.9, 1.5],\n",
       "       [5.5, 2.3, 4. , 1.3],\n",
       "       [6.5, 2.8, 4.6, 1.5],\n",
       "       [5.7, 2.8, 4.5, 1.3],\n",
       "       [6.3, 3.3, 4.7, 1.6],\n",
       "       [4.9, 2.4, 3.3, 1. ],\n",
       "       [6.6, 2.9, 4.6, 1.3],\n",
       "       [5.2, 2.7, 3.9, 1.4],\n",
       "       [5. , 2. , 3.5, 1. ],\n",
       "       [5.9, 3. , 4.2, 1.5],\n",
       "       [6. , 2.2, 4. , 1. ],\n",
       "       [6.1, 2.9, 4.7, 1.4],\n",
       "       [5.6, 2.9, 3.6, 1.3],\n",
       "       [6.7, 3.1, 4.4, 1.4],\n",
       "       [5.6, 3. , 4.5, 1.5],\n",
       "       [5.8, 2.7, 4.1, 1. ],\n",
       "       [6.2, 2.2, 4.5, 1.5],\n",
       "       [5.6, 2.5, 3.9, 1.1],\n",
       "       [5.9, 3.2, 4.8, 1.8],\n",
       "       [6.1, 2.8, 4. , 1.3],\n",
       "       [6.3, 2.5, 4.9, 1.5],\n",
       "       [6.1, 2.8, 4.7, 1.2],\n",
       "       [6.4, 2.9, 4.3, 1.3],\n",
       "       [6.6, 3. , 4.4, 1.4],\n",
       "       [6.8, 2.8, 4.8, 1.4],\n",
       "       [6.7, 3. , 5. , 1.7],\n",
       "       [6. , 2.9, 4.5, 1.5],\n",
       "       [5.7, 2.6, 3.5, 1. ],\n",
       "       [5.5, 2.4, 3.8, 1.1],\n",
       "       [5.5, 2.4, 3.7, 1. ],\n",
       "       [5.8, 2.7, 3.9, 1.2],\n",
       "       [6. , 2.7, 5.1, 1.6],\n",
       "       [5.4, 3. , 4.5, 1.5],\n",
       "       [6. , 3.4, 4.5, 1.6],\n",
       "       [6.7, 3.1, 4.7, 1.5],\n",
       "       [6.3, 2.3, 4.4, 1.3],\n",
       "       [5.6, 3. , 4.1, 1.3],\n",
       "       [5.5, 2.5, 4. , 1.3],\n",
       "       [5.5, 2.6, 4.4, 1.2],\n",
       "       [6.1, 3. , 4.6, 1.4],\n",
       "       [5.8, 2.6, 4. , 1.2],\n",
       "       [5. , 2.3, 3.3, 1. ],\n",
       "       [5.6, 2.7, 4.2, 1.3],\n",
       "       [5.7, 3. , 4.2, 1.2],\n",
       "       [5.7, 2.9, 4.2, 1.3],\n",
       "       [6.2, 2.9, 4.3, 1.3],\n",
       "       [5.1, 2.5, 3. , 1.1],\n",
       "       [5.7, 2.8, 4.1, 1.3],\n",
       "       [6.3, 3.3, 6. , 2.5],\n",
       "       [5.8, 2.7, 5.1, 1.9],\n",
       "       [7.1, 3. , 5.9, 2.1],\n",
       "       [6.3, 2.9, 5.6, 1.8],\n",
       "       [6.5, 3. , 5.8, 2.2],\n",
       "       [7.6, 3. , 6.6, 2.1],\n",
       "       [4.9, 2.5, 4.5, 1.7],\n",
       "       [7.3, 2.9, 6.3, 1.8],\n",
       "       [6.7, 2.5, 5.8, 1.8],\n",
       "       [7.2, 3.6, 6.1, 2.5],\n",
       "       [6.5, 3.2, 5.1, 2. ],\n",
       "       [6.4, 2.7, 5.3, 1.9],\n",
       "       [6.8, 3. , 5.5, 2.1],\n",
       "       [5.7, 2.5, 5. , 2. ],\n",
       "       [5.8, 2.8, 5.1, 2.4],\n",
       "       [6.4, 3.2, 5.3, 2.3],\n",
       "       [6.5, 3. , 5.5, 1.8],\n",
       "       [7.7, 3.8, 6.7, 2.2],\n",
       "       [7.7, 2.6, 6.9, 2.3],\n",
       "       [6. , 2.2, 5. , 1.5],\n",
       "       [6.9, 3.2, 5.7, 2.3],\n",
       "       [5.6, 2.8, 4.9, 2. ],\n",
       "       [7.7, 2.8, 6.7, 2. ],\n",
       "       [6.3, 2.7, 4.9, 1.8],\n",
       "       [6.7, 3.3, 5.7, 2.1],\n",
       "       [7.2, 3.2, 6. , 1.8],\n",
       "       [6.2, 2.8, 4.8, 1.8],\n",
       "       [6.1, 3. , 4.9, 1.8],\n",
       "       [6.4, 2.8, 5.6, 2.1],\n",
       "       [7.2, 3. , 5.8, 1.6],\n",
       "       [7.4, 2.8, 6.1, 1.9],\n",
       "       [7.9, 3.8, 6.4, 2. ],\n",
       "       [6.4, 2.8, 5.6, 2.2],\n",
       "       [6.3, 2.8, 5.1, 1.5],\n",
       "       [6.1, 2.6, 5.6, 1.4],\n",
       "       [7.7, 3. , 6.1, 2.3],\n",
       "       [6.3, 3.4, 5.6, 2.4],\n",
       "       [6.4, 3.1, 5.5, 1.8],\n",
       "       [6. , 3. , 4.8, 1.8],\n",
       "       [6.9, 3.1, 5.4, 2.1],\n",
       "       [6.7, 3.1, 5.6, 2.4],\n",
       "       [6.9, 3.1, 5.1, 2.3],\n",
       "       [5.8, 2.7, 5.1, 1.9],\n",
       "       [6.8, 3.2, 5.9, 2.3],\n",
       "       [6.7, 3.3, 5.7, 2.5],\n",
       "       [6.7, 3. , 5.2, 2.3],\n",
       "       [6.3, 2.5, 5. , 1.9],\n",
       "       [6.5, 3. , 5.2, 2. ],\n",
       "       [6.2, 3.4, 5.4, 2.3],\n",
       "       [5.9, 3. , 5.1, 1.8]])"
      ]
     },
     "execution_count": 49,
     "metadata": {},
     "output_type": "execute_result"
    }
   ],
   "source": [
    "from sklearn.datasets import load_iris\n",
    "Iris = load_iris()\n",
    "Iris.data"
   ]
  },
  {
   "cell_type": "code",
   "execution_count": 50,
   "id": "0f7ae470",
   "metadata": {},
   "outputs": [
    {
     "data": {
      "text/plain": [
       "dict_keys(['data', 'target', 'frame', 'target_names', 'DESCR', 'feature_names', 'filename', 'data_module'])"
      ]
     },
     "execution_count": 50,
     "metadata": {},
     "output_type": "execute_result"
    }
   ],
   "source": [
    "Iris.keys()"
   ]
  },
  {
   "cell_type": "code",
   "execution_count": 51,
   "id": "5c3db902",
   "metadata": {},
   "outputs": [
    {
     "data": {
      "text/plain": [
       "['sepal length (cm)',\n",
       " 'sepal width (cm)',\n",
       " 'petal length (cm)',\n",
       " 'petal width (cm)']"
      ]
     },
     "execution_count": 51,
     "metadata": {},
     "output_type": "execute_result"
    }
   ],
   "source": [
    "Iris.feature_names # 분류할 수 있는 도메인 지식이 필요함(수학적 지식은 크게 필요하지 않음)"
   ]
  },
  {
   "cell_type": "code",
   "execution_count": 52,
   "id": "815e118e",
   "metadata": {},
   "outputs": [
    {
     "data": {
      "text/plain": [
       "array(['setosa', 'versicolor', 'virginica'], dtype='<U10')"
      ]
     },
     "execution_count": 52,
     "metadata": {},
     "output_type": "execute_result"
    }
   ],
   "source": [
    "Iris.target_names"
   ]
  },
  {
   "cell_type": "code",
   "execution_count": 53,
   "id": "fa88e91d",
   "metadata": {
    "scrolled": true
   },
   "outputs": [
    {
     "data": {
      "text/plain": [
       "array([0, 0, 0, 0, 0, 0, 0, 0, 0, 0, 0, 0, 0, 0, 0, 0, 0, 0, 0, 0, 0, 0,\n",
       "       0, 0, 0, 0, 0, 0, 0, 0, 0, 0, 0, 0, 0, 0, 0, 0, 0, 0, 0, 0, 0, 0,\n",
       "       0, 0, 0, 0, 0, 0, 1, 1, 1, 1, 1, 1, 1, 1, 1, 1, 1, 1, 1, 1, 1, 1,\n",
       "       1, 1, 1, 1, 1, 1, 1, 1, 1, 1, 1, 1, 1, 1, 1, 1, 1, 1, 1, 1, 1, 1,\n",
       "       1, 1, 1, 1, 1, 1, 1, 1, 1, 1, 1, 1, 2, 2, 2, 2, 2, 2, 2, 2, 2, 2,\n",
       "       2, 2, 2, 2, 2, 2, 2, 2, 2, 2, 2, 2, 2, 2, 2, 2, 2, 2, 2, 2, 2, 2,\n",
       "       2, 2, 2, 2, 2, 2, 2, 2, 2, 2, 2, 2, 2, 2, 2, 2, 2, 2])"
      ]
     },
     "execution_count": 53,
     "metadata": {},
     "output_type": "execute_result"
    }
   ],
   "source": [
    "Iris.target"
   ]
  },
  {
   "cell_type": "code",
   "execution_count": 54,
   "id": "47934fe0",
   "metadata": {},
   "outputs": [],
   "source": [
    "from sklearn.model_selection import train_test_split"
   ]
  },
  {
   "cell_type": "code",
   "execution_count": 112,
   "id": "c26c429e",
   "metadata": {},
   "outputs": [],
   "source": [
    "X_train, X_test, y_train, y_test = train_test_split(\n",
    "    Iris.data, Iris.target, test_size=0.2, random_state=300) # 100, 300이 하나 틀림\n",
    "# iris.data = x, iris.target = y, test_size = ?"
   ]
  },
  {
   "cell_type": "code",
   "execution_count": 113,
   "id": "3272a9ba",
   "metadata": {},
   "outputs": [
    {
     "data": {
      "text/plain": [
       "((120, 4), (30, 4), (120,), (30,))"
      ]
     },
     "execution_count": 113,
     "metadata": {},
     "output_type": "execute_result"
    }
   ],
   "source": [
    "X_train.shape, X_test.shape, y_train.shape, y_test.shape\n",
    "#트레인 세트가 120개, 테스트가 30개 X들은 4개의 컬럼씩 가지고 있고 Y들은 컬럼이 하나다."
   ]
  },
  {
   "cell_type": "code",
   "execution_count": 114,
   "id": "c7260bc0",
   "metadata": {},
   "outputs": [
    {
     "data": {
      "text/html": [
       "<style>#sk-container-id-11 {color: black;}#sk-container-id-11 pre{padding: 0;}#sk-container-id-11 div.sk-toggleable {background-color: white;}#sk-container-id-11 label.sk-toggleable__label {cursor: pointer;display: block;width: 100%;margin-bottom: 0;padding: 0.3em;box-sizing: border-box;text-align: center;}#sk-container-id-11 label.sk-toggleable__label-arrow:before {content: \"▸\";float: left;margin-right: 0.25em;color: #696969;}#sk-container-id-11 label.sk-toggleable__label-arrow:hover:before {color: black;}#sk-container-id-11 div.sk-estimator:hover label.sk-toggleable__label-arrow:before {color: black;}#sk-container-id-11 div.sk-toggleable__content {max-height: 0;max-width: 0;overflow: hidden;text-align: left;background-color: #f0f8ff;}#sk-container-id-11 div.sk-toggleable__content pre {margin: 0.2em;color: black;border-radius: 0.25em;background-color: #f0f8ff;}#sk-container-id-11 input.sk-toggleable__control:checked~div.sk-toggleable__content {max-height: 200px;max-width: 100%;overflow: auto;}#sk-container-id-11 input.sk-toggleable__control:checked~label.sk-toggleable__label-arrow:before {content: \"▾\";}#sk-container-id-11 div.sk-estimator input.sk-toggleable__control:checked~label.sk-toggleable__label {background-color: #d4ebff;}#sk-container-id-11 div.sk-label input.sk-toggleable__control:checked~label.sk-toggleable__label {background-color: #d4ebff;}#sk-container-id-11 input.sk-hidden--visually {border: 0;clip: rect(1px 1px 1px 1px);clip: rect(1px, 1px, 1px, 1px);height: 1px;margin: -1px;overflow: hidden;padding: 0;position: absolute;width: 1px;}#sk-container-id-11 div.sk-estimator {font-family: monospace;background-color: #f0f8ff;border: 1px dotted black;border-radius: 0.25em;box-sizing: border-box;margin-bottom: 0.5em;}#sk-container-id-11 div.sk-estimator:hover {background-color: #d4ebff;}#sk-container-id-11 div.sk-parallel-item::after {content: \"\";width: 100%;border-bottom: 1px solid gray;flex-grow: 1;}#sk-container-id-11 div.sk-label:hover label.sk-toggleable__label {background-color: #d4ebff;}#sk-container-id-11 div.sk-serial::before {content: \"\";position: absolute;border-left: 1px solid gray;box-sizing: border-box;top: 0;bottom: 0;left: 50%;z-index: 0;}#sk-container-id-11 div.sk-serial {display: flex;flex-direction: column;align-items: center;background-color: white;padding-right: 0.2em;padding-left: 0.2em;position: relative;}#sk-container-id-11 div.sk-item {position: relative;z-index: 1;}#sk-container-id-11 div.sk-parallel {display: flex;align-items: stretch;justify-content: center;background-color: white;position: relative;}#sk-container-id-11 div.sk-item::before, #sk-container-id-11 div.sk-parallel-item::before {content: \"\";position: absolute;border-left: 1px solid gray;box-sizing: border-box;top: 0;bottom: 0;left: 50%;z-index: -1;}#sk-container-id-11 div.sk-parallel-item {display: flex;flex-direction: column;z-index: 1;position: relative;background-color: white;}#sk-container-id-11 div.sk-parallel-item:first-child::after {align-self: flex-end;width: 50%;}#sk-container-id-11 div.sk-parallel-item:last-child::after {align-self: flex-start;width: 50%;}#sk-container-id-11 div.sk-parallel-item:only-child::after {width: 0;}#sk-container-id-11 div.sk-dashed-wrapped {border: 1px dashed gray;margin: 0 0.4em 0.5em 0.4em;box-sizing: border-box;padding-bottom: 0.4em;background-color: white;}#sk-container-id-11 div.sk-label label {font-family: monospace;font-weight: bold;display: inline-block;line-height: 1.2em;}#sk-container-id-11 div.sk-label-container {text-align: center;}#sk-container-id-11 div.sk-container {/* jupyter's `normalize.less` sets `[hidden] { display: none; }` but bootstrap.min.css set `[hidden] { display: none !important; }` so we also need the `!important` here to be able to override the default hidden behavior on the sphinx rendered scikit-learn.org. See: https://github.com/scikit-learn/scikit-learn/issues/21755 */display: inline-block !important;position: relative;}#sk-container-id-11 div.sk-text-repr-fallback {display: none;}</style><div id=\"sk-container-id-11\" class=\"sk-top-container\"><div class=\"sk-text-repr-fallback\"><pre>DecisionTreeClassifier()</pre><b>In a Jupyter environment, please rerun this cell to show the HTML representation or trust the notebook. <br />On GitHub, the HTML representation is unable to render, please try loading this page with nbviewer.org.</b></div><div class=\"sk-container\" hidden><div class=\"sk-item\"><div class=\"sk-estimator sk-toggleable\"><input class=\"sk-toggleable__control sk-hidden--visually\" id=\"sk-estimator-id-11\" type=\"checkbox\" checked><label for=\"sk-estimator-id-11\" class=\"sk-toggleable__label sk-toggleable__label-arrow\">DecisionTreeClassifier</label><div class=\"sk-toggleable__content\"><pre>DecisionTreeClassifier()</pre></div></div></div></div></div>"
      ],
      "text/plain": [
       "DecisionTreeClassifier()"
      ]
     },
     "execution_count": 114,
     "metadata": {},
     "output_type": "execute_result"
    }
   ],
   "source": [
    "from sklearn.tree import DecisionTreeClassifier\n",
    "dt = DecisionTreeClassifier()\n",
    "dt.fit(X_train, y_train)"
   ]
  },
  {
   "cell_type": "code",
   "execution_count": 115,
   "id": "d57b9752",
   "metadata": {},
   "outputs": [
    {
     "data": {
      "text/plain": [
       "array([2, 2, 1, 1, 1, 0, 2, 0, 1, 1, 0, 0, 2, 0, 0, 1, 0, 0, 1, 1, 0, 0,\n",
       "       2, 0, 2, 0, 1, 2, 0, 2])"
      ]
     },
     "execution_count": 115,
     "metadata": {},
     "output_type": "execute_result"
    }
   ],
   "source": [
    "y_pred = dt.predict(X_test)\n",
    "y_pred"
   ]
  },
  {
   "cell_type": "code",
   "execution_count": 116,
   "id": "894c144f",
   "metadata": {},
   "outputs": [
    {
     "data": {
      "text/plain": [
       "array([2, 2, 1, 1, 1, 0, 2, 0, 1, 1, 0, 0, 2, 0, 0, 1, 0, 0, 2, 1, 0, 0,\n",
       "       2, 0, 2, 0, 1, 2, 0, 2])"
      ]
     },
     "execution_count": 116,
     "metadata": {},
     "output_type": "execute_result"
    }
   ],
   "source": [
    "answer = y_test # 틀린 것 5(1->2) 13(1->2)\n",
    "answer"
   ]
  },
  {
   "cell_type": "code",
   "execution_count": 117,
   "id": "f79c1b84",
   "metadata": {},
   "outputs": [
    {
     "data": {
      "text/plain": [
       "0.9666666666666667"
      ]
     },
     "execution_count": 117,
     "metadata": {},
     "output_type": "execute_result"
    }
   ],
   "source": [
    "from sklearn.metrics import accuracy_score\n",
    "y_pred = dt.predict(X_test)\n",
    "accuracy_score(y_test, y_pred) # 맞춘 점수"
   ]
  },
  {
   "cell_type": "code",
   "execution_count": 118,
   "id": "6298bf07",
   "metadata": {},
   "outputs": [
    {
     "data": {
      "text/html": [
       "<div>\n",
       "<style scoped>\n",
       "    .dataframe tbody tr th:only-of-type {\n",
       "        vertical-align: middle;\n",
       "    }\n",
       "\n",
       "    .dataframe tbody tr th {\n",
       "        vertical-align: top;\n",
       "    }\n",
       "\n",
       "    .dataframe thead th {\n",
       "        text-align: right;\n",
       "    }\n",
       "</style>\n",
       "<table border=\"1\" class=\"dataframe\">\n",
       "  <thead>\n",
       "    <tr style=\"text-align: right;\">\n",
       "      <th></th>\n",
       "      <th>setosa</th>\n",
       "      <th>versicolor</th>\n",
       "      <th>virginica</th>\n",
       "    </tr>\n",
       "  </thead>\n",
       "  <tbody>\n",
       "    <tr>\n",
       "      <th>setosa</th>\n",
       "      <td>13</td>\n",
       "      <td>0</td>\n",
       "      <td>0</td>\n",
       "    </tr>\n",
       "    <tr>\n",
       "      <th>versicolor</th>\n",
       "      <td>0</td>\n",
       "      <td>8</td>\n",
       "      <td>0</td>\n",
       "    </tr>\n",
       "    <tr>\n",
       "      <th>virginica</th>\n",
       "      <td>0</td>\n",
       "      <td>1</td>\n",
       "      <td>8</td>\n",
       "    </tr>\n",
       "  </tbody>\n",
       "</table>\n",
       "</div>"
      ],
      "text/plain": [
       "            setosa  versicolor  virginica\n",
       "setosa          13           0          0\n",
       "versicolor       0           8          0\n",
       "virginica        0           1          8"
      ]
     },
     "execution_count": 118,
     "metadata": {},
     "output_type": "execute_result"
    }
   ],
   "source": [
    "cm = confusion_matrix(y_test, y_pred)\n",
    "cm_df = pd.DataFrame(cm, index= Iris.target_names, columns = Iris.target_names)\n",
    "cm_df"
   ]
  },
  {
   "cell_type": "code",
   "execution_count": 120,
   "id": "9ff8aade",
   "metadata": {},
   "outputs": [],
   "source": [
    "from sklearn.metrics import accuracy_score, confusion_matrix, precision_score, recall_score"
   ]
  },
  {
   "cell_type": "code",
   "execution_count": null,
   "id": "faf6b3df",
   "metadata": {},
   "outputs": [],
   "source": [
    "#accuracy_score, confusion_matrix, precision_score, recall_score\n",
    "#정확도          혼돈행렬          정밀도           재현율"
   ]
  },
  {
   "cell_type": "code",
   "execution_count": null,
   "id": "b1773c0e",
   "metadata": {},
   "outputs": [],
   "source": [
    "precision_score(y_test, y_pred)"
   ]
  },
  {
   "cell_type": "code",
   "execution_count": null,
   "id": "1b446aa9",
   "metadata": {},
   "outputs": [],
   "source": []
  },
  {
   "cell_type": "code",
   "execution_count": null,
   "id": "33ec8c89",
   "metadata": {},
   "outputs": [],
   "source": []
  },
  {
   "cell_type": "code",
   "execution_count": 23,
   "id": "8b44a52f",
   "metadata": {},
   "outputs": [
    {
     "data": {
      "text/html": [
       "<div>\n",
       "<style scoped>\n",
       "    .dataframe tbody tr th:only-of-type {\n",
       "        vertical-align: middle;\n",
       "    }\n",
       "\n",
       "    .dataframe tbody tr th {\n",
       "        vertical-align: top;\n",
       "    }\n",
       "\n",
       "    .dataframe thead th {\n",
       "        text-align: right;\n",
       "    }\n",
       "</style>\n",
       "<table border=\"1\" class=\"dataframe\">\n",
       "  <thead>\n",
       "    <tr style=\"text-align: right;\">\n",
       "      <th></th>\n",
       "      <th>0</th>\n",
       "      <th>1</th>\n",
       "      <th>2</th>\n",
       "      <th>3</th>\n",
       "      <th>label</th>\n",
       "    </tr>\n",
       "  </thead>\n",
       "  <tbody>\n",
       "    <tr>\n",
       "      <th>0</th>\n",
       "      <td>4.9</td>\n",
       "      <td>2.5</td>\n",
       "      <td>4.5</td>\n",
       "      <td>1.7</td>\n",
       "      <td>2</td>\n",
       "    </tr>\n",
       "  </tbody>\n",
       "</table>\n",
       "</div>"
      ],
      "text/plain": [
       "     0    1    2    3  label\n",
       "0  4.9  2.5  4.5  1.7      2"
      ]
     },
     "execution_count": 23,
     "metadata": {},
     "output_type": "execute_result"
    }
   ],
   "source": [
    "import pandas as pd\n",
    "Xdf = pd.DataFrame(X_test.copy())\n",
    "Xdf[\"label\"] = y_test\n",
    "Xdf[:1]"
   ]
  },
  {
   "cell_type": "code",
   "execution_count": 24,
   "id": "c6a0b6cd",
   "metadata": {},
   "outputs": [
    {
     "data": {
      "text/html": [
       "<div>\n",
       "<style scoped>\n",
       "    .dataframe tbody tr th:only-of-type {\n",
       "        vertical-align: middle;\n",
       "    }\n",
       "\n",
       "    .dataframe tbody tr th {\n",
       "        vertical-align: top;\n",
       "    }\n",
       "\n",
       "    .dataframe thead th {\n",
       "        text-align: right;\n",
       "    }\n",
       "</style>\n",
       "<table border=\"1\" class=\"dataframe\">\n",
       "  <thead>\n",
       "    <tr style=\"text-align: right;\">\n",
       "      <th></th>\n",
       "      <th>sepal length (cm)</th>\n",
       "      <th>sepal width (cm)</th>\n",
       "      <th>petal length (cm)</th>\n",
       "      <th>petal width (cm)</th>\n",
       "      <th>label</th>\n",
       "    </tr>\n",
       "  </thead>\n",
       "  <tbody>\n",
       "    <tr>\n",
       "      <th>0</th>\n",
       "      <td>4.9</td>\n",
       "      <td>2.5</td>\n",
       "      <td>4.5</td>\n",
       "      <td>1.7</td>\n",
       "      <td>2</td>\n",
       "    </tr>\n",
       "  </tbody>\n",
       "</table>\n",
       "</div>"
      ],
      "text/plain": [
       "   sepal length (cm)  sepal width (cm)  petal length (cm)  petal width (cm)  \\\n",
       "0                4.9               2.5                4.5               1.7   \n",
       "\n",
       "   label  \n",
       "0      2  "
      ]
     },
     "execution_count": 24,
     "metadata": {},
     "output_type": "execute_result"
    }
   ],
   "source": [
    "col = ['sepal length (cm)','sepal width (cm)',\n",
    " 'petal length (cm)', 'petal width (cm)', \"label\"]\n",
    "Xdf.columns = col\n",
    "Xdf[:1]"
   ]
  },
  {
   "cell_type": "code",
   "execution_count": 26,
   "id": "63dfc8a7",
   "metadata": {},
   "outputs": [
    {
     "name": "stderr",
     "output_type": "stream",
     "text": [
      "C:\\Users\\admin\\AppData\\Roaming\\Python\\Python38\\site-packages\\seaborn\\axisgrid.py:118: UserWarning: The figure layout has changed to tight\n",
      "  self._figure.tight_layout(*args, **kwargs)\n"
     ]
    },
    {
     "data": {
      "text/plain": [
       "<seaborn.axisgrid.PairGrid at 0x21ba0e8ab80>"
      ]
     },
     "execution_count": 26,
     "metadata": {},
     "output_type": "execute_result"
    },
    {
     "data": {
      "image/png": "[encoded data removed]",
      "text/plain": [
       "<Figure size 1058.88x1000 with 20 Axes>"
      ]
     },
     "metadata": {},
     "output_type": "display_data"
    }
   ],
   "source": [
    "import seaborn as sns\n",
    "sns.pairplot(Xdf, hue=\"label\")"
   ]
  },
  {
   "cell_type": "code",
   "execution_count": 27,
   "id": "6a686c3c",
   "metadata": {},
   "outputs": [
    {
     "data": {
      "text/html": [
       "<div>\n",
       "<style scoped>\n",
       "    .dataframe tbody tr th:only-of-type {\n",
       "        vertical-align: middle;\n",
       "    }\n",
       "\n",
       "    .dataframe tbody tr th {\n",
       "        vertical-align: top;\n",
       "    }\n",
       "\n",
       "    .dataframe thead th {\n",
       "        text-align: right;\n",
       "    }\n",
       "</style>\n",
       "<table border=\"1\" class=\"dataframe\">\n",
       "  <thead>\n",
       "    <tr style=\"text-align: right;\">\n",
       "      <th></th>\n",
       "      <th>sepal length (cm)</th>\n",
       "      <th>sepal width (cm)</th>\n",
       "      <th>petal length (cm)</th>\n",
       "      <th>petal width (cm)</th>\n",
       "    </tr>\n",
       "  </thead>\n",
       "  <tbody>\n",
       "    <tr>\n",
       "      <th>0</th>\n",
       "      <td>5.1</td>\n",
       "      <td>3.5</td>\n",
       "      <td>1.4</td>\n",
       "      <td>0.2</td>\n",
       "    </tr>\n",
       "    <tr>\n",
       "      <th>1</th>\n",
       "      <td>4.9</td>\n",
       "      <td>3.0</td>\n",
       "      <td>1.4</td>\n",
       "      <td>0.2</td>\n",
       "    </tr>\n",
       "  </tbody>\n",
       "</table>\n",
       "</div>"
      ],
      "text/plain": [
       "   sepal length (cm)  sepal width (cm)  petal length (cm)  petal width (cm)\n",
       "0                5.1               3.5                1.4               0.2\n",
       "1                4.9               3.0                1.4               0.2"
      ]
     },
     "execution_count": 27,
     "metadata": {},
     "output_type": "execute_result"
    }
   ],
   "source": [
    "iris_df = pd.DataFrame(Iris.data, columns=Iris.feature_names)\n",
    "iris_df[:2]"
   ]
  },
  {
   "cell_type": "code",
   "execution_count": 28,
   "id": "5535d542",
   "metadata": {},
   "outputs": [
    {
     "data": {
      "text/html": [
       "<div>\n",
       "<style scoped>\n",
       "    .dataframe tbody tr th:only-of-type {\n",
       "        vertical-align: middle;\n",
       "    }\n",
       "\n",
       "    .dataframe tbody tr th {\n",
       "        vertical-align: top;\n",
       "    }\n",
       "\n",
       "    .dataframe thead th {\n",
       "        text-align: right;\n",
       "    }\n",
       "</style>\n",
       "<table border=\"1\" class=\"dataframe\">\n",
       "  <thead>\n",
       "    <tr style=\"text-align: right;\">\n",
       "      <th></th>\n",
       "      <th>sepal length (cm)</th>\n",
       "      <th>sepal width (cm)</th>\n",
       "      <th>petal length (cm)</th>\n",
       "      <th>petal width (cm)</th>\n",
       "      <th>label</th>\n",
       "    </tr>\n",
       "  </thead>\n",
       "  <tbody>\n",
       "    <tr>\n",
       "      <th>0</th>\n",
       "      <td>5.1</td>\n",
       "      <td>3.5</td>\n",
       "      <td>1.4</td>\n",
       "      <td>0.2</td>\n",
       "      <td>0</td>\n",
       "    </tr>\n",
       "    <tr>\n",
       "      <th>1</th>\n",
       "      <td>4.9</td>\n",
       "      <td>3.0</td>\n",
       "      <td>1.4</td>\n",
       "      <td>0.2</td>\n",
       "      <td>0</td>\n",
       "    </tr>\n",
       "  </tbody>\n",
       "</table>\n",
       "</div>"
      ],
      "text/plain": [
       "   sepal length (cm)  sepal width (cm)  petal length (cm)  petal width (cm)  \\\n",
       "0                5.1               3.5                1.4               0.2   \n",
       "1                4.9               3.0                1.4               0.2   \n",
       "\n",
       "   label  \n",
       "0      0  \n",
       "1      0  "
      ]
     },
     "execution_count": 28,
     "metadata": {},
     "output_type": "execute_result"
    }
   ],
   "source": [
    "iris_df[\"label\"] = Iris.target\n",
    "iris_df[:2]"
   ]
  },
  {
   "cell_type": "code",
   "execution_count": 29,
   "id": "03f22be0",
   "metadata": {},
   "outputs": [
    {
     "data": {
      "text/html": [
       "<div>\n",
       "<style scoped>\n",
       "    .dataframe tbody tr th:only-of-type {\n",
       "        vertical-align: middle;\n",
       "    }\n",
       "\n",
       "    .dataframe tbody tr th {\n",
       "        vertical-align: top;\n",
       "    }\n",
       "\n",
       "    .dataframe thead th {\n",
       "        text-align: right;\n",
       "    }\n",
       "</style>\n",
       "<table border=\"1\" class=\"dataframe\">\n",
       "  <thead>\n",
       "    <tr style=\"text-align: right;\">\n",
       "      <th></th>\n",
       "      <th>petal length (cm)</th>\n",
       "      <th>petal width (cm)</th>\n",
       "      <th>label</th>\n",
       "    </tr>\n",
       "  </thead>\n",
       "  <tbody>\n",
       "    <tr>\n",
       "      <th>0</th>\n",
       "      <td>1.4</td>\n",
       "      <td>0.2</td>\n",
       "      <td>0</td>\n",
       "    </tr>\n",
       "    <tr>\n",
       "      <th>1</th>\n",
       "      <td>1.4</td>\n",
       "      <td>0.2</td>\n",
       "      <td>0</td>\n",
       "    </tr>\n",
       "  </tbody>\n",
       "</table>\n",
       "</div>"
      ],
      "text/plain": [
       "   petal length (cm)  petal width (cm)  label\n",
       "0                1.4               0.2      0\n",
       "1                1.4               0.2      0"
      ]
     },
     "execution_count": 29,
     "metadata": {},
     "output_type": "execute_result"
    }
   ],
   "source": [
    "iris_df_petal = iris_df.drop(['sepal length (cm)','sepal width (cm)'], axis=1)\n",
    "iris_df_petal[:2]"
   ]
  },
  {
   "cell_type": "code",
   "execution_count": 30,
   "id": "8e2020d5",
   "metadata": {},
   "outputs": [
    {
     "data": {
      "text/html": [
       "<div>\n",
       "<style scoped>\n",
       "    .dataframe tbody tr th:only-of-type {\n",
       "        vertical-align: middle;\n",
       "    }\n",
       "\n",
       "    .dataframe tbody tr th {\n",
       "        vertical-align: top;\n",
       "    }\n",
       "\n",
       "    .dataframe thead th {\n",
       "        text-align: right;\n",
       "    }\n",
       "</style>\n",
       "<table border=\"1\" class=\"dataframe\">\n",
       "  <thead>\n",
       "    <tr style=\"text-align: right;\">\n",
       "      <th></th>\n",
       "      <th>petal length (cm)</th>\n",
       "      <th>petal width (cm)</th>\n",
       "    </tr>\n",
       "  </thead>\n",
       "  <tbody>\n",
       "    <tr>\n",
       "      <th>0</th>\n",
       "      <td>1.4</td>\n",
       "      <td>0.2</td>\n",
       "    </tr>\n",
       "    <tr>\n",
       "      <th>1</th>\n",
       "      <td>1.4</td>\n",
       "      <td>0.2</td>\n",
       "    </tr>\n",
       "  </tbody>\n",
       "</table>\n",
       "</div>"
      ],
      "text/plain": [
       "   petal length (cm)  petal width (cm)\n",
       "0                1.4               0.2\n",
       "1                1.4               0.2"
      ]
     },
     "execution_count": 30,
     "metadata": {},
     "output_type": "execute_result"
    }
   ],
   "source": [
    "X = iris_df_petal.iloc[:,:2]\n",
    "X[:2]"
   ]
  },
  {
   "cell_type": "code",
   "execution_count": 31,
   "id": "23c6942d",
   "metadata": {},
   "outputs": [
    {
     "data": {
      "text/plain": [
       "0    0\n",
       "1    0\n",
       "Name: label, dtype: int32"
      ]
     },
     "execution_count": 31,
     "metadata": {},
     "output_type": "execute_result"
    }
   ],
   "source": [
    "y = iris_df_petal.iloc[:,2]\n",
    "y[:2]"
   ]
  },
  {
   "cell_type": "code",
   "execution_count": 32,
   "id": "21665037",
   "metadata": {},
   "outputs": [],
   "source": [
    "from sklearn.model_selection import train_test_split\n",
    "X_train, X_test, y_train, y_test = train_test_split(\n",
    "    Iris.data, Iris.target, test_size=0.2)"
   ]
  },
  {
   "cell_type": "code",
   "execution_count": 33,
   "id": "ee97d779",
   "metadata": {},
   "outputs": [
    {
     "data": {
      "text/plain": [
       "((120, 4), (30, 4), (120,), (30,))"
      ]
     },
     "execution_count": 33,
     "metadata": {},
     "output_type": "execute_result"
    }
   ],
   "source": [
    "X_train.shape, X_test.shape, y_train.shape, y_test.shape"
   ]
  },
  {
   "cell_type": "code",
   "execution_count": 34,
   "id": "5bdb4d02",
   "metadata": {},
   "outputs": [
    {
     "data": {
      "text/html": [
       "<style>#sk-container-id-2 {color: black;}#sk-container-id-2 pre{padding: 0;}#sk-container-id-2 div.sk-toggleable {background-color: white;}#sk-container-id-2 label.sk-toggleable__label {cursor: pointer;display: block;width: 100%;margin-bottom: 0;padding: 0.3em;box-sizing: border-box;text-align: center;}#sk-container-id-2 label.sk-toggleable__label-arrow:before {content: \"▸\";float: left;margin-right: 0.25em;color: #696969;}#sk-container-id-2 label.sk-toggleable__label-arrow:hover:before {color: black;}#sk-container-id-2 div.sk-estimator:hover label.sk-toggleable__label-arrow:before {color: black;}#sk-container-id-2 div.sk-toggleable__content {max-height: 0;max-width: 0;overflow: hidden;text-align: left;background-color: #f0f8ff;}#sk-container-id-2 div.sk-toggleable__content pre {margin: 0.2em;color: black;border-radius: 0.25em;background-color: #f0f8ff;}#sk-container-id-2 input.sk-toggleable__control:checked~div.sk-toggleable__content {max-height: 200px;max-width: 100%;overflow: auto;}#sk-container-id-2 input.sk-toggleable__control:checked~label.sk-toggleable__label-arrow:before {content: \"▾\";}#sk-container-id-2 div.sk-estimator input.sk-toggleable__control:checked~label.sk-toggleable__label {background-color: #d4ebff;}#sk-container-id-2 div.sk-label input.sk-toggleable__control:checked~label.sk-toggleable__label {background-color: #d4ebff;}#sk-container-id-2 input.sk-hidden--visually {border: 0;clip: rect(1px 1px 1px 1px);clip: rect(1px, 1px, 1px, 1px);height: 1px;margin: -1px;overflow: hidden;padding: 0;position: absolute;width: 1px;}#sk-container-id-2 div.sk-estimator {font-family: monospace;background-color: #f0f8ff;border: 1px dotted black;border-radius: 0.25em;box-sizing: border-box;margin-bottom: 0.5em;}#sk-container-id-2 div.sk-estimator:hover {background-color: #d4ebff;}#sk-container-id-2 div.sk-parallel-item::after {content: \"\";width: 100%;border-bottom: 1px solid gray;flex-grow: 1;}#sk-container-id-2 div.sk-label:hover label.sk-toggleable__label {background-color: #d4ebff;}#sk-container-id-2 div.sk-serial::before {content: \"\";position: absolute;border-left: 1px solid gray;box-sizing: border-box;top: 0;bottom: 0;left: 50%;z-index: 0;}#sk-container-id-2 div.sk-serial {display: flex;flex-direction: column;align-items: center;background-color: white;padding-right: 0.2em;padding-left: 0.2em;position: relative;}#sk-container-id-2 div.sk-item {position: relative;z-index: 1;}#sk-container-id-2 div.sk-parallel {display: flex;align-items: stretch;justify-content: center;background-color: white;position: relative;}#sk-container-id-2 div.sk-item::before, #sk-container-id-2 div.sk-parallel-item::before {content: \"\";position: absolute;border-left: 1px solid gray;box-sizing: border-box;top: 0;bottom: 0;left: 50%;z-index: -1;}#sk-container-id-2 div.sk-parallel-item {display: flex;flex-direction: column;z-index: 1;position: relative;background-color: white;}#sk-container-id-2 div.sk-parallel-item:first-child::after {align-self: flex-end;width: 50%;}#sk-container-id-2 div.sk-parallel-item:last-child::after {align-self: flex-start;width: 50%;}#sk-container-id-2 div.sk-parallel-item:only-child::after {width: 0;}#sk-container-id-2 div.sk-dashed-wrapped {border: 1px dashed gray;margin: 0 0.4em 0.5em 0.4em;box-sizing: border-box;padding-bottom: 0.4em;background-color: white;}#sk-container-id-2 div.sk-label label {font-family: monospace;font-weight: bold;display: inline-block;line-height: 1.2em;}#sk-container-id-2 div.sk-label-container {text-align: center;}#sk-container-id-2 div.sk-container {/* jupyter's `normalize.less` sets `[hidden] { display: none; }` but bootstrap.min.css set `[hidden] { display: none !important; }` so we also need the `!important` here to be able to override the default hidden behavior on the sphinx rendered scikit-learn.org. See: https://github.com/scikit-learn/scikit-learn/issues/21755 */display: inline-block !important;position: relative;}#sk-container-id-2 div.sk-text-repr-fallback {display: none;}</style><div id=\"sk-container-id-2\" class=\"sk-top-container\"><div class=\"sk-text-repr-fallback\"><pre>DecisionTreeClassifier()</pre><b>In a Jupyter environment, please rerun this cell to show the HTML representation or trust the notebook. <br />On GitHub, the HTML representation is unable to render, please try loading this page with nbviewer.org.</b></div><div class=\"sk-container\" hidden><div class=\"sk-item\"><div class=\"sk-estimator sk-toggleable\"><input class=\"sk-toggleable__control sk-hidden--visually\" id=\"sk-estimator-id-2\" type=\"checkbox\" checked><label for=\"sk-estimator-id-2\" class=\"sk-toggleable__label sk-toggleable__label-arrow\">DecisionTreeClassifier</label><div class=\"sk-toggleable__content\"><pre>DecisionTreeClassifier()</pre></div></div></div></div></div>"
      ],
      "text/plain": [
       "DecisionTreeClassifier()"
      ]
     },
     "execution_count": 34,
     "metadata": {},
     "output_type": "execute_result"
    }
   ],
   "source": [
    "dt = DecisionTreeClassifier()\n",
    "dt.fit(X_train, y_train)"
   ]
  },
  {
   "cell_type": "code",
   "execution_count": 35,
   "id": "4c0c3f79",
   "metadata": {},
   "outputs": [
    {
     "data": {
      "text/plain": [
       "array([1, 1, 2, 0, 2, 0, 0, 1, 2, 0, 2, 0, 2, 0, 0, 2, 1, 2, 2, 1, 2, 2,\n",
       "       0, 0, 2, 0, 1, 0, 2, 0])"
      ]
     },
     "execution_count": 35,
     "metadata": {},
     "output_type": "execute_result"
    }
   ],
   "source": [
    "dt.predict(X_test)"
   ]
  },
  {
   "cell_type": "code",
   "execution_count": 36,
   "id": "bdba2838",
   "metadata": {},
   "outputs": [
    {
     "data": {
      "text/plain": [
       "array([1, 1, 1, 0, 2, 0, 0, 1, 2, 0, 2, 0, 2, 0, 0, 2, 1, 2, 1, 1, 2, 2,\n",
       "       0, 0, 2, 0, 1, 0, 2, 0])"
      ]
     },
     "execution_count": 36,
     "metadata": {},
     "output_type": "execute_result"
    }
   ],
   "source": [
    "y_test"
   ]
  },
  {
   "cell_type": "code",
   "execution_count": 41,
   "id": "c10a09f2",
   "metadata": {},
   "outputs": [],
   "source": [
    "# fail = 0;\n",
    "# number = []\n",
    "# for i in range(len(X_test)):\n",
    "#     if(challenge[i] != answer[i]):\n",
    "#         fail += 1\n",
    "#         number.append(i)\n",
    "#     else:\n",
    "#         pass\n",
    "# (len(X_test)-fail)/len(X_test), number"
   ]
  },
  {
   "cell_type": "code",
   "execution_count": 39,
   "id": "7751a46c",
   "metadata": {},
   "outputs": [],
   "source": [
    "#from sklearn.metrics import accuracy_score\n",
    "#accuracy_score(X_test = y_test)"
   ]
  },
  {
   "cell_type": "code",
   "execution_count": 40,
   "id": "36c651e0",
   "metadata": {},
   "outputs": [
    {
     "data": {
      "text/plain": [
       "0.9333333333333333"
      ]
     },
     "execution_count": 40,
     "metadata": {},
     "output_type": "execute_result"
    }
   ],
   "source": [
    "from sklearn.metrics import accuracy_score\n",
    "y_pred = dt.predict(X_test)\n",
    "accuracy_score(y_test, y_pred)"
   ]
  },
  {
   "cell_type": "code",
   "execution_count": 43,
   "id": "b1fdb312",
   "metadata": {},
   "outputs": [],
   "source": [
    "from sklearn.metrics import confusion_matrix"
   ]
  },
  {
   "cell_type": "code",
   "execution_count": 45,
   "id": "8326faca",
   "metadata": {},
   "outputs": [
    {
     "data": {
      "text/plain": [
       "array([[12,  0,  0],\n",
       "       [ 0,  6,  2],\n",
       "       [ 0,  0, 10]], dtype=int64)"
      ]
     },
     "execution_count": 45,
     "metadata": {},
     "output_type": "execute_result"
    }
   ],
   "source": [
    "cm = confusion_matrix(y_test, y_pred)\n",
    "cm"
   ]
  },
  {
   "cell_type": "code",
   "execution_count": 46,
   "id": "6953d526",
   "metadata": {},
   "outputs": [
    {
     "data": {
      "text/html": [
       "<div>\n",
       "<style scoped>\n",
       "    .dataframe tbody tr th:only-of-type {\n",
       "        vertical-align: middle;\n",
       "    }\n",
       "\n",
       "    .dataframe tbody tr th {\n",
       "        vertical-align: top;\n",
       "    }\n",
       "\n",
       "    .dataframe thead th {\n",
       "        text-align: right;\n",
       "    }\n",
       "</style>\n",
       "<table border=\"1\" class=\"dataframe\">\n",
       "  <thead>\n",
       "    <tr style=\"text-align: right;\">\n",
       "      <th></th>\n",
       "      <th>setosa</th>\n",
       "      <th>versicolor</th>\n",
       "      <th>virginica</th>\n",
       "    </tr>\n",
       "  </thead>\n",
       "  <tbody>\n",
       "    <tr>\n",
       "      <th>setosa</th>\n",
       "      <td>12</td>\n",
       "      <td>0</td>\n",
       "      <td>0</td>\n",
       "    </tr>\n",
       "    <tr>\n",
       "      <th>versicolor</th>\n",
       "      <td>0</td>\n",
       "      <td>6</td>\n",
       "      <td>2</td>\n",
       "    </tr>\n",
       "    <tr>\n",
       "      <th>virginica</th>\n",
       "      <td>0</td>\n",
       "      <td>0</td>\n",
       "      <td>10</td>\n",
       "    </tr>\n",
       "  </tbody>\n",
       "</table>\n",
       "</div>"
      ],
      "text/plain": [
       "            setosa  versicolor  virginica\n",
       "setosa          12           0          0\n",
       "versicolor       0           6          2\n",
       "virginica        0           0         10"
      ]
     },
     "execution_count": 46,
     "metadata": {},
     "output_type": "execute_result"
    }
   ],
   "source": [
    "cm_df = pd.DataFrame(cm, index= Iris.target_names, columns = Iris.target_names)\n",
    "cm_df # confusion_matrix 혼돈 행렬 col: autual 정답, index: prediction ML의 제출 답안"
   ]
  },
  {
   "cell_type": "code",
   "execution_count": null,
   "id": "99050fc9",
   "metadata": {},
   "outputs": [],
   "source": []
  }
 ],
 "metadata": {
  "kernelspec": {
   "display_name": "Python 3 (ipykernel)",
   "language": "python",
   "name": "python3"
  },
  "language_info": {
   "codemirror_mode": {
    "name": "ipython",
    "version": 3
   },
   "file_extension": ".py",
   "mimetype": "text/x-python",
   "name": "python",
   "nbconvert_exporter": "python",
   "pygments_lexer": "ipython3",
   "version": "3.8.17"
  }
 },
 "nbformat": 4,
 "nbformat_minor": 5
}
