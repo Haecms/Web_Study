{
 "cells": [
  {
   "cell_type": "code",
   "execution_count": 12,
   "id": "866c83b4",
   "metadata": {},
   "outputs": [
    {
     "data": {
      "text/plain": [
       "{'키1': '값1', '키2': '값2'}"
      ]
     },
     "execution_count": 12,
     "metadata": {},
     "output_type": "execute_result"
    }
   ],
   "source": [
    "d1 = {\"키1\": \"값1\", \"키2\": \"값2\"}\n",
    "d1"
   ]
  },
  {
   "cell_type": "code",
   "execution_count": 10,
   "id": "47d7c4e4",
   "metadata": {},
   "outputs": [
    {
     "data": {
      "text/plain": [
       "{'키1': '값1', '키2': '값2'}"
      ]
     },
     "execution_count": 10,
     "metadata": {},
     "output_type": "execute_result"
    }
   ],
   "source": [
    "d2 = dict({\"키1\": \"값1\", \"키2\": \"값2\"})\n",
    "d2"
   ]
  },
  {
   "cell_type": "code",
   "execution_count": 5,
   "id": "107c3cdb",
   "metadata": {},
   "outputs": [
    {
     "data": {
      "text/plain": [
       "{'키1': '값1', '키2': '값2'}"
      ]
     },
     "execution_count": 5,
     "metadata": {},
     "output_type": "execute_result"
    }
   ],
   "source": [
    "d3 = dict([(\"키1\", \"값1\"), (\"키2\",\"값2\")])\n",
    "d3"
   ]
  },
  {
   "cell_type": "code",
   "execution_count": 7,
   "id": "460db6d0",
   "metadata": {},
   "outputs": [
    {
     "data": {
      "text/plain": [
       "[('키1', '값1'), ('키2', '값2')]"
      ]
     },
     "execution_count": 7,
     "metadata": {},
     "output_type": "execute_result"
    }
   ],
   "source": [
    "d4 = list(zip([\"키1\", \"키2\"], [\"값1\", \"값2\"]))\n",
    "d4"
   ]
  },
  {
   "cell_type": "code",
   "execution_count": 13,
   "id": "664491c9",
   "metadata": {},
   "outputs": [
    {
     "data": {
      "text/plain": [
       "{'health': 490, 'mana': 334, 'melee': 550, 'armor': 110}"
      ]
     },
     "execution_count": 13,
     "metadata": {},
     "output_type": "execute_result"
    }
   ],
   "source": [
    "d5 = dict(health=490, mana=334, melee=550, armor=110)\n",
    "d5"
   ]
  },
  {
   "cell_type": "code",
   "execution_count": 15,
   "id": "7876fbf8",
   "metadata": {},
   "outputs": [
    {
     "ename": "KeyError",
     "evalue": "'kkk'",
     "output_type": "error",
     "traceback": [
      "\u001b[1;31m---------------------------------------------------------------------------\u001b[0m",
      "\u001b[1;31mKeyError\u001b[0m                                  Traceback (most recent call last)",
      "Cell \u001b[1;32mIn[15], line 1\u001b[0m\n\u001b[1;32m----> 1\u001b[0m \u001b[43md5\u001b[49m\u001b[43m[\u001b[49m\u001b[38;5;124;43m\"\u001b[39;49m\u001b[38;5;124;43mkkk\u001b[39;49m\u001b[38;5;124;43m\"\u001b[39;49m\u001b[43m]\u001b[49m\n",
      "\u001b[1;31mKeyError\u001b[0m: 'kkk'"
     ]
    }
   ],
   "source": [
    "d5[\"kkk\"]"
   ]
  },
  {
   "cell_type": "code",
   "execution_count": 19,
   "id": "678626d3",
   "metadata": {},
   "outputs": [
    {
     "name": "stdout",
     "output_type": "stream",
     "text": [
      "d5에는 kkk가 없습니다.\n"
     ]
    }
   ],
   "source": [
    "if \"kkk\" in d5:\n",
    "    print(d5[\"kkk\"])\n",
    "else:\n",
    "    print(\"d5에는 kkk가 없습니다.\")"
   ]
  },
  {
   "cell_type": "code",
   "execution_count": 21,
   "id": "579b6479",
   "metadata": {},
   "outputs": [],
   "source": [
    "d5.get(\"kkk\")"
   ]
  },
  {
   "cell_type": "code",
   "execution_count": 23,
   "id": "9ffa0b07",
   "metadata": {},
   "outputs": [
    {
     "name": "stdout",
     "output_type": "stream",
     "text": [
      "d5에는 kkk가 없습니다.\n"
     ]
    }
   ],
   "source": [
    "res = d5.get(\"kkk\")\n",
    "if res == None:\n",
    "    print(\"d5에는 kkk가 없습니다.\")"
   ]
  },
  {
   "cell_type": "code",
   "execution_count": 24,
   "id": "bd8797d8",
   "metadata": {},
   "outputs": [
    {
     "data": {
      "text/plain": [
       "334"
      ]
     },
     "execution_count": 24,
     "metadata": {},
     "output_type": "execute_result"
    }
   ],
   "source": [
    "d5.get(\"mana\")"
   ]
  },
  {
   "cell_type": "code",
   "execution_count": 28,
   "id": "46276732",
   "metadata": {},
   "outputs": [
    {
     "name": "stdout",
     "output_type": "stream",
     "text": [
      "0 1 2 "
     ]
    }
   ],
   "source": [
    "for i in range(3):\n",
    "    print(i, end=' ')\n",
    "    i = 10"
   ]
  },
  {
   "cell_type": "code",
   "execution_count": 44,
   "id": "b2267ce2",
   "metadata": {},
   "outputs": [
    {
     "data": {
      "text/plain": [
       "[4, 3]"
      ]
     },
     "execution_count": 44,
     "metadata": {},
     "output_type": "execute_result"
    }
   ],
   "source": [
    "a = [1,2,3,4]\n",
    "b = [];\n",
    "b.append(a.pop())\n",
    "b.append(a.pop())\n",
    "b"
   ]
  },
  {
   "cell_type": "code",
   "execution_count": 45,
   "id": "2356f9b6",
   "metadata": {},
   "outputs": [
    {
     "data": {
      "text/plain": [
       "3"
      ]
     },
     "execution_count": 45,
     "metadata": {},
     "output_type": "execute_result"
    }
   ],
   "source": [
    "a = [1,2,3,4]\n",
    "b = [];\n",
    "b = a.pop()\n",
    "b = a.pop()\n",
    "b"
   ]
  },
  {
   "cell_type": "code",
   "execution_count": 42,
   "id": "044d1f42",
   "metadata": {},
   "outputs": [
    {
     "data": {
      "text/plain": [
       "(2, [1, 3, 4])"
      ]
     },
     "execution_count": 42,
     "metadata": {},
     "output_type": "execute_result"
    }
   ],
   "source": [
    "a = [1,2,3,4]\n",
    "a.pop(1), a #인덱스 기반"
   ]
  },
  {
   "cell_type": "code",
   "execution_count": 36,
   "id": "37da2d96",
   "metadata": {},
   "outputs": [
    {
     "data": {
      "text/plain": [
       "[2, 3, 4]"
      ]
     },
     "execution_count": 36,
     "metadata": {},
     "output_type": "execute_result"
    }
   ],
   "source": [
    "a = [1,2,3,4]\n",
    "a.remove(1)\n",
    "a"
   ]
  },
  {
   "cell_type": "code",
   "execution_count": 46,
   "id": "541db061",
   "metadata": {},
   "outputs": [
    {
     "data": {
      "text/plain": [
       "[1, 3, 4]"
      ]
     },
     "execution_count": 46,
     "metadata": {},
     "output_type": "execute_result"
    }
   ],
   "source": [
    "a = [1,2,3,4]\n",
    "del a[1]\n",
    "a"
   ]
  },
  {
   "cell_type": "code",
   "execution_count": 48,
   "id": "d80a0cd1",
   "metadata": {},
   "outputs": [
    {
     "name": "stdout",
     "output_type": "stream",
     "text": [
      "[0, 1, 2]\n"
     ]
    }
   ],
   "source": [
    "mystack = []\n",
    "mystack.append(0)\n",
    "mystack.append(1)\n",
    "mystack.append(2)\n",
    "print(mystack)"
   ]
  },
  {
   "cell_type": "code",
   "execution_count": 60,
   "id": "b3ab2413",
   "metadata": {},
   "outputs": [
    {
     "name": "stdout",
     "output_type": "stream",
     "text": [
      "[0, 1, 2]\n",
      "2 [0, 1]\n",
      "1 [0]\n",
      "0 []\n"
     ]
    },
    {
     "ename": "IndexError",
     "evalue": "pop from empty list",
     "output_type": "error",
     "traceback": [
      "\u001b[1;31m---------------------------------------------------------------------------\u001b[0m",
      "\u001b[1;31mIndexError\u001b[0m                                Traceback (most recent call last)",
      "Cell \u001b[1;32mIn[60], line 9\u001b[0m\n\u001b[0;32m      7\u001b[0m \u001b[38;5;28mprint\u001b[39m(mystack\u001b[38;5;241m.\u001b[39mpop(), mystack)\n\u001b[0;32m      8\u001b[0m \u001b[38;5;28mprint\u001b[39m(mystack\u001b[38;5;241m.\u001b[39mpop(), mystack)\n\u001b[1;32m----> 9\u001b[0m \u001b[38;5;28mprint\u001b[39m(\u001b[43mmystack\u001b[49m\u001b[38;5;241;43m.\u001b[39;49m\u001b[43mpop\u001b[49m\u001b[43m(\u001b[49m\u001b[43m)\u001b[49m, mystack)\n",
      "\u001b[1;31mIndexError\u001b[0m: pop from empty list"
     ]
    }
   ],
   "source": [
    "mystack = []\n",
    "mystack.append(0)\n",
    "mystack.append(1)\n",
    "mystack.append(2)\n",
    "print(mystack)\n",
    "print(mystack.pop(), mystack)\n",
    "print(mystack.pop(), mystack)\n",
    "print(mystack.pop(), mystack)\n",
    "print(mystack.pop(), mystack)"
   ]
  },
  {
   "cell_type": "code",
   "execution_count": 61,
   "id": "46bcb69e",
   "metadata": {},
   "outputs": [
    {
     "name": "stdout",
     "output_type": "stream",
     "text": [
      "[0, 1, 2]\n",
      "0 [1, 2]\n",
      "1 [2]\n",
      "2 []\n"
     ]
    },
    {
     "ename": "IndexError",
     "evalue": "pop from empty list",
     "output_type": "error",
     "traceback": [
      "\u001b[1;31m---------------------------------------------------------------------------\u001b[0m",
      "\u001b[1;31mIndexError\u001b[0m                                Traceback (most recent call last)",
      "Cell \u001b[1;32mIn[61], line 9\u001b[0m\n\u001b[0;32m      7\u001b[0m \u001b[38;5;28mprint\u001b[39m(myqueue\u001b[38;5;241m.\u001b[39mpop(\u001b[38;5;241m0\u001b[39m), myqueue)\n\u001b[0;32m      8\u001b[0m \u001b[38;5;28mprint\u001b[39m(myqueue\u001b[38;5;241m.\u001b[39mpop(\u001b[38;5;241m0\u001b[39m), myqueue)\n\u001b[1;32m----> 9\u001b[0m \u001b[38;5;28mprint\u001b[39m(\u001b[43mmyqueue\u001b[49m\u001b[38;5;241;43m.\u001b[39;49m\u001b[43mpop\u001b[49m\u001b[43m(\u001b[49m\u001b[38;5;241;43m0\u001b[39;49m\u001b[43m)\u001b[49m, myqueue)\n",
      "\u001b[1;31mIndexError\u001b[0m: pop from empty list"
     ]
    }
   ],
   "source": [
    "myqueue = []\n",
    "myqueue.append(0)\n",
    "myqueue.append(1)\n",
    "myqueue.append(2)\n",
    "print(myqueue)\n",
    "print(myqueue.pop(0), myqueue)\n",
    "print(myqueue.pop(0), myqueue)\n",
    "print(myqueue.pop(0), myqueue)\n",
    "print(myqueue.pop(0), myqueue)"
   ]
  },
  {
   "cell_type": "code",
   "execution_count": 63,
   "id": "5643e6ef",
   "metadata": {},
   "outputs": [
    {
     "data": {
      "text/plain": [
       "([1, 100, 3], [1, 100, 3])"
      ]
     },
     "execution_count": 63,
     "metadata": {},
     "output_type": "execute_result"
    }
   ],
   "source": [
    "a = [1,2,3]\n",
    "b = a\n",
    "b[1] = 100\n",
    "a, b"
   ]
  },
  {
   "cell_type": "code",
   "execution_count": 65,
   "id": "e55cc01d",
   "metadata": {},
   "outputs": [
    {
     "data": {
      "text/plain": [
       "([1, 2, 3], [1, 100, 3])"
      ]
     },
     "execution_count": 65,
     "metadata": {},
     "output_type": "execute_result"
    }
   ],
   "source": [
    "a = [1,2,3]\n",
    "b = a.copy()\n",
    "b[1] = 100\n",
    "a, b"
   ]
  },
  {
   "cell_type": "code",
   "execution_count": 67,
   "id": "49b98863",
   "metadata": {},
   "outputs": [
    {
     "data": {
      "text/plain": [
       "([1, 2, 3], [1, 100, 3])"
      ]
     },
     "execution_count": 67,
     "metadata": {},
     "output_type": "execute_result"
    }
   ],
   "source": [
    "a = [1,2,3]\n",
    "b = a[:]\n",
    "b[1] = 100\n",
    "a, b"
   ]
  },
  {
   "cell_type": "code",
   "execution_count": 69,
   "id": "51c337c4",
   "metadata": {},
   "outputs": [
    {
     "name": "stdout",
     "output_type": "stream",
     "text": [
      "0 38\n",
      "1 21\n",
      "2 53\n",
      "3 62\n",
      "4 19\n"
     ]
    }
   ],
   "source": [
    "a = [38,21,53,62,19]\n",
    "for index, value in enumerate(a):\n",
    "    print(index, value)"
   ]
  },
  {
   "cell_type": "code",
   "execution_count": 71,
   "id": "f0946822",
   "metadata": {},
   "outputs": [
    {
     "name": "stdout",
     "output_type": "stream",
     "text": [
      "0번 라인의 데이터[1, 2, 3]\n",
      "1번 라인의 데이터[2, 3, 4]\n",
      "2번 라인의 데이터[3, 4, 5]\n"
     ]
    }
   ],
   "source": [
    "a = [1,2,3],[2,3,4],[3,4,5]\n",
    "for index, value in enumerate(a):\n",
    "    print(f\"{index}번 라인의 데이터{value}\")"
   ]
  },
  {
   "cell_type": "code",
   "execution_count": 75,
   "id": "ed92fbd8",
   "metadata": {},
   "outputs": [
    {
     "name": "stdout",
     "output_type": "stream",
     "text": [
      "0번 라인의 데이터[1, 2, 3]\n",
      "1번 라인의 데이터[2, 3, 4]\n",
      "2번 라인의 데이터[3, 4, 5]\n"
     ]
    }
   ],
   "source": [
    "a = [1,2,3],[2,3,4],[3,4,5]\n",
    "for index in range(3):\n",
    "    print(f\"{index}번 라인의 데이터{a[index]}\")"
   ]
  },
  {
   "cell_type": "code",
   "execution_count": 79,
   "id": "0a84ce9e",
   "metadata": {},
   "outputs": [
    {
     "name": "stdout",
     "output_type": "stream",
     "text": [
      "1번 라인의 데이터[1, 2, 3]\n",
      "2번 라인의 데이터[2, 3, 4]\n",
      "3번 라인의 데이터[3, 4, 5]\n"
     ]
    }
   ],
   "source": [
    "a = [1,2,3],[2,3,4],[3,4,5]\n",
    "for index, value in enumerate(a, start=1):\n",
    "    print(f\"{index}번 라인의 데이터{value}\")"
   ]
  },
  {
   "cell_type": "code",
   "execution_count": 84,
   "id": "85f7305d",
   "metadata": {},
   "outputs": [
    {
     "data": {
      "text/plain": [
       "[[10, 20], [500, 600, 700]]"
      ]
     },
     "execution_count": 84,
     "metadata": {},
     "output_type": "execute_result"
    }
   ],
   "source": [
    "a = []\n",
    "a.append([])\n",
    "a[0].append(10)\n",
    "a[0].append(20)\n",
    "a.append([])\n",
    "a[1].append(500)\n",
    "a[1].append(600)\n",
    "a[1].append(700)\n",
    "a"
   ]
  },
  {
   "cell_type": "code",
   "execution_count": 86,
   "id": "d6193d62",
   "metadata": {},
   "outputs": [
    {
     "data": {
      "text/plain": [
       "'흠냐하고 흠냐하고 낑가가'"
      ]
     },
     "execution_count": 86,
     "metadata": {},
     "output_type": "execute_result"
    }
   ],
   "source": [
    "a = \"임마하고 점마하고 낑가가\"\n",
    "stopwords = [\"임마\", \"점마\"]\n",
    "for yok in stopwords:\n",
    "    a = a.replace(yok, \"흠냐\")\n",
    "a"
   ]
  },
  {
   "cell_type": "code",
   "execution_count": 92,
   "id": "f5a0d851",
   "metadata": {},
   "outputs": [
    {
     "data": {
      "text/plain": [
       "'aaa hello wold'"
      ]
     },
     "execution_count": 92,
     "metadata": {},
     "output_type": "execute_result"
    }
   ],
   "source": [
    "a = \"\"\"\n",
    "\n",
    "     aaa \n",
    "hello wold\n",
    "\n",
    "\n",
    "\"\"\"\n",
    "\n",
    "a = a.strip(\"\\n \").replace(\"\\n\", \"\")\n",
    "a"
   ]
  },
  {
   "cell_type": "code",
   "execution_count": 97,
   "id": "0bd598bf",
   "metadata": {},
   "outputs": [
    {
     "data": {
      "text/plain": [
       "'안녕 나는 뽀로로야'"
      ]
     },
     "execution_count": 97,
     "metadata": {},
     "output_type": "execute_result"
    }
   ],
   "source": [
    "a = \"안녕 나는 뽀로로야~~~! ^^:)\"\n",
    "import string\n",
    "a.strip(string.punctuation+' ')"
   ]
  },
  {
   "cell_type": "code",
   "execution_count": 100,
   "id": "1c8ae1e6",
   "metadata": {},
   "outputs": [
    {
     "data": {
      "text/plain": [
       "'조해찬은 부산시에서 살고 있다'"
      ]
     },
     "execution_count": 100,
     "metadata": {},
     "output_type": "execute_result"
    }
   ],
   "source": [
    "name = \"조해찬\"\n",
    "address = \"부산시\"\n",
    "mes = f\"{name}은 {address}에서 살고 있다\"\n",
    "mes"
   ]
  },
  {
   "cell_type": "code",
   "execution_count": 105,
   "id": "f944f582",
   "metadata": {},
   "outputs": [],
   "source": [
    "file = open('hello.txt', 'w')\n",
    "file.write('Hello, world! \\n')\n",
    "file.write('dddddddd \\n')\n",
    "file.write('fdhfdsakjfghjsgfdsadfgh')\n",
    "file.close()"
   ]
  },
  {
   "cell_type": "code",
   "execution_count": 108,
   "id": "048dcf32",
   "metadata": {},
   "outputs": [],
   "source": [
    "with open('hello_width.txt', 'w') as file:\n",
    "    file.write(\"hello_with\\n\")\n",
    "    file.write('dddddddd \\n')\n",
    "    file.write('fdhfdsakjfghjsgfdsadfgh')"
   ]
  },
  {
   "cell_type": "code",
   "execution_count": 111,
   "id": "3f354d7a",
   "metadata": {},
   "outputs": [],
   "source": [
    "file = open('hello.txt', 'w')\n",
    "file.write('메롱헤롱')\n",
    "file.close()"
   ]
  },
  {
   "cell_type": "code",
   "execution_count": 122,
   "id": "fa829850",
   "metadata": {},
   "outputs": [],
   "source": [
    "file = open('mylog.log', 'w')\n",
    "file.close()"
   ]
  },
  {
   "cell_type": "code",
   "execution_count": 123,
   "id": "4b05f601",
   "metadata": {},
   "outputs": [],
   "source": [
    "import datetime\n",
    "d = datetime.datetime.now()\n",
    "file = open('mylog.log', 'a')\n",
    "file.write(str(d)+\" user1 accessed\\n\")\n",
    "file.close()"
   ]
  },
  {
   "cell_type": "code",
   "execution_count": 125,
   "id": "b1d646e0",
   "metadata": {},
   "outputs": [],
   "source": [
    "import datetime\n",
    "d = datetime.datetime.now()\n",
    "file = open('mylog.log', 'a')\n",
    "file.write(str(d)+\" user2 terminated\\n\")\n",
    "file.close()"
   ]
  },
  {
   "cell_type": "code",
   "execution_count": 128,
   "id": "9fb741f9",
   "metadata": {},
   "outputs": [
    {
     "name": "stdout",
     "output_type": "stream",
     "text": [
      "2023-07-14 16:51:01.809132 user1 accessed\n",
      "2023-07-14 16:51:08.763048 user2 terminated\n",
      "2023-07-14 17:13:00.809592 user2 terminated\n",
      "\n"
     ]
    }
   ],
   "source": [
    "file = open('mylog.log', 'r')\n",
    "s = file.read()\n",
    "file.close()\n",
    "\n",
    "print(s)"
   ]
  },
  {
   "cell_type": "code",
   "execution_count": 1,
   "id": "1af3da3d",
   "metadata": {},
   "outputs": [],
   "source": [
    "import pandas as pd"
   ]
  },
  {
   "cell_type": "code",
   "execution_count": 2,
   "id": "570c7f97",
   "metadata": {},
   "outputs": [
    {
     "data": {
      "text/html": [
       "<div>\n",
       "<style scoped>\n",
       "    .dataframe tbody tr th:only-of-type {\n",
       "        vertical-align: middle;\n",
       "    }\n",
       "\n",
       "    .dataframe tbody tr th {\n",
       "        vertical-align: top;\n",
       "    }\n",
       "\n",
       "    .dataframe thead th {\n",
       "        text-align: right;\n",
       "    }\n",
       "</style>\n",
       "<table border=\"1\" class=\"dataframe\">\n",
       "  <thead>\n",
       "    <tr style=\"text-align: right;\">\n",
       "      <th></th>\n",
       "      <th>A</th>\n",
       "      <th>B</th>\n",
       "    </tr>\n",
       "  </thead>\n",
       "  <tbody>\n",
       "    <tr>\n",
       "      <th>1st</th>\n",
       "      <td>1</td>\n",
       "      <td>2</td>\n",
       "    </tr>\n",
       "    <tr>\n",
       "      <th>2nd</th>\n",
       "      <td>3</td>\n",
       "      <td>4</td>\n",
       "    </tr>\n",
       "  </tbody>\n",
       "</table>\n",
       "</div>"
      ],
      "text/plain": [
       "     A  B\n",
       "1st  1  2\n",
       "2nd  3  4"
      ]
     },
     "execution_count": 2,
     "metadata": {},
     "output_type": "execute_result"
    }
   ],
   "source": [
    "df = pd.DataFrame([[1,2], [3,4]],\n",
    "                 index = [\"1st\", \"2nd\"],\n",
    "                 columns = [\"A\", \"B\"])\n",
    "df"
   ]
  },
  {
   "cell_type": "code",
   "execution_count": 4,
   "id": "7d436406",
   "metadata": {},
   "outputs": [],
   "source": [
    "import pickle\n",
    "with open('mydf.bin', 'wb') as file:\n",
    "    pickle.dump(df, file)"
   ]
  },
  {
   "cell_type": "code",
   "execution_count": null,
   "id": "1788d5b3",
   "metadata": {},
   "outputs": [],
   "source": []
  }
 ],
 "metadata": {
  "kernelspec": {
   "display_name": "Python 3 (ipykernel)",
   "language": "python",
   "name": "python3"
  },
  "language_info": {
   "codemirror_mode": {
    "name": "ipython",
    "version": 3
   },
   "file_extension": ".py",
   "mimetype": "text/x-python",
   "name": "python",
   "nbconvert_exporter": "python",
   "pygments_lexer": "ipython3",
   "version": "3.8.17"
  }
 },
 "nbformat": 4,
 "nbformat_minor": 5
}
