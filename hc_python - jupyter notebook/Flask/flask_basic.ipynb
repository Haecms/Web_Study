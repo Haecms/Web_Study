{
 "cells": [
  {
   "cell_type": "code",
   "execution_count": 2,
   "id": "d82bfcb7",
   "metadata": {},
   "outputs": [],
   "source": [
    "#!pip install flask"
   ]
  },
  {
   "cell_type": "code",
   "execution_count": null,
   "id": "d6b4d0e6",
   "metadata": {},
   "outputs": [],
   "source": [
    "# 파이썬 서버 종류: flask vs django(디장고 x 장고 o)\n",
    "# IP(인터넷 주소 IPv4 (32bit) 0~255.0~255.0~255.0~255) IP주소 확인은 cmd -> ipconfig\n",
    "# 192.168. ~. ~: 사설 IP\n",
    "# 공인 IP: 시작이 192.168로 시작하지 않으면 공인 IP\n",
    "# 로컬 주소: 127.0.0.1(localhost)\n",
    "# 방송 주소: 0.0.0.0\n",
    "# IPv6(128bit)"
   ]
  },
  {
   "cell_type": "code",
   "execution_count": 7,
   "id": "23f2c7a6",
   "metadata": {},
   "outputs": [
    {
     "name": "stdout",
     "output_type": "stream",
     "text": [
      " * Serving Flask app '__main__'\n",
      " * Debug mode: on\n"
     ]
    },
    {
     "name": "stderr",
     "output_type": "stream",
     "text": [
      "WARNING: This is a development server. Do not use it in a production deployment. Use a production WSGI server instead.\n",
      " * Running on http://192.168.0.112:5000\n",
      "Press CTRL+C to quit\n",
      " * Restarting with stat\n"
     ]
    },
    {
     "ename": "SystemExit",
     "evalue": "1",
     "output_type": "error",
     "traceback": [
      "An exception has occurred, use %tb to see the full traceback.\n",
      "\u001b[1;31mSystemExit\u001b[0m\u001b[1;31m:\u001b[0m 1\n"
     ]
    },
    {
     "name": "stderr",
     "output_type": "stream",
     "text": [
      "C:\\ProgramData\\miniconda3\\envs\\smart\\lib\\site-packages\\IPython\\core\\interactiveshell.py:3516: UserWarning: To exit: use 'exit', 'quit', or Ctrl-D.\n",
      "  warn(\"To exit: use 'exit', 'quit', or Ctrl-D.\", stacklevel=1)\n"
     ]
    }
   ],
   "source": [
    "from flask import Flask\n",
    "\n",
    "app = Flask(__name__)\n",
    "\n",
    "@app.route(\"/\")\n",
    "def home():\n",
    "    return \"조해찬 입니다 ㅍㅋㅍㅋ\"\n",
    "\n",
    "app.run(host=\"192.168.0.112\", port=5000, debug=True)"
   ]
  },
  {
   "cell_type": "code",
   "execution_count": 6,
   "id": "bb75c102",
   "metadata": {},
   "outputs": [
    {
     "data": {
      "text/plain": [
       "340282366920938463463374607431768211456"
      ]
     },
     "execution_count": 6,
     "metadata": {},
     "output_type": "execute_result"
    }
   ],
   "source": [
    "2**128"
   ]
  },
  {
   "cell_type": "code",
   "execution_count": null,
   "id": "a38824e1",
   "metadata": {},
   "outputs": [],
   "source": [
    "3402823669209384634633746074317 6821 1456"
   ]
  }
 ],
 "metadata": {
  "kernelspec": {
   "display_name": "Python 3 (ipykernel)",
   "language": "python",
   "name": "python3"
  },
  "language_info": {
   "codemirror_mode": {
    "name": "ipython",
    "version": 3
   },
   "file_extension": ".py",
   "mimetype": "text/x-python",
   "name": "python",
   "nbconvert_exporter": "python",
   "pygments_lexer": "ipython3",
   "version": "3.8.17"
  }
 },
 "nbformat": 4,
 "nbformat_minor": 5
}
