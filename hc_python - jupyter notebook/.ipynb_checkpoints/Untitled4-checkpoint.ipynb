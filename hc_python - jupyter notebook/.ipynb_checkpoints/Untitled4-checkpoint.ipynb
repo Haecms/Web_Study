{
 "cells": [
  {
   "cell_type": "code",
   "execution_count": 23,
   "id": "013aa5e6",
   "metadata": {},
   "outputs": [
    {
     "data": {
      "text/html": [
       "<div>\n",
       "<style scoped>\n",
       "    .dataframe tbody tr th:only-of-type {\n",
       "        vertical-align: middle;\n",
       "    }\n",
       "\n",
       "    .dataframe tbody tr th {\n",
       "        vertical-align: top;\n",
       "    }\n",
       "\n",
       "    .dataframe thead th {\n",
       "        text-align: right;\n",
       "    }\n",
       "</style>\n",
       "<table border=\"1\" class=\"dataframe\">\n",
       "  <thead>\n",
       "    <tr style=\"text-align: right;\">\n",
       "      <th></th>\n",
       "      <th>D</th>\n",
       "      <th>A</th>\n",
       "    </tr>\n",
       "  </thead>\n",
       "  <tbody>\n",
       "    <tr>\n",
       "      <th>D</th>\n",
       "      <td>72</td>\n",
       "      <td>19</td>\n",
       "    </tr>\n",
       "    <tr>\n",
       "      <th>A</th>\n",
       "      <td>17</td>\n",
       "      <td>35</td>\n",
       "    </tr>\n",
       "  </tbody>\n",
       "</table>\n",
       "</div>"
      ],
      "text/plain": [
       "    D   A\n",
       "D  72  19\n",
       "A  17  35"
      ]
     },
     "execution_count": 23,
     "metadata": {},
     "output_type": "execute_result"
    }
   ],
   "source": [
    "from sklearn.model_selection import train_test_split\n",
    "import pandas as pd\n",
    "from sklearn.metrics import f1_score, accuracy_score, confusion_matrix, precision_score, recall_score\n",
    "\n",
    "#!pip install seaborn\n",
    "import seaborn as sns\n",
    "df = sns.load_dataset(\"titanic\") # 데이터 로드\n",
    "df3 = df[[\"survived\", \"pclass\", \"sex\", \"age\", \"sibsp\",  \"parch\", \"fare\"]] # 컬럼 선택\n",
    "df3 = df3.dropna() # 불필요한 데이터 삭제\n",
    "sex_df = pd.get_dummies(df3[\"sex\"]) # 성별 항목 One hot Encoding\n",
    "titanic = pd.concat([df3, sex_df], axis=1) #d3, sex_df 합치기\n",
    "del titanic[\"sex\"] # 성별 항목 지우기\n",
    "y = titanic[\"survived\"]\n",
    "del titanic[\"survived\"]\n",
    "x = titanic # X, Y 갈라내기\n",
    "\n",
    "X_train, X_test, y_train, y_test = train_test_split(\n",
    "    x, y, test_size=0.2, random_state=300)\n",
    "\n",
    "from sklearn.tree import DecisionTreeClassifier # 머신러닝 알고리즘 선택\n",
    "dt = DecisionTreeClassifier()\n",
    "dt.fit(X_train, y_train) # (머신러닝 알고리즘)훈련\n",
    "y_pred = dt.predict(X_test)\n",
    "\n",
    "cm = confusion_matrix(y_test, y_pred)\n",
    "cm_df = pd.DataFrame(cm, index= [\"D\", \"A\"], columns = [\"D\", \"A\"])\n",
    "cm_df"
   ]
  },
  {
   "cell_type": "code",
   "execution_count": 24,
   "id": "8031dda9",
   "metadata": {},
   "outputs": [
    {
     "data": {
      "text/plain": [
       "(0.7482517482517482, 0.7482517482517482)"
      ]
     },
     "execution_count": 24,
     "metadata": {},
     "output_type": "execute_result"
    }
   ],
   "source": [
    "accuracy_score(y_test, y_pred), (72+35)/cm_df.sum().sum()"
   ]
  },
  {
   "cell_type": "code",
   "execution_count": 25,
   "id": "70495ee0",
   "metadata": {},
   "outputs": [],
   "source": [
    "# recall, precision : 참이라는 ML의 답변을 얼마나 믿어도 되나?\n",
    "#                     둘은 상호 trading"
   ]
  },
  {
   "cell_type": "code",
   "execution_count": 26,
   "id": "c98e096d",
   "metadata": {},
   "outputs": [
    {
     "data": {
      "text/plain": [
       "(0.6481481481481481, 0.6481481481481481)"
      ]
     },
     "execution_count": 26,
     "metadata": {},
     "output_type": "execute_result"
    }
   ],
   "source": [
    "precision = precision_score(y_test, y_pred)# Positive 중에서 정답 맞춘 Positive 인 것 (1로 출력된 것) (세로)\n",
    "                                            # 구조된 사람 중에서 구조 될 거라고 맞춘 확률\n",
    "                                            # 19: 실제로는 살 건데 죽을거라 판정\n",
    "                                            # precision이 증가하면, 아까운 포기를 예방\n",
    "precision, 35/(19+35) "
   ]
  },
  {
   "cell_type": "code",
   "execution_count": 27,
   "id": "b25df0ce",
   "metadata": {},
   "outputs": [
    {
     "data": {
      "text/plain": [
       "(0.6730769230769231, 0.6730769230769231)"
      ]
     },
     "execution_count": 27,
     "metadata": {},
     "output_type": "execute_result"
    }
   ],
   "source": [
    "recall = recall_score(y_test, y_pred)# Positive 답 중에서 정말 맞춘 것 (가로)\n",
    "                                     # 구조될거라 답했는데 정말 구조된 확률\n",
    "                                     # 17은 구조되지 않을거라 답했는데 구조된 숫자\n",
    "                                     # recall이 커지면 헛된 기대\n",
    "recall, 35/(35+17) "
   ]
  },
  {
   "cell_type": "code",
   "execution_count": 28,
   "id": "f736d18b",
   "metadata": {},
   "outputs": [
    {
     "data": {
      "text/plain": [
       "0.6603773584905661"
      ]
     },
     "execution_count": 28,
     "metadata": {},
     "output_type": "execute_result"
    }
   ],
   "source": [
    "f1_score(y_test, y_pred)"
   ]
  },
  {
   "cell_type": "code",
   "execution_count": 30,
   "id": "fbcdf681",
   "metadata": {},
   "outputs": [
    {
     "data": {
      "text/plain": [
       "0.6603773584905661"
      ]
     },
     "execution_count": 30,
     "metadata": {},
     "output_type": "execute_result"
    }
   ],
   "source": [
    "# recall, precision 조화평균 왜 쓰는걸까 공부를 합시다\n",
    "2 * precision * recall/(precision + recall)"
   ]
  },
  {
   "cell_type": "code",
   "execution_count": 31,
   "id": "2b11ca68",
   "metadata": {},
   "outputs": [
    {
     "data": {
      "text/plain": [
       "(0.500005, 1.999980000199998e-05)"
      ]
     },
     "execution_count": 31,
     "metadata": {},
     "output_type": "execute_result"
    }
   ],
   "source": [
    "# f1의 의미 사례 recall 1 precision 0.00001\n",
    "recall = 1\n",
    "precision = 0.00001\n",
    "산술평균 = (recall+precision)/2.0\n",
    "조화평균 = 2 * precision * recall/(precision + recall)\n",
    "산술평균, 조화평균"
   ]
  },
  {
   "cell_type": "code",
   "execution_count": null,
   "id": "55b5ef73",
   "metadata": {},
   "outputs": [],
   "source": []
  },
  {
   "cell_type": "code",
   "execution_count": null,
   "id": "5cff4ae9",
   "metadata": {},
   "outputs": [],
   "source": []
  },
  {
   "cell_type": "code",
   "execution_count": null,
   "id": "810711d6",
   "metadata": {},
   "outputs": [],
   "source": []
  },
  {
   "cell_type": "code",
   "execution_count": null,
   "id": "cfe9d943",
   "metadata": {},
   "outputs": [],
   "source": []
  },
  {
   "cell_type": "code",
   "execution_count": 39,
   "id": "40945a32",
   "metadata": {},
   "outputs": [
    {
     "name": "stdout",
     "output_type": "stream",
     "text": [
      "[[0.83613605 0.16386395]\n",
      " [0.8521657  0.1478343 ]\n",
      " [0.27563781 0.72436219]\n",
      " [0.74344408 0.25655592]\n",
      " [0.13307433 0.86692567]]\n",
      "[0 0 1 0 1]\n"
     ]
    }
   ],
   "source": [
    "from sklearn.linear_model import LogisticRegression\n",
    "lr_model = LogisticRegression(max_iter = 5000) # max_iter는 시행착오의 기회를 더 늘려줌 / 부족하면 빨간글씨 나옴\n",
    "lr_model.fit(X_train, y_train)\n",
    "y_pred_proba = lr_model.predict_proba(X_test) # 0아 될 확률 / 1이 될 확률\n",
    "print(y_pred_proba[:5])\n",
    "y_pred = lr_model.predict(X_test)\n",
    "print(y_pred[:5])"
   ]
  },
  {
   "cell_type": "code",
   "execution_count": 32,
   "id": "728294f8",
   "metadata": {},
   "outputs": [],
   "source": [
    "from sklearn.preprocessing import Binarizer"
   ]
  },
  {
   "cell_type": "code",
   "execution_count": 33,
   "id": "b37527ac",
   "metadata": {},
   "outputs": [
    {
     "data": {
      "text/plain": [
       "array([[0., 0., 1.],\n",
       "       [1., 0., 0.],\n",
       "       [0., 0., 1.]])"
      ]
     },
     "execution_count": 33,
     "metadata": {},
     "output_type": "execute_result"
    }
   ],
   "source": [
    "X = [\n",
    "    [1, -1, 2],\n",
    "    [2, 0, 0],\n",
    "    [0, 1.1, 1.2]\n",
    "]\n",
    "binarizer = Binarizer(threshold = 1.1) # 1.1 이하는 전부 0 처리 (2진화?)\n",
    "binarizer.fit_transform(X)"
   ]
  },
  {
   "cell_type": "code",
   "execution_count": 41,
   "id": "a933fe1e",
   "metadata": {},
   "outputs": [],
   "source": [
    "my_thresh = 0.5\n",
    "y_pred_proba_1 = y_pred_proba[:,1].reshape(-1, 1)\n",
    "my_bin = Binarizer(threshold = my_thresh).fit(y_pred_proba_1)\n",
    "y_pred_bin = my_bin.transform(y_pred_proba_1)"
   ]
  },
  {
   "cell_type": "code",
   "execution_count": 42,
   "id": "387a5556",
   "metadata": {},
   "outputs": [
    {
     "data": {
      "text/plain": [
       "(array([0, 0, 1, 0, 1, 0, 1, 0, 0, 0], dtype=int64),\n",
       " array([0., 0., 1., 0., 1., 0., 1., 0., 0., 0.]))"
      ]
     },
     "execution_count": 42,
     "metadata": {},
     "output_type": "execute_result"
    }
   ],
   "source": [
    "y_pred[:10], y_pred_bin[:10].flatten()"
   ]
  },
  {
   "cell_type": "code",
   "execution_count": 44,
   "id": "5ff02f04",
   "metadata": {},
   "outputs": [
    {
     "data": {
      "text/plain": [
       "'소수아래 4자리 0.1235'"
      ]
     },
     "execution_count": 44,
     "metadata": {},
     "output_type": "execute_result"
    }
   ],
   "source": [
    "a = 0.123456789\n",
    "f\"소수아래 4자리 {a:.4}\""
   ]
  },
  {
   "cell_type": "code",
   "execution_count": 50,
   "id": "2225a06e",
   "metadata": {},
   "outputs": [],
   "source": [
    "def get_model_scores(y_test, y_pred, threshold=0.5): #정답과 답안이 있을 때 채점해주는 함수\n",
    "    cm = confusion_matrix(y_test, y_pred)\n",
    "    acc = accuracy_score(y_test, y_pred)\n",
    "    pres = precision_score(y_test, y_pred)\n",
    "    recall = recall_score(y_test, y_pred)\n",
    "    print(\"-\"*50)\n",
    "    print(f\"threshold: {threshold}\")\n",
    "    print(\"오차(혼돈) 행렬\")\n",
    "    print(cm)\n",
    "    print(f\"정확도: {acc:.4}, 정밀도: {pres:.4}, 재현율: {recall:.4}\")"
   ]
  },
  {
   "cell_type": "code",
   "execution_count": 51,
   "id": "3eb2e399",
   "metadata": {},
   "outputs": [
    {
     "name": "stdout",
     "output_type": "stream",
     "text": [
      "--------------------------------------------------\n",
      "threshold: 0.5\n",
      "오차(혼돈) 행렬\n",
      "[[73 18]\n",
      " [10 42]]\n",
      "정확도: 0.8042, 정밀도: 0.7, 재현율: 0.8077\n"
     ]
    }
   ],
   "source": [
    "get_model_scores(y_test, y_pred)"
   ]
  },
  {
   "cell_type": "code",
   "execution_count": 53,
   "id": "48fd9684",
   "metadata": {},
   "outputs": [
    {
     "name": "stdout",
     "output_type": "stream",
     "text": [
      "--------------------------------------------------\n",
      "threshold: 0.4\n",
      "오차(혼돈) 행렬\n",
      "[[70 21]\n",
      " [ 9 43]]\n",
      "정확도: 0.7902, 정밀도: 0.6719, 재현율: 0.8269\n",
      "--------------------------------------------------\n",
      "threshold: 0.45\n",
      "오차(혼돈) 행렬\n",
      "[[73 18]\n",
      " [ 9 43]]\n",
      "정확도: 0.8112, 정밀도: 0.7049, 재현율: 0.8269\n",
      "--------------------------------------------------\n",
      "threshold: 0.5\n",
      "오차(혼돈) 행렬\n",
      "[[73 18]\n",
      " [10 42]]\n",
      "정확도: 0.8042, 정밀도: 0.7, 재현율: 0.8077\n",
      "--------------------------------------------------\n",
      "threshold: 0.55\n",
      "오차(혼돈) 행렬\n",
      "[[75 16]\n",
      " [13 39]]\n",
      "정확도: 0.7972, 정밀도: 0.7091, 재현율: 0.75\n",
      "--------------------------------------------------\n",
      "threshold: 0.6\n",
      "오차(혼돈) 행렬\n",
      "[[79 12]\n",
      " [13 39]]\n",
      "정확도: 0.8252, 정밀도: 0.7647, 재현율: 0.75\n"
     ]
    }
   ],
   "source": [
    "thresholds = [0.4, 0.45, 0.5, 0.55, 0.6]\n",
    "for threshold in thresholds:\n",
    "    my_bin = Binarizer(threshold=threshold).fit(y_pred_proba_1)\n",
    "    y_pred = my_bin.transform(y_pred_proba_1)\n",
    "    get_model_scores(y_test, y_pred, threshold)\n",
    "    "
   ]
  },
  {
   "cell_type": "code",
   "execution_count": 58,
   "id": "5c4e330b",
   "metadata": {},
   "outputs": [
    {
     "data": {
      "text/plain": [
       "((143,), (143,), (142,))"
      ]
     },
     "execution_count": 58,
     "metadata": {},
     "output_type": "execute_result"
    }
   ],
   "source": [
    "from sklearn.metrics import precision_recall_curve\n",
    "y_pred_proba_class1 = lr_model.predict_proba(X_test)[:, 1]\n",
    "precisions, recalls, thresholds = precision_recall_curve(y_test, y_pred_proba_class1)\n",
    "precisions.shape, recalls.shape, thresholds.shape # 임계값?"
   ]
  },
  {
   "cell_type": "code",
   "execution_count": 59,
   "id": "bb46d846",
   "metadata": {},
   "outputs": [
    {
     "name": "stdout",
     "output_type": "stream",
     "text": [
      "threshold 임계값 10개: [0.0420566  0.04867563 0.05477234 0.05680985]\n",
      "precisions 10개: [0.36363636 0.36619718 0.36879433 0.37142857]\n",
      "recalls 10개: [1. 1. 1. 1.]\n"
     ]
    }
   ],
   "source": [
    "print(\"threshold 임계값 10개:\", thresholds[:4])\n",
    "print(\"precisions 10개:\", precisions[:4])\n",
    "print(\"recalls 10개:\", recalls[:4])"
   ]
  },
  {
   "cell_type": "code",
   "execution_count": 60,
   "id": "2442363a",
   "metadata": {},
   "outputs": [],
   "source": [
    "import matplotlib.pyplot as plt\n",
    "import matplotlib.ticker as ticker"
   ]
  },
  {
   "cell_type": "code",
   "execution_count": 65,
   "id": "f7d2658a",
   "metadata": {},
   "outputs": [
    {
     "data": {
      "image/png": "[encoded data removed]",
      "text/plain": [
       "<Figure size 800x600 with 1 Axes>"
      ]
     },
     "metadata": {},
     "output_type": "display_data"
    }
   ],
   "source": [
    "def precision_recall_curve_plot(y_test, y_pred_proba_class1):\n",
    "    precisions, recalls, thresholds = precision_recall_curve(y_test, y_pred_proba_class1)\n",
    "    plt.figure(figsize=(8,6))\n",
    "    thresholds_boundary = thresholds.shape[0] # 쉐입 몇 개인지 갯수 가져옴\n",
    "    plt.plot(thresholds, precisions[0:thresholds_boundary], \n",
    "             c=\"red\", label=\"precisions\")\n",
    "    plt.plot(thresholds, recalls[0:thresholds_boundary], \n",
    "             c=\"blue\", label=\"recalls\")\n",
    "    plt.xlabel(\"thresholds\");\n",
    "    plt.ylabel(\"precisions(red) and recalls(blue)\");\n",
    "    plt.legend() # 선이 어떤 선인지 라벨링 해줌\n",
    "    plt.grid() # 그리드 형식으로 선 생김\n",
    "    \n",
    "precision_recall_curve_plot(y_test, lr_model.predict_proba(X_test)[:,1])"
   ]
  },
  {
   "cell_type": "code",
   "execution_count": 73,
   "id": "b552ae10",
   "metadata": {},
   "outputs": [
    {
     "data": {
      "image/png": "[encoded data removed]",
      "text/plain": [
       "<Figure size 640x480 with 1 Axes>"
      ]
     },
     "metadata": {},
     "output_type": "display_data"
    }
   ],
   "source": [
    "#roc curve (ROC: Receiver Operating Characteristic)\n",
    "# fprs: false positive rates\n",
    "# tprs: true positive rates\n",
    "from sklearn.metrics import roc_curve\n",
    "def roc_curve_plot(y_test, y_pred_proba_c1):\n",
    "    fprs, tprs, thresholds = roc_curve(y_test, y_pred_proba_c1)\n",
    "    plt.plot(fprs, tprs, label=\"ROC\") # fprs = X 축 / tprs = Y축 여기까지가 기본\n",
    "    \n",
    "    plt.plot([0,1], [0,1], 'r--') # 보조선 그음 (0,0에서 1,1로 그음)\n",
    "    plt.xlabel(\"false positive rates\")\n",
    "    plt.ylabel(\"true positive rates\")\n",
    "    \n",
    "roc_curve_plot(y_test, lr_model.predict_proba(X_test)[:, 1])"
   ]
  },
  {
   "cell_type": "code",
   "execution_count": 74,
   "id": "e08fb0a5",
   "metadata": {},
   "outputs": [],
   "source": [
    "from sklearn.metrics import roc_auc_score"
   ]
  },
  {
   "cell_type": "code",
   "execution_count": 76,
   "id": "bf041f0a",
   "metadata": {},
   "outputs": [
    {
     "data": {
      "text/plain": [
       "0.8710904480135249"
      ]
     },
     "execution_count": 76,
     "metadata": {},
     "output_type": "execute_result"
    }
   ],
   "source": [
    "y_pred_proba = lr_model.predict_proba(X_test)[:, 1]\n",
    "roc_auc_score(y_test, y_pred_proba) #파란색의 면적 넓이"
   ]
  },
  {
   "cell_type": "code",
   "execution_count": null,
   "id": "ac59a9ed",
   "metadata": {},
   "outputs": [],
   "source": []
  },
  {
   "cell_type": "code",
   "execution_count": 3,
   "id": "c05e3ce5",
   "metadata": {},
   "outputs": [],
   "source": [
    "from sklearn.tree import DecisionTreeClassifier\n",
    "from sklearn.datasets import load_iris\n",
    "from sklearn.model_selection import train_test_split"
   ]
  },
  {
   "cell_type": "code",
   "execution_count": 4,
   "id": "2cdeccc5",
   "metadata": {},
   "outputs": [
    {
     "data": {
      "text/html": [
       "<style>#sk-container-id-1 {color: black;}#sk-container-id-1 pre{padding: 0;}#sk-container-id-1 div.sk-toggleable {background-color: white;}#sk-container-id-1 label.sk-toggleable__label {cursor: pointer;display: block;width: 100%;margin-bottom: 0;padding: 0.3em;box-sizing: border-box;text-align: center;}#sk-container-id-1 label.sk-toggleable__label-arrow:before {content: \"▸\";float: left;margin-right: 0.25em;color: #696969;}#sk-container-id-1 label.sk-toggleable__label-arrow:hover:before {color: black;}#sk-container-id-1 div.sk-estimator:hover label.sk-toggleable__label-arrow:before {color: black;}#sk-container-id-1 div.sk-toggleable__content {max-height: 0;max-width: 0;overflow: hidden;text-align: left;background-color: #f0f8ff;}#sk-container-id-1 div.sk-toggleable__content pre {margin: 0.2em;color: black;border-radius: 0.25em;background-color: #f0f8ff;}#sk-container-id-1 input.sk-toggleable__control:checked~div.sk-toggleable__content {max-height: 200px;max-width: 100%;overflow: auto;}#sk-container-id-1 input.sk-toggleable__control:checked~label.sk-toggleable__label-arrow:before {content: \"▾\";}#sk-container-id-1 div.sk-estimator input.sk-toggleable__control:checked~label.sk-toggleable__label {background-color: #d4ebff;}#sk-container-id-1 div.sk-label input.sk-toggleable__control:checked~label.sk-toggleable__label {background-color: #d4ebff;}#sk-container-id-1 input.sk-hidden--visually {border: 0;clip: rect(1px 1px 1px 1px);clip: rect(1px, 1px, 1px, 1px);height: 1px;margin: -1px;overflow: hidden;padding: 0;position: absolute;width: 1px;}#sk-container-id-1 div.sk-estimator {font-family: monospace;background-color: #f0f8ff;border: 1px dotted black;border-radius: 0.25em;box-sizing: border-box;margin-bottom: 0.5em;}#sk-container-id-1 div.sk-estimator:hover {background-color: #d4ebff;}#sk-container-id-1 div.sk-parallel-item::after {content: \"\";width: 100%;border-bottom: 1px solid gray;flex-grow: 1;}#sk-container-id-1 div.sk-label:hover label.sk-toggleable__label {background-color: #d4ebff;}#sk-container-id-1 div.sk-serial::before {content: \"\";position: absolute;border-left: 1px solid gray;box-sizing: border-box;top: 0;bottom: 0;left: 50%;z-index: 0;}#sk-container-id-1 div.sk-serial {display: flex;flex-direction: column;align-items: center;background-color: white;padding-right: 0.2em;padding-left: 0.2em;position: relative;}#sk-container-id-1 div.sk-item {position: relative;z-index: 1;}#sk-container-id-1 div.sk-parallel {display: flex;align-items: stretch;justify-content: center;background-color: white;position: relative;}#sk-container-id-1 div.sk-item::before, #sk-container-id-1 div.sk-parallel-item::before {content: \"\";position: absolute;border-left: 1px solid gray;box-sizing: border-box;top: 0;bottom: 0;left: 50%;z-index: -1;}#sk-container-id-1 div.sk-parallel-item {display: flex;flex-direction: column;z-index: 1;position: relative;background-color: white;}#sk-container-id-1 div.sk-parallel-item:first-child::after {align-self: flex-end;width: 50%;}#sk-container-id-1 div.sk-parallel-item:last-child::after {align-self: flex-start;width: 50%;}#sk-container-id-1 div.sk-parallel-item:only-child::after {width: 0;}#sk-container-id-1 div.sk-dashed-wrapped {border: 1px dashed gray;margin: 0 0.4em 0.5em 0.4em;box-sizing: border-box;padding-bottom: 0.4em;background-color: white;}#sk-container-id-1 div.sk-label label {font-family: monospace;font-weight: bold;display: inline-block;line-height: 1.2em;}#sk-container-id-1 div.sk-label-container {text-align: center;}#sk-container-id-1 div.sk-container {/* jupyter's `normalize.less` sets `[hidden] { display: none; }` but bootstrap.min.css set `[hidden] { display: none !important; }` so we also need the `!important` here to be able to override the default hidden behavior on the sphinx rendered scikit-learn.org. See: https://github.com/scikit-learn/scikit-learn/issues/21755 */display: inline-block !important;position: relative;}#sk-container-id-1 div.sk-text-repr-fallback {display: none;}</style><div id=\"sk-container-id-1\" class=\"sk-top-container\"><div class=\"sk-text-repr-fallback\"><pre>DecisionTreeClassifier(random_state=156)</pre><b>In a Jupyter environment, please rerun this cell to show the HTML representation or trust the notebook. <br />On GitHub, the HTML representation is unable to render, please try loading this page with nbviewer.org.</b></div><div class=\"sk-container\" hidden><div class=\"sk-item\"><div class=\"sk-estimator sk-toggleable\"><input class=\"sk-toggleable__control sk-hidden--visually\" id=\"sk-estimator-id-1\" type=\"checkbox\" checked><label for=\"sk-estimator-id-1\" class=\"sk-toggleable__label sk-toggleable__label-arrow\">DecisionTreeClassifier</label><div class=\"sk-toggleable__content\"><pre>DecisionTreeClassifier(random_state=156)</pre></div></div></div></div></div>"
      ],
      "text/plain": [
       "DecisionTreeClassifier(random_state=156)"
      ]
     },
     "execution_count": 4,
     "metadata": {},
     "output_type": "execute_result"
    }
   ],
   "source": [
    "dt_model = DecisionTreeClassifier(random_state=156)\n",
    "iris = load_iris()\n",
    "X_train, X_test, y_train, y_test = train_test_split(iris.data, iris.target, \n",
    "                                                    test_size=0.2, random_state = 11)\n",
    "dt_model.fit(X_train, y_train)"
   ]
  },
  {
   "cell_type": "code",
   "execution_count": 5,
   "id": "d2aba771",
   "metadata": {},
   "outputs": [],
   "source": [
    "from sklearn.tree import export_graphviz\n",
    "export_graphviz(dt_model, out_file=\"tree.dot\", class_names = iris.target_names,\n",
    "               feature_names=iris.feature_names, impurity=True, filled=True)"
   ]
  },
  {
   "cell_type": "code",
   "execution_count": 6,
   "id": "64bc2569",
   "metadata": {},
   "outputs": [
    {
     "data": {
      "image/svg+xml": [
       "<?xml version=\"1.0\" encoding=\"UTF-8\" standalone=\"no\"?>\n",
       "<!DOCTYPE svg PUBLIC \"-//W3C//DTD SVG 1.1//EN\"\n",
       " \"http://www.w3.org/Graphics/SVG/1.1/DTD/svg11.dtd\">\n",
       "<!-- Generated by graphviz version 8.1.0 (20230707.0739)\n",
       " -->\n",
       "<!-- Title: Tree Pages: 1 -->\n",
       "<svg width=\"807pt\" height=\"715pt\"\n",
       " viewBox=\"0.00 0.00 807.25 714.50\" xmlns=\"http://www.w3.org/2000/svg\" xmlns:xlink=\"http://www.w3.org/1999/xlink\">\n",
       "<g id=\"graph0\" class=\"graph\" transform=\"scale(1 1) rotate(0) translate(4 710.5)\">\n",
       "<title>Tree</title>\n",
       "<polygon fill=\"white\" stroke=\"none\" points=\"-4,4 -4,-710.5 803.25,-710.5 803.25,4 -4,4\"/>\n",
       "<!-- 0 -->\n",
       "<g id=\"node1\" class=\"node\">\n",
       "<title>0</title>\n",
       "<polygon fill=\"#fffdfd\" stroke=\"black\" points=\"295.88,-706.5 122.38,-706.5 122.38,-616 295.88,-616 295.88,-706.5\"/>\n",
       "<text text-anchor=\"middle\" x=\"209.12\" y=\"-689.2\" font-family=\"Helvetica,sans-Serif\" font-size=\"14.00\">petal length (cm) &lt;= 2.45</text>\n",
       "<text text-anchor=\"middle\" x=\"209.12\" y=\"-672.7\" font-family=\"Helvetica,sans-Serif\" font-size=\"14.00\">gini = 0.667</text>\n",
       "<text text-anchor=\"middle\" x=\"209.12\" y=\"-656.2\" font-family=\"Helvetica,sans-Serif\" font-size=\"14.00\">samples = 120</text>\n",
       "<text text-anchor=\"middle\" x=\"209.12\" y=\"-639.7\" font-family=\"Helvetica,sans-Serif\" font-size=\"14.00\">value = [41, 40, 39]</text>\n",
       "<text text-anchor=\"middle\" x=\"209.12\" y=\"-623.2\" font-family=\"Helvetica,sans-Serif\" font-size=\"14.00\">class = setosa</text>\n",
       "</g>\n",
       "<!-- 1 -->\n",
       "<g id=\"node2\" class=\"node\">\n",
       "<title>1</title>\n",
       "<polygon fill=\"#e58139\" stroke=\"black\" points=\"188.25,-571.75 68,-571.75 68,-497.75 188.25,-497.75 188.25,-571.75\"/>\n",
       "<text text-anchor=\"middle\" x=\"128.12\" y=\"-554.45\" font-family=\"Helvetica,sans-Serif\" font-size=\"14.00\">gini = 0.0</text>\n",
       "<text text-anchor=\"middle\" x=\"128.12\" y=\"-537.95\" font-family=\"Helvetica,sans-Serif\" font-size=\"14.00\">samples = 41</text>\n",
       "<text text-anchor=\"middle\" x=\"128.12\" y=\"-521.45\" font-family=\"Helvetica,sans-Serif\" font-size=\"14.00\">value = [41, 0, 0]</text>\n",
       "<text text-anchor=\"middle\" x=\"128.12\" y=\"-504.95\" font-family=\"Helvetica,sans-Serif\" font-size=\"14.00\">class = setosa</text>\n",
       "</g>\n",
       "<!-- 0&#45;&gt;1 -->\n",
       "<g id=\"edge1\" class=\"edge\">\n",
       "<title>0&#45;&gt;1</title>\n",
       "<path fill=\"none\" stroke=\"black\" d=\"M180.11,-615.65C172.73,-604.31 164.8,-592.12 157.41,-580.76\"/>\n",
       "<polygon fill=\"black\" stroke=\"black\" points=\"160,-579.33 151.62,-572.86 154.14,-583.15 160,-579.33\"/>\n",
       "<text text-anchor=\"middle\" x=\"146.44\" y=\"-591.26\" font-family=\"Helvetica,sans-Serif\" font-size=\"14.00\">True</text>\n",
       "</g>\n",
       "<!-- 2 -->\n",
       "<g id=\"node3\" class=\"node\">\n",
       "<title>2</title>\n",
       "<polygon fill=\"#fafefc\" stroke=\"black\" points=\"373.88,-580 206.38,-580 206.38,-489.5 373.88,-489.5 373.88,-580\"/>\n",
       "<text text-anchor=\"middle\" x=\"290.12\" y=\"-562.7\" font-family=\"Helvetica,sans-Serif\" font-size=\"14.00\">petal width (cm) &lt;= 1.55</text>\n",
       "<text text-anchor=\"middle\" x=\"290.12\" y=\"-546.2\" font-family=\"Helvetica,sans-Serif\" font-size=\"14.00\">gini = 0.5</text>\n",
       "<text text-anchor=\"middle\" x=\"290.12\" y=\"-529.7\" font-family=\"Helvetica,sans-Serif\" font-size=\"14.00\">samples = 79</text>\n",
       "<text text-anchor=\"middle\" x=\"290.12\" y=\"-513.2\" font-family=\"Helvetica,sans-Serif\" font-size=\"14.00\">value = [0, 40, 39]</text>\n",
       "<text text-anchor=\"middle\" x=\"290.12\" y=\"-496.7\" font-family=\"Helvetica,sans-Serif\" font-size=\"14.00\">class = versicolor</text>\n",
       "</g>\n",
       "<!-- 0&#45;&gt;2 -->\n",
       "<g id=\"edge2\" class=\"edge\">\n",
       "<title>0&#45;&gt;2</title>\n",
       "<path fill=\"none\" stroke=\"black\" d=\"M238.14,-615.65C243.66,-607.16 249.5,-598.19 255.19,-589.45\"/>\n",
       "<polygon fill=\"black\" stroke=\"black\" points=\"258.52,-591.74 261.04,-581.45 252.65,-587.93 258.52,-591.74\"/>\n",
       "<text text-anchor=\"middle\" x=\"266.22\" y=\"-599.86\" font-family=\"Helvetica,sans-Serif\" font-size=\"14.00\">False</text>\n",
       "</g>\n",
       "<!-- 3 -->\n",
       "<g id=\"node4\" class=\"node\">\n",
       "<title>3</title>\n",
       "<polygon fill=\"#3ee684\" stroke=\"black\" points=\"282.88,-453.5 109.38,-453.5 109.38,-363 282.88,-363 282.88,-453.5\"/>\n",
       "<text text-anchor=\"middle\" x=\"196.12\" y=\"-436.2\" font-family=\"Helvetica,sans-Serif\" font-size=\"14.00\">petal length (cm) &lt;= 5.25</text>\n",
       "<text text-anchor=\"middle\" x=\"196.12\" y=\"-419.7\" font-family=\"Helvetica,sans-Serif\" font-size=\"14.00\">gini = 0.051</text>\n",
       "<text text-anchor=\"middle\" x=\"196.12\" y=\"-403.2\" font-family=\"Helvetica,sans-Serif\" font-size=\"14.00\">samples = 38</text>\n",
       "<text text-anchor=\"middle\" x=\"196.12\" y=\"-386.7\" font-family=\"Helvetica,sans-Serif\" font-size=\"14.00\">value = [0, 37, 1]</text>\n",
       "<text text-anchor=\"middle\" x=\"196.12\" y=\"-370.2\" font-family=\"Helvetica,sans-Serif\" font-size=\"14.00\">class = versicolor</text>\n",
       "</g>\n",
       "<!-- 2&#45;&gt;3 -->\n",
       "<g id=\"edge3\" class=\"edge\">\n",
       "<title>2&#45;&gt;3</title>\n",
       "<path fill=\"none\" stroke=\"black\" d=\"M256.45,-489.15C249.97,-480.57 243.13,-471.5 236.46,-462.67\"/>\n",
       "<polygon fill=\"black\" stroke=\"black\" points=\"238.7,-460.82 229.88,-454.95 233.11,-465.04 238.7,-460.82\"/>\n",
       "</g>\n",
       "<!-- 6 -->\n",
       "<g id=\"node7\" class=\"node\">\n",
       "<title>6</title>\n",
       "<polygon fill=\"#8b49e7\" stroke=\"black\" points=\"468.88,-453.5 301.38,-453.5 301.38,-363 468.88,-363 468.88,-453.5\"/>\n",
       "<text text-anchor=\"middle\" x=\"385.12\" y=\"-436.2\" font-family=\"Helvetica,sans-Serif\" font-size=\"14.00\">petal width (cm) &lt;= 1.75</text>\n",
       "<text text-anchor=\"middle\" x=\"385.12\" y=\"-419.7\" font-family=\"Helvetica,sans-Serif\" font-size=\"14.00\">gini = 0.136</text>\n",
       "<text text-anchor=\"middle\" x=\"385.12\" y=\"-403.2\" font-family=\"Helvetica,sans-Serif\" font-size=\"14.00\">samples = 41</text>\n",
       "<text text-anchor=\"middle\" x=\"385.12\" y=\"-386.7\" font-family=\"Helvetica,sans-Serif\" font-size=\"14.00\">value = [0, 3, 38]</text>\n",
       "<text text-anchor=\"middle\" x=\"385.12\" y=\"-370.2\" font-family=\"Helvetica,sans-Serif\" font-size=\"14.00\">class = virginica</text>\n",
       "</g>\n",
       "<!-- 2&#45;&gt;6 -->\n",
       "<g id=\"edge6\" class=\"edge\">\n",
       "<title>2&#45;&gt;6</title>\n",
       "<path fill=\"none\" stroke=\"black\" d=\"M324.15,-489.15C330.7,-480.57 337.62,-471.5 344.36,-462.67\"/>\n",
       "<polygon fill=\"black\" stroke=\"black\" points=\"347.73,-465.03 351.01,-454.95 342.17,-460.78 347.73,-465.03\"/>\n",
       "</g>\n",
       "<!-- 4 -->\n",
       "<g id=\"node5\" class=\"node\">\n",
       "<title>4</title>\n",
       "<polygon fill=\"#39e581\" stroke=\"black\" points=\"126.25,-318.75 0,-318.75 0,-244.75 126.25,-244.75 126.25,-318.75\"/>\n",
       "<text text-anchor=\"middle\" x=\"63.12\" y=\"-301.45\" font-family=\"Helvetica,sans-Serif\" font-size=\"14.00\">gini = 0.0</text>\n",
       "<text text-anchor=\"middle\" x=\"63.12\" y=\"-284.95\" font-family=\"Helvetica,sans-Serif\" font-size=\"14.00\">samples = 37</text>\n",
       "<text text-anchor=\"middle\" x=\"63.12\" y=\"-268.45\" font-family=\"Helvetica,sans-Serif\" font-size=\"14.00\">value = [0, 37, 0]</text>\n",
       "<text text-anchor=\"middle\" x=\"63.12\" y=\"-251.95\" font-family=\"Helvetica,sans-Serif\" font-size=\"14.00\">class = versicolor</text>\n",
       "</g>\n",
       "<!-- 3&#45;&gt;4 -->\n",
       "<g id=\"edge4\" class=\"edge\">\n",
       "<title>3&#45;&gt;4</title>\n",
       "<path fill=\"none\" stroke=\"black\" d=\"M148.48,-362.65C135.77,-350.75 122.05,-337.91 109.41,-326.08\"/>\n",
       "<polygon fill=\"black\" stroke=\"black\" points=\"112.39,-324.13 102.7,-319.86 107.6,-329.25 112.39,-324.13\"/>\n",
       "</g>\n",
       "<!-- 5 -->\n",
       "<g id=\"node6\" class=\"node\">\n",
       "<title>5</title>\n",
       "<polygon fill=\"#8139e5\" stroke=\"black\" points=\"260,-318.75 144.25,-318.75 144.25,-244.75 260,-244.75 260,-318.75\"/>\n",
       "<text text-anchor=\"middle\" x=\"202.12\" y=\"-301.45\" font-family=\"Helvetica,sans-Serif\" font-size=\"14.00\">gini = 0.0</text>\n",
       "<text text-anchor=\"middle\" x=\"202.12\" y=\"-284.95\" font-family=\"Helvetica,sans-Serif\" font-size=\"14.00\">samples = 1</text>\n",
       "<text text-anchor=\"middle\" x=\"202.12\" y=\"-268.45\" font-family=\"Helvetica,sans-Serif\" font-size=\"14.00\">value = [0, 0, 1]</text>\n",
       "<text text-anchor=\"middle\" x=\"202.12\" y=\"-251.95\" font-family=\"Helvetica,sans-Serif\" font-size=\"14.00\">class = virginica</text>\n",
       "</g>\n",
       "<!-- 3&#45;&gt;5 -->\n",
       "<g id=\"edge5\" class=\"edge\">\n",
       "<title>3&#45;&gt;5</title>\n",
       "<path fill=\"none\" stroke=\"black\" d=\"M198.27,-362.65C198.79,-351.99 199.34,-340.56 199.86,-329.79\"/>\n",
       "<polygon fill=\"black\" stroke=\"black\" points=\"203.4,-330.01 200.38,-319.86 196.41,-329.68 203.4,-330.01\"/>\n",
       "</g>\n",
       "<!-- 7 -->\n",
       "<g id=\"node8\" class=\"node\">\n",
       "<title>7</title>\n",
       "<polygon fill=\"#ffffff\" stroke=\"black\" points=\"467.75,-327 290.5,-327 290.5,-236.5 467.75,-236.5 467.75,-327\"/>\n",
       "<text text-anchor=\"middle\" x=\"379.12\" y=\"-309.7\" font-family=\"Helvetica,sans-Serif\" font-size=\"14.00\">sepal length (cm) &lt;= 5.45</text>\n",
       "<text text-anchor=\"middle\" x=\"379.12\" y=\"-293.2\" font-family=\"Helvetica,sans-Serif\" font-size=\"14.00\">gini = 0.5</text>\n",
       "<text text-anchor=\"middle\" x=\"379.12\" y=\"-276.7\" font-family=\"Helvetica,sans-Serif\" font-size=\"14.00\">samples = 4</text>\n",
       "<text text-anchor=\"middle\" x=\"379.12\" y=\"-260.2\" font-family=\"Helvetica,sans-Serif\" font-size=\"14.00\">value = [0, 2, 2]</text>\n",
       "<text text-anchor=\"middle\" x=\"379.12\" y=\"-243.7\" font-family=\"Helvetica,sans-Serif\" font-size=\"14.00\">class = versicolor</text>\n",
       "</g>\n",
       "<!-- 6&#45;&gt;7 -->\n",
       "<g id=\"edge7\" class=\"edge\">\n",
       "<title>6&#45;&gt;7</title>\n",
       "<path fill=\"none\" stroke=\"black\" d=\"M382.98,-362.65C382.6,-354.79 382.2,-346.51 381.81,-338.39\"/>\n",
       "<polygon fill=\"black\" stroke=\"black\" points=\"385.26,-338.27 381.28,-328.45 378.26,-338.61 385.26,-338.27\"/>\n",
       "</g>\n",
       "<!-- 12 -->\n",
       "<g id=\"node13\" class=\"node\">\n",
       "<title>12</title>\n",
       "<polygon fill=\"#843ee6\" stroke=\"black\" points=\"658.88,-327 485.38,-327 485.38,-236.5 658.88,-236.5 658.88,-327\"/>\n",
       "<text text-anchor=\"middle\" x=\"572.12\" y=\"-309.7\" font-family=\"Helvetica,sans-Serif\" font-size=\"14.00\">petal length (cm) &lt;= 4.85</text>\n",
       "<text text-anchor=\"middle\" x=\"572.12\" y=\"-293.2\" font-family=\"Helvetica,sans-Serif\" font-size=\"14.00\">gini = 0.053</text>\n",
       "<text text-anchor=\"middle\" x=\"572.12\" y=\"-276.7\" font-family=\"Helvetica,sans-Serif\" font-size=\"14.00\">samples = 37</text>\n",
       "<text text-anchor=\"middle\" x=\"572.12\" y=\"-260.2\" font-family=\"Helvetica,sans-Serif\" font-size=\"14.00\">value = [0, 1, 36]</text>\n",
       "<text text-anchor=\"middle\" x=\"572.12\" y=\"-243.7\" font-family=\"Helvetica,sans-Serif\" font-size=\"14.00\">class = virginica</text>\n",
       "</g>\n",
       "<!-- 6&#45;&gt;12 -->\n",
       "<g id=\"edge12\" class=\"edge\">\n",
       "<title>6&#45;&gt;12</title>\n",
       "<path fill=\"none\" stroke=\"black\" d=\"M452.11,-362.65C466.34,-353.18 481.47,-343.11 496.01,-333.42\"/>\n",
       "<polygon fill=\"black\" stroke=\"black\" points=\"497.6,-335.91 503.98,-327.45 493.72,-330.08 497.6,-335.91\"/>\n",
       "</g>\n",
       "<!-- 8 -->\n",
       "<g id=\"node9\" class=\"node\">\n",
       "<title>8</title>\n",
       "<polygon fill=\"#8139e5\" stroke=\"black\" points=\"274,-192.25 158.25,-192.25 158.25,-118.25 274,-118.25 274,-192.25\"/>\n",
       "<text text-anchor=\"middle\" x=\"216.12\" y=\"-174.95\" font-family=\"Helvetica,sans-Serif\" font-size=\"14.00\">gini = 0.0</text>\n",
       "<text text-anchor=\"middle\" x=\"216.12\" y=\"-158.45\" font-family=\"Helvetica,sans-Serif\" font-size=\"14.00\">samples = 1</text>\n",
       "<text text-anchor=\"middle\" x=\"216.12\" y=\"-141.95\" font-family=\"Helvetica,sans-Serif\" font-size=\"14.00\">value = [0, 0, 1]</text>\n",
       "<text text-anchor=\"middle\" x=\"216.12\" y=\"-125.45\" font-family=\"Helvetica,sans-Serif\" font-size=\"14.00\">class = virginica</text>\n",
       "</g>\n",
       "<!-- 7&#45;&gt;8 -->\n",
       "<g id=\"edge8\" class=\"edge\">\n",
       "<title>7&#45;&gt;8</title>\n",
       "<path fill=\"none\" stroke=\"black\" d=\"M320.74,-236.15C304.94,-224.09 287.87,-211.05 272.2,-199.08\"/>\n",
       "<polygon fill=\"black\" stroke=\"black\" points=\"274.73,-195.84 264.66,-192.56 270.48,-201.41 274.73,-195.84\"/>\n",
       "</g>\n",
       "<!-- 9 -->\n",
       "<g id=\"node10\" class=\"node\">\n",
       "<title>9</title>\n",
       "<polygon fill=\"#9cf2c0\" stroke=\"black\" points=\"465.88,-200.5 292.38,-200.5 292.38,-110 465.88,-110 465.88,-200.5\"/>\n",
       "<text text-anchor=\"middle\" x=\"379.12\" y=\"-183.2\" font-family=\"Helvetica,sans-Serif\" font-size=\"14.00\">petal length (cm) &lt;= 5.45</text>\n",
       "<text text-anchor=\"middle\" x=\"379.12\" y=\"-166.7\" font-family=\"Helvetica,sans-Serif\" font-size=\"14.00\">gini = 0.444</text>\n",
       "<text text-anchor=\"middle\" x=\"379.12\" y=\"-150.2\" font-family=\"Helvetica,sans-Serif\" font-size=\"14.00\">samples = 3</text>\n",
       "<text text-anchor=\"middle\" x=\"379.12\" y=\"-133.7\" font-family=\"Helvetica,sans-Serif\" font-size=\"14.00\">value = [0, 2, 1]</text>\n",
       "<text text-anchor=\"middle\" x=\"379.12\" y=\"-117.2\" font-family=\"Helvetica,sans-Serif\" font-size=\"14.00\">class = versicolor</text>\n",
       "</g>\n",
       "<!-- 7&#45;&gt;9 -->\n",
       "<g id=\"edge9\" class=\"edge\">\n",
       "<title>7&#45;&gt;9</title>\n",
       "<path fill=\"none\" stroke=\"black\" d=\"M379.12,-236.15C379.12,-228.29 379.12,-220.01 379.12,-211.89\"/>\n",
       "<polygon fill=\"black\" stroke=\"black\" points=\"382.63,-211.95 379.12,-201.95 375.63,-211.95 382.63,-211.95\"/>\n",
       "</g>\n",
       "<!-- 10 -->\n",
       "<g id=\"node11\" class=\"node\">\n",
       "<title>10</title>\n",
       "<polygon fill=\"#39e581\" stroke=\"black\" points=\"316.25,-74 190,-74 190,0 316.25,0 316.25,-74\"/>\n",
       "<text text-anchor=\"middle\" x=\"253.12\" y=\"-56.7\" font-family=\"Helvetica,sans-Serif\" font-size=\"14.00\">gini = 0.0</text>\n",
       "<text text-anchor=\"middle\" x=\"253.12\" y=\"-40.2\" font-family=\"Helvetica,sans-Serif\" font-size=\"14.00\">samples = 2</text>\n",
       "<text text-anchor=\"middle\" x=\"253.12\" y=\"-23.7\" font-family=\"Helvetica,sans-Serif\" font-size=\"14.00\">value = [0, 2, 0]</text>\n",
       "<text text-anchor=\"middle\" x=\"253.12\" y=\"-7.2\" font-family=\"Helvetica,sans-Serif\" font-size=\"14.00\">class = versicolor</text>\n",
       "</g>\n",
       "<!-- 9&#45;&gt;10 -->\n",
       "<g id=\"edge10\" class=\"edge\">\n",
       "<title>9&#45;&gt;10</title>\n",
       "<path fill=\"none\" stroke=\"black\" d=\"M330.77,-109.64C320.8,-100.44 310.32,-90.77 300.39,-81.61\"/>\n",
       "<polygon fill=\"black\" stroke=\"black\" points=\"303.29,-79.6 293.57,-75.39 298.55,-84.75 303.29,-79.6\"/>\n",
       "</g>\n",
       "<!-- 11 -->\n",
       "<g id=\"node12\" class=\"node\">\n",
       "<title>11</title>\n",
       "<polygon fill=\"#8139e5\" stroke=\"black\" points=\"450,-74 334.25,-74 334.25,0 450,0 450,-74\"/>\n",
       "<text text-anchor=\"middle\" x=\"392.12\" y=\"-56.7\" font-family=\"Helvetica,sans-Serif\" font-size=\"14.00\">gini = 0.0</text>\n",
       "<text text-anchor=\"middle\" x=\"392.12\" y=\"-40.2\" font-family=\"Helvetica,sans-Serif\" font-size=\"14.00\">samples = 1</text>\n",
       "<text text-anchor=\"middle\" x=\"392.12\" y=\"-23.7\" font-family=\"Helvetica,sans-Serif\" font-size=\"14.00\">value = [0, 0, 1]</text>\n",
       "<text text-anchor=\"middle\" x=\"392.12\" y=\"-7.2\" font-family=\"Helvetica,sans-Serif\" font-size=\"14.00\">class = virginica</text>\n",
       "</g>\n",
       "<!-- 9&#45;&gt;11 -->\n",
       "<g id=\"edge11\" class=\"edge\">\n",
       "<title>9&#45;&gt;11</title>\n",
       "<path fill=\"none\" stroke=\"black\" d=\"M384.11,-109.64C385.01,-101.63 385.95,-93.25 386.85,-85.17\"/>\n",
       "<polygon fill=\"black\" stroke=\"black\" points=\"390.42,-85.72 388.06,-75.39 383.47,-84.94 390.42,-85.72\"/>\n",
       "</g>\n",
       "<!-- 13 -->\n",
       "<g id=\"node14\" class=\"node\">\n",
       "<title>13</title>\n",
       "<polygon fill=\"#c09cf2\" stroke=\"black\" points=\"660.75,-200.5 483.5,-200.5 483.5,-110 660.75,-110 660.75,-200.5\"/>\n",
       "<text text-anchor=\"middle\" x=\"572.12\" y=\"-183.2\" font-family=\"Helvetica,sans-Serif\" font-size=\"14.00\">sepal length (cm) &lt;= 5.95</text>\n",
       "<text text-anchor=\"middle\" x=\"572.12\" y=\"-166.7\" font-family=\"Helvetica,sans-Serif\" font-size=\"14.00\">gini = 0.444</text>\n",
       "<text text-anchor=\"middle\" x=\"572.12\" y=\"-150.2\" font-family=\"Helvetica,sans-Serif\" font-size=\"14.00\">samples = 3</text>\n",
       "<text text-anchor=\"middle\" x=\"572.12\" y=\"-133.7\" font-family=\"Helvetica,sans-Serif\" font-size=\"14.00\">value = [0, 1, 2]</text>\n",
       "<text text-anchor=\"middle\" x=\"572.12\" y=\"-117.2\" font-family=\"Helvetica,sans-Serif\" font-size=\"14.00\">class = virginica</text>\n",
       "</g>\n",
       "<!-- 12&#45;&gt;13 -->\n",
       "<g id=\"edge13\" class=\"edge\">\n",
       "<title>12&#45;&gt;13</title>\n",
       "<path fill=\"none\" stroke=\"black\" d=\"M572.12,-236.15C572.12,-228.29 572.12,-220.01 572.12,-211.89\"/>\n",
       "<polygon fill=\"black\" stroke=\"black\" points=\"575.63,-211.95 572.12,-201.95 568.63,-211.95 575.63,-211.95\"/>\n",
       "</g>\n",
       "<!-- 16 -->\n",
       "<g id=\"node17\" class=\"node\">\n",
       "<title>16</title>\n",
       "<polygon fill=\"#8139e5\" stroke=\"black\" points=\"799.25,-192.25 679,-192.25 679,-118.25 799.25,-118.25 799.25,-192.25\"/>\n",
       "<text text-anchor=\"middle\" x=\"739.12\" y=\"-174.95\" font-family=\"Helvetica,sans-Serif\" font-size=\"14.00\">gini = 0.0</text>\n",
       "<text text-anchor=\"middle\" x=\"739.12\" y=\"-158.45\" font-family=\"Helvetica,sans-Serif\" font-size=\"14.00\">samples = 34</text>\n",
       "<text text-anchor=\"middle\" x=\"739.12\" y=\"-141.95\" font-family=\"Helvetica,sans-Serif\" font-size=\"14.00\">value = [0, 0, 34]</text>\n",
       "<text text-anchor=\"middle\" x=\"739.12\" y=\"-125.45\" font-family=\"Helvetica,sans-Serif\" font-size=\"14.00\">class = virginica</text>\n",
       "</g>\n",
       "<!-- 12&#45;&gt;16 -->\n",
       "<g id=\"edge16\" class=\"edge\">\n",
       "<title>12&#45;&gt;16</title>\n",
       "<path fill=\"none\" stroke=\"black\" d=\"M631.94,-236.15C648.13,-224.09 665.62,-211.05 681.67,-199.08\"/>\n",
       "<polygon fill=\"black\" stroke=\"black\" points=\"683.5,-201.34 689.43,-192.56 679.32,-195.73 683.5,-201.34\"/>\n",
       "</g>\n",
       "<!-- 14 -->\n",
       "<g id=\"node15\" class=\"node\">\n",
       "<title>14</title>\n",
       "<polygon fill=\"#39e581\" stroke=\"black\" points=\"621.25,-74 495,-74 495,0 621.25,0 621.25,-74\"/>\n",
       "<text text-anchor=\"middle\" x=\"558.12\" y=\"-56.7\" font-family=\"Helvetica,sans-Serif\" font-size=\"14.00\">gini = 0.0</text>\n",
       "<text text-anchor=\"middle\" x=\"558.12\" y=\"-40.2\" font-family=\"Helvetica,sans-Serif\" font-size=\"14.00\">samples = 1</text>\n",
       "<text text-anchor=\"middle\" x=\"558.12\" y=\"-23.7\" font-family=\"Helvetica,sans-Serif\" font-size=\"14.00\">value = [0, 1, 0]</text>\n",
       "<text text-anchor=\"middle\" x=\"558.12\" y=\"-7.2\" font-family=\"Helvetica,sans-Serif\" font-size=\"14.00\">class = versicolor</text>\n",
       "</g>\n",
       "<!-- 13&#45;&gt;14 -->\n",
       "<g id=\"edge14\" class=\"edge\">\n",
       "<title>13&#45;&gt;14</title>\n",
       "<path fill=\"none\" stroke=\"black\" d=\"M566.75,-109.64C565.79,-101.63 564.78,-93.25 563.81,-85.17\"/>\n",
       "<polygon fill=\"black\" stroke=\"black\" points=\"567.18,-84.9 562.51,-75.39 560.23,-85.74 567.18,-84.9\"/>\n",
       "</g>\n",
       "<!-- 15 -->\n",
       "<g id=\"node16\" class=\"node\">\n",
       "<title>15</title>\n",
       "<polygon fill=\"#8139e5\" stroke=\"black\" points=\"755,-74 639.25,-74 639.25,0 755,0 755,-74\"/>\n",
       "<text text-anchor=\"middle\" x=\"697.12\" y=\"-56.7\" font-family=\"Helvetica,sans-Serif\" font-size=\"14.00\">gini = 0.0</text>\n",
       "<text text-anchor=\"middle\" x=\"697.12\" y=\"-40.2\" font-family=\"Helvetica,sans-Serif\" font-size=\"14.00\">samples = 2</text>\n",
       "<text text-anchor=\"middle\" x=\"697.12\" y=\"-23.7\" font-family=\"Helvetica,sans-Serif\" font-size=\"14.00\">value = [0, 0, 2]</text>\n",
       "<text text-anchor=\"middle\" x=\"697.12\" y=\"-7.2\" font-family=\"Helvetica,sans-Serif\" font-size=\"14.00\">class = virginica</text>\n",
       "</g>\n",
       "<!-- 13&#45;&gt;15 -->\n",
       "<g id=\"edge15\" class=\"edge\">\n",
       "<title>13&#45;&gt;15</title>\n",
       "<path fill=\"none\" stroke=\"black\" d=\"M620.1,-109.64C629.89,-100.53 640.18,-90.96 649.94,-81.88\"/>\n",
       "<polygon fill=\"black\" stroke=\"black\" points=\"652.05,-84.77 656.99,-75.39 647.29,-79.64 652.05,-84.77\"/>\n",
       "</g>\n",
       "</g>\n",
       "</svg>\n"
      ],
      "text/plain": [
       "<graphviz.sources.Source at 0x1e8f0155580>"
      ]
     },
     "execution_count": 6,
     "metadata": {},
     "output_type": "execute_result"
    }
   ],
   "source": [
    "#!pip install graphviz\n",
    "import graphviz\n",
    "with open(\"tree.dot\") as f:\n",
    "    dot_graph = f.read()\n",
    "graphviz.Source(dot_graph)"
   ]
  },
  {
   "cell_type": "code",
   "execution_count": 7,
   "id": "bdd403da",
   "metadata": {},
   "outputs": [
    {
     "data": {
      "text/plain": [
       "<BarContainer object of 4 artists>"
      ]
     },
     "execution_count": 7,
     "metadata": {},
     "output_type": "execute_result"
    },
    {
     "data": {
      "image/png": "[encoded data removed]",
      "text/plain": [
       "<Figure size 640x480 with 1 Axes>"
      ]
     },
     "metadata": {},
     "output_type": "display_data"
    }
   ],
   "source": [
    "import matplotlib.pyplot as plt\n",
    "plt.bar(iris.feature_names, dt_model.feature_importances_)"
   ]
  },
  {
   "cell_type": "code",
   "execution_count": null,
   "id": "afd63ef9",
   "metadata": {},
   "outputs": [],
   "source": []
  }
 ],
 "metadata": {
  "kernelspec": {
   "display_name": "Python 3 (ipykernel)",
   "language": "python",
   "name": "python3"
  },
  "language_info": {
   "codemirror_mode": {
    "name": "ipython",
    "version": 3
   },
   "file_extension": ".py",
   "mimetype": "text/x-python",
   "name": "python",
   "nbconvert_exporter": "python",
   "pygments_lexer": "ipython3",
   "version": "3.8.17"
  }
 },
 "nbformat": 4,
 "nbformat_minor": 5
}
