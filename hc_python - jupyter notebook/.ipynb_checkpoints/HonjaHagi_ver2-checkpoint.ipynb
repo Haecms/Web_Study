{
 "cells": [
  {
   "cell_type": "code",
   "execution_count": 2,
   "id": "758aea84",
   "metadata": {},
   "outputs": [],
   "source": [
    "from selenium import webdriver\n",
    "from selenium.webdriver.common.by import By\n",
    "from bs4 import BeautifulSoup\n",
    "import time\n",
    "import selenium"
   ]
  },
  {
   "cell_type": "code",
   "execution_count": 10,
   "id": "9e19ab64",
   "metadata": {},
   "outputs": [],
   "source": [
    "wd = webdriver.Chrome() # chromedriver.exe를 괄호 안에 적었어야 함\n",
    "url = \"https://map.kakao.com/\"\n",
    "wd.get(url) #파이썬 코드로 제어할 수 있는 커피빈 창이 열림\n",
    "searchbox=wd.find_element(By.ID,\"search.keyword.query\")\n",
    "searchbox.send_keys(\"부산대역 맛집\")\n",
    "searchbutton=wd.find_element(By.ID,\"search.keyword.submit\")\n",
    "wd.execute_script(\"arguments[0].click();\", searchbutton)\n",
    "time.sleep(2)\n",
    "radius_button=wd.find_element(By.CLASS_NAME,\"radius\")\n",
    "wd.execute_script(\"arguments[0].click();\", radius_button)\n",
    "time.sleep(1)"
   ]
  },
  {
   "cell_type": "code",
   "execution_count": 11,
   "id": "e4e36d9c",
   "metadata": {},
   "outputs": [
    {
     "ename": "ModuleNotFoundError",
     "evalue": "No module named 'pyautogui'",
     "output_type": "error",
     "traceback": [
      "\u001b[1;31m---------------------------------------------------------------------------\u001b[0m",
      "\u001b[1;31mModuleNotFoundError\u001b[0m                       Traceback (most recent call last)",
      "Cell \u001b[1;32mIn[11], line 1\u001b[0m\n\u001b[1;32m----> 1\u001b[0m \u001b[38;5;28;01mimport\u001b[39;00m \u001b[38;5;21;01mpyautogui\u001b[39;00m\n",
      "\u001b[1;31mModuleNotFoundError\u001b[0m: No module named 'pyautogui'"
     ]
    }
   ],
   "source": []
  },
  {
   "cell_type": "code",
   "execution_count": null,
   "id": "ed38e1e6",
   "metadata": {},
   "outputs": [],
   "source": []
  }
 ],
 "metadata": {
  "kernelspec": {
   "display_name": "Python 3 (ipykernel)",
   "language": "python",
   "name": "python3"
  },
  "language_info": {
   "codemirror_mode": {
    "name": "ipython",
    "version": 3
   },
   "file_extension": ".py",
   "mimetype": "text/x-python",
   "name": "python",
   "nbconvert_exporter": "python",
   "pygments_lexer": "ipython3",
   "version": "3.8.17"
  }
 },
 "nbformat": 4,
 "nbformat_minor": 5
}
